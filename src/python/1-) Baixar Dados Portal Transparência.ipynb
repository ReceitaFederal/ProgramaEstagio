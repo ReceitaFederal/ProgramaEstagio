{
 "cells": [
  {
   "cell_type": "markdown",
   "id": "09b1fd72-d0aa-45d5-8437-3a8fa31d8dd8",
   "metadata": {},
   "source": [
    "# Notebook para baixar os dados Siape do Portal da Transparência"
   ]
  },
  {
   "cell_type": "code",
   "execution_count": null,
   "id": "a3916b0a-332c-461a-b0f5-fa3e9038c594",
   "metadata": {},
   "outputs": [],
   "source": []
  }
 ],
 "metadata": {
  "kernelspec": {
   "display_name": "Python 3 (ipykernel)",
   "language": "python",
   "name": "python3"
  },
  "language_info": {
   "codemirror_mode": {
    "name": "ipython",
    "version": 3
   },
   "file_extension": ".py",
   "mimetype": "text/x-python",
   "name": "python",
   "nbconvert_exporter": "python",
   "pygments_lexer": "ipython3",
   "version": "3.10.12"
  }
 },
 "nbformat": 4,
 "nbformat_minor": 5
}

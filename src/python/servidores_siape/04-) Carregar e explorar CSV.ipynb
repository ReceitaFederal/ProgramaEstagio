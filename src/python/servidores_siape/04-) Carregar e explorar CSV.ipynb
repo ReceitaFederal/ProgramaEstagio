{
 "cells": [
  {
   "cell_type": "code",
   "execution_count": null,
   "id": "ce4c3b49-bbef-4a0a-bc30-c5c2a4999438",
   "metadata": {},
   "outputs": [],
   "source": [
    "import pandas as pd\n",
    "from IPython.display import display\n",
    "import plotly.express as px"
   ]
  },
  {
   "cell_type": "code",
   "execution_count": null,
   "id": "49159595-596c-4fcc-b063-568ffdfa9873",
   "metadata": {},
   "outputs": [],
   "source": [
    "pd.set_option('display.max_columns', None)\n",
    "pd.set_option('display.max_rows', None)"
   ]
  },
  {
   "cell_type": "code",
   "execution_count": null,
   "id": "1cc3fec2-3b39-408c-a013-4a037e784ac7",
   "metadata": {},
   "outputs": [],
   "source": [
    "# Especifique o caminho para o seu arquivo CSV\n",
    "caminho_arquivo = '../../dados/dados_siape_consolidado/organizacao_superior/cadastro_siape_consolidado_organizacao_superior_mes_ano_completo.csv'\n",
    "\n",
    "df = pd.read_csv(caminho_arquivo)\n",
    "\n",
    "df['ano_mes'] = df['ano'].astype(str) + '-' + df['mes'].astype(str).str.zfill(2)\n",
    "\n",
    "# Filtrar apenas os registros onde 'ESTAGIO' está presente na coluna 'REGIME_JURIDICO'\n",
    "df_estagio = df[df['REGIME_JURIDICO'].str.contains('ESTAGIO', case=False, na=False)]\n",
    "\n",
    "# Agrupe pelo REGIME_JURIDICO e ordene dentro de cada grupo pela coluna ESTAGIO\n",
    "df_agrupado_ordenado = df_estagio.sort_values(by=['Contagem'], ascending=False)\n",
    "\n",
    "# Exiba a tabela HTML usando a função display\n",
    "display(df_agrupado_ordenado)"
   ]
  },
  {
   "cell_type": "code",
   "execution_count": null,
   "id": "8bd7682b-6f5c-4c6b-958d-84e1dae8e4b9",
   "metadata": {},
   "outputs": [],
   "source": [
    "\n",
    "# Filtrar apenas os registros onde 'ESTAGIO' está presente na coluna 'REGIME_JURIDICO'\n",
    "df_estagio = df[df['REGIME_JURIDICO'].str.lower().str.contains('esta', case=False, na=False)]\n",
    "\n",
    "df_contagem_combinacoes = df_estagio.groupby(['ORGSUP_EXERCICIO','ano']).size().reset_index(name='Contagem')\n",
    "\n",
    "# Agrupe pelo REGIME_JURIDICO e ordene dentro de cada grupo pela coluna ESTAGIO\n",
    "df_agrupado_ordenado = df_contagem_combinacoes.sort_values(by=['ORGSUP_EXERCICIO', 'ano'])\n",
    "\n",
    "display(df_agrupado_ordenado.head(10))\n",
    "\n",
    "# Criar gráfico interativo de linha usando o Plotly Express\n",
    "fig = px.line(df_agrupado_ordenado, x='ano', y='Contagem', color='ORGSUP_EXERCICIO', markers=True, line_shape='linear',\n",
    "              title='Contagem por ORGSUP_EXERCICIO ao longo dos anos')\n",
    "\n",
    "fig.update_layout(width=1000, height=750)\n",
    "\n",
    "# Exibir gráfico\n",
    "fig.show()"
   ]
  },
  {
   "cell_type": "code",
   "execution_count": null,
   "id": "e45763d3-9d47-48fb-ba51-805a2c3ab8a5",
   "metadata": {},
   "outputs": [],
   "source": [
    "\n",
    "# Filtrar apenas os registros onde 'ESTAGIO' está presente na coluna 'REGIME_JURIDICO'\n",
    "df_estagio = df[df['REGIME_JURIDICO'].str.lower().str.contains('esta', case=False, na=False)]\n",
    "\n",
    "df_contagem_combinacoes = df_estagio.groupby(['ORGSUP_EXERCICIO','ano']).size().reset_index(name='Contagem')\n",
    "\n",
    "# Agrupe pelo REGIME_JURIDICO e ordene dentro de cada grupo pela coluna ESTAGIO\n",
    "df_agrupado_ordenado = df_contagem_combinacoes.sort_values(by=['ORGSUP_EXERCICIO', 'ano'])\n",
    "\n",
    "#display(df_agrupado_ordenado.head(10))\n",
    "\n",
    "# Criar gráfico interativo de linha usando o Plotly Express\n",
    "fig = px.line(df_agrupado_ordenado, x='ano', y='Contagem', color='ORGSUP_EXERCICIO', markers=True, line_shape='linear',\n",
    "              title='Contagem por ORGSUP_EXERCICIO ao longo dos anos')\n",
    "\n",
    "fig.update_layout(width=1000, height=750)\n",
    "\n",
    "# Exibir gráfico\n",
    "fig.show()"
   ]
  },
  {
   "cell_type": "code",
   "execution_count": null,
   "id": "f258fb32-67c7-4586-8bad-8dd57f43f941",
   "metadata": {},
   "outputs": [],
   "source": [
    "\n",
    "# Filtrar apenas os registros onde 'ESTAGIO' está presente na coluna 'REGIME_JURIDICO'\n",
    "df_estagio = df[df['REGIME_JURIDICO'].str.lower().str.contains('estagio', case=False, na=False) & (df['ano'] == 2022) & (df['mes'] == 5)]\n",
    "\n",
    "df_contagem_combinacoes = df_estagio.groupby(['ORGSUP_EXERCICIO'])['Contagem'].sum().reset_index()\n",
    "\n",
    "# Agrupe pelo REGIME_JURIDICO e ordene dentro de cada grupo pela coluna ESTAGIO\n",
    "#df_agrupado_ordenado = df_contagem_combinacoes.sort_values(by=['ORGSUP_EXERCICIO'])\n",
    "df_agrupado_ordenado = df_contagem_combinacoes.sort_values(by=['Contagem'], ascending=False)\n",
    "\n",
    "display(df_agrupado_ordenado)\n",
    "\n",
    "# Criar gráfico interativo de linha usando o Plotly Express\n",
    "fig = px.line(df_agrupado_ordenado, x='ORGSUP_EXERCICIO', y='Contagem', color='ORGSUP_EXERCICIO', markers=True, line_shape='linear',\n",
    "              title='Contagem por ORGSUP_EXERCICIO ao longo dos anos')\n",
    "\n",
    "fig.update_layout(width=1000, height=750)\n",
    "\n",
    "# Exibir gráfico\n",
    "fig.show()\n"
   ]
  },
  {
   "cell_type": "code",
   "execution_count": null,
   "id": "8a5849c0-85ad-4143-ab8b-6aeda833513c",
   "metadata": {},
   "outputs": [],
   "source": [
    "\n",
    "# Filtrar apenas os registros onde 'ESTAGIO' está presente na coluna 'REGIME_JURIDICO'\n",
    "df_estagio = df[df['REGIME_JURIDICO'].str.lower().str.contains('estagio', case=False, na=False)]\n",
    "\n",
    "df_contagem_combinacoes = df_estagio.groupby(['ORGSUP_EXERCICIO','ano_mes'])['Contagem'].sum().reset_index()\n",
    "\n",
    "# Agrupe pelo REGIME_JURIDICO e ordene dentro de cada grupo pela coluna ESTAGIO\n",
    "#df_agrupado_ordenado = df_contagem_combinacoes.sort_values(by=['ORGSUP_EXERCICIO'])\n",
    "df_agrupado_ordenado = df_contagem_combinacoes.sort_values(by=['ano_mes'], ascending=False)\n",
    "\n",
    "# Criar gráfico interativo de linha usando o Plotly Express\n",
    "fig = px.line(df_agrupado_ordenado, x='ano_mes', y='Contagem', color='ORGSUP_EXERCICIO', markers=True, line_shape='linear',\n",
    "              title='Contagem por ORGSUP_EXERCICIO ao longo dos anos')\n",
    "\n",
    "fig.update_layout(width=1000, height=750)\n",
    "\n",
    "# Exibir gráfico\n",
    "fig.show()\n"
   ]
  },
  {
   "cell_type": "code",
   "execution_count": null,
   "id": "6db0cb4b-ee2b-48f0-85b8-2110d6c7f1ef",
   "metadata": {},
   "outputs": [],
   "source": []
  },
  {
   "cell_type": "code",
   "execution_count": null,
   "id": "bd2756fd-6579-477c-9468-791c13d0399d",
   "metadata": {},
   "outputs": [],
   "source": [
    "# Especifique o caminho para o seu arquivo CSV\n",
    "caminho_arquivo = '../../dados/dados_siape_consolidado/cadastro_siape_consolidado_completo.csv'\n",
    "\n",
    "# Defina o número de linhas que você deseja ler (ajuste conforme necessário)\n",
    "numero_linhas_para_ler = 50\n",
    "\n",
    "# Leia um pedaço do arquivo para análise inicial\n",
    "df_completo = pd.read_csv(caminho_arquivo, nrows=numero_linhas_para_ler)\n",
    "\n",
    "# Filtrar apenas os registros onde 'ESTAGIO' está presente na coluna 'REGIME_JURIDICO'\n",
    "df_estagio = df_completo[df_completo['REGIME_JURIDICO'].str.contains('ESTAGIO', case=False, na=False)]\n",
    "\n",
    "# Exiba a tabela HTML usando a função display\n",
    "print(df_estagio)"
   ]
  },
  {
   "cell_type": "code",
   "execution_count": null,
   "id": "0ce9de45-5592-4aa8-ac59-cd8ffd1d37f0",
   "metadata": {},
   "outputs": [],
   "source": [
    "# ESSE CÓDIGO MOSTRA A TABELA COM TODAS AS LINHAS, APENAS COM OS REGISTROS DE ESTÁGIO\n",
    "\n",
    "# Especificar a quantidade de horas semanais desejada\n",
    "regime_juridico = 'ESTAGIO'\n",
    "\n",
    "# Especificar a empresa desejada\n",
    "empresa_desejada = 'MINISTÉRIO DA FAZENDA'  # Substitua pelo nome da empresa que você está interessado\n",
    "\n",
    "# Filtrar registros com a palavra ESTAGIO\n",
    "df_filtrado = df_completo[(df_completo['REGIME_JURIDICO'].str.contains(regime_juridico, case=False, na=False))]\n",
    "\n",
    "# Exibir a nova tabela filtrada\n",
    "display(\"Registros de estágio na empresa específica:\")\n",
    "display(df_filtrado)"
   ]
  },
  {
   "cell_type": "code",
   "execution_count": null,
   "id": "a41e7ee7-7899-4028-b345-b5cc2e2a4601",
   "metadata": {},
   "outputs": [],
   "source": [
    "df_consolidado_estagio_ano = df[df[\"REGIME_JURIDICO\"].str.contains(\"ESTAG\")].value_counts(\"ano\")"
   ]
  },
  {
   "cell_type": "code",
   "execution_count": null,
   "id": "d7a0140c-ec4c-41b8-a406-101e57755059",
   "metadata": {},
   "outputs": [],
   "source": [
    "# Filtrar apenas os registros onde 'ESTAGIO' está presente na coluna 'REGIME_JURIDICO'\n",
    "df_estagio = df[df['REGIME_JURIDICO'].str.lower().str.contains('regime juridico unico', case=False, na=False)]\n",
    "\n",
    "df_contagem_combinacoes = df_estagio.groupby(['ORGSUP_EXERCICIO','REGIME_JURIDICO']).size().reset_index(name='Contagem')\n",
    "\n",
    "# Agrupe pelo REGIME_JURIDICO e ordene dentro de cada grupo pela coluna ESTAGIO\n",
    "df_agrupado_ordenado = df_contagem_combinacoes.sort_values(by=['ORGSUP_EXERCICIO', 'REGIME_JURIDICO'])\n",
    "\n",
    "display(df_agrupado_ordenado.head(10))\n",
    "\n",
    "'''# Criar gráfico interativo de linha usando o Plotly Express\n",
    "fig = px.line(df_agrupado_ordenado, x='ano', y='Contagem', color='ORGSUP_EXERCICIO', markers=True, line_shape='linear',\n",
    "              title='Contagem por ORGSUP_EXERCICIO ao longo dos anos')\n",
    "\n",
    "fig.update_layout(width=1000, height=750)\n",
    "\n",
    "# Exibir gráfico\n",
    "fig.show()'''"
   ]
  }
 ],
 "metadata": {
  "kernelspec": {
   "display_name": "Python 3 (ipykernel)",
   "language": "python",
   "name": "python3"
  },
  "language_info": {
   "codemirror_mode": {
    "name": "ipython",
    "version": 3
   },
   "file_extension": ".py",
   "mimetype": "text/x-python",
   "name": "python",
   "nbconvert_exporter": "python",
   "pygments_lexer": "ipython3",
   "version": "3.12.3"
  }
 },
 "nbformat": 4,
 "nbformat_minor": 5
}

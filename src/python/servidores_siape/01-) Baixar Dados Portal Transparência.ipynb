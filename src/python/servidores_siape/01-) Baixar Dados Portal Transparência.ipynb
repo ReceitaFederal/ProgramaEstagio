{
 "cells": [
  {
   "cell_type": "markdown",
   "id": "09b1fd72-d0aa-45d5-8437-3a8fa31d8dd8",
   "metadata": {},
   "source": [
    "# Notebook para baixar os dados Siape do Portal da Transparência"
   ]
  },
  {
   "cell_type": "markdown",
   "id": "e73b93f1-bfc1-4ea7-88b5-03a7a0ec7a5c",
   "metadata": {},
   "source": [
    "* https://dadosabertos-download.cgu.gov.br/PortalDaTransparencia/saida/servidores/202309_Servidores_SIAPE.zip\n"
   ]
  },
  {
   "cell_type": "code",
   "execution_count": 1,
   "id": "16cb4158-aba4-476a-a01a-2b2fba63ade1",
   "metadata": {},
   "outputs": [],
   "source": [
    "import os\n",
    "import requests\n",
    "from tqdm import tqdm  # Esta biblioteca exibe uma barra de progresso durante o download"
   ]
  },
  {
   "cell_type": "code",
   "execution_count": 3,
   "id": "6ddc869d-acd6-4314-9374-63ec09b19dae",
   "metadata": {},
   "outputs": [],
   "source": [
    "response = requests.get(\"https://portaldatransparencia.gov.br/download-de-dados/servidores/202405_Servidores_SIAPE\")"
   ]
  },
  {
   "cell_type": "code",
   "execution_count": 14,
   "id": "b3aab2f3-d7b3-4e65-8b77-75b7b7597e7e",
   "metadata": {},
   "outputs": [],
   "source": [
    "resposta = requests.get(\"https://rfbgov.sharepoint.com/sites/intranet/SitePages/Processos-de-Trabalho.aspx\", stream=False)"
   ]
  },
  {
   "cell_type": "code",
   "execution_count": 15,
   "id": "d4cb0138-87f8-46b0-8ceb-1636eb45232a",
   "metadata": {},
   "outputs": [
    {
     "data": {
      "text/plain": [
       "403"
      ]
     },
     "metadata": {},
     "output_type": "display_data"
    }
   ],
   "source": [
    "display (resposta.status_code)"
   ]
  },
  {
   "cell_type": "code",
   "execution_count": 4,
   "id": "1f6455d3-c913-4ef8-b36a-ec15b1bed4cd",
   "metadata": {},
   "outputs": [
    {
     "data": {
      "text/plain": [
       "200"
      ]
     },
     "metadata": {},
     "output_type": "display_data"
    }
   ],
   "source": [
    "display (response.status_code)"
   ]
  },
  {
   "cell_type": "code",
   "execution_count": null,
   "id": "fb1f7052-8388-4a47-967b-34dd47ccf5bf",
   "metadata": {},
   "outputs": [],
   "source": [
    "# import os\n",
    "\n",
    "#diretorio_atual = os.getcwd()\n",
    "#print(\"Diretório Atual:\", diretorio_atual)"
   ]
  },
  {
   "cell_type": "markdown",
   "id": "c3566d0e-e6cb-4f7e-a762-c0fa285a206a",
   "metadata": {},
   "source": [
    "* Caminho absoluto: /var/dados/dados_siape_bruto\n",
    "\n",
    "* Caminho relativo: ../../dados/dados_siape_bruto"
   ]
  },
  {
   "cell_type": "code",
   "execution_count": 8,
   "id": "c10ddde2-0b1f-4ad3-9331-34de10bad5a3",
   "metadata": {},
   "outputs": [],
   "source": [
    "def baixar_arquivo_siape(url, arquivo_destino):\n",
    "\n",
    "    # Verifica se o arquivo já existe no diretório\n",
    "    if os.path.exists(arquivo_destino):\n",
    "        print(f'O arquivo {arquivo_destino} já existe. Pulando o download.')\n",
    "    else:    \n",
    "        # Faça a solicitação GET para o URL sem usar stream (download completo de uma vez)\n",
    "        response = requests.get(url, stream=True)\n",
    "        \n",
    "        # Certifique-se de que a solicitação foi bem-sucedida (código de status 200)\n",
    "        if response.status_code == 200:\n",
    "            \n",
    "            # Abra o arquivo local para escrita binária\n",
    "            with (\n",
    "                open(arquivo_destino, 'wb') as file, \n",
    "            \n",
    "                tqdm(desc=\"Downloading\",\n",
    "                    total=int(response.headers['content-length']),\n",
    "                    unit='B',\n",
    "                    unit_scale=True,\n",
    "                    unit_divisor=1024) as bar\n",
    "                ):\n",
    "                \n",
    "                # Itera sobre os dados em partes e escreve no arquivo local\n",
    "                for data in response.iter_content(chunk_size=1024):\n",
    "                    file.write(data)\n",
    "                    bar.update(len(data))\n",
    "        else:\n",
    "            print(f\"Erro ao baixar o arquivo. Código de status: {response.status_code}\")"
   ]
  },
  {
   "cell_type": "code",
   "execution_count": 10,
   "id": "cb4c3ec0-6054-414e-bbe2-162828ef0542",
   "metadata": {},
   "outputs": [
    {
     "data": {
      "text/plain": [
       "'Fazendo download do arquivo: 201301_Servidores_SIAPE.zip referente à 1 de 2013'"
      ]
     },
     "metadata": {},
     "output_type": "display_data"
    },
    {
     "data": {
      "text/plain": [
       "'        url download: https://dadosabertos-download.cgu.gov.br/PortalDaTransparencia/saida/servidores/201301_Servidores_SIAPE.zip'"
      ]
     },
     "metadata": {},
     "output_type": "display_data"
    },
    {
     "data": {
      "text/plain": [
       "''"
      ]
     },
     "metadata": {},
     "output_type": "display_data"
    },
    {
     "name": "stderr",
     "output_type": "stream",
     "text": [
      "Downloading: 100%|████████████████████████████████████████████████████████████████| 75.5M/75.5M [00:04<00:00, 18.2MB/s]\n"
     ]
    },
    {
     "data": {
      "text/plain": [
       "'Fazendo download do arquivo: 201302_Servidores_SIAPE.zip referente à 2 de 2013'"
      ]
     },
     "metadata": {},
     "output_type": "display_data"
    },
    {
     "data": {
      "text/plain": [
       "'        url download: https://dadosabertos-download.cgu.gov.br/PortalDaTransparencia/saida/servidores/201302_Servidores_SIAPE.zip'"
      ]
     },
     "metadata": {},
     "output_type": "display_data"
    },
    {
     "data": {
      "text/plain": [
       "''"
      ]
     },
     "metadata": {},
     "output_type": "display_data"
    },
    {
     "name": "stderr",
     "output_type": "stream",
     "text": [
      "Downloading: 100%|████████████████████████████████████████████████████████████████| 74.4M/74.4M [00:04<00:00, 17.7MB/s]\n"
     ]
    },
    {
     "data": {
      "text/plain": [
       "'Fazendo download do arquivo: 201303_Servidores_SIAPE.zip referente à 3 de 2013'"
      ]
     },
     "metadata": {},
     "output_type": "display_data"
    },
    {
     "data": {
      "text/plain": [
       "'        url download: https://dadosabertos-download.cgu.gov.br/PortalDaTransparencia/saida/servidores/201303_Servidores_SIAPE.zip'"
      ]
     },
     "metadata": {},
     "output_type": "display_data"
    },
    {
     "data": {
      "text/plain": [
       "''"
      ]
     },
     "metadata": {},
     "output_type": "display_data"
    },
    {
     "name": "stderr",
     "output_type": "stream",
     "text": [
      "Downloading: 100%|████████████████████████████████████████████████████████████████| 74.8M/74.8M [00:04<00:00, 18.3MB/s]\n"
     ]
    },
    {
     "data": {
      "text/plain": [
       "'Fazendo download do arquivo: 201304_Servidores_SIAPE.zip referente à 4 de 2013'"
      ]
     },
     "metadata": {},
     "output_type": "display_data"
    },
    {
     "data": {
      "text/plain": [
       "'        url download: https://dadosabertos-download.cgu.gov.br/PortalDaTransparencia/saida/servidores/201304_Servidores_SIAPE.zip'"
      ]
     },
     "metadata": {},
     "output_type": "display_data"
    },
    {
     "data": {
      "text/plain": [
       "''"
      ]
     },
     "metadata": {},
     "output_type": "display_data"
    },
    {
     "name": "stderr",
     "output_type": "stream",
     "text": [
      "Downloading: 100%|████████████████████████████████████████████████████████████████| 74.5M/74.5M [00:04<00:00, 18.1MB/s]\n"
     ]
    },
    {
     "data": {
      "text/plain": [
       "'Fazendo download do arquivo: 201305_Servidores_SIAPE.zip referente à 5 de 2013'"
      ]
     },
     "metadata": {},
     "output_type": "display_data"
    },
    {
     "data": {
      "text/plain": [
       "'        url download: https://dadosabertos-download.cgu.gov.br/PortalDaTransparencia/saida/servidores/201305_Servidores_SIAPE.zip'"
      ]
     },
     "metadata": {},
     "output_type": "display_data"
    },
    {
     "data": {
      "text/plain": [
       "''"
      ]
     },
     "metadata": {},
     "output_type": "display_data"
    },
    {
     "name": "stderr",
     "output_type": "stream",
     "text": [
      "Downloading: 100%|████████████████████████████████████████████████████████████████| 74.8M/74.8M [00:04<00:00, 17.7MB/s]\n"
     ]
    },
    {
     "data": {
      "text/plain": [
       "'Fazendo download do arquivo: 201306_Servidores_SIAPE.zip referente à 6 de 2013'"
      ]
     },
     "metadata": {},
     "output_type": "display_data"
    },
    {
     "data": {
      "text/plain": [
       "'        url download: https://dadosabertos-download.cgu.gov.br/PortalDaTransparencia/saida/servidores/201306_Servidores_SIAPE.zip'"
      ]
     },
     "metadata": {},
     "output_type": "display_data"
    },
    {
     "data": {
      "text/plain": [
       "''"
      ]
     },
     "metadata": {},
     "output_type": "display_data"
    },
    {
     "name": "stderr",
     "output_type": "stream",
     "text": [
      "Downloading: 100%|████████████████████████████████████████████████████████████████| 76.5M/76.5M [00:04<00:00, 18.4MB/s]\n"
     ]
    },
    {
     "data": {
      "text/plain": [
       "'Fazendo download do arquivo: 201307_Servidores_SIAPE.zip referente à 7 de 2013'"
      ]
     },
     "metadata": {},
     "output_type": "display_data"
    },
    {
     "data": {
      "text/plain": [
       "'        url download: https://dadosabertos-download.cgu.gov.br/PortalDaTransparencia/saida/servidores/201307_Servidores_SIAPE.zip'"
      ]
     },
     "metadata": {},
     "output_type": "display_data"
    },
    {
     "data": {
      "text/plain": [
       "''"
      ]
     },
     "metadata": {},
     "output_type": "display_data"
    },
    {
     "name": "stderr",
     "output_type": "stream",
     "text": [
      "Downloading: 100%|████████████████████████████████████████████████████████████████| 75.6M/75.6M [00:04<00:00, 17.6MB/s]\n"
     ]
    },
    {
     "data": {
      "text/plain": [
       "'Fazendo download do arquivo: 201308_Servidores_SIAPE.zip referente à 8 de 2013'"
      ]
     },
     "metadata": {},
     "output_type": "display_data"
    },
    {
     "data": {
      "text/plain": [
       "'        url download: https://dadosabertos-download.cgu.gov.br/PortalDaTransparencia/saida/servidores/201308_Servidores_SIAPE.zip'"
      ]
     },
     "metadata": {},
     "output_type": "display_data"
    },
    {
     "data": {
      "text/plain": [
       "''"
      ]
     },
     "metadata": {},
     "output_type": "display_data"
    },
    {
     "name": "stderr",
     "output_type": "stream",
     "text": [
      "Downloading: 100%|████████████████████████████████████████████████████████████████| 75.9M/75.9M [00:04<00:00, 17.8MB/s]\n"
     ]
    },
    {
     "data": {
      "text/plain": [
       "'Fazendo download do arquivo: 201309_Servidores_SIAPE.zip referente à 9 de 2013'"
      ]
     },
     "metadata": {},
     "output_type": "display_data"
    },
    {
     "data": {
      "text/plain": [
       "'        url download: https://dadosabertos-download.cgu.gov.br/PortalDaTransparencia/saida/servidores/201309_Servidores_SIAPE.zip'"
      ]
     },
     "metadata": {},
     "output_type": "display_data"
    },
    {
     "data": {
      "text/plain": [
       "''"
      ]
     },
     "metadata": {},
     "output_type": "display_data"
    },
    {
     "name": "stderr",
     "output_type": "stream",
     "text": [
      "Downloading: 100%|████████████████████████████████████████████████████████████████| 75.9M/75.9M [00:04<00:00, 18.2MB/s]\n"
     ]
    },
    {
     "data": {
      "text/plain": [
       "'Fazendo download do arquivo: 201310_Servidores_SIAPE.zip referente à 10 de 2013'"
      ]
     },
     "metadata": {},
     "output_type": "display_data"
    },
    {
     "data": {
      "text/plain": [
       "'        url download: https://dadosabertos-download.cgu.gov.br/PortalDaTransparencia/saida/servidores/201310_Servidores_SIAPE.zip'"
      ]
     },
     "metadata": {},
     "output_type": "display_data"
    },
    {
     "data": {
      "text/plain": [
       "''"
      ]
     },
     "metadata": {},
     "output_type": "display_data"
    },
    {
     "name": "stderr",
     "output_type": "stream",
     "text": [
      "Downloading: 100%|████████████████████████████████████████████████████████████████| 76.3M/76.3M [00:04<00:00, 18.4MB/s]\n"
     ]
    },
    {
     "data": {
      "text/plain": [
       "'Fazendo download do arquivo: 201311_Servidores_SIAPE.zip referente à 11 de 2013'"
      ]
     },
     "metadata": {},
     "output_type": "display_data"
    },
    {
     "data": {
      "text/plain": [
       "'        url download: https://dadosabertos-download.cgu.gov.br/PortalDaTransparencia/saida/servidores/201311_Servidores_SIAPE.zip'"
      ]
     },
     "metadata": {},
     "output_type": "display_data"
    },
    {
     "data": {
      "text/plain": [
       "''"
      ]
     },
     "metadata": {},
     "output_type": "display_data"
    },
    {
     "name": "stderr",
     "output_type": "stream",
     "text": [
      "Downloading: 100%|████████████████████████████████████████████████████████████████| 79.8M/79.8M [00:04<00:00, 18.0MB/s]\n"
     ]
    },
    {
     "data": {
      "text/plain": [
       "'Fazendo download do arquivo: 201312_Servidores_SIAPE.zip referente à 12 de 2013'"
      ]
     },
     "metadata": {},
     "output_type": "display_data"
    },
    {
     "data": {
      "text/plain": [
       "'        url download: https://dadosabertos-download.cgu.gov.br/PortalDaTransparencia/saida/servidores/201312_Servidores_SIAPE.zip'"
      ]
     },
     "metadata": {},
     "output_type": "display_data"
    },
    {
     "data": {
      "text/plain": [
       "''"
      ]
     },
     "metadata": {},
     "output_type": "display_data"
    },
    {
     "name": "stderr",
     "output_type": "stream",
     "text": [
      "Downloading: 100%|████████████████████████████████████████████████████████████████| 78.5M/78.5M [00:05<00:00, 15.8MB/s]\n"
     ]
    },
    {
     "data": {
      "text/plain": [
       "'Fazendo download do arquivo: 201401_Servidores_SIAPE.zip referente à 1 de 2014'"
      ]
     },
     "metadata": {},
     "output_type": "display_data"
    },
    {
     "data": {
      "text/plain": [
       "'        url download: https://dadosabertos-download.cgu.gov.br/PortalDaTransparencia/saida/servidores/201401_Servidores_SIAPE.zip'"
      ]
     },
     "metadata": {},
     "output_type": "display_data"
    },
    {
     "data": {
      "text/plain": [
       "''"
      ]
     },
     "metadata": {},
     "output_type": "display_data"
    },
    {
     "name": "stderr",
     "output_type": "stream",
     "text": [
      "Downloading:  14%|████████▉                                                       | 10.8M/77.5M [00:00<00:03, 17.7MB/s]\n"
     ]
    },
    {
     "ename": "KeyboardInterrupt",
     "evalue": "",
     "output_type": "error",
     "traceback": [
      "\u001b[1;31m---------------------------------------------------------------------------\u001b[0m",
      "\u001b[1;31mKeyboardInterrupt\u001b[0m                         Traceback (most recent call last)",
      "Cell \u001b[1;32mIn[10], line 21\u001b[0m\n\u001b[0;32m     17\u001b[0m             display(\u001b[38;5;124mf\u001b[39m\u001b[38;5;124m'\u001b[39m\u001b[38;5;124m'\u001b[39m)\n\u001b[0;32m     19\u001b[0m             baixar_arquivo_siape(url_download, arquivo_destino)\n\u001b[1;32m---> 21\u001b[0m fazer_download_arquivos_siape()\n",
      "Cell \u001b[1;32mIn[10], line 19\u001b[0m, in \u001b[0;36mfazer_download_arquivos_siape\u001b[1;34m()\u001b[0m\n\u001b[0;32m     16\u001b[0m display(\u001b[38;5;124mf\u001b[39m\u001b[38;5;124m'\u001b[39m\u001b[38;5;124m        url download: \u001b[39m\u001b[38;5;132;01m{\u001b[39;00murl_download\u001b[38;5;132;01m}\u001b[39;00m\u001b[38;5;124m'\u001b[39m)\n\u001b[0;32m     17\u001b[0m display(\u001b[38;5;124mf\u001b[39m\u001b[38;5;124m'\u001b[39m\u001b[38;5;124m'\u001b[39m)\n\u001b[1;32m---> 19\u001b[0m baixar_arquivo_siape(url_download, arquivo_destino)\n",
      "Cell \u001b[1;32mIn[8], line 26\u001b[0m, in \u001b[0;36mbaixar_arquivo_siape\u001b[1;34m(url, arquivo_destino)\u001b[0m\n\u001b[0;32m     14\u001b[0m     \u001b[38;5;28;01mwith\u001b[39;00m (\n\u001b[0;32m     15\u001b[0m         \u001b[38;5;28mopen\u001b[39m(arquivo_destino, \u001b[38;5;124m'\u001b[39m\u001b[38;5;124mwb\u001b[39m\u001b[38;5;124m'\u001b[39m) \u001b[38;5;28;01mas\u001b[39;00m file, \n\u001b[0;32m     16\u001b[0m     \n\u001b[1;32m   (...)\u001b[0m\n\u001b[0;32m     23\u001b[0m         \n\u001b[0;32m     24\u001b[0m         \u001b[38;5;66;03m# Itera sobre os dados em partes e escreve no arquivo local\u001b[39;00m\n\u001b[0;32m     25\u001b[0m         \u001b[38;5;28;01mfor\u001b[39;00m data \u001b[38;5;129;01min\u001b[39;00m response\u001b[38;5;241m.\u001b[39miter_content(chunk_size\u001b[38;5;241m=\u001b[39m\u001b[38;5;241m1024\u001b[39m):\n\u001b[1;32m---> 26\u001b[0m             file\u001b[38;5;241m.\u001b[39mwrite(data)\n\u001b[0;32m     27\u001b[0m             bar\u001b[38;5;241m.\u001b[39mupdate(\u001b[38;5;28mlen\u001b[39m(data))\n\u001b[0;32m     28\u001b[0m \u001b[38;5;28;01melse\u001b[39;00m:\n",
      "\u001b[1;31mKeyboardInterrupt\u001b[0m: "
     ]
    }
   ],
   "source": [
    "def fazer_download_arquivos_siape():\n",
    "    \n",
    "    url_base = 'https://dadosabertos-download.cgu.gov.br/PortalDaTransparencia/saida/servidores'\n",
    "    pasta_destino = '../../dados/dados_siape_bruto'\n",
    "    \n",
    "    for ano in range(2013, 2024):    \n",
    "        \n",
    "        for mes in range(1, 13):\n",
    "    \n",
    "            nome_arquivo = f'{ano}{mes:0>{2}}_Servidores_SIAPE.zip'             \n",
    "            \n",
    "            url_download = f'{url_base}/{nome_arquivo}'\n",
    "            arquivo_destino = f'{pasta_destino}/{nome_arquivo}'\n",
    "            \n",
    "            display(f'Fazendo download do arquivo: {nome_arquivo} referente à {mes} de {ano}')\n",
    "            display(f'        url download: {url_download}')\n",
    "            display(f'')\n",
    "            \n",
    "            baixar_arquivo_siape(url_download, arquivo_destino)\n",
    "    \n",
    "fazer_download_arquivos_siape()"
   ]
  }
 ],
 "metadata": {
  "kernelspec": {
   "display_name": "Python 3 (ipykernel)",
   "language": "python",
   "name": "python3"
  },
  "language_info": {
   "codemirror_mode": {
    "name": "ipython",
    "version": 3
   },
   "file_extension": ".py",
   "mimetype": "text/x-python",
   "name": "python",
   "nbconvert_exporter": "python",
   "pygments_lexer": "ipython3",
   "version": "3.11.7"
  }
 },
 "nbformat": 4,
 "nbformat_minor": 5
}

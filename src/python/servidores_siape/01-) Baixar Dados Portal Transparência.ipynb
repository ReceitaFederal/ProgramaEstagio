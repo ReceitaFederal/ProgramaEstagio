{
 "cells": [
  {
   "cell_type": "markdown",
   "id": "09b1fd72-d0aa-45d5-8437-3a8fa31d8dd8",
   "metadata": {},
   "source": [
    "# Notebook para baixar os dados Siape do Portal da Transparência"
   ]
  },
  {
   "cell_type": "markdown",
   "id": "e73b93f1-bfc1-4ea7-88b5-03a7a0ec7a5c",
   "metadata": {},
   "source": [
    "* https://dadosabertos-download.cgu.gov.br/PortalDaTransparencia/saida/servidores/202309_Servidores_SIAPE.zip\n"
   ]
  },
  {
   "cell_type": "code",
   "execution_count": 3,
   "id": "16cb4158-aba4-476a-a01a-2b2fba63ade1",
   "metadata": {},
   "outputs": [],
   "source": [
    "import os\n",
    "import requests\n",
    "from tqdm import tqdm  # Esta biblioteca exibe uma barra de progresso durante o download"
   ]
  },
  {
   "cell_type": "code",
   "execution_count": 2,
   "id": "ab124e46-887f-48d8-a188-69dd2696928d",
   "metadata": {},
   "outputs": [
    {
     "name": "stdout",
     "output_type": "stream",
     "text": [
      "Defaulting to user installation because normal site-packages is not writeable\n",
      "Collecting tqdm\n",
      "  Downloading tqdm-4.67.1-py3-none-any.whl (78 kB)\n",
      "\u001b[2K     \u001b[38;2;114;156;31m━━━━━━━━━━━━━━━━━━━━━━━━━━━━━━━━━━━━━━━━\u001b[0m \u001b[32m78.5/78.5 KB\u001b[0m \u001b[31m1.3 MB/s\u001b[0m eta \u001b[36m0:00:00\u001b[0m[31m4.2 MB/s\u001b[0m eta \u001b[36m0:00:01\u001b[0m\n",
      "\u001b[?25hInstalling collected packages: tqdm\n",
      "\u001b[33m  WARNING: The script tqdm is installed in '/home/bonafe/.local/bin' which is not on PATH.\n",
      "  Consider adding this directory to PATH or, if you prefer to suppress this warning, use --no-warn-script-location.\u001b[0m\u001b[33m\n",
      "\u001b[0mSuccessfully installed tqdm-4.67.1\n",
      "Note: you may need to restart the kernel to use updated packages.\n"
     ]
    }
   ],
   "source": [
    "pip install tqdm"
   ]
  },
  {
   "cell_type": "code",
   "execution_count": 4,
   "id": "6ddc869d-acd6-4314-9374-63ec09b19dae",
   "metadata": {},
   "outputs": [],
   "source": [
    "response = requests.get(\"https://portaldatransparencia.gov.br/download-de-dados/servidores/202405_Servidores_SIAPE\")"
   ]
  },
  {
   "cell_type": "code",
   "execution_count": 14,
   "id": "b3aab2f3-d7b3-4e65-8b77-75b7b7597e7e",
   "metadata": {},
   "outputs": [],
   "source": [
    "resposta = requests.get(\"https://rfbgov.sharepoint.com/sites/intranet/SitePages/Processos-de-Trabalho.aspx\", stream=False)"
   ]
  },
  {
   "cell_type": "code",
   "execution_count": 15,
   "id": "d4cb0138-87f8-46b0-8ceb-1636eb45232a",
   "metadata": {},
   "outputs": [
    {
     "data": {
      "text/plain": [
       "403"
      ]
     },
     "metadata": {},
     "output_type": "display_data"
    }
   ],
   "source": [
    "display (resposta.status_code)"
   ]
  },
  {
   "cell_type": "code",
   "execution_count": 5,
   "id": "1f6455d3-c913-4ef8-b36a-ec15b1bed4cd",
   "metadata": {},
   "outputs": [
    {
     "data": {
      "text/plain": [
       "200"
      ]
     },
     "metadata": {},
     "output_type": "display_data"
    }
   ],
   "source": [
    "display (response.status_code)"
   ]
  },
  {
   "cell_type": "code",
   "execution_count": null,
   "id": "fb1f7052-8388-4a47-967b-34dd47ccf5bf",
   "metadata": {},
   "outputs": [],
   "source": [
    "# import os\n",
    "\n",
    "#diretorio_atual = os.getcwd()\n",
    "#print(\"Diretório Atual:\", diretorio_atual)"
   ]
  },
  {
   "cell_type": "markdown",
   "id": "c3566d0e-e6cb-4f7e-a762-c0fa285a206a",
   "metadata": {},
   "source": [
    "* Caminho absoluto: /var/dados/dados_siape_bruto\n",
    "\n",
    "* Caminho relativo: ../../dados/dados_siape_bruto"
   ]
  },
  {
   "cell_type": "code",
   "execution_count": 6,
   "id": "c10ddde2-0b1f-4ad3-9331-34de10bad5a3",
   "metadata": {},
   "outputs": [],
   "source": [
    "def baixar_arquivo_siape(url, arquivo_destino):\n",
    "\n",
    "    # Verifica se o arquivo já existe no diretório\n",
    "    if os.path.exists(arquivo_destino):\n",
    "        print(f'O arquivo {arquivo_destino} já existe. Pulando o download.')\n",
    "    else:    \n",
    "        # Faça a solicitação GET para o URL sem usar stream (download completo de uma vez)\n",
    "        response = requests.get(url, stream=True)\n",
    "        \n",
    "        # Certifique-se de que a solicitação foi bem-sucedida (código de status 200)\n",
    "        if response.status_code == 200:\n",
    "            \n",
    "            # Abra o arquivo local para escrita binária\n",
    "            with (\n",
    "                open(arquivo_destino, 'wb') as file, \n",
    "            \n",
    "                tqdm(desc=\"Downloading\",\n",
    "                    total=int(response.headers['content-length']),\n",
    "                    unit='B',\n",
    "                    unit_scale=True,\n",
    "                    unit_divisor=1024) as bar\n",
    "                ):\n",
    "                \n",
    "                # Itera sobre os dados em partes e escreve no arquivo local\n",
    "                for data in response.iter_content(chunk_size=1024):\n",
    "                    file.write(data)\n",
    "                    bar.update(len(data))\n",
    "        else:\n",
    "            print(f\"Erro ao baixar o arquivo. Código de status: {response.status_code}\")"
   ]
  },
  {
   "cell_type": "code",
   "execution_count": 10,
   "id": "cb4c3ec0-6054-414e-bbe2-162828ef0542",
   "metadata": {},
   "outputs": [
    {
     "data": {
      "text/plain": [
       "'Fazendo download do arquivo: 201301_Servidores_SIAPE.zip referente à 1 de 2013'"
      ]
     },
     "metadata": {},
     "output_type": "display_data"
    },
    {
     "data": {
      "text/plain": [
       "'        url download: https://dadosabertos-download.cgu.gov.br/PortalDaTransparencia/saida/servidores/201301_Servidores_SIAPE.zip'"
      ]
     },
     "metadata": {},
     "output_type": "display_data"
    },
    {
     "data": {
      "text/plain": [
       "''"
      ]
     },
     "metadata": {},
     "output_type": "display_data"
    },
    {
     "name": "stdout",
     "output_type": "stream",
     "text": [
      "O arquivo ../../../dados/dados_siape_bruto/201301_Servidores_SIAPE.zip já existe. Pulando o download.\n"
     ]
    },
    {
     "data": {
      "text/plain": [
       "'Fazendo download do arquivo: 201302_Servidores_SIAPE.zip referente à 2 de 2013'"
      ]
     },
     "metadata": {},
     "output_type": "display_data"
    },
    {
     "data": {
      "text/plain": [
       "'        url download: https://dadosabertos-download.cgu.gov.br/PortalDaTransparencia/saida/servidores/201302_Servidores_SIAPE.zip'"
      ]
     },
     "metadata": {},
     "output_type": "display_data"
    },
    {
     "data": {
      "text/plain": [
       "''"
      ]
     },
     "metadata": {},
     "output_type": "display_data"
    },
    {
     "name": "stdout",
     "output_type": "stream",
     "text": [
      "O arquivo ../../../dados/dados_siape_bruto/201302_Servidores_SIAPE.zip já existe. Pulando o download.\n"
     ]
    },
    {
     "data": {
      "text/plain": [
       "'Fazendo download do arquivo: 201303_Servidores_SIAPE.zip referente à 3 de 2013'"
      ]
     },
     "metadata": {},
     "output_type": "display_data"
    },
    {
     "data": {
      "text/plain": [
       "'        url download: https://dadosabertos-download.cgu.gov.br/PortalDaTransparencia/saida/servidores/201303_Servidores_SIAPE.zip'"
      ]
     },
     "metadata": {},
     "output_type": "display_data"
    },
    {
     "data": {
      "text/plain": [
       "''"
      ]
     },
     "metadata": {},
     "output_type": "display_data"
    },
    {
     "name": "stdout",
     "output_type": "stream",
     "text": [
      "O arquivo ../../../dados/dados_siape_bruto/201303_Servidores_SIAPE.zip já existe. Pulando o download.\n"
     ]
    },
    {
     "data": {
      "text/plain": [
       "'Fazendo download do arquivo: 201304_Servidores_SIAPE.zip referente à 4 de 2013'"
      ]
     },
     "metadata": {},
     "output_type": "display_data"
    },
    {
     "data": {
      "text/plain": [
       "'        url download: https://dadosabertos-download.cgu.gov.br/PortalDaTransparencia/saida/servidores/201304_Servidores_SIAPE.zip'"
      ]
     },
     "metadata": {},
     "output_type": "display_data"
    },
    {
     "data": {
      "text/plain": [
       "''"
      ]
     },
     "metadata": {},
     "output_type": "display_data"
    },
    {
     "name": "stdout",
     "output_type": "stream",
     "text": [
      "O arquivo ../../../dados/dados_siape_bruto/201304_Servidores_SIAPE.zip já existe. Pulando o download.\n"
     ]
    },
    {
     "data": {
      "text/plain": [
       "'Fazendo download do arquivo: 201305_Servidores_SIAPE.zip referente à 5 de 2013'"
      ]
     },
     "metadata": {},
     "output_type": "display_data"
    },
    {
     "data": {
      "text/plain": [
       "'        url download: https://dadosabertos-download.cgu.gov.br/PortalDaTransparencia/saida/servidores/201305_Servidores_SIAPE.zip'"
      ]
     },
     "metadata": {},
     "output_type": "display_data"
    },
    {
     "data": {
      "text/plain": [
       "''"
      ]
     },
     "metadata": {},
     "output_type": "display_data"
    },
    {
     "name": "stdout",
     "output_type": "stream",
     "text": [
      "O arquivo ../../../dados/dados_siape_bruto/201305_Servidores_SIAPE.zip já existe. Pulando o download.\n"
     ]
    },
    {
     "data": {
      "text/plain": [
       "'Fazendo download do arquivo: 201306_Servidores_SIAPE.zip referente à 6 de 2013'"
      ]
     },
     "metadata": {},
     "output_type": "display_data"
    },
    {
     "data": {
      "text/plain": [
       "'        url download: https://dadosabertos-download.cgu.gov.br/PortalDaTransparencia/saida/servidores/201306_Servidores_SIAPE.zip'"
      ]
     },
     "metadata": {},
     "output_type": "display_data"
    },
    {
     "data": {
      "text/plain": [
       "''"
      ]
     },
     "metadata": {},
     "output_type": "display_data"
    },
    {
     "name": "stdout",
     "output_type": "stream",
     "text": [
      "O arquivo ../../../dados/dados_siape_bruto/201306_Servidores_SIAPE.zip já existe. Pulando o download.\n"
     ]
    },
    {
     "data": {
      "text/plain": [
       "'Fazendo download do arquivo: 201307_Servidores_SIAPE.zip referente à 7 de 2013'"
      ]
     },
     "metadata": {},
     "output_type": "display_data"
    },
    {
     "data": {
      "text/plain": [
       "'        url download: https://dadosabertos-download.cgu.gov.br/PortalDaTransparencia/saida/servidores/201307_Servidores_SIAPE.zip'"
      ]
     },
     "metadata": {},
     "output_type": "display_data"
    },
    {
     "data": {
      "text/plain": [
       "''"
      ]
     },
     "metadata": {},
     "output_type": "display_data"
    },
    {
     "name": "stdout",
     "output_type": "stream",
     "text": [
      "O arquivo ../../../dados/dados_siape_bruto/201307_Servidores_SIAPE.zip já existe. Pulando o download.\n"
     ]
    },
    {
     "data": {
      "text/plain": [
       "'Fazendo download do arquivo: 201308_Servidores_SIAPE.zip referente à 8 de 2013'"
      ]
     },
     "metadata": {},
     "output_type": "display_data"
    },
    {
     "data": {
      "text/plain": [
       "'        url download: https://dadosabertos-download.cgu.gov.br/PortalDaTransparencia/saida/servidores/201308_Servidores_SIAPE.zip'"
      ]
     },
     "metadata": {},
     "output_type": "display_data"
    },
    {
     "data": {
      "text/plain": [
       "''"
      ]
     },
     "metadata": {},
     "output_type": "display_data"
    },
    {
     "name": "stdout",
     "output_type": "stream",
     "text": [
      "O arquivo ../../../dados/dados_siape_bruto/201308_Servidores_SIAPE.zip já existe. Pulando o download.\n"
     ]
    },
    {
     "data": {
      "text/plain": [
       "'Fazendo download do arquivo: 201309_Servidores_SIAPE.zip referente à 9 de 2013'"
      ]
     },
     "metadata": {},
     "output_type": "display_data"
    },
    {
     "data": {
      "text/plain": [
       "'        url download: https://dadosabertos-download.cgu.gov.br/PortalDaTransparencia/saida/servidores/201309_Servidores_SIAPE.zip'"
      ]
     },
     "metadata": {},
     "output_type": "display_data"
    },
    {
     "data": {
      "text/plain": [
       "''"
      ]
     },
     "metadata": {},
     "output_type": "display_data"
    },
    {
     "name": "stdout",
     "output_type": "stream",
     "text": [
      "O arquivo ../../../dados/dados_siape_bruto/201309_Servidores_SIAPE.zip já existe. Pulando o download.\n"
     ]
    },
    {
     "data": {
      "text/plain": [
       "'Fazendo download do arquivo: 201310_Servidores_SIAPE.zip referente à 10 de 2013'"
      ]
     },
     "metadata": {},
     "output_type": "display_data"
    },
    {
     "data": {
      "text/plain": [
       "'        url download: https://dadosabertos-download.cgu.gov.br/PortalDaTransparencia/saida/servidores/201310_Servidores_SIAPE.zip'"
      ]
     },
     "metadata": {},
     "output_type": "display_data"
    },
    {
     "data": {
      "text/plain": [
       "''"
      ]
     },
     "metadata": {},
     "output_type": "display_data"
    },
    {
     "name": "stdout",
     "output_type": "stream",
     "text": [
      "O arquivo ../../../dados/dados_siape_bruto/201310_Servidores_SIAPE.zip já existe. Pulando o download.\n"
     ]
    },
    {
     "data": {
      "text/plain": [
       "'Fazendo download do arquivo: 201311_Servidores_SIAPE.zip referente à 11 de 2013'"
      ]
     },
     "metadata": {},
     "output_type": "display_data"
    },
    {
     "data": {
      "text/plain": [
       "'        url download: https://dadosabertos-download.cgu.gov.br/PortalDaTransparencia/saida/servidores/201311_Servidores_SIAPE.zip'"
      ]
     },
     "metadata": {},
     "output_type": "display_data"
    },
    {
     "data": {
      "text/plain": [
       "''"
      ]
     },
     "metadata": {},
     "output_type": "display_data"
    },
    {
     "name": "stdout",
     "output_type": "stream",
     "text": [
      "O arquivo ../../../dados/dados_siape_bruto/201311_Servidores_SIAPE.zip já existe. Pulando o download.\n"
     ]
    },
    {
     "data": {
      "text/plain": [
       "'Fazendo download do arquivo: 201312_Servidores_SIAPE.zip referente à 12 de 2013'"
      ]
     },
     "metadata": {},
     "output_type": "display_data"
    },
    {
     "data": {
      "text/plain": [
       "'        url download: https://dadosabertos-download.cgu.gov.br/PortalDaTransparencia/saida/servidores/201312_Servidores_SIAPE.zip'"
      ]
     },
     "metadata": {},
     "output_type": "display_data"
    },
    {
     "data": {
      "text/plain": [
       "''"
      ]
     },
     "metadata": {},
     "output_type": "display_data"
    },
    {
     "name": "stdout",
     "output_type": "stream",
     "text": [
      "O arquivo ../../../dados/dados_siape_bruto/201312_Servidores_SIAPE.zip já existe. Pulando o download.\n"
     ]
    },
    {
     "data": {
      "text/plain": [
       "'Fazendo download do arquivo: 201401_Servidores_SIAPE.zip referente à 1 de 2014'"
      ]
     },
     "metadata": {},
     "output_type": "display_data"
    },
    {
     "data": {
      "text/plain": [
       "'        url download: https://dadosabertos-download.cgu.gov.br/PortalDaTransparencia/saida/servidores/201401_Servidores_SIAPE.zip'"
      ]
     },
     "metadata": {},
     "output_type": "display_data"
    },
    {
     "data": {
      "text/plain": [
       "''"
      ]
     },
     "metadata": {},
     "output_type": "display_data"
    },
    {
     "name": "stdout",
     "output_type": "stream",
     "text": [
      "O arquivo ../../../dados/dados_siape_bruto/201401_Servidores_SIAPE.zip já existe. Pulando o download.\n"
     ]
    },
    {
     "data": {
      "text/plain": [
       "'Fazendo download do arquivo: 201402_Servidores_SIAPE.zip referente à 2 de 2014'"
      ]
     },
     "metadata": {},
     "output_type": "display_data"
    },
    {
     "data": {
      "text/plain": [
       "'        url download: https://dadosabertos-download.cgu.gov.br/PortalDaTransparencia/saida/servidores/201402_Servidores_SIAPE.zip'"
      ]
     },
     "metadata": {},
     "output_type": "display_data"
    },
    {
     "data": {
      "text/plain": [
       "''"
      ]
     },
     "metadata": {},
     "output_type": "display_data"
    },
    {
     "name": "stdout",
     "output_type": "stream",
     "text": [
      "O arquivo ../../../dados/dados_siape_bruto/201402_Servidores_SIAPE.zip já existe. Pulando o download.\n"
     ]
    },
    {
     "data": {
      "text/plain": [
       "'Fazendo download do arquivo: 201403_Servidores_SIAPE.zip referente à 3 de 2014'"
      ]
     },
     "metadata": {},
     "output_type": "display_data"
    },
    {
     "data": {
      "text/plain": [
       "'        url download: https://dadosabertos-download.cgu.gov.br/PortalDaTransparencia/saida/servidores/201403_Servidores_SIAPE.zip'"
      ]
     },
     "metadata": {},
     "output_type": "display_data"
    },
    {
     "data": {
      "text/plain": [
       "''"
      ]
     },
     "metadata": {},
     "output_type": "display_data"
    },
    {
     "name": "stdout",
     "output_type": "stream",
     "text": [
      "O arquivo ../../../dados/dados_siape_bruto/201403_Servidores_SIAPE.zip já existe. Pulando o download.\n"
     ]
    },
    {
     "data": {
      "text/plain": [
       "'Fazendo download do arquivo: 201404_Servidores_SIAPE.zip referente à 4 de 2014'"
      ]
     },
     "metadata": {},
     "output_type": "display_data"
    },
    {
     "data": {
      "text/plain": [
       "'        url download: https://dadosabertos-download.cgu.gov.br/PortalDaTransparencia/saida/servidores/201404_Servidores_SIAPE.zip'"
      ]
     },
     "metadata": {},
     "output_type": "display_data"
    },
    {
     "data": {
      "text/plain": [
       "''"
      ]
     },
     "metadata": {},
     "output_type": "display_data"
    },
    {
     "name": "stdout",
     "output_type": "stream",
     "text": [
      "O arquivo ../../../dados/dados_siape_bruto/201404_Servidores_SIAPE.zip já existe. Pulando o download.\n"
     ]
    },
    {
     "data": {
      "text/plain": [
       "'Fazendo download do arquivo: 201405_Servidores_SIAPE.zip referente à 5 de 2014'"
      ]
     },
     "metadata": {},
     "output_type": "display_data"
    },
    {
     "data": {
      "text/plain": [
       "'        url download: https://dadosabertos-download.cgu.gov.br/PortalDaTransparencia/saida/servidores/201405_Servidores_SIAPE.zip'"
      ]
     },
     "metadata": {},
     "output_type": "display_data"
    },
    {
     "data": {
      "text/plain": [
       "''"
      ]
     },
     "metadata": {},
     "output_type": "display_data"
    },
    {
     "name": "stdout",
     "output_type": "stream",
     "text": [
      "O arquivo ../../../dados/dados_siape_bruto/201405_Servidores_SIAPE.zip já existe. Pulando o download.\n"
     ]
    },
    {
     "data": {
      "text/plain": [
       "'Fazendo download do arquivo: 201406_Servidores_SIAPE.zip referente à 6 de 2014'"
      ]
     },
     "metadata": {},
     "output_type": "display_data"
    },
    {
     "data": {
      "text/plain": [
       "'        url download: https://dadosabertos-download.cgu.gov.br/PortalDaTransparencia/saida/servidores/201406_Servidores_SIAPE.zip'"
      ]
     },
     "metadata": {},
     "output_type": "display_data"
    },
    {
     "data": {
      "text/plain": [
       "''"
      ]
     },
     "metadata": {},
     "output_type": "display_data"
    },
    {
     "name": "stdout",
     "output_type": "stream",
     "text": [
      "O arquivo ../../../dados/dados_siape_bruto/201406_Servidores_SIAPE.zip já existe. Pulando o download.\n"
     ]
    },
    {
     "data": {
      "text/plain": [
       "'Fazendo download do arquivo: 201407_Servidores_SIAPE.zip referente à 7 de 2014'"
      ]
     },
     "metadata": {},
     "output_type": "display_data"
    },
    {
     "data": {
      "text/plain": [
       "'        url download: https://dadosabertos-download.cgu.gov.br/PortalDaTransparencia/saida/servidores/201407_Servidores_SIAPE.zip'"
      ]
     },
     "metadata": {},
     "output_type": "display_data"
    },
    {
     "data": {
      "text/plain": [
       "''"
      ]
     },
     "metadata": {},
     "output_type": "display_data"
    },
    {
     "name": "stdout",
     "output_type": "stream",
     "text": [
      "O arquivo ../../../dados/dados_siape_bruto/201407_Servidores_SIAPE.zip já existe. Pulando o download.\n"
     ]
    },
    {
     "data": {
      "text/plain": [
       "'Fazendo download do arquivo: 201408_Servidores_SIAPE.zip referente à 8 de 2014'"
      ]
     },
     "metadata": {},
     "output_type": "display_data"
    },
    {
     "data": {
      "text/plain": [
       "'        url download: https://dadosabertos-download.cgu.gov.br/PortalDaTransparencia/saida/servidores/201408_Servidores_SIAPE.zip'"
      ]
     },
     "metadata": {},
     "output_type": "display_data"
    },
    {
     "data": {
      "text/plain": [
       "''"
      ]
     },
     "metadata": {},
     "output_type": "display_data"
    },
    {
     "name": "stdout",
     "output_type": "stream",
     "text": [
      "O arquivo ../../../dados/dados_siape_bruto/201408_Servidores_SIAPE.zip já existe. Pulando o download.\n"
     ]
    },
    {
     "data": {
      "text/plain": [
       "'Fazendo download do arquivo: 201409_Servidores_SIAPE.zip referente à 9 de 2014'"
      ]
     },
     "metadata": {},
     "output_type": "display_data"
    },
    {
     "data": {
      "text/plain": [
       "'        url download: https://dadosabertos-download.cgu.gov.br/PortalDaTransparencia/saida/servidores/201409_Servidores_SIAPE.zip'"
      ]
     },
     "metadata": {},
     "output_type": "display_data"
    },
    {
     "data": {
      "text/plain": [
       "''"
      ]
     },
     "metadata": {},
     "output_type": "display_data"
    },
    {
     "name": "stdout",
     "output_type": "stream",
     "text": [
      "O arquivo ../../../dados/dados_siape_bruto/201409_Servidores_SIAPE.zip já existe. Pulando o download.\n"
     ]
    },
    {
     "data": {
      "text/plain": [
       "'Fazendo download do arquivo: 201410_Servidores_SIAPE.zip referente à 10 de 2014'"
      ]
     },
     "metadata": {},
     "output_type": "display_data"
    },
    {
     "data": {
      "text/plain": [
       "'        url download: https://dadosabertos-download.cgu.gov.br/PortalDaTransparencia/saida/servidores/201410_Servidores_SIAPE.zip'"
      ]
     },
     "metadata": {},
     "output_type": "display_data"
    },
    {
     "data": {
      "text/plain": [
       "''"
      ]
     },
     "metadata": {},
     "output_type": "display_data"
    },
    {
     "name": "stdout",
     "output_type": "stream",
     "text": [
      "O arquivo ../../../dados/dados_siape_bruto/201410_Servidores_SIAPE.zip já existe. Pulando o download.\n"
     ]
    },
    {
     "data": {
      "text/plain": [
       "'Fazendo download do arquivo: 201411_Servidores_SIAPE.zip referente à 11 de 2014'"
      ]
     },
     "metadata": {},
     "output_type": "display_data"
    },
    {
     "data": {
      "text/plain": [
       "'        url download: https://dadosabertos-download.cgu.gov.br/PortalDaTransparencia/saida/servidores/201411_Servidores_SIAPE.zip'"
      ]
     },
     "metadata": {},
     "output_type": "display_data"
    },
    {
     "data": {
      "text/plain": [
       "''"
      ]
     },
     "metadata": {},
     "output_type": "display_data"
    },
    {
     "name": "stdout",
     "output_type": "stream",
     "text": [
      "O arquivo ../../../dados/dados_siape_bruto/201411_Servidores_SIAPE.zip já existe. Pulando o download.\n"
     ]
    },
    {
     "data": {
      "text/plain": [
       "'Fazendo download do arquivo: 201412_Servidores_SIAPE.zip referente à 12 de 2014'"
      ]
     },
     "metadata": {},
     "output_type": "display_data"
    },
    {
     "data": {
      "text/plain": [
       "'        url download: https://dadosabertos-download.cgu.gov.br/PortalDaTransparencia/saida/servidores/201412_Servidores_SIAPE.zip'"
      ]
     },
     "metadata": {},
     "output_type": "display_data"
    },
    {
     "data": {
      "text/plain": [
       "''"
      ]
     },
     "metadata": {},
     "output_type": "display_data"
    },
    {
     "name": "stdout",
     "output_type": "stream",
     "text": [
      "O arquivo ../../../dados/dados_siape_bruto/201412_Servidores_SIAPE.zip já existe. Pulando o download.\n"
     ]
    },
    {
     "data": {
      "text/plain": [
       "'Fazendo download do arquivo: 201501_Servidores_SIAPE.zip referente à 1 de 2015'"
      ]
     },
     "metadata": {},
     "output_type": "display_data"
    },
    {
     "data": {
      "text/plain": [
       "'        url download: https://dadosabertos-download.cgu.gov.br/PortalDaTransparencia/saida/servidores/201501_Servidores_SIAPE.zip'"
      ]
     },
     "metadata": {},
     "output_type": "display_data"
    },
    {
     "data": {
      "text/plain": [
       "''"
      ]
     },
     "metadata": {},
     "output_type": "display_data"
    },
    {
     "name": "stdout",
     "output_type": "stream",
     "text": [
      "O arquivo ../../../dados/dados_siape_bruto/201501_Servidores_SIAPE.zip já existe. Pulando o download.\n"
     ]
    },
    {
     "data": {
      "text/plain": [
       "'Fazendo download do arquivo: 201502_Servidores_SIAPE.zip referente à 2 de 2015'"
      ]
     },
     "metadata": {},
     "output_type": "display_data"
    },
    {
     "data": {
      "text/plain": [
       "'        url download: https://dadosabertos-download.cgu.gov.br/PortalDaTransparencia/saida/servidores/201502_Servidores_SIAPE.zip'"
      ]
     },
     "metadata": {},
     "output_type": "display_data"
    },
    {
     "data": {
      "text/plain": [
       "''"
      ]
     },
     "metadata": {},
     "output_type": "display_data"
    },
    {
     "name": "stdout",
     "output_type": "stream",
     "text": [
      "O arquivo ../../../dados/dados_siape_bruto/201502_Servidores_SIAPE.zip já existe. Pulando o download.\n"
     ]
    },
    {
     "data": {
      "text/plain": [
       "'Fazendo download do arquivo: 201503_Servidores_SIAPE.zip referente à 3 de 2015'"
      ]
     },
     "metadata": {},
     "output_type": "display_data"
    },
    {
     "data": {
      "text/plain": [
       "'        url download: https://dadosabertos-download.cgu.gov.br/PortalDaTransparencia/saida/servidores/201503_Servidores_SIAPE.zip'"
      ]
     },
     "metadata": {},
     "output_type": "display_data"
    },
    {
     "data": {
      "text/plain": [
       "''"
      ]
     },
     "metadata": {},
     "output_type": "display_data"
    },
    {
     "name": "stdout",
     "output_type": "stream",
     "text": [
      "O arquivo ../../../dados/dados_siape_bruto/201503_Servidores_SIAPE.zip já existe. Pulando o download.\n"
     ]
    },
    {
     "data": {
      "text/plain": [
       "'Fazendo download do arquivo: 201504_Servidores_SIAPE.zip referente à 4 de 2015'"
      ]
     },
     "metadata": {},
     "output_type": "display_data"
    },
    {
     "data": {
      "text/plain": [
       "'        url download: https://dadosabertos-download.cgu.gov.br/PortalDaTransparencia/saida/servidores/201504_Servidores_SIAPE.zip'"
      ]
     },
     "metadata": {},
     "output_type": "display_data"
    },
    {
     "data": {
      "text/plain": [
       "''"
      ]
     },
     "metadata": {},
     "output_type": "display_data"
    },
    {
     "name": "stdout",
     "output_type": "stream",
     "text": [
      "O arquivo ../../../dados/dados_siape_bruto/201504_Servidores_SIAPE.zip já existe. Pulando o download.\n"
     ]
    },
    {
     "data": {
      "text/plain": [
       "'Fazendo download do arquivo: 201505_Servidores_SIAPE.zip referente à 5 de 2015'"
      ]
     },
     "metadata": {},
     "output_type": "display_data"
    },
    {
     "data": {
      "text/plain": [
       "'        url download: https://dadosabertos-download.cgu.gov.br/PortalDaTransparencia/saida/servidores/201505_Servidores_SIAPE.zip'"
      ]
     },
     "metadata": {},
     "output_type": "display_data"
    },
    {
     "data": {
      "text/plain": [
       "''"
      ]
     },
     "metadata": {},
     "output_type": "display_data"
    },
    {
     "name": "stdout",
     "output_type": "stream",
     "text": [
      "O arquivo ../../../dados/dados_siape_bruto/201505_Servidores_SIAPE.zip já existe. Pulando o download.\n"
     ]
    },
    {
     "data": {
      "text/plain": [
       "'Fazendo download do arquivo: 201506_Servidores_SIAPE.zip referente à 6 de 2015'"
      ]
     },
     "metadata": {},
     "output_type": "display_data"
    },
    {
     "data": {
      "text/plain": [
       "'        url download: https://dadosabertos-download.cgu.gov.br/PortalDaTransparencia/saida/servidores/201506_Servidores_SIAPE.zip'"
      ]
     },
     "metadata": {},
     "output_type": "display_data"
    },
    {
     "data": {
      "text/plain": [
       "''"
      ]
     },
     "metadata": {},
     "output_type": "display_data"
    },
    {
     "name": "stdout",
     "output_type": "stream",
     "text": [
      "O arquivo ../../../dados/dados_siape_bruto/201506_Servidores_SIAPE.zip já existe. Pulando o download.\n"
     ]
    },
    {
     "data": {
      "text/plain": [
       "'Fazendo download do arquivo: 201507_Servidores_SIAPE.zip referente à 7 de 2015'"
      ]
     },
     "metadata": {},
     "output_type": "display_data"
    },
    {
     "data": {
      "text/plain": [
       "'        url download: https://dadosabertos-download.cgu.gov.br/PortalDaTransparencia/saida/servidores/201507_Servidores_SIAPE.zip'"
      ]
     },
     "metadata": {},
     "output_type": "display_data"
    },
    {
     "data": {
      "text/plain": [
       "''"
      ]
     },
     "metadata": {},
     "output_type": "display_data"
    },
    {
     "name": "stdout",
     "output_type": "stream",
     "text": [
      "O arquivo ../../../dados/dados_siape_bruto/201507_Servidores_SIAPE.zip já existe. Pulando o download.\n"
     ]
    },
    {
     "data": {
      "text/plain": [
       "'Fazendo download do arquivo: 201508_Servidores_SIAPE.zip referente à 8 de 2015'"
      ]
     },
     "metadata": {},
     "output_type": "display_data"
    },
    {
     "data": {
      "text/plain": [
       "'        url download: https://dadosabertos-download.cgu.gov.br/PortalDaTransparencia/saida/servidores/201508_Servidores_SIAPE.zip'"
      ]
     },
     "metadata": {},
     "output_type": "display_data"
    },
    {
     "data": {
      "text/plain": [
       "''"
      ]
     },
     "metadata": {},
     "output_type": "display_data"
    },
    {
     "name": "stdout",
     "output_type": "stream",
     "text": [
      "O arquivo ../../../dados/dados_siape_bruto/201508_Servidores_SIAPE.zip já existe. Pulando o download.\n"
     ]
    },
    {
     "data": {
      "text/plain": [
       "'Fazendo download do arquivo: 201509_Servidores_SIAPE.zip referente à 9 de 2015'"
      ]
     },
     "metadata": {},
     "output_type": "display_data"
    },
    {
     "data": {
      "text/plain": [
       "'        url download: https://dadosabertos-download.cgu.gov.br/PortalDaTransparencia/saida/servidores/201509_Servidores_SIAPE.zip'"
      ]
     },
     "metadata": {},
     "output_type": "display_data"
    },
    {
     "data": {
      "text/plain": [
       "''"
      ]
     },
     "metadata": {},
     "output_type": "display_data"
    },
    {
     "name": "stdout",
     "output_type": "stream",
     "text": [
      "O arquivo ../../../dados/dados_siape_bruto/201509_Servidores_SIAPE.zip já existe. Pulando o download.\n"
     ]
    },
    {
     "data": {
      "text/plain": [
       "'Fazendo download do arquivo: 201510_Servidores_SIAPE.zip referente à 10 de 2015'"
      ]
     },
     "metadata": {},
     "output_type": "display_data"
    },
    {
     "data": {
      "text/plain": [
       "'        url download: https://dadosabertos-download.cgu.gov.br/PortalDaTransparencia/saida/servidores/201510_Servidores_SIAPE.zip'"
      ]
     },
     "metadata": {},
     "output_type": "display_data"
    },
    {
     "data": {
      "text/plain": [
       "''"
      ]
     },
     "metadata": {},
     "output_type": "display_data"
    },
    {
     "name": "stdout",
     "output_type": "stream",
     "text": [
      "O arquivo ../../../dados/dados_siape_bruto/201510_Servidores_SIAPE.zip já existe. Pulando o download.\n"
     ]
    },
    {
     "data": {
      "text/plain": [
       "'Fazendo download do arquivo: 201511_Servidores_SIAPE.zip referente à 11 de 2015'"
      ]
     },
     "metadata": {},
     "output_type": "display_data"
    },
    {
     "data": {
      "text/plain": [
       "'        url download: https://dadosabertos-download.cgu.gov.br/PortalDaTransparencia/saida/servidores/201511_Servidores_SIAPE.zip'"
      ]
     },
     "metadata": {},
     "output_type": "display_data"
    },
    {
     "data": {
      "text/plain": [
       "''"
      ]
     },
     "metadata": {},
     "output_type": "display_data"
    },
    {
     "name": "stdout",
     "output_type": "stream",
     "text": [
      "O arquivo ../../../dados/dados_siape_bruto/201511_Servidores_SIAPE.zip já existe. Pulando o download.\n"
     ]
    },
    {
     "data": {
      "text/plain": [
       "'Fazendo download do arquivo: 201512_Servidores_SIAPE.zip referente à 12 de 2015'"
      ]
     },
     "metadata": {},
     "output_type": "display_data"
    },
    {
     "data": {
      "text/plain": [
       "'        url download: https://dadosabertos-download.cgu.gov.br/PortalDaTransparencia/saida/servidores/201512_Servidores_SIAPE.zip'"
      ]
     },
     "metadata": {},
     "output_type": "display_data"
    },
    {
     "data": {
      "text/plain": [
       "''"
      ]
     },
     "metadata": {},
     "output_type": "display_data"
    },
    {
     "name": "stdout",
     "output_type": "stream",
     "text": [
      "O arquivo ../../../dados/dados_siape_bruto/201512_Servidores_SIAPE.zip já existe. Pulando o download.\n"
     ]
    },
    {
     "data": {
      "text/plain": [
       "'Fazendo download do arquivo: 201601_Servidores_SIAPE.zip referente à 1 de 2016'"
      ]
     },
     "metadata": {},
     "output_type": "display_data"
    },
    {
     "data": {
      "text/plain": [
       "'        url download: https://dadosabertos-download.cgu.gov.br/PortalDaTransparencia/saida/servidores/201601_Servidores_SIAPE.zip'"
      ]
     },
     "metadata": {},
     "output_type": "display_data"
    },
    {
     "data": {
      "text/plain": [
       "''"
      ]
     },
     "metadata": {},
     "output_type": "display_data"
    },
    {
     "name": "stdout",
     "output_type": "stream",
     "text": [
      "O arquivo ../../../dados/dados_siape_bruto/201601_Servidores_SIAPE.zip já existe. Pulando o download.\n"
     ]
    },
    {
     "data": {
      "text/plain": [
       "'Fazendo download do arquivo: 201602_Servidores_SIAPE.zip referente à 2 de 2016'"
      ]
     },
     "metadata": {},
     "output_type": "display_data"
    },
    {
     "data": {
      "text/plain": [
       "'        url download: https://dadosabertos-download.cgu.gov.br/PortalDaTransparencia/saida/servidores/201602_Servidores_SIAPE.zip'"
      ]
     },
     "metadata": {},
     "output_type": "display_data"
    },
    {
     "data": {
      "text/plain": [
       "''"
      ]
     },
     "metadata": {},
     "output_type": "display_data"
    },
    {
     "name": "stdout",
     "output_type": "stream",
     "text": [
      "O arquivo ../../../dados/dados_siape_bruto/201602_Servidores_SIAPE.zip já existe. Pulando o download.\n"
     ]
    },
    {
     "data": {
      "text/plain": [
       "'Fazendo download do arquivo: 201603_Servidores_SIAPE.zip referente à 3 de 2016'"
      ]
     },
     "metadata": {},
     "output_type": "display_data"
    },
    {
     "data": {
      "text/plain": [
       "'        url download: https://dadosabertos-download.cgu.gov.br/PortalDaTransparencia/saida/servidores/201603_Servidores_SIAPE.zip'"
      ]
     },
     "metadata": {},
     "output_type": "display_data"
    },
    {
     "data": {
      "text/plain": [
       "''"
      ]
     },
     "metadata": {},
     "output_type": "display_data"
    },
    {
     "name": "stdout",
     "output_type": "stream",
     "text": [
      "O arquivo ../../../dados/dados_siape_bruto/201603_Servidores_SIAPE.zip já existe. Pulando o download.\n"
     ]
    },
    {
     "data": {
      "text/plain": [
       "'Fazendo download do arquivo: 201604_Servidores_SIAPE.zip referente à 4 de 2016'"
      ]
     },
     "metadata": {},
     "output_type": "display_data"
    },
    {
     "data": {
      "text/plain": [
       "'        url download: https://dadosabertos-download.cgu.gov.br/PortalDaTransparencia/saida/servidores/201604_Servidores_SIAPE.zip'"
      ]
     },
     "metadata": {},
     "output_type": "display_data"
    },
    {
     "data": {
      "text/plain": [
       "''"
      ]
     },
     "metadata": {},
     "output_type": "display_data"
    },
    {
     "name": "stdout",
     "output_type": "stream",
     "text": [
      "O arquivo ../../../dados/dados_siape_bruto/201604_Servidores_SIAPE.zip já existe. Pulando o download.\n"
     ]
    },
    {
     "data": {
      "text/plain": [
       "'Fazendo download do arquivo: 201605_Servidores_SIAPE.zip referente à 5 de 2016'"
      ]
     },
     "metadata": {},
     "output_type": "display_data"
    },
    {
     "data": {
      "text/plain": [
       "'        url download: https://dadosabertos-download.cgu.gov.br/PortalDaTransparencia/saida/servidores/201605_Servidores_SIAPE.zip'"
      ]
     },
     "metadata": {},
     "output_type": "display_data"
    },
    {
     "data": {
      "text/plain": [
       "''"
      ]
     },
     "metadata": {},
     "output_type": "display_data"
    },
    {
     "name": "stdout",
     "output_type": "stream",
     "text": [
      "O arquivo ../../../dados/dados_siape_bruto/201605_Servidores_SIAPE.zip já existe. Pulando o download.\n"
     ]
    },
    {
     "data": {
      "text/plain": [
       "'Fazendo download do arquivo: 201606_Servidores_SIAPE.zip referente à 6 de 2016'"
      ]
     },
     "metadata": {},
     "output_type": "display_data"
    },
    {
     "data": {
      "text/plain": [
       "'        url download: https://dadosabertos-download.cgu.gov.br/PortalDaTransparencia/saida/servidores/201606_Servidores_SIAPE.zip'"
      ]
     },
     "metadata": {},
     "output_type": "display_data"
    },
    {
     "data": {
      "text/plain": [
       "''"
      ]
     },
     "metadata": {},
     "output_type": "display_data"
    },
    {
     "name": "stdout",
     "output_type": "stream",
     "text": [
      "O arquivo ../../../dados/dados_siape_bruto/201606_Servidores_SIAPE.zip já existe. Pulando o download.\n"
     ]
    },
    {
     "data": {
      "text/plain": [
       "'Fazendo download do arquivo: 201607_Servidores_SIAPE.zip referente à 7 de 2016'"
      ]
     },
     "metadata": {},
     "output_type": "display_data"
    },
    {
     "data": {
      "text/plain": [
       "'        url download: https://dadosabertos-download.cgu.gov.br/PortalDaTransparencia/saida/servidores/201607_Servidores_SIAPE.zip'"
      ]
     },
     "metadata": {},
     "output_type": "display_data"
    },
    {
     "data": {
      "text/plain": [
       "''"
      ]
     },
     "metadata": {},
     "output_type": "display_data"
    },
    {
     "name": "stdout",
     "output_type": "stream",
     "text": [
      "O arquivo ../../../dados/dados_siape_bruto/201607_Servidores_SIAPE.zip já existe. Pulando o download.\n"
     ]
    },
    {
     "data": {
      "text/plain": [
       "'Fazendo download do arquivo: 201608_Servidores_SIAPE.zip referente à 8 de 2016'"
      ]
     },
     "metadata": {},
     "output_type": "display_data"
    },
    {
     "data": {
      "text/plain": [
       "'        url download: https://dadosabertos-download.cgu.gov.br/PortalDaTransparencia/saida/servidores/201608_Servidores_SIAPE.zip'"
      ]
     },
     "metadata": {},
     "output_type": "display_data"
    },
    {
     "data": {
      "text/plain": [
       "''"
      ]
     },
     "metadata": {},
     "output_type": "display_data"
    },
    {
     "name": "stdout",
     "output_type": "stream",
     "text": [
      "O arquivo ../../../dados/dados_siape_bruto/201608_Servidores_SIAPE.zip já existe. Pulando o download.\n"
     ]
    },
    {
     "data": {
      "text/plain": [
       "'Fazendo download do arquivo: 201609_Servidores_SIAPE.zip referente à 9 de 2016'"
      ]
     },
     "metadata": {},
     "output_type": "display_data"
    },
    {
     "data": {
      "text/plain": [
       "'        url download: https://dadosabertos-download.cgu.gov.br/PortalDaTransparencia/saida/servidores/201609_Servidores_SIAPE.zip'"
      ]
     },
     "metadata": {},
     "output_type": "display_data"
    },
    {
     "data": {
      "text/plain": [
       "''"
      ]
     },
     "metadata": {},
     "output_type": "display_data"
    },
    {
     "name": "stdout",
     "output_type": "stream",
     "text": [
      "O arquivo ../../../dados/dados_siape_bruto/201609_Servidores_SIAPE.zip já existe. Pulando o download.\n"
     ]
    },
    {
     "data": {
      "text/plain": [
       "'Fazendo download do arquivo: 201610_Servidores_SIAPE.zip referente à 10 de 2016'"
      ]
     },
     "metadata": {},
     "output_type": "display_data"
    },
    {
     "data": {
      "text/plain": [
       "'        url download: https://dadosabertos-download.cgu.gov.br/PortalDaTransparencia/saida/servidores/201610_Servidores_SIAPE.zip'"
      ]
     },
     "metadata": {},
     "output_type": "display_data"
    },
    {
     "data": {
      "text/plain": [
       "''"
      ]
     },
     "metadata": {},
     "output_type": "display_data"
    },
    {
     "name": "stdout",
     "output_type": "stream",
     "text": [
      "O arquivo ../../../dados/dados_siape_bruto/201610_Servidores_SIAPE.zip já existe. Pulando o download.\n"
     ]
    },
    {
     "data": {
      "text/plain": [
       "'Fazendo download do arquivo: 201611_Servidores_SIAPE.zip referente à 11 de 2016'"
      ]
     },
     "metadata": {},
     "output_type": "display_data"
    },
    {
     "data": {
      "text/plain": [
       "'        url download: https://dadosabertos-download.cgu.gov.br/PortalDaTransparencia/saida/servidores/201611_Servidores_SIAPE.zip'"
      ]
     },
     "metadata": {},
     "output_type": "display_data"
    },
    {
     "data": {
      "text/plain": [
       "''"
      ]
     },
     "metadata": {},
     "output_type": "display_data"
    },
    {
     "name": "stdout",
     "output_type": "stream",
     "text": [
      "O arquivo ../../../dados/dados_siape_bruto/201611_Servidores_SIAPE.zip já existe. Pulando o download.\n"
     ]
    },
    {
     "data": {
      "text/plain": [
       "'Fazendo download do arquivo: 201612_Servidores_SIAPE.zip referente à 12 de 2016'"
      ]
     },
     "metadata": {},
     "output_type": "display_data"
    },
    {
     "data": {
      "text/plain": [
       "'        url download: https://dadosabertos-download.cgu.gov.br/PortalDaTransparencia/saida/servidores/201612_Servidores_SIAPE.zip'"
      ]
     },
     "metadata": {},
     "output_type": "display_data"
    },
    {
     "data": {
      "text/plain": [
       "''"
      ]
     },
     "metadata": {},
     "output_type": "display_data"
    },
    {
     "name": "stdout",
     "output_type": "stream",
     "text": [
      "O arquivo ../../../dados/dados_siape_bruto/201612_Servidores_SIAPE.zip já existe. Pulando o download.\n"
     ]
    },
    {
     "data": {
      "text/plain": [
       "'Fazendo download do arquivo: 201701_Servidores_SIAPE.zip referente à 1 de 2017'"
      ]
     },
     "metadata": {},
     "output_type": "display_data"
    },
    {
     "data": {
      "text/plain": [
       "'        url download: https://dadosabertos-download.cgu.gov.br/PortalDaTransparencia/saida/servidores/201701_Servidores_SIAPE.zip'"
      ]
     },
     "metadata": {},
     "output_type": "display_data"
    },
    {
     "data": {
      "text/plain": [
       "''"
      ]
     },
     "metadata": {},
     "output_type": "display_data"
    },
    {
     "name": "stdout",
     "output_type": "stream",
     "text": [
      "O arquivo ../../../dados/dados_siape_bruto/201701_Servidores_SIAPE.zip já existe. Pulando o download.\n"
     ]
    },
    {
     "data": {
      "text/plain": [
       "'Fazendo download do arquivo: 201702_Servidores_SIAPE.zip referente à 2 de 2017'"
      ]
     },
     "metadata": {},
     "output_type": "display_data"
    },
    {
     "data": {
      "text/plain": [
       "'        url download: https://dadosabertos-download.cgu.gov.br/PortalDaTransparencia/saida/servidores/201702_Servidores_SIAPE.zip'"
      ]
     },
     "metadata": {},
     "output_type": "display_data"
    },
    {
     "data": {
      "text/plain": [
       "''"
      ]
     },
     "metadata": {},
     "output_type": "display_data"
    },
    {
     "name": "stdout",
     "output_type": "stream",
     "text": [
      "O arquivo ../../../dados/dados_siape_bruto/201702_Servidores_SIAPE.zip já existe. Pulando o download.\n"
     ]
    },
    {
     "data": {
      "text/plain": [
       "'Fazendo download do arquivo: 201703_Servidores_SIAPE.zip referente à 3 de 2017'"
      ]
     },
     "metadata": {},
     "output_type": "display_data"
    },
    {
     "data": {
      "text/plain": [
       "'        url download: https://dadosabertos-download.cgu.gov.br/PortalDaTransparencia/saida/servidores/201703_Servidores_SIAPE.zip'"
      ]
     },
     "metadata": {},
     "output_type": "display_data"
    },
    {
     "data": {
      "text/plain": [
       "''"
      ]
     },
     "metadata": {},
     "output_type": "display_data"
    },
    {
     "name": "stdout",
     "output_type": "stream",
     "text": [
      "O arquivo ../../../dados/dados_siape_bruto/201703_Servidores_SIAPE.zip já existe. Pulando o download.\n"
     ]
    },
    {
     "data": {
      "text/plain": [
       "'Fazendo download do arquivo: 201704_Servidores_SIAPE.zip referente à 4 de 2017'"
      ]
     },
     "metadata": {},
     "output_type": "display_data"
    },
    {
     "data": {
      "text/plain": [
       "'        url download: https://dadosabertos-download.cgu.gov.br/PortalDaTransparencia/saida/servidores/201704_Servidores_SIAPE.zip'"
      ]
     },
     "metadata": {},
     "output_type": "display_data"
    },
    {
     "data": {
      "text/plain": [
       "''"
      ]
     },
     "metadata": {},
     "output_type": "display_data"
    },
    {
     "name": "stdout",
     "output_type": "stream",
     "text": [
      "O arquivo ../../../dados/dados_siape_bruto/201704_Servidores_SIAPE.zip já existe. Pulando o download.\n"
     ]
    },
    {
     "data": {
      "text/plain": [
       "'Fazendo download do arquivo: 201705_Servidores_SIAPE.zip referente à 5 de 2017'"
      ]
     },
     "metadata": {},
     "output_type": "display_data"
    },
    {
     "data": {
      "text/plain": [
       "'        url download: https://dadosabertos-download.cgu.gov.br/PortalDaTransparencia/saida/servidores/201705_Servidores_SIAPE.zip'"
      ]
     },
     "metadata": {},
     "output_type": "display_data"
    },
    {
     "data": {
      "text/plain": [
       "''"
      ]
     },
     "metadata": {},
     "output_type": "display_data"
    },
    {
     "name": "stdout",
     "output_type": "stream",
     "text": [
      "O arquivo ../../../dados/dados_siape_bruto/201705_Servidores_SIAPE.zip já existe. Pulando o download.\n"
     ]
    },
    {
     "data": {
      "text/plain": [
       "'Fazendo download do arquivo: 201706_Servidores_SIAPE.zip referente à 6 de 2017'"
      ]
     },
     "metadata": {},
     "output_type": "display_data"
    },
    {
     "data": {
      "text/plain": [
       "'        url download: https://dadosabertos-download.cgu.gov.br/PortalDaTransparencia/saida/servidores/201706_Servidores_SIAPE.zip'"
      ]
     },
     "metadata": {},
     "output_type": "display_data"
    },
    {
     "data": {
      "text/plain": [
       "''"
      ]
     },
     "metadata": {},
     "output_type": "display_data"
    },
    {
     "name": "stdout",
     "output_type": "stream",
     "text": [
      "O arquivo ../../../dados/dados_siape_bruto/201706_Servidores_SIAPE.zip já existe. Pulando o download.\n"
     ]
    },
    {
     "data": {
      "text/plain": [
       "'Fazendo download do arquivo: 201707_Servidores_SIAPE.zip referente à 7 de 2017'"
      ]
     },
     "metadata": {},
     "output_type": "display_data"
    },
    {
     "data": {
      "text/plain": [
       "'        url download: https://dadosabertos-download.cgu.gov.br/PortalDaTransparencia/saida/servidores/201707_Servidores_SIAPE.zip'"
      ]
     },
     "metadata": {},
     "output_type": "display_data"
    },
    {
     "data": {
      "text/plain": [
       "''"
      ]
     },
     "metadata": {},
     "output_type": "display_data"
    },
    {
     "name": "stdout",
     "output_type": "stream",
     "text": [
      "O arquivo ../../../dados/dados_siape_bruto/201707_Servidores_SIAPE.zip já existe. Pulando o download.\n"
     ]
    },
    {
     "data": {
      "text/plain": [
       "'Fazendo download do arquivo: 201708_Servidores_SIAPE.zip referente à 8 de 2017'"
      ]
     },
     "metadata": {},
     "output_type": "display_data"
    },
    {
     "data": {
      "text/plain": [
       "'        url download: https://dadosabertos-download.cgu.gov.br/PortalDaTransparencia/saida/servidores/201708_Servidores_SIAPE.zip'"
      ]
     },
     "metadata": {},
     "output_type": "display_data"
    },
    {
     "data": {
      "text/plain": [
       "''"
      ]
     },
     "metadata": {},
     "output_type": "display_data"
    },
    {
     "name": "stdout",
     "output_type": "stream",
     "text": [
      "O arquivo ../../../dados/dados_siape_bruto/201708_Servidores_SIAPE.zip já existe. Pulando o download.\n"
     ]
    },
    {
     "data": {
      "text/plain": [
       "'Fazendo download do arquivo: 201709_Servidores_SIAPE.zip referente à 9 de 2017'"
      ]
     },
     "metadata": {},
     "output_type": "display_data"
    },
    {
     "data": {
      "text/plain": [
       "'        url download: https://dadosabertos-download.cgu.gov.br/PortalDaTransparencia/saida/servidores/201709_Servidores_SIAPE.zip'"
      ]
     },
     "metadata": {},
     "output_type": "display_data"
    },
    {
     "data": {
      "text/plain": [
       "''"
      ]
     },
     "metadata": {},
     "output_type": "display_data"
    },
    {
     "name": "stdout",
     "output_type": "stream",
     "text": [
      "O arquivo ../../../dados/dados_siape_bruto/201709_Servidores_SIAPE.zip já existe. Pulando o download.\n"
     ]
    },
    {
     "data": {
      "text/plain": [
       "'Fazendo download do arquivo: 201710_Servidores_SIAPE.zip referente à 10 de 2017'"
      ]
     },
     "metadata": {},
     "output_type": "display_data"
    },
    {
     "data": {
      "text/plain": [
       "'        url download: https://dadosabertos-download.cgu.gov.br/PortalDaTransparencia/saida/servidores/201710_Servidores_SIAPE.zip'"
      ]
     },
     "metadata": {},
     "output_type": "display_data"
    },
    {
     "data": {
      "text/plain": [
       "''"
      ]
     },
     "metadata": {},
     "output_type": "display_data"
    },
    {
     "name": "stdout",
     "output_type": "stream",
     "text": [
      "O arquivo ../../../dados/dados_siape_bruto/201710_Servidores_SIAPE.zip já existe. Pulando o download.\n"
     ]
    },
    {
     "data": {
      "text/plain": [
       "'Fazendo download do arquivo: 201711_Servidores_SIAPE.zip referente à 11 de 2017'"
      ]
     },
     "metadata": {},
     "output_type": "display_data"
    },
    {
     "data": {
      "text/plain": [
       "'        url download: https://dadosabertos-download.cgu.gov.br/PortalDaTransparencia/saida/servidores/201711_Servidores_SIAPE.zip'"
      ]
     },
     "metadata": {},
     "output_type": "display_data"
    },
    {
     "data": {
      "text/plain": [
       "''"
      ]
     },
     "metadata": {},
     "output_type": "display_data"
    },
    {
     "name": "stdout",
     "output_type": "stream",
     "text": [
      "O arquivo ../../../dados/dados_siape_bruto/201711_Servidores_SIAPE.zip já existe. Pulando o download.\n"
     ]
    },
    {
     "data": {
      "text/plain": [
       "'Fazendo download do arquivo: 201712_Servidores_SIAPE.zip referente à 12 de 2017'"
      ]
     },
     "metadata": {},
     "output_type": "display_data"
    },
    {
     "data": {
      "text/plain": [
       "'        url download: https://dadosabertos-download.cgu.gov.br/PortalDaTransparencia/saida/servidores/201712_Servidores_SIAPE.zip'"
      ]
     },
     "metadata": {},
     "output_type": "display_data"
    },
    {
     "data": {
      "text/plain": [
       "''"
      ]
     },
     "metadata": {},
     "output_type": "display_data"
    },
    {
     "name": "stdout",
     "output_type": "stream",
     "text": [
      "O arquivo ../../../dados/dados_siape_bruto/201712_Servidores_SIAPE.zip já existe. Pulando o download.\n"
     ]
    },
    {
     "data": {
      "text/plain": [
       "'Fazendo download do arquivo: 201801_Servidores_SIAPE.zip referente à 1 de 2018'"
      ]
     },
     "metadata": {},
     "output_type": "display_data"
    },
    {
     "data": {
      "text/plain": [
       "'        url download: https://dadosabertos-download.cgu.gov.br/PortalDaTransparencia/saida/servidores/201801_Servidores_SIAPE.zip'"
      ]
     },
     "metadata": {},
     "output_type": "display_data"
    },
    {
     "data": {
      "text/plain": [
       "''"
      ]
     },
     "metadata": {},
     "output_type": "display_data"
    },
    {
     "name": "stdout",
     "output_type": "stream",
     "text": [
      "O arquivo ../../../dados/dados_siape_bruto/201801_Servidores_SIAPE.zip já existe. Pulando o download.\n"
     ]
    },
    {
     "data": {
      "text/plain": [
       "'Fazendo download do arquivo: 201802_Servidores_SIAPE.zip referente à 2 de 2018'"
      ]
     },
     "metadata": {},
     "output_type": "display_data"
    },
    {
     "data": {
      "text/plain": [
       "'        url download: https://dadosabertos-download.cgu.gov.br/PortalDaTransparencia/saida/servidores/201802_Servidores_SIAPE.zip'"
      ]
     },
     "metadata": {},
     "output_type": "display_data"
    },
    {
     "data": {
      "text/plain": [
       "''"
      ]
     },
     "metadata": {},
     "output_type": "display_data"
    },
    {
     "name": "stdout",
     "output_type": "stream",
     "text": [
      "O arquivo ../../../dados/dados_siape_bruto/201802_Servidores_SIAPE.zip já existe. Pulando o download.\n"
     ]
    },
    {
     "data": {
      "text/plain": [
       "'Fazendo download do arquivo: 201803_Servidores_SIAPE.zip referente à 3 de 2018'"
      ]
     },
     "metadata": {},
     "output_type": "display_data"
    },
    {
     "data": {
      "text/plain": [
       "'        url download: https://dadosabertos-download.cgu.gov.br/PortalDaTransparencia/saida/servidores/201803_Servidores_SIAPE.zip'"
      ]
     },
     "metadata": {},
     "output_type": "display_data"
    },
    {
     "data": {
      "text/plain": [
       "''"
      ]
     },
     "metadata": {},
     "output_type": "display_data"
    },
    {
     "name": "stdout",
     "output_type": "stream",
     "text": [
      "O arquivo ../../../dados/dados_siape_bruto/201803_Servidores_SIAPE.zip já existe. Pulando o download.\n"
     ]
    },
    {
     "data": {
      "text/plain": [
       "'Fazendo download do arquivo: 201804_Servidores_SIAPE.zip referente à 4 de 2018'"
      ]
     },
     "metadata": {},
     "output_type": "display_data"
    },
    {
     "data": {
      "text/plain": [
       "'        url download: https://dadosabertos-download.cgu.gov.br/PortalDaTransparencia/saida/servidores/201804_Servidores_SIAPE.zip'"
      ]
     },
     "metadata": {},
     "output_type": "display_data"
    },
    {
     "data": {
      "text/plain": [
       "''"
      ]
     },
     "metadata": {},
     "output_type": "display_data"
    },
    {
     "name": "stdout",
     "output_type": "stream",
     "text": [
      "O arquivo ../../../dados/dados_siape_bruto/201804_Servidores_SIAPE.zip já existe. Pulando o download.\n"
     ]
    },
    {
     "data": {
      "text/plain": [
       "'Fazendo download do arquivo: 201805_Servidores_SIAPE.zip referente à 5 de 2018'"
      ]
     },
     "metadata": {},
     "output_type": "display_data"
    },
    {
     "data": {
      "text/plain": [
       "'        url download: https://dadosabertos-download.cgu.gov.br/PortalDaTransparencia/saida/servidores/201805_Servidores_SIAPE.zip'"
      ]
     },
     "metadata": {},
     "output_type": "display_data"
    },
    {
     "data": {
      "text/plain": [
       "''"
      ]
     },
     "metadata": {},
     "output_type": "display_data"
    },
    {
     "name": "stdout",
     "output_type": "stream",
     "text": [
      "O arquivo ../../../dados/dados_siape_bruto/201805_Servidores_SIAPE.zip já existe. Pulando o download.\n"
     ]
    },
    {
     "data": {
      "text/plain": [
       "'Fazendo download do arquivo: 201806_Servidores_SIAPE.zip referente à 6 de 2018'"
      ]
     },
     "metadata": {},
     "output_type": "display_data"
    },
    {
     "data": {
      "text/plain": [
       "'        url download: https://dadosabertos-download.cgu.gov.br/PortalDaTransparencia/saida/servidores/201806_Servidores_SIAPE.zip'"
      ]
     },
     "metadata": {},
     "output_type": "display_data"
    },
    {
     "data": {
      "text/plain": [
       "''"
      ]
     },
     "metadata": {},
     "output_type": "display_data"
    },
    {
     "name": "stdout",
     "output_type": "stream",
     "text": [
      "O arquivo ../../../dados/dados_siape_bruto/201806_Servidores_SIAPE.zip já existe. Pulando o download.\n"
     ]
    },
    {
     "data": {
      "text/plain": [
       "'Fazendo download do arquivo: 201807_Servidores_SIAPE.zip referente à 7 de 2018'"
      ]
     },
     "metadata": {},
     "output_type": "display_data"
    },
    {
     "data": {
      "text/plain": [
       "'        url download: https://dadosabertos-download.cgu.gov.br/PortalDaTransparencia/saida/servidores/201807_Servidores_SIAPE.zip'"
      ]
     },
     "metadata": {},
     "output_type": "display_data"
    },
    {
     "data": {
      "text/plain": [
       "''"
      ]
     },
     "metadata": {},
     "output_type": "display_data"
    },
    {
     "name": "stdout",
     "output_type": "stream",
     "text": [
      "O arquivo ../../../dados/dados_siape_bruto/201807_Servidores_SIAPE.zip já existe. Pulando o download.\n"
     ]
    },
    {
     "data": {
      "text/plain": [
       "'Fazendo download do arquivo: 201808_Servidores_SIAPE.zip referente à 8 de 2018'"
      ]
     },
     "metadata": {},
     "output_type": "display_data"
    },
    {
     "data": {
      "text/plain": [
       "'        url download: https://dadosabertos-download.cgu.gov.br/PortalDaTransparencia/saida/servidores/201808_Servidores_SIAPE.zip'"
      ]
     },
     "metadata": {},
     "output_type": "display_data"
    },
    {
     "data": {
      "text/plain": [
       "''"
      ]
     },
     "metadata": {},
     "output_type": "display_data"
    },
    {
     "name": "stdout",
     "output_type": "stream",
     "text": [
      "O arquivo ../../../dados/dados_siape_bruto/201808_Servidores_SIAPE.zip já existe. Pulando o download.\n"
     ]
    },
    {
     "data": {
      "text/plain": [
       "'Fazendo download do arquivo: 201809_Servidores_SIAPE.zip referente à 9 de 2018'"
      ]
     },
     "metadata": {},
     "output_type": "display_data"
    },
    {
     "data": {
      "text/plain": [
       "'        url download: https://dadosabertos-download.cgu.gov.br/PortalDaTransparencia/saida/servidores/201809_Servidores_SIAPE.zip'"
      ]
     },
     "metadata": {},
     "output_type": "display_data"
    },
    {
     "data": {
      "text/plain": [
       "''"
      ]
     },
     "metadata": {},
     "output_type": "display_data"
    },
    {
     "name": "stdout",
     "output_type": "stream",
     "text": [
      "O arquivo ../../../dados/dados_siape_bruto/201809_Servidores_SIAPE.zip já existe. Pulando o download.\n"
     ]
    },
    {
     "data": {
      "text/plain": [
       "'Fazendo download do arquivo: 201810_Servidores_SIAPE.zip referente à 10 de 2018'"
      ]
     },
     "metadata": {},
     "output_type": "display_data"
    },
    {
     "data": {
      "text/plain": [
       "'        url download: https://dadosabertos-download.cgu.gov.br/PortalDaTransparencia/saida/servidores/201810_Servidores_SIAPE.zip'"
      ]
     },
     "metadata": {},
     "output_type": "display_data"
    },
    {
     "data": {
      "text/plain": [
       "''"
      ]
     },
     "metadata": {},
     "output_type": "display_data"
    },
    {
     "name": "stdout",
     "output_type": "stream",
     "text": [
      "O arquivo ../../../dados/dados_siape_bruto/201810_Servidores_SIAPE.zip já existe. Pulando o download.\n"
     ]
    },
    {
     "data": {
      "text/plain": [
       "'Fazendo download do arquivo: 201811_Servidores_SIAPE.zip referente à 11 de 2018'"
      ]
     },
     "metadata": {},
     "output_type": "display_data"
    },
    {
     "data": {
      "text/plain": [
       "'        url download: https://dadosabertos-download.cgu.gov.br/PortalDaTransparencia/saida/servidores/201811_Servidores_SIAPE.zip'"
      ]
     },
     "metadata": {},
     "output_type": "display_data"
    },
    {
     "data": {
      "text/plain": [
       "''"
      ]
     },
     "metadata": {},
     "output_type": "display_data"
    },
    {
     "name": "stdout",
     "output_type": "stream",
     "text": [
      "O arquivo ../../../dados/dados_siape_bruto/201811_Servidores_SIAPE.zip já existe. Pulando o download.\n"
     ]
    },
    {
     "data": {
      "text/plain": [
       "'Fazendo download do arquivo: 201812_Servidores_SIAPE.zip referente à 12 de 2018'"
      ]
     },
     "metadata": {},
     "output_type": "display_data"
    },
    {
     "data": {
      "text/plain": [
       "'        url download: https://dadosabertos-download.cgu.gov.br/PortalDaTransparencia/saida/servidores/201812_Servidores_SIAPE.zip'"
      ]
     },
     "metadata": {},
     "output_type": "display_data"
    },
    {
     "data": {
      "text/plain": [
       "''"
      ]
     },
     "metadata": {},
     "output_type": "display_data"
    },
    {
     "name": "stdout",
     "output_type": "stream",
     "text": [
      "O arquivo ../../../dados/dados_siape_bruto/201812_Servidores_SIAPE.zip já existe. Pulando o download.\n"
     ]
    },
    {
     "data": {
      "text/plain": [
       "'Fazendo download do arquivo: 201901_Servidores_SIAPE.zip referente à 1 de 2019'"
      ]
     },
     "metadata": {},
     "output_type": "display_data"
    },
    {
     "data": {
      "text/plain": [
       "'        url download: https://dadosabertos-download.cgu.gov.br/PortalDaTransparencia/saida/servidores/201901_Servidores_SIAPE.zip'"
      ]
     },
     "metadata": {},
     "output_type": "display_data"
    },
    {
     "data": {
      "text/plain": [
       "''"
      ]
     },
     "metadata": {},
     "output_type": "display_data"
    },
    {
     "name": "stdout",
     "output_type": "stream",
     "text": [
      "O arquivo ../../../dados/dados_siape_bruto/201901_Servidores_SIAPE.zip já existe. Pulando o download.\n"
     ]
    },
    {
     "data": {
      "text/plain": [
       "'Fazendo download do arquivo: 201902_Servidores_SIAPE.zip referente à 2 de 2019'"
      ]
     },
     "metadata": {},
     "output_type": "display_data"
    },
    {
     "data": {
      "text/plain": [
       "'        url download: https://dadosabertos-download.cgu.gov.br/PortalDaTransparencia/saida/servidores/201902_Servidores_SIAPE.zip'"
      ]
     },
     "metadata": {},
     "output_type": "display_data"
    },
    {
     "data": {
      "text/plain": [
       "''"
      ]
     },
     "metadata": {},
     "output_type": "display_data"
    },
    {
     "name": "stdout",
     "output_type": "stream",
     "text": [
      "O arquivo ../../../dados/dados_siape_bruto/201902_Servidores_SIAPE.zip já existe. Pulando o download.\n"
     ]
    },
    {
     "data": {
      "text/plain": [
       "'Fazendo download do arquivo: 201903_Servidores_SIAPE.zip referente à 3 de 2019'"
      ]
     },
     "metadata": {},
     "output_type": "display_data"
    },
    {
     "data": {
      "text/plain": [
       "'        url download: https://dadosabertos-download.cgu.gov.br/PortalDaTransparencia/saida/servidores/201903_Servidores_SIAPE.zip'"
      ]
     },
     "metadata": {},
     "output_type": "display_data"
    },
    {
     "data": {
      "text/plain": [
       "''"
      ]
     },
     "metadata": {},
     "output_type": "display_data"
    },
    {
     "name": "stdout",
     "output_type": "stream",
     "text": [
      "O arquivo ../../../dados/dados_siape_bruto/201903_Servidores_SIAPE.zip já existe. Pulando o download.\n"
     ]
    },
    {
     "data": {
      "text/plain": [
       "'Fazendo download do arquivo: 201904_Servidores_SIAPE.zip referente à 4 de 2019'"
      ]
     },
     "metadata": {},
     "output_type": "display_data"
    },
    {
     "data": {
      "text/plain": [
       "'        url download: https://dadosabertos-download.cgu.gov.br/PortalDaTransparencia/saida/servidores/201904_Servidores_SIAPE.zip'"
      ]
     },
     "metadata": {},
     "output_type": "display_data"
    },
    {
     "data": {
      "text/plain": [
       "''"
      ]
     },
     "metadata": {},
     "output_type": "display_data"
    },
    {
     "name": "stdout",
     "output_type": "stream",
     "text": [
      "O arquivo ../../../dados/dados_siape_bruto/201904_Servidores_SIAPE.zip já existe. Pulando o download.\n"
     ]
    },
    {
     "data": {
      "text/plain": [
       "'Fazendo download do arquivo: 201905_Servidores_SIAPE.zip referente à 5 de 2019'"
      ]
     },
     "metadata": {},
     "output_type": "display_data"
    },
    {
     "data": {
      "text/plain": [
       "'        url download: https://dadosabertos-download.cgu.gov.br/PortalDaTransparencia/saida/servidores/201905_Servidores_SIAPE.zip'"
      ]
     },
     "metadata": {},
     "output_type": "display_data"
    },
    {
     "data": {
      "text/plain": [
       "''"
      ]
     },
     "metadata": {},
     "output_type": "display_data"
    },
    {
     "name": "stdout",
     "output_type": "stream",
     "text": [
      "O arquivo ../../../dados/dados_siape_bruto/201905_Servidores_SIAPE.zip já existe. Pulando o download.\n"
     ]
    },
    {
     "data": {
      "text/plain": [
       "'Fazendo download do arquivo: 201906_Servidores_SIAPE.zip referente à 6 de 2019'"
      ]
     },
     "metadata": {},
     "output_type": "display_data"
    },
    {
     "data": {
      "text/plain": [
       "'        url download: https://dadosabertos-download.cgu.gov.br/PortalDaTransparencia/saida/servidores/201906_Servidores_SIAPE.zip'"
      ]
     },
     "metadata": {},
     "output_type": "display_data"
    },
    {
     "data": {
      "text/plain": [
       "''"
      ]
     },
     "metadata": {},
     "output_type": "display_data"
    },
    {
     "name": "stdout",
     "output_type": "stream",
     "text": [
      "O arquivo ../../../dados/dados_siape_bruto/201906_Servidores_SIAPE.zip já existe. Pulando o download.\n"
     ]
    },
    {
     "data": {
      "text/plain": [
       "'Fazendo download do arquivo: 201907_Servidores_SIAPE.zip referente à 7 de 2019'"
      ]
     },
     "metadata": {},
     "output_type": "display_data"
    },
    {
     "data": {
      "text/plain": [
       "'        url download: https://dadosabertos-download.cgu.gov.br/PortalDaTransparencia/saida/servidores/201907_Servidores_SIAPE.zip'"
      ]
     },
     "metadata": {},
     "output_type": "display_data"
    },
    {
     "data": {
      "text/plain": [
       "''"
      ]
     },
     "metadata": {},
     "output_type": "display_data"
    },
    {
     "name": "stdout",
     "output_type": "stream",
     "text": [
      "O arquivo ../../../dados/dados_siape_bruto/201907_Servidores_SIAPE.zip já existe. Pulando o download.\n"
     ]
    },
    {
     "data": {
      "text/plain": [
       "'Fazendo download do arquivo: 201908_Servidores_SIAPE.zip referente à 8 de 2019'"
      ]
     },
     "metadata": {},
     "output_type": "display_data"
    },
    {
     "data": {
      "text/plain": [
       "'        url download: https://dadosabertos-download.cgu.gov.br/PortalDaTransparencia/saida/servidores/201908_Servidores_SIAPE.zip'"
      ]
     },
     "metadata": {},
     "output_type": "display_data"
    },
    {
     "data": {
      "text/plain": [
       "''"
      ]
     },
     "metadata": {},
     "output_type": "display_data"
    },
    {
     "name": "stdout",
     "output_type": "stream",
     "text": [
      "O arquivo ../../../dados/dados_siape_bruto/201908_Servidores_SIAPE.zip já existe. Pulando o download.\n"
     ]
    },
    {
     "data": {
      "text/plain": [
       "'Fazendo download do arquivo: 201909_Servidores_SIAPE.zip referente à 9 de 2019'"
      ]
     },
     "metadata": {},
     "output_type": "display_data"
    },
    {
     "data": {
      "text/plain": [
       "'        url download: https://dadosabertos-download.cgu.gov.br/PortalDaTransparencia/saida/servidores/201909_Servidores_SIAPE.zip'"
      ]
     },
     "metadata": {},
     "output_type": "display_data"
    },
    {
     "data": {
      "text/plain": [
       "''"
      ]
     },
     "metadata": {},
     "output_type": "display_data"
    },
    {
     "name": "stdout",
     "output_type": "stream",
     "text": [
      "O arquivo ../../../dados/dados_siape_bruto/201909_Servidores_SIAPE.zip já existe. Pulando o download.\n"
     ]
    },
    {
     "data": {
      "text/plain": [
       "'Fazendo download do arquivo: 201910_Servidores_SIAPE.zip referente à 10 de 2019'"
      ]
     },
     "metadata": {},
     "output_type": "display_data"
    },
    {
     "data": {
      "text/plain": [
       "'        url download: https://dadosabertos-download.cgu.gov.br/PortalDaTransparencia/saida/servidores/201910_Servidores_SIAPE.zip'"
      ]
     },
     "metadata": {},
     "output_type": "display_data"
    },
    {
     "data": {
      "text/plain": [
       "''"
      ]
     },
     "metadata": {},
     "output_type": "display_data"
    },
    {
     "name": "stdout",
     "output_type": "stream",
     "text": [
      "O arquivo ../../../dados/dados_siape_bruto/201910_Servidores_SIAPE.zip já existe. Pulando o download.\n"
     ]
    },
    {
     "data": {
      "text/plain": [
       "'Fazendo download do arquivo: 201911_Servidores_SIAPE.zip referente à 11 de 2019'"
      ]
     },
     "metadata": {},
     "output_type": "display_data"
    },
    {
     "data": {
      "text/plain": [
       "'        url download: https://dadosabertos-download.cgu.gov.br/PortalDaTransparencia/saida/servidores/201911_Servidores_SIAPE.zip'"
      ]
     },
     "metadata": {},
     "output_type": "display_data"
    },
    {
     "data": {
      "text/plain": [
       "''"
      ]
     },
     "metadata": {},
     "output_type": "display_data"
    },
    {
     "name": "stdout",
     "output_type": "stream",
     "text": [
      "O arquivo ../../../dados/dados_siape_bruto/201911_Servidores_SIAPE.zip já existe. Pulando o download.\n"
     ]
    },
    {
     "data": {
      "text/plain": [
       "'Fazendo download do arquivo: 201912_Servidores_SIAPE.zip referente à 12 de 2019'"
      ]
     },
     "metadata": {},
     "output_type": "display_data"
    },
    {
     "data": {
      "text/plain": [
       "'        url download: https://dadosabertos-download.cgu.gov.br/PortalDaTransparencia/saida/servidores/201912_Servidores_SIAPE.zip'"
      ]
     },
     "metadata": {},
     "output_type": "display_data"
    },
    {
     "data": {
      "text/plain": [
       "''"
      ]
     },
     "metadata": {},
     "output_type": "display_data"
    },
    {
     "name": "stdout",
     "output_type": "stream",
     "text": [
      "O arquivo ../../../dados/dados_siape_bruto/201912_Servidores_SIAPE.zip já existe. Pulando o download.\n"
     ]
    },
    {
     "data": {
      "text/plain": [
       "'Fazendo download do arquivo: 202001_Servidores_SIAPE.zip referente à 1 de 2020'"
      ]
     },
     "metadata": {},
     "output_type": "display_data"
    },
    {
     "data": {
      "text/plain": [
       "'        url download: https://dadosabertos-download.cgu.gov.br/PortalDaTransparencia/saida/servidores/202001_Servidores_SIAPE.zip'"
      ]
     },
     "metadata": {},
     "output_type": "display_data"
    },
    {
     "data": {
      "text/plain": [
       "''"
      ]
     },
     "metadata": {},
     "output_type": "display_data"
    },
    {
     "name": "stdout",
     "output_type": "stream",
     "text": [
      "O arquivo ../../../dados/dados_siape_bruto/202001_Servidores_SIAPE.zip já existe. Pulando o download.\n"
     ]
    },
    {
     "data": {
      "text/plain": [
       "'Fazendo download do arquivo: 202002_Servidores_SIAPE.zip referente à 2 de 2020'"
      ]
     },
     "metadata": {},
     "output_type": "display_data"
    },
    {
     "data": {
      "text/plain": [
       "'        url download: https://dadosabertos-download.cgu.gov.br/PortalDaTransparencia/saida/servidores/202002_Servidores_SIAPE.zip'"
      ]
     },
     "metadata": {},
     "output_type": "display_data"
    },
    {
     "data": {
      "text/plain": [
       "''"
      ]
     },
     "metadata": {},
     "output_type": "display_data"
    },
    {
     "name": "stdout",
     "output_type": "stream",
     "text": [
      "O arquivo ../../../dados/dados_siape_bruto/202002_Servidores_SIAPE.zip já existe. Pulando o download.\n"
     ]
    },
    {
     "data": {
      "text/plain": [
       "'Fazendo download do arquivo: 202003_Servidores_SIAPE.zip referente à 3 de 2020'"
      ]
     },
     "metadata": {},
     "output_type": "display_data"
    },
    {
     "data": {
      "text/plain": [
       "'        url download: https://dadosabertos-download.cgu.gov.br/PortalDaTransparencia/saida/servidores/202003_Servidores_SIAPE.zip'"
      ]
     },
     "metadata": {},
     "output_type": "display_data"
    },
    {
     "data": {
      "text/plain": [
       "''"
      ]
     },
     "metadata": {},
     "output_type": "display_data"
    },
    {
     "name": "stdout",
     "output_type": "stream",
     "text": [
      "O arquivo ../../../dados/dados_siape_bruto/202003_Servidores_SIAPE.zip já existe. Pulando o download.\n"
     ]
    },
    {
     "data": {
      "text/plain": [
       "'Fazendo download do arquivo: 202004_Servidores_SIAPE.zip referente à 4 de 2020'"
      ]
     },
     "metadata": {},
     "output_type": "display_data"
    },
    {
     "data": {
      "text/plain": [
       "'        url download: https://dadosabertos-download.cgu.gov.br/PortalDaTransparencia/saida/servidores/202004_Servidores_SIAPE.zip'"
      ]
     },
     "metadata": {},
     "output_type": "display_data"
    },
    {
     "data": {
      "text/plain": [
       "''"
      ]
     },
     "metadata": {},
     "output_type": "display_data"
    },
    {
     "name": "stdout",
     "output_type": "stream",
     "text": [
      "O arquivo ../../../dados/dados_siape_bruto/202004_Servidores_SIAPE.zip já existe. Pulando o download.\n"
     ]
    },
    {
     "data": {
      "text/plain": [
       "'Fazendo download do arquivo: 202005_Servidores_SIAPE.zip referente à 5 de 2020'"
      ]
     },
     "metadata": {},
     "output_type": "display_data"
    },
    {
     "data": {
      "text/plain": [
       "'        url download: https://dadosabertos-download.cgu.gov.br/PortalDaTransparencia/saida/servidores/202005_Servidores_SIAPE.zip'"
      ]
     },
     "metadata": {},
     "output_type": "display_data"
    },
    {
     "data": {
      "text/plain": [
       "''"
      ]
     },
     "metadata": {},
     "output_type": "display_data"
    },
    {
     "name": "stdout",
     "output_type": "stream",
     "text": [
      "O arquivo ../../../dados/dados_siape_bruto/202005_Servidores_SIAPE.zip já existe. Pulando o download.\n"
     ]
    },
    {
     "data": {
      "text/plain": [
       "'Fazendo download do arquivo: 202006_Servidores_SIAPE.zip referente à 6 de 2020'"
      ]
     },
     "metadata": {},
     "output_type": "display_data"
    },
    {
     "data": {
      "text/plain": [
       "'        url download: https://dadosabertos-download.cgu.gov.br/PortalDaTransparencia/saida/servidores/202006_Servidores_SIAPE.zip'"
      ]
     },
     "metadata": {},
     "output_type": "display_data"
    },
    {
     "data": {
      "text/plain": [
       "''"
      ]
     },
     "metadata": {},
     "output_type": "display_data"
    },
    {
     "name": "stdout",
     "output_type": "stream",
     "text": [
      "O arquivo ../../../dados/dados_siape_bruto/202006_Servidores_SIAPE.zip já existe. Pulando o download.\n"
     ]
    },
    {
     "data": {
      "text/plain": [
       "'Fazendo download do arquivo: 202007_Servidores_SIAPE.zip referente à 7 de 2020'"
      ]
     },
     "metadata": {},
     "output_type": "display_data"
    },
    {
     "data": {
      "text/plain": [
       "'        url download: https://dadosabertos-download.cgu.gov.br/PortalDaTransparencia/saida/servidores/202007_Servidores_SIAPE.zip'"
      ]
     },
     "metadata": {},
     "output_type": "display_data"
    },
    {
     "data": {
      "text/plain": [
       "''"
      ]
     },
     "metadata": {},
     "output_type": "display_data"
    },
    {
     "name": "stdout",
     "output_type": "stream",
     "text": [
      "O arquivo ../../../dados/dados_siape_bruto/202007_Servidores_SIAPE.zip já existe. Pulando o download.\n"
     ]
    },
    {
     "data": {
      "text/plain": [
       "'Fazendo download do arquivo: 202008_Servidores_SIAPE.zip referente à 8 de 2020'"
      ]
     },
     "metadata": {},
     "output_type": "display_data"
    },
    {
     "data": {
      "text/plain": [
       "'        url download: https://dadosabertos-download.cgu.gov.br/PortalDaTransparencia/saida/servidores/202008_Servidores_SIAPE.zip'"
      ]
     },
     "metadata": {},
     "output_type": "display_data"
    },
    {
     "data": {
      "text/plain": [
       "''"
      ]
     },
     "metadata": {},
     "output_type": "display_data"
    },
    {
     "name": "stdout",
     "output_type": "stream",
     "text": [
      "O arquivo ../../../dados/dados_siape_bruto/202008_Servidores_SIAPE.zip já existe. Pulando o download.\n"
     ]
    },
    {
     "data": {
      "text/plain": [
       "'Fazendo download do arquivo: 202009_Servidores_SIAPE.zip referente à 9 de 2020'"
      ]
     },
     "metadata": {},
     "output_type": "display_data"
    },
    {
     "data": {
      "text/plain": [
       "'        url download: https://dadosabertos-download.cgu.gov.br/PortalDaTransparencia/saida/servidores/202009_Servidores_SIAPE.zip'"
      ]
     },
     "metadata": {},
     "output_type": "display_data"
    },
    {
     "data": {
      "text/plain": [
       "''"
      ]
     },
     "metadata": {},
     "output_type": "display_data"
    },
    {
     "name": "stdout",
     "output_type": "stream",
     "text": [
      "O arquivo ../../../dados/dados_siape_bruto/202009_Servidores_SIAPE.zip já existe. Pulando o download.\n"
     ]
    },
    {
     "data": {
      "text/plain": [
       "'Fazendo download do arquivo: 202010_Servidores_SIAPE.zip referente à 10 de 2020'"
      ]
     },
     "metadata": {},
     "output_type": "display_data"
    },
    {
     "data": {
      "text/plain": [
       "'        url download: https://dadosabertos-download.cgu.gov.br/PortalDaTransparencia/saida/servidores/202010_Servidores_SIAPE.zip'"
      ]
     },
     "metadata": {},
     "output_type": "display_data"
    },
    {
     "data": {
      "text/plain": [
       "''"
      ]
     },
     "metadata": {},
     "output_type": "display_data"
    },
    {
     "name": "stdout",
     "output_type": "stream",
     "text": [
      "O arquivo ../../../dados/dados_siape_bruto/202010_Servidores_SIAPE.zip já existe. Pulando o download.\n"
     ]
    },
    {
     "data": {
      "text/plain": [
       "'Fazendo download do arquivo: 202011_Servidores_SIAPE.zip referente à 11 de 2020'"
      ]
     },
     "metadata": {},
     "output_type": "display_data"
    },
    {
     "data": {
      "text/plain": [
       "'        url download: https://dadosabertos-download.cgu.gov.br/PortalDaTransparencia/saida/servidores/202011_Servidores_SIAPE.zip'"
      ]
     },
     "metadata": {},
     "output_type": "display_data"
    },
    {
     "data": {
      "text/plain": [
       "''"
      ]
     },
     "metadata": {},
     "output_type": "display_data"
    },
    {
     "name": "stdout",
     "output_type": "stream",
     "text": [
      "O arquivo ../../../dados/dados_siape_bruto/202011_Servidores_SIAPE.zip já existe. Pulando o download.\n"
     ]
    },
    {
     "data": {
      "text/plain": [
       "'Fazendo download do arquivo: 202012_Servidores_SIAPE.zip referente à 12 de 2020'"
      ]
     },
     "metadata": {},
     "output_type": "display_data"
    },
    {
     "data": {
      "text/plain": [
       "'        url download: https://dadosabertos-download.cgu.gov.br/PortalDaTransparencia/saida/servidores/202012_Servidores_SIAPE.zip'"
      ]
     },
     "metadata": {},
     "output_type": "display_data"
    },
    {
     "data": {
      "text/plain": [
       "''"
      ]
     },
     "metadata": {},
     "output_type": "display_data"
    },
    {
     "name": "stdout",
     "output_type": "stream",
     "text": [
      "O arquivo ../../../dados/dados_siape_bruto/202012_Servidores_SIAPE.zip já existe. Pulando o download.\n"
     ]
    },
    {
     "data": {
      "text/plain": [
       "'Fazendo download do arquivo: 202101_Servidores_SIAPE.zip referente à 1 de 2021'"
      ]
     },
     "metadata": {},
     "output_type": "display_data"
    },
    {
     "data": {
      "text/plain": [
       "'        url download: https://dadosabertos-download.cgu.gov.br/PortalDaTransparencia/saida/servidores/202101_Servidores_SIAPE.zip'"
      ]
     },
     "metadata": {},
     "output_type": "display_data"
    },
    {
     "data": {
      "text/plain": [
       "''"
      ]
     },
     "metadata": {},
     "output_type": "display_data"
    },
    {
     "name": "stdout",
     "output_type": "stream",
     "text": [
      "O arquivo ../../../dados/dados_siape_bruto/202101_Servidores_SIAPE.zip já existe. Pulando o download.\n"
     ]
    },
    {
     "data": {
      "text/plain": [
       "'Fazendo download do arquivo: 202102_Servidores_SIAPE.zip referente à 2 de 2021'"
      ]
     },
     "metadata": {},
     "output_type": "display_data"
    },
    {
     "data": {
      "text/plain": [
       "'        url download: https://dadosabertos-download.cgu.gov.br/PortalDaTransparencia/saida/servidores/202102_Servidores_SIAPE.zip'"
      ]
     },
     "metadata": {},
     "output_type": "display_data"
    },
    {
     "data": {
      "text/plain": [
       "''"
      ]
     },
     "metadata": {},
     "output_type": "display_data"
    },
    {
     "name": "stdout",
     "output_type": "stream",
     "text": [
      "O arquivo ../../../dados/dados_siape_bruto/202102_Servidores_SIAPE.zip já existe. Pulando o download.\n"
     ]
    },
    {
     "data": {
      "text/plain": [
       "'Fazendo download do arquivo: 202103_Servidores_SIAPE.zip referente à 3 de 2021'"
      ]
     },
     "metadata": {},
     "output_type": "display_data"
    },
    {
     "data": {
      "text/plain": [
       "'        url download: https://dadosabertos-download.cgu.gov.br/PortalDaTransparencia/saida/servidores/202103_Servidores_SIAPE.zip'"
      ]
     },
     "metadata": {},
     "output_type": "display_data"
    },
    {
     "data": {
      "text/plain": [
       "''"
      ]
     },
     "metadata": {},
     "output_type": "display_data"
    },
    {
     "name": "stdout",
     "output_type": "stream",
     "text": [
      "O arquivo ../../../dados/dados_siape_bruto/202103_Servidores_SIAPE.zip já existe. Pulando o download.\n"
     ]
    },
    {
     "data": {
      "text/plain": [
       "'Fazendo download do arquivo: 202104_Servidores_SIAPE.zip referente à 4 de 2021'"
      ]
     },
     "metadata": {},
     "output_type": "display_data"
    },
    {
     "data": {
      "text/plain": [
       "'        url download: https://dadosabertos-download.cgu.gov.br/PortalDaTransparencia/saida/servidores/202104_Servidores_SIAPE.zip'"
      ]
     },
     "metadata": {},
     "output_type": "display_data"
    },
    {
     "data": {
      "text/plain": [
       "''"
      ]
     },
     "metadata": {},
     "output_type": "display_data"
    },
    {
     "name": "stdout",
     "output_type": "stream",
     "text": [
      "O arquivo ../../../dados/dados_siape_bruto/202104_Servidores_SIAPE.zip já existe. Pulando o download.\n"
     ]
    },
    {
     "data": {
      "text/plain": [
       "'Fazendo download do arquivo: 202105_Servidores_SIAPE.zip referente à 5 de 2021'"
      ]
     },
     "metadata": {},
     "output_type": "display_data"
    },
    {
     "data": {
      "text/plain": [
       "'        url download: https://dadosabertos-download.cgu.gov.br/PortalDaTransparencia/saida/servidores/202105_Servidores_SIAPE.zip'"
      ]
     },
     "metadata": {},
     "output_type": "display_data"
    },
    {
     "data": {
      "text/plain": [
       "''"
      ]
     },
     "metadata": {},
     "output_type": "display_data"
    },
    {
     "name": "stdout",
     "output_type": "stream",
     "text": [
      "O arquivo ../../../dados/dados_siape_bruto/202105_Servidores_SIAPE.zip já existe. Pulando o download.\n"
     ]
    },
    {
     "data": {
      "text/plain": [
       "'Fazendo download do arquivo: 202106_Servidores_SIAPE.zip referente à 6 de 2021'"
      ]
     },
     "metadata": {},
     "output_type": "display_data"
    },
    {
     "data": {
      "text/plain": [
       "'        url download: https://dadosabertos-download.cgu.gov.br/PortalDaTransparencia/saida/servidores/202106_Servidores_SIAPE.zip'"
      ]
     },
     "metadata": {},
     "output_type": "display_data"
    },
    {
     "data": {
      "text/plain": [
       "''"
      ]
     },
     "metadata": {},
     "output_type": "display_data"
    },
    {
     "name": "stdout",
     "output_type": "stream",
     "text": [
      "O arquivo ../../../dados/dados_siape_bruto/202106_Servidores_SIAPE.zip já existe. Pulando o download.\n"
     ]
    },
    {
     "data": {
      "text/plain": [
       "'Fazendo download do arquivo: 202107_Servidores_SIAPE.zip referente à 7 de 2021'"
      ]
     },
     "metadata": {},
     "output_type": "display_data"
    },
    {
     "data": {
      "text/plain": [
       "'        url download: https://dadosabertos-download.cgu.gov.br/PortalDaTransparencia/saida/servidores/202107_Servidores_SIAPE.zip'"
      ]
     },
     "metadata": {},
     "output_type": "display_data"
    },
    {
     "data": {
      "text/plain": [
       "''"
      ]
     },
     "metadata": {},
     "output_type": "display_data"
    },
    {
     "name": "stdout",
     "output_type": "stream",
     "text": [
      "O arquivo ../../../dados/dados_siape_bruto/202107_Servidores_SIAPE.zip já existe. Pulando o download.\n"
     ]
    },
    {
     "data": {
      "text/plain": [
       "'Fazendo download do arquivo: 202108_Servidores_SIAPE.zip referente à 8 de 2021'"
      ]
     },
     "metadata": {},
     "output_type": "display_data"
    },
    {
     "data": {
      "text/plain": [
       "'        url download: https://dadosabertos-download.cgu.gov.br/PortalDaTransparencia/saida/servidores/202108_Servidores_SIAPE.zip'"
      ]
     },
     "metadata": {},
     "output_type": "display_data"
    },
    {
     "data": {
      "text/plain": [
       "''"
      ]
     },
     "metadata": {},
     "output_type": "display_data"
    },
    {
     "name": "stdout",
     "output_type": "stream",
     "text": [
      "O arquivo ../../../dados/dados_siape_bruto/202108_Servidores_SIAPE.zip já existe. Pulando o download.\n"
     ]
    },
    {
     "data": {
      "text/plain": [
       "'Fazendo download do arquivo: 202109_Servidores_SIAPE.zip referente à 9 de 2021'"
      ]
     },
     "metadata": {},
     "output_type": "display_data"
    },
    {
     "data": {
      "text/plain": [
       "'        url download: https://dadosabertos-download.cgu.gov.br/PortalDaTransparencia/saida/servidores/202109_Servidores_SIAPE.zip'"
      ]
     },
     "metadata": {},
     "output_type": "display_data"
    },
    {
     "data": {
      "text/plain": [
       "''"
      ]
     },
     "metadata": {},
     "output_type": "display_data"
    },
    {
     "name": "stdout",
     "output_type": "stream",
     "text": [
      "O arquivo ../../../dados/dados_siape_bruto/202109_Servidores_SIAPE.zip já existe. Pulando o download.\n"
     ]
    },
    {
     "data": {
      "text/plain": [
       "'Fazendo download do arquivo: 202110_Servidores_SIAPE.zip referente à 10 de 2021'"
      ]
     },
     "metadata": {},
     "output_type": "display_data"
    },
    {
     "data": {
      "text/plain": [
       "'        url download: https://dadosabertos-download.cgu.gov.br/PortalDaTransparencia/saida/servidores/202110_Servidores_SIAPE.zip'"
      ]
     },
     "metadata": {},
     "output_type": "display_data"
    },
    {
     "data": {
      "text/plain": [
       "''"
      ]
     },
     "metadata": {},
     "output_type": "display_data"
    },
    {
     "name": "stdout",
     "output_type": "stream",
     "text": [
      "O arquivo ../../../dados/dados_siape_bruto/202110_Servidores_SIAPE.zip já existe. Pulando o download.\n"
     ]
    },
    {
     "data": {
      "text/plain": [
       "'Fazendo download do arquivo: 202111_Servidores_SIAPE.zip referente à 11 de 2021'"
      ]
     },
     "metadata": {},
     "output_type": "display_data"
    },
    {
     "data": {
      "text/plain": [
       "'        url download: https://dadosabertos-download.cgu.gov.br/PortalDaTransparencia/saida/servidores/202111_Servidores_SIAPE.zip'"
      ]
     },
     "metadata": {},
     "output_type": "display_data"
    },
    {
     "data": {
      "text/plain": [
       "''"
      ]
     },
     "metadata": {},
     "output_type": "display_data"
    },
    {
     "name": "stdout",
     "output_type": "stream",
     "text": [
      "O arquivo ../../../dados/dados_siape_bruto/202111_Servidores_SIAPE.zip já existe. Pulando o download.\n"
     ]
    },
    {
     "data": {
      "text/plain": [
       "'Fazendo download do arquivo: 202112_Servidores_SIAPE.zip referente à 12 de 2021'"
      ]
     },
     "metadata": {},
     "output_type": "display_data"
    },
    {
     "data": {
      "text/plain": [
       "'        url download: https://dadosabertos-download.cgu.gov.br/PortalDaTransparencia/saida/servidores/202112_Servidores_SIAPE.zip'"
      ]
     },
     "metadata": {},
     "output_type": "display_data"
    },
    {
     "data": {
      "text/plain": [
       "''"
      ]
     },
     "metadata": {},
     "output_type": "display_data"
    },
    {
     "name": "stdout",
     "output_type": "stream",
     "text": [
      "O arquivo ../../../dados/dados_siape_bruto/202112_Servidores_SIAPE.zip já existe. Pulando o download.\n"
     ]
    },
    {
     "data": {
      "text/plain": [
       "'Fazendo download do arquivo: 202201_Servidores_SIAPE.zip referente à 1 de 2022'"
      ]
     },
     "metadata": {},
     "output_type": "display_data"
    },
    {
     "data": {
      "text/plain": [
       "'        url download: https://dadosabertos-download.cgu.gov.br/PortalDaTransparencia/saida/servidores/202201_Servidores_SIAPE.zip'"
      ]
     },
     "metadata": {},
     "output_type": "display_data"
    },
    {
     "data": {
      "text/plain": [
       "''"
      ]
     },
     "metadata": {},
     "output_type": "display_data"
    },
    {
     "name": "stdout",
     "output_type": "stream",
     "text": [
      "O arquivo ../../../dados/dados_siape_bruto/202201_Servidores_SIAPE.zip já existe. Pulando o download.\n"
     ]
    },
    {
     "data": {
      "text/plain": [
       "'Fazendo download do arquivo: 202202_Servidores_SIAPE.zip referente à 2 de 2022'"
      ]
     },
     "metadata": {},
     "output_type": "display_data"
    },
    {
     "data": {
      "text/plain": [
       "'        url download: https://dadosabertos-download.cgu.gov.br/PortalDaTransparencia/saida/servidores/202202_Servidores_SIAPE.zip'"
      ]
     },
     "metadata": {},
     "output_type": "display_data"
    },
    {
     "data": {
      "text/plain": [
       "''"
      ]
     },
     "metadata": {},
     "output_type": "display_data"
    },
    {
     "name": "stdout",
     "output_type": "stream",
     "text": [
      "O arquivo ../../../dados/dados_siape_bruto/202202_Servidores_SIAPE.zip já existe. Pulando o download.\n"
     ]
    },
    {
     "data": {
      "text/plain": [
       "'Fazendo download do arquivo: 202203_Servidores_SIAPE.zip referente à 3 de 2022'"
      ]
     },
     "metadata": {},
     "output_type": "display_data"
    },
    {
     "data": {
      "text/plain": [
       "'        url download: https://dadosabertos-download.cgu.gov.br/PortalDaTransparencia/saida/servidores/202203_Servidores_SIAPE.zip'"
      ]
     },
     "metadata": {},
     "output_type": "display_data"
    },
    {
     "data": {
      "text/plain": [
       "''"
      ]
     },
     "metadata": {},
     "output_type": "display_data"
    },
    {
     "name": "stdout",
     "output_type": "stream",
     "text": [
      "O arquivo ../../../dados/dados_siape_bruto/202203_Servidores_SIAPE.zip já existe. Pulando o download.\n"
     ]
    },
    {
     "data": {
      "text/plain": [
       "'Fazendo download do arquivo: 202204_Servidores_SIAPE.zip referente à 4 de 2022'"
      ]
     },
     "metadata": {},
     "output_type": "display_data"
    },
    {
     "data": {
      "text/plain": [
       "'        url download: https://dadosabertos-download.cgu.gov.br/PortalDaTransparencia/saida/servidores/202204_Servidores_SIAPE.zip'"
      ]
     },
     "metadata": {},
     "output_type": "display_data"
    },
    {
     "data": {
      "text/plain": [
       "''"
      ]
     },
     "metadata": {},
     "output_type": "display_data"
    },
    {
     "name": "stdout",
     "output_type": "stream",
     "text": [
      "O arquivo ../../../dados/dados_siape_bruto/202204_Servidores_SIAPE.zip já existe. Pulando o download.\n"
     ]
    },
    {
     "data": {
      "text/plain": [
       "'Fazendo download do arquivo: 202205_Servidores_SIAPE.zip referente à 5 de 2022'"
      ]
     },
     "metadata": {},
     "output_type": "display_data"
    },
    {
     "data": {
      "text/plain": [
       "'        url download: https://dadosabertos-download.cgu.gov.br/PortalDaTransparencia/saida/servidores/202205_Servidores_SIAPE.zip'"
      ]
     },
     "metadata": {},
     "output_type": "display_data"
    },
    {
     "data": {
      "text/plain": [
       "''"
      ]
     },
     "metadata": {},
     "output_type": "display_data"
    },
    {
     "name": "stdout",
     "output_type": "stream",
     "text": [
      "O arquivo ../../../dados/dados_siape_bruto/202205_Servidores_SIAPE.zip já existe. Pulando o download.\n"
     ]
    },
    {
     "data": {
      "text/plain": [
       "'Fazendo download do arquivo: 202206_Servidores_SIAPE.zip referente à 6 de 2022'"
      ]
     },
     "metadata": {},
     "output_type": "display_data"
    },
    {
     "data": {
      "text/plain": [
       "'        url download: https://dadosabertos-download.cgu.gov.br/PortalDaTransparencia/saida/servidores/202206_Servidores_SIAPE.zip'"
      ]
     },
     "metadata": {},
     "output_type": "display_data"
    },
    {
     "data": {
      "text/plain": [
       "''"
      ]
     },
     "metadata": {},
     "output_type": "display_data"
    },
    {
     "name": "stdout",
     "output_type": "stream",
     "text": [
      "O arquivo ../../../dados/dados_siape_bruto/202206_Servidores_SIAPE.zip já existe. Pulando o download.\n"
     ]
    },
    {
     "data": {
      "text/plain": [
       "'Fazendo download do arquivo: 202207_Servidores_SIAPE.zip referente à 7 de 2022'"
      ]
     },
     "metadata": {},
     "output_type": "display_data"
    },
    {
     "data": {
      "text/plain": [
       "'        url download: https://dadosabertos-download.cgu.gov.br/PortalDaTransparencia/saida/servidores/202207_Servidores_SIAPE.zip'"
      ]
     },
     "metadata": {},
     "output_type": "display_data"
    },
    {
     "data": {
      "text/plain": [
       "''"
      ]
     },
     "metadata": {},
     "output_type": "display_data"
    },
    {
     "name": "stdout",
     "output_type": "stream",
     "text": [
      "O arquivo ../../../dados/dados_siape_bruto/202207_Servidores_SIAPE.zip já existe. Pulando o download.\n"
     ]
    },
    {
     "data": {
      "text/plain": [
       "'Fazendo download do arquivo: 202208_Servidores_SIAPE.zip referente à 8 de 2022'"
      ]
     },
     "metadata": {},
     "output_type": "display_data"
    },
    {
     "data": {
      "text/plain": [
       "'        url download: https://dadosabertos-download.cgu.gov.br/PortalDaTransparencia/saida/servidores/202208_Servidores_SIAPE.zip'"
      ]
     },
     "metadata": {},
     "output_type": "display_data"
    },
    {
     "data": {
      "text/plain": [
       "''"
      ]
     },
     "metadata": {},
     "output_type": "display_data"
    },
    {
     "name": "stdout",
     "output_type": "stream",
     "text": [
      "O arquivo ../../../dados/dados_siape_bruto/202208_Servidores_SIAPE.zip já existe. Pulando o download.\n"
     ]
    },
    {
     "data": {
      "text/plain": [
       "'Fazendo download do arquivo: 202209_Servidores_SIAPE.zip referente à 9 de 2022'"
      ]
     },
     "metadata": {},
     "output_type": "display_data"
    },
    {
     "data": {
      "text/plain": [
       "'        url download: https://dadosabertos-download.cgu.gov.br/PortalDaTransparencia/saida/servidores/202209_Servidores_SIAPE.zip'"
      ]
     },
     "metadata": {},
     "output_type": "display_data"
    },
    {
     "data": {
      "text/plain": [
       "''"
      ]
     },
     "metadata": {},
     "output_type": "display_data"
    },
    {
     "name": "stdout",
     "output_type": "stream",
     "text": [
      "O arquivo ../../../dados/dados_siape_bruto/202209_Servidores_SIAPE.zip já existe. Pulando o download.\n"
     ]
    },
    {
     "data": {
      "text/plain": [
       "'Fazendo download do arquivo: 202210_Servidores_SIAPE.zip referente à 10 de 2022'"
      ]
     },
     "metadata": {},
     "output_type": "display_data"
    },
    {
     "data": {
      "text/plain": [
       "'        url download: https://dadosabertos-download.cgu.gov.br/PortalDaTransparencia/saida/servidores/202210_Servidores_SIAPE.zip'"
      ]
     },
     "metadata": {},
     "output_type": "display_data"
    },
    {
     "data": {
      "text/plain": [
       "''"
      ]
     },
     "metadata": {},
     "output_type": "display_data"
    },
    {
     "name": "stdout",
     "output_type": "stream",
     "text": [
      "O arquivo ../../../dados/dados_siape_bruto/202210_Servidores_SIAPE.zip já existe. Pulando o download.\n"
     ]
    },
    {
     "data": {
      "text/plain": [
       "'Fazendo download do arquivo: 202211_Servidores_SIAPE.zip referente à 11 de 2022'"
      ]
     },
     "metadata": {},
     "output_type": "display_data"
    },
    {
     "data": {
      "text/plain": [
       "'        url download: https://dadosabertos-download.cgu.gov.br/PortalDaTransparencia/saida/servidores/202211_Servidores_SIAPE.zip'"
      ]
     },
     "metadata": {},
     "output_type": "display_data"
    },
    {
     "data": {
      "text/plain": [
       "''"
      ]
     },
     "metadata": {},
     "output_type": "display_data"
    },
    {
     "name": "stdout",
     "output_type": "stream",
     "text": [
      "O arquivo ../../../dados/dados_siape_bruto/202211_Servidores_SIAPE.zip já existe. Pulando o download.\n"
     ]
    },
    {
     "data": {
      "text/plain": [
       "'Fazendo download do arquivo: 202212_Servidores_SIAPE.zip referente à 12 de 2022'"
      ]
     },
     "metadata": {},
     "output_type": "display_data"
    },
    {
     "data": {
      "text/plain": [
       "'        url download: https://dadosabertos-download.cgu.gov.br/PortalDaTransparencia/saida/servidores/202212_Servidores_SIAPE.zip'"
      ]
     },
     "metadata": {},
     "output_type": "display_data"
    },
    {
     "data": {
      "text/plain": [
       "''"
      ]
     },
     "metadata": {},
     "output_type": "display_data"
    },
    {
     "name": "stdout",
     "output_type": "stream",
     "text": [
      "O arquivo ../../../dados/dados_siape_bruto/202212_Servidores_SIAPE.zip já existe. Pulando o download.\n"
     ]
    },
    {
     "data": {
      "text/plain": [
       "'Fazendo download do arquivo: 202301_Servidores_SIAPE.zip referente à 1 de 2023'"
      ]
     },
     "metadata": {},
     "output_type": "display_data"
    },
    {
     "data": {
      "text/plain": [
       "'        url download: https://dadosabertos-download.cgu.gov.br/PortalDaTransparencia/saida/servidores/202301_Servidores_SIAPE.zip'"
      ]
     },
     "metadata": {},
     "output_type": "display_data"
    },
    {
     "data": {
      "text/plain": [
       "''"
      ]
     },
     "metadata": {},
     "output_type": "display_data"
    },
    {
     "name": "stdout",
     "output_type": "stream",
     "text": [
      "O arquivo ../../../dados/dados_siape_bruto/202301_Servidores_SIAPE.zip já existe. Pulando o download.\n"
     ]
    },
    {
     "data": {
      "text/plain": [
       "'Fazendo download do arquivo: 202302_Servidores_SIAPE.zip referente à 2 de 2023'"
      ]
     },
     "metadata": {},
     "output_type": "display_data"
    },
    {
     "data": {
      "text/plain": [
       "'        url download: https://dadosabertos-download.cgu.gov.br/PortalDaTransparencia/saida/servidores/202302_Servidores_SIAPE.zip'"
      ]
     },
     "metadata": {},
     "output_type": "display_data"
    },
    {
     "data": {
      "text/plain": [
       "''"
      ]
     },
     "metadata": {},
     "output_type": "display_data"
    },
    {
     "name": "stdout",
     "output_type": "stream",
     "text": [
      "O arquivo ../../../dados/dados_siape_bruto/202302_Servidores_SIAPE.zip já existe. Pulando o download.\n"
     ]
    },
    {
     "data": {
      "text/plain": [
       "'Fazendo download do arquivo: 202303_Servidores_SIAPE.zip referente à 3 de 2023'"
      ]
     },
     "metadata": {},
     "output_type": "display_data"
    },
    {
     "data": {
      "text/plain": [
       "'        url download: https://dadosabertos-download.cgu.gov.br/PortalDaTransparencia/saida/servidores/202303_Servidores_SIAPE.zip'"
      ]
     },
     "metadata": {},
     "output_type": "display_data"
    },
    {
     "data": {
      "text/plain": [
       "''"
      ]
     },
     "metadata": {},
     "output_type": "display_data"
    },
    {
     "name": "stdout",
     "output_type": "stream",
     "text": [
      "O arquivo ../../../dados/dados_siape_bruto/202303_Servidores_SIAPE.zip já existe. Pulando o download.\n"
     ]
    },
    {
     "data": {
      "text/plain": [
       "'Fazendo download do arquivo: 202304_Servidores_SIAPE.zip referente à 4 de 2023'"
      ]
     },
     "metadata": {},
     "output_type": "display_data"
    },
    {
     "data": {
      "text/plain": [
       "'        url download: https://dadosabertos-download.cgu.gov.br/PortalDaTransparencia/saida/servidores/202304_Servidores_SIAPE.zip'"
      ]
     },
     "metadata": {},
     "output_type": "display_data"
    },
    {
     "data": {
      "text/plain": [
       "''"
      ]
     },
     "metadata": {},
     "output_type": "display_data"
    },
    {
     "name": "stdout",
     "output_type": "stream",
     "text": [
      "O arquivo ../../../dados/dados_siape_bruto/202304_Servidores_SIAPE.zip já existe. Pulando o download.\n"
     ]
    },
    {
     "data": {
      "text/plain": [
       "'Fazendo download do arquivo: 202305_Servidores_SIAPE.zip referente à 5 de 2023'"
      ]
     },
     "metadata": {},
     "output_type": "display_data"
    },
    {
     "data": {
      "text/plain": [
       "'        url download: https://dadosabertos-download.cgu.gov.br/PortalDaTransparencia/saida/servidores/202305_Servidores_SIAPE.zip'"
      ]
     },
     "metadata": {},
     "output_type": "display_data"
    },
    {
     "data": {
      "text/plain": [
       "''"
      ]
     },
     "metadata": {},
     "output_type": "display_data"
    },
    {
     "name": "stdout",
     "output_type": "stream",
     "text": [
      "O arquivo ../../../dados/dados_siape_bruto/202305_Servidores_SIAPE.zip já existe. Pulando o download.\n"
     ]
    },
    {
     "data": {
      "text/plain": [
       "'Fazendo download do arquivo: 202306_Servidores_SIAPE.zip referente à 6 de 2023'"
      ]
     },
     "metadata": {},
     "output_type": "display_data"
    },
    {
     "data": {
      "text/plain": [
       "'        url download: https://dadosabertos-download.cgu.gov.br/PortalDaTransparencia/saida/servidores/202306_Servidores_SIAPE.zip'"
      ]
     },
     "metadata": {},
     "output_type": "display_data"
    },
    {
     "data": {
      "text/plain": [
       "''"
      ]
     },
     "metadata": {},
     "output_type": "display_data"
    },
    {
     "name": "stdout",
     "output_type": "stream",
     "text": [
      "O arquivo ../../../dados/dados_siape_bruto/202306_Servidores_SIAPE.zip já existe. Pulando o download.\n"
     ]
    },
    {
     "data": {
      "text/plain": [
       "'Fazendo download do arquivo: 202307_Servidores_SIAPE.zip referente à 7 de 2023'"
      ]
     },
     "metadata": {},
     "output_type": "display_data"
    },
    {
     "data": {
      "text/plain": [
       "'        url download: https://dadosabertos-download.cgu.gov.br/PortalDaTransparencia/saida/servidores/202307_Servidores_SIAPE.zip'"
      ]
     },
     "metadata": {},
     "output_type": "display_data"
    },
    {
     "data": {
      "text/plain": [
       "''"
      ]
     },
     "metadata": {},
     "output_type": "display_data"
    },
    {
     "name": "stdout",
     "output_type": "stream",
     "text": [
      "O arquivo ../../../dados/dados_siape_bruto/202307_Servidores_SIAPE.zip já existe. Pulando o download.\n"
     ]
    },
    {
     "data": {
      "text/plain": [
       "'Fazendo download do arquivo: 202308_Servidores_SIAPE.zip referente à 8 de 2023'"
      ]
     },
     "metadata": {},
     "output_type": "display_data"
    },
    {
     "data": {
      "text/plain": [
       "'        url download: https://dadosabertos-download.cgu.gov.br/PortalDaTransparencia/saida/servidores/202308_Servidores_SIAPE.zip'"
      ]
     },
     "metadata": {},
     "output_type": "display_data"
    },
    {
     "data": {
      "text/plain": [
       "''"
      ]
     },
     "metadata": {},
     "output_type": "display_data"
    },
    {
     "name": "stdout",
     "output_type": "stream",
     "text": [
      "O arquivo ../../../dados/dados_siape_bruto/202308_Servidores_SIAPE.zip já existe. Pulando o download.\n"
     ]
    },
    {
     "data": {
      "text/plain": [
       "'Fazendo download do arquivo: 202309_Servidores_SIAPE.zip referente à 9 de 2023'"
      ]
     },
     "metadata": {},
     "output_type": "display_data"
    },
    {
     "data": {
      "text/plain": [
       "'        url download: https://dadosabertos-download.cgu.gov.br/PortalDaTransparencia/saida/servidores/202309_Servidores_SIAPE.zip'"
      ]
     },
     "metadata": {},
     "output_type": "display_data"
    },
    {
     "data": {
      "text/plain": [
       "''"
      ]
     },
     "metadata": {},
     "output_type": "display_data"
    },
    {
     "name": "stdout",
     "output_type": "stream",
     "text": [
      "O arquivo ../../../dados/dados_siape_bruto/202309_Servidores_SIAPE.zip já existe. Pulando o download.\n"
     ]
    },
    {
     "data": {
      "text/plain": [
       "'Fazendo download do arquivo: 202310_Servidores_SIAPE.zip referente à 10 de 2023'"
      ]
     },
     "metadata": {},
     "output_type": "display_data"
    },
    {
     "data": {
      "text/plain": [
       "'        url download: https://dadosabertos-download.cgu.gov.br/PortalDaTransparencia/saida/servidores/202310_Servidores_SIAPE.zip'"
      ]
     },
     "metadata": {},
     "output_type": "display_data"
    },
    {
     "data": {
      "text/plain": [
       "''"
      ]
     },
     "metadata": {},
     "output_type": "display_data"
    },
    {
     "name": "stdout",
     "output_type": "stream",
     "text": [
      "O arquivo ../../../dados/dados_siape_bruto/202310_Servidores_SIAPE.zip já existe. Pulando o download.\n"
     ]
    },
    {
     "data": {
      "text/plain": [
       "'Fazendo download do arquivo: 202311_Servidores_SIAPE.zip referente à 11 de 2023'"
      ]
     },
     "metadata": {},
     "output_type": "display_data"
    },
    {
     "data": {
      "text/plain": [
       "'        url download: https://dadosabertos-download.cgu.gov.br/PortalDaTransparencia/saida/servidores/202311_Servidores_SIAPE.zip'"
      ]
     },
     "metadata": {},
     "output_type": "display_data"
    },
    {
     "data": {
      "text/plain": [
       "''"
      ]
     },
     "metadata": {},
     "output_type": "display_data"
    },
    {
     "name": "stdout",
     "output_type": "stream",
     "text": [
      "O arquivo ../../../dados/dados_siape_bruto/202311_Servidores_SIAPE.zip já existe. Pulando o download.\n"
     ]
    },
    {
     "data": {
      "text/plain": [
       "'Fazendo download do arquivo: 202312_Servidores_SIAPE.zip referente à 12 de 2023'"
      ]
     },
     "metadata": {},
     "output_type": "display_data"
    },
    {
     "data": {
      "text/plain": [
       "'        url download: https://dadosabertos-download.cgu.gov.br/PortalDaTransparencia/saida/servidores/202312_Servidores_SIAPE.zip'"
      ]
     },
     "metadata": {},
     "output_type": "display_data"
    },
    {
     "data": {
      "text/plain": [
       "''"
      ]
     },
     "metadata": {},
     "output_type": "display_data"
    },
    {
     "name": "stdout",
     "output_type": "stream",
     "text": [
      "O arquivo ../../../dados/dados_siape_bruto/202312_Servidores_SIAPE.zip já existe. Pulando o download.\n"
     ]
    },
    {
     "data": {
      "text/plain": [
       "'Fazendo download do arquivo: 202401_Servidores_SIAPE.zip referente à 1 de 2024'"
      ]
     },
     "metadata": {},
     "output_type": "display_data"
    },
    {
     "data": {
      "text/plain": [
       "'        url download: https://dadosabertos-download.cgu.gov.br/PortalDaTransparencia/saida/servidores/202401_Servidores_SIAPE.zip'"
      ]
     },
     "metadata": {},
     "output_type": "display_data"
    },
    {
     "data": {
      "text/plain": [
       "''"
      ]
     },
     "metadata": {},
     "output_type": "display_data"
    },
    {
     "name": "stderr",
     "output_type": "stream",
     "text": [
      "Downloading: 100%|████████████████████████████████████████████████████████████████████████████████████████████████████████████| 75.7M/75.7M [00:07<00:00, 10.9MB/s]\n"
     ]
    },
    {
     "data": {
      "text/plain": [
       "'Fazendo download do arquivo: 202402_Servidores_SIAPE.zip referente à 2 de 2024'"
      ]
     },
     "metadata": {},
     "output_type": "display_data"
    },
    {
     "data": {
      "text/plain": [
       "'        url download: https://dadosabertos-download.cgu.gov.br/PortalDaTransparencia/saida/servidores/202402_Servidores_SIAPE.zip'"
      ]
     },
     "metadata": {},
     "output_type": "display_data"
    },
    {
     "data": {
      "text/plain": [
       "''"
      ]
     },
     "metadata": {},
     "output_type": "display_data"
    },
    {
     "name": "stderr",
     "output_type": "stream",
     "text": [
      "Downloading: 100%|████████████████████████████████████████████████████████████████████████████████████████████████████████████| 75.4M/75.4M [00:07<00:00, 10.8MB/s]\n"
     ]
    },
    {
     "data": {
      "text/plain": [
       "'Fazendo download do arquivo: 202403_Servidores_SIAPE.zip referente à 3 de 2024'"
      ]
     },
     "metadata": {},
     "output_type": "display_data"
    },
    {
     "data": {
      "text/plain": [
       "'        url download: https://dadosabertos-download.cgu.gov.br/PortalDaTransparencia/saida/servidores/202403_Servidores_SIAPE.zip'"
      ]
     },
     "metadata": {},
     "output_type": "display_data"
    },
    {
     "data": {
      "text/plain": [
       "''"
      ]
     },
     "metadata": {},
     "output_type": "display_data"
    },
    {
     "name": "stderr",
     "output_type": "stream",
     "text": [
      "Downloading: 100%|████████████████████████████████████████████████████████████████████████████████████████████████████████████| 75.4M/75.4M [00:07<00:00, 11.1MB/s]\n"
     ]
    },
    {
     "data": {
      "text/plain": [
       "'Fazendo download do arquivo: 202404_Servidores_SIAPE.zip referente à 4 de 2024'"
      ]
     },
     "metadata": {},
     "output_type": "display_data"
    },
    {
     "data": {
      "text/plain": [
       "'        url download: https://dadosabertos-download.cgu.gov.br/PortalDaTransparencia/saida/servidores/202404_Servidores_SIAPE.zip'"
      ]
     },
     "metadata": {},
     "output_type": "display_data"
    },
    {
     "data": {
      "text/plain": [
       "''"
      ]
     },
     "metadata": {},
     "output_type": "display_data"
    },
    {
     "name": "stderr",
     "output_type": "stream",
     "text": [
      "Downloading: 100%|████████████████████████████████████████████████████████████████████████████████████████████████████████████| 75.4M/75.4M [00:07<00:00, 11.1MB/s]\n"
     ]
    },
    {
     "data": {
      "text/plain": [
       "'Fazendo download do arquivo: 202405_Servidores_SIAPE.zip referente à 5 de 2024'"
      ]
     },
     "metadata": {},
     "output_type": "display_data"
    },
    {
     "data": {
      "text/plain": [
       "'        url download: https://dadosabertos-download.cgu.gov.br/PortalDaTransparencia/saida/servidores/202405_Servidores_SIAPE.zip'"
      ]
     },
     "metadata": {},
     "output_type": "display_data"
    },
    {
     "data": {
      "text/plain": [
       "''"
      ]
     },
     "metadata": {},
     "output_type": "display_data"
    },
    {
     "name": "stderr",
     "output_type": "stream",
     "text": [
      "Downloading: 100%|████████████████████████████████████████████████████████████████████████████████████████████████████████████| 75.9M/75.9M [00:07<00:00, 11.3MB/s]\n"
     ]
    },
    {
     "data": {
      "text/plain": [
       "'Fazendo download do arquivo: 202406_Servidores_SIAPE.zip referente à 6 de 2024'"
      ]
     },
     "metadata": {},
     "output_type": "display_data"
    },
    {
     "data": {
      "text/plain": [
       "'        url download: https://dadosabertos-download.cgu.gov.br/PortalDaTransparencia/saida/servidores/202406_Servidores_SIAPE.zip'"
      ]
     },
     "metadata": {},
     "output_type": "display_data"
    },
    {
     "data": {
      "text/plain": [
       "''"
      ]
     },
     "metadata": {},
     "output_type": "display_data"
    },
    {
     "name": "stderr",
     "output_type": "stream",
     "text": [
      "Downloading: 100%|████████████████████████████████████████████████████████████████████████████████████████████████████████████| 77.4M/77.4M [00:07<00:00, 11.3MB/s]\n"
     ]
    },
    {
     "data": {
      "text/plain": [
       "'Fazendo download do arquivo: 202407_Servidores_SIAPE.zip referente à 7 de 2024'"
      ]
     },
     "metadata": {},
     "output_type": "display_data"
    },
    {
     "data": {
      "text/plain": [
       "'        url download: https://dadosabertos-download.cgu.gov.br/PortalDaTransparencia/saida/servidores/202407_Servidores_SIAPE.zip'"
      ]
     },
     "metadata": {},
     "output_type": "display_data"
    },
    {
     "data": {
      "text/plain": [
       "''"
      ]
     },
     "metadata": {},
     "output_type": "display_data"
    },
    {
     "name": "stderr",
     "output_type": "stream",
     "text": [
      "Downloading: 100%|████████████████████████████████████████████████████████████████████████████████████████████████████████████| 76.1M/76.1M [00:07<00:00, 11.2MB/s]\n"
     ]
    },
    {
     "data": {
      "text/plain": [
       "'Fazendo download do arquivo: 202408_Servidores_SIAPE.zip referente à 8 de 2024'"
      ]
     },
     "metadata": {},
     "output_type": "display_data"
    },
    {
     "data": {
      "text/plain": [
       "'        url download: https://dadosabertos-download.cgu.gov.br/PortalDaTransparencia/saida/servidores/202408_Servidores_SIAPE.zip'"
      ]
     },
     "metadata": {},
     "output_type": "display_data"
    },
    {
     "data": {
      "text/plain": [
       "''"
      ]
     },
     "metadata": {},
     "output_type": "display_data"
    },
    {
     "name": "stderr",
     "output_type": "stream",
     "text": [
      "Downloading: 100%|████████████████████████████████████████████████████████████████████████████████████████████████████████████| 76.3M/76.3M [00:07<00:00, 11.0MB/s]\n"
     ]
    },
    {
     "data": {
      "text/plain": [
       "'Fazendo download do arquivo: 202409_Servidores_SIAPE.zip referente à 9 de 2024'"
      ]
     },
     "metadata": {},
     "output_type": "display_data"
    },
    {
     "data": {
      "text/plain": [
       "'        url download: https://dadosabertos-download.cgu.gov.br/PortalDaTransparencia/saida/servidores/202409_Servidores_SIAPE.zip'"
      ]
     },
     "metadata": {},
     "output_type": "display_data"
    },
    {
     "data": {
      "text/plain": [
       "''"
      ]
     },
     "metadata": {},
     "output_type": "display_data"
    },
    {
     "name": "stderr",
     "output_type": "stream",
     "text": [
      "Downloading: 100%|████████████████████████████████████████████████████████████████████████████████████████████████████████████| 76.6M/76.6M [00:07<00:00, 11.3MB/s]\n"
     ]
    },
    {
     "data": {
      "text/plain": [
       "'Fazendo download do arquivo: 202410_Servidores_SIAPE.zip referente à 10 de 2024'"
      ]
     },
     "metadata": {},
     "output_type": "display_data"
    },
    {
     "data": {
      "text/plain": [
       "'        url download: https://dadosabertos-download.cgu.gov.br/PortalDaTransparencia/saida/servidores/202410_Servidores_SIAPE.zip'"
      ]
     },
     "metadata": {},
     "output_type": "display_data"
    },
    {
     "data": {
      "text/plain": [
       "''"
      ]
     },
     "metadata": {},
     "output_type": "display_data"
    },
    {
     "name": "stderr",
     "output_type": "stream",
     "text": [
      "Downloading: 100%|████████████████████████████████████████████████████████████████████████████████████████████████████████████| 76.7M/76.7M [00:07<00:00, 10.9MB/s]\n"
     ]
    },
    {
     "data": {
      "text/plain": [
       "'Fazendo download do arquivo: 202411_Servidores_SIAPE.zip referente à 11 de 2024'"
      ]
     },
     "metadata": {},
     "output_type": "display_data"
    },
    {
     "data": {
      "text/plain": [
       "'        url download: https://dadosabertos-download.cgu.gov.br/PortalDaTransparencia/saida/servidores/202411_Servidores_SIAPE.zip'"
      ]
     },
     "metadata": {},
     "output_type": "display_data"
    },
    {
     "data": {
      "text/plain": [
       "''"
      ]
     },
     "metadata": {},
     "output_type": "display_data"
    },
    {
     "name": "stderr",
     "output_type": "stream",
     "text": [
      "Downloading: 100%|████████████████████████████████████████████████████████████████████████████████████████████████████████████| 79.8M/79.8M [00:07<00:00, 11.4MB/s]\n"
     ]
    },
    {
     "data": {
      "text/plain": [
       "'Fazendo download do arquivo: 202412_Servidores_SIAPE.zip referente à 12 de 2024'"
      ]
     },
     "metadata": {},
     "output_type": "display_data"
    },
    {
     "data": {
      "text/plain": [
       "'        url download: https://dadosabertos-download.cgu.gov.br/PortalDaTransparencia/saida/servidores/202412_Servidores_SIAPE.zip'"
      ]
     },
     "metadata": {},
     "output_type": "display_data"
    },
    {
     "data": {
      "text/plain": [
       "''"
      ]
     },
     "metadata": {},
     "output_type": "display_data"
    },
    {
     "name": "stdout",
     "output_type": "stream",
     "text": [
      "Erro ao baixar o arquivo. Código de status: 403\n"
     ]
    }
   ],
   "source": [
    "def fazer_download_arquivos_siape():\n",
    "    \n",
    "    url_base = 'https://dadosabertos-download.cgu.gov.br/PortalDaTransparencia/saida/servidores'\n",
    "    pasta_destino = '../../../dados/dados_siape_bruto'\n",
    "    \n",
    "    for ano in range(2013, 2025):    \n",
    "        \n",
    "        for mes in range(1, 13):\n",
    "    \n",
    "            nome_arquivo = f'{ano}{mes:0>{2}}_Servidores_SIAPE.zip'             \n",
    "            \n",
    "            url_download = f'{url_base}/{nome_arquivo}'\n",
    "            arquivo_destino = f'{pasta_destino}/{nome_arquivo}'\n",
    "            \n",
    "            display(f'Fazendo download do arquivo: {nome_arquivo} referente à {mes} de {ano}')\n",
    "            display(f'        url download: {url_download}')\n",
    "            display(f'')\n",
    "            \n",
    "            baixar_arquivo_siape(url_download, arquivo_destino)\n",
    "    \n",
    "fazer_download_arquivos_siape()"
   ]
  }
 ],
 "metadata": {
  "kernelspec": {
   "display_name": "Python 3 (ipykernel)",
   "language": "python",
   "name": "python3"
  },
  "language_info": {
   "codemirror_mode": {
    "name": "ipython",
    "version": 3
   },
   "file_extension": ".py",
   "mimetype": "text/x-python",
   "name": "python",
   "nbconvert_exporter": "python",
   "pygments_lexer": "ipython3",
   "version": "3.10.12"
  }
 },
 "nbformat": 4,
 "nbformat_minor": 5
}

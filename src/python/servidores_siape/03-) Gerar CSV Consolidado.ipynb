{
 "cells": [
  {
   "cell_type": "code",
   "execution_count": null,
   "id": "4fcf5d5b-0297-4b0c-b9f6-74df8fec13fe",
   "metadata": {},
   "outputs": [],
   "source": [
    "from consolidador_data_frame import ConsolidadorDataFrame"
   ]
  },
  {
   "cell_type": "code",
   "execution_count": null,
   "id": "18acc896-d9b6-4443-a2c4-0b1c007d5af1",
   "metadata": {},
   "outputs": [],
   "source": [
    "consolidador = ConsolidadorDataFrame()"
   ]
  },
  {
   "cell_type": "code",
   "execution_count": null,
   "id": "92c3b62c-bfd9-4152-8dea-2b75fe28d07d",
   "metadata": {},
   "outputs": [],
   "source": [
    "  \n",
    "\n",
    "consolidador.percorre_diretorio_CSV(\n",
    "    \"../../dados/dados_siape_bruto/descompactado\", \n",
    "    \"cadastro\",\n",
    "    \"../../dados/dados_siape_consolidado/teste.csv\",\n",
    "    consolidador.gerar_totais_colunas_interesse,    \n",
    "    {'colunas_interesse':['ORG_EXERCICIO', 'REGIME_JURIDICO']},\n",
    "    tamanho_bloco=12,\n",
    "    ano_inicio=2023\n",
    ")\n",
    "\n"
   ]
  },
  {
   "cell_type": "code",
   "execution_count": null,
   "id": "436ed67d-d273-4c36-af6d-04d9c621057f",
   "metadata": {},
   "outputs": [],
   "source": [
    "consolidador.consolida_partes(\"../../dados/dados_siape_consolidado/org_exercicio\", \"parte\", \"../../dados/dados_siape_consolidado/org_exercicio/cadastro_siape_consolidado_org_exercicio_mes_ano_completo-2021-2023.csv\")"
   ]
  }
 ],
 "metadata": {
  "kernelspec": {
   "display_name": "Python 3 (ipykernel)",
   "language": "python",
   "name": "python3"
  },
  "language_info": {
   "codemirror_mode": {
    "name": "ipython",
    "version": 3
   },
   "file_extension": ".py",
   "mimetype": "text/x-python",
   "name": "python",
   "nbconvert_exporter": "python",
   "pygments_lexer": "ipython3",
   "version": "3.10.12"
  }
 },
 "nbformat": 4,
 "nbformat_minor": 5
}

{
 "cells": [
  {
   "cell_type": "markdown",
   "id": "a4066db2-a1ee-4bde-a905-09ec8c940267",
   "metadata": {},
   "source": [
    "# Instalando as bibliotecas"
   ]
  },
  {
   "cell_type": "code",
   "execution_count": null,
   "id": "2fb6c11a-48d6-4ceb-8c20-510ad74c8c67",
   "metadata": {},
   "outputs": [],
   "source": [
    "'''!pip install plotly\n",
    "!pip install matplotlib\n",
    "!pip install seaborn'''"
   ]
  },
  {
   "cell_type": "markdown",
   "id": "0e4f189e-777b-4e47-a47f-7fef10ac8a54",
   "metadata": {},
   "source": [
    "# Importando as bibliotecas"
   ]
  },
  {
   "cell_type": "code",
   "execution_count": null,
   "id": "47e0061c-9599-4420-b68d-f25eec0ae644",
   "metadata": {},
   "outputs": [],
   "source": [
    "import pandas as pd\n",
    "import plotly.express as px\n",
    "import plotly.graph_objects as go\n",
    "import matplotlib.pyplot as plt\n",
    "from IPython.display import display, Markdown\n",
    "import seaborn as sns"
   ]
  },
  {
   "cell_type": "markdown",
   "id": "c52a5594-5623-410c-a461-83df01f169cb",
   "metadata": {},
   "source": [
    "# Para ver todas as colunas e apenas o número de linhas configurado"
   ]
  },
  {
   "cell_type": "code",
   "execution_count": null,
   "id": "17a86b6e-9611-436f-a622-82d90c9f2620",
   "metadata": {},
   "outputs": [],
   "source": [
    "pd.set_option('display.max_columns', None)\n",
    "pd.set_option('display.max_rows', 100)"
   ]
  },
  {
   "cell_type": "markdown",
   "id": "eb071876-fdb2-4a1e-bc99-fe8b2fc6e621",
   "metadata": {},
   "source": [
    "# Lendo o CSV ( caminho do arquivo )"
   ]
  },
  {
   "cell_type": "code",
   "execution_count": null,
   "id": "ae898168-cecc-4e9c-a567-75c369f1526a",
   "metadata": {},
   "outputs": [],
   "source": [
    "# Especifique o caminho para o seu arquivo CSV\n",
    "caminho_arquivo = '../../dados/dados_siape_consolidado/org_exercicio/cadastro_siape_consolidado_org_exercicio_mes_ano_completo-2021-2023.csv'\n",
    "\n",
    "df_orgaos = pd.read_csv(caminho_arquivo)"
   ]
  },
  {
   "cell_type": "markdown",
   "id": "1e9b8925-2f52-4b59-a375-377354e3ef57",
   "metadata": {},
   "source": [
    "# Queremos apenas os anos que têm estagiários registrados: A partir de 2021"
   ]
  },
  {
   "cell_type": "code",
   "execution_count": null,
   "id": "bfb2929d-dc7f-4a4f-81d6-07e876131838",
   "metadata": {},
   "outputs": [],
   "source": [
    "df_orgaos['ano'].unique()"
   ]
  },
  {
   "cell_type": "markdown",
   "id": "777895d2-bae7-44b0-a120-d17caaee4e98",
   "metadata": {},
   "source": [
    "# Vamos unir \"ano\" e \"mês\" em apenas 1 coluna"
   ]
  },
  {
   "cell_type": "code",
   "execution_count": null,
   "id": "736d2e4c-169f-4347-b970-fd30871a4b86",
   "metadata": {},
   "outputs": [],
   "source": [
    "df_orgaos['ano_mes'] = df_orgaos['ano'].astype(str) + '-' + df_orgaos['mes'].astype(str).str.zfill(2)\n",
    "\n",
    "# Ordene o DataFrame com base na coluna 'ano_mes'\n",
    "df_orgaos = df_orgaos.sort_values(by='ano_mes')"
   ]
  },
  {
   "cell_type": "markdown",
   "id": "51101be7-d996-4752-9549-4a0344a96b25",
   "metadata": {},
   "source": [
    "# Como vai ficar"
   ]
  },
  {
   "cell_type": "code",
   "execution_count": null,
   "id": "ce40df98-9c7f-4cdc-9e24-b8f1f872bf24",
   "metadata": {},
   "outputs": [],
   "source": [
    "df_orgaos['ano_mes']"
   ]
  },
  {
   "cell_type": "markdown",
   "id": "372157b3-3cba-431e-b2bb-6f1f09424a61",
   "metadata": {},
   "source": [
    "# Vamos criar um dicionário para saber exatamente quantos registros filtrados tem em cada período"
   ]
  },
  {
   "cell_type": "code",
   "execution_count": null,
   "id": "94c04ce2-d960-40d0-b2b2-8e16254d7c69",
   "metadata": {},
   "outputs": [],
   "source": [
    "def dicionario_servidores_e_estagio_orgao_ano_mes (df_orgaos, orgaos_escolhidos):\n",
    "\n",
    "    dicionario_orgaos = {}\n",
    "    \n",
    "    meses = df_orgaos['ano_mes'].unique()\n",
    "\n",
    "    for orgao in orgaos_escolhidos:\n",
    "\n",
    "        display (orgao)\n",
    "        \n",
    "        for mes in meses:                \n",
    "            \n",
    "            qtd_regime_unico = df_orgaos[\n",
    "                        df_orgaos[\"REGIME_JURIDICO\"].str.contains(\"regime juridico unico\", na=False, case=False) &\n",
    "                        df_orgaos[\"ORG_EXERCICIO\"].str.contains(orgao, na=False, case=False) &\n",
    "                        (df_orgaos['ano_mes'] == mes)][\"Contagem\"].sum()\n",
    "            \n",
    "            qtd_estagiario =  df_orgaos[\n",
    "                        df_orgaos[\"REGIME_JURIDICO\"].str.contains(\"estag\", na=False, case=False) &\n",
    "                        df_orgaos[\"ORG_EXERCICIO\"].str.contains(orgao, na=False, case=False) &\n",
    "                        (df_orgaos['ano_mes'] == mes)][\"Contagem\"].sum()\n",
    "\n",
    "            if not orgao in dicionario_orgaos:\n",
    "                dicionario_orgaos[orgao] = {}\n",
    "\n",
    "                        \n",
    "            dicionario_orgaos[orgao][mes] = {'regime_unico': qtd_regime_unico,'estagiarios': qtd_estagiario,'indice_estagio': qtd_estagiario/qtd_regime_unico}\n",
    "\n",
    "    # Convertendo o dicionário em DataFrame\n",
    "    df_resultado = pd.DataFrame.from_dict({(i, j): dicionario_orgaos[i][j] \n",
    "                                           for i in dicionario_orgaos.keys() \n",
    "                                           for j in dicionario_orgaos[i].keys()},\n",
    "                                          orient='index')\n",
    "\n",
    "    df_resultado = df_resultado.reset_index().rename(columns={'level_0': 'org_exercicio', 'level_1': 'ano_mes'})\n",
    "    \n",
    "    return df_resultado\n",
    "    \n",
    "\n",
    "\n",
    "\n"
   ]
  },
  {
   "cell_type": "markdown",
   "id": "cdae2800-a39e-43dd-b598-afea518f9acf",
   "metadata": {},
   "source": [
    "# Aqui vamos gerar um gráfico do dicionário"
   ]
  },
  {
   "cell_type": "code",
   "execution_count": null,
   "id": "7c15a732-0445-47f4-8870-36690535ad3c",
   "metadata": {},
   "outputs": [],
   "source": [
    "import matplotlib.pyplot as plt\n",
    "from IPython.display import display, Markdown\n",
    "\n",
    "def gerar_grafico_indice_estagio(df, titulo):\n",
    "\n",
    "    display(Markdown(f'# {titulo}'))\n",
    "\n",
    "    # Ajustar tamanho da figura para ser mais comprida na horizontal\n",
    "    plt.figure(figsize=(20, 10))\n",
    "\n",
    "    for org in df['org_exercicio'].unique():\n",
    "        df_org = df[df['org_exercicio'] == org]\n",
    "        x = df_org['ano_mes'].to_numpy()\n",
    "        y = df_org['indice_estagio'].to_numpy()\n",
    "        labels = df_org['indice_estagio'].to_numpy()  # Substitua 'quantidade' pelo nome da coluna com a quantidade\n",
    "\n",
    "        # Linhas conectando os pontos com marcadores\n",
    "        plt.plot(x, y, label=org, marker='o', linestyle='-')\n",
    "\n",
    "        # Adicionar rótulos com a quantidade em cima de cada ponto\n",
    "        for i, txt in enumerate(labels):\n",
    "            plt.annotate(f'{y[i]:.2f}', (x[i], y[i]), textcoords=\"offset points\", xytext=(0, 5), ha='center')\n",
    "\n",
    "    plt.title('Índice de estágio ao longo do tempo')\n",
    "    plt.xlabel('Ano e mês')\n",
    "    plt.ylabel('Índice de estágio')\n",
    "    plt.xticks(rotation=35)  # Rotacionar rótulos do eixo X\n",
    "    plt.legend()\n",
    "\n",
    "    # Ajustar espaçamento entre subplots\n",
    "    plt.tight_layout(pad=2.0)\n",
    "\n",
    "    plt.show()"
   ]
  },
  {
   "cell_type": "markdown",
   "id": "15543308-c4ec-48a1-9d37-9b5a0711fb0b",
   "metadata": {},
   "source": [
    "# Por fim, definir quais são os \"órgãos escolhidos\" e visualizar o gráfico"
   ]
  },
  {
   "cell_type": "code",
   "execution_count": null,
   "id": "0f1c99e5-e925-4e3d-8a86-bd80d7c35ac9",
   "metadata": {},
   "outputs": [],
   "source": [
    "orgaos_escolhidos = [\n",
    "    'Instituto Nacional do Seguro Social',\n",
    "    'ministério da economia', \n",
    "    'ministerio da fazenda',\n",
    "    'Advocacia-Geral da União' ,     \n",
    "    'Ministério da Ciência, Tecnologia, Inovações e Comunicações', \n",
    "    'Ministério da Saúde'\n",
    "]\n",
    "\n",
    "# Lista dos órgãos sendo carregados\n",
    "df_todos_orgaos_escolhidos = dicionario_servidores_e_estagio_orgao_ano_mes(df_orgaos, orgaos_escolhidos)\n",
    "\n",
    "gerar_grafico_indice_estagio (df_todos_orgaos_escolhidos, \"Índice estagiários/servidores nos órgãos escolhidos\")"
   ]
  },
  {
   "cell_type": "code",
   "execution_count": null,
   "id": "78e4aebd-c245-4c17-a7d4-a0f81fdbbdb6",
   "metadata": {},
   "outputs": [],
   "source": [
    "# Salve o DataFrame como um arquivo CSV\n",
    "df_orgaos.to_csv('/home/carolcardoso/git/ProgramaEstagio/apresentação/Índice - Servidores X Estagiários - Órgãos escolhidos/Índice - Servidores X Estagiários - Órgãos escolhidos.csv', index=False)"
   ]
  }
 ],
 "metadata": {
  "kernelspec": {
   "display_name": "Python 3 (ipykernel)",
   "language": "python",
   "name": "python3"
  },
  "language_info": {
   "codemirror_mode": {
    "name": "ipython",
    "version": 3
   },
   "file_extension": ".py",
   "mimetype": "text/x-python",
   "name": "python",
   "nbconvert_exporter": "python",
   "pygments_lexer": "ipython3",
   "version": "3.10.12"
  }
 },
 "nbformat": 4,
 "nbformat_minor": 5
}

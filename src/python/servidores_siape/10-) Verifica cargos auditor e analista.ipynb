{
 "cells": [
  {
   "cell_type": "code",
   "execution_count": null,
   "id": "96099bd4-63f0-426a-8f1f-329dad5707c6",
   "metadata": {},
   "outputs": [],
   "source": [
    "import pandas as pd"
   ]
  },
  {
   "cell_type": "code",
   "execution_count": null,
   "id": "45b7d7c2-5b3e-441a-b89d-6708af852032",
   "metadata": {},
   "outputs": [],
   "source": [
    "# Especifique o caminho para o seu arquivo CSV\n",
    "\n",
    "df_202311 = pd.read_csv('../../dados/dados_siape_bruto/descompactado/202311_Servidores_SIAPE/202311_Cadastro.csv', encoding='iso-8859-1', sep=';')\n",
    "df_202011 = pd.read_csv('../../dados/dados_siape_bruto/descompactado/202011_Servidores_SIAPE/202011_Cadastro.csv', encoding='iso-8859-1', sep=';')\n",
    "df_201511 = pd.read_csv('../../dados/dados_siape_bruto/descompactado/201511_Servidores_SIAPE/201511_Cadastro.csv', encoding='iso-8859-1', sep=';')\n",
    "df_201301 = pd.read_csv('../../dados/dados_siape_bruto/descompactado/201301_Servidores_SIAPE/201301_Cadastro.csv', encoding='iso-8859-1', sep=';')\n"
   ]
  },
  {
   "cell_type": "code",
   "execution_count": null,
   "id": "9ec7b7ec-21a1-4f56-a6d4-87272929a988",
   "metadata": {},
   "outputs": [],
   "source": [
    "pd.set_option('display.max_columns', None)\n",
    "pd.set_option('display.max_rows', None)"
   ]
  },
  {
   "cell_type": "code",
   "execution_count": null,
   "id": "d53df52c-e59e-435d-838e-e0bcb70b2646",
   "metadata": {},
   "outputs": [],
   "source": [
    "df_202311.loc[df_202311['UORG_LOTACAO'] == 'Inválido', 'UORG_LOTACAO'] = df_202311['UORG_EXERCICIO']\n",
    "#df_202311.loc[df_202311['UORG_LOTACAO'] == 'Inválido', 'UORG_LOTACAO'] = df_202311.loc[df_202311['UORG_LOTACAO'] == 'inválido', 'UORG_EXERCICIO']"
   ]
  },
  {
   "cell_type": "code",
   "execution_count": null,
   "id": "b1b0b1f7-4327-46b0-9e4c-a09014bf4040",
   "metadata": {},
   "outputs": [],
   "source": [
    "df_202311[(df_202311['NOME'].str.contains('julia germano', na=False, case=False) & \n",
    "    df_202311['REGIME_JURIDICO'].str.contains('estagio', na=False, case=False)) |\n",
    "    df_202311['NOME'].str.contains('fernando augusto sampaio', na=False, case=False)]"
   ]
  },
  {
   "cell_type": "code",
   "execution_count": null,
   "id": "66c3e6a0-8af5-4eab-ac70-4936984cabd4",
   "metadata": {},
   "outputs": [],
   "source": [
    "def verificar_cargos(df):\n",
    "    \n",
    "    filtro_analista = df['DESCRICAO_CARGO'].str.contains('ANALISTA TRIBUTARIO REC FEDERAL BRASIL', case=False, na=False)\n",
    "    filtro_auditor =  df['DESCRICAO_CARGO'].str.contains('RECEITA FEDERAL BRASIL', case=False, na=False)\n",
    "\n",
    "    df_filtrado = df[filtro_analista | filtro_auditor]\n",
    "\n",
    "    contagem = df_filtrado['UORG_EXERCICIO'].value_counts().count()\n",
    "    \n",
    "    return contagem"
   ]
  },
  {
   "cell_type": "code",
   "execution_count": null,
   "id": "8f32ef02-1a6a-47e3-82e1-6d4f720e7dec",
   "metadata": {},
   "outputs": [],
   "source": [
    "display (verificar_cargos(df_202311))\n",
    "display (verificar_cargos(df_202011))\n",
    "display (verificar_cargos(df_201511))\n",
    "display (verificar_cargos(df_201301))"
   ]
  },
  {
   "cell_type": "code",
   "execution_count": null,
   "id": "dc699350-06c1-4921-9c2a-4133b08d18bf",
   "metadata": {},
   "outputs": [],
   "source": [
    "df[df['DESCRICAO_CARGO'].str.contains('federal ', case=False, na=False)].value_counts(\"DESCRICAO_CARGO\")"
   ]
  },
  {
   "cell_type": "code",
   "execution_count": null,
   "id": "81ac633e-010f-4d8a-9a99-c1e33a225d02",
   "metadata": {},
   "outputs": [],
   "source": [
    "df[df['UORG_EXERCICIO'].str.contains('COTEC') & df['ORG_LOTACAO'].str.contains('MINISTERIO DA FAZENDA')].count()"
   ]
  },
  {
   "cell_type": "code",
   "execution_count": null,
   "id": "0d34d71c-b8cf-463b-885c-12030d42bda9",
   "metadata": {},
   "outputs": [],
   "source": [
    "df[df['UORG_EXERCICIO'].str.contains('COTEC')]['ORG_LOTACAO'].value_counts()"
   ]
  },
  {
   "cell_type": "code",
   "execution_count": null,
   "id": "c83fa0ec-3381-480b-bfc8-06a8837b96db",
   "metadata": {},
   "outputs": [],
   "source": [
    "display(df_cotec)"
   ]
  }
 ],
 "metadata": {
  "kernelspec": {
   "display_name": "Python 3 (ipykernel)",
   "language": "python",
   "name": "python3"
  },
  "language_info": {
   "codemirror_mode": {
    "name": "ipython",
    "version": 3
   },
   "file_extension": ".py",
   "mimetype": "text/x-python",
   "name": "python",
   "nbconvert_exporter": "python",
   "pygments_lexer": "ipython3",
   "version": "3.10.12"
  }
 },
 "nbformat": 4,
 "nbformat_minor": 5
}

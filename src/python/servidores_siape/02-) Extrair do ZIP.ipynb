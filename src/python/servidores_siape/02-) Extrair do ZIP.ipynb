{
 "cells": [
  {
   "cell_type": "markdown",
   "id": "6f1c1722-9b85-4c91-a306-2ec81a359508",
   "metadata": {},
   "source": [
    "# Extraindo arquivos da Base Siape do ZIP"
   ]
  },
  {
   "cell_type": "code",
   "execution_count": null,
   "id": "63492d47-6e51-4731-8f1f-8a3952090e85",
   "metadata": {},
   "outputs": [],
   "source": [
    "''' frase = \"O rato roeu a roupa do rei de um grande templo ao sul do paquistão grande templo ao sul\"\n",
    "palavra_procurada = \"grande templo ao sul\"\n",
    "\n",
    "def remover_palavra_frase (frase, palavra):\n",
    "    \n",
    "    indice_palavra = frase.find(palavra)\n",
    "\n",
    "    tamanho_palavra = len(palavra)\n",
    "\n",
    "    indice_fim_palavra = indice_palavra+tamanho_palavra\n",
    "    \n",
    "    #Se for diferente de -1 é porque encontrou a palavra na frase\n",
    "    if indice_palavra != -1:\n",
    "\n",
    "        frase_sem_primeira_ocorrencia_palavra = frase[0:indice_palavra] + frase[indice_fim_palavra:]\n",
    "        \n",
    "    #Recursão - Roda para achar todas as ocorrências\n",
    "        return remover_palavra_frase (frase_sem_primeira_ocorrencia_palavra, palavra)\n",
    "\n",
    "    else:\n",
    "\n",
    "        return frase\n",
    "\n",
    "\n",
    "\n",
    "remover_palavra_frase (frase, palavra_procurada)\n",
    "\n",
    "'''\n",
    "    "
   ]
  },
  {
   "cell_type": "code",
   "execution_count": 1,
   "id": "60bce417-deb4-4c5a-acf9-351ce59584a2",
   "metadata": {},
   "outputs": [],
   "source": [
    "import os\n",
    "import zipfile\n",
    "from tqdm import tqdm  # Esta biblioteca exibe uma barra de progresso durante o download"
   ]
  },
  {
   "cell_type": "code",
   "execution_count": 2,
   "id": "f6bcf096-39cb-4199-a3e3-8fc6614e1eda",
   "metadata": {},
   "outputs": [],
   "source": [
    "def extrai_conteudo_zip(arquivo_zip, diretorio_base):\n",
    "\n",
    "    indice_ultimo_separador = arquivo_zip.rfind(\"/\")\n",
    "    nome_pasta = arquivo_zip [indice_ultimo_separador+1:-4] \n",
    "    # print(nome_pasta)\n",
    "\n",
    "    #diretorio_destino = diretorio_base + '/' + nome_pasta\n",
    "    #diretorio_destino = f'{diretorio_base}/{nome_pasta}'\n",
    "    diretorio_destino = os.path.join(diretorio_base, nome_pasta) # <--------------- PREFERIDO - NÃO DEFINIMOS SEPARADOR\n",
    "    \n",
    "    # Certifique-se de que a pasta de destino exista ou a crie\n",
    "    if not os.path.exists(diretorio_destino):\n",
    "        \n",
    "        os.makedirs(diretorio_destino)\n",
    "        \n",
    "        '''    \n",
    "        # Abre o arquivo ZIP\n",
    "        with zipfile.ZipFile(arquivo_zip, 'r') as zip_ref:\n",
    "            \n",
    "            # Extrai todos os arquivos para a pasta de destino\n",
    "            zip_ref.extractall(diretorio_destino) \n",
    "\n",
    "        '''\n",
    "\n",
    "        display (f'Descompactando arquivo: {arquivo_zip}')\n",
    "        \n",
    "        # Abre o arquivo ZIP\n",
    "        with zipfile.ZipFile(arquivo_zip, 'r') as zip_ref:\n",
    "            \n",
    "            # Obtém a lista de nomes de arquivos no ZIP\n",
    "            lista_arquivos = zip_ref.namelist()\n",
    "    \n",
    "            # Configura a barra de progresso\n",
    "            progresso = tqdm(total=len(lista_arquivos), desc='Extraindo arquivos', unit='arquivos')\n",
    "    \n",
    "            # Itera sobre os arquivos e extrai cada um\n",
    "            for arquivo in lista_arquivos:\n",
    "                zip_ref.extract(arquivo, diretorio_destino)\n",
    "                progresso.update(1)  # Atualiza a barra de progresso\n",
    "            progresso.close()\n",
    "\n",
    "        display(f'Arquivos extraídos para: {diretorio_destino}')\n",
    "            "
   ]
  },
  {
   "cell_type": "code",
   "execution_count": 3,
   "id": "596e1a9c-9dde-4045-845b-3b6a41171429",
   "metadata": {},
   "outputs": [],
   "source": [
    "def percorre_extrai_zip(diretorio, diretorio_destino):\n",
    "\n",
    "    # Lista todos os arquivos no diretório\n",
    "    arquivos = os.listdir(diretorio)    \n",
    "    \n",
    "    # Filtra apenas os arquivos, excluindo subdiretórios e trazendo apenas ZIP\n",
    "    arquivos = [arquivo for arquivo in arquivos if os.path.isfile(os.path.join(diretorio, arquivo)) & arquivo.lower().endswith('.zip')]\n",
    "    \n",
    "    # Ordena os arquivos alfabeticamente\n",
    "    arquivos_ordenados = sorted(arquivos)\n",
    "    \n",
    "    # Itera a lista de arquivos\n",
    "    for arquivo in arquivos_ordenados:\n",
    "        \n",
    "        caminho_completo = os.path.join(diretorio, arquivo)\n",
    "        \n",
    "        extrai_conteudo_zip(caminho_completo, diretorio_destino)\n",
    "\n"
   ]
  },
  {
   "cell_type": "code",
   "execution_count": 4,
   "id": "93bd302d-a1ec-4351-826a-312487fae474",
   "metadata": {},
   "outputs": [
    {
     "data": {
      "text/plain": [
       "'Descompactando arquivo: ../../../dados/dados_siape_bruto/201301_Servidores_SIAPE.zip'"
      ]
     },
     "metadata": {},
     "output_type": "display_data"
    },
    {
     "name": "stderr",
     "output_type": "stream",
     "text": [
      "Extraindo arquivos: 100%|██████████████████████████████████████████████████████████████████████████████████████████████████████| 3/3 [00:01<00:00,  1.60arquivos/s]\n"
     ]
    },
    {
     "data": {
      "text/plain": [
       "'Arquivos extraídos para: ../../../dados/dados_siape_bruto/descompactado/201301_Servidores_SIAPE'"
      ]
     },
     "metadata": {},
     "output_type": "display_data"
    },
    {
     "data": {
      "text/plain": [
       "'Descompactando arquivo: ../../../dados/dados_siape_bruto/201302_Servidores_SIAPE.zip'"
      ]
     },
     "metadata": {},
     "output_type": "display_data"
    },
    {
     "name": "stderr",
     "output_type": "stream",
     "text": [
      "Extraindo arquivos: 100%|██████████████████████████████████████████████████████████████████████████████████████████████████████| 3/3 [00:01<00:00,  1.76arquivos/s]\n"
     ]
    },
    {
     "data": {
      "text/plain": [
       "'Arquivos extraídos para: ../../../dados/dados_siape_bruto/descompactado/201302_Servidores_SIAPE'"
      ]
     },
     "metadata": {},
     "output_type": "display_data"
    },
    {
     "data": {
      "text/plain": [
       "'Descompactando arquivo: ../../../dados/dados_siape_bruto/201303_Servidores_SIAPE.zip'"
      ]
     },
     "metadata": {},
     "output_type": "display_data"
    },
    {
     "name": "stderr",
     "output_type": "stream",
     "text": [
      "Extraindo arquivos: 100%|██████████████████████████████████████████████████████████████████████████████████████████████████████| 3/3 [00:09<00:00,  3.26s/arquivos]\n"
     ]
    },
    {
     "data": {
      "text/plain": [
       "'Arquivos extraídos para: ../../../dados/dados_siape_bruto/descompactado/201303_Servidores_SIAPE'"
      ]
     },
     "metadata": {},
     "output_type": "display_data"
    },
    {
     "data": {
      "text/plain": [
       "'Descompactando arquivo: ../../../dados/dados_siape_bruto/201304_Servidores_SIAPE.zip'"
      ]
     },
     "metadata": {},
     "output_type": "display_data"
    },
    {
     "name": "stderr",
     "output_type": "stream",
     "text": [
      "Extraindo arquivos: 100%|██████████████████████████████████████████████████████████████████████████████████████████████████████| 3/3 [00:07<00:00,  2.45s/arquivos]\n"
     ]
    },
    {
     "data": {
      "text/plain": [
       "'Arquivos extraídos para: ../../../dados/dados_siape_bruto/descompactado/201304_Servidores_SIAPE'"
      ]
     },
     "metadata": {},
     "output_type": "display_data"
    },
    {
     "data": {
      "text/plain": [
       "'Descompactando arquivo: ../../../dados/dados_siape_bruto/201305_Servidores_SIAPE.zip'"
      ]
     },
     "metadata": {},
     "output_type": "display_data"
    },
    {
     "name": "stderr",
     "output_type": "stream",
     "text": [
      "Extraindo arquivos: 100%|██████████████████████████████████████████████████████████████████████████████████████████████████████| 3/3 [00:03<00:00,  1.31s/arquivos]\n"
     ]
    },
    {
     "data": {
      "text/plain": [
       "'Arquivos extraídos para: ../../../dados/dados_siape_bruto/descompactado/201305_Servidores_SIAPE'"
      ]
     },
     "metadata": {},
     "output_type": "display_data"
    },
    {
     "data": {
      "text/plain": [
       "'Descompactando arquivo: ../../../dados/dados_siape_bruto/201306_Servidores_SIAPE.zip'"
      ]
     },
     "metadata": {},
     "output_type": "display_data"
    },
    {
     "name": "stderr",
     "output_type": "stream",
     "text": [
      "Extraindo arquivos: 100%|██████████████████████████████████████████████████████████████████████████████████████████████████████| 3/3 [00:12<00:00,  4.17s/arquivos]\n"
     ]
    },
    {
     "data": {
      "text/plain": [
       "'Arquivos extraídos para: ../../../dados/dados_siape_bruto/descompactado/201306_Servidores_SIAPE'"
      ]
     },
     "metadata": {},
     "output_type": "display_data"
    },
    {
     "data": {
      "text/plain": [
       "'Descompactando arquivo: ../../../dados/dados_siape_bruto/201307_Servidores_SIAPE.zip'"
      ]
     },
     "metadata": {},
     "output_type": "display_data"
    },
    {
     "name": "stderr",
     "output_type": "stream",
     "text": [
      "Extraindo arquivos: 100%|██████████████████████████████████████████████████████████████████████████████████████████████████████| 3/3 [00:03<00:00,  1.00s/arquivos]\n"
     ]
    },
    {
     "data": {
      "text/plain": [
       "'Arquivos extraídos para: ../../../dados/dados_siape_bruto/descompactado/201307_Servidores_SIAPE'"
      ]
     },
     "metadata": {},
     "output_type": "display_data"
    },
    {
     "data": {
      "text/plain": [
       "'Descompactando arquivo: ../../../dados/dados_siape_bruto/201308_Servidores_SIAPE.zip'"
      ]
     },
     "metadata": {},
     "output_type": "display_data"
    },
    {
     "name": "stderr",
     "output_type": "stream",
     "text": [
      "Extraindo arquivos: 100%|██████████████████████████████████████████████████████████████████████████████████████████████████████| 3/3 [00:03<00:00,  1.11s/arquivos]\n"
     ]
    },
    {
     "data": {
      "text/plain": [
       "'Arquivos extraídos para: ../../../dados/dados_siape_bruto/descompactado/201308_Servidores_SIAPE'"
      ]
     },
     "metadata": {},
     "output_type": "display_data"
    },
    {
     "data": {
      "text/plain": [
       "'Descompactando arquivo: ../../../dados/dados_siape_bruto/201309_Servidores_SIAPE.zip'"
      ]
     },
     "metadata": {},
     "output_type": "display_data"
    },
    {
     "name": "stderr",
     "output_type": "stream",
     "text": [
      "Extraindo arquivos: 100%|██████████████████████████████████████████████████████████████████████████████████████████████████████| 3/3 [00:10<00:00,  3.34s/arquivos]\n"
     ]
    },
    {
     "data": {
      "text/plain": [
       "'Arquivos extraídos para: ../../../dados/dados_siape_bruto/descompactado/201309_Servidores_SIAPE'"
      ]
     },
     "metadata": {},
     "output_type": "display_data"
    },
    {
     "data": {
      "text/plain": [
       "'Descompactando arquivo: ../../../dados/dados_siape_bruto/201310_Servidores_SIAPE.zip'"
      ]
     },
     "metadata": {},
     "output_type": "display_data"
    },
    {
     "name": "stderr",
     "output_type": "stream",
     "text": [
      "Extraindo arquivos: 100%|██████████████████████████████████████████████████████████████████████████████████████████████████████| 3/3 [00:06<00:00,  2.13s/arquivos]\n"
     ]
    },
    {
     "data": {
      "text/plain": [
       "'Arquivos extraídos para: ../../../dados/dados_siape_bruto/descompactado/201310_Servidores_SIAPE'"
      ]
     },
     "metadata": {},
     "output_type": "display_data"
    },
    {
     "data": {
      "text/plain": [
       "'Descompactando arquivo: ../../../dados/dados_siape_bruto/201311_Servidores_SIAPE.zip'"
      ]
     },
     "metadata": {},
     "output_type": "display_data"
    },
    {
     "name": "stderr",
     "output_type": "stream",
     "text": [
      "Extraindo arquivos: 100%|██████████████████████████████████████████████████████████████████████████████████████████████████████| 3/3 [00:03<00:00,  1.21s/arquivos]\n"
     ]
    },
    {
     "data": {
      "text/plain": [
       "'Arquivos extraídos para: ../../../dados/dados_siape_bruto/descompactado/201311_Servidores_SIAPE'"
      ]
     },
     "metadata": {},
     "output_type": "display_data"
    },
    {
     "data": {
      "text/plain": [
       "'Descompactando arquivo: ../../../dados/dados_siape_bruto/201312_Servidores_SIAPE.zip'"
      ]
     },
     "metadata": {},
     "output_type": "display_data"
    },
    {
     "name": "stderr",
     "output_type": "stream",
     "text": [
      "Extraindo arquivos: 100%|██████████████████████████████████████████████████████████████████████████████████████████████████████| 3/3 [00:10<00:00,  3.37s/arquivos]\n"
     ]
    },
    {
     "data": {
      "text/plain": [
       "'Arquivos extraídos para: ../../../dados/dados_siape_bruto/descompactado/201312_Servidores_SIAPE'"
      ]
     },
     "metadata": {},
     "output_type": "display_data"
    },
    {
     "data": {
      "text/plain": [
       "'Descompactando arquivo: ../../../dados/dados_siape_bruto/201401_Servidores_SIAPE.zip'"
      ]
     },
     "metadata": {},
     "output_type": "display_data"
    },
    {
     "name": "stderr",
     "output_type": "stream",
     "text": [
      "Extraindo arquivos: 100%|██████████████████████████████████████████████████████████████████████████████████████████████████████| 3/3 [00:03<00:00,  1.11s/arquivos]\n"
     ]
    },
    {
     "data": {
      "text/plain": [
       "'Arquivos extraídos para: ../../../dados/dados_siape_bruto/descompactado/201401_Servidores_SIAPE'"
      ]
     },
     "metadata": {},
     "output_type": "display_data"
    },
    {
     "data": {
      "text/plain": [
       "'Descompactando arquivo: ../../../dados/dados_siape_bruto/201402_Servidores_SIAPE.zip'"
      ]
     },
     "metadata": {},
     "output_type": "display_data"
    },
    {
     "name": "stderr",
     "output_type": "stream",
     "text": [
      "Extraindo arquivos: 100%|██████████████████████████████████████████████████████████████████████████████████████████████████████| 3/3 [00:05<00:00,  1.97s/arquivos]\n"
     ]
    },
    {
     "data": {
      "text/plain": [
       "'Arquivos extraídos para: ../../../dados/dados_siape_bruto/descompactado/201402_Servidores_SIAPE'"
      ]
     },
     "metadata": {},
     "output_type": "display_data"
    },
    {
     "data": {
      "text/plain": [
       "'Descompactando arquivo: ../../../dados/dados_siape_bruto/201403_Servidores_SIAPE.zip'"
      ]
     },
     "metadata": {},
     "output_type": "display_data"
    },
    {
     "name": "stderr",
     "output_type": "stream",
     "text": [
      "Extraindo arquivos: 100%|██████████████████████████████████████████████████████████████████████████████████████████████████████| 3/3 [00:08<00:00,  2.84s/arquivos]\n"
     ]
    },
    {
     "data": {
      "text/plain": [
       "'Arquivos extraídos para: ../../../dados/dados_siape_bruto/descompactado/201403_Servidores_SIAPE'"
      ]
     },
     "metadata": {},
     "output_type": "display_data"
    },
    {
     "data": {
      "text/plain": [
       "'Descompactando arquivo: ../../../dados/dados_siape_bruto/201404_Servidores_SIAPE.zip'"
      ]
     },
     "metadata": {},
     "output_type": "display_data"
    },
    {
     "name": "stderr",
     "output_type": "stream",
     "text": [
      "Extraindo arquivos: 100%|██████████████████████████████████████████████████████████████████████████████████████████████████████| 3/3 [00:02<00:00,  1.41arquivos/s]\n"
     ]
    },
    {
     "data": {
      "text/plain": [
       "'Arquivos extraídos para: ../../../dados/dados_siape_bruto/descompactado/201404_Servidores_SIAPE'"
      ]
     },
     "metadata": {},
     "output_type": "display_data"
    },
    {
     "data": {
      "text/plain": [
       "'Descompactando arquivo: ../../../dados/dados_siape_bruto/201405_Servidores_SIAPE.zip'"
      ]
     },
     "metadata": {},
     "output_type": "display_data"
    },
    {
     "name": "stderr",
     "output_type": "stream",
     "text": [
      "Extraindo arquivos: 100%|██████████████████████████████████████████████████████████████████████████████████████████████████████| 3/3 [00:06<00:00,  2.23s/arquivos]\n"
     ]
    },
    {
     "data": {
      "text/plain": [
       "'Arquivos extraídos para: ../../../dados/dados_siape_bruto/descompactado/201405_Servidores_SIAPE'"
      ]
     },
     "metadata": {},
     "output_type": "display_data"
    },
    {
     "data": {
      "text/plain": [
       "'Descompactando arquivo: ../../../dados/dados_siape_bruto/201406_Servidores_SIAPE.zip'"
      ]
     },
     "metadata": {},
     "output_type": "display_data"
    },
    {
     "name": "stderr",
     "output_type": "stream",
     "text": [
      "Extraindo arquivos: 100%|██████████████████████████████████████████████████████████████████████████████████████████████████████| 3/3 [00:07<00:00,  2.43s/arquivos]\n"
     ]
    },
    {
     "data": {
      "text/plain": [
       "'Arquivos extraídos para: ../../../dados/dados_siape_bruto/descompactado/201406_Servidores_SIAPE'"
      ]
     },
     "metadata": {},
     "output_type": "display_data"
    },
    {
     "data": {
      "text/plain": [
       "'Descompactando arquivo: ../../../dados/dados_siape_bruto/201407_Servidores_SIAPE.zip'"
      ]
     },
     "metadata": {},
     "output_type": "display_data"
    },
    {
     "name": "stderr",
     "output_type": "stream",
     "text": [
      "Extraindo arquivos: 100%|██████████████████████████████████████████████████████████████████████████████████████████████████████| 3/3 [00:03<00:00,  1.09s/arquivos]\n"
     ]
    },
    {
     "data": {
      "text/plain": [
       "'Arquivos extraídos para: ../../../dados/dados_siape_bruto/descompactado/201407_Servidores_SIAPE'"
      ]
     },
     "metadata": {},
     "output_type": "display_data"
    },
    {
     "data": {
      "text/plain": [
       "'Descompactando arquivo: ../../../dados/dados_siape_bruto/201408_Servidores_SIAPE.zip'"
      ]
     },
     "metadata": {},
     "output_type": "display_data"
    },
    {
     "name": "stderr",
     "output_type": "stream",
     "text": [
      "Extraindo arquivos: 100%|██████████████████████████████████████████████████████████████████████████████████████████████████████| 3/3 [00:10<00:00,  3.61s/arquivos]\n"
     ]
    },
    {
     "data": {
      "text/plain": [
       "'Arquivos extraídos para: ../../../dados/dados_siape_bruto/descompactado/201408_Servidores_SIAPE'"
      ]
     },
     "metadata": {},
     "output_type": "display_data"
    },
    {
     "data": {
      "text/plain": [
       "'Descompactando arquivo: ../../../dados/dados_siape_bruto/201409_Servidores_SIAPE.zip'"
      ]
     },
     "metadata": {},
     "output_type": "display_data"
    },
    {
     "name": "stderr",
     "output_type": "stream",
     "text": [
      "Extraindo arquivos: 100%|██████████████████████████████████████████████████████████████████████████████████████████████████████| 3/3 [00:04<00:00,  1.52s/arquivos]\n"
     ]
    },
    {
     "data": {
      "text/plain": [
       "'Arquivos extraídos para: ../../../dados/dados_siape_bruto/descompactado/201409_Servidores_SIAPE'"
      ]
     },
     "metadata": {},
     "output_type": "display_data"
    },
    {
     "data": {
      "text/plain": [
       "'Descompactando arquivo: ../../../dados/dados_siape_bruto/201410_Servidores_SIAPE.zip'"
      ]
     },
     "metadata": {},
     "output_type": "display_data"
    },
    {
     "name": "stderr",
     "output_type": "stream",
     "text": [
      "Extraindo arquivos: 100%|██████████████████████████████████████████████████████████████████████████████████████████████████████| 3/3 [00:03<00:00,  1.30s/arquivos]\n"
     ]
    },
    {
     "data": {
      "text/plain": [
       "'Arquivos extraídos para: ../../../dados/dados_siape_bruto/descompactado/201410_Servidores_SIAPE'"
      ]
     },
     "metadata": {},
     "output_type": "display_data"
    },
    {
     "data": {
      "text/plain": [
       "'Descompactando arquivo: ../../../dados/dados_siape_bruto/201411_Servidores_SIAPE.zip'"
      ]
     },
     "metadata": {},
     "output_type": "display_data"
    },
    {
     "name": "stderr",
     "output_type": "stream",
     "text": [
      "Extraindo arquivos: 100%|██████████████████████████████████████████████████████████████████████████████████████████████████████| 3/3 [00:15<00:00,  5.01s/arquivos]\n"
     ]
    },
    {
     "data": {
      "text/plain": [
       "'Arquivos extraídos para: ../../../dados/dados_siape_bruto/descompactado/201411_Servidores_SIAPE'"
      ]
     },
     "metadata": {},
     "output_type": "display_data"
    },
    {
     "data": {
      "text/plain": [
       "'Descompactando arquivo: ../../../dados/dados_siape_bruto/201412_Servidores_SIAPE.zip'"
      ]
     },
     "metadata": {},
     "output_type": "display_data"
    },
    {
     "name": "stderr",
     "output_type": "stream",
     "text": [
      "Extraindo arquivos: 100%|██████████████████████████████████████████████████████████████████████████████████████████████████████| 3/3 [00:02<00:00,  1.32arquivos/s]\n"
     ]
    },
    {
     "data": {
      "text/plain": [
       "'Arquivos extraídos para: ../../../dados/dados_siape_bruto/descompactado/201412_Servidores_SIAPE'"
      ]
     },
     "metadata": {},
     "output_type": "display_data"
    },
    {
     "data": {
      "text/plain": [
       "'Descompactando arquivo: ../../../dados/dados_siape_bruto/201501_Servidores_SIAPE.zip'"
      ]
     },
     "metadata": {},
     "output_type": "display_data"
    },
    {
     "name": "stderr",
     "output_type": "stream",
     "text": [
      "Extraindo arquivos: 100%|██████████████████████████████████████████████████████████████████████████████████████████████████████| 3/3 [00:03<00:00,  1.24s/arquivos]\n"
     ]
    },
    {
     "data": {
      "text/plain": [
       "'Arquivos extraídos para: ../../../dados/dados_siape_bruto/descompactado/201501_Servidores_SIAPE'"
      ]
     },
     "metadata": {},
     "output_type": "display_data"
    },
    {
     "data": {
      "text/plain": [
       "'Descompactando arquivo: ../../../dados/dados_siape_bruto/201502_Servidores_SIAPE.zip'"
      ]
     },
     "metadata": {},
     "output_type": "display_data"
    },
    {
     "name": "stderr",
     "output_type": "stream",
     "text": [
      "Extraindo arquivos: 100%|██████████████████████████████████████████████████████████████████████████████████████████████████████| 3/3 [00:11<00:00,  3.73s/arquivos]\n"
     ]
    },
    {
     "data": {
      "text/plain": [
       "'Arquivos extraídos para: ../../../dados/dados_siape_bruto/descompactado/201502_Servidores_SIAPE'"
      ]
     },
     "metadata": {},
     "output_type": "display_data"
    },
    {
     "data": {
      "text/plain": [
       "'Descompactando arquivo: ../../../dados/dados_siape_bruto/201503_Servidores_SIAPE.zip'"
      ]
     },
     "metadata": {},
     "output_type": "display_data"
    },
    {
     "name": "stderr",
     "output_type": "stream",
     "text": [
      "Extraindo arquivos: 100%|██████████████████████████████████████████████████████████████████████████████████████████████████████| 3/3 [00:03<00:00,  1.12s/arquivos]\n"
     ]
    },
    {
     "data": {
      "text/plain": [
       "'Arquivos extraídos para: ../../../dados/dados_siape_bruto/descompactado/201503_Servidores_SIAPE'"
      ]
     },
     "metadata": {},
     "output_type": "display_data"
    },
    {
     "data": {
      "text/plain": [
       "'Descompactando arquivo: ../../../dados/dados_siape_bruto/201504_Servidores_SIAPE.zip'"
      ]
     },
     "metadata": {},
     "output_type": "display_data"
    },
    {
     "name": "stderr",
     "output_type": "stream",
     "text": [
      "Extraindo arquivos: 100%|██████████████████████████████████████████████████████████████████████████████████████████████████████| 4/4 [00:03<00:00,  1.00arquivos/s]\n"
     ]
    },
    {
     "data": {
      "text/plain": [
       "'Arquivos extraídos para: ../../../dados/dados_siape_bruto/descompactado/201504_Servidores_SIAPE'"
      ]
     },
     "metadata": {},
     "output_type": "display_data"
    },
    {
     "data": {
      "text/plain": [
       "'Descompactando arquivo: ../../../dados/dados_siape_bruto/201505_Servidores_SIAPE.zip'"
      ]
     },
     "metadata": {},
     "output_type": "display_data"
    },
    {
     "name": "stderr",
     "output_type": "stream",
     "text": [
      "Extraindo arquivos: 100%|██████████████████████████████████████████████████████████████████████████████████████████████████████| 4/4 [00:11<00:00,  2.87s/arquivos]\n"
     ]
    },
    {
     "data": {
      "text/plain": [
       "'Arquivos extraídos para: ../../../dados/dados_siape_bruto/descompactado/201505_Servidores_SIAPE'"
      ]
     },
     "metadata": {},
     "output_type": "display_data"
    },
    {
     "data": {
      "text/plain": [
       "'Descompactando arquivo: ../../../dados/dados_siape_bruto/201506_Servidores_SIAPE.zip'"
      ]
     },
     "metadata": {},
     "output_type": "display_data"
    },
    {
     "name": "stderr",
     "output_type": "stream",
     "text": [
      "Extraindo arquivos: 100%|██████████████████████████████████████████████████████████████████████████████████████████████████████| 4/4 [00:02<00:00,  1.45arquivos/s]\n"
     ]
    },
    {
     "data": {
      "text/plain": [
       "'Arquivos extraídos para: ../../../dados/dados_siape_bruto/descompactado/201506_Servidores_SIAPE'"
      ]
     },
     "metadata": {},
     "output_type": "display_data"
    },
    {
     "data": {
      "text/plain": [
       "'Descompactando arquivo: ../../../dados/dados_siape_bruto/201507_Servidores_SIAPE.zip'"
      ]
     },
     "metadata": {},
     "output_type": "display_data"
    },
    {
     "name": "stderr",
     "output_type": "stream",
     "text": [
      "Extraindo arquivos: 100%|██████████████████████████████████████████████████████████████████████████████████████████████████████| 4/4 [00:13<00:00,  3.37s/arquivos]\n"
     ]
    },
    {
     "data": {
      "text/plain": [
       "'Arquivos extraídos para: ../../../dados/dados_siape_bruto/descompactado/201507_Servidores_SIAPE'"
      ]
     },
     "metadata": {},
     "output_type": "display_data"
    },
    {
     "data": {
      "text/plain": [
       "'Descompactando arquivo: ../../../dados/dados_siape_bruto/201508_Servidores_SIAPE.zip'"
      ]
     },
     "metadata": {},
     "output_type": "display_data"
    },
    {
     "name": "stderr",
     "output_type": "stream",
     "text": [
      "Extraindo arquivos: 100%|██████████████████████████████████████████████████████████████████████████████████████████████████████| 4/4 [00:05<00:00,  1.27s/arquivos]\n"
     ]
    },
    {
     "data": {
      "text/plain": [
       "'Arquivos extraídos para: ../../../dados/dados_siape_bruto/descompactado/201508_Servidores_SIAPE'"
      ]
     },
     "metadata": {},
     "output_type": "display_data"
    },
    {
     "data": {
      "text/plain": [
       "'Descompactando arquivo: ../../../dados/dados_siape_bruto/201509_Servidores_SIAPE.zip'"
      ]
     },
     "metadata": {},
     "output_type": "display_data"
    },
    {
     "name": "stderr",
     "output_type": "stream",
     "text": [
      "Extraindo arquivos: 100%|██████████████████████████████████████████████████████████████████████████████████████████████████████| 4/4 [00:04<00:00,  1.05s/arquivos]\n"
     ]
    },
    {
     "data": {
      "text/plain": [
       "'Arquivos extraídos para: ../../../dados/dados_siape_bruto/descompactado/201509_Servidores_SIAPE'"
      ]
     },
     "metadata": {},
     "output_type": "display_data"
    },
    {
     "data": {
      "text/plain": [
       "'Descompactando arquivo: ../../../dados/dados_siape_bruto/201510_Servidores_SIAPE.zip'"
      ]
     },
     "metadata": {},
     "output_type": "display_data"
    },
    {
     "name": "stderr",
     "output_type": "stream",
     "text": [
      "Extraindo arquivos: 100%|██████████████████████████████████████████████████████████████████████████████████████████████████████| 4/4 [00:16<00:00,  4.08s/arquivos]\n"
     ]
    },
    {
     "data": {
      "text/plain": [
       "'Arquivos extraídos para: ../../../dados/dados_siape_bruto/descompactado/201510_Servidores_SIAPE'"
      ]
     },
     "metadata": {},
     "output_type": "display_data"
    },
    {
     "data": {
      "text/plain": [
       "'Descompactando arquivo: ../../../dados/dados_siape_bruto/201511_Servidores_SIAPE.zip'"
      ]
     },
     "metadata": {},
     "output_type": "display_data"
    },
    {
     "name": "stderr",
     "output_type": "stream",
     "text": [
      "Extraindo arquivos: 100%|██████████████████████████████████████████████████████████████████████████████████████████████████████| 4/4 [00:02<00:00,  1.72arquivos/s]\n"
     ]
    },
    {
     "data": {
      "text/plain": [
       "'Arquivos extraídos para: ../../../dados/dados_siape_bruto/descompactado/201511_Servidores_SIAPE'"
      ]
     },
     "metadata": {},
     "output_type": "display_data"
    },
    {
     "data": {
      "text/plain": [
       "'Descompactando arquivo: ../../../dados/dados_siape_bruto/201512_Servidores_SIAPE.zip'"
      ]
     },
     "metadata": {},
     "output_type": "display_data"
    },
    {
     "name": "stderr",
     "output_type": "stream",
     "text": [
      "Extraindo arquivos: 100%|██████████████████████████████████████████████████████████████████████████████████████████████████████| 4/4 [00:04<00:00,  1.19s/arquivos]\n"
     ]
    },
    {
     "data": {
      "text/plain": [
       "'Arquivos extraídos para: ../../../dados/dados_siape_bruto/descompactado/201512_Servidores_SIAPE'"
      ]
     },
     "metadata": {},
     "output_type": "display_data"
    },
    {
     "data": {
      "text/plain": [
       "'Descompactando arquivo: ../../../dados/dados_siape_bruto/201601_Servidores_SIAPE.zip'"
      ]
     },
     "metadata": {},
     "output_type": "display_data"
    },
    {
     "name": "stderr",
     "output_type": "stream",
     "text": [
      "Extraindo arquivos: 100%|██████████████████████████████████████████████████████████████████████████████████████████████████████| 4/4 [00:12<00:00,  3.15s/arquivos]\n"
     ]
    },
    {
     "data": {
      "text/plain": [
       "'Arquivos extraídos para: ../../../dados/dados_siape_bruto/descompactado/201601_Servidores_SIAPE'"
      ]
     },
     "metadata": {},
     "output_type": "display_data"
    },
    {
     "data": {
      "text/plain": [
       "'Descompactando arquivo: ../../../dados/dados_siape_bruto/201602_Servidores_SIAPE.zip'"
      ]
     },
     "metadata": {},
     "output_type": "display_data"
    },
    {
     "name": "stderr",
     "output_type": "stream",
     "text": [
      "Extraindo arquivos: 100%|██████████████████████████████████████████████████████████████████████████████████████████████████████| 4/4 [00:03<00:00,  1.29arquivos/s]\n"
     ]
    },
    {
     "data": {
      "text/plain": [
       "'Arquivos extraídos para: ../../../dados/dados_siape_bruto/descompactado/201602_Servidores_SIAPE'"
      ]
     },
     "metadata": {},
     "output_type": "display_data"
    },
    {
     "data": {
      "text/plain": [
       "'Descompactando arquivo: ../../../dados/dados_siape_bruto/201603_Servidores_SIAPE.zip'"
      ]
     },
     "metadata": {},
     "output_type": "display_data"
    },
    {
     "name": "stderr",
     "output_type": "stream",
     "text": [
      "Extraindo arquivos: 100%|██████████████████████████████████████████████████████████████████████████████████████████████████████| 4/4 [00:13<00:00,  3.33s/arquivos]\n"
     ]
    },
    {
     "data": {
      "text/plain": [
       "'Arquivos extraídos para: ../../../dados/dados_siape_bruto/descompactado/201603_Servidores_SIAPE'"
      ]
     },
     "metadata": {},
     "output_type": "display_data"
    },
    {
     "data": {
      "text/plain": [
       "'Descompactando arquivo: ../../../dados/dados_siape_bruto/201604_Servidores_SIAPE.zip'"
      ]
     },
     "metadata": {},
     "output_type": "display_data"
    },
    {
     "name": "stderr",
     "output_type": "stream",
     "text": [
      "Extraindo arquivos: 100%|██████████████████████████████████████████████████████████████████████████████████████████████████████| 4/4 [00:04<00:00,  1.05s/arquivos]\n"
     ]
    },
    {
     "data": {
      "text/plain": [
       "'Arquivos extraídos para: ../../../dados/dados_siape_bruto/descompactado/201604_Servidores_SIAPE'"
      ]
     },
     "metadata": {},
     "output_type": "display_data"
    },
    {
     "data": {
      "text/plain": [
       "'Descompactando arquivo: ../../../dados/dados_siape_bruto/201605_Servidores_SIAPE.zip'"
      ]
     },
     "metadata": {},
     "output_type": "display_data"
    },
    {
     "name": "stderr",
     "output_type": "stream",
     "text": [
      "Extraindo arquivos: 100%|██████████████████████████████████████████████████████████████████████████████████████████████████████| 4/4 [00:04<00:00,  1.16s/arquivos]\n"
     ]
    },
    {
     "data": {
      "text/plain": [
       "'Arquivos extraídos para: ../../../dados/dados_siape_bruto/descompactado/201605_Servidores_SIAPE'"
      ]
     },
     "metadata": {},
     "output_type": "display_data"
    },
    {
     "data": {
      "text/plain": [
       "'Descompactando arquivo: ../../../dados/dados_siape_bruto/201606_Servidores_SIAPE.zip'"
      ]
     },
     "metadata": {},
     "output_type": "display_data"
    },
    {
     "name": "stderr",
     "output_type": "stream",
     "text": [
      "Extraindo arquivos: 100%|██████████████████████████████████████████████████████████████████████████████████████████████████████| 4/4 [00:10<00:00,  2.56s/arquivos]\n"
     ]
    },
    {
     "data": {
      "text/plain": [
       "'Arquivos extraídos para: ../../../dados/dados_siape_bruto/descompactado/201606_Servidores_SIAPE'"
      ]
     },
     "metadata": {},
     "output_type": "display_data"
    },
    {
     "data": {
      "text/plain": [
       "'Descompactando arquivo: ../../../dados/dados_siape_bruto/201607_Servidores_SIAPE.zip'"
      ]
     },
     "metadata": {},
     "output_type": "display_data"
    },
    {
     "name": "stderr",
     "output_type": "stream",
     "text": [
      "Extraindo arquivos: 100%|██████████████████████████████████████████████████████████████████████████████████████████████████████| 4/4 [00:03<00:00,  1.30arquivos/s]\n"
     ]
    },
    {
     "data": {
      "text/plain": [
       "'Arquivos extraídos para: ../../../dados/dados_siape_bruto/descompactado/201607_Servidores_SIAPE'"
      ]
     },
     "metadata": {},
     "output_type": "display_data"
    },
    {
     "data": {
      "text/plain": [
       "'Descompactando arquivo: ../../../dados/dados_siape_bruto/201608_Servidores_SIAPE.zip'"
      ]
     },
     "metadata": {},
     "output_type": "display_data"
    },
    {
     "name": "stderr",
     "output_type": "stream",
     "text": [
      "Extraindo arquivos: 100%|██████████████████████████████████████████████████████████████████████████████████████████████████████| 4/4 [00:10<00:00,  2.55s/arquivos]\n"
     ]
    },
    {
     "data": {
      "text/plain": [
       "'Arquivos extraídos para: ../../../dados/dados_siape_bruto/descompactado/201608_Servidores_SIAPE'"
      ]
     },
     "metadata": {},
     "output_type": "display_data"
    },
    {
     "data": {
      "text/plain": [
       "'Descompactando arquivo: ../../../dados/dados_siape_bruto/201609_Servidores_SIAPE.zip'"
      ]
     },
     "metadata": {},
     "output_type": "display_data"
    },
    {
     "name": "stderr",
     "output_type": "stream",
     "text": [
      "Extraindo arquivos: 100%|██████████████████████████████████████████████████████████████████████████████████████████████████████| 4/4 [00:07<00:00,  1.79s/arquivos]\n"
     ]
    },
    {
     "data": {
      "text/plain": [
       "'Arquivos extraídos para: ../../../dados/dados_siape_bruto/descompactado/201609_Servidores_SIAPE'"
      ]
     },
     "metadata": {},
     "output_type": "display_data"
    },
    {
     "data": {
      "text/plain": [
       "'Descompactando arquivo: ../../../dados/dados_siape_bruto/201610_Servidores_SIAPE.zip'"
      ]
     },
     "metadata": {},
     "output_type": "display_data"
    },
    {
     "name": "stderr",
     "output_type": "stream",
     "text": [
      "Extraindo arquivos: 100%|██████████████████████████████████████████████████████████████████████████████████████████████████████| 4/4 [00:04<00:00,  1.23s/arquivos]\n"
     ]
    },
    {
     "data": {
      "text/plain": [
       "'Arquivos extraídos para: ../../../dados/dados_siape_bruto/descompactado/201610_Servidores_SIAPE'"
      ]
     },
     "metadata": {},
     "output_type": "display_data"
    },
    {
     "data": {
      "text/plain": [
       "'Descompactando arquivo: ../../../dados/dados_siape_bruto/201611_Servidores_SIAPE.zip'"
      ]
     },
     "metadata": {},
     "output_type": "display_data"
    },
    {
     "name": "stderr",
     "output_type": "stream",
     "text": [
      "Extraindo arquivos: 100%|██████████████████████████████████████████████████████████████████████████████████████████████████████| 4/4 [00:10<00:00,  2.63s/arquivos]\n"
     ]
    },
    {
     "data": {
      "text/plain": [
       "'Arquivos extraídos para: ../../../dados/dados_siape_bruto/descompactado/201611_Servidores_SIAPE'"
      ]
     },
     "metadata": {},
     "output_type": "display_data"
    },
    {
     "data": {
      "text/plain": [
       "'Descompactando arquivo: ../../../dados/dados_siape_bruto/201612_Servidores_SIAPE.zip'"
      ]
     },
     "metadata": {},
     "output_type": "display_data"
    },
    {
     "name": "stderr",
     "output_type": "stream",
     "text": [
      "Extraindo arquivos: 100%|██████████████████████████████████████████████████████████████████████████████████████████████████████| 4/4 [00:03<00:00,  1.21arquivos/s]\n"
     ]
    },
    {
     "data": {
      "text/plain": [
       "'Arquivos extraídos para: ../../../dados/dados_siape_bruto/descompactado/201612_Servidores_SIAPE'"
      ]
     },
     "metadata": {},
     "output_type": "display_data"
    },
    {
     "data": {
      "text/plain": [
       "'Descompactando arquivo: ../../../dados/dados_siape_bruto/201701_Servidores_SIAPE.zip'"
      ]
     },
     "metadata": {},
     "output_type": "display_data"
    },
    {
     "name": "stderr",
     "output_type": "stream",
     "text": [
      "Extraindo arquivos: 100%|██████████████████████████████████████████████████████████████████████████████████████████████████████| 4/4 [00:16<00:00,  4.04s/arquivos]\n"
     ]
    },
    {
     "data": {
      "text/plain": [
       "'Arquivos extraídos para: ../../../dados/dados_siape_bruto/descompactado/201701_Servidores_SIAPE'"
      ]
     },
     "metadata": {},
     "output_type": "display_data"
    },
    {
     "data": {
      "text/plain": [
       "'Descompactando arquivo: ../../../dados/dados_siape_bruto/201702_Servidores_SIAPE.zip'"
      ]
     },
     "metadata": {},
     "output_type": "display_data"
    },
    {
     "name": "stderr",
     "output_type": "stream",
     "text": [
      "Extraindo arquivos: 100%|██████████████████████████████████████████████████████████████████████████████████████████████████████| 4/4 [00:03<00:00,  1.12arquivos/s]\n"
     ]
    },
    {
     "data": {
      "text/plain": [
       "'Arquivos extraídos para: ../../../dados/dados_siape_bruto/descompactado/201702_Servidores_SIAPE'"
      ]
     },
     "metadata": {},
     "output_type": "display_data"
    },
    {
     "data": {
      "text/plain": [
       "'Descompactando arquivo: ../../../dados/dados_siape_bruto/201703_Servidores_SIAPE.zip'"
      ]
     },
     "metadata": {},
     "output_type": "display_data"
    },
    {
     "name": "stderr",
     "output_type": "stream",
     "text": [
      "Extraindo arquivos: 100%|██████████████████████████████████████████████████████████████████████████████████████████████████████| 4/4 [00:04<00:00,  1.11s/arquivos]\n"
     ]
    },
    {
     "data": {
      "text/plain": [
       "'Arquivos extraídos para: ../../../dados/dados_siape_bruto/descompactado/201703_Servidores_SIAPE'"
      ]
     },
     "metadata": {},
     "output_type": "display_data"
    },
    {
     "data": {
      "text/plain": [
       "'Descompactando arquivo: ../../../dados/dados_siape_bruto/201704_Servidores_SIAPE.zip'"
      ]
     },
     "metadata": {},
     "output_type": "display_data"
    },
    {
     "name": "stderr",
     "output_type": "stream",
     "text": [
      "Extraindo arquivos: 100%|██████████████████████████████████████████████████████████████████████████████████████████████████████| 4/4 [00:13<00:00,  3.46s/arquivos]\n"
     ]
    },
    {
     "data": {
      "text/plain": [
       "'Arquivos extraídos para: ../../../dados/dados_siape_bruto/descompactado/201704_Servidores_SIAPE'"
      ]
     },
     "metadata": {},
     "output_type": "display_data"
    },
    {
     "data": {
      "text/plain": [
       "'Descompactando arquivo: ../../../dados/dados_siape_bruto/201705_Servidores_SIAPE.zip'"
      ]
     },
     "metadata": {},
     "output_type": "display_data"
    },
    {
     "name": "stderr",
     "output_type": "stream",
     "text": [
      "Extraindo arquivos: 100%|██████████████████████████████████████████████████████████████████████████████████████████████████████| 4/4 [00:01<00:00,  2.22arquivos/s]\n"
     ]
    },
    {
     "data": {
      "text/plain": [
       "'Arquivos extraídos para: ../../../dados/dados_siape_bruto/descompactado/201705_Servidores_SIAPE'"
      ]
     },
     "metadata": {},
     "output_type": "display_data"
    },
    {
     "data": {
      "text/plain": [
       "'Descompactando arquivo: ../../../dados/dados_siape_bruto/201706_Servidores_SIAPE.zip'"
      ]
     },
     "metadata": {},
     "output_type": "display_data"
    },
    {
     "name": "stderr",
     "output_type": "stream",
     "text": [
      "Extraindo arquivos: 100%|██████████████████████████████████████████████████████████████████████████████████████████████████████| 4/4 [00:24<00:00,  6.02s/arquivos]\n"
     ]
    },
    {
     "data": {
      "text/plain": [
       "'Arquivos extraídos para: ../../../dados/dados_siape_bruto/descompactado/201706_Servidores_SIAPE'"
      ]
     },
     "metadata": {},
     "output_type": "display_data"
    },
    {
     "data": {
      "text/plain": [
       "'Descompactando arquivo: ../../../dados/dados_siape_bruto/201707_Servidores_SIAPE.zip'"
      ]
     },
     "metadata": {},
     "output_type": "display_data"
    },
    {
     "name": "stderr",
     "output_type": "stream",
     "text": [
      "Extraindo arquivos: 100%|██████████████████████████████████████████████████████████████████████████████████████████████████████| 4/4 [00:07<00:00,  1.92s/arquivos]\n"
     ]
    },
    {
     "data": {
      "text/plain": [
       "'Arquivos extraídos para: ../../../dados/dados_siape_bruto/descompactado/201707_Servidores_SIAPE'"
      ]
     },
     "metadata": {},
     "output_type": "display_data"
    },
    {
     "data": {
      "text/plain": [
       "'Descompactando arquivo: ../../../dados/dados_siape_bruto/201708_Servidores_SIAPE.zip'"
      ]
     },
     "metadata": {},
     "output_type": "display_data"
    },
    {
     "name": "stderr",
     "output_type": "stream",
     "text": [
      "Extraindo arquivos: 100%|██████████████████████████████████████████████████████████████████████████████████████████████████████| 4/4 [00:04<00:00,  1.11s/arquivos]\n"
     ]
    },
    {
     "data": {
      "text/plain": [
       "'Arquivos extraídos para: ../../../dados/dados_siape_bruto/descompactado/201708_Servidores_SIAPE'"
      ]
     },
     "metadata": {},
     "output_type": "display_data"
    },
    {
     "data": {
      "text/plain": [
       "'Descompactando arquivo: ../../../dados/dados_siape_bruto/201709_Servidores_SIAPE.zip'"
      ]
     },
     "metadata": {},
     "output_type": "display_data"
    },
    {
     "name": "stderr",
     "output_type": "stream",
     "text": [
      "Extraindo arquivos: 100%|██████████████████████████████████████████████████████████████████████████████████████████████████████| 4/4 [00:12<00:00,  3.14s/arquivos]\n"
     ]
    },
    {
     "data": {
      "text/plain": [
       "'Arquivos extraídos para: ../../../dados/dados_siape_bruto/descompactado/201709_Servidores_SIAPE'"
      ]
     },
     "metadata": {},
     "output_type": "display_data"
    },
    {
     "data": {
      "text/plain": [
       "'Descompactando arquivo: ../../../dados/dados_siape_bruto/201710_Servidores_SIAPE.zip'"
      ]
     },
     "metadata": {},
     "output_type": "display_data"
    },
    {
     "name": "stderr",
     "output_type": "stream",
     "text": [
      "Extraindo arquivos: 100%|██████████████████████████████████████████████████████████████████████████████████████████████████████| 4/4 [00:03<00:00,  1.20arquivos/s]\n"
     ]
    },
    {
     "data": {
      "text/plain": [
       "'Arquivos extraídos para: ../../../dados/dados_siape_bruto/descompactado/201710_Servidores_SIAPE'"
      ]
     },
     "metadata": {},
     "output_type": "display_data"
    },
    {
     "data": {
      "text/plain": [
       "'Descompactando arquivo: ../../../dados/dados_siape_bruto/201711_Servidores_SIAPE.zip'"
      ]
     },
     "metadata": {},
     "output_type": "display_data"
    },
    {
     "name": "stderr",
     "output_type": "stream",
     "text": [
      "Extraindo arquivos: 100%|██████████████████████████████████████████████████████████████████████████████████████████████████████| 4/4 [00:13<00:00,  3.39s/arquivos]\n"
     ]
    },
    {
     "data": {
      "text/plain": [
       "'Arquivos extraídos para: ../../../dados/dados_siape_bruto/descompactado/201711_Servidores_SIAPE'"
      ]
     },
     "metadata": {},
     "output_type": "display_data"
    },
    {
     "data": {
      "text/plain": [
       "'Descompactando arquivo: ../../../dados/dados_siape_bruto/201712_Servidores_SIAPE.zip'"
      ]
     },
     "metadata": {},
     "output_type": "display_data"
    },
    {
     "name": "stderr",
     "output_type": "stream",
     "text": [
      "Extraindo arquivos: 100%|██████████████████████████████████████████████████████████████████████████████████████████████████████| 4/4 [00:05<00:00,  1.46s/arquivos]\n"
     ]
    },
    {
     "data": {
      "text/plain": [
       "'Arquivos extraídos para: ../../../dados/dados_siape_bruto/descompactado/201712_Servidores_SIAPE'"
      ]
     },
     "metadata": {},
     "output_type": "display_data"
    },
    {
     "data": {
      "text/plain": [
       "'Descompactando arquivo: ../../../dados/dados_siape_bruto/201801_Servidores_SIAPE.zip'"
      ]
     },
     "metadata": {},
     "output_type": "display_data"
    },
    {
     "name": "stderr",
     "output_type": "stream",
     "text": [
      "Extraindo arquivos: 100%|██████████████████████████████████████████████████████████████████████████████████████████████████████| 4/4 [00:04<00:00,  1.22s/arquivos]\n"
     ]
    },
    {
     "data": {
      "text/plain": [
       "'Arquivos extraídos para: ../../../dados/dados_siape_bruto/descompactado/201801_Servidores_SIAPE'"
      ]
     },
     "metadata": {},
     "output_type": "display_data"
    },
    {
     "data": {
      "text/plain": [
       "'Descompactando arquivo: ../../../dados/dados_siape_bruto/201802_Servidores_SIAPE.zip'"
      ]
     },
     "metadata": {},
     "output_type": "display_data"
    },
    {
     "name": "stderr",
     "output_type": "stream",
     "text": [
      "Extraindo arquivos: 100%|██████████████████████████████████████████████████████████████████████████████████████████████████████| 4/4 [00:19<00:00,  4.76s/arquivos]\n"
     ]
    },
    {
     "data": {
      "text/plain": [
       "'Arquivos extraídos para: ../../../dados/dados_siape_bruto/descompactado/201802_Servidores_SIAPE'"
      ]
     },
     "metadata": {},
     "output_type": "display_data"
    },
    {
     "data": {
      "text/plain": [
       "'Descompactando arquivo: ../../../dados/dados_siape_bruto/201803_Servidores_SIAPE.zip'"
      ]
     },
     "metadata": {},
     "output_type": "display_data"
    },
    {
     "name": "stderr",
     "output_type": "stream",
     "text": [
      "Extraindo arquivos: 100%|██████████████████████████████████████████████████████████████████████████████████████████████████████| 4/4 [00:01<00:00,  2.22arquivos/s]\n"
     ]
    },
    {
     "data": {
      "text/plain": [
       "'Arquivos extraídos para: ../../../dados/dados_siape_bruto/descompactado/201803_Servidores_SIAPE'"
      ]
     },
     "metadata": {},
     "output_type": "display_data"
    },
    {
     "data": {
      "text/plain": [
       "'Descompactando arquivo: ../../../dados/dados_siape_bruto/201804_Servidores_SIAPE.zip'"
      ]
     },
     "metadata": {},
     "output_type": "display_data"
    },
    {
     "name": "stderr",
     "output_type": "stream",
     "text": [
      "Extraindo arquivos: 100%|██████████████████████████████████████████████████████████████████████████████████████████████████████| 4/4 [00:07<00:00,  1.83s/arquivos]\n"
     ]
    },
    {
     "data": {
      "text/plain": [
       "'Arquivos extraídos para: ../../../dados/dados_siape_bruto/descompactado/201804_Servidores_SIAPE'"
      ]
     },
     "metadata": {},
     "output_type": "display_data"
    },
    {
     "data": {
      "text/plain": [
       "'Descompactando arquivo: ../../../dados/dados_siape_bruto/201805_Servidores_SIAPE.zip'"
      ]
     },
     "metadata": {},
     "output_type": "display_data"
    },
    {
     "name": "stderr",
     "output_type": "stream",
     "text": [
      "Extraindo arquivos: 100%|██████████████████████████████████████████████████████████████████████████████████████████████████████| 4/4 [00:09<00:00,  2.28s/arquivos]\n"
     ]
    },
    {
     "data": {
      "text/plain": [
       "'Arquivos extraídos para: ../../../dados/dados_siape_bruto/descompactado/201805_Servidores_SIAPE'"
      ]
     },
     "metadata": {},
     "output_type": "display_data"
    },
    {
     "data": {
      "text/plain": [
       "'Descompactando arquivo: ../../../dados/dados_siape_bruto/201806_Servidores_SIAPE.zip'"
      ]
     },
     "metadata": {},
     "output_type": "display_data"
    },
    {
     "name": "stderr",
     "output_type": "stream",
     "text": [
      "Extraindo arquivos: 100%|██████████████████████████████████████████████████████████████████████████████████████████████████████| 4/4 [00:04<00:00,  1.25s/arquivos]\n"
     ]
    },
    {
     "data": {
      "text/plain": [
       "'Arquivos extraídos para: ../../../dados/dados_siape_bruto/descompactado/201806_Servidores_SIAPE'"
      ]
     },
     "metadata": {},
     "output_type": "display_data"
    },
    {
     "data": {
      "text/plain": [
       "'Descompactando arquivo: ../../../dados/dados_siape_bruto/201807_Servidores_SIAPE.zip'"
      ]
     },
     "metadata": {},
     "output_type": "display_data"
    },
    {
     "name": "stderr",
     "output_type": "stream",
     "text": [
      "Extraindo arquivos: 100%|██████████████████████████████████████████████████████████████████████████████████████████████████████| 4/4 [00:16<00:00,  4.01s/arquivos]\n"
     ]
    },
    {
     "data": {
      "text/plain": [
       "'Arquivos extraídos para: ../../../dados/dados_siape_bruto/descompactado/201807_Servidores_SIAPE'"
      ]
     },
     "metadata": {},
     "output_type": "display_data"
    },
    {
     "data": {
      "text/plain": [
       "'Descompactando arquivo: ../../../dados/dados_siape_bruto/201808_Servidores_SIAPE.zip'"
      ]
     },
     "metadata": {},
     "output_type": "display_data"
    },
    {
     "name": "stderr",
     "output_type": "stream",
     "text": [
      "Extraindo arquivos: 100%|██████████████████████████████████████████████████████████████████████████████████████████████████████| 4/4 [00:03<00:00,  1.25arquivos/s]\n"
     ]
    },
    {
     "data": {
      "text/plain": [
       "'Arquivos extraídos para: ../../../dados/dados_siape_bruto/descompactado/201808_Servidores_SIAPE'"
      ]
     },
     "metadata": {},
     "output_type": "display_data"
    },
    {
     "data": {
      "text/plain": [
       "'Descompactando arquivo: ../../../dados/dados_siape_bruto/201809_Servidores_SIAPE.zip'"
      ]
     },
     "metadata": {},
     "output_type": "display_data"
    },
    {
     "name": "stderr",
     "output_type": "stream",
     "text": [
      "Extraindo arquivos: 100%|██████████████████████████████████████████████████████████████████████████████████████████████████████| 4/4 [00:19<00:00,  4.80s/arquivos]\n"
     ]
    },
    {
     "data": {
      "text/plain": [
       "'Arquivos extraídos para: ../../../dados/dados_siape_bruto/descompactado/201809_Servidores_SIAPE'"
      ]
     },
     "metadata": {},
     "output_type": "display_data"
    },
    {
     "data": {
      "text/plain": [
       "'Descompactando arquivo: ../../../dados/dados_siape_bruto/201810_Servidores_SIAPE.zip'"
      ]
     },
     "metadata": {},
     "output_type": "display_data"
    },
    {
     "name": "stderr",
     "output_type": "stream",
     "text": [
      "Extraindo arquivos: 100%|██████████████████████████████████████████████████████████████████████████████████████████████████████| 4/4 [00:01<00:00,  2.21arquivos/s]\n"
     ]
    },
    {
     "data": {
      "text/plain": [
       "'Arquivos extraídos para: ../../../dados/dados_siape_bruto/descompactado/201810_Servidores_SIAPE'"
      ]
     },
     "metadata": {},
     "output_type": "display_data"
    },
    {
     "data": {
      "text/plain": [
       "'Descompactando arquivo: ../../../dados/dados_siape_bruto/201811_Servidores_SIAPE.zip'"
      ]
     },
     "metadata": {},
     "output_type": "display_data"
    },
    {
     "name": "stderr",
     "output_type": "stream",
     "text": [
      "Extraindo arquivos: 100%|██████████████████████████████████████████████████████████████████████████████████████████████████████| 4/4 [00:07<00:00,  1.76s/arquivos]\n"
     ]
    },
    {
     "data": {
      "text/plain": [
       "'Arquivos extraídos para: ../../../dados/dados_siape_bruto/descompactado/201811_Servidores_SIAPE'"
      ]
     },
     "metadata": {},
     "output_type": "display_data"
    },
    {
     "data": {
      "text/plain": [
       "'Descompactando arquivo: ../../../dados/dados_siape_bruto/201812_Servidores_SIAPE.zip'"
      ]
     },
     "metadata": {},
     "output_type": "display_data"
    },
    {
     "name": "stderr",
     "output_type": "stream",
     "text": [
      "Extraindo arquivos: 100%|██████████████████████████████████████████████████████████████████████████████████████████████████████| 4/4 [00:11<00:00,  2.83s/arquivos]\n"
     ]
    },
    {
     "data": {
      "text/plain": [
       "'Arquivos extraídos para: ../../../dados/dados_siape_bruto/descompactado/201812_Servidores_SIAPE'"
      ]
     },
     "metadata": {},
     "output_type": "display_data"
    },
    {
     "data": {
      "text/plain": [
       "'Descompactando arquivo: ../../../dados/dados_siape_bruto/201901_Servidores_SIAPE.zip'"
      ]
     },
     "metadata": {},
     "output_type": "display_data"
    },
    {
     "name": "stderr",
     "output_type": "stream",
     "text": [
      "Extraindo arquivos: 100%|██████████████████████████████████████████████████████████████████████████████████████████████████████| 4/4 [00:10<00:00,  2.68s/arquivos]\n"
     ]
    },
    {
     "data": {
      "text/plain": [
       "'Arquivos extraídos para: ../../../dados/dados_siape_bruto/descompactado/201901_Servidores_SIAPE'"
      ]
     },
     "metadata": {},
     "output_type": "display_data"
    },
    {
     "data": {
      "text/plain": [
       "'Descompactando arquivo: ../../../dados/dados_siape_bruto/201902_Servidores_SIAPE.zip'"
      ]
     },
     "metadata": {},
     "output_type": "display_data"
    },
    {
     "name": "stderr",
     "output_type": "stream",
     "text": [
      "Extraindo arquivos: 100%|██████████████████████████████████████████████████████████████████████████████████████████████████████| 4/4 [00:14<00:00,  3.63s/arquivos]\n"
     ]
    },
    {
     "data": {
      "text/plain": [
       "'Arquivos extraídos para: ../../../dados/dados_siape_bruto/descompactado/201902_Servidores_SIAPE'"
      ]
     },
     "metadata": {},
     "output_type": "display_data"
    },
    {
     "data": {
      "text/plain": [
       "'Descompactando arquivo: ../../../dados/dados_siape_bruto/201903_Servidores_SIAPE.zip'"
      ]
     },
     "metadata": {},
     "output_type": "display_data"
    },
    {
     "name": "stderr",
     "output_type": "stream",
     "text": [
      "Extraindo arquivos: 100%|██████████████████████████████████████████████████████████████████████████████████████████████████████| 4/4 [00:04<00:00,  1.05s/arquivos]\n"
     ]
    },
    {
     "data": {
      "text/plain": [
       "'Arquivos extraídos para: ../../../dados/dados_siape_bruto/descompactado/201903_Servidores_SIAPE'"
      ]
     },
     "metadata": {},
     "output_type": "display_data"
    },
    {
     "data": {
      "text/plain": [
       "'Descompactando arquivo: ../../../dados/dados_siape_bruto/201904_Servidores_SIAPE.zip'"
      ]
     },
     "metadata": {},
     "output_type": "display_data"
    },
    {
     "name": "stderr",
     "output_type": "stream",
     "text": [
      "Extraindo arquivos: 100%|██████████████████████████████████████████████████████████████████████████████████████████████████████| 4/4 [00:21<00:00,  5.41s/arquivos]\n"
     ]
    },
    {
     "data": {
      "text/plain": [
       "'Arquivos extraídos para: ../../../dados/dados_siape_bruto/descompactado/201904_Servidores_SIAPE'"
      ]
     },
     "metadata": {},
     "output_type": "display_data"
    },
    {
     "data": {
      "text/plain": [
       "'Descompactando arquivo: ../../../dados/dados_siape_bruto/201905_Servidores_SIAPE.zip'"
      ]
     },
     "metadata": {},
     "output_type": "display_data"
    },
    {
     "name": "stderr",
     "output_type": "stream",
     "text": [
      "Extraindo arquivos: 100%|██████████████████████████████████████████████████████████████████████████████████████████████████████| 4/4 [00:04<00:00,  1.06s/arquivos]\n"
     ]
    },
    {
     "data": {
      "text/plain": [
       "'Arquivos extraídos para: ../../../dados/dados_siape_bruto/descompactado/201905_Servidores_SIAPE'"
      ]
     },
     "metadata": {},
     "output_type": "display_data"
    },
    {
     "data": {
      "text/plain": [
       "'Descompactando arquivo: ../../../dados/dados_siape_bruto/201906_Servidores_SIAPE.zip'"
      ]
     },
     "metadata": {},
     "output_type": "display_data"
    },
    {
     "name": "stderr",
     "output_type": "stream",
     "text": [
      "Extraindo arquivos: 100%|██████████████████████████████████████████████████████████████████████████████████████████████████████| 4/4 [00:01<00:00,  2.21arquivos/s]\n"
     ]
    },
    {
     "data": {
      "text/plain": [
       "'Arquivos extraídos para: ../../../dados/dados_siape_bruto/descompactado/201906_Servidores_SIAPE'"
      ]
     },
     "metadata": {},
     "output_type": "display_data"
    },
    {
     "data": {
      "text/plain": [
       "'Descompactando arquivo: ../../../dados/dados_siape_bruto/201907_Servidores_SIAPE.zip'"
      ]
     },
     "metadata": {},
     "output_type": "display_data"
    },
    {
     "name": "stderr",
     "output_type": "stream",
     "text": [
      "Extraindo arquivos: 100%|██████████████████████████████████████████████████████████████████████████████████████████████████████| 4/4 [00:10<00:00,  2.56s/arquivos]\n"
     ]
    },
    {
     "data": {
      "text/plain": [
       "'Arquivos extraídos para: ../../../dados/dados_siape_bruto/descompactado/201907_Servidores_SIAPE'"
      ]
     },
     "metadata": {},
     "output_type": "display_data"
    },
    {
     "data": {
      "text/plain": [
       "'Descompactando arquivo: ../../../dados/dados_siape_bruto/201908_Servidores_SIAPE.zip'"
      ]
     },
     "metadata": {},
     "output_type": "display_data"
    },
    {
     "name": "stderr",
     "output_type": "stream",
     "text": [
      "Extraindo arquivos: 100%|██████████████████████████████████████████████████████████████████████████████████████████████████████| 4/4 [00:10<00:00,  2.52s/arquivos]\n"
     ]
    },
    {
     "data": {
      "text/plain": [
       "'Arquivos extraídos para: ../../../dados/dados_siape_bruto/descompactado/201908_Servidores_SIAPE'"
      ]
     },
     "metadata": {},
     "output_type": "display_data"
    },
    {
     "data": {
      "text/plain": [
       "'Descompactando arquivo: ../../../dados/dados_siape_bruto/201909_Servidores_SIAPE.zip'"
      ]
     },
     "metadata": {},
     "output_type": "display_data"
    },
    {
     "name": "stderr",
     "output_type": "stream",
     "text": [
      "Extraindo arquivos: 100%|██████████████████████████████████████████████████████████████████████████████████████████████████████| 4/4 [00:03<00:00,  1.27arquivos/s]\n"
     ]
    },
    {
     "data": {
      "text/plain": [
       "'Arquivos extraídos para: ../../../dados/dados_siape_bruto/descompactado/201909_Servidores_SIAPE'"
      ]
     },
     "metadata": {},
     "output_type": "display_data"
    },
    {
     "data": {
      "text/plain": [
       "'Descompactando arquivo: ../../../dados/dados_siape_bruto/201910_Servidores_SIAPE.zip'"
      ]
     },
     "metadata": {},
     "output_type": "display_data"
    },
    {
     "name": "stderr",
     "output_type": "stream",
     "text": [
      "Extraindo arquivos: 100%|██████████████████████████████████████████████████████████████████████████████████████████████████████| 4/4 [00:03<00:00,  1.21arquivos/s]\n"
     ]
    },
    {
     "data": {
      "text/plain": [
       "'Arquivos extraídos para: ../../../dados/dados_siape_bruto/descompactado/201910_Servidores_SIAPE'"
      ]
     },
     "metadata": {},
     "output_type": "display_data"
    },
    {
     "data": {
      "text/plain": [
       "'Descompactando arquivo: ../../../dados/dados_siape_bruto/201911_Servidores_SIAPE.zip'"
      ]
     },
     "metadata": {},
     "output_type": "display_data"
    },
    {
     "name": "stderr",
     "output_type": "stream",
     "text": [
      "Extraindo arquivos: 100%|██████████████████████████████████████████████████████████████████████████████████████████████████████| 4/4 [00:06<00:00,  1.51s/arquivos]\n"
     ]
    },
    {
     "data": {
      "text/plain": [
       "'Arquivos extraídos para: ../../../dados/dados_siape_bruto/descompactado/201911_Servidores_SIAPE'"
      ]
     },
     "metadata": {},
     "output_type": "display_data"
    },
    {
     "data": {
      "text/plain": [
       "'Descompactando arquivo: ../../../dados/dados_siape_bruto/201912_Servidores_SIAPE.zip'"
      ]
     },
     "metadata": {},
     "output_type": "display_data"
    },
    {
     "name": "stderr",
     "output_type": "stream",
     "text": [
      "Extraindo arquivos: 100%|██████████████████████████████████████████████████████████████████████████████████████████████████████| 4/4 [00:05<00:00,  1.39s/arquivos]\n"
     ]
    },
    {
     "data": {
      "text/plain": [
       "'Arquivos extraídos para: ../../../dados/dados_siape_bruto/descompactado/201912_Servidores_SIAPE'"
      ]
     },
     "metadata": {},
     "output_type": "display_data"
    },
    {
     "data": {
      "text/plain": [
       "'Descompactando arquivo: ../../../dados/dados_siape_bruto/202001_Servidores_SIAPE.zip'"
      ]
     },
     "metadata": {},
     "output_type": "display_data"
    },
    {
     "name": "stderr",
     "output_type": "stream",
     "text": [
      "Extraindo arquivos: 100%|██████████████████████████████████████████████████████████████████████████████████████████████████████| 4/4 [00:12<00:00,  3.08s/arquivos]\n"
     ]
    },
    {
     "data": {
      "text/plain": [
       "'Arquivos extraídos para: ../../../dados/dados_siape_bruto/descompactado/202001_Servidores_SIAPE'"
      ]
     },
     "metadata": {},
     "output_type": "display_data"
    },
    {
     "data": {
      "text/plain": [
       "'Descompactando arquivo: ../../../dados/dados_siape_bruto/202002_Servidores_SIAPE.zip'"
      ]
     },
     "metadata": {},
     "output_type": "display_data"
    },
    {
     "name": "stderr",
     "output_type": "stream",
     "text": [
      "Extraindo arquivos: 100%|██████████████████████████████████████████████████████████████████████████████████████████████████████| 4/4 [00:11<00:00,  2.91s/arquivos]\n"
     ]
    },
    {
     "data": {
      "text/plain": [
       "'Arquivos extraídos para: ../../../dados/dados_siape_bruto/descompactado/202002_Servidores_SIAPE'"
      ]
     },
     "metadata": {},
     "output_type": "display_data"
    },
    {
     "data": {
      "text/plain": [
       "'Descompactando arquivo: ../../../dados/dados_siape_bruto/202003_Servidores_SIAPE.zip'"
      ]
     },
     "metadata": {},
     "output_type": "display_data"
    },
    {
     "name": "stderr",
     "output_type": "stream",
     "text": [
      "Extraindo arquivos: 100%|██████████████████████████████████████████████████████████████████████████████████████████████████████| 4/4 [00:06<00:00,  1.50s/arquivos]\n"
     ]
    },
    {
     "data": {
      "text/plain": [
       "'Arquivos extraídos para: ../../../dados/dados_siape_bruto/descompactado/202003_Servidores_SIAPE'"
      ]
     },
     "metadata": {},
     "output_type": "display_data"
    },
    {
     "data": {
      "text/plain": [
       "'Descompactando arquivo: ../../../dados/dados_siape_bruto/202004_Servidores_SIAPE.zip'"
      ]
     },
     "metadata": {},
     "output_type": "display_data"
    },
    {
     "name": "stderr",
     "output_type": "stream",
     "text": [
      "Extraindo arquivos: 100%|██████████████████████████████████████████████████████████████████████████████████████████████████████| 4/4 [00:08<00:00,  2.25s/arquivos]\n"
     ]
    },
    {
     "data": {
      "text/plain": [
       "'Arquivos extraídos para: ../../../dados/dados_siape_bruto/descompactado/202004_Servidores_SIAPE'"
      ]
     },
     "metadata": {},
     "output_type": "display_data"
    },
    {
     "data": {
      "text/plain": [
       "'Descompactando arquivo: ../../../dados/dados_siape_bruto/202005_Servidores_SIAPE.zip'"
      ]
     },
     "metadata": {},
     "output_type": "display_data"
    },
    {
     "name": "stderr",
     "output_type": "stream",
     "text": [
      "Extraindo arquivos: 100%|██████████████████████████████████████████████████████████████████████████████████████████████████████| 4/4 [00:14<00:00,  3.51s/arquivos]\n"
     ]
    },
    {
     "data": {
      "text/plain": [
       "'Arquivos extraídos para: ../../../dados/dados_siape_bruto/descompactado/202005_Servidores_SIAPE'"
      ]
     },
     "metadata": {},
     "output_type": "display_data"
    },
    {
     "data": {
      "text/plain": [
       "'Descompactando arquivo: ../../../dados/dados_siape_bruto/202006_Servidores_SIAPE.zip'"
      ]
     },
     "metadata": {},
     "output_type": "display_data"
    },
    {
     "name": "stderr",
     "output_type": "stream",
     "text": [
      "Extraindo arquivos: 100%|██████████████████████████████████████████████████████████████████████████████████████████████████████| 4/4 [00:06<00:00,  1.54s/arquivos]\n"
     ]
    },
    {
     "data": {
      "text/plain": [
       "'Arquivos extraídos para: ../../../dados/dados_siape_bruto/descompactado/202006_Servidores_SIAPE'"
      ]
     },
     "metadata": {},
     "output_type": "display_data"
    },
    {
     "data": {
      "text/plain": [
       "'Descompactando arquivo: ../../../dados/dados_siape_bruto/202007_Servidores_SIAPE.zip'"
      ]
     },
     "metadata": {},
     "output_type": "display_data"
    },
    {
     "name": "stderr",
     "output_type": "stream",
     "text": [
      "Extraindo arquivos: 100%|██████████████████████████████████████████████████████████████████████████████████████████████████████| 4/4 [00:05<00:00,  1.46s/arquivos]\n"
     ]
    },
    {
     "data": {
      "text/plain": [
       "'Arquivos extraídos para: ../../../dados/dados_siape_bruto/descompactado/202007_Servidores_SIAPE'"
      ]
     },
     "metadata": {},
     "output_type": "display_data"
    },
    {
     "data": {
      "text/plain": [
       "'Descompactando arquivo: ../../../dados/dados_siape_bruto/202008_Servidores_SIAPE.zip'"
      ]
     },
     "metadata": {},
     "output_type": "display_data"
    },
    {
     "name": "stderr",
     "output_type": "stream",
     "text": [
      "Extraindo arquivos: 100%|██████████████████████████████████████████████████████████████████████████████████████████████████████| 4/4 [00:12<00:00,  3.24s/arquivos]\n"
     ]
    },
    {
     "data": {
      "text/plain": [
       "'Arquivos extraídos para: ../../../dados/dados_siape_bruto/descompactado/202008_Servidores_SIAPE'"
      ]
     },
     "metadata": {},
     "output_type": "display_data"
    },
    {
     "data": {
      "text/plain": [
       "'Descompactando arquivo: ../../../dados/dados_siape_bruto/202009_Servidores_SIAPE.zip'"
      ]
     },
     "metadata": {},
     "output_type": "display_data"
    },
    {
     "name": "stderr",
     "output_type": "stream",
     "text": [
      "Extraindo arquivos: 100%|██████████████████████████████████████████████████████████████████████████████████████████████████████| 4/4 [00:07<00:00,  1.86s/arquivos]\n"
     ]
    },
    {
     "data": {
      "text/plain": [
       "'Arquivos extraídos para: ../../../dados/dados_siape_bruto/descompactado/202009_Servidores_SIAPE'"
      ]
     },
     "metadata": {},
     "output_type": "display_data"
    },
    {
     "data": {
      "text/plain": [
       "'Descompactando arquivo: ../../../dados/dados_siape_bruto/202010_Servidores_SIAPE.zip'"
      ]
     },
     "metadata": {},
     "output_type": "display_data"
    },
    {
     "name": "stderr",
     "output_type": "stream",
     "text": [
      "Extraindo arquivos: 100%|██████████████████████████████████████████████████████████████████████████████████████████████████████| 4/4 [00:06<00:00,  1.59s/arquivos]\n"
     ]
    },
    {
     "data": {
      "text/plain": [
       "'Arquivos extraídos para: ../../../dados/dados_siape_bruto/descompactado/202010_Servidores_SIAPE'"
      ]
     },
     "metadata": {},
     "output_type": "display_data"
    },
    {
     "data": {
      "text/plain": [
       "'Descompactando arquivo: ../../../dados/dados_siape_bruto/202011_Servidores_SIAPE.zip'"
      ]
     },
     "metadata": {},
     "output_type": "display_data"
    },
    {
     "name": "stderr",
     "output_type": "stream",
     "text": [
      "Extraindo arquivos: 100%|██████████████████████████████████████████████████████████████████████████████████████████████████████| 4/4 [00:07<00:00,  1.87s/arquivos]\n"
     ]
    },
    {
     "data": {
      "text/plain": [
       "'Arquivos extraídos para: ../../../dados/dados_siape_bruto/descompactado/202011_Servidores_SIAPE'"
      ]
     },
     "metadata": {},
     "output_type": "display_data"
    },
    {
     "data": {
      "text/plain": [
       "'Descompactando arquivo: ../../../dados/dados_siape_bruto/202012_Servidores_SIAPE.zip'"
      ]
     },
     "metadata": {},
     "output_type": "display_data"
    },
    {
     "name": "stderr",
     "output_type": "stream",
     "text": [
      "Extraindo arquivos: 100%|██████████████████████████████████████████████████████████████████████████████████████████████████████| 4/4 [00:08<00:00,  2.07s/arquivos]\n"
     ]
    },
    {
     "data": {
      "text/plain": [
       "'Arquivos extraídos para: ../../../dados/dados_siape_bruto/descompactado/202012_Servidores_SIAPE'"
      ]
     },
     "metadata": {},
     "output_type": "display_data"
    },
    {
     "data": {
      "text/plain": [
       "'Descompactando arquivo: ../../../dados/dados_siape_bruto/202101_Servidores_SIAPE.zip'"
      ]
     },
     "metadata": {},
     "output_type": "display_data"
    },
    {
     "name": "stderr",
     "output_type": "stream",
     "text": [
      "Extraindo arquivos: 100%|██████████████████████████████████████████████████████████████████████████████████████████████████████| 4/4 [00:07<00:00,  1.93s/arquivos]\n"
     ]
    },
    {
     "data": {
      "text/plain": [
       "'Arquivos extraídos para: ../../../dados/dados_siape_bruto/descompactado/202101_Servidores_SIAPE'"
      ]
     },
     "metadata": {},
     "output_type": "display_data"
    },
    {
     "data": {
      "text/plain": [
       "'Descompactando arquivo: ../../../dados/dados_siape_bruto/202102_Servidores_SIAPE.zip'"
      ]
     },
     "metadata": {},
     "output_type": "display_data"
    },
    {
     "name": "stderr",
     "output_type": "stream",
     "text": [
      "Extraindo arquivos: 100%|██████████████████████████████████████████████████████████████████████████████████████████████████████| 4/4 [00:07<00:00,  1.81s/arquivos]\n"
     ]
    },
    {
     "data": {
      "text/plain": [
       "'Arquivos extraídos para: ../../../dados/dados_siape_bruto/descompactado/202102_Servidores_SIAPE'"
      ]
     },
     "metadata": {},
     "output_type": "display_data"
    },
    {
     "data": {
      "text/plain": [
       "'Descompactando arquivo: ../../../dados/dados_siape_bruto/202103_Servidores_SIAPE.zip'"
      ]
     },
     "metadata": {},
     "output_type": "display_data"
    },
    {
     "name": "stderr",
     "output_type": "stream",
     "text": [
      "Extraindo arquivos: 100%|██████████████████████████████████████████████████████████████████████████████████████████████████████| 4/4 [00:18<00:00,  4.61s/arquivos]\n"
     ]
    },
    {
     "data": {
      "text/plain": [
       "'Arquivos extraídos para: ../../../dados/dados_siape_bruto/descompactado/202103_Servidores_SIAPE'"
      ]
     },
     "metadata": {},
     "output_type": "display_data"
    },
    {
     "data": {
      "text/plain": [
       "'Descompactando arquivo: ../../../dados/dados_siape_bruto/202104_Servidores_SIAPE.zip'"
      ]
     },
     "metadata": {},
     "output_type": "display_data"
    },
    {
     "name": "stderr",
     "output_type": "stream",
     "text": [
      "Extraindo arquivos: 100%|██████████████████████████████████████████████████████████████████████████████████████████████████████| 4/4 [00:09<00:00,  2.40s/arquivos]\n"
     ]
    },
    {
     "data": {
      "text/plain": [
       "'Arquivos extraídos para: ../../../dados/dados_siape_bruto/descompactado/202104_Servidores_SIAPE'"
      ]
     },
     "metadata": {},
     "output_type": "display_data"
    },
    {
     "data": {
      "text/plain": [
       "'Descompactando arquivo: ../../../dados/dados_siape_bruto/202105_Servidores_SIAPE.zip'"
      ]
     },
     "metadata": {},
     "output_type": "display_data"
    },
    {
     "name": "stderr",
     "output_type": "stream",
     "text": [
      "Extraindo arquivos: 100%|██████████████████████████████████████████████████████████████████████████████████████████████████████| 4/4 [00:05<00:00,  1.46s/arquivos]\n"
     ]
    },
    {
     "data": {
      "text/plain": [
       "'Arquivos extraídos para: ../../../dados/dados_siape_bruto/descompactado/202105_Servidores_SIAPE'"
      ]
     },
     "metadata": {},
     "output_type": "display_data"
    },
    {
     "data": {
      "text/plain": [
       "'Descompactando arquivo: ../../../dados/dados_siape_bruto/202106_Servidores_SIAPE.zip'"
      ]
     },
     "metadata": {},
     "output_type": "display_data"
    },
    {
     "name": "stderr",
     "output_type": "stream",
     "text": [
      "Extraindo arquivos: 100%|██████████████████████████████████████████████████████████████████████████████████████████████████████| 4/4 [00:18<00:00,  4.57s/arquivos]\n"
     ]
    },
    {
     "data": {
      "text/plain": [
       "'Arquivos extraídos para: ../../../dados/dados_siape_bruto/descompactado/202106_Servidores_SIAPE'"
      ]
     },
     "metadata": {},
     "output_type": "display_data"
    },
    {
     "data": {
      "text/plain": [
       "'Descompactando arquivo: ../../../dados/dados_siape_bruto/202107_Servidores_SIAPE.zip'"
      ]
     },
     "metadata": {},
     "output_type": "display_data"
    },
    {
     "name": "stderr",
     "output_type": "stream",
     "text": [
      "Extraindo arquivos: 100%|██████████████████████████████████████████████████████████████████████████████████████████████████████| 4/4 [00:06<00:00,  1.52s/arquivos]\n"
     ]
    },
    {
     "data": {
      "text/plain": [
       "'Arquivos extraídos para: ../../../dados/dados_siape_bruto/descompactado/202107_Servidores_SIAPE'"
      ]
     },
     "metadata": {},
     "output_type": "display_data"
    },
    {
     "data": {
      "text/plain": [
       "'Descompactando arquivo: ../../../dados/dados_siape_bruto/202108_Servidores_SIAPE.zip'"
      ]
     },
     "metadata": {},
     "output_type": "display_data"
    },
    {
     "name": "stderr",
     "output_type": "stream",
     "text": [
      "Extraindo arquivos: 100%|██████████████████████████████████████████████████████████████████████████████████████████████████████| 4/4 [00:03<00:00,  1.02arquivos/s]\n"
     ]
    },
    {
     "data": {
      "text/plain": [
       "'Arquivos extraídos para: ../../../dados/dados_siape_bruto/descompactado/202108_Servidores_SIAPE'"
      ]
     },
     "metadata": {},
     "output_type": "display_data"
    },
    {
     "data": {
      "text/plain": [
       "'Descompactando arquivo: ../../../dados/dados_siape_bruto/202109_Servidores_SIAPE.zip'"
      ]
     },
     "metadata": {},
     "output_type": "display_data"
    },
    {
     "name": "stderr",
     "output_type": "stream",
     "text": [
      "Extraindo arquivos: 100%|██████████████████████████████████████████████████████████████████████████████████████████████████████| 4/4 [00:10<00:00,  2.60s/arquivos]\n"
     ]
    },
    {
     "data": {
      "text/plain": [
       "'Arquivos extraídos para: ../../../dados/dados_siape_bruto/descompactado/202109_Servidores_SIAPE'"
      ]
     },
     "metadata": {},
     "output_type": "display_data"
    },
    {
     "data": {
      "text/plain": [
       "'Descompactando arquivo: ../../../dados/dados_siape_bruto/202110_Servidores_SIAPE.zip'"
      ]
     },
     "metadata": {},
     "output_type": "display_data"
    },
    {
     "name": "stderr",
     "output_type": "stream",
     "text": [
      "Extraindo arquivos: 100%|██████████████████████████████████████████████████████████████████████████████████████████████████████| 4/4 [00:10<00:00,  2.62s/arquivos]\n"
     ]
    },
    {
     "data": {
      "text/plain": [
       "'Arquivos extraídos para: ../../../dados/dados_siape_bruto/descompactado/202110_Servidores_SIAPE'"
      ]
     },
     "metadata": {},
     "output_type": "display_data"
    },
    {
     "data": {
      "text/plain": [
       "'Descompactando arquivo: ../../../dados/dados_siape_bruto/202111_Servidores_SIAPE.zip'"
      ]
     },
     "metadata": {},
     "output_type": "display_data"
    },
    {
     "name": "stderr",
     "output_type": "stream",
     "text": [
      "Extraindo arquivos: 100%|██████████████████████████████████████████████████████████████████████████████████████████████████████| 4/4 [00:03<00:00,  1.16arquivos/s]\n"
     ]
    },
    {
     "data": {
      "text/plain": [
       "'Arquivos extraídos para: ../../../dados/dados_siape_bruto/descompactado/202111_Servidores_SIAPE'"
      ]
     },
     "metadata": {},
     "output_type": "display_data"
    },
    {
     "data": {
      "text/plain": [
       "'Descompactando arquivo: ../../../dados/dados_siape_bruto/202112_Servidores_SIAPE.zip'"
      ]
     },
     "metadata": {},
     "output_type": "display_data"
    },
    {
     "name": "stderr",
     "output_type": "stream",
     "text": [
      "Extraindo arquivos: 100%|██████████████████████████████████████████████████████████████████████████████████████████████████████| 4/4 [00:16<00:00,  4.07s/arquivos]\n"
     ]
    },
    {
     "data": {
      "text/plain": [
       "'Arquivos extraídos para: ../../../dados/dados_siape_bruto/descompactado/202112_Servidores_SIAPE'"
      ]
     },
     "metadata": {},
     "output_type": "display_data"
    },
    {
     "data": {
      "text/plain": [
       "'Descompactando arquivo: ../../../dados/dados_siape_bruto/202201_Servidores_SIAPE.zip'"
      ]
     },
     "metadata": {},
     "output_type": "display_data"
    },
    {
     "name": "stderr",
     "output_type": "stream",
     "text": [
      "Extraindo arquivos: 100%|██████████████████████████████████████████████████████████████████████████████████████████████████████| 4/4 [00:04<00:00,  1.22s/arquivos]\n"
     ]
    },
    {
     "data": {
      "text/plain": [
       "'Arquivos extraídos para: ../../../dados/dados_siape_bruto/descompactado/202201_Servidores_SIAPE'"
      ]
     },
     "metadata": {},
     "output_type": "display_data"
    },
    {
     "data": {
      "text/plain": [
       "'Descompactando arquivo: ../../../dados/dados_siape_bruto/202202_Servidores_SIAPE.zip'"
      ]
     },
     "metadata": {},
     "output_type": "display_data"
    },
    {
     "name": "stderr",
     "output_type": "stream",
     "text": [
      "Extraindo arquivos: 100%|██████████████████████████████████████████████████████████████████████████████████████████████████████| 4/4 [00:03<00:00,  1.31arquivos/s]\n"
     ]
    },
    {
     "data": {
      "text/plain": [
       "'Arquivos extraídos para: ../../../dados/dados_siape_bruto/descompactado/202202_Servidores_SIAPE'"
      ]
     },
     "metadata": {},
     "output_type": "display_data"
    },
    {
     "data": {
      "text/plain": [
       "'Descompactando arquivo: ../../../dados/dados_siape_bruto/202203_Servidores_SIAPE.zip'"
      ]
     },
     "metadata": {},
     "output_type": "display_data"
    },
    {
     "name": "stderr",
     "output_type": "stream",
     "text": [
      "Extraindo arquivos: 100%|██████████████████████████████████████████████████████████████████████████████████████████████████████| 4/4 [00:13<00:00,  3.26s/arquivos]\n"
     ]
    },
    {
     "data": {
      "text/plain": [
       "'Arquivos extraídos para: ../../../dados/dados_siape_bruto/descompactado/202203_Servidores_SIAPE'"
      ]
     },
     "metadata": {},
     "output_type": "display_data"
    },
    {
     "data": {
      "text/plain": [
       "'Descompactando arquivo: ../../../dados/dados_siape_bruto/202204_Servidores_SIAPE.zip'"
      ]
     },
     "metadata": {},
     "output_type": "display_data"
    },
    {
     "name": "stderr",
     "output_type": "stream",
     "text": [
      "Extraindo arquivos: 100%|██████████████████████████████████████████████████████████████████████████████████████████████████████| 4/4 [00:02<00:00,  1.71arquivos/s]\n"
     ]
    },
    {
     "data": {
      "text/plain": [
       "'Arquivos extraídos para: ../../../dados/dados_siape_bruto/descompactado/202204_Servidores_SIAPE'"
      ]
     },
     "metadata": {},
     "output_type": "display_data"
    },
    {
     "data": {
      "text/plain": [
       "'Descompactando arquivo: ../../../dados/dados_siape_bruto/202205_Servidores_SIAPE.zip'"
      ]
     },
     "metadata": {},
     "output_type": "display_data"
    },
    {
     "name": "stderr",
     "output_type": "stream",
     "text": [
      "Extraindo arquivos: 100%|██████████████████████████████████████████████████████████████████████████████████████████████████████| 4/4 [00:02<00:00,  1.39arquivos/s]\n"
     ]
    },
    {
     "data": {
      "text/plain": [
       "'Arquivos extraídos para: ../../../dados/dados_siape_bruto/descompactado/202205_Servidores_SIAPE'"
      ]
     },
     "metadata": {},
     "output_type": "display_data"
    },
    {
     "data": {
      "text/plain": [
       "'Descompactando arquivo: ../../../dados/dados_siape_bruto/202206_Servidores_SIAPE.zip'"
      ]
     },
     "metadata": {},
     "output_type": "display_data"
    },
    {
     "name": "stderr",
     "output_type": "stream",
     "text": [
      "Extraindo arquivos: 100%|██████████████████████████████████████████████████████████████████████████████████████████████████████| 4/4 [00:11<00:00,  2.84s/arquivos]\n"
     ]
    },
    {
     "data": {
      "text/plain": [
       "'Arquivos extraídos para: ../../../dados/dados_siape_bruto/descompactado/202206_Servidores_SIAPE'"
      ]
     },
     "metadata": {},
     "output_type": "display_data"
    },
    {
     "data": {
      "text/plain": [
       "'Descompactando arquivo: ../../../dados/dados_siape_bruto/202207_Servidores_SIAPE.zip'"
      ]
     },
     "metadata": {},
     "output_type": "display_data"
    },
    {
     "name": "stderr",
     "output_type": "stream",
     "text": [
      "Extraindo arquivos: 100%|██████████████████████████████████████████████████████████████████████████████████████████████████████| 4/4 [00:05<00:00,  1.42s/arquivos]\n"
     ]
    },
    {
     "data": {
      "text/plain": [
       "'Arquivos extraídos para: ../../../dados/dados_siape_bruto/descompactado/202207_Servidores_SIAPE'"
      ]
     },
     "metadata": {},
     "output_type": "display_data"
    },
    {
     "data": {
      "text/plain": [
       "'Descompactando arquivo: ../../../dados/dados_siape_bruto/202208_Servidores_SIAPE.zip'"
      ]
     },
     "metadata": {},
     "output_type": "display_data"
    },
    {
     "name": "stderr",
     "output_type": "stream",
     "text": [
      "Extraindo arquivos: 100%|██████████████████████████████████████████████████████████████████████████████████████████████████████| 4/4 [00:02<00:00,  1.39arquivos/s]\n"
     ]
    },
    {
     "data": {
      "text/plain": [
       "'Arquivos extraídos para: ../../../dados/dados_siape_bruto/descompactado/202208_Servidores_SIAPE'"
      ]
     },
     "metadata": {},
     "output_type": "display_data"
    },
    {
     "data": {
      "text/plain": [
       "'Descompactando arquivo: ../../../dados/dados_siape_bruto/202209_Servidores_SIAPE.zip'"
      ]
     },
     "metadata": {},
     "output_type": "display_data"
    },
    {
     "name": "stderr",
     "output_type": "stream",
     "text": [
      "Extraindo arquivos: 100%|██████████████████████████████████████████████████████████████████████████████████████████████████████| 4/4 [00:12<00:00,  3.06s/arquivos]\n"
     ]
    },
    {
     "data": {
      "text/plain": [
       "'Arquivos extraídos para: ../../../dados/dados_siape_bruto/descompactado/202209_Servidores_SIAPE'"
      ]
     },
     "metadata": {},
     "output_type": "display_data"
    },
    {
     "data": {
      "text/plain": [
       "'Descompactando arquivo: ../../../dados/dados_siape_bruto/202210_Servidores_SIAPE.zip'"
      ]
     },
     "metadata": {},
     "output_type": "display_data"
    },
    {
     "name": "stderr",
     "output_type": "stream",
     "text": [
      "Extraindo arquivos: 100%|██████████████████████████████████████████████████████████████████████████████████████████████████████| 4/4 [00:05<00:00,  1.28s/arquivos]\n"
     ]
    },
    {
     "data": {
      "text/plain": [
       "'Arquivos extraídos para: ../../../dados/dados_siape_bruto/descompactado/202210_Servidores_SIAPE'"
      ]
     },
     "metadata": {},
     "output_type": "display_data"
    },
    {
     "data": {
      "text/plain": [
       "'Descompactando arquivo: ../../../dados/dados_siape_bruto/202211_Servidores_SIAPE.zip'"
      ]
     },
     "metadata": {},
     "output_type": "display_data"
    },
    {
     "name": "stderr",
     "output_type": "stream",
     "text": [
      "Extraindo arquivos: 100%|██████████████████████████████████████████████████████████████████████████████████████████████████████| 4/4 [00:03<00:00,  1.01arquivos/s]\n"
     ]
    },
    {
     "data": {
      "text/plain": [
       "'Arquivos extraídos para: ../../../dados/dados_siape_bruto/descompactado/202211_Servidores_SIAPE'"
      ]
     },
     "metadata": {},
     "output_type": "display_data"
    },
    {
     "data": {
      "text/plain": [
       "'Descompactando arquivo: ../../../dados/dados_siape_bruto/202212_Servidores_SIAPE.zip'"
      ]
     },
     "metadata": {},
     "output_type": "display_data"
    },
    {
     "name": "stderr",
     "output_type": "stream",
     "text": [
      "Extraindo arquivos: 100%|██████████████████████████████████████████████████████████████████████████████████████████████████████| 4/4 [00:09<00:00,  2.47s/arquivos]\n"
     ]
    },
    {
     "data": {
      "text/plain": [
       "'Arquivos extraídos para: ../../../dados/dados_siape_bruto/descompactado/202212_Servidores_SIAPE'"
      ]
     },
     "metadata": {},
     "output_type": "display_data"
    },
    {
     "data": {
      "text/plain": [
       "'Descompactando arquivo: ../../../dados/dados_siape_bruto/202301_Servidores_SIAPE.zip'"
      ]
     },
     "metadata": {},
     "output_type": "display_data"
    },
    {
     "name": "stderr",
     "output_type": "stream",
     "text": [
      "Extraindo arquivos: 100%|██████████████████████████████████████████████████████████████████████████████████████████████████████| 4/4 [00:04<00:00,  1.03s/arquivos]\n"
     ]
    },
    {
     "data": {
      "text/plain": [
       "'Arquivos extraídos para: ../../../dados/dados_siape_bruto/descompactado/202301_Servidores_SIAPE'"
      ]
     },
     "metadata": {},
     "output_type": "display_data"
    },
    {
     "data": {
      "text/plain": [
       "'Descompactando arquivo: ../../../dados/dados_siape_bruto/202302_Servidores_SIAPE.zip'"
      ]
     },
     "metadata": {},
     "output_type": "display_data"
    },
    {
     "name": "stderr",
     "output_type": "stream",
     "text": [
      "Extraindo arquivos: 100%|██████████████████████████████████████████████████████████████████████████████████████████████████████| 4/4 [00:04<00:00,  1.00s/arquivos]\n"
     ]
    },
    {
     "data": {
      "text/plain": [
       "'Arquivos extraídos para: ../../../dados/dados_siape_bruto/descompactado/202302_Servidores_SIAPE'"
      ]
     },
     "metadata": {},
     "output_type": "display_data"
    },
    {
     "data": {
      "text/plain": [
       "'Descompactando arquivo: ../../../dados/dados_siape_bruto/202303_Servidores_SIAPE.zip'"
      ]
     },
     "metadata": {},
     "output_type": "display_data"
    },
    {
     "name": "stderr",
     "output_type": "stream",
     "text": [
      "Extraindo arquivos: 100%|██████████████████████████████████████████████████████████████████████████████████████████████████████| 4/4 [00:08<00:00,  2.20s/arquivos]\n"
     ]
    },
    {
     "data": {
      "text/plain": [
       "'Arquivos extraídos para: ../../../dados/dados_siape_bruto/descompactado/202303_Servidores_SIAPE'"
      ]
     },
     "metadata": {},
     "output_type": "display_data"
    },
    {
     "data": {
      "text/plain": [
       "'Descompactando arquivo: ../../../dados/dados_siape_bruto/202304_Servidores_SIAPE.zip'"
      ]
     },
     "metadata": {},
     "output_type": "display_data"
    },
    {
     "name": "stderr",
     "output_type": "stream",
     "text": [
      "Extraindo arquivos: 100%|██████████████████████████████████████████████████████████████████████████████████████████████████████| 4/4 [00:13<00:00,  3.38s/arquivos]\n"
     ]
    },
    {
     "data": {
      "text/plain": [
       "'Arquivos extraídos para: ../../../dados/dados_siape_bruto/descompactado/202304_Servidores_SIAPE'"
      ]
     },
     "metadata": {},
     "output_type": "display_data"
    },
    {
     "data": {
      "text/plain": [
       "'Descompactando arquivo: ../../../dados/dados_siape_bruto/202305_Servidores_SIAPE.zip'"
      ]
     },
     "metadata": {},
     "output_type": "display_data"
    },
    {
     "name": "stderr",
     "output_type": "stream",
     "text": [
      "Extraindo arquivos: 100%|██████████████████████████████████████████████████████████████████████████████████████████████████████| 4/4 [00:02<00:00,  1.45arquivos/s]\n"
     ]
    },
    {
     "data": {
      "text/plain": [
       "'Arquivos extraídos para: ../../../dados/dados_siape_bruto/descompactado/202305_Servidores_SIAPE'"
      ]
     },
     "metadata": {},
     "output_type": "display_data"
    },
    {
     "data": {
      "text/plain": [
       "'Descompactando arquivo: ../../../dados/dados_siape_bruto/202306_Servidores_SIAPE.zip'"
      ]
     },
     "metadata": {},
     "output_type": "display_data"
    },
    {
     "name": "stderr",
     "output_type": "stream",
     "text": [
      "Extraindo arquivos: 100%|██████████████████████████████████████████████████████████████████████████████████████████████████████| 4/4 [00:12<00:00,  3.20s/arquivos]\n"
     ]
    },
    {
     "data": {
      "text/plain": [
       "'Arquivos extraídos para: ../../../dados/dados_siape_bruto/descompactado/202306_Servidores_SIAPE'"
      ]
     },
     "metadata": {},
     "output_type": "display_data"
    },
    {
     "data": {
      "text/plain": [
       "'Descompactando arquivo: ../../../dados/dados_siape_bruto/202307_Servidores_SIAPE.zip'"
      ]
     },
     "metadata": {},
     "output_type": "display_data"
    },
    {
     "name": "stderr",
     "output_type": "stream",
     "text": [
      "Extraindo arquivos: 100%|██████████████████████████████████████████████████████████████████████████████████████████████████████| 4/4 [00:05<00:00,  1.25s/arquivos]\n"
     ]
    },
    {
     "data": {
      "text/plain": [
       "'Arquivos extraídos para: ../../../dados/dados_siape_bruto/descompactado/202307_Servidores_SIAPE'"
      ]
     },
     "metadata": {},
     "output_type": "display_data"
    },
    {
     "data": {
      "text/plain": [
       "'Descompactando arquivo: ../../../dados/dados_siape_bruto/202308_Servidores_SIAPE.zip'"
      ]
     },
     "metadata": {},
     "output_type": "display_data"
    },
    {
     "name": "stderr",
     "output_type": "stream",
     "text": [
      "Extraindo arquivos: 100%|██████████████████████████████████████████████████████████████████████████████████████████████████████| 4/4 [00:03<00:00,  1.08arquivos/s]\n"
     ]
    },
    {
     "data": {
      "text/plain": [
       "'Arquivos extraídos para: ../../../dados/dados_siape_bruto/descompactado/202308_Servidores_SIAPE'"
      ]
     },
     "metadata": {},
     "output_type": "display_data"
    },
    {
     "data": {
      "text/plain": [
       "'Descompactando arquivo: ../../../dados/dados_siape_bruto/202309_Servidores_SIAPE.zip'"
      ]
     },
     "metadata": {},
     "output_type": "display_data"
    },
    {
     "name": "stderr",
     "output_type": "stream",
     "text": [
      "Extraindo arquivos: 100%|██████████████████████████████████████████████████████████████████████████████████████████████████████| 4/4 [00:08<00:00,  2.16s/arquivos]\n"
     ]
    },
    {
     "data": {
      "text/plain": [
       "'Arquivos extraídos para: ../../../dados/dados_siape_bruto/descompactado/202309_Servidores_SIAPE'"
      ]
     },
     "metadata": {},
     "output_type": "display_data"
    },
    {
     "data": {
      "text/plain": [
       "'Descompactando arquivo: ../../../dados/dados_siape_bruto/202310_Servidores_SIAPE.zip'"
      ]
     },
     "metadata": {},
     "output_type": "display_data"
    },
    {
     "name": "stderr",
     "output_type": "stream",
     "text": [
      "Extraindo arquivos: 100%|██████████████████████████████████████████████████████████████████████████████████████████████████████| 4/4 [00:06<00:00,  1.64s/arquivos]\n"
     ]
    },
    {
     "data": {
      "text/plain": [
       "'Arquivos extraídos para: ../../../dados/dados_siape_bruto/descompactado/202310_Servidores_SIAPE'"
      ]
     },
     "metadata": {},
     "output_type": "display_data"
    },
    {
     "data": {
      "text/plain": [
       "'Descompactando arquivo: ../../../dados/dados_siape_bruto/202311_Servidores_SIAPE.zip'"
      ]
     },
     "metadata": {},
     "output_type": "display_data"
    },
    {
     "name": "stderr",
     "output_type": "stream",
     "text": [
      "Extraindo arquivos: 100%|██████████████████████████████████████████████████████████████████████████████████████████████████████| 4/4 [00:03<00:00,  1.26arquivos/s]\n"
     ]
    },
    {
     "data": {
      "text/plain": [
       "'Arquivos extraídos para: ../../../dados/dados_siape_bruto/descompactado/202311_Servidores_SIAPE'"
      ]
     },
     "metadata": {},
     "output_type": "display_data"
    },
    {
     "data": {
      "text/plain": [
       "'Descompactando arquivo: ../../../dados/dados_siape_bruto/202312_Servidores_SIAPE.zip'"
      ]
     },
     "metadata": {},
     "output_type": "display_data"
    },
    {
     "name": "stderr",
     "output_type": "stream",
     "text": [
      "Extraindo arquivos: 100%|██████████████████████████████████████████████████████████████████████████████████████████████████████| 4/4 [00:10<00:00,  2.73s/arquivos]\n"
     ]
    },
    {
     "data": {
      "text/plain": [
       "'Arquivos extraídos para: ../../../dados/dados_siape_bruto/descompactado/202312_Servidores_SIAPE'"
      ]
     },
     "metadata": {},
     "output_type": "display_data"
    },
    {
     "data": {
      "text/plain": [
       "'Descompactando arquivo: ../../../dados/dados_siape_bruto/202401_Servidores_SIAPE.zip'"
      ]
     },
     "metadata": {},
     "output_type": "display_data"
    },
    {
     "name": "stderr",
     "output_type": "stream",
     "text": [
      "Extraindo arquivos: 100%|██████████████████████████████████████████████████████████████████████████████████████████████████████| 4/4 [00:05<00:00,  1.33s/arquivos]\n"
     ]
    },
    {
     "data": {
      "text/plain": [
       "'Arquivos extraídos para: ../../../dados/dados_siape_bruto/descompactado/202401_Servidores_SIAPE'"
      ]
     },
     "metadata": {},
     "output_type": "display_data"
    },
    {
     "data": {
      "text/plain": [
       "'Descompactando arquivo: ../../../dados/dados_siape_bruto/202402_Servidores_SIAPE.zip'"
      ]
     },
     "metadata": {},
     "output_type": "display_data"
    },
    {
     "name": "stderr",
     "output_type": "stream",
     "text": [
      "Extraindo arquivos: 100%|██████████████████████████████████████████████████████████████████████████████████████████████████████| 4/4 [00:03<00:00,  1.12arquivos/s]\n"
     ]
    },
    {
     "data": {
      "text/plain": [
       "'Arquivos extraídos para: ../../../dados/dados_siape_bruto/descompactado/202402_Servidores_SIAPE'"
      ]
     },
     "metadata": {},
     "output_type": "display_data"
    },
    {
     "data": {
      "text/plain": [
       "'Descompactando arquivo: ../../../dados/dados_siape_bruto/202403_Servidores_SIAPE.zip'"
      ]
     },
     "metadata": {},
     "output_type": "display_data"
    },
    {
     "name": "stderr",
     "output_type": "stream",
     "text": [
      "Extraindo arquivos: 100%|██████████████████████████████████████████████████████████████████████████████████████████████████████| 4/4 [00:13<00:00,  3.47s/arquivos]\n"
     ]
    },
    {
     "data": {
      "text/plain": [
       "'Arquivos extraídos para: ../../../dados/dados_siape_bruto/descompactado/202403_Servidores_SIAPE'"
      ]
     },
     "metadata": {},
     "output_type": "display_data"
    },
    {
     "data": {
      "text/plain": [
       "'Descompactando arquivo: ../../../dados/dados_siape_bruto/202404_Servidores_SIAPE.zip'"
      ]
     },
     "metadata": {},
     "output_type": "display_data"
    },
    {
     "name": "stderr",
     "output_type": "stream",
     "text": [
      "Extraindo arquivos: 100%|██████████████████████████████████████████████████████████████████████████████████████████████████████| 4/4 [00:05<00:00,  1.40s/arquivos]\n"
     ]
    },
    {
     "data": {
      "text/plain": [
       "'Arquivos extraídos para: ../../../dados/dados_siape_bruto/descompactado/202404_Servidores_SIAPE'"
      ]
     },
     "metadata": {},
     "output_type": "display_data"
    },
    {
     "data": {
      "text/plain": [
       "'Descompactando arquivo: ../../../dados/dados_siape_bruto/202405_Servidores_SIAPE.zip'"
      ]
     },
     "metadata": {},
     "output_type": "display_data"
    },
    {
     "name": "stderr",
     "output_type": "stream",
     "text": [
      "Extraindo arquivos: 100%|██████████████████████████████████████████████████████████████████████████████████████████████████████| 4/4 [00:03<00:00,  1.20arquivos/s]\n"
     ]
    },
    {
     "data": {
      "text/plain": [
       "'Arquivos extraídos para: ../../../dados/dados_siape_bruto/descompactado/202405_Servidores_SIAPE'"
      ]
     },
     "metadata": {},
     "output_type": "display_data"
    },
    {
     "data": {
      "text/plain": [
       "'Descompactando arquivo: ../../../dados/dados_siape_bruto/202406_Servidores_SIAPE.zip'"
      ]
     },
     "metadata": {},
     "output_type": "display_data"
    },
    {
     "name": "stderr",
     "output_type": "stream",
     "text": [
      "Extraindo arquivos: 100%|██████████████████████████████████████████████████████████████████████████████████████████████████████| 4/4 [00:10<00:00,  2.65s/arquivos]\n"
     ]
    },
    {
     "data": {
      "text/plain": [
       "'Arquivos extraídos para: ../../../dados/dados_siape_bruto/descompactado/202406_Servidores_SIAPE'"
      ]
     },
     "metadata": {},
     "output_type": "display_data"
    },
    {
     "data": {
      "text/plain": [
       "'Descompactando arquivo: ../../../dados/dados_siape_bruto/202407_Servidores_SIAPE.zip'"
      ]
     },
     "metadata": {},
     "output_type": "display_data"
    },
    {
     "name": "stderr",
     "output_type": "stream",
     "text": [
      "Extraindo arquivos: 100%|██████████████████████████████████████████████████████████████████████████████████████████████████████| 4/4 [00:05<00:00,  1.45s/arquivos]\n"
     ]
    },
    {
     "data": {
      "text/plain": [
       "'Arquivos extraídos para: ../../../dados/dados_siape_bruto/descompactado/202407_Servidores_SIAPE'"
      ]
     },
     "metadata": {},
     "output_type": "display_data"
    },
    {
     "data": {
      "text/plain": [
       "'Descompactando arquivo: ../../../dados/dados_siape_bruto/202408_Servidores_SIAPE.zip'"
      ]
     },
     "metadata": {},
     "output_type": "display_data"
    },
    {
     "name": "stderr",
     "output_type": "stream",
     "text": [
      "Extraindo arquivos: 100%|██████████████████████████████████████████████████████████████████████████████████████████████████████| 4/4 [00:04<00:00,  1.05s/arquivos]\n"
     ]
    },
    {
     "data": {
      "text/plain": [
       "'Arquivos extraídos para: ../../../dados/dados_siape_bruto/descompactado/202408_Servidores_SIAPE'"
      ]
     },
     "metadata": {},
     "output_type": "display_data"
    },
    {
     "data": {
      "text/plain": [
       "'Descompactando arquivo: ../../../dados/dados_siape_bruto/202409_Servidores_SIAPE.zip'"
      ]
     },
     "metadata": {},
     "output_type": "display_data"
    },
    {
     "name": "stderr",
     "output_type": "stream",
     "text": [
      "Extraindo arquivos: 100%|██████████████████████████████████████████████████████████████████████████████████████████████████████| 4/4 [00:10<00:00,  2.68s/arquivos]\n"
     ]
    },
    {
     "data": {
      "text/plain": [
       "'Arquivos extraídos para: ../../../dados/dados_siape_bruto/descompactado/202409_Servidores_SIAPE'"
      ]
     },
     "metadata": {},
     "output_type": "display_data"
    },
    {
     "data": {
      "text/plain": [
       "'Descompactando arquivo: ../../../dados/dados_siape_bruto/202410_Servidores_SIAPE.zip'"
      ]
     },
     "metadata": {},
     "output_type": "display_data"
    },
    {
     "name": "stderr",
     "output_type": "stream",
     "text": [
      "Extraindo arquivos: 100%|██████████████████████████████████████████████████████████████████████████████████████████████████████| 4/4 [00:05<00:00,  1.36s/arquivos]\n"
     ]
    },
    {
     "data": {
      "text/plain": [
       "'Arquivos extraídos para: ../../../dados/dados_siape_bruto/descompactado/202410_Servidores_SIAPE'"
      ]
     },
     "metadata": {},
     "output_type": "display_data"
    },
    {
     "data": {
      "text/plain": [
       "'Descompactando arquivo: ../../../dados/dados_siape_bruto/202411_Servidores_SIAPE.zip'"
      ]
     },
     "metadata": {},
     "output_type": "display_data"
    },
    {
     "name": "stderr",
     "output_type": "stream",
     "text": [
      "Extraindo arquivos: 100%|██████████████████████████████████████████████████████████████████████████████████████████████████████| 4/4 [00:03<00:00,  1.05arquivos/s]\n"
     ]
    },
    {
     "data": {
      "text/plain": [
       "'Arquivos extraídos para: ../../../dados/dados_siape_bruto/descompactado/202411_Servidores_SIAPE'"
      ]
     },
     "metadata": {},
     "output_type": "display_data"
    }
   ],
   "source": [
    "percorre_extrai_zip('../../../dados/dados_siape_bruto', '../../../dados/dados_siape_bruto/descompactado')"
   ]
  }
 ],
 "metadata": {
  "kernelspec": {
   "display_name": "Python 3 (ipykernel)",
   "language": "python",
   "name": "python3"
  },
  "language_info": {
   "codemirror_mode": {
    "name": "ipython",
    "version": 3
   },
   "file_extension": ".py",
   "mimetype": "text/x-python",
   "name": "python",
   "nbconvert_exporter": "python",
   "pygments_lexer": "ipython3",
   "version": "3.10.12"
  }
 },
 "nbformat": 4,
 "nbformat_minor": 5
}

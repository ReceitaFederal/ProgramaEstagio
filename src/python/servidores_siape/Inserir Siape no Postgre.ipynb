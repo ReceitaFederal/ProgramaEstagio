{
 "cells": [
  {
   "cell_type": "code",
   "execution_count": null,
   "id": "d765b6a7-2034-41ff-b795-6aaceb64853b",
   "metadata": {},
   "outputs": [
    {
     "name": "stdin",
     "output_type": "stream",
     "text": [
      "A tabela 'siape' já existe. Deseja apagá-la e recriar? (s/n):  n\n"
     ]
    },
    {
     "name": "stdout",
     "output_type": "stream",
     "text": [
      "✅ Mantida a tabela existente. Nenhuma alteração.\n"
     ]
    },
    {
     "data": {
      "text/markdown": [
       "✅ **Tabela `siape` verificada/criada com sucesso.**"
      ],
      "text/plain": [
       "<IPython.core.display.Markdown object>"
      ]
     },
     "metadata": {},
     "output_type": "display_data"
    },
    {
     "data": {
      "text/markdown": [
       "2025-03-30 11:28:37 - iniciando"
      ],
      "text/plain": [
       "<IPython.core.display.Markdown object>"
      ]
     },
     "metadata": {},
     "output_type": "display_data"
    },
    {
     "data": {
      "text/markdown": [
       "2025-03-30 11:28:37 - dados_ja_inseridos - conectando"
      ],
      "text/plain": [
       "<IPython.core.display.Markdown object>"
      ]
     },
     "metadata": {},
     "output_type": "display_data"
    },
    {
     "data": {
      "text/markdown": [
       "2025-03-30 11:28:37 - dados_ja_inseridos - select"
      ],
      "text/plain": [
       "<IPython.core.display.Markdown object>"
      ]
     },
     "metadata": {},
     "output_type": "display_data"
    },
    {
     "data": {
      "text/markdown": [
       "ℹ️ **Dados já inseridos anteriormente. Pulando.**"
      ],
      "text/plain": [
       "<IPython.core.display.Markdown object>"
      ]
     },
     "metadata": {},
     "output_type": "display_data"
    },
    {
     "data": {
      "text/markdown": [
       "2025-03-30 11:43:34 - iniciando"
      ],
      "text/plain": [
       "<IPython.core.display.Markdown object>"
      ]
     },
     "metadata": {},
     "output_type": "display_data"
    },
    {
     "data": {
      "text/markdown": [
       "2025-03-30 11:43:34 - dados_ja_inseridos - conectando"
      ],
      "text/plain": [
       "<IPython.core.display.Markdown object>"
      ]
     },
     "metadata": {},
     "output_type": "display_data"
    },
    {
     "data": {
      "text/markdown": [
       "2025-03-30 11:43:34 - dados_ja_inseridos - select"
      ],
      "text/plain": [
       "<IPython.core.display.Markdown object>"
      ]
     },
     "metadata": {},
     "output_type": "display_data"
    },
    {
     "data": {
      "text/markdown": [
       "ℹ️ **Dados já inseridos anteriormente. Pulando.**"
      ],
      "text/plain": [
       "<IPython.core.display.Markdown object>"
      ]
     },
     "metadata": {},
     "output_type": "display_data"
    },
    {
     "data": {
      "text/markdown": [
       "2025-03-30 11:57:53 - iniciando"
      ],
      "text/plain": [
       "<IPython.core.display.Markdown object>"
      ]
     },
     "metadata": {},
     "output_type": "display_data"
    },
    {
     "data": {
      "text/markdown": [
       "2025-03-30 11:57:53 - dados_ja_inseridos - conectando"
      ],
      "text/plain": [
       "<IPython.core.display.Markdown object>"
      ]
     },
     "metadata": {},
     "output_type": "display_data"
    },
    {
     "data": {
      "text/markdown": [
       "2025-03-30 11:57:53 - dados_ja_inseridos - select"
      ],
      "text/plain": [
       "<IPython.core.display.Markdown object>"
      ]
     },
     "metadata": {},
     "output_type": "display_data"
    },
    {
     "data": {
      "text/markdown": [
       "ℹ️ **Dados já inseridos anteriormente. Pulando.**"
      ],
      "text/plain": [
       "<IPython.core.display.Markdown object>"
      ]
     },
     "metadata": {},
     "output_type": "display_data"
    },
    {
     "data": {
      "text/markdown": [
       "2025-03-30 12:11:27 - iniciando"
      ],
      "text/plain": [
       "<IPython.core.display.Markdown object>"
      ]
     },
     "metadata": {},
     "output_type": "display_data"
    },
    {
     "data": {
      "text/markdown": [
       "2025-03-30 12:11:27 - dados_ja_inseridos - conectando"
      ],
      "text/plain": [
       "<IPython.core.display.Markdown object>"
      ]
     },
     "metadata": {},
     "output_type": "display_data"
    },
    {
     "data": {
      "text/markdown": [
       "2025-03-30 12:11:27 - dados_ja_inseridos - select"
      ],
      "text/plain": [
       "<IPython.core.display.Markdown object>"
      ]
     },
     "metadata": {},
     "output_type": "display_data"
    }
   ],
   "source": [
    "import os\n",
    "import re\n",
    "import pandas as pd\n",
    "import unicodedata\n",
    "import psycopg2\n",
    "from psycopg2.extras import execute_values\n",
    "from pathlib import Path\n",
    "from tqdm import tqdm\n",
    "from IPython.display import display, Markdown\n",
    "from datetime import datetime\n",
    "\n",
    "\n",
    "def agora():\n",
    "    return datetime.now().strftime(\"%Y-%m-%d %H:%M:%S\")\n",
    "\n",
    "\n",
    "# --------- 1. FUNÇÕES UTILITÁRIAS ---------\n",
    "\n",
    "def limpar_coluna(col):\n",
    "    col = col.strip().lower()\n",
    "    col = unicodedata.normalize('NFKD', col).encode('ascii', 'ignore').decode('utf-8')\n",
    "\n",
    "    col = col.replace(\"r$\", \"rs\").replace(\"u$\", \"us\")\n",
    "    col = col.replace(\"(\", \"\").replace(\")\", \"\").replace(\"*\", \"\")\n",
    "    col = re.sub(r'[^a-z0-9]+', '_', col)     # substitui qualquer sequência de não-letras/números por \"_\"\n",
    "    col = re.sub(r'_+', '_', col)             # substitui múltiplos \"_\" por um só\n",
    "    col = col.strip('_')                      # remove \"_\" do início e fim, se houver\n",
    "\n",
    "    # ajuste específico para 'programa_desligamento_voluntario'\n",
    "    col = col.replace('programa_desligamento_voluntario', 'pdv')\n",
    "    col = col.replace('verbas_indenizatorias_registradas_em_sistemas_de_pessoal', 'verbas_indenizatorias')\n",
    "    \n",
    "\n",
    "    return col\n",
    "\n",
    "def para_float(valor):\n",
    "    try:\n",
    "        if isinstance(valor, str):\n",
    "            valor = valor.replace('.', '').replace(',', '.')\n",
    "        return float(valor)\n",
    "    except:\n",
    "        return None\n",
    "\n",
    "def gerar_create_table_sql(df, nome_tabela=\"siape\"):\n",
    "    tipo_sql = {\n",
    "        \"object\": \"TEXT\",\n",
    "        \"int64\": \"NUMERIC\",\n",
    "        \"float64\": \"NUMERIC\",\n",
    "        \"datetime64[ns]\": \"DATE\",\n",
    "        \"bool\": \"BOOLEAN\"\n",
    "    }\n",
    "\n",
    "    colunas_sql = []\n",
    "    for coluna, tipo in df.dtypes.items():\n",
    "        tipo_postgres = tipo_sql.get(str(tipo), \"TEXT\")\n",
    "        colunas_sql.append(f'    {coluna} {tipo_postgres}')\n",
    "\n",
    "    colunas_str = \",\\n\".join(colunas_sql)\n",
    "    \n",
    "    sql = f\"\"\"\n",
    "        CREATE TABLE IF NOT EXISTS {nome_tabela} (\n",
    "            id SERIAL PRIMARY KEY,\n",
    "            {colunas_str}\n",
    "        ) TABLESPACE siape_space;\n",
    "    \"\"\"\n",
    "    \n",
    "    return sql\n",
    "\n",
    "def dados_ja_inseridos(ano, mes):\n",
    "    try:\n",
    "        display(Markdown(f\"{agora()} - dados_ja_inseridos - conectando\"))\n",
    "        con = psycopg2.connect(dbname=\"siape\", user=\"bonafe\", password=\"ovopreto\", host=\"localhost\", port=\"5432\")\n",
    "        cur = con.cursor()\n",
    "        display(Markdown(f\"{agora()} - dados_ja_inseridos - select\"))\n",
    "        cur.execute(\"SELECT COUNT(*) FROM siape WHERE ano = %s AND mes = %s\", (str(ano), mes))\n",
    "        count = cur.fetchone()[0]\n",
    "        cur.close()\n",
    "        con.close()\n",
    "        return count > 0\n",
    "    except:\n",
    "        return False\n",
    "\n",
    "def inserir_siape_no_banco(df, ano, mes, chunk_size=5000):\n",
    "    df.columns = [limpar_coluna(c) for c in df.columns]\n",
    "    df[\"ano\"] = str(ano)\n",
    "    df[\"mes\"] = int(mes)\n",
    "\n",
    "    display(Markdown(f\"{agora()} - transformando em float\"))\n",
    "    for col in [c for c in df.columns if \"rs\" in c or \"us\" in c or \"remuneracao\" in c or \"verbas\" in c]:\n",
    "        df[col] = df[col].apply(para_float)\n",
    "\n",
    "    display(Markdown(f\"{agora()} - transformando em data\"))\n",
    "    for col in [c for c in df.columns if \"data_\" in c]:\n",
    "        df[col] = pd.to_datetime(df[col], errors=\"coerce\", dayfirst=True)\n",
    "    if \"id\" in df.columns:\n",
    "        df.drop(columns=[\"id\"], inplace=True)\n",
    "\n",
    "    colunas = list(df.columns)\n",
    "    total = len(df)\n",
    "\n",
    "    try:\n",
    "        con = psycopg2.connect(dbname=\"siape\", user=\"bonafe\", password=\"ovopreto\", host=\"localhost\", port=\"5432\")\n",
    "        cur = con.cursor()\n",
    "        for i in tqdm(range(0, total, chunk_size), desc=f\"Inserindo {mes}/{ano}\"):\n",
    "            chunk = df.iloc[i:i+chunk_size]            \n",
    "            valores = chunk.replace({pd.NaT: None}).where(pd.notnull(chunk), None).values.tolist()\n",
    "            insert_query = f\"INSERT INTO siape ({', '.join(colunas)}) VALUES %s\"            \n",
    "            execute_values(cur, insert_query, valores)\n",
    "        con.commit()\n",
    "        display(Markdown(f\"✅ **Inseridos {total} registros do mês {mes}/{ano}.**\"))\n",
    "    except Exception as e:\n",
    "        display(Markdown(f\"❌ **Erro ao inserir {mes}/{ano}:** {e}\"))\n",
    "    finally:\n",
    "        cur.close()\n",
    "        con.close()\n",
    "\n",
    "\n",
    "# --------- 2. CRIA TABELA BASEADO EM UM MÊS DE EXEMPLO ---------\n",
    "\n",
    "base_dir = Path(\"../../../dados/dados_siape_bruto/descompactado\")\n",
    "pastas = sorted(base_dir.glob(\"*_Servidores_SIAPE\"))\n",
    "\n",
    "if not pastas:\n",
    "    raise Exception(\"Nenhuma pasta *_Servidores_SIAPE encontrada.\")\n",
    "\n",
    "\n",
    "# Cria ou recria a tabela no banco\n",
    "try:\n",
    "    con = psycopg2.connect(dbname=\"siape\", user=\"bonafe\", password=\"ovopreto\", host=\"localhost\", port=\"5432\")\n",
    "    cur = con.cursor()\n",
    "    cur.execute(\"SELECT EXISTS (SELECT FROM information_schema.tables WHERE table_name = 'siape');\")\n",
    "    existe = cur.fetchone()[0]\n",
    "\n",
    "    if existe:\n",
    "        \n",
    "        resposta = input(\"A tabela 'siape' já existe. Deseja apagá-la e recriar? (s/n): \").strip().lower()\n",
    "        \n",
    "        if resposta == 's':\n",
    "            \n",
    "            cur.execute(\"DROP TABLE IF EXISTS siape CASCADE;\")\n",
    "            pasta_exemplo = pastas[0]\n",
    "            ano_mes = pasta_exemplo.name.split(\"_\")[0]\n",
    "            ano = int(ano_mes[:4])\n",
    "            mes = int(ano_mes[4:6])\n",
    "            cadastro_csv = pasta_exemplo / f\"{ano_mes}_Cadastro.csv\"\n",
    "            remuneracao_csv = pasta_exemplo / f\"{ano_mes}_Remuneracao.csv\"\n",
    "            \n",
    "            df_c = pd.read_csv(cadastro_csv, encoding=\"iso-8859-1\", sep=\";\", low_memory=False)\n",
    "            df_r = pd.read_csv(remuneracao_csv, encoding=\"iso-8859-1\", sep=\";\", low_memory=False)\n",
    "            df = pd.merge(df_c, df_r, on=\"Id_SERVIDOR_PORTAL\", how=\"left\")\n",
    "            \n",
    "            # 🧼 Corrige colunas ANTES de gerar SQL\n",
    "            df.columns = [limpar_coluna(c) for c in df.columns]\n",
    "                \n",
    "            \n",
    "            df[\"ano\"] = int(ano)\n",
    "            df[\"mes\"] = int(mes)\n",
    "            \n",
    "            \n",
    "            for col in [c for c in df.columns if \"rs\" in c or \"us\" in c or \"remuneracao\" in c or \"verbas\" in c]:\n",
    "                df[col] = df[col].apply(para_float)\n",
    "            for col in [c for c in df.columns if \"data_\" in c]:\n",
    "                df[col] = pd.to_datetime(df[col], errors=\"coerce\", dayfirst=True)    \n",
    "            \n",
    "            # ✅ Agora sim, gerar o SQL com colunas já limpas\n",
    "            create_table_sql = gerar_create_table_sql(df)\n",
    "                \n",
    "            cur.execute(create_table_sql)    \n",
    "            con.commit()\n",
    "            print(\"🔁 Tabela antiga removida.\")\n",
    "            \n",
    "        else:\n",
    "            print(\"✅ Mantida a tabela existente. Nenhuma alteração.\")\n",
    "    \n",
    "    cur.close()\n",
    "    con.close()\n",
    "    display(Markdown(\"✅ **Tabela `siape` verificada/criada com sucesso.**\"))\n",
    "except Exception as e:\n",
    "    display(Markdown(f\"❌ **Erro ao criar a tabela:** {e}\"))\n",
    "\n",
    "\n",
    "# --------- 3. INSERE OS DADOS DE TODOS OS MESES ---------\n",
    "\n",
    "for pasta in pastas:\n",
    "    try:\n",
    "        ano_mes = pasta.name.split(\"_\")[0]\n",
    "        ano = int(ano_mes[:4])\n",
    "        mes = int(ano_mes[4:6])\n",
    "\n",
    "                \n",
    "        display(Markdown(f\"{agora()} - iniciando\"))\n",
    "        \n",
    "        if dados_ja_inseridos(ano, mes):\n",
    "            display(Markdown(\"ℹ️ **Dados já inseridos anteriormente. Pulando.**\"))\n",
    "            continue\n",
    "\n",
    "        cadastro_csv = pasta / f\"{ano_mes}_Cadastro.csv\"\n",
    "        remuneracao_csv = pasta / f\"{ano_mes}_Remuneracao.csv\"\n",
    "\n",
    "        if not cadastro_csv.exists() or not remuneracao_csv.exists():\n",
    "            display(Markdown(\"⚠️ **Arquivos não encontrados. Pulando.**\"))\n",
    "            continue\n",
    "\n",
    "        display(Markdown(f\"{agora()} - lendo cadastro\"))\n",
    "        df_c = pd.read_csv(cadastro_csv, encoding=\"iso-8859-1\", sep=\";\", low_memory=False)\n",
    "        display(Markdown(f\"{agora()} - lendo remuneração\"))\n",
    "        df_r = pd.read_csv(remuneracao_csv, encoding=\"iso-8859-1\", sep=\";\", low_memory=False)\n",
    "        display(Markdown(f\"{agora()} - fazendo merge\"))\n",
    "        df = pd.merge(df_c, df_r, on=\"Id_SERVIDOR_PORTAL\", how=\"left\")\n",
    "\n",
    "        display(Markdown(f\"{agora()} - inserir no banco\"))\n",
    "        inserir_siape_no_banco(df, ano, mes)\n",
    "\n",
    "    except Exception as e:\n",
    "        display(Markdown(f\"❌ **Erro ao processar `{pasta.name}`:** {e}\"))\n"
   ]
  }
 ],
 "metadata": {
  "kernelspec": {
   "display_name": "Python 3 (ipykernel)",
   "language": "python",
   "name": "python3"
  },
  "language_info": {
   "codemirror_mode": {
    "name": "ipython",
    "version": 3
   },
   "file_extension": ".py",
   "mimetype": "text/x-python",
   "name": "python",
   "nbconvert_exporter": "python",
   "pygments_lexer": "ipython3",
   "version": "3.10.12"
  }
 },
 "nbformat": 4,
 "nbformat_minor": 5
}

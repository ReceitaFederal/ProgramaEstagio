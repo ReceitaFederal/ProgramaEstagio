{
 "cells": [
  {
   "cell_type": "code",
   "execution_count": null,
   "id": "f1ccd059-8acd-496e-bd16-b8dd328271df",
   "metadata": {},
   "outputs": [],
   "source": [
    "import pandas as pd\n",
    "\n",
    "# Criando um DataFrame de exemplo\n",
    "data = {'Nome': ['Alice', 'Bob', 'Charlie', 'David'],\n",
    "        'Idade': [25, 30, 35, 40],\n",
    "        'Cidade': ['A', 'B', 'A', 'C']}\n",
    "df = pd.DataFrame(data)\n",
    "\n",
    "# Definindo o índice para a coluna 'Nome'\n",
    "df.set_index('Nome', inplace=True)\n",
    "\n",
    "# Usando loc para acessar dados por rótulos\n",
    "# Aqui, estamos acessando a linha com rótulo 'Bob' e a coluna 'Idade'\n",
    "idade_bob = df.loc['Bob', 'Idade']\n",
    "print(f\"Idade de Bob: {idade_bob}\")\n",
    "\n",
    "# Usando loc para acessar dados por condição booleana\n",
    "# Aqui, estamos acessando todas as linhas onde a idade é maior que 30\n",
    "maiores_que_30 = df.loc[df['Idade'] > 30]\n",
    "print(\"\\nPessoas com mais de 30 anos:\\n\", maiores_que_30)"
   ]
  },
  {
   "cell_type": "code",
   "execution_count": null,
   "id": "c658dfd8-985d-42db-b7be-f382a2ff72fc",
   "metadata": {},
   "outputs": [],
   "source": [
    "pd.set_option('display.max_columns', None)\n",
    "pd.set_option('display.max_rows', 10)"
   ]
  },
  {
   "cell_type": "code",
   "execution_count": null,
   "id": "0e73c3eb-cbbf-4625-ba17-148f7e69c0e6",
   "metadata": {},
   "outputs": [],
   "source": []
  },
  {
   "cell_type": "code",
   "execution_count": null,
   "id": "ad503e78-db2b-4c18-8011-69f7a1e00840",
   "metadata": {},
   "outputs": [],
   "source": [
    "df_202311 = pd.read_csv('../../dados/dados_siape_bruto/descompactado/202311_Servidores_SIAPE/202311_Cadastro.csv', encoding='iso-8859-1', sep=';')"
   ]
  },
  {
   "cell_type": "code",
   "execution_count": null,
   "id": "c2326f1c-4fb6-4b79-a92e-91e2b22862bd",
   "metadata": {},
   "outputs": [],
   "source": [
    "df = df_202311"
   ]
  },
  {
   "cell_type": "code",
   "execution_count": null,
   "id": "0950b67e-bd22-4f2c-b8d0-e0e772d4b65f",
   "metadata": {},
   "outputs": [],
   "source": [
    "df[(df['UORG_LOTACAO'] == \"Inválido\") & (df['UORG_EXERCICIO'] == \"Inválido\")].sample(10)"
   ]
  },
  {
   "cell_type": "code",
   "execution_count": null,
   "id": "4340be0a-db0e-4c88-8aa4-d1f2a4df1515",
   "metadata": {},
   "outputs": [],
   "source": [
    "linhas_uorg_lotacao_invalida = (df['UORG_LOTACAO'].str.strip() == 'Inválido')\n",
    "\n",
    "# Verificando as linhas que serão alteradas\n",
    "print(\"Linhas antes da correção:\")\n",
    "print(df[linhas_uorg_lotacao_invalida][['UORG_LOTACAO', 'UORG_EXERCICIO']])\n",
    "\n",
    "# Usando .loc para atribuir diretamente no DataFrame original\n",
    "df.loc[linhas_uorg_lotacao_invalida, 'UORG_LOTACAO'] = df.loc[linhas_uorg_lotacao_invalida, 'UORG_EXERCICIO']\n",
    "\n",
    "# Verificando as linhas após a correção\n",
    "print(\"\\nLinhas após a correção:\")\n",
    "print(df[linhas_uorg_lotacao_invalida][['UORG_LOTACAO', 'UORG_EXERCICIO']])"
   ]
  },
  {
   "cell_type": "code",
   "execution_count": null,
   "id": "cdf8cdfb-8c0a-40f6-9e64-997947312b88",
   "metadata": {},
   "outputs": [],
   "source": []
  }
 ],
 "metadata": {
  "kernelspec": {
   "display_name": "Python 3 (ipykernel)",
   "language": "python",
   "name": "python3"
  },
  "language_info": {
   "codemirror_mode": {
    "name": "ipython",
    "version": 3
   },
   "file_extension": ".py",
   "mimetype": "text/x-python",
   "name": "python",
   "nbconvert_exporter": "python",
   "pygments_lexer": "ipython3",
   "version": "3.10.12"
  }
 },
 "nbformat": 4,
 "nbformat_minor": 5
}

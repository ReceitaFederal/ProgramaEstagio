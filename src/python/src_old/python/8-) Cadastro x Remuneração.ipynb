{
 "cells": [
  {
   "cell_type": "code",
   "execution_count": null,
   "id": "e343b95c-6776-481b-83d7-d381ce02e95d",
   "metadata": {},
   "outputs": [],
   "source": [
    "import pandas as pd\n",
    "# import plotly.express as px\n",
    "# import plotly.graph_objects as go\n",
    "# import matplotlib.pyplot as plt\n",
    "# from IPython.display import display, Markdown\n",
    "# import seaborn as sns"
   ]
  },
  {
   "cell_type": "code",
   "execution_count": null,
   "id": "c9d463ac-1996-48bf-962b-3708d601337b",
   "metadata": {},
   "outputs": [],
   "source": [
    "pd.set_option('display.max_columns', None)\n",
    "pd.set_option('display.max_rows', None)"
   ]
  },
  {
   "cell_type": "code",
   "execution_count": null,
   "id": "284e9be9-d5c9-48bf-bf11-31684a1c1c2e",
   "metadata": {},
   "outputs": [],
   "source": [
    "# Dados de exemplo\n",
    "dados = {\n",
    "    'País': ['Brasil', 'EUA', 'Índia', 'China', 'Rússia'],\n",
    "    'Cidade': ['São Paulo', 'Nova York', 'Mumbai', 'Pequim', 'Moscou'],\n",
    "    'Habitantes': [21480000, 8419600, 12478447, 21542000, 12678079]\n",
    "}\n",
    "\n",
    "# Criar DataFrame\n",
    "df = pd.DataFrame(dados)\n",
    "\n",
    "# Exibir DataFrame\n",
    "print(df)"
   ]
  },
  {
   "cell_type": "code",
   "execution_count": null,
   "id": "7ca82a7f-697a-400a-b330-70abeedc9f27",
   "metadata": {},
   "outputs": [],
   "source": [
    "df['Novo'] = df['Habitantes'].astype(str)"
   ]
  },
  {
   "cell_type": "code",
   "execution_count": null,
   "id": "ca2315e6-da45-4b49-b952-a8c563b37e74",
   "metadata": {},
   "outputs": [],
   "source": [
    "df[df['Habitantes'] > 10000000]"
   ]
  },
  {
   "cell_type": "code",
   "execution_count": null,
   "id": "d9914182-f4c8-4e63-95f4-c86f022e0f9a",
   "metadata": {},
   "outputs": [],
   "source": [
    "df.info()"
   ]
  },
  {
   "cell_type": "code",
   "execution_count": null,
   "id": "29c25526-f3f4-4291-bbb9-970535452706",
   "metadata": {},
   "outputs": [],
   "source": [
    "# Substitua 'seu_arquivo.csv' pelo caminho do seu arquivo CSV\n",
    "caminho_do_arquivo = '/home/carolcardoso/git/dados/dados_siape/202311_Remuneracao.csv'\n",
    "\n",
    "# Carregando o arquivo CSV em um DataFrame do Pandas\n",
    "df_remuneracao = pd.read_csv(caminho_do_arquivo, encoding='iso-8859-1', sep=';')"
   ]
  },
  {
   "cell_type": "code",
   "execution_count": null,
   "id": "89a3ff2c-9e95-45f5-a7a0-2a076d9fb8b3",
   "metadata": {},
   "outputs": [],
   "source": []
  },
  {
   "cell_type": "code",
   "execution_count": null,
   "id": "aee25eb1-ffe2-4c61-a42f-690371d65ede",
   "metadata": {},
   "outputs": [],
   "source": [
    "df_remuneracao[\"OUTRAS REMUNERAÇÕES EVENTUAIS (R$)\"] = df_remuneracao[\"OUTRAS REMUNERAÇÕES EVENTUAIS (R$)\"].str.replace(',','.').astype(float)\n",
    "df_remuneracao.info()"
   ]
  },
  {
   "cell_type": "code",
   "execution_count": null,
   "id": "a8b2a7e9-1e25-4f97-83e1-958e18c14711",
   "metadata": {},
   "outputs": [],
   "source": [
    "# Substitua 'seu_arquivo.csv' pelo caminho do seu arquivo CSV\n",
    "caminho_do_arquivo = '/home/carolcardoso/git/dados/dados_siape/202311_Cadastro.csv'\n",
    "\n",
    "# Carregando o arquivo CSV em um DataFrame do Pandas\n",
    "df_cadastro = pd.read_csv(caminho_do_arquivo, encoding='iso-8859-1', sep=';')"
   ]
  },
  {
   "cell_type": "code",
   "execution_count": null,
   "id": "ae5d8b8d-9aff-40cd-9c98-eaad024dc5b0",
   "metadata": {},
   "outputs": [],
   "source": [
    "display(df_remuneracao.info())"
   ]
  },
  {
   "cell_type": "code",
   "execution_count": null,
   "id": "1661661b-8c55-4433-a121-8796f424e86a",
   "metadata": {},
   "outputs": [],
   "source": [
    "display(df_remuneracao.sample(5))"
   ]
  },
  {
   "cell_type": "code",
   "execution_count": null,
   "id": "e2f8de9c-6c4a-43e8-ad9f-c6ce3312f5e9",
   "metadata": {},
   "outputs": [],
   "source": [
    "df_filtro = (df_remuneracao[df_remuneracao[\"OUTRAS REMUNERAÇÕES EVENTUAIS (R$)\"].str.contains(\"787\", na=False, case=False)] &\n",
    "            df_cadastro[df_cadastro[\"REGIME_JURIDICO\"].str.contains(\"estag\", na=False, case=False)])\n",
    "\n",
    "display(df_filtro).sample(10)"
   ]
  },
  {
   "cell_type": "code",
   "execution_count": null,
   "id": "bf646820-2009-494f-a810-f48f3f968302",
   "metadata": {},
   "outputs": [],
   "source": [
    "# Selecione as linhas do primeiro DataFrame\n",
    "# df_filtro_remuneracao = df_remuneracao[(df_remuneracao[\"OUTRAS REMUNERAÇÕES EVENTUAIS (R$)\"] <= )]\n",
    "\n",
    "# Selecione as linhas do segundo DataFrame\n",
    "df_filtro_cadastro = df_cadastro[df_cadastro[\"REGIME_JURIDICO\"].str.contains(\"estag\", na=False, case=False)]\n",
    "\n",
    "# Combine os DataFrames usando merge ou concat, dependendo de como você deseja combinar\n",
    "df_cadastro_remuneracao = pd.merge(df_filtro_cadastro, df_remuneracao, on=[\"Id_SERVIDOR_PORTAL\", \"NOME\", \"CPF\"], how=\"left\")\n",
    "\n",
    "#display(df_cadastro_remuneracao.info())\n",
    "\n",
    "df_filtro_cadastro_remuneracao = df_cadastro_remuneracao[(df_cadastro_remuneracao[\"OUTRAS REMUNERAÇÕES EVENTUAIS (R$)\"] >= 1000)]\n",
    "\n",
    "#display(df_filtro_cadastro_remuneracao.info())\n",
    "\n",
    "# display(df_filtro_cadastro_remuneracao[[\"CPF\", \"ORG_EXERCICIO\", \"OUTRAS REMUNERAÇÕES EVENTUAIS (R$)\"]])"
   ]
  },
  {
   "cell_type": "code",
   "execution_count": null,
   "id": "ebbe852d-871e-49ca-9f63-17cc70937607",
   "metadata": {},
   "outputs": [],
   "source": [
    "df_contagem = df_filtro_cadastro_remuneracao.groupby([\"OUTRAS REMUNERAÇÕES EVENTUAIS (R$)\"]).size().reset_index(name='Contagem')"
   ]
  },
  {
   "cell_type": "code",
   "execution_count": null,
   "id": "3efe7b19-091a-48ac-b0d9-f158d3e888e0",
   "metadata": {},
   "outputs": [],
   "source": [
    "df_contagem.sort_values(\"OUTRAS REMUNERAÇÕES EVENTUAIS (R$)\", ascending=False).head(10)"
   ]
  },
  {
   "cell_type": "code",
   "execution_count": null,
   "id": "6e72da12-3b67-42d0-aac0-cf92f5c7c84b",
   "metadata": {},
   "outputs": [],
   "source": [
    "df_filtro_cadastro_remuneracao[df_filtro_cadastro_remuneracao[\"OUTRAS REMUNERAÇÕES EVENTUAIS (R$)\"] == 5542.76]"
   ]
  }
 ],
 "metadata": {
  "kernelspec": {
   "display_name": "Python 3 (ipykernel)",
   "language": "python",
   "name": "python3"
  },
  "language_info": {
   "codemirror_mode": {
    "name": "ipython",
    "version": 3
   },
   "file_extension": ".py",
   "mimetype": "text/x-python",
   "name": "python",
   "nbconvert_exporter": "python",
   "pygments_lexer": "ipython3",
   "version": "3.10.12"
  }
 },
 "nbformat": 4,
 "nbformat_minor": 5
}

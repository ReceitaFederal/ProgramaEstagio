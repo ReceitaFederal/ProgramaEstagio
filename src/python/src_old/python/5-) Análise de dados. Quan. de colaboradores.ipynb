{
 "cells": [
  {
   "cell_type": "code",
   "execution_count": null,
   "id": "de233a22-7135-472e-9c8f-91ab76f8120a",
   "metadata": {},
   "outputs": [],
   "source": [
    "import pandas as pd\n",
    "import plotly.express as px\n",
    "import plotly.graph_objects as go\n",
    "import matplotlib.pyplot as plt\n",
    "from IPython.display import display, Markdown\n",
    "import seaborn as sns"
   ]
  },
  {
   "cell_type": "code",
   "execution_count": null,
   "id": "7b00c33d-475f-4532-bd86-4b1b8c8362eb",
   "metadata": {},
   "outputs": [],
   "source": [
    "pd.set_option('display.max_columns', None)\n",
    "pd.set_option('display.max_rows', None)"
   ]
  },
  {
   "cell_type": "code",
   "execution_count": null,
   "id": "39ecd85b-6be3-4e1d-aec1-e7a23df43e36",
   "metadata": {},
   "outputs": [],
   "source": [
    "# Especifique o caminho para o seu arquivo CSV\n",
    "caminho_arquivo = '../../dados/dados_siape_consolidado/uorg_exercicio/cadastro_siape_consolidado_uorg_org_regime_mes_ano_completo-2021-2023.csv'\n",
    "\n",
    "df = pd.read_csv(caminho_arquivo)"
   ]
  },
  {
   "cell_type": "code",
   "execution_count": null,
   "id": "4fd52c97-cf69-4b7f-a799-2a415a0e7ff8",
   "metadata": {},
   "outputs": [],
   "source": [
    "df['ano'].unique()"
   ]
  },
  {
   "cell_type": "code",
   "execution_count": null,
   "id": "89dde074-e4f6-4c44-a53a-25ea00cabe1e",
   "metadata": {},
   "outputs": [],
   "source": [
    "df['ano_mes'] = df['ano'].astype(str) + '-' + df['mes'].astype(str).str.zfill(2)"
   ]
  },
  {
   "cell_type": "code",
   "execution_count": null,
   "id": "9904f4fd-b566-4b70-a67a-a3f229f32f55",
   "metadata": {},
   "outputs": [],
   "source": [
    "df_janeiro = df[df['mes'] == 1]"
   ]
  },
  {
   "cell_type": "code",
   "execution_count": null,
   "id": "ea0ffd9f-ef98-4737-b787-0e36f24c4ae2",
   "metadata": {},
   "outputs": [],
   "source": [
    "df['ORG_EXERCICIO'].unique()"
   ]
  },
  {
   "cell_type": "markdown",
   "id": "4ba2ee6d-12eb-4c30-9307-0e8018542989",
   "metadata": {},
   "source": [
    "# NÃO EXCLUÍMOS CPFs REPETIDOS!!!!!!!!!!!!!!!!!!!!"
   ]
  },
  {
   "cell_type": "markdown",
   "id": "ff87a4cb-3ac8-4163-8f01-ed3311cce2c8",
   "metadata": {},
   "source": [
    "# Contagem dos servidores por órgão ao longo dos meses e anos"
   ]
  },
  {
   "cell_type": "code",
   "execution_count": null,
   "id": "9665ca78-487f-4c8b-b296-1fd46a518280",
   "metadata": {},
   "outputs": [],
   "source": [
    "def grafico_servidores_por_orgao_mes_ano (df_orgaos, orgaos_escolhidos):\n",
    "\n",
    "    df_filtrado = df_orgaos[\n",
    "                        df_orgaos[\"REGIME_JURIDICO\"].str.contains(\"regime juridico unico\", na=False, case=False) &\n",
    "                        df_orgaos[\"ORG_EXERCICIO\"].str.contains('|'.join(orgaos_escolhidos), na=False, case=False)\n",
    "                    ]\n",
    "    # Supondo que df seja o seu DataFrame    \n",
    "    tamanho = df_filtrado['REGIME_JURIDICO'].count()\n",
    "    \n",
    "    if tamanho == 0:\n",
    "        \n",
    "        display(f'O dataframe não tem registros')\n",
    "\n",
    "    else:\n",
    "        df_grupo_contagem = df_filtrado.groupby(['ORG_EXERCICIO','ano_mes'])['Contagem'].sum().reset_index()\n",
    "\n",
    "        # Criar gráfico interativo de linha usando o Plotly Express\n",
    "        fig = px.line(df_grupo_contagem, x='ano_mes', y='Contagem', color='ORG_EXERCICIO', labels={'ano_mes': 'Mês e ano', 'Contagem': 'Quantidade total'},\n",
    "                      markers=True, line_shape='linear',\n",
    "                      title='Contagem de servidores nos 5 órgãos escolhidos ao longo dos meses e anos')\n",
    "    \n",
    "        # Ajustar configuração do eixo X para mostrar todos os anos\n",
    "        fig.update_layout(xaxis=dict(tickmode='linear', dtick=1))\n",
    "\n",
    "        # Configurar a legenda do eixo X na vertical\n",
    "        fig.update_xaxes(tickangle=90, tickmode='array', tickvals=df['ano_mes'].tolist(), ticktext=df['ano_mes'].tolist())\n",
    "\n",
    "        # Exibir gráfico\n",
    "        fig.show()\n",
    "\n",
    "orgaos_escolhidos = [\n",
    "    'Instituto Nacional do Seguro Social',\n",
    "    'ministério da economia', \n",
    "    'Advocacia-Geral da União' ,     \n",
    "    'Ministério da Ciência, Tecnologia, Inovações e Comunicações', \n",
    "    'Ministério da Saúde']\n",
    "\n",
    "grafico_servidores_por_orgao_mes_ano(df, orgaos_escolhidos)"
   ]
  },
  {
   "cell_type": "markdown",
   "id": "0280688e-7195-4976-a252-5b81c30c2ae9",
   "metadata": {},
   "source": [
    "# Contagem dos estagiários por órgão ao longo dos meses e anos"
   ]
  },
  {
   "cell_type": "code",
   "execution_count": null,
   "id": "59db3073-1c04-438d-b814-38f35a89d5e3",
   "metadata": {},
   "outputs": [],
   "source": [
    "def grafico_estagiarios_por_orgao_mes_ano (df_orgaos, orgaos_escolhidos):\n",
    "\n",
    "    df_filtrado = df_orgaos[\n",
    "                        df_orgaos[\"REGIME_JURIDICO\"].str.contains(\"estag\", na=False, case=False) &\n",
    "                        df_orgaos[\"ORG_EXERCICIO\"].str.contains('|'.join(orgaos_escolhidos), na=False, case=False)\n",
    "                    ]\n",
    "    # Supondo que df seja o seu DataFrame    \n",
    "    tamanho = df_filtrado['REGIME_JURIDICO'].count()\n",
    "    \n",
    "    if tamanho == 0:\n",
    "        \n",
    "        display(f'O dataframe não tem registros')\n",
    "\n",
    "    else:\n",
    "        df_grupo_contagem = df_filtrado.groupby(['ORG_EXERCICIO','ano_mes'])['Contagem'].sum().reset_index()\n",
    "\n",
    "        # Criar gráfico interativo de linha usando o Plotly Express\n",
    "        fig = px.line(df_grupo_contagem, x='ano_mes', y='Contagem', color='ORG_EXERCICIO', labels={'ano_mes': 'Mês e ano', 'Contagem': 'Quantidade total'},\n",
    "                      markers=True, line_shape='linear',\n",
    "                      title='Contagem de estagiários nos 5 órgãos escolhidos ao longo dos meses e anos')\n",
    "    \n",
    "        # Ajustar configuração do eixo X para mostrar todos os anos\n",
    "        fig.update_layout(xaxis=dict(tickmode='linear', dtick=1))\n",
    "\n",
    "        # Configurar a legenda do eixo X na vertical\n",
    "        fig.update_xaxes(tickangle=90, tickmode='array', tickvals=df['ano_mes'].tolist(), ticktext=df['ano_mes'].tolist())\n",
    "\n",
    "        # Exibir gráfico\n",
    "        fig.show()\n",
    "\n",
    "orgaos_escolhidos = [\n",
    "    'Instituto Nacional do Seguro Social',\n",
    "    'ministério da economia', \n",
    "    'Advocacia-Geral da União' ,     \n",
    "    'Ministério da Ciência, Tecnologia, Inovações e Comunicações', \n",
    "    'Ministério da Saúde']\n",
    "\n",
    "grafico_estagiarios_por_orgao_mes_ano(df, orgaos_escolhidos)"
   ]
  }
 ],
 "metadata": {
  "kernelspec": {
   "display_name": "Python 3 (ipykernel)",
   "language": "python",
   "name": "python3"
  },
  "language_info": {
   "codemirror_mode": {
    "name": "ipython",
    "version": 3
   },
   "file_extension": ".py",
   "mimetype": "text/x-python",
   "name": "python",
   "nbconvert_exporter": "python",
   "pygments_lexer": "ipython3",
   "version": "3.10.12"
  }
 },
 "nbformat": 4,
 "nbformat_minor": 5
}

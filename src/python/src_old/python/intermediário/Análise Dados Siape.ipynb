{
 "cells": [
  {
   "cell_type": "code",
   "execution_count": null,
   "id": "30289e49",
   "metadata": {},
   "outputs": [],
   "source": [
    "import pandas as pd\n",
    "\n"
   ]
  },
  {
   "cell_type": "code",
   "execution_count": null,
   "id": "adf49965",
   "metadata": {},
   "outputs": [],
   "source": [
    "pd.set_option('display.max_columns', None)"
   ]
  },
  {
   "cell_type": "code",
   "execution_count": null,
   "id": "87d97ac2",
   "metadata": {},
   "outputs": [],
   "source": [
    "import os\n",
    "import pandas as pd\n",
    "\n",
    "# Diretório base onde estão os diretórios com os arquivos CSV\n",
    "diretorio_base = \"./dados\"\n",
    "\n",
    "# Listas para armazenar os DataFrames de cada tipo de arquivo\n",
    "cadastro_dfs = []\n",
    "observacoes_dfs = []\n",
    "remuneracao_dfs = []\n",
    "\n",
    "# Percorra todos os diretórios dentro do diretório base\n",
    "for diretorio in os.listdir(diretorio_base):\n",
    "    diretorio_path = os.path.join(diretorio_base, diretorio)\n",
    "    \n",
    "    if os.path.isdir(diretorio_path):\n",
    "        \n",
    "        diretorio = '202307'\n",
    "        \n",
    "        # Verifique se os arquivos existem no diretório\n",
    "        cadastro_path = os.path.join(diretorio_path, f\"{diretorio}_Cadastro.csv\")\n",
    "        observacoes_path = os.path.join(diretorio_path, f\"{diretorio}_Observacoes.csv\")\n",
    "        remuneracao_path = os.path.join(diretorio_path, f\"{diretorio}_Remuneracao.csv\")\n",
    "        \n",
    "        print (diretorio)\n",
    "        \n",
    "        if os.path.exists(cadastro_path) and os.path.exists(observacoes_path) and os.path.exists(remuneracao_path):\n",
    "            # Carregue os arquivos CSV em DataFrames            \n",
    "            cadastro_df = pd.read_csv(cadastro_path, encoding='latin1', delimiter=';')\n",
    "            observacoes_df = pd.read_csv(observacoes_path, encoding='latin1', delimiter=';')\n",
    "            remuneracao_df = pd.read_csv(remuneracao_path, encoding='latin1', delimiter=';')\n",
    "            \n",
    "            # Adicione os DataFrames à lista\n",
    "            cadastro_dfs.append(cadastro_df)\n",
    "            observacoes_dfs.append(observacoes_df)\n",
    "            remuneracao_dfs.append(remuneracao_df)\n",
    "\n",
    "            break\n",
    "            \n",
    "# Concatene todos os DataFrames em um único DataFrame\n",
    "cadastro_final = pd.concat(cadastro_dfs)\n",
    "observacoes_final = pd.concat(observacoes_dfs)\n",
    "remuneracao_final = pd.concat(remuneracao_dfs)\n",
    "\n",
    "\n"
   ]
  },
  {
   "cell_type": "code",
   "execution_count": null,
   "id": "6acff62c",
   "metadata": {},
   "outputs": [],
   "source": [
    "cadastro_final.dtypes"
   ]
  },
  {
   "cell_type": "code",
   "execution_count": null,
   "id": "192317f9",
   "metadata": {},
   "outputs": [],
   "source": [
    "df_ministerio = cadastro_final[cadastro_final['ORG_LOTACAO'].str.contains('Ministério da Economia')]"
   ]
  },
  {
   "cell_type": "code",
   "execution_count": null,
   "id": "20a4a084",
   "metadata": {},
   "outputs": [],
   "source": [
    "df_ministerio[\"ORG_LOTACAO\"].value_counts().reset_index()"
   ]
  },
  {
   "cell_type": "code",
   "execution_count": null,
   "id": "828a5552",
   "metadata": {},
   "outputs": [],
   "source": []
  },
  {
   "cell_type": "code",
   "execution_count": null,
   "id": "e53b4a53",
   "metadata": {},
   "outputs": [],
   "source": [
    "df_rfb = cadastro_final[cadastro_final['UORG_LOTACAO'].str.contains('RFB')]"
   ]
  },
  {
   "cell_type": "code",
   "execution_count": null,
   "id": "9fb03c03",
   "metadata": {},
   "outputs": [],
   "source": [
    "df_cotec = df_ministerio[df_ministerio['UORG_EXERCICIO'].str.contains('COTEC')]"
   ]
  },
  {
   "cell_type": "code",
   "execution_count": null,
   "id": "9c4fb1d7",
   "metadata": {},
   "outputs": [],
   "source": [
    "df_cotec[\"UORG_EXERCICIO\"].value_counts().reset_index()"
   ]
  },
  {
   "cell_type": "code",
   "execution_count": null,
   "id": "1e214bca",
   "metadata": {},
   "outputs": [],
   "source": [
    "df_cotec[\"UORG_LOTACAO\"].value_counts().reset_index()"
   ]
  },
  {
   "cell_type": "code",
   "execution_count": null,
   "id": "b94c470d",
   "metadata": {},
   "outputs": [],
   "source": [
    "df_cotec"
   ]
  },
  {
   "cell_type": "code",
   "execution_count": null,
   "id": "b1b6a37e",
   "metadata": {},
   "outputs": [],
   "source": [
    "\n",
    "\n",
    "df_rfb_unidades_centrais = cadastro_final[cadastro_final['UORG_LOTACAO'].str.contains('UNIDADES CENTRAIS/RFB')]"
   ]
  },
  {
   "cell_type": "code",
   "execution_count": null,
   "id": "76bb4a14",
   "metadata": {},
   "outputs": [],
   "source": [
    "UORG_EXERCICIO"
   ]
  },
  {
   "cell_type": "code",
   "execution_count": null,
   "id": "f3f4b0e3",
   "metadata": {},
   "outputs": [],
   "source": [
    "df_rfb_unidades_centrais"
   ]
  },
  {
   "cell_type": "code",
   "execution_count": null,
   "id": "9a2ddd4c",
   "metadata": {},
   "outputs": [],
   "source": [
    "# Use o método 'value_counts' para contar a frequência dos valores únicos\n",
    "contagem_valores = df_rfb_unidades_centrais[\"UORG_EXERCICIO\"].value_counts().reset_index()\n",
    "\n",
    "# Renomeie as colunas no novo DataFrame\n",
    "contagem_valores.columns = [\"UORG_EXERCICIO\", \"Contagem\"]\n",
    "\n",
    "# O DataFrame 'contagem_valores' agora contém as contagens dos valores únicos\n"
   ]
  },
  {
   "cell_type": "code",
   "execution_count": null,
   "id": "6586eadb",
   "metadata": {},
   "outputs": [],
   "source": [
    "contagem_valores[contagem_valores['UORG_EXERCICIO'].str.contains('COTEC')]"
   ]
  },
  {
   "cell_type": "code",
   "execution_count": null,
   "id": "a4356183",
   "metadata": {},
   "outputs": [],
   "source": [
    "contagem_valores"
   ]
  }
 ],
 "metadata": {
  "kernelspec": {
   "display_name": "Python 3 (ipykernel)",
   "language": "python",
   "name": "python3"
  },
  "language_info": {
   "codemirror_mode": {
    "name": "ipython",
    "version": 3
   },
   "file_extension": ".py",
   "mimetype": "text/x-python",
   "name": "python",
   "nbconvert_exporter": "python",
   "pygments_lexer": "ipython3",
   "version": "3.10.12"
  }
 },
 "nbformat": 4,
 "nbformat_minor": 5
}

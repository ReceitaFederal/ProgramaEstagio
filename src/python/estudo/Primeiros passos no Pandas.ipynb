{
 "cells": [
  {
   "cell_type": "code",
   "execution_count": null,
   "id": "8fcc133f-e2f4-417f-8c67-3faa81c89e28",
   "metadata": {},
   "outputs": [],
   "source": [
    "import pandas as pd"
   ]
  },
  {
   "cell_type": "code",
   "execution_count": null,
   "id": "e6f1801f-c81c-4aa1-b96b-53347cc087c3",
   "metadata": {},
   "outputs": [],
   "source": [
    "caminho_arquivo = \"/home/carolcardoso/Downloads/202311_Cadastro.csv\"\n",
    "\n",
    "df_cadastro = pd.read_csv(caminho_arquivo, encoding=\"iso-8859-1\", sep=';')"
   ]
  },
  {
   "cell_type": "code",
   "execution_count": null,
   "id": "bda0bb9e-6a86-4fab-a00e-6b863ab0b9a1",
   "metadata": {},
   "outputs": [],
   "source": [
    "pd.set_option('display.max_rows', 10)\n",
    "pd.set_option('display.max_columns', None)"
   ]
  },
  {
   "cell_type": "code",
   "execution_count": null,
   "id": "5c2d1dc7-8f44-4ec7-bc88-909e76caf05c",
   "metadata": {},
   "outputs": [],
   "source": [
    "display(df_cadastro)"
   ]
  },
  {
   "cell_type": "code",
   "execution_count": null,
   "id": "a0e1330a-5780-4f0f-b3e4-a08ce6758d2e",
   "metadata": {},
   "outputs": [],
   "source": [
    "df_filtro = df_cadastro[df_cadastro[\"REGIME_JURIDICO\"].str.contains(\"estag\", case=False, na=False)]\n",
    "\n",
    "display(df_filtro)"
   ]
  },
  {
   "cell_type": "code",
   "execution_count": null,
   "id": "5580c97e-d306-4fce-9876-d05945655cfa",
   "metadata": {},
   "outputs": [],
   "source": [
    "df_filtro = df_cadastro[df_cadastro[\"NOME\"].str.contains(\"julia\", case=False, na=False) &\n",
    "            df_cadastro[\"UORG_EXERCICIO\"].str.contains(\"vcp\", case=False, na=False)]\n",
    "\n",
    "display(df_filtro)"
   ]
  },
  {
   "cell_type": "code",
   "execution_count": null,
   "id": "3d7d14b5-0258-4a8b-a064-f89e7690f083",
   "metadata": {},
   "outputs": [],
   "source": [
    "df_filtro = df_cadastro[df_cadastro[\"NOME\"].str.contains(\"FERNANDO AUGUSTO SAMPAIO BONAFE FERNANDES\", case=False, na=False)]\n",
    "\n",
    "display(df_filtro)"
   ]
  }
 ],
 "metadata": {
  "kernelspec": {
   "display_name": "Python 3 (ipykernel)",
   "language": "python",
   "name": "python3"
  },
  "language_info": {
   "codemirror_mode": {
    "name": "ipython",
    "version": 3
   },
   "file_extension": ".py",
   "mimetype": "text/x-python",
   "name": "python",
   "nbconvert_exporter": "python",
   "pygments_lexer": "ipython3",
   "version": "3.10.12"
  }
 },
 "nbformat": 4,
 "nbformat_minor": 5
}

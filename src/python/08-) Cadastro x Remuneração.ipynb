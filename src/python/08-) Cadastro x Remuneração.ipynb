{
 "cells": [
  {
   "cell_type": "code",
   "execution_count": null,
   "id": "e343b95c-6776-481b-83d7-d381ce02e95d",
   "metadata": {},
   "outputs": [],
   "source": [
    "import pandas as pd\n",
    "import plotly.express as px\n",
    "# import plotly.graph_objects as go\n",
    "# import matplotlib.pyplot as plt\n",
    "# from IPython.display import display, Markdown\n",
    "# import seaborn as sns"
   ]
  },
  {
   "cell_type": "markdown",
   "id": "85962738-23d9-409c-b6f5-eaded269adaa",
   "metadata": {},
   "source": [
    "# Quero ver todas as colunas para análise"
   ]
  },
  {
   "cell_type": "code",
   "execution_count": null,
   "id": "c9d463ac-1996-48bf-962b-3708d601337b",
   "metadata": {},
   "outputs": [],
   "source": [
    "pd.set_option('display.max_columns', None)\n",
    "pd.set_option('display.max_rows', None)"
   ]
  },
  {
   "cell_type": "markdown",
   "id": "a7766143-f259-44f4-81db-d5b6701a0d34",
   "metadata": {},
   "source": [
    "# Lendo o CSV Remuneração"
   ]
  },
  {
   "cell_type": "code",
   "execution_count": null,
   "id": "29c25526-f3f4-4291-bbb9-970535452706",
   "metadata": {},
   "outputs": [],
   "source": [
    "# Substitua 'seu_arquivo.csv' pelo caminho do seu arquivo CSV\n",
    "caminho_do_arquivo = '/home/carolcardoso/git/dados/dados_siape/202311_Remuneracao.csv'\n",
    "\n",
    "# Carregando o arquivo CSV em um DataFrame do Pandas\n",
    "df_remuneracao = pd.read_csv(caminho_do_arquivo, encoding='iso-8859-1', sep=';')"
   ]
  },
  {
   "cell_type": "markdown",
   "id": "47bff536-3581-4d55-ad1e-d0b783b95224",
   "metadata": {},
   "source": [
    "# INFO() para ver as colunas do df_remuneracao"
   ]
  },
  {
   "cell_type": "code",
   "execution_count": null,
   "id": "aee25eb1-ffe2-4c61-a42f-690371d65ede",
   "metadata": {},
   "outputs": [],
   "source": [
    "df_remuneracao[\"OUTRAS REMUNERAÇÕES EVENTUAIS (R$)\"] = df_remuneracao[\"OUTRAS REMUNERAÇÕES EVENTUAIS (R$)\"].str.replace(',','.').astype(float)\n",
    "df_remuneracao.info()"
   ]
  },
  {
   "cell_type": "markdown",
   "id": "c8b82f0c-1a82-446a-8ada-b6c0580d5cda",
   "metadata": {},
   "source": [
    "# Display df_remuneracao - Sample"
   ]
  },
  {
   "cell_type": "code",
   "execution_count": null,
   "id": "1661661b-8c55-4433-a121-8796f424e86a",
   "metadata": {},
   "outputs": [],
   "source": [
    "display(df_remuneracao.sample(5))"
   ]
  },
  {
   "cell_type": "markdown",
   "id": "89050302-6ccb-48cd-98c1-915bf3b5a729",
   "metadata": {},
   "source": [
    "# Lendo o CSV Cadastro"
   ]
  },
  {
   "cell_type": "code",
   "execution_count": null,
   "id": "a8b2a7e9-1e25-4f97-83e1-958e18c14711",
   "metadata": {},
   "outputs": [],
   "source": [
    "# Substitua 'seu_arquivo.csv' pelo caminho do seu arquivo CSV\n",
    "caminho_do_arquivo = '/home/carolcardoso/git/dados/dados_siape/202311_Cadastro.csv'\n",
    "\n",
    "# Carregando o arquivo CSV em um DataFrame do Pandas\n",
    "df_cadastro = pd.read_csv(caminho_do_arquivo, encoding='iso-8859-1', sep=';')"
   ]
  },
  {
   "cell_type": "markdown",
   "id": "d803837e-8299-4826-8309-081f1b5ee819",
   "metadata": {},
   "source": [
    "# INFO() para ver as colunas do df_cadastro"
   ]
  },
  {
   "cell_type": "code",
   "execution_count": null,
   "id": "ae5d8b8d-9aff-40cd-9c98-eaad024dc5b0",
   "metadata": {},
   "outputs": [],
   "source": [
    "display(df_cadastro.info())"
   ]
  },
  {
   "cell_type": "markdown",
   "id": "dfecbf11-d5a9-49af-ae1c-7755d5236c74",
   "metadata": {},
   "source": [
    "# Display df_cadastro - Sample"
   ]
  },
  {
   "cell_type": "code",
   "execution_count": null,
   "id": "e3133988-47b5-4eb9-8813-d54ba3770612",
   "metadata": {},
   "outputs": [],
   "source": [
    "display(df_cadastro.sample(5))"
   ]
  },
  {
   "cell_type": "markdown",
   "id": "885e5785-93de-41cd-abb7-456431f36962",
   "metadata": {},
   "source": [
    "# Confirmando a quantidade de estagiários no df_cadastro - INFO()"
   ]
  },
  {
   "cell_type": "code",
   "execution_count": null,
   "id": "00d2dc2f-3d2a-4b9f-9cb9-d4111321eb15",
   "metadata": {},
   "outputs": [],
   "source": [
    "df_estagio = df_cadastro[df_cadastro[\"REGIME_JURIDICO\"].str.contains(\"estag\", na=False, case=False)]\n",
    "\n",
    "df_estagio.info()"
   ]
  },
  {
   "cell_type": "markdown",
   "id": "f6bd95f9-8b3d-478d-a39f-fe7f3b35fe18",
   "metadata": {},
   "source": [
    "# Display e INFO () do Id_SERVIDOR_PORTAL, NOME, CPF e OUTRAS REMUNERAÇÕES EVENTUAIS (R$)"
   ]
  },
  {
   "cell_type": "code",
   "execution_count": null,
   "id": "bf646820-2009-494f-a810-f48f3f968302",
   "metadata": {},
   "outputs": [],
   "source": [
    "# Selecione as linhas do primeiro DataFrame\n",
    "# df_filtro_remuneracao = df_remuneracao[(df_remuneracao[\"OUTRAS REMUNERAÇÕES EVENTUAIS (R$)\"] <= )]\n",
    "\n",
    "# Vamos filtrar os estagiários do df_cadastro\n",
    "df_filtro_cadastro = df_cadastro[df_cadastro[\"REGIME_JURIDICO\"].str.contains(\"estag\", na=False, case=False)]\n",
    "\n",
    "# Combine os DataFrames usando merge ou concat, dependendo de como você deseja combinar. No 'on' você coloca as colunas em comum nos 2 CSV's\n",
    "df_cadastro_remuneracao = pd.merge(df_filtro_cadastro, df_remuneracao, on=[\"Id_SERVIDOR_PORTAL\", \"NOME\", \"CPF\"], how=\"left\")\n",
    "\n",
    "# Colunas que quero dar display\n",
    "colunas_desejadas = [\"Id_SERVIDOR_PORTAL\", \"NOME\", \"CPF\", \"OUTRAS REMUNERAÇÕES EVENTUAIS (R$)\"]\n",
    "\n",
    "# Como mostramos apenas as colunas desejadas\n",
    "df_consolidado = df_cadastro_remuneracao[colunas_desejadas]\n",
    "\n",
    "display(df_consolidado.info())\n",
    "\n",
    "display(df_consolidado.head(5))"
   ]
  },
  {
   "cell_type": "markdown",
   "id": "5bd5df9b-5e6a-43c6-a507-eb942234ec6f",
   "metadata": {},
   "source": [
    "# Agora agrupamos para saber quantos estagiários ganham cada salário (agrupamento por valor)"
   ]
  },
  {
   "cell_type": "code",
   "execution_count": null,
   "id": "8d97983c-eb3e-443a-bf8a-472c36e1a1a4",
   "metadata": {},
   "outputs": [],
   "source": [
    "# Selecione as linhas do primeiro DataFrame\n",
    "# df_filtro_remuneracao = df_remuneracao[(df_remuneracao[\"OUTRAS REMUNERAÇÕES EVENTUAIS (R$)\"] <= )]\n",
    "\n",
    "# Vamos filtrar os estagiários do df_cadastro\n",
    "df_filtro_cadastro = df_cadastro[df_cadastro[\"REGIME_JURIDICO\"].str.contains(\"estag\", na=False, case=False)]\n",
    "\n",
    "# Combine os DataFrames usando merge ou concat, dependendo de como você deseja combinar. No 'on' você coloca as colunas em comum nos 2 CSV's\n",
    "df_cadastro_remuneracao = pd.merge(df_filtro_cadastro, df_remuneracao, on=[\"Id_SERVIDOR_PORTAL\", \"NOME\", \"CPF\"], how=\"left\")\n",
    "\n",
    "# Colunas que quero dar display\n",
    "colunas_desejadas = [\"Id_SERVIDOR_PORTAL\", \"NOME\", \"CPF\", \"OUTRAS REMUNERAÇÕES EVENTUAIS (R$)\"]\n",
    "\n",
    "# Como mostramos apenas as colunas desejadas\n",
    "df_consolidado = df_cadastro_remuneracao[colunas_desejadas]\n",
    "\n",
    "display(df_consolidado.info())\n",
    "\n",
    "display(df_consolidado.head(5))\n",
    "\n",
    "# Agora agrupamos para saber quantos estagiários ganham cada salário (agrupamento por valor)\n",
    "df_agrupado_salario = df_cadastro_remuneracao.groupby(\"OUTRAS REMUNERAÇÕES EVENTUAIS (R$)\").size().reset_index(name=\"Contagem\")\n",
    "\n",
    "display(df_agrupado_salario.info())\n",
    "\n",
    "display(df_agrupado_salario.sample(5))"
   ]
  },
  {
   "cell_type": "markdown",
   "id": "2b302b68-1524-4591-a1c3-238c29e7e3a8",
   "metadata": {},
   "source": [
    "# Agora vamos incluir o ORG_EXERCICIO para saber quanto os estagiários ganham em cada órgão"
   ]
  },
  {
   "cell_type": "markdown",
   "id": "51a96b13-042a-4ead-807c-81a14d47d6f1",
   "metadata": {},
   "source": [
    "# Criando função merge_remuneracao_cadastro"
   ]
  },
  {
   "cell_type": "code",
   "execution_count": null,
   "id": "6a6a0e3e-576a-44c0-98d5-f61dae9a8848",
   "metadata": {},
   "outputs": [],
   "source": [
    "def merge_remuneracao_cadastro (df_consolidado):\n",
    "\n",
    "    # Selecione as linhas do primeiro DataFrame\n",
    "    # df_filtro_remuneracao = df_remuneracao[(df_remuneracao[\"OUTRAS REMUNERAÇÕES EVENTUAIS (R$)\"] <= )]\n",
    "    \n",
    "    # Vamos filtrar os estagiários do df_cadastro\n",
    "    df_filtro_cadastro = df_cadastro[df_cadastro[\"REGIME_JURIDICO\"].str.contains(\"estag\", na=False, case=False)]\n",
    "    \n",
    "    # Combine os DataFrames usando merge ou concat, dependendo de como você deseja combinar. No 'on' você coloca as colunas em comum nos 2 CSV's\n",
    "    df_cadastro_remuneracao = pd.merge(df_filtro_cadastro, df_remuneracao, on=[\"Id_SERVIDOR_PORTAL\", \"NOME\", \"CPF\"], how=\"left\")\n",
    "    \n",
    "    # Colunas que quero dar display\n",
    "    colunas_desejadas = [\"Id_SERVIDOR_PORTAL\", \"NOME\", \"CPF\", \"OUTRAS REMUNERAÇÕES EVENTUAIS (R$)\", \"ORG_EXERCICIO\"]\n",
    "    \n",
    "    # Como mostramos apenas as colunas desejadas\n",
    "    df_consolidado = df_cadastro_remuneracao[colunas_desejadas]"
   ]
  },
  {
   "cell_type": "code",
   "execution_count": null,
   "id": "c75b2d3c-f191-47fe-8497-c4a923e94739",
   "metadata": {},
   "outputs": [],
   "source": [
    "merge_remuneracao_cadastro(df_consolidado)\n",
    "\n",
    "display(\"Quant. de estagiários\")\n",
    "\n",
    "display(df_consolidado.info())\n",
    "\n",
    "display(df_consolidado.head(5))\n",
    "\n",
    "# Agora agrupamos para saber quantos estagiários ganham cada salário (agrupamento por valor)\n",
    "# Podemos agrupar tudo por valores, para saber a quant. total de cada salário nos órgãos\n",
    "df_agrupado_salario = df_cadastro_remuneracao.groupby([\"OUTRAS REMUNERAÇÕES EVENTUAIS (R$)\", \"ORG_EXERCICIO\"]).size().reset_index(name=\"Contagem\")\n",
    "\n",
    "display(\"Contagem de salários = Quant. de estagiários ganhando cada valor nos órgãos\")\n",
    "\n",
    "display(df_agrupado_salario.info())\n",
    "\n",
    "display(df_agrupado_salario.sample(10))\n",
    "\n",
    "# Ooooou, podemos agrupar tudo por órgãos, para saber a quant. de todos os salários presentes em cada órgão\n",
    "# Para essa diferença, basta inverter a ordem das colunas na função groupby\n",
    "df_agrupado_salario = df_cadastro_remuneracao.groupby([\"ORG_EXERCICIO\", \"OUTRAS REMUNERAÇÕES EVENTUAIS (R$)\"]).size().reset_index(name=\"Contagem\")\n",
    "\n",
    "display(df_agrupado_salario.info())\n",
    "\n",
    "display(df_agrupado_salario.tail(10))"
   ]
  },
  {
   "cell_type": "markdown",
   "id": "a5d55086-df95-4cde-b16b-49d6b76538b7",
   "metadata": {},
   "source": [
    "# Chamando a função merge_remuneracao_cadastro com novos filtros"
   ]
  },
  {
   "cell_type": "code",
   "execution_count": null,
   "id": "c1dd9d6c-1150-4ddb-b91f-ba16a869682c",
   "metadata": {},
   "outputs": [],
   "source": [
    "merge_remuneracao_cadastro(df_consolidado)\n",
    "\n",
    "# Criando um gráfico com valores, órgãos\n",
    "# Gráfico interativo de linha usando o Plotly Express\n",
    "fig = px.line(df_agrupado_salario, x='OUTRAS REMUNERAÇÕES EVENTUAIS (R$)', y='Contagem', color='ORG_EXERCICIO', labels={'ano_mes': 'Mês e ano', 'Contagem': 'Quantidade total'},\n",
    "              markers=True, line_shape='linear',\n",
    "              title='Contagem de servidores nos 5 órgãos escolhidos ao longo dos meses e anos')\n",
    "\n",
    "# Ajustar configuração do eixo X para mostrar todos os anos\n",
    "fig.update_layout(xaxis=dict(tickmode='linear', dtick=1))\n",
    "\n",
    "# Configurar a legenda do eixo X na vertical\n",
    "fig.update_xaxes(tickangle=90, tickmode='array', tickvals=df_agrupado_salario['OUTRAS REMUNERAÇÕES EVENTUAIS (R$)'].tolist(), ticktext=df_agrupado_salario['OUTRAS REMUNERAÇÕES EVENTUAIS (R$)'].tolist())\n",
    "\n",
    "# Exibir gráfico\n",
    "fig.show()"
   ]
  },
  {
   "cell_type": "code",
   "execution_count": null,
   "id": "3efe7b19-091a-48ac-b0d9-f158d3e888e0",
   "metadata": {},
   "outputs": [],
   "source": [
    "df_contagem.sort_values(\"OUTRAS REMUNERAÇÕES EVENTUAIS (R$)\", ascending=False).head(10)"
   ]
  },
  {
   "cell_type": "code",
   "execution_count": null,
   "id": "6e72da12-3b67-42d0-aac0-cf92f5c7c84b",
   "metadata": {},
   "outputs": [],
   "source": [
    "df_filtro_cadastro_remuneracao[df_filtro_cadastro_remuneracao[\"OUTRAS REMUNERAÇÕES EVENTUAIS (R$)\"] == 5542.76]"
   ]
  }
 ],
 "metadata": {
  "kernelspec": {
   "display_name": "Python 3 (ipykernel)",
   "language": "python",
   "name": "python3"
  },
  "language_info": {
   "codemirror_mode": {
    "name": "ipython",
    "version": 3
   },
   "file_extension": ".py",
   "mimetype": "text/x-python",
   "name": "python",
   "nbconvert_exporter": "python",
   "pygments_lexer": "ipython3",
   "version": "3.10.12"
  }
 },
 "nbformat": 4,
 "nbformat_minor": 5
}

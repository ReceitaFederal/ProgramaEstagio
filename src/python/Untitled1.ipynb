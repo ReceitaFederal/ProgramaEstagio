{
 "cells": [
  {
   "cell_type": "markdown",
   "id": "0c54b5bd-74c9-4055-ba41-e32c5ebaf68f",
   "metadata": {},
   "source": [
    "# título1\n",
    "## título 2\n",
    "\n",
    "* teste\n",
    "* lista\n",
    "* outro item"
   ]
  },
  {
   "cell_type": "code",
   "execution_count": 25,
   "id": "315f9494-8d2d-4db6-a3ac-ddc7951e5236",
   "metadata": {},
   "outputs": [],
   "source": [
    "texto = \"Aprendendo python\""
   ]
  },
  {
   "cell_type": "code",
   "execution_count": 2,
   "id": "58810b41-c894-48c1-8832-95b1377c2ac4",
   "metadata": {},
   "outputs": [
    {
     "name": "stdout",
     "output_type": "stream",
     "text": [
      "2\n"
     ]
    }
   ],
   "source": [
    "a = 2\n",
    "\n",
    "print (a)"
   ]
  },
  {
   "cell_type": "code",
   "execution_count": 4,
   "id": "bc35144a-15ea-489d-8752-ba40108a9b66",
   "metadata": {},
   "outputs": [
    {
     "name": "stdout",
     "output_type": "stream",
     "text": [
      "'E' é maior que 'A'\n"
     ]
    }
   ],
   "source": [
    "a = 6\n",
    "e = 9\n",
    "\n",
    "if a < e:\n",
    "    print (\"'E' é maior que 'A'\")"
   ]
  },
  {
   "cell_type": "code",
   "execution_count": 21,
   "id": "c355bcb7-bab2-4b83-b595-7a22c5d42a83",
   "metadata": {},
   "outputs": [
    {
     "name": "stdout",
     "output_type": "stream",
     "text": [
      "Mouse está em maior quantidade!Número de mouse: 12 ,Número de teclado: 2\n"
     ]
    }
   ],
   "source": [
    "teclado = 2\n",
    "mouse = 12\n",
    "\n",
    "if mouse > teclado:\n",
    "    print (\"Mouse está em maior quantidade!\" \"Número de mouse:\",mouse , \",\" \"Número de teclado:\",teclado)\n",
    "elif teclado == mouse:\n",
    "    print (\"O número de mouse e teclado é equivalente\")\n",
    "else:\n",
    "    print (\"Teclado está em maior quantidade!\",teclado)"
   ]
  },
  {
   "cell_type": "code",
   "execution_count": 22,
   "id": "efe56bff-7543-4184-961b-1f38f7794364",
   "metadata": {},
   "outputs": [
    {
     "name": "stdout",
     "output_type": "stream",
     "text": [
      "Teclado está em maior quantidade! Número de mouse: 12 ,Número de teclado: 32\n"
     ]
    }
   ],
   "source": [
    "teclado = 32\n",
    "mouse = 12\n",
    "\n",
    "if mouse > teclado:\n",
    "    print (\"Mouse está em maior quantidade!\",mouse)\n",
    "elif teclado == mouse:\n",
    "    print (\"O número de mouse e teclado é equivalente\")\n",
    "else:\n",
    "    print (\"Teclado está em maior quantidade!\",\"Número de mouse:\",mouse , \",\" \"Número de teclado:\",teclado)"
   ]
  },
  {
   "cell_type": "code",
   "execution_count": 23,
   "id": "bc7322e6-ae4b-4841-8413-1fa845e933ff",
   "metadata": {},
   "outputs": [
    {
     "name": "stdout",
     "output_type": "stream",
     "text": [
      "O número de mouses e teclados são equivalentes: 90\n"
     ]
    }
   ],
   "source": [
    "teclado = 90\n",
    "mouse = 90\n",
    "\n",
    "if mouse > teclado:\n",
    "    print (\"Mouse está em maior quantidade!\",mouse)\n",
    "elif teclado == mouse:\n",
    "    print (\"O número de mouses e teclados são equivalentes:\",mouse)\n",
    "else:\n",
    "    print (\"Teclado está em maior quantidade!\",\"Número de mouse:\",mouse , \",\" \"Número de teclado:\",teclado)"
   ]
  },
  {
   "cell_type": "code",
   "execution_count": 42,
   "id": "369de8f0-8e80-4797-b95b-e201a3bc93d4",
   "metadata": {},
   "outputs": [
    {
     "name": "stdout",
     "output_type": "stream",
     "text": [
      "Bom dia!!!\n"
     ]
    }
   ],
   "source": [
    "def my_function():\n",
    "    print(\"Bom dia!!!\")\n",
    "    \n",
    "my_function()"
   ]
  },
  {
   "cell_type": "code",
   "execution_count": 41,
   "id": "d55a66a1-7787-4b39-b39f-aaae8b191110",
   "metadata": {},
   "outputs": [
    {
     "name": "stdout",
     "output_type": "stream",
     "text": [
      "Isso é muito legal, adorei\n"
     ]
    }
   ],
   "source": [
    "def my_function():\n",
    "    print(\"Isso é muito legal, adorei\")\n",
    "\n",
    "my_function()"
   ]
  },
  {
   "cell_type": "code",
   "execution_count": 46,
   "id": "c48116dc-e758-4292-b4cc-b3e12a298b05",
   "metadata": {},
   "outputs": [
    {
     "name": "stdout",
     "output_type": "stream",
     "text": [
      "mariasilva@gmail.com\n"
     ]
    }
   ],
   "source": [
    "def my_function(email):\n",
    "    print(\"mariasilva\" + email)\n",
    "\n",
    "my_function(\"@gmail.com\")"
   ]
  },
  {
   "cell_type": "code",
   "execution_count": 49,
   "id": "12f098eb-f188-4341-9a4f-c986771cef0e",
   "metadata": {},
   "outputs": [
    {
     "name": "stdout",
     "output_type": "stream",
     "text": [
      "andreiasouzasilva123@gmail.com\n",
      "andreiasouzasilva123@hotmal.com.br\n",
      "andreiasouzasilva123@outlook.com.br\n"
     ]
    }
   ],
   "source": [
    "def my_function(email):\n",
    "    print(\"andreiasouzasilva123\" + email)\n",
    "\n",
    "my_function(\"@gmail.com\")\n",
    "my_function(\"@hotmal.com.br\")\n",
    "my_function(\"@outlook.com.br\")"
   ]
  },
  {
   "cell_type": "code",
   "execution_count": 51,
   "id": "80d64540-d794-486b-9b6a-cd0f24db2280",
   "metadata": {},
   "outputs": [
    {
     "name": "stdout",
     "output_type": "stream",
     "text": [
      "Eu quero visitar: Bahia\n",
      "Eu quero visitar: Santa Catarina\n",
      "Eu quero visitar: Canadá\n",
      "Eu quero visitar: Estados Unidos\n",
      "Eu quero visitar: França\n",
      "Eu quero visitar: Grécia\n"
     ]
    }
   ],
   "source": [
    "def my_function(lugar):\n",
    "    print(\"Eu quero visitar: \" + lugar)\n",
    "\n",
    "my_function(\"Bahia\")\n",
    "my_function(\"Santa Catarina\")\n",
    "my_function(\"Canadá\")\n",
    "my_function(\"Estados Unidos\")\n",
    "my_function(\"França\")\n",
    "my_function(\"Grécia\")"
   ]
  },
  {
   "cell_type": "code",
   "execution_count": 53,
   "id": "e8507de0-6d50-4a52-964e-8f872d11030c",
   "metadata": {},
   "outputs": [
    {
     "name": "stdout",
     "output_type": "stream",
     "text": [
      "4\n",
      "8\n",
      "12\n",
      "20\n"
     ]
    }
   ],
   "source": [
    "def my_function(x):\n",
    "    return 2 * x\n",
    "\n",
    "print(my_function(2))\n",
    "print(my_function(4))\n",
    "print(my_function(6))\n",
    "print(my_function(10))"
   ]
  }
 ],
 "metadata": {
  "kernelspec": {
   "display_name": "Python 3 (ipykernel)",
   "language": "python",
   "name": "python3"
  },
  "language_info": {
   "codemirror_mode": {
    "name": "ipython",
    "version": 3
   },
   "file_extension": ".py",
   "mimetype": "text/x-python",
   "name": "python",
   "nbconvert_exporter": "python",
   "pygments_lexer": "ipython3",
   "version": "3.10.12"
  }
 },
 "nbformat": 4,
 "nbformat_minor": 5
}

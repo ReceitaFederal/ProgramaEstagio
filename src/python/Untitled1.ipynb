{
 "cells": [
  {
   "cell_type": "code",
   "execution_count": null,
   "id": "96099bd4-63f0-426a-8f1f-329dad5707c6",
   "metadata": {},
   "outputs": [],
   "source": [
    "import pandas as pd"
   ]
  },
  {
   "cell_type": "code",
   "execution_count": null,
   "id": "45b7d7c2-5b3e-441a-b89d-6708af852032",
   "metadata": {},
   "outputs": [],
   "source": [
    "# Especifique o caminho para o seu arquivo CSV\n",
    "caminho_arquivo = '../../dados/dados_siape_bruto/descompactado/202311_Servidores_SIAPE/202311_Cadastro.csv'\n",
    "df = pd.read_csv(caminho_arquivo, encoding='iso-8859-1', sep=';')\n"
   ]
  },
  {
   "cell_type": "code",
   "execution_count": null,
   "id": "72ca26b1-4b78-43fa-8a3a-c28153eeead3",
   "metadata": {},
   "outputs": [],
   "source": [
    "df.groupby([\"Id_SERVIDOR_PORTAL\", \"NOME\", \"CPF\", \"DESCRICAO_CARGO\", \"UORG_LOTACAO\", \"ORG_EXERCICIO\", \"UORG_EXERCICIO\", \"REGIME_JURIDICO\"]).size().reset_index()"
   ]
  },
  {
   "cell_type": "code",
   "execution_count": null,
   "id": "1042af29-ae8a-4dde-a219-0700c634aace",
   "metadata": {},
   "outputs": [],
   "source": [
    "df2 = df[(df['SIGLA_FUNCAO'] == '-1') & (df['UORG_EXERCICIO'].str.contains(\"rfb\", case=False))]\n",
    "df2.groupby([\"Id_SERVIDOR_PORTAL\"]).size().reset_index(name=\"Contagem\").sort_values(\"Contagem\", ascending=False)"
   ]
  },
  {
   "cell_type": "code",
   "execution_count": null,
   "id": "1b6709d9-2baf-4111-b559-1c8ce7abbb81",
   "metadata": {},
   "outputs": [],
   "source": [
    "df[(df['SIGLA_FUNCAO'] == '-1')]['Id_SERVIDOR_PORTAL'].count()"
   ]
  },
  {
   "cell_type": "code",
   "execution_count": null,
   "id": "58b51f2d-af4b-4bf8-a62e-e78febcaf75b",
   "metadata": {},
   "outputs": [],
   "source": [
    "df[df['Id_SERVIDOR_PORTAL'] == 312641650]"
   ]
  },
  {
   "cell_type": "code",
   "execution_count": null,
   "id": "8fb51244-c63b-4113-8882-c27f3852c599",
   "metadata": {},
   "outputs": [],
   "source": [
    "df['Id_SERVIDOR_PORTAL'].count()"
   ]
  },
  {
   "cell_type": "code",
   "execution_count": null,
   "id": "88d8d731-f932-46cd-a4b8-511e4b8f2ac6",
   "metadata": {},
   "outputs": [],
   "source": [
    "df[df['NOME'].str.contains(\"rizzo\", case=False) & df['NOME'].str.contains(\"flavia\", case=False)]"
   ]
  },
  {
   "cell_type": "code",
   "execution_count": null,
   "id": "9ec7b7ec-21a1-4f56-a6d4-87272929a988",
   "metadata": {},
   "outputs": [],
   "source": [
    "pd.set_option('display.max_columns', None)\n",
    "pd.set_option('display.max_rows', None)"
   ]
  },
  {
   "cell_type": "code",
   "execution_count": null,
   "id": "006212e8-1282-4360-a87a-53a823836e75",
   "metadata": {},
   "outputs": [],
   "source": [
    "df.info()"
   ]
  },
  {
   "cell_type": "code",
   "execution_count": null,
   "id": "7063b689-34bb-4f14-a2c3-7b98cac5d145",
   "metadata": {},
   "outputs": [],
   "source": [
    "df[df['NOME'].str.contains('bonafe', na=False, case=False)]"
   ]
  },
  {
   "cell_type": "code",
   "execution_count": null,
   "id": "b1b1e19a-a074-49d1-8dfd-97355d0c8794",
   "metadata": {},
   "outputs": [],
   "source": [
    "df[df['REGIME_JURIDICO'].str.contains('estagio', na=False, case=False)]"
   ]
  },
  {
   "cell_type": "code",
   "execution_count": null,
   "id": "34f9a98e-3dc4-4eaa-8ce0-4662cc9dad95",
   "metadata": {},
   "outputs": [],
   "source": [
    "# Especifique o caminho para o seu arquivo CSV\n",
    "caminho_arquivo = '../../dados/dados_siape_bruto/descompactado/202310_Servidores_SIAPE/202310_Cadastro.csv'\n",
    "df_2023 = pd.read_csv(caminho_arquivo, encoding='iso-8859-1', sep=';')"
   ]
  },
  {
   "cell_type": "code",
   "execution_count": null,
   "id": "4e10583f-ecd4-4612-a4b4-7a18649f3a16",
   "metadata": {},
   "outputs": [],
   "source": [
    "df_2023[(df_2023['NOME'].str.contains('julia germano', na=False, case=False) & \n",
    "    df_2023['REGIME_JURIDICO'].str.contains('estagio', na=False, case=False)) |\n",
    "    df_2023['NOME'].str.contains('fernando augusto sampaio', na=False, case=False)]"
   ]
  },
  {
   "cell_type": "code",
   "execution_count": null,
   "id": "e16e4901-53ca-42f8-b76a-711623411a4c",
   "metadata": {},
   "outputs": [],
   "source": [
    "df_2023['REGIME_JURIDICO'].str.contains('estagio', na=False, case=False)"
   ]
  },
  {
   "cell_type": "code",
   "execution_count": null,
   "id": "58a39aab-b8a5-4ec7-ac9b-9c46e8703e5c",
   "metadata": {},
   "outputs": [],
   "source": [
    "df_2023['REGIME_JURIDICO'].unique()"
   ]
  }
 ],
 "metadata": {
  "kernelspec": {
   "display_name": "Python 3 (ipykernel)",
   "language": "python",
   "name": "python3"
  },
  "language_info": {
   "codemirror_mode": {
    "name": "ipython",
    "version": 3
   },
   "file_extension": ".py",
   "mimetype": "text/x-python",
   "name": "python",
   "nbconvert_exporter": "python",
   "pygments_lexer": "ipython3",
   "version": "3.10.12"
  }
 },
 "nbformat": 4,
 "nbformat_minor": 5
}

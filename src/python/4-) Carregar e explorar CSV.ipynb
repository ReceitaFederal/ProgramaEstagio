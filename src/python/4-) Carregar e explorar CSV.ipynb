{
 "cells": [
  {
   "cell_type": "code",
   "execution_count": 1,
   "id": "ce4c3b49-bbef-4a0a-bc30-c5c2a4999438",
   "metadata": {},
   "outputs": [],
   "source": [
    "import pandas as pd"
   ]
  },
  {
   "cell_type": "code",
   "execution_count": null,
   "id": "1cc3fec2-3b39-408c-a013-4a037e784ac7",
   "metadata": {},
   "outputs": [],
   "source": [
    "df = pd.read_csv(\"../../dados/cadastro_siape_consolidado_completo.csv\")"
   ]
  },
  {
   "cell_type": "code",
   "execution_count": null,
   "id": "a41e7ee7-7899-4028-b345-b5cc2e2a4601",
   "metadata": {},
   "outputs": [],
   "source": [
    "df_consolidado_estagio_ano = df[df[\"REGIME_JURIDICO\"].str.contains(\"ESTAG\")].value_counts(\"ano\")"
   ]
  }
 ],
 "metadata": {
  "kernelspec": {
   "display_name": "Python 3 (ipykernel)",
   "language": "python",
   "name": "python3"
  },
  "language_info": {
   "codemirror_mode": {
    "name": "ipython",
    "version": 3
   },
   "file_extension": ".py",
   "mimetype": "text/x-python",
   "name": "python",
   "nbconvert_exporter": "python",
   "pygments_lexer": "ipython3",
   "version": "3.10.12"
  }
 },
 "nbformat": 4,
 "nbformat_minor": 5
}

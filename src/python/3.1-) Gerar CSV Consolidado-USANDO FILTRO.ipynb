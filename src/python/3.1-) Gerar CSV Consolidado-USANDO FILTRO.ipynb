{
 "cells": [
  {
   "cell_type": "code",
   "execution_count": 1,
   "id": "4fcf5d5b-0297-4b0c-b9f6-74df8fec13fe",
   "metadata": {},
   "outputs": [],
   "source": [
    "from consolidador_data_frame_COM_FILTRO import ConsolidadorDataFrame"
   ]
  },
  {
   "cell_type": "code",
   "execution_count": 2,
   "id": "18acc896-d9b6-4443-a2c4-0b1c007d5af1",
   "metadata": {},
   "outputs": [],
   "source": [
    "consolidador = ConsolidadorDataFrame()"
   ]
  },
  {
   "cell_type": "code",
   "execution_count": 3,
   "id": "92c3b62c-bfd9-4152-8dea-2b75fe28d07d",
   "metadata": {},
   "outputs": [
    {
     "data": {
      "text/plain": [
       "'Processando arquivo: ../../dados/dados_siape_bruto/descompactado/202101_Servidores_SIAPE/202101_Cadastro.csv'"
      ]
     },
     "metadata": {},
     "output_type": "display_data"
    },
    {
     "name": "stderr",
     "output_type": "stream",
     "text": [
      "/home/anaclara/git/ProgramaEstagio/src/python/consolidador_data_frame_COM_FILTRO.py:30: DtypeWarning: Columns (2,5,6,7,9,34,36,37,38,42) have mixed types. Specify dtype option on import or set low_memory=False.\n",
      "  df = pd.read_csv(caminho_arquivo_csv, encoding=codificacao, sep=separador)\n",
      "/home/anaclara/git/ProgramaEstagio/src/python/consolidador_data_frame_COM_FILTRO.py:34: SettingWithCopyWarning: \n",
      "A value is trying to be set on a copy of a slice from a DataFrame.\n",
      "Try using .loc[row_indexer,col_indexer] = value instead\n",
      "\n",
      "See the caveats in the documentation: https://pandas.pydata.org/pandas-docs/stable/user_guide/indexing.html#returning-a-view-versus-a-copy\n",
      "  df_filtrado['ano'] = ano\n",
      "/home/anaclara/git/ProgramaEstagio/src/python/consolidador_data_frame_COM_FILTRO.py:35: SettingWithCopyWarning: \n",
      "A value is trying to be set on a copy of a slice from a DataFrame.\n",
      "Try using .loc[row_indexer,col_indexer] = value instead\n",
      "\n",
      "See the caveats in the documentation: https://pandas.pydata.org/pandas-docs/stable/user_guide/indexing.html#returning-a-view-versus-a-copy\n",
      "  df_filtrado['mes'] = mes\n"
     ]
    },
    {
     "data": {
      "text/plain": [
       "'Processando arquivo: ../../dados/dados_siape_bruto/descompactado/202102_Servidores_SIAPE/202102_Cadastro.csv'"
      ]
     },
     "metadata": {},
     "output_type": "display_data"
    },
    {
     "name": "stderr",
     "output_type": "stream",
     "text": [
      "/home/anaclara/git/ProgramaEstagio/src/python/consolidador_data_frame_COM_FILTRO.py:30: DtypeWarning: Columns (2,5,6,7,9,34,36,37,38,42) have mixed types. Specify dtype option on import or set low_memory=False.\n",
      "  df = pd.read_csv(caminho_arquivo_csv, encoding=codificacao, sep=separador)\n",
      "/home/anaclara/git/ProgramaEstagio/src/python/consolidador_data_frame_COM_FILTRO.py:34: SettingWithCopyWarning: \n",
      "A value is trying to be set on a copy of a slice from a DataFrame.\n",
      "Try using .loc[row_indexer,col_indexer] = value instead\n",
      "\n",
      "See the caveats in the documentation: https://pandas.pydata.org/pandas-docs/stable/user_guide/indexing.html#returning-a-view-versus-a-copy\n",
      "  df_filtrado['ano'] = ano\n",
      "/home/anaclara/git/ProgramaEstagio/src/python/consolidador_data_frame_COM_FILTRO.py:35: SettingWithCopyWarning: \n",
      "A value is trying to be set on a copy of a slice from a DataFrame.\n",
      "Try using .loc[row_indexer,col_indexer] = value instead\n",
      "\n",
      "See the caveats in the documentation: https://pandas.pydata.org/pandas-docs/stable/user_guide/indexing.html#returning-a-view-versus-a-copy\n",
      "  df_filtrado['mes'] = mes\n"
     ]
    },
    {
     "data": {
      "text/plain": [
       "'Processando arquivo: ../../dados/dados_siape_bruto/descompactado/202103_Servidores_SIAPE/202103_Cadastro.csv'"
      ]
     },
     "metadata": {},
     "output_type": "display_data"
    },
    {
     "name": "stderr",
     "output_type": "stream",
     "text": [
      "/home/anaclara/git/ProgramaEstagio/src/python/consolidador_data_frame_COM_FILTRO.py:30: DtypeWarning: Columns (2,5,7,9,34,36,37,38,42) have mixed types. Specify dtype option on import or set low_memory=False.\n",
      "  df = pd.read_csv(caminho_arquivo_csv, encoding=codificacao, sep=separador)\n",
      "/home/anaclara/git/ProgramaEstagio/src/python/consolidador_data_frame_COM_FILTRO.py:34: SettingWithCopyWarning: \n",
      "A value is trying to be set on a copy of a slice from a DataFrame.\n",
      "Try using .loc[row_indexer,col_indexer] = value instead\n",
      "\n",
      "See the caveats in the documentation: https://pandas.pydata.org/pandas-docs/stable/user_guide/indexing.html#returning-a-view-versus-a-copy\n",
      "  df_filtrado['ano'] = ano\n",
      "/home/anaclara/git/ProgramaEstagio/src/python/consolidador_data_frame_COM_FILTRO.py:35: SettingWithCopyWarning: \n",
      "A value is trying to be set on a copy of a slice from a DataFrame.\n",
      "Try using .loc[row_indexer,col_indexer] = value instead\n",
      "\n",
      "See the caveats in the documentation: https://pandas.pydata.org/pandas-docs/stable/user_guide/indexing.html#returning-a-view-versus-a-copy\n",
      "  df_filtrado['mes'] = mes\n"
     ]
    },
    {
     "data": {
      "text/plain": [
       "'Processando arquivo: ../../dados/dados_siape_bruto/descompactado/202104_Servidores_SIAPE/202104_Cadastro.csv'"
      ]
     },
     "metadata": {},
     "output_type": "display_data"
    },
    {
     "name": "stderr",
     "output_type": "stream",
     "text": [
      "/home/anaclara/git/ProgramaEstagio/src/python/consolidador_data_frame_COM_FILTRO.py:30: DtypeWarning: Columns (2,5,7,9,34,36,37,38,42) have mixed types. Specify dtype option on import or set low_memory=False.\n",
      "  df = pd.read_csv(caminho_arquivo_csv, encoding=codificacao, sep=separador)\n",
      "/home/anaclara/git/ProgramaEstagio/src/python/consolidador_data_frame_COM_FILTRO.py:34: SettingWithCopyWarning: \n",
      "A value is trying to be set on a copy of a slice from a DataFrame.\n",
      "Try using .loc[row_indexer,col_indexer] = value instead\n",
      "\n",
      "See the caveats in the documentation: https://pandas.pydata.org/pandas-docs/stable/user_guide/indexing.html#returning-a-view-versus-a-copy\n",
      "  df_filtrado['ano'] = ano\n",
      "/home/anaclara/git/ProgramaEstagio/src/python/consolidador_data_frame_COM_FILTRO.py:35: SettingWithCopyWarning: \n",
      "A value is trying to be set on a copy of a slice from a DataFrame.\n",
      "Try using .loc[row_indexer,col_indexer] = value instead\n",
      "\n",
      "See the caveats in the documentation: https://pandas.pydata.org/pandas-docs/stable/user_guide/indexing.html#returning-a-view-versus-a-copy\n",
      "  df_filtrado['mes'] = mes\n"
     ]
    },
    {
     "data": {
      "text/plain": [
       "'Processando arquivo: ../../dados/dados_siape_bruto/descompactado/202105_Servidores_SIAPE/202105_Cadastro.csv'"
      ]
     },
     "metadata": {},
     "output_type": "display_data"
    },
    {
     "name": "stderr",
     "output_type": "stream",
     "text": [
      "/home/anaclara/git/ProgramaEstagio/src/python/consolidador_data_frame_COM_FILTRO.py:30: DtypeWarning: Columns (2,5,6,7,9,34,36,37,38,42) have mixed types. Specify dtype option on import or set low_memory=False.\n",
      "  df = pd.read_csv(caminho_arquivo_csv, encoding=codificacao, sep=separador)\n",
      "/home/anaclara/git/ProgramaEstagio/src/python/consolidador_data_frame_COM_FILTRO.py:34: SettingWithCopyWarning: \n",
      "A value is trying to be set on a copy of a slice from a DataFrame.\n",
      "Try using .loc[row_indexer,col_indexer] = value instead\n",
      "\n",
      "See the caveats in the documentation: https://pandas.pydata.org/pandas-docs/stable/user_guide/indexing.html#returning-a-view-versus-a-copy\n",
      "  df_filtrado['ano'] = ano\n",
      "/home/anaclara/git/ProgramaEstagio/src/python/consolidador_data_frame_COM_FILTRO.py:35: SettingWithCopyWarning: \n",
      "A value is trying to be set on a copy of a slice from a DataFrame.\n",
      "Try using .loc[row_indexer,col_indexer] = value instead\n",
      "\n",
      "See the caveats in the documentation: https://pandas.pydata.org/pandas-docs/stable/user_guide/indexing.html#returning-a-view-versus-a-copy\n",
      "  df_filtrado['mes'] = mes\n"
     ]
    },
    {
     "data": {
      "text/plain": [
       "'Processando arquivo: ../../dados/dados_siape_bruto/descompactado/202106_Servidores_SIAPE/202106_Cadastro.csv'"
      ]
     },
     "metadata": {},
     "output_type": "display_data"
    },
    {
     "name": "stderr",
     "output_type": "stream",
     "text": [
      "/home/anaclara/git/ProgramaEstagio/src/python/consolidador_data_frame_COM_FILTRO.py:30: DtypeWarning: Columns (2,5,7,9,34,36,37,38,42) have mixed types. Specify dtype option on import or set low_memory=False.\n",
      "  df = pd.read_csv(caminho_arquivo_csv, encoding=codificacao, sep=separador)\n",
      "/home/anaclara/git/ProgramaEstagio/src/python/consolidador_data_frame_COM_FILTRO.py:34: SettingWithCopyWarning: \n",
      "A value is trying to be set on a copy of a slice from a DataFrame.\n",
      "Try using .loc[row_indexer,col_indexer] = value instead\n",
      "\n",
      "See the caveats in the documentation: https://pandas.pydata.org/pandas-docs/stable/user_guide/indexing.html#returning-a-view-versus-a-copy\n",
      "  df_filtrado['ano'] = ano\n",
      "/home/anaclara/git/ProgramaEstagio/src/python/consolidador_data_frame_COM_FILTRO.py:35: SettingWithCopyWarning: \n",
      "A value is trying to be set on a copy of a slice from a DataFrame.\n",
      "Try using .loc[row_indexer,col_indexer] = value instead\n",
      "\n",
      "See the caveats in the documentation: https://pandas.pydata.org/pandas-docs/stable/user_guide/indexing.html#returning-a-view-versus-a-copy\n",
      "  df_filtrado['mes'] = mes\n"
     ]
    },
    {
     "data": {
      "text/plain": [
       "'*********************** Salvando arquivo de parte: ../../dados/dados_siape_consolidado/estagiarios/cadastro_siape_estagiarios_mes_ano_parte_1.csv'"
      ]
     },
     "metadata": {},
     "output_type": "display_data"
    },
    {
     "data": {
      "text/plain": [
       "'Processando arquivo: ../../dados/dados_siape_bruto/descompactado/202107_Servidores_SIAPE/202107_Cadastro.csv'"
      ]
     },
     "metadata": {},
     "output_type": "display_data"
    },
    {
     "name": "stderr",
     "output_type": "stream",
     "text": [
      "/home/anaclara/git/ProgramaEstagio/src/python/consolidador_data_frame_COM_FILTRO.py:30: DtypeWarning: Columns (2,5,7,9,34,36,37,38,42) have mixed types. Specify dtype option on import or set low_memory=False.\n",
      "  df = pd.read_csv(caminho_arquivo_csv, encoding=codificacao, sep=separador)\n",
      "/home/anaclara/git/ProgramaEstagio/src/python/consolidador_data_frame_COM_FILTRO.py:34: SettingWithCopyWarning: \n",
      "A value is trying to be set on a copy of a slice from a DataFrame.\n",
      "Try using .loc[row_indexer,col_indexer] = value instead\n",
      "\n",
      "See the caveats in the documentation: https://pandas.pydata.org/pandas-docs/stable/user_guide/indexing.html#returning-a-view-versus-a-copy\n",
      "  df_filtrado['ano'] = ano\n",
      "/home/anaclara/git/ProgramaEstagio/src/python/consolidador_data_frame_COM_FILTRO.py:35: SettingWithCopyWarning: \n",
      "A value is trying to be set on a copy of a slice from a DataFrame.\n",
      "Try using .loc[row_indexer,col_indexer] = value instead\n",
      "\n",
      "See the caveats in the documentation: https://pandas.pydata.org/pandas-docs/stable/user_guide/indexing.html#returning-a-view-versus-a-copy\n",
      "  df_filtrado['mes'] = mes\n"
     ]
    },
    {
     "data": {
      "text/plain": [
       "'Processando arquivo: ../../dados/dados_siape_bruto/descompactado/202108_Servidores_SIAPE/202108_Cadastro.csv'"
      ]
     },
     "metadata": {},
     "output_type": "display_data"
    },
    {
     "name": "stderr",
     "output_type": "stream",
     "text": [
      "/home/anaclara/git/ProgramaEstagio/src/python/consolidador_data_frame_COM_FILTRO.py:30: DtypeWarning: Columns (2,5,7,9,34,36,37,38,42) have mixed types. Specify dtype option on import or set low_memory=False.\n",
      "  df = pd.read_csv(caminho_arquivo_csv, encoding=codificacao, sep=separador)\n",
      "/home/anaclara/git/ProgramaEstagio/src/python/consolidador_data_frame_COM_FILTRO.py:34: SettingWithCopyWarning: \n",
      "A value is trying to be set on a copy of a slice from a DataFrame.\n",
      "Try using .loc[row_indexer,col_indexer] = value instead\n",
      "\n",
      "See the caveats in the documentation: https://pandas.pydata.org/pandas-docs/stable/user_guide/indexing.html#returning-a-view-versus-a-copy\n",
      "  df_filtrado['ano'] = ano\n",
      "/home/anaclara/git/ProgramaEstagio/src/python/consolidador_data_frame_COM_FILTRO.py:35: SettingWithCopyWarning: \n",
      "A value is trying to be set on a copy of a slice from a DataFrame.\n",
      "Try using .loc[row_indexer,col_indexer] = value instead\n",
      "\n",
      "See the caveats in the documentation: https://pandas.pydata.org/pandas-docs/stable/user_guide/indexing.html#returning-a-view-versus-a-copy\n",
      "  df_filtrado['mes'] = mes\n"
     ]
    },
    {
     "data": {
      "text/plain": [
       "'Processando arquivo: ../../dados/dados_siape_bruto/descompactado/202109_Servidores_SIAPE/202109_Cadastro.csv'"
      ]
     },
     "metadata": {},
     "output_type": "display_data"
    },
    {
     "name": "stderr",
     "output_type": "stream",
     "text": [
      "/home/anaclara/git/ProgramaEstagio/src/python/consolidador_data_frame_COM_FILTRO.py:30: DtypeWarning: Columns (2,5,7,9,34,36,37,38,42) have mixed types. Specify dtype option on import or set low_memory=False.\n",
      "  df = pd.read_csv(caminho_arquivo_csv, encoding=codificacao, sep=separador)\n",
      "/home/anaclara/git/ProgramaEstagio/src/python/consolidador_data_frame_COM_FILTRO.py:34: SettingWithCopyWarning: \n",
      "A value is trying to be set on a copy of a slice from a DataFrame.\n",
      "Try using .loc[row_indexer,col_indexer] = value instead\n",
      "\n",
      "See the caveats in the documentation: https://pandas.pydata.org/pandas-docs/stable/user_guide/indexing.html#returning-a-view-versus-a-copy\n",
      "  df_filtrado['ano'] = ano\n",
      "/home/anaclara/git/ProgramaEstagio/src/python/consolidador_data_frame_COM_FILTRO.py:35: SettingWithCopyWarning: \n",
      "A value is trying to be set on a copy of a slice from a DataFrame.\n",
      "Try using .loc[row_indexer,col_indexer] = value instead\n",
      "\n",
      "See the caveats in the documentation: https://pandas.pydata.org/pandas-docs/stable/user_guide/indexing.html#returning-a-view-versus-a-copy\n",
      "  df_filtrado['mes'] = mes\n"
     ]
    },
    {
     "data": {
      "text/plain": [
       "'Processando arquivo: ../../dados/dados_siape_bruto/descompactado/202110_Servidores_SIAPE/202110_Cadastro.csv'"
      ]
     },
     "metadata": {},
     "output_type": "display_data"
    },
    {
     "name": "stderr",
     "output_type": "stream",
     "text": [
      "/home/anaclara/git/ProgramaEstagio/src/python/consolidador_data_frame_COM_FILTRO.py:30: DtypeWarning: Columns (2,5,7,9,34,36,37,38,42) have mixed types. Specify dtype option on import or set low_memory=False.\n",
      "  df = pd.read_csv(caminho_arquivo_csv, encoding=codificacao, sep=separador)\n",
      "/home/anaclara/git/ProgramaEstagio/src/python/consolidador_data_frame_COM_FILTRO.py:34: SettingWithCopyWarning: \n",
      "A value is trying to be set on a copy of a slice from a DataFrame.\n",
      "Try using .loc[row_indexer,col_indexer] = value instead\n",
      "\n",
      "See the caveats in the documentation: https://pandas.pydata.org/pandas-docs/stable/user_guide/indexing.html#returning-a-view-versus-a-copy\n",
      "  df_filtrado['ano'] = ano\n",
      "/home/anaclara/git/ProgramaEstagio/src/python/consolidador_data_frame_COM_FILTRO.py:35: SettingWithCopyWarning: \n",
      "A value is trying to be set on a copy of a slice from a DataFrame.\n",
      "Try using .loc[row_indexer,col_indexer] = value instead\n",
      "\n",
      "See the caveats in the documentation: https://pandas.pydata.org/pandas-docs/stable/user_guide/indexing.html#returning-a-view-versus-a-copy\n",
      "  df_filtrado['mes'] = mes\n"
     ]
    },
    {
     "data": {
      "text/plain": [
       "'Processando arquivo: ../../dados/dados_siape_bruto/descompactado/202111_Servidores_SIAPE/202111_Cadastro.csv'"
      ]
     },
     "metadata": {},
     "output_type": "display_data"
    },
    {
     "name": "stderr",
     "output_type": "stream",
     "text": [
      "/home/anaclara/git/ProgramaEstagio/src/python/consolidador_data_frame_COM_FILTRO.py:30: DtypeWarning: Columns (2,5,6,7,9,34,36,37,38,42) have mixed types. Specify dtype option on import or set low_memory=False.\n",
      "  df = pd.read_csv(caminho_arquivo_csv, encoding=codificacao, sep=separador)\n",
      "/home/anaclara/git/ProgramaEstagio/src/python/consolidador_data_frame_COM_FILTRO.py:34: SettingWithCopyWarning: \n",
      "A value is trying to be set on a copy of a slice from a DataFrame.\n",
      "Try using .loc[row_indexer,col_indexer] = value instead\n",
      "\n",
      "See the caveats in the documentation: https://pandas.pydata.org/pandas-docs/stable/user_guide/indexing.html#returning-a-view-versus-a-copy\n",
      "  df_filtrado['ano'] = ano\n",
      "/home/anaclara/git/ProgramaEstagio/src/python/consolidador_data_frame_COM_FILTRO.py:35: SettingWithCopyWarning: \n",
      "A value is trying to be set on a copy of a slice from a DataFrame.\n",
      "Try using .loc[row_indexer,col_indexer] = value instead\n",
      "\n",
      "See the caveats in the documentation: https://pandas.pydata.org/pandas-docs/stable/user_guide/indexing.html#returning-a-view-versus-a-copy\n",
      "  df_filtrado['mes'] = mes\n"
     ]
    },
    {
     "data": {
      "text/plain": [
       "'Processando arquivo: ../../dados/dados_siape_bruto/descompactado/202112_Servidores_SIAPE/202112_Cadastro.csv'"
      ]
     },
     "metadata": {},
     "output_type": "display_data"
    },
    {
     "name": "stderr",
     "output_type": "stream",
     "text": [
      "/home/anaclara/git/ProgramaEstagio/src/python/consolidador_data_frame_COM_FILTRO.py:30: DtypeWarning: Columns (2,5,7,9,34,36,37,38,42) have mixed types. Specify dtype option on import or set low_memory=False.\n",
      "  df = pd.read_csv(caminho_arquivo_csv, encoding=codificacao, sep=separador)\n",
      "/home/anaclara/git/ProgramaEstagio/src/python/consolidador_data_frame_COM_FILTRO.py:34: SettingWithCopyWarning: \n",
      "A value is trying to be set on a copy of a slice from a DataFrame.\n",
      "Try using .loc[row_indexer,col_indexer] = value instead\n",
      "\n",
      "See the caveats in the documentation: https://pandas.pydata.org/pandas-docs/stable/user_guide/indexing.html#returning-a-view-versus-a-copy\n",
      "  df_filtrado['ano'] = ano\n",
      "/home/anaclara/git/ProgramaEstagio/src/python/consolidador_data_frame_COM_FILTRO.py:35: SettingWithCopyWarning: \n",
      "A value is trying to be set on a copy of a slice from a DataFrame.\n",
      "Try using .loc[row_indexer,col_indexer] = value instead\n",
      "\n",
      "See the caveats in the documentation: https://pandas.pydata.org/pandas-docs/stable/user_guide/indexing.html#returning-a-view-versus-a-copy\n",
      "  df_filtrado['mes'] = mes\n"
     ]
    },
    {
     "data": {
      "text/plain": [
       "'*********************** Salvando arquivo de parte: ../../dados/dados_siape_consolidado/estagiarios/cadastro_siape_estagiarios_mes_ano_parte_2.csv'"
      ]
     },
     "metadata": {},
     "output_type": "display_data"
    },
    {
     "data": {
      "text/plain": [
       "'Processando arquivo: ../../dados/dados_siape_bruto/descompactado/202201_Servidores_SIAPE/202201_Cadastro.csv'"
      ]
     },
     "metadata": {},
     "output_type": "display_data"
    },
    {
     "name": "stderr",
     "output_type": "stream",
     "text": [
      "/home/anaclara/git/ProgramaEstagio/src/python/consolidador_data_frame_COM_FILTRO.py:30: DtypeWarning: Columns (2,5,7,9,34,36,37,38,42) have mixed types. Specify dtype option on import or set low_memory=False.\n",
      "  df = pd.read_csv(caminho_arquivo_csv, encoding=codificacao, sep=separador)\n",
      "/home/anaclara/git/ProgramaEstagio/src/python/consolidador_data_frame_COM_FILTRO.py:34: SettingWithCopyWarning: \n",
      "A value is trying to be set on a copy of a slice from a DataFrame.\n",
      "Try using .loc[row_indexer,col_indexer] = value instead\n",
      "\n",
      "See the caveats in the documentation: https://pandas.pydata.org/pandas-docs/stable/user_guide/indexing.html#returning-a-view-versus-a-copy\n",
      "  df_filtrado['ano'] = ano\n",
      "/home/anaclara/git/ProgramaEstagio/src/python/consolidador_data_frame_COM_FILTRO.py:35: SettingWithCopyWarning: \n",
      "A value is trying to be set on a copy of a slice from a DataFrame.\n",
      "Try using .loc[row_indexer,col_indexer] = value instead\n",
      "\n",
      "See the caveats in the documentation: https://pandas.pydata.org/pandas-docs/stable/user_guide/indexing.html#returning-a-view-versus-a-copy\n",
      "  df_filtrado['mes'] = mes\n"
     ]
    },
    {
     "data": {
      "text/plain": [
       "'Processando arquivo: ../../dados/dados_siape_bruto/descompactado/202202_Servidores_SIAPE/202202_Cadastro.csv'"
      ]
     },
     "metadata": {},
     "output_type": "display_data"
    },
    {
     "name": "stderr",
     "output_type": "stream",
     "text": [
      "/home/anaclara/git/ProgramaEstagio/src/python/consolidador_data_frame_COM_FILTRO.py:30: DtypeWarning: Columns (2,5,7,9,34,36,37,38,42) have mixed types. Specify dtype option on import or set low_memory=False.\n",
      "  df = pd.read_csv(caminho_arquivo_csv, encoding=codificacao, sep=separador)\n",
      "/home/anaclara/git/ProgramaEstagio/src/python/consolidador_data_frame_COM_FILTRO.py:34: SettingWithCopyWarning: \n",
      "A value is trying to be set on a copy of a slice from a DataFrame.\n",
      "Try using .loc[row_indexer,col_indexer] = value instead\n",
      "\n",
      "See the caveats in the documentation: https://pandas.pydata.org/pandas-docs/stable/user_guide/indexing.html#returning-a-view-versus-a-copy\n",
      "  df_filtrado['ano'] = ano\n",
      "/home/anaclara/git/ProgramaEstagio/src/python/consolidador_data_frame_COM_FILTRO.py:35: SettingWithCopyWarning: \n",
      "A value is trying to be set on a copy of a slice from a DataFrame.\n",
      "Try using .loc[row_indexer,col_indexer] = value instead\n",
      "\n",
      "See the caveats in the documentation: https://pandas.pydata.org/pandas-docs/stable/user_guide/indexing.html#returning-a-view-versus-a-copy\n",
      "  df_filtrado['mes'] = mes\n"
     ]
    },
    {
     "data": {
      "text/plain": [
       "'Processando arquivo: ../../dados/dados_siape_bruto/descompactado/202203_Servidores_SIAPE/202203_Cadastro.csv'"
      ]
     },
     "metadata": {},
     "output_type": "display_data"
    },
    {
     "name": "stderr",
     "output_type": "stream",
     "text": [
      "/home/anaclara/git/ProgramaEstagio/src/python/consolidador_data_frame_COM_FILTRO.py:30: DtypeWarning: Columns (2,5,7,9,34,36,37,38,42) have mixed types. Specify dtype option on import or set low_memory=False.\n",
      "  df = pd.read_csv(caminho_arquivo_csv, encoding=codificacao, sep=separador)\n",
      "/home/anaclara/git/ProgramaEstagio/src/python/consolidador_data_frame_COM_FILTRO.py:34: SettingWithCopyWarning: \n",
      "A value is trying to be set on a copy of a slice from a DataFrame.\n",
      "Try using .loc[row_indexer,col_indexer] = value instead\n",
      "\n",
      "See the caveats in the documentation: https://pandas.pydata.org/pandas-docs/stable/user_guide/indexing.html#returning-a-view-versus-a-copy\n",
      "  df_filtrado['ano'] = ano\n",
      "/home/anaclara/git/ProgramaEstagio/src/python/consolidador_data_frame_COM_FILTRO.py:35: SettingWithCopyWarning: \n",
      "A value is trying to be set on a copy of a slice from a DataFrame.\n",
      "Try using .loc[row_indexer,col_indexer] = value instead\n",
      "\n",
      "See the caveats in the documentation: https://pandas.pydata.org/pandas-docs/stable/user_guide/indexing.html#returning-a-view-versus-a-copy\n",
      "  df_filtrado['mes'] = mes\n"
     ]
    },
    {
     "data": {
      "text/plain": [
       "'Processando arquivo: ../../dados/dados_siape_bruto/descompactado/202204_Servidores_SIAPE/202204_Cadastro.csv'"
      ]
     },
     "metadata": {},
     "output_type": "display_data"
    },
    {
     "name": "stderr",
     "output_type": "stream",
     "text": [
      "/home/anaclara/git/ProgramaEstagio/src/python/consolidador_data_frame_COM_FILTRO.py:30: DtypeWarning: Columns (2,5,7,9,34,36,37,38,42) have mixed types. Specify dtype option on import or set low_memory=False.\n",
      "  df = pd.read_csv(caminho_arquivo_csv, encoding=codificacao, sep=separador)\n",
      "/home/anaclara/git/ProgramaEstagio/src/python/consolidador_data_frame_COM_FILTRO.py:34: SettingWithCopyWarning: \n",
      "A value is trying to be set on a copy of a slice from a DataFrame.\n",
      "Try using .loc[row_indexer,col_indexer] = value instead\n",
      "\n",
      "See the caveats in the documentation: https://pandas.pydata.org/pandas-docs/stable/user_guide/indexing.html#returning-a-view-versus-a-copy\n",
      "  df_filtrado['ano'] = ano\n",
      "/home/anaclara/git/ProgramaEstagio/src/python/consolidador_data_frame_COM_FILTRO.py:35: SettingWithCopyWarning: \n",
      "A value is trying to be set on a copy of a slice from a DataFrame.\n",
      "Try using .loc[row_indexer,col_indexer] = value instead\n",
      "\n",
      "See the caveats in the documentation: https://pandas.pydata.org/pandas-docs/stable/user_guide/indexing.html#returning-a-view-versus-a-copy\n",
      "  df_filtrado['mes'] = mes\n"
     ]
    },
    {
     "data": {
      "text/plain": [
       "'Processando arquivo: ../../dados/dados_siape_bruto/descompactado/202205_Servidores_SIAPE/202205_Cadastro.csv'"
      ]
     },
     "metadata": {},
     "output_type": "display_data"
    },
    {
     "name": "stderr",
     "output_type": "stream",
     "text": [
      "/home/anaclara/git/ProgramaEstagio/src/python/consolidador_data_frame_COM_FILTRO.py:30: DtypeWarning: Columns (2,5,7,9,34,36,37,38,42) have mixed types. Specify dtype option on import or set low_memory=False.\n",
      "  df = pd.read_csv(caminho_arquivo_csv, encoding=codificacao, sep=separador)\n",
      "/home/anaclara/git/ProgramaEstagio/src/python/consolidador_data_frame_COM_FILTRO.py:34: SettingWithCopyWarning: \n",
      "A value is trying to be set on a copy of a slice from a DataFrame.\n",
      "Try using .loc[row_indexer,col_indexer] = value instead\n",
      "\n",
      "See the caveats in the documentation: https://pandas.pydata.org/pandas-docs/stable/user_guide/indexing.html#returning-a-view-versus-a-copy\n",
      "  df_filtrado['ano'] = ano\n",
      "/home/anaclara/git/ProgramaEstagio/src/python/consolidador_data_frame_COM_FILTRO.py:35: SettingWithCopyWarning: \n",
      "A value is trying to be set on a copy of a slice from a DataFrame.\n",
      "Try using .loc[row_indexer,col_indexer] = value instead\n",
      "\n",
      "See the caveats in the documentation: https://pandas.pydata.org/pandas-docs/stable/user_guide/indexing.html#returning-a-view-versus-a-copy\n",
      "  df_filtrado['mes'] = mes\n"
     ]
    },
    {
     "data": {
      "text/plain": [
       "'Processando arquivo: ../../dados/dados_siape_bruto/descompactado/202206_Servidores_SIAPE/202206_Cadastro.csv'"
      ]
     },
     "metadata": {},
     "output_type": "display_data"
    },
    {
     "name": "stderr",
     "output_type": "stream",
     "text": [
      "/home/anaclara/git/ProgramaEstagio/src/python/consolidador_data_frame_COM_FILTRO.py:30: DtypeWarning: Columns (2,5,7,9,34,36,37,38,42) have mixed types. Specify dtype option on import or set low_memory=False.\n",
      "  df = pd.read_csv(caminho_arquivo_csv, encoding=codificacao, sep=separador)\n",
      "/home/anaclara/git/ProgramaEstagio/src/python/consolidador_data_frame_COM_FILTRO.py:34: SettingWithCopyWarning: \n",
      "A value is trying to be set on a copy of a slice from a DataFrame.\n",
      "Try using .loc[row_indexer,col_indexer] = value instead\n",
      "\n",
      "See the caveats in the documentation: https://pandas.pydata.org/pandas-docs/stable/user_guide/indexing.html#returning-a-view-versus-a-copy\n",
      "  df_filtrado['ano'] = ano\n",
      "/home/anaclara/git/ProgramaEstagio/src/python/consolidador_data_frame_COM_FILTRO.py:35: SettingWithCopyWarning: \n",
      "A value is trying to be set on a copy of a slice from a DataFrame.\n",
      "Try using .loc[row_indexer,col_indexer] = value instead\n",
      "\n",
      "See the caveats in the documentation: https://pandas.pydata.org/pandas-docs/stable/user_guide/indexing.html#returning-a-view-versus-a-copy\n",
      "  df_filtrado['mes'] = mes\n"
     ]
    },
    {
     "data": {
      "text/plain": [
       "'*********************** Salvando arquivo de parte: ../../dados/dados_siape_consolidado/estagiarios/cadastro_siape_estagiarios_mes_ano_parte_3.csv'"
      ]
     },
     "metadata": {},
     "output_type": "display_data"
    },
    {
     "data": {
      "text/plain": [
       "'Processando arquivo: ../../dados/dados_siape_bruto/descompactado/202207_Servidores_SIAPE/202207_Cadastro.csv'"
      ]
     },
     "metadata": {},
     "output_type": "display_data"
    },
    {
     "name": "stderr",
     "output_type": "stream",
     "text": [
      "/home/anaclara/git/ProgramaEstagio/src/python/consolidador_data_frame_COM_FILTRO.py:30: DtypeWarning: Columns (2,5,7,9,34,36,37,38,42) have mixed types. Specify dtype option on import or set low_memory=False.\n",
      "  df = pd.read_csv(caminho_arquivo_csv, encoding=codificacao, sep=separador)\n",
      "/home/anaclara/git/ProgramaEstagio/src/python/consolidador_data_frame_COM_FILTRO.py:34: SettingWithCopyWarning: \n",
      "A value is trying to be set on a copy of a slice from a DataFrame.\n",
      "Try using .loc[row_indexer,col_indexer] = value instead\n",
      "\n",
      "See the caveats in the documentation: https://pandas.pydata.org/pandas-docs/stable/user_guide/indexing.html#returning-a-view-versus-a-copy\n",
      "  df_filtrado['ano'] = ano\n",
      "/home/anaclara/git/ProgramaEstagio/src/python/consolidador_data_frame_COM_FILTRO.py:35: SettingWithCopyWarning: \n",
      "A value is trying to be set on a copy of a slice from a DataFrame.\n",
      "Try using .loc[row_indexer,col_indexer] = value instead\n",
      "\n",
      "See the caveats in the documentation: https://pandas.pydata.org/pandas-docs/stable/user_guide/indexing.html#returning-a-view-versus-a-copy\n",
      "  df_filtrado['mes'] = mes\n"
     ]
    },
    {
     "data": {
      "text/plain": [
       "'Processando arquivo: ../../dados/dados_siape_bruto/descompactado/202208_Servidores_SIAPE/202208_Cadastro.csv'"
      ]
     },
     "metadata": {},
     "output_type": "display_data"
    },
    {
     "name": "stderr",
     "output_type": "stream",
     "text": [
      "/home/anaclara/git/ProgramaEstagio/src/python/consolidador_data_frame_COM_FILTRO.py:30: DtypeWarning: Columns (2,5,7,9,34,36,37,38,42) have mixed types. Specify dtype option on import or set low_memory=False.\n",
      "  df = pd.read_csv(caminho_arquivo_csv, encoding=codificacao, sep=separador)\n",
      "/home/anaclara/git/ProgramaEstagio/src/python/consolidador_data_frame_COM_FILTRO.py:34: SettingWithCopyWarning: \n",
      "A value is trying to be set on a copy of a slice from a DataFrame.\n",
      "Try using .loc[row_indexer,col_indexer] = value instead\n",
      "\n",
      "See the caveats in the documentation: https://pandas.pydata.org/pandas-docs/stable/user_guide/indexing.html#returning-a-view-versus-a-copy\n",
      "  df_filtrado['ano'] = ano\n",
      "/home/anaclara/git/ProgramaEstagio/src/python/consolidador_data_frame_COM_FILTRO.py:35: SettingWithCopyWarning: \n",
      "A value is trying to be set on a copy of a slice from a DataFrame.\n",
      "Try using .loc[row_indexer,col_indexer] = value instead\n",
      "\n",
      "See the caveats in the documentation: https://pandas.pydata.org/pandas-docs/stable/user_guide/indexing.html#returning-a-view-versus-a-copy\n",
      "  df_filtrado['mes'] = mes\n"
     ]
    },
    {
     "data": {
      "text/plain": [
       "'Processando arquivo: ../../dados/dados_siape_bruto/descompactado/202209_Servidores_SIAPE/202209_Cadastro.csv'"
      ]
     },
     "metadata": {},
     "output_type": "display_data"
    },
    {
     "name": "stderr",
     "output_type": "stream",
     "text": [
      "/home/anaclara/git/ProgramaEstagio/src/python/consolidador_data_frame_COM_FILTRO.py:30: DtypeWarning: Columns (2,5,7,9,34,36,37,38,42) have mixed types. Specify dtype option on import or set low_memory=False.\n",
      "  df = pd.read_csv(caminho_arquivo_csv, encoding=codificacao, sep=separador)\n",
      "/home/anaclara/git/ProgramaEstagio/src/python/consolidador_data_frame_COM_FILTRO.py:34: SettingWithCopyWarning: \n",
      "A value is trying to be set on a copy of a slice from a DataFrame.\n",
      "Try using .loc[row_indexer,col_indexer] = value instead\n",
      "\n",
      "See the caveats in the documentation: https://pandas.pydata.org/pandas-docs/stable/user_guide/indexing.html#returning-a-view-versus-a-copy\n",
      "  df_filtrado['ano'] = ano\n",
      "/home/anaclara/git/ProgramaEstagio/src/python/consolidador_data_frame_COM_FILTRO.py:35: SettingWithCopyWarning: \n",
      "A value is trying to be set on a copy of a slice from a DataFrame.\n",
      "Try using .loc[row_indexer,col_indexer] = value instead\n",
      "\n",
      "See the caveats in the documentation: https://pandas.pydata.org/pandas-docs/stable/user_guide/indexing.html#returning-a-view-versus-a-copy\n",
      "  df_filtrado['mes'] = mes\n"
     ]
    },
    {
     "data": {
      "text/plain": [
       "'Processando arquivo: ../../dados/dados_siape_bruto/descompactado/202210_Servidores_SIAPE/202210_Cadastro.csv'"
      ]
     },
     "metadata": {},
     "output_type": "display_data"
    },
    {
     "name": "stderr",
     "output_type": "stream",
     "text": [
      "/home/anaclara/git/ProgramaEstagio/src/python/consolidador_data_frame_COM_FILTRO.py:30: DtypeWarning: Columns (2,5,7,9,34,36,37,38,42) have mixed types. Specify dtype option on import or set low_memory=False.\n",
      "  df = pd.read_csv(caminho_arquivo_csv, encoding=codificacao, sep=separador)\n",
      "/home/anaclara/git/ProgramaEstagio/src/python/consolidador_data_frame_COM_FILTRO.py:34: SettingWithCopyWarning: \n",
      "A value is trying to be set on a copy of a slice from a DataFrame.\n",
      "Try using .loc[row_indexer,col_indexer] = value instead\n",
      "\n",
      "See the caveats in the documentation: https://pandas.pydata.org/pandas-docs/stable/user_guide/indexing.html#returning-a-view-versus-a-copy\n",
      "  df_filtrado['ano'] = ano\n",
      "/home/anaclara/git/ProgramaEstagio/src/python/consolidador_data_frame_COM_FILTRO.py:35: SettingWithCopyWarning: \n",
      "A value is trying to be set on a copy of a slice from a DataFrame.\n",
      "Try using .loc[row_indexer,col_indexer] = value instead\n",
      "\n",
      "See the caveats in the documentation: https://pandas.pydata.org/pandas-docs/stable/user_guide/indexing.html#returning-a-view-versus-a-copy\n",
      "  df_filtrado['mes'] = mes\n"
     ]
    },
    {
     "data": {
      "text/plain": [
       "'Processando arquivo: ../../dados/dados_siape_bruto/descompactado/202211_Servidores_SIAPE/202211_Cadastro.csv'"
      ]
     },
     "metadata": {},
     "output_type": "display_data"
    },
    {
     "name": "stderr",
     "output_type": "stream",
     "text": [
      "/home/anaclara/git/ProgramaEstagio/src/python/consolidador_data_frame_COM_FILTRO.py:30: DtypeWarning: Columns (2,5,7,9,34,36,37,38,42) have mixed types. Specify dtype option on import or set low_memory=False.\n",
      "  df = pd.read_csv(caminho_arquivo_csv, encoding=codificacao, sep=separador)\n",
      "/home/anaclara/git/ProgramaEstagio/src/python/consolidador_data_frame_COM_FILTRO.py:34: SettingWithCopyWarning: \n",
      "A value is trying to be set on a copy of a slice from a DataFrame.\n",
      "Try using .loc[row_indexer,col_indexer] = value instead\n",
      "\n",
      "See the caveats in the documentation: https://pandas.pydata.org/pandas-docs/stable/user_guide/indexing.html#returning-a-view-versus-a-copy\n",
      "  df_filtrado['ano'] = ano\n",
      "/home/anaclara/git/ProgramaEstagio/src/python/consolidador_data_frame_COM_FILTRO.py:35: SettingWithCopyWarning: \n",
      "A value is trying to be set on a copy of a slice from a DataFrame.\n",
      "Try using .loc[row_indexer,col_indexer] = value instead\n",
      "\n",
      "See the caveats in the documentation: https://pandas.pydata.org/pandas-docs/stable/user_guide/indexing.html#returning-a-view-versus-a-copy\n",
      "  df_filtrado['mes'] = mes\n"
     ]
    },
    {
     "data": {
      "text/plain": [
       "'Processando arquivo: ../../dados/dados_siape_bruto/descompactado/202212_Servidores_SIAPE/202212_Cadastro.csv'"
      ]
     },
     "metadata": {},
     "output_type": "display_data"
    },
    {
     "name": "stderr",
     "output_type": "stream",
     "text": [
      "/home/anaclara/git/ProgramaEstagio/src/python/consolidador_data_frame_COM_FILTRO.py:30: DtypeWarning: Columns (2,5,7,9,34,36,37,38,42) have mixed types. Specify dtype option on import or set low_memory=False.\n",
      "  df = pd.read_csv(caminho_arquivo_csv, encoding=codificacao, sep=separador)\n",
      "/home/anaclara/git/ProgramaEstagio/src/python/consolidador_data_frame_COM_FILTRO.py:34: SettingWithCopyWarning: \n",
      "A value is trying to be set on a copy of a slice from a DataFrame.\n",
      "Try using .loc[row_indexer,col_indexer] = value instead\n",
      "\n",
      "See the caveats in the documentation: https://pandas.pydata.org/pandas-docs/stable/user_guide/indexing.html#returning-a-view-versus-a-copy\n",
      "  df_filtrado['ano'] = ano\n",
      "/home/anaclara/git/ProgramaEstagio/src/python/consolidador_data_frame_COM_FILTRO.py:35: SettingWithCopyWarning: \n",
      "A value is trying to be set on a copy of a slice from a DataFrame.\n",
      "Try using .loc[row_indexer,col_indexer] = value instead\n",
      "\n",
      "See the caveats in the documentation: https://pandas.pydata.org/pandas-docs/stable/user_guide/indexing.html#returning-a-view-versus-a-copy\n",
      "  df_filtrado['mes'] = mes\n"
     ]
    },
    {
     "data": {
      "text/plain": [
       "'*********************** Salvando arquivo de parte: ../../dados/dados_siape_consolidado/estagiarios/cadastro_siape_estagiarios_mes_ano_parte_4.csv'"
      ]
     },
     "metadata": {},
     "output_type": "display_data"
    },
    {
     "data": {
      "text/plain": [
       "'Processando arquivo: ../../dados/dados_siape_bruto/descompactado/202301_Servidores_SIAPE/202301_Cadastro.csv'"
      ]
     },
     "metadata": {},
     "output_type": "display_data"
    },
    {
     "name": "stderr",
     "output_type": "stream",
     "text": [
      "/home/anaclara/git/ProgramaEstagio/src/python/consolidador_data_frame_COM_FILTRO.py:30: DtypeWarning: Columns (2,5,7,9,34,36,37,38,42) have mixed types. Specify dtype option on import or set low_memory=False.\n",
      "  df = pd.read_csv(caminho_arquivo_csv, encoding=codificacao, sep=separador)\n",
      "/home/anaclara/git/ProgramaEstagio/src/python/consolidador_data_frame_COM_FILTRO.py:34: SettingWithCopyWarning: \n",
      "A value is trying to be set on a copy of a slice from a DataFrame.\n",
      "Try using .loc[row_indexer,col_indexer] = value instead\n",
      "\n",
      "See the caveats in the documentation: https://pandas.pydata.org/pandas-docs/stable/user_guide/indexing.html#returning-a-view-versus-a-copy\n",
      "  df_filtrado['ano'] = ano\n",
      "/home/anaclara/git/ProgramaEstagio/src/python/consolidador_data_frame_COM_FILTRO.py:35: SettingWithCopyWarning: \n",
      "A value is trying to be set on a copy of a slice from a DataFrame.\n",
      "Try using .loc[row_indexer,col_indexer] = value instead\n",
      "\n",
      "See the caveats in the documentation: https://pandas.pydata.org/pandas-docs/stable/user_guide/indexing.html#returning-a-view-versus-a-copy\n",
      "  df_filtrado['mes'] = mes\n"
     ]
    },
    {
     "data": {
      "text/plain": [
       "'Processando arquivo: ../../dados/dados_siape_bruto/descompactado/202302_Servidores_SIAPE/202302_Cadastro.csv'"
      ]
     },
     "metadata": {},
     "output_type": "display_data"
    },
    {
     "name": "stderr",
     "output_type": "stream",
     "text": [
      "/home/anaclara/git/ProgramaEstagio/src/python/consolidador_data_frame_COM_FILTRO.py:30: DtypeWarning: Columns (2,5,7,9,34,36,37,38,42) have mixed types. Specify dtype option on import or set low_memory=False.\n",
      "  df = pd.read_csv(caminho_arquivo_csv, encoding=codificacao, sep=separador)\n",
      "/home/anaclara/git/ProgramaEstagio/src/python/consolidador_data_frame_COM_FILTRO.py:34: SettingWithCopyWarning: \n",
      "A value is trying to be set on a copy of a slice from a DataFrame.\n",
      "Try using .loc[row_indexer,col_indexer] = value instead\n",
      "\n",
      "See the caveats in the documentation: https://pandas.pydata.org/pandas-docs/stable/user_guide/indexing.html#returning-a-view-versus-a-copy\n",
      "  df_filtrado['ano'] = ano\n",
      "/home/anaclara/git/ProgramaEstagio/src/python/consolidador_data_frame_COM_FILTRO.py:35: SettingWithCopyWarning: \n",
      "A value is trying to be set on a copy of a slice from a DataFrame.\n",
      "Try using .loc[row_indexer,col_indexer] = value instead\n",
      "\n",
      "See the caveats in the documentation: https://pandas.pydata.org/pandas-docs/stable/user_guide/indexing.html#returning-a-view-versus-a-copy\n",
      "  df_filtrado['mes'] = mes\n"
     ]
    },
    {
     "data": {
      "text/plain": [
       "'Processando arquivo: ../../dados/dados_siape_bruto/descompactado/202303_Servidores_SIAPE/202303_Cadastro.csv'"
      ]
     },
     "metadata": {},
     "output_type": "display_data"
    },
    {
     "name": "stderr",
     "output_type": "stream",
     "text": [
      "/home/anaclara/git/ProgramaEstagio/src/python/consolidador_data_frame_COM_FILTRO.py:30: DtypeWarning: Columns (2,5,7,9,34,36,37,38,42) have mixed types. Specify dtype option on import or set low_memory=False.\n",
      "  df = pd.read_csv(caminho_arquivo_csv, encoding=codificacao, sep=separador)\n",
      "/home/anaclara/git/ProgramaEstagio/src/python/consolidador_data_frame_COM_FILTRO.py:34: SettingWithCopyWarning: \n",
      "A value is trying to be set on a copy of a slice from a DataFrame.\n",
      "Try using .loc[row_indexer,col_indexer] = value instead\n",
      "\n",
      "See the caveats in the documentation: https://pandas.pydata.org/pandas-docs/stable/user_guide/indexing.html#returning-a-view-versus-a-copy\n",
      "  df_filtrado['ano'] = ano\n",
      "/home/anaclara/git/ProgramaEstagio/src/python/consolidador_data_frame_COM_FILTRO.py:35: SettingWithCopyWarning: \n",
      "A value is trying to be set on a copy of a slice from a DataFrame.\n",
      "Try using .loc[row_indexer,col_indexer] = value instead\n",
      "\n",
      "See the caveats in the documentation: https://pandas.pydata.org/pandas-docs/stable/user_guide/indexing.html#returning-a-view-versus-a-copy\n",
      "  df_filtrado['mes'] = mes\n"
     ]
    },
    {
     "data": {
      "text/plain": [
       "'Processando arquivo: ../../dados/dados_siape_bruto/descompactado/202304_Servidores_SIAPE/202304_Cadastro.csv'"
      ]
     },
     "metadata": {},
     "output_type": "display_data"
    },
    {
     "name": "stderr",
     "output_type": "stream",
     "text": [
      "/home/anaclara/git/ProgramaEstagio/src/python/consolidador_data_frame_COM_FILTRO.py:30: DtypeWarning: Columns (2,5,7,9,34,36,37,38,42) have mixed types. Specify dtype option on import or set low_memory=False.\n",
      "  df = pd.read_csv(caminho_arquivo_csv, encoding=codificacao, sep=separador)\n",
      "/home/anaclara/git/ProgramaEstagio/src/python/consolidador_data_frame_COM_FILTRO.py:34: SettingWithCopyWarning: \n",
      "A value is trying to be set on a copy of a slice from a DataFrame.\n",
      "Try using .loc[row_indexer,col_indexer] = value instead\n",
      "\n",
      "See the caveats in the documentation: https://pandas.pydata.org/pandas-docs/stable/user_guide/indexing.html#returning-a-view-versus-a-copy\n",
      "  df_filtrado['ano'] = ano\n",
      "/home/anaclara/git/ProgramaEstagio/src/python/consolidador_data_frame_COM_FILTRO.py:35: SettingWithCopyWarning: \n",
      "A value is trying to be set on a copy of a slice from a DataFrame.\n",
      "Try using .loc[row_indexer,col_indexer] = value instead\n",
      "\n",
      "See the caveats in the documentation: https://pandas.pydata.org/pandas-docs/stable/user_guide/indexing.html#returning-a-view-versus-a-copy\n",
      "  df_filtrado['mes'] = mes\n"
     ]
    },
    {
     "data": {
      "text/plain": [
       "'Processando arquivo: ../../dados/dados_siape_bruto/descompactado/202305_Servidores_SIAPE/202305_Cadastro.csv'"
      ]
     },
     "metadata": {},
     "output_type": "display_data"
    },
    {
     "name": "stderr",
     "output_type": "stream",
     "text": [
      "/home/anaclara/git/ProgramaEstagio/src/python/consolidador_data_frame_COM_FILTRO.py:30: DtypeWarning: Columns (2,5,7,9,34,36,37,38) have mixed types. Specify dtype option on import or set low_memory=False.\n",
      "  df = pd.read_csv(caminho_arquivo_csv, encoding=codificacao, sep=separador)\n",
      "/home/anaclara/git/ProgramaEstagio/src/python/consolidador_data_frame_COM_FILTRO.py:34: SettingWithCopyWarning: \n",
      "A value is trying to be set on a copy of a slice from a DataFrame.\n",
      "Try using .loc[row_indexer,col_indexer] = value instead\n",
      "\n",
      "See the caveats in the documentation: https://pandas.pydata.org/pandas-docs/stable/user_guide/indexing.html#returning-a-view-versus-a-copy\n",
      "  df_filtrado['ano'] = ano\n",
      "/home/anaclara/git/ProgramaEstagio/src/python/consolidador_data_frame_COM_FILTRO.py:35: SettingWithCopyWarning: \n",
      "A value is trying to be set on a copy of a slice from a DataFrame.\n",
      "Try using .loc[row_indexer,col_indexer] = value instead\n",
      "\n",
      "See the caveats in the documentation: https://pandas.pydata.org/pandas-docs/stable/user_guide/indexing.html#returning-a-view-versus-a-copy\n",
      "  df_filtrado['mes'] = mes\n"
     ]
    },
    {
     "data": {
      "text/plain": [
       "'Processando arquivo: ../../dados/dados_siape_bruto/descompactado/202306_Servidores_SIAPE/202306_Cadastro.csv'"
      ]
     },
     "metadata": {},
     "output_type": "display_data"
    },
    {
     "name": "stderr",
     "output_type": "stream",
     "text": [
      "/home/anaclara/git/ProgramaEstagio/src/python/consolidador_data_frame_COM_FILTRO.py:30: DtypeWarning: Columns (2,5,7,9,34,36,37,38) have mixed types. Specify dtype option on import or set low_memory=False.\n",
      "  df = pd.read_csv(caminho_arquivo_csv, encoding=codificacao, sep=separador)\n",
      "/home/anaclara/git/ProgramaEstagio/src/python/consolidador_data_frame_COM_FILTRO.py:34: SettingWithCopyWarning: \n",
      "A value is trying to be set on a copy of a slice from a DataFrame.\n",
      "Try using .loc[row_indexer,col_indexer] = value instead\n",
      "\n",
      "See the caveats in the documentation: https://pandas.pydata.org/pandas-docs/stable/user_guide/indexing.html#returning-a-view-versus-a-copy\n",
      "  df_filtrado['ano'] = ano\n",
      "/home/anaclara/git/ProgramaEstagio/src/python/consolidador_data_frame_COM_FILTRO.py:35: SettingWithCopyWarning: \n",
      "A value is trying to be set on a copy of a slice from a DataFrame.\n",
      "Try using .loc[row_indexer,col_indexer] = value instead\n",
      "\n",
      "See the caveats in the documentation: https://pandas.pydata.org/pandas-docs/stable/user_guide/indexing.html#returning-a-view-versus-a-copy\n",
      "  df_filtrado['mes'] = mes\n"
     ]
    },
    {
     "data": {
      "text/plain": [
       "'*********************** Salvando arquivo de parte: ../../dados/dados_siape_consolidado/estagiarios/cadastro_siape_estagiarios_mes_ano_parte_5.csv'"
      ]
     },
     "metadata": {},
     "output_type": "display_data"
    },
    {
     "data": {
      "text/plain": [
       "'Processando arquivo: ../../dados/dados_siape_bruto/descompactado/202307_Servidores_SIAPE/202307_Cadastro.csv'"
      ]
     },
     "metadata": {},
     "output_type": "display_data"
    },
    {
     "name": "stderr",
     "output_type": "stream",
     "text": [
      "/home/anaclara/git/ProgramaEstagio/src/python/consolidador_data_frame_COM_FILTRO.py:30: DtypeWarning: Columns (2,5,7,9,34,36,37,38) have mixed types. Specify dtype option on import or set low_memory=False.\n",
      "  df = pd.read_csv(caminho_arquivo_csv, encoding=codificacao, sep=separador)\n",
      "/home/anaclara/git/ProgramaEstagio/src/python/consolidador_data_frame_COM_FILTRO.py:34: SettingWithCopyWarning: \n",
      "A value is trying to be set on a copy of a slice from a DataFrame.\n",
      "Try using .loc[row_indexer,col_indexer] = value instead\n",
      "\n",
      "See the caveats in the documentation: https://pandas.pydata.org/pandas-docs/stable/user_guide/indexing.html#returning-a-view-versus-a-copy\n",
      "  df_filtrado['ano'] = ano\n",
      "/home/anaclara/git/ProgramaEstagio/src/python/consolidador_data_frame_COM_FILTRO.py:35: SettingWithCopyWarning: \n",
      "A value is trying to be set on a copy of a slice from a DataFrame.\n",
      "Try using .loc[row_indexer,col_indexer] = value instead\n",
      "\n",
      "See the caveats in the documentation: https://pandas.pydata.org/pandas-docs/stable/user_guide/indexing.html#returning-a-view-versus-a-copy\n",
      "  df_filtrado['mes'] = mes\n"
     ]
    },
    {
     "data": {
      "text/plain": [
       "'Processando arquivo: ../../dados/dados_siape_bruto/descompactado/202308_Servidores_SIAPE/202308_Cadastro.csv'"
      ]
     },
     "metadata": {},
     "output_type": "display_data"
    },
    {
     "name": "stderr",
     "output_type": "stream",
     "text": [
      "/home/anaclara/git/ProgramaEstagio/src/python/consolidador_data_frame_COM_FILTRO.py:30: DtypeWarning: Columns (2,5,7,9,34,36,37,38) have mixed types. Specify dtype option on import or set low_memory=False.\n",
      "  df = pd.read_csv(caminho_arquivo_csv, encoding=codificacao, sep=separador)\n",
      "/home/anaclara/git/ProgramaEstagio/src/python/consolidador_data_frame_COM_FILTRO.py:34: SettingWithCopyWarning: \n",
      "A value is trying to be set on a copy of a slice from a DataFrame.\n",
      "Try using .loc[row_indexer,col_indexer] = value instead\n",
      "\n",
      "See the caveats in the documentation: https://pandas.pydata.org/pandas-docs/stable/user_guide/indexing.html#returning-a-view-versus-a-copy\n",
      "  df_filtrado['ano'] = ano\n",
      "/home/anaclara/git/ProgramaEstagio/src/python/consolidador_data_frame_COM_FILTRO.py:35: SettingWithCopyWarning: \n",
      "A value is trying to be set on a copy of a slice from a DataFrame.\n",
      "Try using .loc[row_indexer,col_indexer] = value instead\n",
      "\n",
      "See the caveats in the documentation: https://pandas.pydata.org/pandas-docs/stable/user_guide/indexing.html#returning-a-view-versus-a-copy\n",
      "  df_filtrado['mes'] = mes\n"
     ]
    },
    {
     "data": {
      "text/plain": [
       "'Processando arquivo: ../../dados/dados_siape_bruto/descompactado/202309_Servidores_SIAPE/202309_Cadastro.csv'"
      ]
     },
     "metadata": {},
     "output_type": "display_data"
    },
    {
     "name": "stderr",
     "output_type": "stream",
     "text": [
      "/home/anaclara/git/ProgramaEstagio/src/python/consolidador_data_frame_COM_FILTRO.py:30: DtypeWarning: Columns (2,5,7,9,34,36,37,38) have mixed types. Specify dtype option on import or set low_memory=False.\n",
      "  df = pd.read_csv(caminho_arquivo_csv, encoding=codificacao, sep=separador)\n",
      "/home/anaclara/git/ProgramaEstagio/src/python/consolidador_data_frame_COM_FILTRO.py:34: SettingWithCopyWarning: \n",
      "A value is trying to be set on a copy of a slice from a DataFrame.\n",
      "Try using .loc[row_indexer,col_indexer] = value instead\n",
      "\n",
      "See the caveats in the documentation: https://pandas.pydata.org/pandas-docs/stable/user_guide/indexing.html#returning-a-view-versus-a-copy\n",
      "  df_filtrado['ano'] = ano\n",
      "/home/anaclara/git/ProgramaEstagio/src/python/consolidador_data_frame_COM_FILTRO.py:35: SettingWithCopyWarning: \n",
      "A value is trying to be set on a copy of a slice from a DataFrame.\n",
      "Try using .loc[row_indexer,col_indexer] = value instead\n",
      "\n",
      "See the caveats in the documentation: https://pandas.pydata.org/pandas-docs/stable/user_guide/indexing.html#returning-a-view-versus-a-copy\n",
      "  df_filtrado['mes'] = mes\n"
     ]
    },
    {
     "data": {
      "text/plain": [
       "'Processando arquivo: ../../dados/dados_siape_bruto/descompactado/202310_Servidores_SIAPE/202310_Cadastro.csv'"
      ]
     },
     "metadata": {},
     "output_type": "display_data"
    },
    {
     "name": "stderr",
     "output_type": "stream",
     "text": [
      "/home/anaclara/git/ProgramaEstagio/src/python/consolidador_data_frame_COM_FILTRO.py:30: DtypeWarning: Columns (2,5,7,9,34,36,37,38) have mixed types. Specify dtype option on import or set low_memory=False.\n",
      "  df = pd.read_csv(caminho_arquivo_csv, encoding=codificacao, sep=separador)\n",
      "/home/anaclara/git/ProgramaEstagio/src/python/consolidador_data_frame_COM_FILTRO.py:34: SettingWithCopyWarning: \n",
      "A value is trying to be set on a copy of a slice from a DataFrame.\n",
      "Try using .loc[row_indexer,col_indexer] = value instead\n",
      "\n",
      "See the caveats in the documentation: https://pandas.pydata.org/pandas-docs/stable/user_guide/indexing.html#returning-a-view-versus-a-copy\n",
      "  df_filtrado['ano'] = ano\n",
      "/home/anaclara/git/ProgramaEstagio/src/python/consolidador_data_frame_COM_FILTRO.py:35: SettingWithCopyWarning: \n",
      "A value is trying to be set on a copy of a slice from a DataFrame.\n",
      "Try using .loc[row_indexer,col_indexer] = value instead\n",
      "\n",
      "See the caveats in the documentation: https://pandas.pydata.org/pandas-docs/stable/user_guide/indexing.html#returning-a-view-versus-a-copy\n",
      "  df_filtrado['mes'] = mes\n"
     ]
    },
    {
     "data": {
      "text/plain": [
       "'Processando arquivo: ../../dados/dados_siape_bruto/descompactado/202311_Servidores_SIAPE/202311_Cadastro.csv'"
      ]
     },
     "metadata": {},
     "output_type": "display_data"
    },
    {
     "name": "stderr",
     "output_type": "stream",
     "text": [
      "/home/anaclara/git/ProgramaEstagio/src/python/consolidador_data_frame_COM_FILTRO.py:30: DtypeWarning: Columns (2,5,7,9,34,36,37,38) have mixed types. Specify dtype option on import or set low_memory=False.\n",
      "  df = pd.read_csv(caminho_arquivo_csv, encoding=codificacao, sep=separador)\n",
      "/home/anaclara/git/ProgramaEstagio/src/python/consolidador_data_frame_COM_FILTRO.py:34: SettingWithCopyWarning: \n",
      "A value is trying to be set on a copy of a slice from a DataFrame.\n",
      "Try using .loc[row_indexer,col_indexer] = value instead\n",
      "\n",
      "See the caveats in the documentation: https://pandas.pydata.org/pandas-docs/stable/user_guide/indexing.html#returning-a-view-versus-a-copy\n",
      "  df_filtrado['ano'] = ano\n",
      "/home/anaclara/git/ProgramaEstagio/src/python/consolidador_data_frame_COM_FILTRO.py:35: SettingWithCopyWarning: \n",
      "A value is trying to be set on a copy of a slice from a DataFrame.\n",
      "Try using .loc[row_indexer,col_indexer] = value instead\n",
      "\n",
      "See the caveats in the documentation: https://pandas.pydata.org/pandas-docs/stable/user_guide/indexing.html#returning-a-view-versus-a-copy\n",
      "  df_filtrado['mes'] = mes\n"
     ]
    },
    {
     "data": {
      "text/plain": [
       "'*********************** Salvando arquivo de parte: ../../dados/dados_siape_consolidado/estagiarios/cadastro_siape_estagiarios_mes_ano_parte_6.csv'"
      ]
     },
     "metadata": {},
     "output_type": "display_data"
    }
   ],
   "source": [
    "  \n",
    "\n",
    "consolidador.percorre_diretorio_CSV(\n",
    "    \"../../dados/dados_siape_bruto/descompactado\", \n",
    "    \"cadastro\",\n",
    "    \"../../dados/dados_siape_consolidado/estagiarios/cadastro_siape_estagiarios_mes_ano.csv\",\n",
    "    'REGIME_JURIDICO', 'estag',\n",
    "    tamanho_bloco=6,\n",
    "    ano_inicio=2021\n",
    ")\n",
    "\n"
   ]
  },
  {
   "cell_type": "code",
   "execution_count": 4,
   "id": "436ed67d-d273-4c36-af6d-04d9c621057f",
   "metadata": {},
   "outputs": [
    {
     "data": {
      "text/plain": [
       "'Processando arquivo: cadastro_siape_estagiarios_mes_ano_parte_4.csv'"
      ]
     },
     "metadata": {},
     "output_type": "display_data"
    },
    {
     "name": "stderr",
     "output_type": "stream",
     "text": [
      "/home/anaclara/git/ProgramaEstagio/src/python/consolidador_data_frame_COM_FILTRO.py:157: DtypeWarning: Columns (37,38) have mixed types. Specify dtype option on import or set low_memory=False.\n",
      "  df_consolidado = pd.read_csv(caminho_completo_arquivo_parte)\n"
     ]
    },
    {
     "data": {
      "text/plain": [
       "'Processando arquivo: cadastro_siape_estagiarios_mes_ano_parte_2.csv'"
      ]
     },
     "metadata": {},
     "output_type": "display_data"
    },
    {
     "data": {
      "text/plain": [
       "'Processando arquivo: cadastro_siape_estagiarios_mes_ano_parte_5.csv'"
      ]
     },
     "metadata": {},
     "output_type": "display_data"
    },
    {
     "name": "stderr",
     "output_type": "stream",
     "text": [
      "/home/anaclara/git/ProgramaEstagio/src/python/consolidador_data_frame_COM_FILTRO.py:157: DtypeWarning: Columns (37,38,42) have mixed types. Specify dtype option on import or set low_memory=False.\n",
      "  df_consolidado = pd.read_csv(caminho_completo_arquivo_parte)\n"
     ]
    },
    {
     "data": {
      "text/plain": [
       "'Processando arquivo: cadastro_siape_estagiarios_mes_ano_parte_1.csv'"
      ]
     },
     "metadata": {},
     "output_type": "display_data"
    },
    {
     "data": {
      "text/plain": [
       "'Processando arquivo: cadastro_siape_estagiarios_mes_ano_parte_6.csv'"
      ]
     },
     "metadata": {},
     "output_type": "display_data"
    },
    {
     "data": {
      "text/plain": [
       "'Processando arquivo: cadastro_siape_estagiarios_mes_ano_parte_3.csv'"
      ]
     },
     "metadata": {},
     "output_type": "display_data"
    },
    {
     "data": {
      "text/plain": [
       "'Vai salvar....'"
      ]
     },
     "metadata": {},
     "output_type": "display_data"
    },
    {
     "data": {
      "text/plain": [
       "'Finalizado!'"
      ]
     },
     "metadata": {},
     "output_type": "display_data"
    }
   ],
   "source": [
    "consolidador.consolida_partes(\"../../dados/dados_siape_consolidado/estagiarios\", \"parte\", \"../../dados/dados_siape_consolidado/estagiarios/cadastro_siape_estagiarios_mes_ano-2021-2023.csv\")"
   ]
  }
 ],
 "metadata": {
  "kernelspec": {
   "display_name": "Python 3 (ipykernel)",
   "language": "python",
   "name": "python3"
  },
  "language_info": {
   "codemirror_mode": {
    "name": "ipython",
    "version": 3
   },
   "file_extension": ".py",
   "mimetype": "text/x-python",
   "name": "python",
   "nbconvert_exporter": "python",
   "pygments_lexer": "ipython3",
   "version": "3.10.12"
  }
 },
 "nbformat": 4,
 "nbformat_minor": 5
}

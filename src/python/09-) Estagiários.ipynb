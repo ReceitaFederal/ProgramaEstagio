{
 "cells": [
  {
   "cell_type": "code",
   "execution_count": null,
   "id": "08fce05f-851c-4e02-978a-eb8da6013794",
   "metadata": {},
   "outputs": [],
   "source": [
    "!pip install pandas"
   ]
  },
  {
   "cell_type": "code",
   "execution_count": null,
   "id": "31de756d-6c8f-4a14-8bb2-3b1e7808043c",
   "metadata": {},
   "outputs": [],
   "source": [
    "import pandas as pd"
   ]
  },
  {
   "cell_type": "code",
   "execution_count": null,
   "id": "b154fd71-721a-4be1-8dc8-01507c9e63e8",
   "metadata": {},
   "outputs": [],
   "source": [
    "pd.set_option('display.max_columns', None)\n",
    "pd.set_option('display.max_rows', 100)"
   ]
  },
  {
   "cell_type": "code",
   "execution_count": null,
   "id": "3df8bd12-48fd-4322-980b-09cc2e1de988",
   "metadata": {},
   "outputs": [],
   "source": [
    "df = pd.read_csv('../../dados/dados_siape_consolidado/estagiarios/cadastro_siape_estagiarios_mes_ano-2021-2023.csv')"
   ]
  },
  {
   "cell_type": "code",
   "execution_count": null,
   "id": "6d072270-a011-4a1a-9233-f780f61a3886",
   "metadata": {},
   "outputs": [],
   "source": [
    "df.info()"
   ]
  },
  {
   "cell_type": "code",
   "execution_count": null,
   "id": "a82de78b-fd84-4088-a38f-4affdc636621",
   "metadata": {},
   "outputs": [],
   "source": [
    "df_julia = df[df['NOME'].str.contains('julia germano', case=False, na=False)]\n",
    "\n",
    "display (df_julia)"
   ]
  },
  {
   "cell_type": "code",
   "execution_count": null,
   "id": "01340b0f-eebf-4e72-8485-9425d2fe18cb",
   "metadata": {},
   "outputs": [],
   "source": [
    "display(df.value_counts(\"Id_SERVIDOR_PORTAL\").mean())"
   ]
  },
  {
   "cell_type": "code",
   "execution_count": null,
   "id": "f078d51c-7194-49e5-bd3c-04cff67f3e98",
   "metadata": {},
   "outputs": [],
   "source": [
    "df_meses_estagiados = df.groupby(['Id_SERVIDOR_PORTAL','UORG_EXERCICIO']).size().reset_index(name=\"meses_estagiados\")"
   ]
  },
  {
   "cell_type": "code",
   "execution_count": null,
   "id": "d5d63da9-1fd8-41bf-8b4e-35fd69eca26f",
   "metadata": {},
   "outputs": [],
   "source": [
    "df_meses_estagiados.groupby('UORG_EXERCICIO')['meses_estagiados'].mean().sort_values(ascending=False).head(100)"
   ]
  },
  {
   "cell_type": "code",
   "execution_count": null,
   "id": "33dda3b8-011d-4bd8-8d42-b0a5af869376",
   "metadata": {},
   "outputs": [],
   "source": [
    "df[df['NOME'] == 'ANA LETICIA FERNANDES DA SILVA']"
   ]
  },
  {
   "cell_type": "code",
   "execution_count": null,
   "id": "5a0407fc-9a96-4016-a925-38e20d8f9340",
   "metadata": {},
   "outputs": [],
   "source": []
  },
  {
   "cell_type": "code",
   "execution_count": null,
   "id": "7f0793de-ea96-4352-a21d-1bd79ceb0076",
   "metadata": {},
   "outputs": [],
   "source": [
    "df.sample(5)"
   ]
  },
  {
   "cell_type": "code",
   "execution_count": null,
   "id": "4fc64128-c906-468a-a5ba-1ebd9761e867",
   "metadata": {},
   "outputs": [],
   "source": [
    "df_agrupado = df.groupby('REGIME_JURIDICO').size().reset_index(name='Quantidade')"
   ]
  },
  {
   "cell_type": "code",
   "execution_count": null,
   "id": "f0710584-8ac0-429c-a2c6-fd8db1d9f876",
   "metadata": {},
   "outputs": [],
   "source": [
    "display(df_agrupado) \n",
    "display(df_agrupado.info())"
   ]
  },
  {
   "cell_type": "code",
   "execution_count": null,
   "id": "bd58ed45-dbc8-40c0-93f1-85637d8af0f0",
   "metadata": {},
   "outputs": [],
   "source": [
    "df.value_counts('REGIME_JURIDICO')"
   ]
  },
  {
   "cell_type": "code",
   "execution_count": null,
   "id": "930a2dfb-ffcb-4db8-af40-05b489a31d29",
   "metadata": {},
   "outputs": [],
   "source": [
    "df_filtro = df[df['REGIME_JURIDICO'].str.contains('estagio empresa', case=False)]"
   ]
  },
  {
   "cell_type": "code",
   "execution_count": null,
   "id": "9dafa408-659a-43d0-bbe7-dc3bb92c38e8",
   "metadata": {},
   "outputs": [],
   "source": [
    "display(df_filtro)"
   ]
  },
  {
   "cell_type": "code",
   "execution_count": null,
   "id": "eb6df0f3-9002-433e-b106-4d7da4681f68",
   "metadata": {},
   "outputs": [],
   "source": [
    "v = 'oi'\n",
    "display(type(df.groupby('REGIME_JURIDICO').size().reset_index()))"
   ]
  },
  {
   "cell_type": "code",
   "execution_count": null,
   "id": "9e0a8b7e-77e2-4638-8ebc-0542d2911224",
   "metadata": {},
   "outputs": [],
   "source": [
    "df[]"
   ]
  },
  {
   "cell_type": "code",
   "execution_count": null,
   "id": "5ed9611a-4eee-4fa6-8b58-3c7d553971e9",
   "metadata": {},
   "outputs": [],
   "source": [
    "lista = [1, 2, 3, 'abelha', 'mel', 1.2]\n",
    "\n",
    "for item in lista:\n",
    "    display (f'{item}: {type(item)}')\n"
   ]
  },
  {
   "cell_type": "code",
   "execution_count": null,
   "id": "39b47c3f-27ba-4220-8812-462d0f581f46",
   "metadata": {},
   "outputs": [],
   "source": [
    "lista[3]"
   ]
  },
  {
   "cell_type": "code",
   "execution_count": null,
   "id": "99b67c19-1ae5-44b4-921c-3bc05c533826",
   "metadata": {},
   "outputs": [],
   "source": [
    "import pandas as pd\n",
    "\n",
    "# Dados\n",
    "dados = {\n",
    "    'País': ['Brasil', 'Argentina', 'Estados Unidos', 'China', 'Índia'],\n",
    "    'Continente': ['América do Sul', 'América do Sul', 'América do Norte', 'Ásia', 'Ásia'],\n",
    "    'População (milhões)': [211, 45, 331, 1441, 1380]\n",
    "}\n",
    "\n",
    "# Criar DataFrame\n",
    "df = pd.DataFrame(dados)\n",
    "\n",
    "# Exibir DataFrame\n",
    "display(df)"
   ]
  },
  {
   "cell_type": "code",
   "execution_count": null,
   "id": "8eb89572-b49e-481c-a8aa-26986ddd1da9",
   "metadata": {},
   "outputs": [],
   "source": [
    "df['nova coluna'] = 'abelha'\n",
    "\n",
    "display(df)"
   ]
  },
  {
   "cell_type": "code",
   "execution_count": null,
   "id": "5f8c8431-f794-4cf8-b833-b64d8a8f7bec",
   "metadata": {},
   "outputs": [],
   "source": [
    "display (type(df['País']))\n",
    "display (type(df[['País']]))\n",
    "display (type(df[['País', 'População (milhões)']]))"
   ]
  },
  {
   "cell_type": "code",
   "execution_count": null,
   "id": "15b04adf-e0d4-4768-a7ca-6dfa558cc5d7",
   "metadata": {},
   "outputs": [],
   "source": [
    "df[[True, False, False, False, True]]"
   ]
  },
  {
   "cell_type": "markdown",
   "id": "f8e56019-1dde-45dc-b0d2-9c55f08c3c2f",
   "metadata": {},
   "source": [
    "# Passando os índices diretamente na função VERSUS passando por uma variável\n",
    "## são equivalentes\n",
    "\n",
    "vai depende ser vai usar a varíavel em outros lugares"
   ]
  },
  {
   "cell_type": "code",
   "execution_count": null,
   "id": "b74c8d07-c462-4fb2-9bd3-523216b51c37",
   "metadata": {},
   "outputs": [],
   "source": [
    "series_contem_bra = df['País'].str.contains('Bra')\n",
    "df[series_contem_bra"
   ]
  },
  {
   "cell_type": "markdown",
   "id": "2f5f1a40-daa3-4a6e-be30-50dc0aa5404d",
   "metadata": {},
   "source": [
    "## mais comum dessa forma abaixo"
   ]
  },
  {
   "cell_type": "code",
   "execution_count": null,
   "id": "2cd9e63f-1835-41a6-8e26-b199ffe5c0d7",
   "metadata": {},
   "outputs": [],
   "source": [
    "df[df['País'].str.contains('Bra')]"
   ]
  },
  {
   "cell_type": "code",
   "execution_count": null,
   "id": "9b5605d6-5e90-4c1f-a62d-c6eb53b27d21",
   "metadata": {},
   "outputs": [],
   "source": [
    "df['País'].str.contains('r')"
   ]
  },
  {
   "cell_type": "code",
   "execution_count": null,
   "id": "ccb84d39-d06a-4e22-8bce-89daa7cf61da",
   "metadata": {},
   "outputs": [],
   "source": [
    "df['População (milhões)'] > 200"
   ]
  },
  {
   "cell_type": "code",
   "execution_count": null,
   "id": "f9a7c5c0-0ce9-40c8-9dd1-f8084fe428a2",
   "metadata": {},
   "outputs": [],
   "source": [
    "df['País'].str.contains('r') & (df['População (milhões)'] > 200)"
   ]
  }
 ],
 "metadata": {
  "kernelspec": {
   "display_name": "Python 3 (ipykernel)",
   "language": "python",
   "name": "python3"
  },
  "language_info": {
   "codemirror_mode": {
    "name": "ipython",
    "version": 3
   },
   "file_extension": ".py",
   "mimetype": "text/x-python",
   "name": "python",
   "nbconvert_exporter": "python",
   "pygments_lexer": "ipython3",
   "version": "3.10.12"
  }
 },
 "nbformat": 4,
 "nbformat_minor": 5
}

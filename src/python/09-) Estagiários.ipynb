{
 "cells": [
  {
   "cell_type": "code",
   "execution_count": null,
   "id": "08fce05f-851c-4e02-978a-eb8da6013794",
   "metadata": {},
   "outputs": [],
   "source": [
    "!pip install pandas"
   ]
  },
  {
   "cell_type": "code",
   "execution_count": 3,
   "id": "31de756d-6c8f-4a14-8bb2-3b1e7808043c",
   "metadata": {},
   "outputs": [],
   "source": [
    "import pandas as pd"
   ]
  },
  {
   "cell_type": "code",
   "execution_count": 4,
   "id": "b154fd71-721a-4be1-8dc8-01507c9e63e8",
   "metadata": {},
   "outputs": [],
   "source": [
    "pd.set_option('display.max_columns', None)\n",
    "pd.set_option('display.max_rows', 100)"
   ]
  },
  {
   "cell_type": "code",
   "execution_count": null,
   "id": "3df8bd12-48fd-4322-980b-09cc2e1de988",
   "metadata": {},
   "outputs": [],
   "source": [
    "df = pd.read_csv('../../dados/dados_siape_consolidado/estagiarios/cadastro_siape_estagiarios_mes_ano-2021-2023.csv')"
   ]
  },
  {
   "cell_type": "code",
   "execution_count": null,
   "id": "6d072270-a011-4a1a-9233-f780f61a3886",
   "metadata": {},
   "outputs": [],
   "source": [
    "df.info()"
   ]
  },
  {
   "cell_type": "code",
   "execution_count": null,
   "id": "a82de78b-fd84-4088-a38f-4affdc636621",
   "metadata": {},
   "outputs": [],
   "source": [
    "df_julia = df[df['NOME'].str.contains('julia germano', case=False, na=False)]\n",
    "\n",
    "display (df_julia)"
   ]
  },
  {
   "cell_type": "code",
   "execution_count": null,
   "id": "01340b0f-eebf-4e72-8485-9425d2fe18cb",
   "metadata": {},
   "outputs": [],
   "source": [
    "display(df.value_counts(\"Id_SERVIDOR_PORTAL\").mean())"
   ]
  },
  {
   "cell_type": "code",
   "execution_count": null,
   "id": "f078d51c-7194-49e5-bd3c-04cff67f3e98",
   "metadata": {},
   "outputs": [],
   "source": [
    "df_meses_estagiados = df.groupby(['Id_SERVIDOR_PORTAL','UORG_EXERCICIO']).size().reset_index(name=\"meses_estagiados\")"
   ]
  },
  {
   "cell_type": "code",
   "execution_count": null,
   "id": "d5d63da9-1fd8-41bf-8b4e-35fd69eca26f",
   "metadata": {},
   "outputs": [],
   "source": [
    "df_meses_estagiados.groupby('UORG_EXERCICIO')['meses_estagiados'].mean().sort_values(ascending=False).head(100)"
   ]
  },
  {
   "cell_type": "code",
   "execution_count": null,
   "id": "33dda3b8-011d-4bd8-8d42-b0a5af869376",
   "metadata": {},
   "outputs": [],
   "source": [
    "df[df['NOME'] == 'ANA LETICIA FERNANDES DA SILVA']"
   ]
  },
  {
   "cell_type": "code",
   "execution_count": null,
   "id": "5a0407fc-9a96-4016-a925-38e20d8f9340",
   "metadata": {},
   "outputs": [],
   "source": []
  },
  {
   "cell_type": "code",
   "execution_count": null,
   "id": "7f0793de-ea96-4352-a21d-1bd79ceb0076",
   "metadata": {},
   "outputs": [],
   "source": [
    "df.sample(5)"
   ]
  },
  {
   "cell_type": "code",
   "execution_count": null,
   "id": "4fc64128-c906-468a-a5ba-1ebd9761e867",
   "metadata": {},
   "outputs": [],
   "source": [
    "df_agrupado = df.groupby('REGIME_JURIDICO').size().reset_index(name='Quantidade')"
   ]
  },
  {
   "cell_type": "code",
   "execution_count": null,
   "id": "f0710584-8ac0-429c-a2c6-fd8db1d9f876",
   "metadata": {},
   "outputs": [],
   "source": [
    "display(df_agrupado) \n",
    "display(df_agrupado.info())"
   ]
  },
  {
   "cell_type": "code",
   "execution_count": null,
   "id": "bd58ed45-dbc8-40c0-93f1-85637d8af0f0",
   "metadata": {},
   "outputs": [],
   "source": [
    "df.value_counts('REGIME_JURIDICO')"
   ]
  },
  {
   "cell_type": "code",
   "execution_count": null,
   "id": "930a2dfb-ffcb-4db8-af40-05b489a31d29",
   "metadata": {},
   "outputs": [],
   "source": [
    "df_filtro = df[df['REGIME_JURIDICO'].str.contains('estagio empresa', case=False)]"
   ]
  },
  {
   "cell_type": "code",
   "execution_count": null,
   "id": "9dafa408-659a-43d0-bbe7-dc3bb92c38e8",
   "metadata": {},
   "outputs": [],
   "source": [
    "display(df_filtro)"
   ]
  },
  {
   "cell_type": "code",
   "execution_count": null,
   "id": "eb6df0f3-9002-433e-b106-4d7da4681f68",
   "metadata": {},
   "outputs": [],
   "source": [
    "v = 'oi'\n",
    "display(type(df.groupby('REGIME_JURIDICO').size().reset_index()))"
   ]
  },
  {
   "cell_type": "code",
   "execution_count": null,
   "id": "9e0a8b7e-77e2-4638-8ebc-0542d2911224",
   "metadata": {},
   "outputs": [],
   "source": [
    "df[]"
   ]
  },
  {
   "cell_type": "code",
   "execution_count": null,
   "id": "5ed9611a-4eee-4fa6-8b58-3c7d553971e9",
   "metadata": {},
   "outputs": [],
   "source": [
    "lista = [1, 2, 3, 'abelha', 'mel', 1.2]\n",
    "\n",
    "for item in lista:\n",
    "    display (f'{item}: {type(item)}')\n"
   ]
  },
  {
   "cell_type": "code",
   "execution_count": null,
   "id": "39b47c3f-27ba-4220-8812-462d0f581f46",
   "metadata": {},
   "outputs": [],
   "source": [
    "lista[3]"
   ]
  },
  {
   "cell_type": "code",
   "execution_count": null,
   "id": "99b67c19-1ae5-44b4-921c-3bc05c533826",
   "metadata": {},
   "outputs": [],
   "source": [
    "import pandas as pd\n",
    "\n",
    "# Dados\n",
    "dados = {\n",
    "    'País': ['Brasil', 'Argentina', 'Estados Unidos', 'China', 'Índia'],\n",
    "    'Continente': ['América do Sul', 'América do Sul', 'América do Norte', 'Ásia', 'Ásia'],\n",
    "    'População (milhões)': [211, 45, 331, 1441, 1380]\n",
    "}\n",
    "\n",
    "# Criar DataFrame\n",
    "df = pd.DataFrame(dados)\n",
    "\n",
    "# Exibir DataFrame\n",
    "display(df)"
   ]
  },
  {
   "cell_type": "code",
   "execution_count": null,
   "id": "8eb89572-b49e-481c-a8aa-26986ddd1da9",
   "metadata": {},
   "outputs": [],
   "source": [
    "df['nova coluna'] = 'abelha'\n",
    "\n",
    "display(df)"
   ]
  },
  {
   "cell_type": "code",
   "execution_count": null,
   "id": "5f8c8431-f794-4cf8-b833-b64d8a8f7bec",
   "metadata": {},
   "outputs": [],
   "source": [
    "display (type(df['País']))\n",
    "display (type(df[['País']]))\n",
    "display (type(df[['País', 'População (milhões)']]))"
   ]
  },
  {
   "cell_type": "code",
   "execution_count": null,
   "id": "15b04adf-e0d4-4768-a7ca-6dfa558cc5d7",
   "metadata": {},
   "outputs": [],
   "source": [
    "df[[True, False, False, False, True]]"
   ]
  },
  {
   "cell_type": "markdown",
   "id": "f8e56019-1dde-45dc-b0d2-9c55f08c3c2f",
   "metadata": {},
   "source": [
    "# Passando os índices diretamente na função VERSUS passando por uma variável\n",
    "## são equivalentes\n",
    "\n",
    "vai depende ser vai usar a varíavel em outros lugares"
   ]
  },
  {
   "cell_type": "code",
   "execution_count": null,
   "id": "b74c8d07-c462-4fb2-9bd3-523216b51c37",
   "metadata": {},
   "outputs": [],
   "source": [
    "series_contem_bra = df['País'].str.contains('Bra')\n",
    "df[series_contem_bra"
   ]
  },
  {
   "cell_type": "markdown",
   "id": "2f5f1a40-daa3-4a6e-be30-50dc0aa5404d",
   "metadata": {},
   "source": [
    "## mais comum dessa forma abaixo"
   ]
  },
  {
   "cell_type": "code",
   "execution_count": null,
   "id": "2cd9e63f-1835-41a6-8e26-b199ffe5c0d7",
   "metadata": {},
   "outputs": [],
   "source": [
    "df[df['País'].str.contains('Bra')]"
   ]
  },
  {
   "cell_type": "code",
   "execution_count": null,
   "id": "9b5605d6-5e90-4c1f-a62d-c6eb53b27d21",
   "metadata": {},
   "outputs": [],
   "source": [
    "df['País'].str.contains('r')"
   ]
  },
  {
   "cell_type": "code",
   "execution_count": null,
   "id": "ccb84d39-d06a-4e22-8bce-89daa7cf61da",
   "metadata": {},
   "outputs": [],
   "source": [
    "df['População (milhões)'] > 200"
   ]
  },
  {
   "cell_type": "code",
   "execution_count": null,
   "id": "f9a7c5c0-0ce9-40c8-9dd1-f8084fe428a2",
   "metadata": {},
   "outputs": [],
   "source": [
    "df['País'].str.contains('r') & (df['População (milhões)'] > 200)"
   ]
  },
  {
   "cell_type": "code",
   "execution_count": 8,
   "id": "9da76ba5-9ab8-4946-93f2-1a702e14b69e",
   "metadata": {},
   "outputs": [
    {
     "name": "stderr",
     "output_type": "stream",
     "text": [
      "/tmp/ipykernel_4817/1311185462.py:1: DtypeWarning: Columns (2,5,7,9,34,36,37,38) have mixed types. Specify dtype option on import or set low_memory=False.\n",
      "  df_2024 = pd.read_csv('../../dados/dados_siape_bruto/descompactado/202401_Servidores_SIAPE/202401_Cadastro.csv', encoding=\"iso-8859-1\", sep=\";\")\n"
     ]
    }
   ],
   "source": [
    "df_2024 = pd.read_csv('../../dados/dados_siape_bruto/descompactado/202401_Servidores_SIAPE/202401_Cadastro.csv', encoding=\"iso-8859-1\", sep=\";\")"
   ]
  },
  {
   "cell_type": "code",
   "execution_count": 9,
   "id": "56bdd732-4075-49c6-8c42-9a867d026b4c",
   "metadata": {},
   "outputs": [],
   "source": [
    "df_estagio = df_2024[\n",
    "                    (df_2024[\"REGIME_JURIDICO\"].str.contains(\"estag\", case=False, na=False)) &\n",
    "                    (df_2024[\"UORG_EXERCICIO\"].str.contains(\"vcp\", case=False, na=False))]"
   ]
  },
  {
   "cell_type": "code",
   "execution_count": 10,
   "id": "88024813-b785-4628-ac4d-d926139d3987",
   "metadata": {},
   "outputs": [],
   "source": [
    "df_estagio2 = df_2024[df_2024[\"REGIME_JURIDICO\"].str.contains(\"estag\", case=False, na=False)]"
   ]
  },
  {
   "cell_type": "code",
   "execution_count": 11,
   "id": "c7411df3-f064-44d8-9eb4-c2a92956b312",
   "metadata": {},
   "outputs": [
    {
     "data": {
      "text/html": [
       "<div>\n",
       "<style scoped>\n",
       "    .dataframe tbody tr th:only-of-type {\n",
       "        vertical-align: middle;\n",
       "    }\n",
       "\n",
       "    .dataframe tbody tr th {\n",
       "        vertical-align: top;\n",
       "    }\n",
       "\n",
       "    .dataframe thead th {\n",
       "        text-align: right;\n",
       "    }\n",
       "</style>\n",
       "<table border=\"1\" class=\"dataframe\">\n",
       "  <thead>\n",
       "    <tr style=\"text-align: right;\">\n",
       "      <th></th>\n",
       "      <th>Id_SERVIDOR_PORTAL</th>\n",
       "      <th>NOME</th>\n",
       "      <th>CPF</th>\n",
       "      <th>MATRICULA</th>\n",
       "      <th>DESCRICAO_CARGO</th>\n",
       "      <th>CLASSE_CARGO</th>\n",
       "      <th>REFERENCIA_CARGO</th>\n",
       "      <th>PADRAO_CARGO</th>\n",
       "      <th>NIVEL_CARGO</th>\n",
       "      <th>SIGLA_FUNCAO</th>\n",
       "      <th>NIVEL_FUNCAO</th>\n",
       "      <th>FUNCAO</th>\n",
       "      <th>CODIGO_ATIVIDADE</th>\n",
       "      <th>ATIVIDADE</th>\n",
       "      <th>OPCAO_PARCIAL</th>\n",
       "      <th>COD_UORG_LOTACAO</th>\n",
       "      <th>UORG_LOTACAO</th>\n",
       "      <th>COD_ORG_LOTACAO</th>\n",
       "      <th>ORG_LOTACAO</th>\n",
       "      <th>COD_ORGSUP_LOTACAO</th>\n",
       "      <th>ORGSUP_LOTACAO</th>\n",
       "      <th>COD_UORG_EXERCICIO</th>\n",
       "      <th>UORG_EXERCICIO</th>\n",
       "      <th>COD_ORG_EXERCICIO</th>\n",
       "      <th>ORG_EXERCICIO</th>\n",
       "      <th>COD_ORGSUP_EXERCICIO</th>\n",
       "      <th>ORGSUP_EXERCICIO</th>\n",
       "      <th>COD_TIPO_VINCULO</th>\n",
       "      <th>TIPO_VINCULO</th>\n",
       "      <th>SITUACAO_VINCULO</th>\n",
       "      <th>DATA_INICIO_AFASTAMENTO</th>\n",
       "      <th>DATA_TERMINO_AFASTAMENTO</th>\n",
       "      <th>REGIME_JURIDICO</th>\n",
       "      <th>JORNADA_DE_TRABALHO</th>\n",
       "      <th>DATA_INGRESSO_CARGOFUNCAO</th>\n",
       "      <th>DATA_NOMEACAO_CARGOFUNCAO</th>\n",
       "      <th>DATA_INGRESSO_ORGAO</th>\n",
       "      <th>DOCUMENTO_INGRESSO_SERVICOPUBLICO</th>\n",
       "      <th>DATA_DIPLOMA_INGRESSO_SERVICOPUBLICO</th>\n",
       "      <th>DIPLOMA_INGRESSO_CARGOFUNCAO</th>\n",
       "      <th>DIPLOMA_INGRESSO_ORGAO</th>\n",
       "      <th>DIPLOMA_INGRESSO_SERVICOPUBLICO</th>\n",
       "      <th>UF_EXERCICIO</th>\n",
       "    </tr>\n",
       "  </thead>\n",
       "  <tbody>\n",
       "    <tr>\n",
       "      <th>115360</th>\n",
       "      <td>313634453</td>\n",
       "      <td>CAROLINE CARDOSO FERREIRA</td>\n",
       "      <td>***.873.108-**</td>\n",
       "      <td>033****</td>\n",
       "      <td>Inválido</td>\n",
       "      <td>NaN</td>\n",
       "      <td>0.0</td>\n",
       "      <td>NaN</td>\n",
       "      <td>0.0</td>\n",
       "      <td>-1</td>\n",
       "      <td>-1</td>\n",
       "      <td>Sem informação</td>\n",
       "      <td>-1</td>\n",
       "      <td>Sem informaç</td>\n",
       "      <td>NaN</td>\n",
       "      <td>-3</td>\n",
       "      <td>Inválido</td>\n",
       "      <td>17600</td>\n",
       "      <td>MINISTERIO DA FAZENDA</td>\n",
       "      <td>20101</td>\n",
       "      <td>Presidência da República</td>\n",
       "      <td>17600000001688</td>\n",
       "      <td>ALF/VCP/ALF RFB NO AER INT VIRACOPOS</td>\n",
       "      <td>17600</td>\n",
       "      <td>MINISTERIO DA FAZENDA</td>\n",
       "      <td>20101</td>\n",
       "      <td>Presidência da República</td>\n",
       "      <td>3</td>\n",
       "      <td>Outros</td>\n",
       "      <td>ESTAGIARIO SIGEPE</td>\n",
       "      <td>NaN</td>\n",
       "      <td>NaN</td>\n",
       "      <td>ESTAGIO</td>\n",
       "      <td>20 HORAS SEMANAIS</td>\n",
       "      <td>NaN</td>\n",
       "      <td>NaN</td>\n",
       "      <td>18/12/2019</td>\n",
       "      <td>NaN</td>\n",
       "      <td>NaN</td>\n",
       "      <td>NaN</td>\n",
       "      <td>PORTARIA</td>\n",
       "      <td>Inválido</td>\n",
       "      <td>-1</td>\n",
       "    </tr>\n",
       "    <tr>\n",
       "      <th>366129</th>\n",
       "      <td>312281537</td>\n",
       "      <td>JULIA GERMANO EMANUELLI</td>\n",
       "      <td>***.165.688-**</td>\n",
       "      <td>013****</td>\n",
       "      <td>Inválido</td>\n",
       "      <td>NaN</td>\n",
       "      <td>0.0</td>\n",
       "      <td>NaN</td>\n",
       "      <td>0.0</td>\n",
       "      <td>-1</td>\n",
       "      <td>-1</td>\n",
       "      <td>Sem informação</td>\n",
       "      <td>-1</td>\n",
       "      <td>Sem informaç</td>\n",
       "      <td>NaN</td>\n",
       "      <td>-3</td>\n",
       "      <td>Inválido</td>\n",
       "      <td>17600</td>\n",
       "      <td>MINISTERIO DA FAZENDA</td>\n",
       "      <td>20101</td>\n",
       "      <td>Presidência da República</td>\n",
       "      <td>17600000001688</td>\n",
       "      <td>ALF/VCP/ALF RFB NO AER INT VIRACOPOS</td>\n",
       "      <td>17600</td>\n",
       "      <td>MINISTERIO DA FAZENDA</td>\n",
       "      <td>20101</td>\n",
       "      <td>Presidência da República</td>\n",
       "      <td>3</td>\n",
       "      <td>Outros</td>\n",
       "      <td>ESTAGIARIO SIGEPE</td>\n",
       "      <td>NaN</td>\n",
       "      <td>NaN</td>\n",
       "      <td>ESTAGIO</td>\n",
       "      <td>20 HORAS SEMANAIS</td>\n",
       "      <td>NaN</td>\n",
       "      <td>NaN</td>\n",
       "      <td>18/12/2019</td>\n",
       "      <td>NaN</td>\n",
       "      <td>NaN</td>\n",
       "      <td>NaN</td>\n",
       "      <td>PORTARIA</td>\n",
       "      <td>Inválido</td>\n",
       "      <td>-1</td>\n",
       "    </tr>\n",
       "  </tbody>\n",
       "</table>\n",
       "</div>"
      ],
      "text/plain": [
       "        Id_SERVIDOR_PORTAL                       NOME             CPF  \\\n",
       "115360           313634453  CAROLINE CARDOSO FERREIRA  ***.873.108-**   \n",
       "366129           312281537    JULIA GERMANO EMANUELLI  ***.165.688-**   \n",
       "\n",
       "       MATRICULA DESCRICAO_CARGO CLASSE_CARGO  REFERENCIA_CARGO PADRAO_CARGO  \\\n",
       "115360   033****        Inválido          NaN               0.0          NaN   \n",
       "366129   013****        Inválido          NaN               0.0          NaN   \n",
       "\n",
       "        NIVEL_CARGO SIGLA_FUNCAO  NIVEL_FUNCAO          FUNCAO  \\\n",
       "115360          0.0           -1            -1  Sem informação   \n",
       "366129          0.0           -1            -1  Sem informação   \n",
       "\n",
       "        CODIGO_ATIVIDADE     ATIVIDADE OPCAO_PARCIAL  COD_UORG_LOTACAO  \\\n",
       "115360                -1  Sem informaç           NaN                -3   \n",
       "366129                -1  Sem informaç           NaN                -3   \n",
       "\n",
       "       UORG_LOTACAO  COD_ORG_LOTACAO            ORG_LOTACAO  \\\n",
       "115360     Inválido            17600  MINISTERIO DA FAZENDA   \n",
       "366129     Inválido            17600  MINISTERIO DA FAZENDA   \n",
       "\n",
       "        COD_ORGSUP_LOTACAO            ORGSUP_LOTACAO  COD_UORG_EXERCICIO  \\\n",
       "115360               20101  Presidência da República      17600000001688   \n",
       "366129               20101  Presidência da República      17600000001688   \n",
       "\n",
       "                              UORG_EXERCICIO  COD_ORG_EXERCICIO  \\\n",
       "115360  ALF/VCP/ALF RFB NO AER INT VIRACOPOS              17600   \n",
       "366129  ALF/VCP/ALF RFB NO AER INT VIRACOPOS              17600   \n",
       "\n",
       "                ORG_EXERCICIO  COD_ORGSUP_EXERCICIO          ORGSUP_EXERCICIO  \\\n",
       "115360  MINISTERIO DA FAZENDA                 20101  Presidência da República   \n",
       "366129  MINISTERIO DA FAZENDA                 20101  Presidência da República   \n",
       "\n",
       "        COD_TIPO_VINCULO TIPO_VINCULO   SITUACAO_VINCULO  \\\n",
       "115360                 3       Outros  ESTAGIARIO SIGEPE   \n",
       "366129                 3       Outros  ESTAGIARIO SIGEPE   \n",
       "\n",
       "        DATA_INICIO_AFASTAMENTO  DATA_TERMINO_AFASTAMENTO REGIME_JURIDICO  \\\n",
       "115360                      NaN                       NaN         ESTAGIO   \n",
       "366129                      NaN                       NaN         ESTAGIO   \n",
       "\n",
       "       JORNADA_DE_TRABALHO DATA_INGRESSO_CARGOFUNCAO  \\\n",
       "115360   20 HORAS SEMANAIS                       NaN   \n",
       "366129   20 HORAS SEMANAIS                       NaN   \n",
       "\n",
       "        DATA_NOMEACAO_CARGOFUNCAO DATA_INGRESSO_ORGAO  \\\n",
       "115360                        NaN          18/12/2019   \n",
       "366129                        NaN          18/12/2019   \n",
       "\n",
       "       DOCUMENTO_INGRESSO_SERVICOPUBLICO DATA_DIPLOMA_INGRESSO_SERVICOPUBLICO  \\\n",
       "115360                               NaN                                  NaN   \n",
       "366129                               NaN                                  NaN   \n",
       "\n",
       "        DIPLOMA_INGRESSO_CARGOFUNCAO DIPLOMA_INGRESSO_ORGAO  \\\n",
       "115360                           NaN               PORTARIA   \n",
       "366129                           NaN               PORTARIA   \n",
       "\n",
       "       DIPLOMA_INGRESSO_SERVICOPUBLICO  UF_EXERCICIO  \n",
       "115360                        Inválido            -1  \n",
       "366129                        Inválido            -1  "
      ]
     },
     "metadata": {},
     "output_type": "display_data"
    }
   ],
   "source": [
    "display(df_estagio)"
   ]
  }
 ],
 "metadata": {
  "kernelspec": {
   "display_name": "Python 3 (ipykernel)",
   "language": "python",
   "name": "python3"
  },
  "language_info": {
   "codemirror_mode": {
    "name": "ipython",
    "version": 3
   },
   "file_extension": ".py",
   "mimetype": "text/x-python",
   "name": "python",
   "nbconvert_exporter": "python",
   "pygments_lexer": "ipython3",
   "version": "3.10.12"
  }
 },
 "nbformat": 4,
 "nbformat_minor": 5
}

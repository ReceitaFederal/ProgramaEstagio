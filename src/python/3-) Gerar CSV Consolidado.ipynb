{
 "cells": [
  {
   "cell_type": "code",
   "execution_count": 1,
   "id": "4fcf5d5b-0297-4b0c-b9f6-74df8fec13fe",
   "metadata": {},
   "outputs": [],
   "source": [
    "import pandas as pd\n",
    "import os"
   ]
  },
  {
   "cell_type": "code",
   "execution_count": null,
   "id": "b6b3d1fc-c859-4476-86cb-d924ead099af",
   "metadata": {},
   "outputs": [],
   "source": [
    "\n",
    "def gerar_totais (arquivo_csv_cadastro):\n",
    "\n",
    "    display (f'Processando arquivo: {arquivo_csv_cadastro}')\n",
    "    \n",
    "    indice_ultimo_separador = arquivo_csv_cadastro.rfind(\"/\")\n",
    "    nome_arquivo = arquivo_csv_cadastro [indice_ultimo_separador+1:-4] \n",
    "\n",
    "    ano = int(nome_arquivo[:4])\n",
    "    mes = int(nome_arquivo[4:6])        \n",
    "    \n",
    "    df_cadastro = pd.read_csv(arquivo_csv_cadastro, encoding='iso-8859-1', sep=';')\n",
    "\n",
    "    df_contagem_combinacoes = df_cadastro.groupby(['ORGSUP_EXERCICIO', 'ORG_EXERCICIO', 'UORG_EXERCICIO', 'ORGSUP_LOTACAO', 'ORG_LOTACAO', 'UORG_LOTACAO', 'REGIME_JURIDICO', 'DESCRICAO_CARGO']).size().reset_index(name='Contagem')    \n",
    "\n",
    "    df_contagem_combinacoes['ano'] = ano\n",
    "    df_contagem_combinacoes['mes'] = mes\n",
    "    \n",
    "    return df_contagem_combinacoes\n",
    "    \n",
    "    "
   ]
  },
  {
   "cell_type": "code",
   "execution_count": null,
   "id": "8efac2c1-bd29-4fb4-a52e-17b9c307677c",
   "metadata": {},
   "outputs": [],
   "source": [
    "\n",
    "TAMANHO_BLOCO = 12\n",
    "\n",
    "def percorre_diretorio_CSV(diretorio, destino_csv):\n",
    "\n",
    "    #Declarando variáveis globais para o escopo da função percorre_diretorio_CSV\n",
    "    #elas serão usadas na função salvar_e_reiniciar_parte\n",
    "    global numero_parte\n",
    "    global contador_arquivos_processados    \n",
    "    global df_consolidado\n",
    "\n",
    "    \n",
    "    #Variáveis para calcular tamanho da parte    \n",
    "    numero_parte = 0        \n",
    "    contador_arquivos_processados = 0\n",
    "\n",
    "    \n",
    "    #Dataframe para consolidação\n",
    "    df_consolidado = pd.DataFrame()\n",
    "\n",
    "    \n",
    "    \n",
    "    def salvar_e_reiniciar_parte():\n",
    "\n",
    "        #Referenciando as variáveis globais criadas pela função pai percorre_diretorio_CSV\n",
    "        global numero_parte\n",
    "        global contador_arquivos_processados\n",
    "        global df_consolidado        \n",
    "        \n",
    "        numero_parte += 1\n",
    "            \n",
    "        #colocar número da parte no nome do CSV consolidado       \n",
    "        nome_destino_csv = f'{destino_csv[:-4]}_parte_{numero_parte}{destino_csv[-4:]}'\n",
    "\n",
    "        display (f'*********************** Salvando arquivo de parte: {nome_destino_csv}')\n",
    "        \n",
    "        #Salva o bloco atual\n",
    "        df_consolidado.to_csv(nome_destino_csv, index=False)\n",
    "        \n",
    "        #Reinicia o Dataframe\n",
    "        df_consolidado = pd.DataFrame()\n",
    "\n",
    "        contador_arquivos_processados = 0\n",
    "\n",
    "    \n",
    "    \n",
    "    # Lista todos os arquivos no diretório\n",
    "    arquivos = os.listdir(diretorio)    \n",
    "    \n",
    "    # Filtra apenas os subdiretorios, excluindo arquivos\n",
    "    subdiretorios = [arquivo for arquivo in arquivos if os.path.isdir(os.path.join(diretorio, arquivo))]\n",
    "    \n",
    "    # Ordena os subdiretórios alfabeticamente\n",
    "    subdiretorios_ordenados = sorted(subdiretorios)\n",
    "    \n",
    "    \n",
    "    # Itera a lista de subdiretorios\n",
    "    for subdiretorio in subdiretorios_ordenados:\n",
    "\n",
    "        contador_arquivos_processados += 1\n",
    "        \n",
    "        caminho_completo = os.path.join(diretorio, subdiretorio)\n",
    "        \n",
    "        arquivos_subdiretorio = os.listdir(caminho_completo) \n",
    "\n",
    "        lista_arquivo_cadastro = [arquivo for arquivo in arquivos_subdiretorio if arquivo.lower().find(\"cadastro\") != -1]\n",
    "\n",
    "        if len(lista_arquivo_cadastro) == 1:\n",
    "            \n",
    "            arquivo_cadastro = lista_arquivo_cadastro[0]\n",
    "\n",
    "            caminho_completo_arquivo_cadastro = os.path.join(caminho_completo, arquivo_cadastro)                        \n",
    "\n",
    "            df_total_mes = gerar_totais (caminho_completo_arquivo_cadastro)\n",
    "\n",
    "            # Concatena o DataFrame atual com o DataFrame consolidado\n",
    "            df_consolidado = pd.concat([df_consolidado, df_total_mes], ignore_index=True)\n",
    "        \n",
    "        else:\n",
    "\n",
    "            display (f'ATENÇÃO: Mais ou nenhum arquivo cadastro no subdiretório {caminho_completo}')\n",
    "\n",
    "        \n",
    "        #Se formou uma parte com TAMANHO_BLOCO arquivos a serem salvos\n",
    "        if contador_arquivos_processados >= TAMANHO_BLOCO:\n",
    "\n",
    "            salvar_e_reiniciar_parte()\n",
    "\n",
    "    \n",
    "    #Se existe um resto de arquivos que ainda não foram salvos em uma parte\n",
    "    if contador_arquivos_processados > 0:\n",
    "\n",
    "            salvar_e_reiniciar_parte()\n",
    "    \n",
    "        "
   ]
  },
  {
   "cell_type": "code",
   "execution_count": null,
   "id": "f6feb65d-454b-4e4c-8a27-1bcbdf440e3c",
   "metadata": {},
   "outputs": [],
   "source": [
    "percorre_diretorio_CSV(\"../../dados/dados_siape_bruto/descompactado\", \"../../dados/cadastro_siape_consolidado_orgao_mes_ano.csv\")"
   ]
  },
  {
   "cell_type": "code",
   "execution_count": 2,
   "id": "dca753a7-0523-48cf-888f-cfca1c05d55a",
   "metadata": {},
   "outputs": [],
   "source": [
    "def percorre_diretorio_partes(diretorio, destino_csv):\n",
    "    \n",
    "    #Dataframe para consolidação\n",
    "    df_consolidado_total= pd.DataFrame()\n",
    "\n",
    "    # Lista todos os arquivos no diretório    \n",
    "    arquivos_partes = os.listdir(diretorio) \n",
    "    arquivos_partes = [arquivo for arquivo in arquivos_partes if arquivo.lower().find(\"parte\") != -1]\n",
    "\n",
    "    # Itera a lista de arquivos\n",
    "    for arquivo_parte in arquivos_partes:\n",
    "                \n",
    "        caminho_completo_arquivo_parte = os.path.join(diretorio, arquivo_parte) \n",
    "\n",
    "        display (f'Processando arquivo: {arquivo_parte}')\n",
    "        \n",
    "        #df_consolidado = pd.read_csv(caminho_completo_arquivo_parte, encoding='iso-8859-1', sep=';')\n",
    "        df_consolidado = pd.read_csv(caminho_completo_arquivo_parte)\n",
    "\n",
    "        # Concatena o DataFrame atual com o DataFrame consolidado\n",
    "        df_consolidado_total = pd.concat([df_consolidado_total, df_consolidado], ignore_index=True)\n",
    "                \n",
    "\n",
    "    display (f'Vai salvar....')\n",
    "\n",
    "    #Salva o arquivo consolidado com todos os anos\n",
    "    df_consolidado_total.to_csv(destino_csv, index=False)\n",
    "\n",
    "\n",
    "    display (f'Finalizado!')"
   ]
  },
  {
   "cell_type": "code",
   "execution_count": null,
   "id": "436ed67d-d273-4c36-af6d-04d9c621057f",
   "metadata": {},
   "outputs": [
    {
     "data": {
      "text/plain": [
       "'Processando arquivo: cadastro_siape_consolidado_orgao_mes_ano_parte_11.csv'"
      ]
     },
     "metadata": {},
     "output_type": "display_data"
    },
    {
     "data": {
      "text/plain": [
       "'Processando arquivo: cadastro_siape_consolidado_orgao_mes_ano_parte_5.csv'"
      ]
     },
     "metadata": {},
     "output_type": "display_data"
    },
    {
     "data": {
      "text/plain": [
       "'Processando arquivo: cadastro_siape_consolidado_orgao_mes_ano_parte_2.csv'"
      ]
     },
     "metadata": {},
     "output_type": "display_data"
    },
    {
     "data": {
      "text/plain": [
       "'Processando arquivo: cadastro_siape_consolidado_orgao_mes_ano_parte_4.csv'"
      ]
     },
     "metadata": {},
     "output_type": "display_data"
    },
    {
     "data": {
      "text/plain": [
       "'Processando arquivo: cadastro_siape_consolidado_orgao_mes_ano_parte_8.csv'"
      ]
     },
     "metadata": {},
     "output_type": "display_data"
    },
    {
     "data": {
      "text/plain": [
       "'Processando arquivo: cadastro_siape_consolidado_orgao_mes_ano_parte_6.csv'"
      ]
     },
     "metadata": {},
     "output_type": "display_data"
    },
    {
     "data": {
      "text/plain": [
       "'Processando arquivo: cadastro_siape_consolidado_orgao_mes_ano_parte_7.csv'"
      ]
     },
     "metadata": {},
     "output_type": "display_data"
    },
    {
     "data": {
      "text/plain": [
       "'Processando arquivo: cadastro_siape_consolidado_orgao_mes_ano_parte_3.csv'"
      ]
     },
     "metadata": {},
     "output_type": "display_data"
    },
    {
     "data": {
      "text/plain": [
       "'Processando arquivo: cadastro_siape_consolidado_orgao_mes_ano_parte_10.csv'"
      ]
     },
     "metadata": {},
     "output_type": "display_data"
    },
    {
     "data": {
      "text/plain": [
       "'Processando arquivo: cadastro_siape_consolidado_orgao_mes_ano_parte_9.csv'"
      ]
     },
     "metadata": {},
     "output_type": "display_data"
    },
    {
     "data": {
      "text/plain": [
       "'Processando arquivo: cadastro_siape_consolidado_orgao_mes_ano_parte_1.csv'"
      ]
     },
     "metadata": {},
     "output_type": "display_data"
    },
    {
     "data": {
      "text/plain": [
       "'Vai salvar....'"
      ]
     },
     "metadata": {},
     "output_type": "display_data"
    }
   ],
   "source": [
    "percorre_diretorio_partes(\"../../dados\", \"../../dados/cadastro_siape_consolidado_completo.csv\")"
   ]
  }
 ],
 "metadata": {
  "kernelspec": {
   "display_name": "Python 3 (ipykernel)",
   "language": "python",
   "name": "python3"
  },
  "language_info": {
   "codemirror_mode": {
    "name": "ipython",
    "version": 3
   },
   "file_extension": ".py",
   "mimetype": "text/x-python",
   "name": "python",
   "nbconvert_exporter": "python",
   "pygments_lexer": "ipython3",
   "version": "3.10.12"
  }
 },
 "nbformat": 4,
 "nbformat_minor": 5
}

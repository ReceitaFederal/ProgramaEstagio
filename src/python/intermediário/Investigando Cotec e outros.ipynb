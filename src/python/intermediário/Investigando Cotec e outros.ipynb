{
 "cells": [
  {
   "cell_type": "code",
   "execution_count": null,
   "id": "96099bd4-63f0-426a-8f1f-329dad5707c6",
   "metadata": {},
   "outputs": [],
   "source": [
    "import pandas as pd"
   ]
  },
  {
   "cell_type": "code",
   "execution_count": null,
   "id": "45b7d7c2-5b3e-441a-b89d-6708af852032",
   "metadata": {},
   "outputs": [],
   "source": [
    "# Especifique o caminho para o seu arquivo CSV\n",
    "caminho_arquivo = '../../dados/dados_siape_bruto/descompactado/202311_Servidores_SIAPE/202311_Cadastro.csv'\n",
    "df = pd.read_csv(caminho_arquivo, encoding='iso-8859-1', sep=';')\n"
   ]
  },
  {
   "cell_type": "code",
   "execution_count": null,
   "id": "9ec7b7ec-21a1-4f56-a6d4-87272929a988",
   "metadata": {},
   "outputs": [],
   "source": [
    "pd.set_option('display.max_columns', None)\n",
    "pd.set_option('display.max_rows', None)"
   ]
  },
  {
   "cell_type": "code",
   "execution_count": null,
   "id": "006212e8-1282-4360-a87a-53a823836e75",
   "metadata": {},
   "outputs": [],
   "source": [
    "df.info()"
   ]
  },
  {
   "cell_type": "code",
   "execution_count": null,
   "id": "7063b689-34bb-4f14-a2c3-7b98cac5d145",
   "metadata": {},
   "outputs": [],
   "source": [
    "df[df['NOME'].str.contains('bonafe', na=False, case=False)]"
   ]
  },
  {
   "cell_type": "code",
   "execution_count": null,
   "id": "b1b1e19a-a074-49d1-8dfd-97355d0c8794",
   "metadata": {},
   "outputs": [],
   "source": [
    "df[df['REGIME_JURIDICO'].str.contains('estagio', na=False, case=False)]"
   ]
  },
  {
   "cell_type": "code",
   "execution_count": null,
   "id": "34f9a98e-3dc4-4eaa-8ce0-4662cc9dad95",
   "metadata": {},
   "outputs": [],
   "source": [
    "# Especifique o caminho para o seu arquivo CSV\n",
    "caminho_arquivo = '../../dados/dados_siape_bruto/descompactado/202310_Servidores_SIAPE/202310_Cadastro.csv'\n",
    "df_2023 = pd.read_csv(caminho_arquivo, encoding='iso-8859-1', sep=';')"
   ]
  },
  {
   "cell_type": "code",
   "execution_count": null,
   "id": "4e10583f-ecd4-4612-a4b4-7a18649f3a16",
   "metadata": {},
   "outputs": [],
   "source": [
    "df_2023[(df_2023['NOME'].str.contains('julia germano', na=False, case=False) & \n",
    "    df_2023['REGIME_JURIDICO'].str.contains('estagio', na=False, case=False)) |\n",
    "    df_2023['NOME'].str.contains('fernando augusto sampaio', na=False, case=False)]"
   ]
  },
  {
   "cell_type": "code",
   "execution_count": null,
   "id": "e16e4901-53ca-42f8-b76a-711623411a4c",
   "metadata": {},
   "outputs": [],
   "source": [
    "df_2023['REGIME_JURIDICO'].str.contains('estagio', na=False, case=False)"
   ]
  },
  {
   "cell_type": "code",
   "execution_count": null,
   "id": "58a39aab-b8a5-4ec7-ac9b-9c46e8703e5c",
   "metadata": {},
   "outputs": [],
   "source": [
    "df_2023['REGIME_JURIDICO'].unique()"
   ]
  },
  {
   "cell_type": "code",
   "execution_count": null,
   "id": "15c705ee-a2d4-4bcb-afa5-fb220953dca5",
   "metadata": {},
   "outputs": [],
   "source": [
    "df_cotec = df[df['UORG_EXERCICIO'].str.contains('COTEC')]"
   ]
  },
  {
   "cell_type": "code",
   "execution_count": null,
   "id": "7168266b-34e1-438e-b696-ed12864c9273",
   "metadata": {},
   "outputs": [],
   "source": [
    "df[df['UORG_EXERCICIO'].str.contains('VCP') & df['REGIME_JURIDICO'].str.contains('ESTAG', case=False, na=False)]"
   ]
  },
  {
   "cell_type": "code",
   "execution_count": null,
   "id": "66c3e6a0-8af5-4eab-ac70-4936984cabd4",
   "metadata": {},
   "outputs": [],
   "source": [
    "df_auditores_analistas = pd.concat(\n",
    "    [df[df['DESCRICAO_CARGO'].str.contains('ANALISTA TRIBUTARIO REC FEDERAL BRASIL', case=False, na=False)],\n",
    "    df[df['DESCRICAO_CARGO'].str.contains('RECEITA FEDERAL BRASIL', case=False, na=False)]], ignore_index=True)"
   ]
  },
  {
   "cell_type": "code",
   "execution_count": null,
   "id": "8f32ef02-1a6a-47e3-82e1-6d4f720e7dec",
   "metadata": {},
   "outputs": [],
   "source": [
    "df_auditores_analistas['NOME'].count()"
   ]
  },
  {
   "cell_type": "code",
   "execution_count": null,
   "id": "2e4d633d-49f1-40e1-95cf-c85cb2509aa1",
   "metadata": {},
   "outputs": [],
   "source": [
    "df[\n",
    "    df['DESCRICAO_CARGO'].str.contains('ANALISTA TRIBUTARIO REC FEDERAL BRASIL', case=False, na=False) |\n",
    "    df['DESCRICAO_CARGO'].str.contains('RECEITA FEDERAL BRASIL', case=False, na=False)]['NOME'].count()"
   ]
  },
  {
   "cell_type": "code",
   "execution_count": null,
   "id": "dc699350-06c1-4921-9c2a-4133b08d18bf",
   "metadata": {},
   "outputs": [],
   "source": [
    "df[df['DESCRICAO_CARGO'].str.contains('federal ', case=False, na=False)].value_counts(\"DESCRICAO_CARGO\")"
   ]
  },
  {
   "cell_type": "code",
   "execution_count": null,
   "id": "81ac633e-010f-4d8a-9a99-c1e33a225d02",
   "metadata": {},
   "outputs": [],
   "source": [
    "df[df['UORG_EXERCICIO'].str.contains('COTEC') & df['ORG_LOTACAO'].str.contains('MINISTERIO DA FAZENDA')].count()"
   ]
  },
  {
   "cell_type": "code",
   "execution_count": null,
   "id": "0d34d71c-b8cf-463b-885c-12030d42bda9",
   "metadata": {},
   "outputs": [],
   "source": [
    "df[df['UORG_EXERCICIO'].str.contains('COTEC')]['ORG_LOTACAO'].value_counts()"
   ]
  },
  {
   "cell_type": "code",
   "execution_count": null,
   "id": "c83fa0ec-3381-480b-bfc8-06a8837b96db",
   "metadata": {},
   "outputs": [],
   "source": [
    "display(df_cotec)"
   ]
  }
 ],
 "metadata": {
  "kernelspec": {
   "display_name": "Python 3 (ipykernel)",
   "language": "python",
   "name": "python3"
  },
  "language_info": {
   "codemirror_mode": {
    "name": "ipython",
    "version": 3
   },
   "file_extension": ".py",
   "mimetype": "text/x-python",
   "name": "python",
   "nbconvert_exporter": "python",
   "pygments_lexer": "ipython3",
   "version": "3.10.12"
  }
 },
 "nbformat": 4,
 "nbformat_minor": 5
}

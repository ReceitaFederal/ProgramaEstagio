{
 "cells": [
  {
   "cell_type": "code",
   "execution_count": null,
   "id": "7c02ffa3",
   "metadata": {},
   "outputs": [],
   "source": [
    "import requests\n",
    "import zipfile\n",
    "from io import BytesIO\n",
    "\n",
    "# Diretório de destino para a extração\n",
    "diretorio_destino = \"./dados\"\n",
    "\n",
    "# Loop de janeiro de 2013 até outubro de 2023\n",
    "for ano in range(2013, 2024):\n",
    "    for mes in range(1, 11):  # Mês 1 a 10 (janeiro a outubro)\n",
    "        # Formate o ano e mês para a URL\n",
    "        ano_mes_str = f'{ano}{mes:02}'  # Adiciona um zero à esquerda se o mês for < 10\n",
    "\n",
    "        # Construa a URL com base no ano e mês\n",
    "        url = f'https://dadosabertos-download.cgu.gov.br/PortalDaTransparencia/saida/servidores/{ano_mes_str}_Servidores_SIAPE.zip'\n",
    "\n",
    "        # Faça a solicitação HTTP para baixar o arquivo\n",
    "        response = requests.get(url)\n",
    "\n",
    "        if response.status_code == 200:\n",
    "            # Crie um objeto BytesIO a partir dos dados baixados\n",
    "            zip_data = BytesIO(response.content)\n",
    "\n",
    "            # Descompacte o arquivo ZIP\n",
    "            with zipfile.ZipFile(zip_data, \"r\") as zip_ref:\n",
    "                # Especifique o diretório de destino para a extração\n",
    "                zip_ref.extractall(f\"{diretorio_destino}/{ano_mes_str}\")\n",
    "        else:\n",
    "            print(f\"Falha ao baixar o arquivo ZIP para {ano_mes_str}\")\n"
   ]
  },
  {
   "cell_type": "code",
   "execution_count": null,
   "id": "3da4bce0",
   "metadata": {},
   "outputs": [],
   "source": []
  }
 ],
 "metadata": {
  "kernelspec": {
   "display_name": "Python 3 (ipykernel)",
   "language": "python",
   "name": "python3"
  },
  "language_info": {
   "codemirror_mode": {
    "name": "ipython",
    "version": 3
   },
   "file_extension": ".py",
   "mimetype": "text/x-python",
   "name": "python",
   "nbconvert_exporter": "python",
   "pygments_lexer": "ipython3",
   "version": "3.10.12"
  }
 },
 "nbformat": 4,
 "nbformat_minor": 5
}

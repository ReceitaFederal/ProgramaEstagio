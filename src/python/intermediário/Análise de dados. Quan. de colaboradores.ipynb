{
 "cells": [
  {
   "cell_type": "code",
   "execution_count": null,
   "id": "eb288356-5219-497b-8401-bdd935f72d6e",
   "metadata": {},
   "outputs": [],
   "source": [
    "import pandas as pd\n",
    "from IPython.display import displayimport\n",
    "import plotly.express as px"
   ]
  },
  {
   "cell_type": "code",
   "execution_count": null,
   "id": "65898120-279c-450f-84dd-95f97d7185e2",
   "metadata": {},
   "outputs": [],
   "source": [
    "pd.set_option('display.max_columns', None)\n",
    "pd.set_option('display.max_rows', None)"
   ]
  },
  {
   "cell_type": "code",
   "execution_count": null,
   "id": "59bbabba-599d-4c77-be6a-374675f4b19a",
   "metadata": {},
   "outputs": [],
   "source": [
    "# Especifique o caminho para o seu arquivo CSV\n",
    "caminho_arquivo = '../../dados/dados_siape_consolidado/organizacao_superior/cadastro_siape_consolidado_organizacao_superior_mes_ano_completo.csv'\n",
    "\n",
    "df = pd.read_csv(caminho_arquivo)"
   ]
  },
  {
   "cell_type": "markdown",
   "id": "7fa2bdb4-61c4-49e5-a599-e13c1a6c2cfc",
   "metadata": {},
   "source": [
    "# Contagem dos servidores por órgão ao longo dos anos"
   ]
  },
  {
   "cell_type": "code",
   "execution_count": null,
   "id": "b1438e19-7ed5-49c0-ae4a-08ac6c820004",
   "metadata": {},
   "outputs": [],
   "source": [
    "# Filtrar apenas os registros onde 'REGIME JURIDICO UNICO' está presente na coluna 'REGIME_JURIDICO'\n",
    "df_servidores = df[df['REGIME_JURIDICO'].str.lower().str.contains('regime juridico unico', case=False, na=False)]\n",
    "\n",
    "df_contagem_combinacoes = df_servidores.groupby(['ORGSUP_EXERCICIO','REGIME_JURIDICO', 'ano']).size().reset_index(name='Contagem')\n",
    "\n",
    "# Agrupe pelo REGIME_JURIDICO e ordene dentro de cada grupo pela coluna ESTAGIO\n",
    "df_agrupado_ordenado = df_contagem_combinacoes.sort_values(by=['ORGSUP_EXERCICIO', 'REGIME_JURIDICO', 'ano'])\n",
    "\n",
    "'''display(df_agrupado_ordenado.head(10))'''\n",
    "\n",
    "# Criar gráfico interativo de linha usando o Plotly Express\n",
    "fig = px.line(df_agrupado_ordenado, x='ano', y='Contagem', color='ORGSUP_EXERCICIO', markers=True, line_shape='linear',\n",
    "              title='Contagem dos servidores por órgão ao longo dos anos')\n",
    "\n",
    "fig.update_layout(width=1000, height=750)\n",
    "\n",
    "# Exibir gráfico\n",
    "fig.show()"
   ]
  },
  {
   "cell_type": "markdown",
   "id": "2566bc9f-9107-42d3-9d51-f99c9f394554",
   "metadata": {},
   "source": [
    "# Contagem de servidores nos 5 órgãos escolhidos ao longo dos anos"
   ]
  },
  {
   "cell_type": "code",
   "execution_count": null,
   "id": "3e742824-e9d7-483e-874b-12c11bcb78bc",
   "metadata": {},
   "outputs": [],
   "source": [
    "# Filtrar apenas os registros onde 'REGIME JURIDICO UNICO' está presente na coluna 'REGIME_JURIDICO'\n",
    "df_servidores = df[df['REGIME_JURIDICO'].str.lower().str.contains('regime juridico unico', case=False, na=False)]\n",
    "\n",
    "# Lista de palavras-chave para filtrar as empresas\n",
    "palavras_chave_empresas = ['economia', 'fazenda', 'educação', 'saúde', 'pres']\n",
    "\n",
    "# Filtrar DataFrame para incluir apenas empresas que contenham as palavras-chave\n",
    "df_orgaos_selecionados = df_servidores[df_servidores['ORGSUP_EXERCICIO'].str.lower().str.contains('|'.join(palavras_chave_empresas), case=False, na=False)]\n",
    "\n",
    "# Agrupar e contar por empresa, regime jurídico e ano\n",
    "df_contagem_combinacoes = df_orgaos_selecionados.groupby(['ORGSUP_EXERCICIO', 'REGIME_JURIDICO', 'ano']).size().reset_index(name='Contagem')\n",
    "\n",
    "# Criar gráfico interativo de linha usando o Plotly Express\n",
    "fig = px.line(df_contagem_combinacoes, x='ano', y='Contagem', color='ORGSUP_EXERCICIO',\n",
    "              markers=True, line_shape='linear',\n",
    "              title='Contagem de servidores nos 5 órgãos escolhidos ao longo dos anos')\n",
    "\n",
    "fig.update_layout(width=1000, height=750)\n",
    "\n",
    "# Exibir gráfico\n",
    "fig.show()\n"
   ]
  },
  {
   "cell_type": "markdown",
   "id": "9f550a1e-1c29-4239-91ad-ad5bb6df6a83",
   "metadata": {},
   "source": [
    "# Contagem de estagiários em todos os órgãos ao longo dos anos"
   ]
  },
  {
   "cell_type": "code",
   "execution_count": null,
   "id": "b8817547-f22f-4a0b-bf98-a620fe6c1097",
   "metadata": {},
   "outputs": [],
   "source": [
    "# Filtrar apenas os registros onde 'ESTAGIO' está presente na coluna 'REGIME_JURIDICO'\n",
    "df_estagio = df[df['REGIME_JURIDICO'].str.lower().str.contains('est', case=False, na=False)]\n",
    "\n",
    "df_contagem_combinacoes = df_estagio.groupby(['ORGSUP_EXERCICIO','REGIME_JURIDICO', 'ano']).size().reset_index(name='Contagem')\n",
    "\n",
    "# Agrupe pelo REGIME_JURIDICO e ordene dentro de cada grupo pela coluna ESTAGIO\n",
    "df_agrupado_ordenado = df_contagem_combinacoes.sort_values(by=['ORGSUP_EXERCICIO', 'REGIME_JURIDICO', 'ano'])\n",
    "\n",
    "'''display(df_agrupado_ordenado.head(10))'''\n",
    "\n",
    "# Criar gráfico interativo de linha usando o Plotly Express\n",
    "fig = px.line(df_agrupado_ordenado, x='ano', y='Contagem', color='ORGSUP_EXERCICIO', markers=True, line_shape='linear',\n",
    "              title='Contagem de estagiários em todos os órgãos ao longo dos anos')\n",
    "\n",
    "fig.update_layout(width=1000, height=750)\n",
    "\n",
    "# Exibir gráfico\n",
    "fig.show()"
   ]
  },
  {
   "cell_type": "markdown",
   "id": "a49956e2-d17e-4de2-bccb-69b74748b4fb",
   "metadata": {},
   "source": [
    "# Contagem de estagiários nos 5 órgãos escolhidos ao longo dos anos"
   ]
  },
  {
   "cell_type": "code",
   "execution_count": null,
   "id": "d4a8e6d7-7041-465e-affc-f4b7cba9c523",
   "metadata": {},
   "outputs": [],
   "source": [
    "# Filtrar apenas os registros onde 'ESTAGIO' está presente na coluna 'REGIME_JURIDICO'\n",
    "df_estagio = df[df['REGIME_JURIDICO'].str.lower().str.contains('est', case=False, na=False)]\n",
    "\n",
    "# Lista de palavras-chave para filtrar as empresas\n",
    "palavras_chave_empresas = ['economia', 'fazenda', 'educação', 'saúde', 'pres']\n",
    "\n",
    "# Filtrar DataFrame para incluir apenas empresas que contenham as palavras-chave\n",
    "df_orgaos_selecionados = df_estagio[df_estagio['ORGSUP_EXERCICIO'].str.lower().str.contains('|'.join(palavras_chave_empresas), case=False, na=False)]\n",
    "\n",
    "# Agrupar e contar por empresa, regime jurídico e ano\n",
    "df_contagem_combinacoes = df_orgaos_selecionados.groupby(['ORGSUP_EXERCICIO', 'REGIME_JURIDICO', 'ano']).size().reset_index(name='Contagem')\n",
    "\n",
    "# Criar gráfico interativo de linha usando o Plotly Express\n",
    "fig = px.line(df_contagem_combinacoes, x='ano', y='Contagem', color='ORGSUP_EXERCICIO',\n",
    "              markers=True, line_shape='linear',\n",
    "              title='Contagem de estagiários nos 5 órgãos escolhidos ao longo dos anos')\n",
    "\n",
    "fig.update_layout(width=1000, height=750)\n",
    "\n",
    "# Exibir gráfico\n",
    "fig.show()\n"
   ]
  },
  {
   "cell_type": "code",
   "execution_count": null,
   "id": "e22c39a8-36e9-42e5-a5de-65444c108df9",
   "metadata": {},
   "outputs": [],
   "source": [
    "# Filtrar apenas os registros onde 'ESTAGIO' está presente na coluna 'REGIME_JURIDICO'\n",
    "df_estagio = df[df['REGIME_JURIDICO'].str.lower().str.contains('est', case=False, na=False)]\n",
    "\n",
    "# Filtrar apenas os registros onde 'REGIME JURIDICO UNICO' está presente na coluna 'REGIME_JURIDICO'\n",
    "df_servidores = df[df['REGIME_JURIDICO'].str.lower().str.contains('regime juridico unico', case=False, na=False)]\n",
    "\n",
    "# Lista de palavras-chave para filtrar as empresas\n",
    "palavras_chave_empresas = ['economia', 'fazenda', 'educação', 'saúde', 'pres']\n",
    "\n",
    "# Filtrar DataFrame para incluir apenas empresas que contenham as palavras-chave\n",
    "df_orgaos_selecionados_estagio = df_estagio[df_estagio['ORGSUP_EXERCICIO'].str.lower().str.contains('|'.join(palavras_chave_empresas), case=False, na=False)]\n",
    "df_orgaos_selecionados_servidores = df_servidores[df_servidores['ORGSUP_EXERCICIO'].str.lower().str.contains('|'.join(palavras_chave_empresas), case=False, na=False)]\n",
    "\n",
    "# Agrupar e contar por ano para estagiários\n",
    "df_contagem_estagio = df_orgaos_selecionados_estagio.groupby(['ano']).size().reset_index(name='Contagem_Estagio')\n",
    "\n",
    "# Agrupar e contar por ano para servidores\n",
    "df_contagem_servidores = df_orgaos_selecionados_servidores.groupby(['ano']).size().reset_index(name='Contagem_Servidores')\n",
    "\n",
    "# Mesclar os DataFrames de estagiários e servidores\n",
    "df_contagem_total = pd.merge(df_contagem_estagio, df_contagem_servidores, on='ano', how='outer').fillna(0)\n",
    "\n",
    "# Criar gráfico de barras usando o Plotly Express\n",
    "fig = px.bar(df_contagem_total, x='ano', y=['Contagem_Estagio', 'Contagem_Servidores'],\n",
    "             labels={'value': 'Quantidade', 'variable': 'Tipo'},\n",
    "             title='Comparação da Quantidade Total de Estagiários e Servidores nos 5 órgãos escolhidos ao longo dos anos',\n",
    "             color_discrete_sequence=['blue', 'orange'])\n",
    "\n",
    "# Ajustar configuração do eixo X para mostrar todos os anos\n",
    "fig.update_layout(xaxis=dict(tickmode='linear', dtick=1))\n",
    "\n",
    "fig.update_layout(width=1000, height=750)\n",
    "\n",
    "# Exibir gráfico\n",
    "fig.show()\n"
   ]
  },
  {
   "cell_type": "markdown",
   "id": "d863970c-fe58-489f-9ea8-23d4025b94d3",
   "metadata": {},
   "source": [
    "# Comparação servidores X estagiários nos 5 órgãos escolhidos ao longo dos anos"
   ]
  },
  {
   "cell_type": "code",
   "execution_count": null,
   "id": "41302be7-338b-43d1-9dde-245f2a16e1e3",
   "metadata": {},
   "outputs": [],
   "source": [
    "# Filtrar apenas os registros onde 'ESTAGIO' está presente na coluna 'REGIME_JURIDICO'\n",
    "df_estagio = df[df['REGIME_JURIDICO'].str.lower().str.contains('est', case=False, na=False)]\n",
    "\n",
    "# Filtrar apenas os registros onde 'REGIME JURIDICO UNICO' está presente na coluna 'REGIME_JURIDICO'\n",
    "df_servidores = df[df['REGIME_JURIDICO'].str.lower().str.contains('regime juridico unico', case=False, na=False)]\n",
    "\n",
    "# Lista de palavras-chave para filtrar as empresas\n",
    "palavras_chave_empresas = ['economia', 'fazenda', 'educação', 'saúde', 'pres']\n",
    "\n",
    "# Filtrar DataFrame para incluir apenas empresas que contenham as palavras-chave\n",
    "df_orgaos_selecionados_estagio = df_estagio[df_estagio['ORGSUP_EXERCICIO'].str.lower().str.contains('|'.join(palavras_chave_empresas), case=False, na=False)]\n",
    "df_orgaos_selecionados_servidores = df_servidores[df_servidores['ORGSUP_EXERCICIO'].str.lower().str.contains('|'.join(palavras_chave_empresas), case=False, na=False)]\n",
    "\n",
    "# Agrupar e contar por ano, empresa e tipo (estagiário ou servidor)\n",
    "df_contagem_estagio = df_orgaos_selecionados_estagio.groupby(['ano', 'ORGSUP_EXERCICIO']).size().reset_index(name='Contagem_Estagio')\n",
    "df_contagem_servidores = df_orgaos_selecionados_servidores.groupby(['ano', 'ORGSUP_EXERCICIO']).size().reset_index(name='Contagem_Servidores')\n",
    "\n",
    "# Mesclar os DataFrames de estagiários e servidores\n",
    "df_contagem_total = pd.merge(df_contagem_estagio, df_contagem_servidores, on=['ano', 'ORGSUP_EXERCICIO'], how='outer').fillna(0)\n",
    "\n",
    "# Criar gráfico de barras agrupadas usando o Plotly Express\n",
    "fig = px.bar(df_contagem_total, x='ano', y=['Contagem_Estagio', 'Contagem_Servidores'],\n",
    "             color='ORGSUP_EXERCICIO', barmode='group',\n",
    "             labels={'value': 'Quantidade', 'variable': 'Tipo'},\n",
    "             title='Comparação da Quantidade Total de Estagiários e Servidores nos 5 órgãos escolhidos ao longo dos anos',\n",
    "             color_discrete_sequence=px.colors.qualitative.Set1)\n",
    "\n",
    "fig.update_layout(width=1000, height=750)\n",
    "\n",
    "# Exibir gráfico\n",
    "fig.show()"
   ]
  }
 ],
 "metadata": {
  "kernelspec": {
   "display_name": "Python 3 (ipykernel)",
   "language": "python",
   "name": "python3"
  },
  "language_info": {
   "codemirror_mode": {
    "name": "ipython",
    "version": 3
   },
   "file_extension": ".py",
   "mimetype": "text/x-python",
   "name": "python",
   "nbconvert_exporter": "python",
   "pygments_lexer": "ipython3",
   "version": "3.10.12"
  }
 },
 "nbformat": 4,
 "nbformat_minor": 5
}

{
 "cells": [
  {
   "cell_type": "code",
   "execution_count": null,
   "id": "d4f5cfff-330e-48e8-849d-cf5159fc1709",
   "metadata": {},
   "outputs": [],
   "source": [
    "def percorre_diretorio_partes(diretorio, destino_csv):\n",
    "    \n",
    "    #Dataframe para consolidação\n",
    "    df_consolidado_total= pd.DataFrame()\n",
    "\n",
    "    # Lista todos os arquivos no diretório\n",
    "    arquivos = os.listdir(diretorio) \n",
    "\n",
    "    # Itera a lista de arquivos\n",
    "    for arquivo in arquivos:\n",
    "\n",
    "        contador_arquivos_processados += 1\n",
    "        \n",
    "        caminho_completo = os.path.join(diretorio, arquivo)\n",
    "        \n",
    "        consolidar_arquivos = os.listdir(caminho_completo) \n",
    "\n",
    "        lista_arquivo_cadastro = [arquivo for arquivo in consolidar_arquivos if arquivo.lower().find(\"cadastro\") != -1]\n",
    "\n",
    "        if len(lista_arquivo_cadastro) == 1:\n",
    "            \n",
    "            arquivo_cadastro = lista_arquivo_cadastro[0]\n",
    "\n",
    "            caminho_completo_arquivo_cadastro = os.path.join(caminho_completo, arquivo_cadastro)      \n",
    "\n",
    "            # Concatena o DataFrame atual com o DataFrame consolidado\n",
    "            df_consolidado_total = pd.concat([df_consolidado_total, df_total_mes], ignore_index=True)\n",
    "        \n",
    "        else:\n",
    "\n",
    "            display (f'ATENÇÃO: Mais ou nenhum arquivo cadastro no diretório {caminho_completo}')\n",
    "\n",
    "\n",
    "        #Salva o bloco atual\n",
    "        df_consolidado.to_csv(nome_destino_csv, index=False)"
   ]
  },
  {
   "cell_type": "code",
   "execution_count": null,
   "id": "83114da3-1e68-494e-87a5-0f8fc3cbd823",
   "metadata": {},
   "outputs": [],
   "source": [
    "percorre_diretorio_partes(\"../../dados\", \"../../dados/cadastro_siape_consolidado_completo.csv\")"
   ]
  }
 ],
 "metadata": {
  "kernelspec": {
   "display_name": "Python 3 (ipykernel)",
   "language": "python",
   "name": "python3"
  },
  "language_info": {
   "codemirror_mode": {
    "name": "ipython",
    "version": 3
   },
   "file_extension": ".py",
   "mimetype": "text/x-python",
   "name": "python",
   "nbconvert_exporter": "python",
   "pygments_lexer": "ipython3",
   "version": "3.10.12"
  }
 },
 "nbformat": 4,
 "nbformat_minor": 5
}

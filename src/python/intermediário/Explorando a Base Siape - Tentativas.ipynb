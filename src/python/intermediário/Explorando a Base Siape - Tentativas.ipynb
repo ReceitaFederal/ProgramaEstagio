{
 "cells": [
  {
   "cell_type": "code",
   "execution_count": null,
   "id": "eb288356-5219-497b-8401-bdd935f72d6e",
   "metadata": {},
   "outputs": [],
   "source": [
    "import pandas as pd\n",
    "import plotly.express as px\n",
    "import plotly.graph_objects as go\n",
    "import matplotlib.pyplot as plt\n",
    "from IPython.display import display, Markdown\n",
    "import seaborn as sns"
   ]
  },
  {
   "cell_type": "code",
   "execution_count": null,
   "id": "65898120-279c-450f-84dd-95f97d7185e2",
   "metadata": {},
   "outputs": [],
   "source": [
    "pd.set_option('display.max_columns', None)\n",
    "pd.set_option('display.max_rows', None)"
   ]
  },
  {
   "cell_type": "code",
   "execution_count": null,
   "id": "59bbabba-599d-4c77-be6a-374675f4b19a",
   "metadata": {},
   "outputs": [],
   "source": [
    "# Especifique o caminho para o seu arquivo CSV\n",
    "caminho_arquivo = '../../dados/dados_siape_consolidado/uorg_exercicio/cadastro_siape_consolidado_uorg_org_regime_mes_ano_completo-2021-2023.csv'\n",
    "\n",
    "df = pd.read_csv(caminho_arquivo)"
   ]
  },
  {
   "cell_type": "code",
   "execution_count": null,
   "id": "e8b3faa7-1880-4553-b6b0-5953a34bd283",
   "metadata": {},
   "outputs": [],
   "source": [
    "df['ano'].unique()"
   ]
  },
  {
   "cell_type": "code",
   "execution_count": null,
   "id": "047adf4e-1b8a-4562-af03-7530e8c98b88",
   "metadata": {},
   "outputs": [],
   "source": [
    "df['ano_mes'] = df['ano'].astype(str) + '-' + df['mes'].astype(str).str.zfill(2)"
   ]
  },
  {
   "cell_type": "code",
   "execution_count": null,
   "id": "1c689178-70b7-4ce9-a61a-155f7d7b2016",
   "metadata": {},
   "outputs": [],
   "source": [
    "def grafico_regime_juridico (ano, mes):\n",
    "\n",
    "    display (Markdown(f'# Ano: {ano}'))\n",
    "    \n",
    "    # Supondo que df seja o seu DataFrame\n",
    "    df_filtrado = df[(df['ano'] == ano) & (df['mes'] == mes)]\n",
    "    grupo_contagem = df_filtrado.groupby(['REGIME_JURIDICO'])['Contagem'].sum().reset_index()\n",
    "    \n",
    "    # Cria o gráfico de barras e adiciona rótulos (labels)\n",
    "    ax = grupo_contagem.plot.bar(x='REGIME_JURIDICO', y='Contagem', legend=False)\n",
    "    ax.bar_label(ax.containers[0])\n",
    "    \n",
    "    # Mostra o gráfico\n",
    "    plt.show()"
   ]
  },
  {
   "cell_type": "code",
   "execution_count": null,
   "id": "456d2a00-c4b9-42a3-9e05-0d73337bcdd9",
   "metadata": {},
   "outputs": [],
   "source": [
    "for ano in range(2013, 2024):\n",
    "    grafico_regime_juridico(ano, 1)"
   ]
  },
  {
   "cell_type": "code",
   "execution_count": null,
   "id": "dd74ca90-b5a3-4f88-8866-57aa5acfd3b2",
   "metadata": {},
   "outputs": [],
   "source": [
    "df[\n",
    "    (df['ano'] == 2023) &\n",
    "    (df['mes'] == 11)\n",
    "]"
   ]
  },
  {
   "cell_type": "code",
   "execution_count": null,
   "id": "90493151-3494-45bd-beb1-f0978d5f5736",
   "metadata": {},
   "outputs": [],
   "source": [
    "# Lista de palavras-chave para filtrar as empresas\n",
    "palavras_chave = ['regente', 'pintor']\n",
    "\n",
    "# Filtrar apenas os registros onde 'REGIME JURIDICO UNICO' está presente na coluna 'REGIME_JURIDICO'\n",
    "df_servidores = df[df['REGIME_JURIDICO'].str.lower().str.contains('regime juridico unico', case=False, na=False) & \n",
    "                    df['ORGSUP_EXERCICIO'].str.lower().str.contains('ministério da economia', case=False, na=False) &\n",
    "                    df['DESCRICAO_CARGO']\n",
    "                ].sort_values(by=['ORGSUP_EXERCICIO', 'REGIME_JURIDICO', 'DESCRICAO_CARGO', 'ano'])\n",
    "\n",
    "# df_servidores.groupby(['ORGSUP_EXERCICIO','REGIME_JURIDICO', 'ano_mes'])['Contagem'].mean().reset_index()\n",
    "df_servidores.groupby(['ORGSUP_EXERCICIO','REGIME_JURIDICO', 'ano'])['Contagem'].mean().reset_index()"
   ]
  },
  {
   "cell_type": "code",
   "execution_count": null,
   "id": "95216e0e-332a-486f-8a57-3d3d5fa27b89",
   "metadata": {},
   "outputs": [],
   "source": [
    "# Lista de palavras-chave para filtrar as empresas\n",
    "palavras_chave = ['regente', 'pintor']\n",
    "\n",
    "# Filtrar apenas os registros onde 'REGIME JURIDICO UNICO' está presente na coluna 'REGIME_JURIDICO'\n",
    "df_servidores = df[df['REGIME_JURIDICO'].str.lower().str.contains('regime juridico unico', case=False, na=False) & \n",
    "                    df['ORGSUP_EXERCICIO'].str.lower().str.contains('ministério da economia', case=False, na=False)\n",
    "                ].sort_values(by=['ORGSUP_EXERCICIO', 'REGIME_JURIDICO', 'ano'])\n",
    "\n",
    "# df_servidores.groupby(['ORGSUP_EXERCICIO','REGIME_JURIDICO', 'ano_mes'])['Contagem'].mean().reset_index()\n",
    "df_servidores.groupby(['ORGSUP_EXERCICIO','REGIME_JURIDICO', 'ano'])['Contagem'].mean().reset_index()"
   ]
  },
  {
   "cell_type": "code",
   "execution_count": null,
   "id": "9c546321-61c3-400c-8acb-a7b8061a89b0",
   "metadata": {},
   "outputs": [],
   "source": [
    "df['DESCRICAO_CARGO'].sample(10)"
   ]
  },
  {
   "cell_type": "code",
   "execution_count": null,
   "id": "ad49c876-af32-4335-9db2-38ce76bb37c5",
   "metadata": {},
   "outputs": [],
   "source": [
    "\n",
    "\n",
    "if True and True and False:\n",
    "    print (\"entrou\")\n",
    "else:\n",
    "    print (\"não entrou\")"
   ]
  },
  {
   "cell_type": "code",
   "execution_count": null,
   "id": "deb5c4ba-1ec9-4da0-8f4a-5e93abcc9981",
   "metadata": {},
   "outputs": [],
   "source": [
    "(df['REGIME_JURIDICO'].str.lower().str.contains('regime juridico unico', case=False, na=False) &\n",
    "df['ORGSUP_EXERCICIO'].str.lower().str.contains('ministério da economia', case=False, na=False) &\n",
    " "
   ]
  },
  {
   "cell_type": "code",
   "execution_count": null,
   "id": "523140ce-0265-4cfd-a34a-a119d28239ff",
   "metadata": {},
   "outputs": [],
   "source": [
    "df_servidores.head(10)"
   ]
  },
  {
   "cell_type": "code",
   "execution_count": null,
   "id": "017cada0-115d-41e4-b7da-911741de95d5",
   "metadata": {},
   "outputs": [],
   "source": [
    "# Criar gráfico interativo de linha usando o Plotly Express\n",
    "fig = px.line(df_servidores, x='ano', y='Contagem', markers=True, line_shape='linear',\n",
    "              title='Contagem dos servidores por órgão ao longo dos anos')\n",
    "\n",
    "# Ajustar configuração do eixo X para mostrar todos os anos\n",
    "fig.update_layout(xaxis=dict(tickmode='linear', dtick=1))\n",
    "\n",
    "fig.update_layout(width=1000, height=750)\n",
    "\n",
    "# Exibir gráfico\n",
    "fig.show()"
   ]
  },
  {
   "cell_type": "code",
   "execution_count": null,
   "id": "ae7c20ba-b488-4de5-b9b9-94d2ffb6b82f",
   "metadata": {},
   "outputs": [],
   "source": [
    "# Filtrar apenas os registros onde 'REGIME JURIDICO UNICO' está presente na coluna 'REGIME_JURIDICO'\n",
    "df_servidores = df[df['REGIME_JURIDICO'].str.lower().str.contains('regime juridico unico', case=False, na=False)]\n",
    "\n",
    "df_contagem_combinacoes = df_servidores.groupby(['ORGSUP_EXERCICIO','REGIME_JURIDICO', 'ano'])['Contagem'].mean().reset_index()\n",
    "\n",
    "# Agrupe pelo REGIME_JURIDICO e ordene dentro de cada grupo pela coluna ESTAGIO\n",
    "df_agrupado_ordenado = df_contagem_combinacoes.sort_values(by=['ORGSUP_EXERCICIO', 'REGIME_JURIDICO', 'ano'])\n",
    "\n",
    "# Criar gráfico interativo de linha usando o Plotly Express\n",
    "fig = px.line(df_agrupado_ordenado, x='ano', y='Contagem', color='ORGSUP_EXERCICIO', markers=True, line_shape='linear',\n",
    "              title='Contagem dos servidores por órgão ao longo dos anos')\n",
    "\n",
    "# Ajustar configuração do eixo X para mostrar todos os anos\n",
    "fig.update_layout(xaxis=dict(tickmode='linear', dtick=1))\n",
    "\n",
    "fig.update_layout(width=1000, height=750)\n",
    "\n",
    "# Exibir gráfico\n",
    "fig.show()"
   ]
  },
  {
   "cell_type": "markdown",
   "id": "7fa2bdb4-61c4-49e5-a599-e13c1a6c2cfc",
   "metadata": {},
   "source": [
    "# NÃO EXCLUÍMOS CPFs REPETIDOS!!!!!!!!!!!!!!!!!!!!"
   ]
  },
  {
   "cell_type": "markdown",
   "id": "e6e76e00-bdcd-4a5a-97ed-55649593b133",
   "metadata": {},
   "source": [
    "# Contagem dos servidores por órgão ao longo dos anos"
   ]
  },
  {
   "cell_type": "code",
   "execution_count": null,
   "id": "b1438e19-7ed5-49c0-ae4a-08ac6c820004",
   "metadata": {},
   "outputs": [],
   "source": [
    "# Filtrar apenas os registros onde 'REGIME JURIDICO UNICO' está presente na coluna 'REGIME_JURIDICO'\n",
    "df_servidores = df[df['REGIME_JURIDICO'].str.lower().str.contains('regime juridico unico', case=False, na=False)]\n",
    "\n",
    "df_contagem_combinacoes = df_servidores.groupby(['ORGSUP_EXERCICIO','REGIME_JURIDICO', 'ano', 'mes'])['Contagem'].sum().reset_index()\n",
    "\n",
    "# Agrupe pelo REGIME_JURIDICO e ordene dentro de cada grupo pela coluna ESTAGIO\n",
    "df_agrupado_ordenado = df_contagem_combinacoes.sort_values(by=['ORGSUP_EXERCICIO', 'REGIME_JURIDICO', 'ano', 'mes'])\n",
    "\n",
    "# Criar gráfico interativo de linha usando o Plotly Express\n",
    "fig = px.line(df_agrupado_ordenado, x='ano', y='Contagem', color='ORGSUP_EXERCICIO', markers=True, line_shape='linear',\n",
    "              title='Contagem dos servidores por órgão ao longo dos anos')\n",
    "\n",
    "# Ajustar configuração do eixo X para mostrar todos os anos\n",
    "fig.update_layout(xaxis=dict(tickmode='linear', dtick=1))\n",
    "\n",
    "fig.update_layout(width=1000, height=750)\n",
    "\n",
    "# Exibir gráfico\n",
    "fig.show()"
   ]
  },
  {
   "cell_type": "code",
   "execution_count": null,
   "id": "61ae09e6-d03a-435d-be95-15ae56301e82",
   "metadata": {},
   "outputs": [],
   "source": [
    "def grafico_servidores_por_orgao (df_orgaos, ano, mes):\n",
    "\n",
    "    display (Markdown(f'# Ano: {ano}'))\n",
    "    \n",
    "    # Supondo que df seja o seu DataFrame\n",
    "    df_filtrado = df_orgaos[(df_orgaos['ano'] == ano) & (df_orgaos['mes'] == mes)]\n",
    "    \n",
    "    tamanho = df_filtrado['REGIME_JURIDICO'].count()\n",
    "    \n",
    "    if tamanho == 0:\n",
    "        display(f'O dataframe para {mes} de {ano} não tem registros')\n",
    "\n",
    "    else:\n",
    "        grupo_contagem = df_filtrado.groupby(['REGIME_JURIDICO'])['Contagem'].sum().reset_index()\n",
    "    \n",
    "        # Cria o gráfico de barras e adiciona rótulos (labels)\n",
    "        ax = grupo_contagem.plot.bar(x='REGIME_JURIDICO', y='Contagem', legend=False)\n",
    "        ax.bar_label(ax.containers[0])\n",
    "        \n",
    "        # Mostra o gráfico\n",
    "        plt.show()"
   ]
  },
  {
   "cell_type": "code",
   "execution_count": null,
   "id": "9b4a7423-c120-44eb-8cde-a5a6e1638dba",
   "metadata": {},
   "outputs": [],
   "source": [
    "for ano in range(2012, 2024):\n",
    "    grafico_servidores_por_orgao(df, ano, 1)"
   ]
  },
  {
   "cell_type": "code",
   "execution_count": null,
   "id": "7b55594c-53aa-47c6-8f98-ccc25d90a981",
   "metadata": {},
   "outputs": [],
   "source": [
    "df_janeiro = df[df['mes'] == 1]"
   ]
  },
  {
   "cell_type": "code",
   "execution_count": null,
   "id": "dd35227b-029c-41a6-93f2-376cad0fcba0",
   "metadata": {},
   "outputs": [],
   "source": [
    "display(df.info())\n",
    "display(df_janeiro.info())"
   ]
  },
  {
   "cell_type": "code",
   "execution_count": null,
   "id": "0db9e1f2-1886-4d4f-b040-68bd1f06107f",
   "metadata": {},
   "outputs": [],
   "source": [
    "df_fazenda = df[df[\"ORGSUP_EXERCICIO\"].str.contains('fazenda', case=False, na=False)]"
   ]
  },
  {
   "cell_type": "code",
   "execution_count": null,
   "id": "99684f82-e931-435b-bd9a-9d78be4d5ab7",
   "metadata": {},
   "outputs": [],
   "source": [
    "df_fazenda"
   ]
  },
  {
   "cell_type": "code",
   "execution_count": null,
   "id": "031dc92f-0c6f-453e-a176-68dfc971bb39",
   "metadata": {},
   "outputs": [],
   "source": [
    "def grafico_servidores_por_orgao_e_ano (df_orgaos, orgaos_escolhidos):\n",
    "\n",
    "    df_filtrado = df_orgaos[\n",
    "                        df_orgaos[\"REGIME_JURIDICO\"].str.contains(\"regime juridico unico\", na=False, case=False) &\n",
    "                        df_orgaos[\"ORG_EXERCICIO\"].str.contains('|'.join(orgaos_escolhidos), na=False, case=False)\n",
    "                    ]\n",
    "    display(df_filtrado['ORG_EXERCICIO'].unique())\n",
    "    # Supondo que df seja o seu DataFrame    \n",
    "    tamanho = df_filtrado['REGIME_JURIDICO'].count()\n",
    "    \n",
    "    if tamanho == 0:\n",
    "        \n",
    "        display(f'O dataframe não tem registros')\n",
    "\n",
    "    else:\n",
    "        df_grupo_contagem = df_filtrado.groupby(['ORG_EXERCICIO','ano'])['Contagem'].sum().reset_index()\n",
    "\n",
    "        # Criar gráfico interativo de linha usando o Plotly Express\n",
    "        fig = px.line(df_grupo_contagem, x='ano', y='Contagem', color='ORG_EXERCICIO',\n",
    "                      markers=True, line_shape='linear',\n",
    "                      title='Contagem de servidores nos 5 órgãos escolhidos ao longo dos anos')\n",
    "        \n",
    "        # Ajustar configuração do eixo X para mostrar todos os anos\n",
    "        fig.update_layout(xaxis=dict(tickmode='linear', dtick=1))\n",
    "        \n",
    "        fig.update_layout(width=1000, height=750)\n",
    "        \n",
    "        # Exibir gráfico\n",
    "        fig.show()\n",
    "\n",
    "orgaos_escolhidos = ['economia']\n",
    "\n",
    "grafico_servidores_por_orgao_e_ano(df_janeiro, orgaos_escolhidos)"
   ]
  },
  {
   "cell_type": "code",
   "execution_count": null,
   "id": "e1d26107-fd8c-483c-96b5-1ab1481d5bc7",
   "metadata": {},
   "outputs": [],
   "source": [
    "def grafico_servidores_por_orgao_e_ano (df_orgaos, orgaos_escolhidos):\n",
    "\n",
    "    df_filtrado = df_orgaos[\n",
    "                        df_orgaos[\"REGIME_JURIDICO\"].str.contains(\"regime juridico unico\", na=False, case=False) &\n",
    "                        df_orgaos[\"ORG_EXERCICIO\"].str.contains('|'.join(orgaos_escolhidos), na=False, case=False)\n",
    "                    ]\n",
    "    display(df_filtrado['ORG_EXERCICIO'].unique())\n",
    "    # Supondo que df seja o seu DataFrame    \n",
    "    tamanho = df_filtrado['REGIME_JURIDICO'].count()\n",
    "    \n",
    "    if tamanho == 0:\n",
    "        \n",
    "        display(f'O dataframe não tem registros')\n",
    "\n",
    "    else:\n",
    "        df_grupo_contagem = df_filtrado.groupby(['ORG_EXERCICIO','ano'])['Contagem'].sum().reset_index()\n",
    "\n",
    "        # Criar gráfico interativo de linha usando o Plotly Express\n",
    "        fig = px.line(df_grupo_contagem, x='ano', y='Contagem', color='ORG_EXERCICIO',\n",
    "                      markers=True, line_shape='linear',\n",
    "                      title='Contagem de servidores nos 5 órgãos escolhidos ao longo dos anos')\n",
    "        \n",
    "        # Ajustar configuração do eixo X para mostrar todos os anos\n",
    "        fig.update_layout(xaxis=dict(tickmode='linear', dtick=1))\n",
    "        \n",
    "        fig.update_layout(width=1000, height=750)\n",
    "        \n",
    "        # Exibir gráfico\n",
    "        fig.show()\n",
    "\n",
    "orgaos_escolhidos = ['economia']\n",
    "\n",
    "grafico_servidores_por_orgao_e_ano(df_janeiro, orgaos_escolhidos)"
   ]
  },
  {
   "cell_type": "code",
   "execution_count": null,
   "id": "3487fa95-7385-405c-929f-69b442abd68e",
   "metadata": {},
   "outputs": [],
   "source": [
    "def grafico_servidores_por_orgao_ano_mes (df_orgaos, orgaos_escolhidos):\n",
    "\n",
    "    df_regime_juridico_unico = df_orgaos[\n",
    "                        df_orgaos[\"REGIME_JURIDICO\"].str.contains(\"regime juridico unico\", na=False, case=False) &\n",
    "                        df_orgaos[\"ORG_EXERCICIO\"].str.contains('|'.join(orgaos_escolhidos), na=False, case=False)\n",
    "                    ]\n",
    "\n",
    "    df_estagio = df_orgaos[\n",
    "                        df_orgaos[\"REGIME_JURIDICO\"].str.contains(\"estag\", na=False, case=False) &\n",
    "                        df_orgaos[\"ORG_EXERCICIO\"].str.contains('|'.join(orgaos_escolhidos), na=False, case=False)\n",
    "                    ]\n",
    "\n",
    "    meses = df_orgaos['ano_mes'].unique()   \n",
    "\n",
    "    \n",
    "    display(df_estagio['ORG_EXERCICIO'].unique())\n",
    "    # Supondo que df seja o seu DataFrame    \n",
    "    tamanho = df_estagio['REGIME_JURIDICO'].count()\n",
    "    \n",
    "    if tamanho == 0:\n",
    "        \n",
    "        display(f'O dataframe não tem registros')\n",
    "\n",
    "    else:\n",
    "        df_grupo_contagem = df_estagio.groupby(['ORG_EXERCICIO','ano_mes'])['Contagem'].sum().reset_index()\n",
    "\n",
    "        # Criar gráfico interativo de linha usando o Plotly Express\n",
    "        fig = px.line(df_grupo_contagem, x='ano_mes', y='Contagem', color='ORG_EXERCICIO',\n",
    "                      markers=True, line_shape='linear',\n",
    "                      title='Contagem de servidores nos 5 órgãos escolhidos ao longo dos mes e anos')\n",
    "        \n",
    "        # Ajustar configuração do eixo X para mostrar todos os anos\n",
    "        fig.update_layout(xaxis=dict(tickmode='linear', dtick=1))\n",
    "        \n",
    "        fig.update_layout(width=1000, height=750)\n",
    "        \n",
    "        # Exibir gráfico\n",
    "        fig.show()\n",
    "\n",
    "\n",
    "\n",
    "\n",
    "orgaos_escolhidos = [\n",
    "    'Instituto Nacional do Seguro Social',\n",
    "    'ministério da economia', \n",
    "    'Advocacia-Geral da União' ,     \n",
    "    'Ministério da Ciência, Tecnologia, Inovações e Comunicações', \n",
    "    'Ministério da Saúde']\n",
    "\n",
    "grafico_servidores_por_orgao_ano_mes(df, orgaos_escolhidos)"
   ]
  },
  {
   "cell_type": "code",
   "execution_count": null,
   "id": "fb6d5c27-de69-4cd2-8730-9656d55cfd7a",
   "metadata": {},
   "outputs": [],
   "source": [
    "def dicionario_servidores_e_estagio_orgao_ano_mes (df_orgaos, orgaos_escolhidos):\n",
    "\n",
    "    dicionario_orgaos = {}\n",
    "    \n",
    "    meses = df_orgaos['ano_mes'].unique()\n",
    "\n",
    "    for mes in meses:\n",
    "        \n",
    "        for orgao in orgaos_escolhidos:\n",
    "\n",
    "            qtd_regime_unico = df_orgaos[\n",
    "                        df_orgaos[\"REGIME_JURIDICO\"].str.contains(\"regime juridico unico\", na=False, case=False) &\n",
    "                        df_orgaos[\"ORG_EXERCICIO\"].str.contains(orgao, na=False, case=False) &\n",
    "                        (df_orgaos['ano_mes'] == mes)][\"Contagem\"].sum()\n",
    "\n",
    "            qtd_estagiario =  df_orgaos[\n",
    "                        df_orgaos[\"REGIME_JURIDICO\"].str.contains(\"estag\", na=False, case=False) &\n",
    "                        df_orgaos[\"ORG_EXERCICIO\"].str.contains(orgao, na=False, case=False) &\n",
    "                        (df_orgaos['ano_mes'] == mes)][\"Contagem\"].sum()\n",
    "\n",
    "            if not orgao in dicionario_orgaos:\n",
    "                dicionario_orgaos[orgao] = {}\n",
    "\n",
    "                        \n",
    "            dicionario_orgaos[orgao][mes] = {'regime_unico': qtd_regime_unico,'estagiarios': qtd_estagiario,'indice_estagio': qtd_estagiario/qtd_regime_unico}\n",
    "            \n",
    "\n",
    "    display (dicionario_orgaos)\n",
    "\n",
    "\n",
    "\n",
    "\n",
    "orgaos_escolhidos = [\n",
    "    'Instituto Nacional do Seguro Social',\n",
    "    'ministério da economia', \n",
    "    'Advocacia-Geral da União' ,     \n",
    "    'Ministério da Ciência, Tecnologia, Inovações e Comunicações', \n",
    "    'Ministério da Saúde']\n",
    "\n",
    "dicionario_servidores_e_estagio_orgao_ano_mes(df, orgaos_escolhidos)"
   ]
  },
  {
   "cell_type": "code",
   "execution_count": null,
   "id": "f5085014-f897-43fc-97f1-d8517542a813",
   "metadata": {},
   "outputs": [],
   "source": [
    "df_janeiro[df_janeiro[\"REGIME_JURIDICO\"].str.contains(\"estag\", na=False, case=False) ].value_counts(\"ORG_EXERCICIO\")"
   ]
  },
  {
   "cell_type": "code",
   "execution_count": null,
   "id": "e8ec0148-33e7-442e-9a22-3de61c6635fd",
   "metadata": {},
   "outputs": [],
   "source": []
  },
  {
   "cell_type": "code",
   "execution_count": null,
   "id": "3161e29f-b5e2-4e2c-8c21-4ca3a91a0818",
   "metadata": {},
   "outputs": [],
   "source": [
    "orgaos = ['minis']\n",
    "\n",
    "df_filtrado = df_janeiro[\n",
    "                        df_janeiro[\"REGIME_JURIDICO\"].str.contains(\"regime juridico unico\", na=False, case=False) &\n",
    "                        df_janeiro[\"ORG_EXERCICIO\"].str.contains('|'.join(orgaos), na=False, case=False)\n",
    "                    ]\n",
    "\n",
    "display(df_filtrado['ORG_EXERCICIO'].unique())"
   ]
  },
  {
   "cell_type": "markdown",
   "id": "2566bc9f-9107-42d3-9d51-f99c9f394554",
   "metadata": {},
   "source": [
    "# Contagem de servidores nos 5 órgãos escolhidos ao longo dos anos"
   ]
  },
  {
   "cell_type": "code",
   "execution_count": null,
   "id": "3e742824-e9d7-483e-874b-12c11bcb78bc",
   "metadata": {},
   "outputs": [],
   "source": [
    "# Filtrar apenas os registros onde 'REGIME JURIDICO UNICO' está presente na coluna 'REGIME_JURIDICO'\n",
    "df_servidores = df[df['REGIME_JURIDICO'].str.lower().str.contains('regime juridico unico', case=False, na=False)]\n",
    "\n",
    "# Lista de palavras-chave para filtrar as empresas\n",
    "palavras_chave_empresas = ['economia', 'fazenda', 'educação', 'saúde', 'pres']\n",
    "\n",
    "mes_selecionado = 1\n",
    "\n",
    "# Filtrar DataFrame para incluir apenas empresas que contenham as palavras-chave\n",
    "df_orgaos_selecionados = df_servidores[df_servidores['ORGSUP_EXERCICIO'].str.lower().str.contains('|'.join(palavras_chave_empresas), case=False, na=False) &\n",
    "                                        df_]\n",
    "\n",
    "# Agrupar e contar por empresa, regime jurídico e ano\n",
    "df_contagem_combinacoes = df_orgaos_selecionados.groupby(['ORGSUP_EXERCICIO', 'REGIME_JURIDICO', 'ano'])['Contagem'].mean().reset_index()\n",
    "\n",
    "# Criar gráfico interativo de linha usando o Plotly Express\n",
    "fig = px.line(df_contagem_combinacoes, x='ano', y='Contagem', color='ORGSUP_EXERCICIO',\n",
    "              markers=True, line_shape='linear',\n",
    "              title='Contagem de servidores nos 5 órgãos escolhidos ao longo dos anos')\n",
    "\n",
    "# Ajustar configuração do eixo X para mostrar todos os anos\n",
    "fig.update_layout(xaxis=dict(tickmode='linear', dtick=1))\n",
    "\n",
    "fig.update_layout(width=1000, height=750)\n",
    "\n",
    "# Exibir gráfico\n",
    "fig.show()\n"
   ]
  },
  {
   "cell_type": "markdown",
   "id": "9f550a1e-1c29-4239-91ad-ad5bb6df6a83",
   "metadata": {},
   "source": [
    "# Contagem de estagiários em todos os órgãos ao longo dos anos"
   ]
  },
  {
   "cell_type": "code",
   "execution_count": null,
   "id": "b8817547-f22f-4a0b-bf98-a620fe6c1097",
   "metadata": {},
   "outputs": [],
   "source": [
    "# Filtrar apenas os registros onde 'ESTAGIO' está presente na coluna 'REGIME_JURIDICO'\n",
    "df_estagio = df[df['REGIME_JURIDICO'].str.lower().str.contains('est', case=False, na=False)]\n",
    "\n",
    "df_contagem_combinacoes = df_estagio.groupby(['ORGSUP_EXERCICIO','REGIME_JURIDICO', 'ano'])['Contagem'].mean().reset_index()\n",
    "\n",
    "# Agrupe pelo REGIME_JURIDICO e ordene dentro de cada grupo pela coluna ESTAGIO\n",
    "df_agrupado_ordenado = df_contagem_combinacoes.sort_values(by=['ORGSUP_EXERCICIO', 'REGIME_JURIDICO', 'ano'])\n",
    "\n",
    "'''display(df_agrupado_ordenado.head(10))'''\n",
    "\n",
    "# Criar gráfico interativo de linha usando o Plotly Express\n",
    "fig = px.line(df_agrupado_ordenado, x='ano', y='Contagem', color='ORGSUP_EXERCICIO', markers=True, line_shape='linear',\n",
    "              title='Contagem de estagiários em todos os órgãos ao longo dos anos')\n",
    "\n",
    "# Ajustar configuração do eixo X para mostrar todos os anos\n",
    "fig.update_layout(xaxis=dict(tickmode='linear', dtick=1))\n",
    "\n",
    "fig.update_layout(width=1000, height=750)\n",
    "\n",
    "# Exibir gráfico\n",
    "fig.show()"
   ]
  },
  {
   "cell_type": "markdown",
   "id": "a49956e2-d17e-4de2-bccb-69b74748b4fb",
   "metadata": {},
   "source": [
    "# Contagem de estagiários nos 5 órgãos escolhidos ao longo dos anos"
   ]
  },
  {
   "cell_type": "code",
   "execution_count": null,
   "id": "d4a8e6d7-7041-465e-affc-f4b7cba9c523",
   "metadata": {},
   "outputs": [],
   "source": [
    "def grafico_servidores_por_orgao_e_ano (df_orgaos, orgaos_superiores_escolhidos):\n",
    "\n",
    "    df_filtrado = df_orgaos[\n",
    "                        df_orgaos[\"REGIME_JURIDICO\"].str.contains(\"estagio\", na=False, case=False) &\n",
    "                        df_orgaos[\"ORGSUP_EXERCICIO\"].str.contains('|'.join(orgaos_superiores_escolhidos), na=False, case=False)\n",
    "                    ]\n",
    "    \n",
    "    # Supondo que df seja o seu DataFrame    \n",
    "    tamanho = df_filtrado['REGIME_JURIDICO'].count()\n",
    "    \n",
    "    if tamanho == 0:\n",
    "        \n",
    "        display(f'O dataframe não tem registros')\n",
    "\n",
    "    else:\n",
    "        df_grupo_contagem = df_filtrado.groupby(['ORGSUP_EXERCICIO','ano'])['Contagem'].sum().reset_index()\n",
    "\n",
    "        # Criar gráfico interativo de linha usando o Plotly Express\n",
    "        fig = px.line(df_grupo_contagem, x='ano', y='Contagem', color='ORG_EXERCICIO',\n",
    "                      markers=True, line_shape='linear',\n",
    "                      title='Contagem de estagiários nos 5 órgãos escolhidos ao longo dos anos')\n",
    "        \n",
    "        # Ajustar configuração do eixo X para mostrar todos os anos\n",
    "        fig.update_layout(xaxis=dict(tickmode='linear', dtick=1))\n",
    "        \n",
    "        fig.update_layout(width=1000, height=750)\n",
    "        \n",
    "        # Exibir gráfico\n",
    "        fig.show()\n",
    "\n",
    "orgaos_superiores_escolhidos = ['economia', 'fazenda', 'educação', 'saúde', 'pres', 'sem']\n",
    "\n",
    "grafico_servidores_por_orgao_e_ano(df_janeiro, orgaos_superiores_escolhidos)"
   ]
  },
  {
   "cell_type": "code",
   "execution_count": null,
   "id": "d4a4e096-0c35-474f-8e69-6623d8dc0ac2",
   "metadata": {},
   "outputs": [],
   "source": [
    "\n",
    "\n",
    "# Filtrar apenas os registros onde 'ESTAGIO' está presente na coluna 'REGIME_JURIDICO'\n",
    "df_estagio = df[df['REGIME_JURIDICO'].str.lower().str.contains('est', case=False, na=False)]\n",
    "\n",
    "# Lista de palavras-chave para filtrar as empresas\n",
    "palavras_chave_empresas = ['economia', 'fazenda', 'educação', 'saúde', 'pres']\n",
    "\n",
    "# Filtrar DataFrame para incluir apenas empresas que contenham as palavras-chave\n",
    "df_orgaos_selecionados = df_estagio[df_estagio['ORGSUP_EXERCICIO'].str.lower().str.contains('|'.join(palavras_chave_empresas), case=False, na=False)]\n",
    "\n",
    "# Agrupar e contar por empresa, regime jurídico e ano\n",
    "df_contagem_combinacoes = df_orgaos_selecionados.groupby(['ORGSUP_EXERCICIO', 'REGIME_JURIDICO', 'ano_mes'])['Contagem'].sum().reset_index()\n",
    "\n",
    "# Criar gráfico interativo de linha usando o Plotly Express\n",
    "fig = px.line(df_contagem_combinacoes, x='ano_mes', y='Contagem', color='ORGSUP_EXERCICIO',\n",
    "              markers=True, line_shape='linear',\n",
    "              title='Contagem de estagiários nos 5 órgãos escolhidos ao longo dos anos')\n",
    "\n",
    "# Ajustar configuração do eixo X para mostrar todos os anos\n",
    "fig.update_layout(xaxis=dict(tickmode='linear', dtick=1))\n",
    "\n",
    "fig.update_layout(width=1000, height=750)\n",
    "\n",
    "# Exibir gráfico\n",
    "fig.show()\n"
   ]
  },
  {
   "cell_type": "code",
   "execution_count": null,
   "id": "e22c39a8-36e9-42e5-a5de-65444c108df9",
   "metadata": {},
   "outputs": [],
   "source": [
    "# Filtrar apenas os registros onde 'ESTAGIO' está presente na coluna 'REGIME_JURIDICO'\n",
    "df_estagio = df[df['REGIME_JURIDICO'].str.lower().str.contains('est', case=False, na=False)]\n",
    "\n",
    "# Filtrar apenas os registros onde 'REGIME JURIDICO UNICO' está presente na coluna 'REGIME_JURIDICO'\n",
    "df_servidores = df[df['REGIME_JURIDICO'].str.lower().str.contains('regime juridico unico', case=False, na=False)]\n",
    "\n",
    "# Lista de palavras-chave para filtrar as empresas\n",
    "palavras_chave_empresas = ['economia', 'fazenda', 'educação', 'saúde', 'pres']\n",
    "\n",
    "# Filtrar DataFrame para incluir apenas empresas que contenham as palavras-chave\n",
    "df_orgaos_selecionados_estagio = df_estagio[df_estagio['ORGSUP_EXERCICIO'].str.lower().str.contains('|'.join(palavras_chave_empresas), case=False, na=False)]\n",
    "df_orgaos_selecionados_servidores = df_servidores[df_servidores['ORGSUP_EXERCICIO'].str.lower().str.contains('|'.join(palavras_chave_empresas), case=False, na=False)]\n",
    "\n",
    "# Agrupar e contar por ano para estagiários\n",
    "df_contagem_estagio = df_orgaos_selecionados_estagio.groupby(['ano']).mean().reset_index(name='Contagem_Estagio')\n",
    "\n",
    "# Agrupar e contar por ano para servidores\n",
    "df_contagem_servidores = df_orgaos_selecionados_servidores.groupby(['ano']).mean().reset_index(name='Contagem_Servidores')\n",
    "\n",
    "# Mesclar os DataFrames de estagiários e servidores\n",
    "df_contagem_total = pd.merge(df_contagem_estagio, df_contagem_servidores, on='ano', how='outer').fillna(0)\n",
    "\n",
    "# Criar gráfico de barras usando o Plotly Express\n",
    "fig = px.bar(df_contagem_total, x='ano', y=['Contagem_Estagio', 'Contagem_Servidores'],\n",
    "             labels={'value': 'Quantidade', 'variable': 'Tipo'},\n",
    "             title='Comparação da Quantidade Total de Estagiários e Servidores nos 5 órgãos escolhidos ao longo dos anos',\n",
    "             color_discrete_sequence=['blue', 'orange'])\n",
    "\n",
    "# Ajustar configuração do eixo X para mostrar todos os anos\n",
    "fig.update_layout(xaxis=dict(tickmode='linear', dtick=1))\n",
    "\n",
    "fig.update_layout(width=1000, height=750)\n",
    "\n",
    "# Exibir gráfico\n",
    "fig.show()\n"
   ]
  },
  {
   "cell_type": "markdown",
   "id": "d863970c-fe58-489f-9ea8-23d4025b94d3",
   "metadata": {},
   "source": [
    "# Comparação servidores X estagiários nos 5 órgãos escolhidos ao longo dos anos"
   ]
  },
  {
   "cell_type": "code",
   "execution_count": null,
   "id": "41302be7-338b-43d1-9dde-245f2a16e1e3",
   "metadata": {},
   "outputs": [],
   "source": [
    "# Filtrar apenas os registros onde 'ESTAGIO' está presente na coluna 'REGIME_JURIDICO'\n",
    "df_estagio = df[df['REGIME_JURIDICO'].str.lower().str.contains('est', case=False, na=False)]\n",
    "\n",
    "# Filtrar apenas os registros onde 'REGIME JURIDICO UNICO' está presente na coluna 'REGIME_JURIDICO'\n",
    "df_servidores = df[df['REGIME_JURIDICO'].str.lower().str.contains('regime juridico unico', case=False, na=False)]\n",
    "\n",
    "# Lista de palavras-chave para filtrar as empresas\n",
    "palavras_chave_empresas = ['economia', 'fazenda', 'educação', 'saúde', 'pres']\n",
    "\n",
    "# Filtrar DataFrame para incluir apenas empresas que contenham as palavras-chave\n",
    "df_orgaos_selecionados_estagio = df_estagio[df_estagio['ORGSUP_EXERCICIO'].str.lower().str.contains('|'.join(palavras_chave_empresas), case=False, na=False)]\n",
    "df_orgaos_selecionados_servidores = df_servidores[df_servidores['ORGSUP_EXERCICIO'].str.lower().str.contains('|'.join(palavras_chave_empresas), case=False, na=False)]\n",
    "\n",
    "# Contar a frequência por ano, empresa e tipo (estagiário ou servidor)\n",
    "df_contagem_estagio = df_orgaos_selecionados_estagio.groupby(['ano', 'ORGSUP_EXERCICIO']).size().reset_index(name='Contagem_Estagio')\n",
    "df_contagem_servidores = df_orgaos_selecionados_servidores.groupby(['ano', 'ORGSUP_EXERCICIO']).size().reset_index(name='Contagem_Servidores')\n",
    "\n",
    "# Mesclar os DataFrames de estagiários e servidores\n",
    "df_contagem_total = pd.merge(df_contagem_estagio, df_contagem_servidores, on=['ano', 'ORGSUP_EXERCICIO'], how='outer').fillna(0)\n",
    "\n",
    "# Criar gráfico de barras agrupadas usando o Plotly Express\n",
    "fig = px.bar(df_contagem_total, x='ano', y=['Contagem_Estagio', 'Contagem_Servidores'],\n",
    "             color='ORGSUP_EXERCICIO', barmode='group',\n",
    "             labels={'value': 'Quantidade', 'variable': 'Tipo'},\n",
    "             title='Comparação da Quantidade Total de Estagiários e Servidores nos 5 órgãos escolhidos ao longo dos anos',\n",
    "             color_discrete_sequence=px.colors.qualitative.Set1)\n",
    "\n",
    "fig.update_layout(width=1000, height=750)\n",
    "\n",
    "# Exibir gráfico\n",
    "fig.show()\n"
   ]
  },
  {
   "cell_type": "code",
   "execution_count": null,
   "id": "f3cbf0d2-f227-4379-8cac-5db36adb794d",
   "metadata": {},
   "outputs": [],
   "source": []
  }
 ],
 "metadata": {
  "kernelspec": {
   "display_name": "Python 3 (ipykernel)",
   "language": "python",
   "name": "python3"
  },
  "language_info": {
   "codemirror_mode": {
    "name": "ipython",
    "version": 3
   },
   "file_extension": ".py",
   "mimetype": "text/x-python",
   "name": "python",
   "nbconvert_exporter": "python",
   "pygments_lexer": "ipython3",
   "version": "3.10.12"
  }
 },
 "nbformat": 4,
 "nbformat_minor": 5
}

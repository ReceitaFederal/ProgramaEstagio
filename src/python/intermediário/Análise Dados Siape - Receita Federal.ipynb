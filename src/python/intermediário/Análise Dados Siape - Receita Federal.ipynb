{
 "cells": [
  {
   "cell_type": "code",
   "execution_count": null,
   "id": "30289e49",
   "metadata": {},
   "outputs": [],
   "source": [
    "import pandas as pd\n",
    "import os\n",
    "import pandas as pd\n"
   ]
  },
  {
   "cell_type": "code",
   "execution_count": null,
   "id": "adf49965",
   "metadata": {},
   "outputs": [],
   "source": [
    "pd.set_option('display.max_columns', None)\n",
    "pd.set_option('display.max_rows', None)"
   ]
  },
  {
   "cell_type": "code",
   "execution_count": null,
   "id": "87d97ac2",
   "metadata": {},
   "outputs": [],
   "source": [
    "\n",
    "\n",
    "# Diretório base onde estão os diretórios com os arquivos CSV\n",
    "\n",
    "def carregar_siape_ativos(diretorio_raiz, ano_mes):\n",
    "        \n",
    "    diretorio = os.path.join(diretorio_raiz, ano_mes)\n",
    "        \n",
    "    cadastro_path = os.path.join(diretorio, f\"{ano_mes}_Cadastro.csv\")\n",
    "    observacoes_path = os.path.join(diretorio, f\"{ano_mes}_Observacoes.csv\")\n",
    "    remuneracao_path = os.path.join(diretorio, f\"{ano_mes}_Remuneracao.csv\")\n",
    "\n",
    "    return {\n",
    "        \"cadastro\": pd.read_csv(cadastro_path, encoding='latin1', delimiter=';'),\n",
    "        \"observacoes\": pd.read_csv(observacoes_path, encoding='latin1', delimiter=';'),\n",
    "        \"remuneracao\": pd.read_csv(remuneracao_path, encoding='latin1', delimiter=';')\n",
    "    }\n",
    "            \n",
    "\n",
    "\n"
   ]
  },
  {
   "cell_type": "code",
   "execution_count": null,
   "id": "ffd7e3bf",
   "metadata": {},
   "outputs": [],
   "source": [
    "dfs = carregar_siape_ativos(\"./dados\", \"202307\")"
   ]
  },
  {
   "cell_type": "code",
   "execution_count": null,
   "id": "6acff62c",
   "metadata": {},
   "outputs": [],
   "source": [
    "df = dfs[\"cadastro\"]"
   ]
  },
  {
   "cell_type": "code",
   "execution_count": null,
   "id": "8bec66c0",
   "metadata": {},
   "outputs": [],
   "source": [
    "dfs[\"cadastro\"].count()"
   ]
  },
  {
   "cell_type": "code",
   "execution_count": null,
   "id": "128d5186",
   "metadata": {},
   "outputs": [],
   "source": [
    "df.dtypes"
   ]
  },
  {
   "cell_type": "code",
   "execution_count": null,
   "id": "4394eeb7",
   "metadata": {},
   "outputs": [],
   "source": [
    "campos_pessoais = [\"NOME\", \"CPF\", \"MATRICULA\"]"
   ]
  },
  {
   "cell_type": "code",
   "execution_count": null,
   "id": "33580f09",
   "metadata": {},
   "outputs": [],
   "source": [
    "campos_cargo = [\"DESCRICAO_CARGO\", \"REFERENCIA_CARGO\", \"PADRAO_CARGO\", \"NIVEL_CARGO\", \"FUNCAO, ATIVIDADE\"]"
   ]
  },
  {
   "cell_type": "code",
   "execution_count": null,
   "id": "b489af63",
   "metadata": {},
   "outputs": [],
   "source": [
    "campos_orgao = [\"UF_EXERCICIO\", \"ORGSUP_EXERCICIO\", \"ORG_EXERCICIO\", \"UORG_EXERCICIO\", \"ORGSUP_LOTACAO\", \"UORG_LOTACAO\"]"
   ]
  },
  {
   "cell_type": "code",
   "execution_count": null,
   "id": "e5deb4ab",
   "metadata": {},
   "outputs": [],
   "source": [
    "campos_situacao = [\"TIPO_VINCULO\", \"SITUACAO_VINCULO\", \"REGIME_JURIDICO\", \"JORNADA_DE_TRABALHO\"]"
   ]
  },
  {
   "cell_type": "code",
   "execution_count": null,
   "id": "123ce37f",
   "metadata": {},
   "outputs": [],
   "source": [
    "def mostrar_totais_campos (df, campos):\n",
    "    display(df.count())\n",
    "    for campo in campos:\n",
    "            display(df[campo].value_counts().reset_index().head(10))"
   ]
  },
  {
   "cell_type": "code",
   "execution_count": null,
   "id": "f9aa257b",
   "metadata": {},
   "outputs": [],
   "source": [
    "# ORGSUP_EXERCICIO = Ministério da Economia = 17931\n",
    "# ORG_EXERCICIO = Ministério da Economia = 36606\n",
    "# ORGSUP_LOTACAO = Ministério da Economia = 19263\n",
    "\n",
    "# UORG_LOTACAO = UNIDADES CENTRAIS/RFB = 980\n",
    "\n",
    "df_ministerio = df[df['ORG_EXERCICIO'].str.contains('Ministério da Economia')]\n",
    "mostrar_totais_campos(df_ministerio, campos_orgao)"
   ]
  },
  {
   "cell_type": "code",
   "execution_count": null,
   "id": "b048de79",
   "metadata": {},
   "outputs": [],
   "source": [
    "df_lotacao_rfb = df[df['UORG_LOTACAO'].str.contains('RFB')]\n",
    "print (campos_cargo)\n",
    "mostrar_totais_campos(df_lotacao_rfb, campos_cargo)"
   ]
  },
  {
   "cell_type": "code",
   "execution_count": null,
   "id": "11cefffc",
   "metadata": {},
   "outputs": [],
   "source": [
    "mostrar_totais_campos(df_lotacao_rfb, campos_orgao)"
   ]
  },
  {
   "cell_type": "code",
   "execution_count": null,
   "id": "d382d71c",
   "metadata": {},
   "outputs": [],
   "source": [
    "df_lotacao_rfb['UORG_LOTACAO'].value_counts().reset_index()"
   ]
  },
  {
   "cell_type": "code",
   "execution_count": null,
   "id": "afa4ed31",
   "metadata": {},
   "outputs": [],
   "source": [
    "#SRRF/8RF/DIVISAO TEC SEG DA INFORMACAO\n",
    "\n",
    "df_ti = df_lotacao_rfb[df_lotacao_rfb['UORG_EXERCICIO'].str.contains('INFORMACAO') | df_lotacao_rfb['UORG_EXERCICIO'].str.contains('COTEC')]\n",
    "df_ti['UORG_EXERCICIO'].value_counts()"
   ]
  },
  {
   "cell_type": "code",
   "execution_count": null,
   "id": "31c92da9",
   "metadata": {},
   "outputs": [],
   "source": [
    "df_cotec = df_lotacao_rfb[df_lotacao_rfb['UORG_EXERCICIO'].str.contains('COTEC')]\n",
    "df_cotec['UORG_EXERCICIO'].value_counts().reset_index()"
   ]
  },
  {
   "cell_type": "code",
   "execution_count": null,
   "id": "2363c236",
   "metadata": {},
   "outputs": [],
   "source": [
    "df_unidades_centrais.COUNT()"
   ]
  },
  {
   "cell_type": "code",
   "execution_count": null,
   "id": "dbb9327f",
   "metadata": {},
   "outputs": [],
   "source": [
    "df_unidades_centrais = df_lotacao_rfb[df_lotacao_rfb['UORG_EXERCICIO'].str.contains('COTEC/COORDENACAO DE SISTEMAS')]\n",
    "df_unidades_centrais"
   ]
  },
  {
   "cell_type": "code",
   "execution_count": null,
   "id": "c42a4959",
   "metadata": {},
   "outputs": [],
   "source": [
    "df_nome = df_lotacao_rfb[df_lotacao_rfb['NOME'].str.contains('SODRE')]\n",
    "df_nome"
   ]
  },
  {
   "cell_type": "code",
   "execution_count": null,
   "id": "719bfdbe",
   "metadata": {},
   "outputs": [],
   "source": [
    "mostrar_totais_campos(df, campos_orgao)"
   ]
  },
  {
   "cell_type": "code",
   "execution_count": null,
   "id": "192317f9",
   "metadata": {},
   "outputs": [],
   "source": [
    "df_ministerio = cadastro_final[cadastro_final['ORG_LOTACAO'].str.contains('Ministério da Economia')]"
   ]
  },
  {
   "cell_type": "code",
   "execution_count": null,
   "id": "20a4a084",
   "metadata": {},
   "outputs": [],
   "source": [
    "df_ministerio[\"ORG_LOTACAO\"].value_counts().reset_index()"
   ]
  },
  {
   "cell_type": "code",
   "execution_count": null,
   "id": "828a5552",
   "metadata": {},
   "outputs": [],
   "source": []
  },
  {
   "cell_type": "code",
   "execution_count": null,
   "id": "e53b4a53",
   "metadata": {},
   "outputs": [],
   "source": [
    "df_rfb = cadastro_final[cadastro_final['UORG_LOTACAO'].str.contains('RFB')]"
   ]
  },
  {
   "cell_type": "code",
   "execution_count": null,
   "id": "9fb03c03",
   "metadata": {},
   "outputs": [],
   "source": [
    "df_cotec = df_ministerio[df_ministerio['UORG_EXERCICIO'].str.contains('COTEC')]"
   ]
  },
  {
   "cell_type": "code",
   "execution_count": null,
   "id": "9c4fb1d7",
   "metadata": {},
   "outputs": [],
   "source": [
    "df_cotec[\"UORG_EXERCICIO\"].value_counts().reset_index()"
   ]
  },
  {
   "cell_type": "code",
   "execution_count": null,
   "id": "1e214bca",
   "metadata": {},
   "outputs": [],
   "source": [
    "df_cotec[\"UORG_LOTACAO\"].value_counts().reset_index()"
   ]
  },
  {
   "cell_type": "code",
   "execution_count": null,
   "id": "b94c470d",
   "metadata": {},
   "outputs": [],
   "source": [
    "df_cotec"
   ]
  },
  {
   "cell_type": "code",
   "execution_count": null,
   "id": "b1b6a37e",
   "metadata": {},
   "outputs": [],
   "source": [
    "\n",
    "\n",
    "df_rfb_unidades_centrais = cadastro_final[cadastro_final['UORG_LOTACAO'].str.contains('UNIDADES CENTRAIS/RFB')]"
   ]
  },
  {
   "cell_type": "code",
   "execution_count": null,
   "id": "76bb4a14",
   "metadata": {},
   "outputs": [],
   "source": [
    "UORG_EXERCICIO"
   ]
  },
  {
   "cell_type": "code",
   "execution_count": null,
   "id": "f3f4b0e3",
   "metadata": {},
   "outputs": [],
   "source": [
    "df_rfb_unidades_centrais"
   ]
  },
  {
   "cell_type": "code",
   "execution_count": null,
   "id": "9a2ddd4c",
   "metadata": {},
   "outputs": [],
   "source": [
    "# Use o método 'value_counts' para contar a frequência dos valores únicos\n",
    "contagem_valores = df_rfb_unidades_centrais[\"UORG_EXERCICIO\"].value_counts().reset_index()\n",
    "\n",
    "# Renomeie as colunas no novo DataFrame\n",
    "contagem_valores.columns = [\"UORG_EXERCICIO\", \"Contagem\"]\n",
    "\n",
    "# O DataFrame 'contagem_valores' agora contém as contagens dos valores únicos\n"
   ]
  },
  {
   "cell_type": "code",
   "execution_count": null,
   "id": "6586eadb",
   "metadata": {},
   "outputs": [],
   "source": [
    "contagem_valores[contagem_valores['UORG_EXERCICIO'].str.contains('COTEC')]"
   ]
  },
  {
   "cell_type": "code",
   "execution_count": null,
   "id": "a4356183",
   "metadata": {},
   "outputs": [],
   "source": [
    "contagem_valores"
   ]
  }
 ],
 "metadata": {
  "kernelspec": {
   "display_name": "Python 3 (ipykernel)",
   "language": "python",
   "name": "python3"
  },
  "language_info": {
   "codemirror_mode": {
    "name": "ipython",
    "version": 3
   },
   "file_extension": ".py",
   "mimetype": "text/x-python",
   "name": "python",
   "nbconvert_exporter": "python",
   "pygments_lexer": "ipython3",
   "version": "3.10.12"
  }
 },
 "nbformat": 4,
 "nbformat_minor": 5
}

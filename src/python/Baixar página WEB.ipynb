{
 "cells": [
  {
   "cell_type": "markdown",
   "id": "09b1fd72-d0aa-45d5-8437-3a8fa31d8dd8",
   "metadata": {},
   "source": [
    "# Notebook para baixar os dados Siape do Portal da Transparência"
   ]
  },
  {
   "cell_type": "markdown",
   "id": "e73b93f1-bfc1-4ea7-88b5-03a7a0ec7a5c",
   "metadata": {},
   "source": [
    "* https://www.gov.br/receitafederal/pt-br"
   ]
  },
  {
   "cell_type": "code",
   "execution_count": 20,
   "id": "16cb4158-aba4-476a-a01a-2b2fba63ade1",
   "metadata": {},
   "outputs": [
    {
     "ename": "ModuleNotFoundError",
     "evalue": "No module named 'tqdm'",
     "output_type": "error",
     "traceback": [
      "\u001b[0;31m---------------------------------------------------------------------------\u001b[0m",
      "\u001b[0;31mModuleNotFoundError\u001b[0m                       Traceback (most recent call last)",
      "Cell \u001b[0;32mIn[20], line 4\u001b[0m\n\u001b[1;32m      2\u001b[0m \u001b[38;5;28;01mimport\u001b[39;00m \u001b[38;5;21;01mrequests\u001b[39;00m\n\u001b[1;32m      3\u001b[0m \u001b[38;5;28;01mimport\u001b[39;00m \u001b[38;5;21;01murllib3\u001b[39;00m\n\u001b[0;32m----> 4\u001b[0m \u001b[38;5;28;01mfrom\u001b[39;00m \u001b[38;5;21;01mtqdm\u001b[39;00m \u001b[38;5;28;01mimport\u001b[39;00m tqdm  \u001b[38;5;66;03m# Esta biblioteca exibe uma barra de progresso durante o download\u001b[39;00m\n",
      "\u001b[0;31mModuleNotFoundError\u001b[0m: No module named 'tqdm'"
     ]
    }
   ],
   "source": [
    "import os\n",
    "import requests\n",
    "import urllib3\n",
    "import beautifulsoap\n",
    "import wget\n",
    "\n",
    "from tqdm import tqdm  # Esta biblioteca exibe uma barra de progresso durante o download"
   ]
  },
  {
   "cell_type": "code",
   "execution_count": null,
   "id": "fb1f7052-8388-4a47-967b-34dd47ccf5bf",
   "metadata": {},
   "outputs": [],
   "source": [
    "# import os\n",
    "\n",
    "#diretorio_atual = os.getcwd()\n",
    "#print(\"Diretório Atual:\", diretorio_atual)"
   ]
  },
  {
   "cell_type": "markdown",
   "id": "c3566d0e-e6cb-4f7e-a762-c0fa285a206a",
   "metadata": {},
   "source": [
    "* Caminho absoluto: /var/dados/dados_siape_bruto\n",
    "\n",
    "* Caminho relativo: ../../dados/dados_siape_bruto"
   ]
  },
  {
   "cell_type": "code",
   "execution_count": 21,
   "id": "c10ddde2-0b1f-4ad3-9331-34de10bad5a3",
   "metadata": {},
   "outputs": [],
   "source": [
    "def baixar_arquivo_siape(url, arquivo_destino):\n",
    "\n",
    "    # Verifica se o arquivo já existe no diretório\n",
    "    if os.path.exists(arquivo_destino):\n",
    "        print(f'O arquivo {arquivo_destino} já existe. Pulando o download.')\n",
    "    else:    \n",
    "        # Faça a solicitação GET para o URL sem usar stream (download completo de uma vez)\n",
    "        response = requests.get(url, stream=True)\n",
    "        \n",
    "        # Certifique-se de que a solicitação foi bem-sucedida (código de status 200)\n",
    "        if response.status_code == 200:\n",
    "            \n",
    "            # Abra o arquivo local para escrita binária\n",
    "            with (\n",
    "                open(arquivo_destino, 'wb') as file, \n",
    "            \n",
    "                tqdm(desc=\"Downloading\",\n",
    "                    total=int(response.headers['content-length']),\n",
    "                    unit='B',\n",
    "                    unit_scale=True,\n",
    "                    unit_divisor=1024) as bar\n",
    "                ):\n",
    "                \n",
    "                # Itera sobre os dados em partes e escreve no arquivo local\n",
    "                for data in response.iter_content(chunk_size=1024):\n",
    "                    file.write(data)\n",
    "                    bar.update(len(data))\n",
    "        else:\n",
    "            print(f\"Erro ao baixar o arquivo. Código de status: {response.status_code}\")"
   ]
  },
  {
   "cell_type": "code",
   "execution_count": 22,
   "id": "cb4c3ec0-6054-414e-bbe2-162828ef0542",
   "metadata": {},
   "outputs": [
    {
     "data": {
      "text/plain": [
       "'gov.br/receitafederal/pt-br.html'"
      ]
     },
     "metadata": {},
     "output_type": "display_data"
    },
    {
     "data": {
      "text/plain": [
       "'Fazendo download do arquivo: gov.br/receitafederal/pt-br.html'"
      ]
     },
     "metadata": {},
     "output_type": "display_data"
    },
    {
     "data": {
      "text/plain": [
       "'        url download: https://www.gov.br/receitafederal/pt-br'"
      ]
     },
     "metadata": {},
     "output_type": "display_data"
    },
    {
     "data": {
      "text/plain": [
       "''"
      ]
     },
     "metadata": {},
     "output_type": "display_data"
    },
    {
     "ename": "FileNotFoundError",
     "evalue": "[Errno 2] No such file or directory: '../../analises/html_jupyter/gov.br/receitafederal/pt-br.html'",
     "output_type": "error",
     "traceback": [
      "\u001b[0;31m---------------------------------------------------------------------------\u001b[0m",
      "\u001b[0;31mFileNotFoundError\u001b[0m                         Traceback (most recent call last)",
      "Cell \u001b[0;32mIn[22], line 19\u001b[0m\n\u001b[1;32m     15\u001b[0m     display(\u001b[38;5;124mf\u001b[39m\u001b[38;5;124m'\u001b[39m\u001b[38;5;124m'\u001b[39m)\n\u001b[1;32m     17\u001b[0m     baixar_arquivo_siape(url_download, arquivo_destino)\n\u001b[0;32m---> 19\u001b[0m \u001b[43mfazer_download_arquivos_siape\u001b[49m\u001b[43m(\u001b[49m\u001b[43m)\u001b[49m\n",
      "Cell \u001b[0;32mIn[22], line 17\u001b[0m, in \u001b[0;36mfazer_download_arquivos_siape\u001b[0;34m()\u001b[0m\n\u001b[1;32m     14\u001b[0m display(\u001b[38;5;124mf\u001b[39m\u001b[38;5;124m'\u001b[39m\u001b[38;5;124m        url download: \u001b[39m\u001b[38;5;132;01m{\u001b[39;00murl_download\u001b[38;5;132;01m}\u001b[39;00m\u001b[38;5;124m'\u001b[39m)\n\u001b[1;32m     15\u001b[0m display(\u001b[38;5;124mf\u001b[39m\u001b[38;5;124m'\u001b[39m\u001b[38;5;124m'\u001b[39m)\n\u001b[0;32m---> 17\u001b[0m \u001b[43mbaixar_arquivo_siape\u001b[49m\u001b[43m(\u001b[49m\u001b[43murl_download\u001b[49m\u001b[43m,\u001b[49m\u001b[43m \u001b[49m\u001b[43marquivo_destino\u001b[49m\u001b[43m)\u001b[49m\n",
      "Cell \u001b[0;32mIn[21], line 15\u001b[0m, in \u001b[0;36mbaixar_arquivo_siape\u001b[0;34m(url, arquivo_destino)\u001b[0m\n\u001b[1;32m     10\u001b[0m \u001b[38;5;66;03m# Certifique-se de que a solicitação foi bem-sucedida (código de status 200)\u001b[39;00m\n\u001b[1;32m     11\u001b[0m \u001b[38;5;28;01mif\u001b[39;00m response\u001b[38;5;241m.\u001b[39mstatus_code \u001b[38;5;241m==\u001b[39m \u001b[38;5;241m200\u001b[39m:\n\u001b[1;32m     12\u001b[0m     \n\u001b[1;32m     13\u001b[0m     \u001b[38;5;66;03m# Abra o arquivo local para escrita binária\u001b[39;00m\n\u001b[1;32m     14\u001b[0m     \u001b[38;5;28;01mwith\u001b[39;00m (\n\u001b[0;32m---> 15\u001b[0m         \u001b[38;5;28;43mopen\u001b[39;49m\u001b[43m(\u001b[49m\u001b[43marquivo_destino\u001b[49m\u001b[43m,\u001b[49m\u001b[43m \u001b[49m\u001b[38;5;124;43m'\u001b[39;49m\u001b[38;5;124;43mwb\u001b[39;49m\u001b[38;5;124;43m'\u001b[39;49m\u001b[43m)\u001b[49m \u001b[38;5;28;01mas\u001b[39;00m file, \n\u001b[1;32m     16\u001b[0m     \n\u001b[1;32m     17\u001b[0m         tqdm(desc\u001b[38;5;241m=\u001b[39m\u001b[38;5;124m\"\u001b[39m\u001b[38;5;124mDownloading\u001b[39m\u001b[38;5;124m\"\u001b[39m,\n\u001b[1;32m     18\u001b[0m             total\u001b[38;5;241m=\u001b[39m\u001b[38;5;28mint\u001b[39m(response\u001b[38;5;241m.\u001b[39mheaders[\u001b[38;5;124m'\u001b[39m\u001b[38;5;124mcontent-length\u001b[39m\u001b[38;5;124m'\u001b[39m]),\n\u001b[1;32m     19\u001b[0m             unit\u001b[38;5;241m=\u001b[39m\u001b[38;5;124m'\u001b[39m\u001b[38;5;124mB\u001b[39m\u001b[38;5;124m'\u001b[39m,\n\u001b[1;32m     20\u001b[0m             unit_scale\u001b[38;5;241m=\u001b[39m\u001b[38;5;28;01mTrue\u001b[39;00m,\n\u001b[1;32m     21\u001b[0m             unit_divisor\u001b[38;5;241m=\u001b[39m\u001b[38;5;241m1024\u001b[39m) \u001b[38;5;28;01mas\u001b[39;00m bar\n\u001b[1;32m     22\u001b[0m         ):\n\u001b[1;32m     23\u001b[0m         \n\u001b[1;32m     24\u001b[0m         \u001b[38;5;66;03m# Itera sobre os dados em partes e escreve no arquivo local\u001b[39;00m\n\u001b[1;32m     25\u001b[0m         \u001b[38;5;28;01mfor\u001b[39;00m data \u001b[38;5;129;01min\u001b[39;00m response\u001b[38;5;241m.\u001b[39miter_content(chunk_size\u001b[38;5;241m=\u001b[39m\u001b[38;5;241m1024\u001b[39m):\n\u001b[1;32m     26\u001b[0m             file\u001b[38;5;241m.\u001b[39mwrite(data)\n",
      "File \u001b[0;32m~/.local/lib/python3.10/site-packages/IPython/core/interactiveshell.py:324\u001b[0m, in \u001b[0;36m_modified_open\u001b[0;34m(file, *args, **kwargs)\u001b[0m\n\u001b[1;32m    317\u001b[0m \u001b[38;5;28;01mif\u001b[39;00m file \u001b[38;5;129;01min\u001b[39;00m {\u001b[38;5;241m0\u001b[39m, \u001b[38;5;241m1\u001b[39m, \u001b[38;5;241m2\u001b[39m}:\n\u001b[1;32m    318\u001b[0m     \u001b[38;5;28;01mraise\u001b[39;00m \u001b[38;5;167;01mValueError\u001b[39;00m(\n\u001b[1;32m    319\u001b[0m         \u001b[38;5;124mf\u001b[39m\u001b[38;5;124m\"\u001b[39m\u001b[38;5;124mIPython won\u001b[39m\u001b[38;5;124m'\u001b[39m\u001b[38;5;124mt let you open fd=\u001b[39m\u001b[38;5;132;01m{\u001b[39;00mfile\u001b[38;5;132;01m}\u001b[39;00m\u001b[38;5;124m by default \u001b[39m\u001b[38;5;124m\"\u001b[39m\n\u001b[1;32m    320\u001b[0m         \u001b[38;5;124m\"\u001b[39m\u001b[38;5;124mas it is likely to crash IPython. If you know what you are doing, \u001b[39m\u001b[38;5;124m\"\u001b[39m\n\u001b[1;32m    321\u001b[0m         \u001b[38;5;124m\"\u001b[39m\u001b[38;5;124myou can use builtins\u001b[39m\u001b[38;5;124m'\u001b[39m\u001b[38;5;124m open.\u001b[39m\u001b[38;5;124m\"\u001b[39m\n\u001b[1;32m    322\u001b[0m     )\n\u001b[0;32m--> 324\u001b[0m \u001b[38;5;28;01mreturn\u001b[39;00m \u001b[43mio_open\u001b[49m\u001b[43m(\u001b[49m\u001b[43mfile\u001b[49m\u001b[43m,\u001b[49m\u001b[43m \u001b[49m\u001b[38;5;241;43m*\u001b[39;49m\u001b[43margs\u001b[49m\u001b[43m,\u001b[49m\u001b[43m \u001b[49m\u001b[38;5;241;43m*\u001b[39;49m\u001b[38;5;241;43m*\u001b[39;49m\u001b[43mkwargs\u001b[49m\u001b[43m)\u001b[49m\n",
      "\u001b[0;31mFileNotFoundError\u001b[0m: [Errno 2] No such file or directory: '../../analises/html_jupyter/gov.br/receitafederal/pt-br.html'"
     ]
    }
   ],
   "source": [
    "def fazer_download_arquivos_siape():\n",
    "    \n",
    "    url_base = 'https://www.gov.br/receitafederal/pt-br'\n",
    "    pasta_destino = '../../analises/html_jupyter'\n",
    "    \n",
    "    nome_arquivo = f'{url_base[12:]}.html'  \n",
    "\n",
    "    display(nome_arquivo)\n",
    "    \n",
    "    url_download = f'{url_base}'\n",
    "    arquivo_destino = f'{pasta_destino}/{nome_arquivo}'\n",
    "    \n",
    "    display(f'Fazendo download do arquivo: {nome_arquivo}')\n",
    "    display(f'        url download: {url_download}')\n",
    "    display(f'')\n",
    "    \n",
    "    baixar_arquivo_siape(url_download, arquivo_destino)\n",
    "    \n",
    "fazer_download_arquivos_siape()"
   ]
  },
  {
   "cell_type": "code",
   "execution_count": null,
   "id": "9b2cdf31-1a6e-4310-95b9-6b65e409c0f6",
   "metadata": {},
   "outputs": [],
   "source": []
  }
 ],
 "metadata": {
  "kernelspec": {
   "display_name": "Python 3 (ipykernel)",
   "language": "python",
   "name": "python3"
  },
  "language_info": {
   "codemirror_mode": {
    "name": "ipython",
    "version": 3
   },
   "file_extension": ".py",
   "mimetype": "text/x-python",
   "name": "python",
   "nbconvert_exporter": "python",
   "pygments_lexer": "ipython3",
   "version": "3.10.12"
  }
 },
 "nbformat": 4,
 "nbformat_minor": 5
}

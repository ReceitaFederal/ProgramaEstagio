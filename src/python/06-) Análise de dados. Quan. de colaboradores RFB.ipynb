{
 "cells": [
  {
   "cell_type": "code",
   "execution_count": 2,
   "id": "eb288356-5219-497b-8401-bdd935f72d6e",
   "metadata": {},
   "outputs": [
    {
     "name": "stderr",
     "output_type": "stream",
     "text": [
      "/home/carolcardoso/.local/lib/python3.10/site-packages/matplotlib/projections/__init__.py:63: UserWarning: Unable to import Axes3D. This may be due to multiple versions of Matplotlib being installed (e.g. as a system package and as a pip package). As a result, the 3D projection is not available.\n",
      "  warnings.warn(\"Unable to import Axes3D. This may be due to multiple versions of \"\n",
      "/usr/lib/python3/dist-packages/scipy/__init__.py:146: UserWarning: A NumPy version >=1.17.3 and <1.25.0 is required for this version of SciPy (detected version 1.26.3\n",
      "  warnings.warn(f\"A NumPy version >={np_minversion} and <{np_maxversion}\"\n"
     ]
    }
   ],
   "source": [
    "import pandas as pd\n",
    "import plotly.express as px\n",
    "import plotly.graph_objects as go\n",
    "import matplotlib.pyplot as plt\n",
    "from IPython.display import display, Markdown\n",
    "import seaborn as sns"
   ]
  },
  {
   "cell_type": "code",
   "execution_count": 3,
   "id": "65898120-279c-450f-84dd-95f97d7185e2",
   "metadata": {},
   "outputs": [],
   "source": [
    "pd.set_option('display.max_columns', None)\n",
    "pd.set_option('display.max_rows', None)"
   ]
  },
  {
   "cell_type": "code",
   "execution_count": 8,
   "id": "59bbabba-599d-4c77-be6a-374675f4b19a",
   "metadata": {},
   "outputs": [],
   "source": [
    "# Especifique o caminho para o seu arquivo CSV\n",
    "caminho_arquivo = '../../dados/dados_siape_consolidado/uorg_exercicio/cadastro_siape_consolidado_uorg_org_regime_mes_ano_completo-2021-2023.csv'\n",
    "\n",
    "df = pd.read_csv(caminho_arquivo)"
   ]
  },
  {
   "cell_type": "code",
   "execution_count": null,
   "id": "9845f614-0b19-4391-ba0e-fcc49f67b2ef",
   "metadata": {},
   "outputs": [],
   "source": [
    "df['ano_mes'] = df['ano'].astype(str) + '-' + df['mes'].astype(str).str.zfill(2)"
   ]
  },
  {
   "cell_type": "code",
   "execution_count": null,
   "id": "819a4972-6d44-434e-86e7-293f95dec1c8",
   "metadata": {},
   "outputs": [],
   "source": [
    "df_filtrado = df[df['REGIME_JURIDICO'].str.contains('estagio', na=False, case=False) & \n",
    "            df['UORG_EXERCICIO'].str.contains('rfb', na=False, case=False)]\n",
    "\n",
    "df_contagem = df_filtrado.groupby(['ORG_EXERCICIO', 'ano'])['Contagem'].sum().reset_index()\n",
    "\n",
    "display(df_contagem)"
   ]
  },
  {
   "cell_type": "markdown",
   "id": "7fa2bdb4-61c4-49e5-a599-e13c1a6c2cfc",
   "metadata": {},
   "source": [
    "# Contagem dos servidores na RFB ao longo dos anos"
   ]
  },
  {
   "cell_type": "code",
   "execution_count": null,
   "id": "b1438e19-7ed5-49c0-ae4a-08ac6c820004",
   "metadata": {},
   "outputs": [],
   "source": [
    "def grafico_servidores_por_orgao_mes_ano (df_orgaos, orgaos_escolhidos):\n",
    "\n",
    "    df_filtrado = df_orgaos[\n",
    "                        df_orgaos[\"REGIME_JURIDICO\"].str.contains(\"regime juridico unico\", na=False, case=False) &\n",
    "                        df_orgaos[\"ORG_EXERCICIO\"].str.contains('|'.join(orgaos_escolhidos), na=False, case=False)\n",
    "                    ]\n",
    "    # Supondo que df seja o seu DataFrame    \n",
    "    tamanho = df_filtrado['REGIME_JURIDICO'].count()\n",
    "    \n",
    "    if tamanho == 0:\n",
    "        \n",
    "        display(f'O dataframe não tem registros')\n",
    "\n",
    "    else:\n",
    "        df_grupo_contagem = df_filtrado.groupby(['ORG_EXERCICIO','ano_mes'])['Contagem'].sum().reset_index()\n",
    "\n",
    "        # Criar gráfico interativo de linha usando o Plotly Express\n",
    "        fig = px.line(df_grupo_contagem, x='ano_mes', y='Contagem', color='ORG_EXERCICIO', labels={'ano_mes': 'Mês e ano', 'Contagem': 'Quantidade total'},\n",
    "                      markers=True, line_shape='linear',\n",
    "                      title='Contagem de servidores da RFB ao longo dos meses e anos')\n",
    "    \n",
    "        # Ajustar configuração do eixo X para mostrar todos os anos\n",
    "        fig.update_layout(xaxis=dict(tickmode='linear', dtick=1))\n",
    "    \n",
    "        # Configurar a legenda do eixo X na vertical\n",
    "        fig.update_xaxes(tickangle=90, tickmode='array', tickvals=df['ano_mes'].tolist(), ticktext=df['ano_mes'].tolist())\n",
    "\n",
    "        # Exibir gráfico\n",
    "        fig.show()\n",
    "\n",
    "orgaos_escolhidos = [\n",
    "    'ministerio da fazenda',\n",
    "    'ministério da economia']\n",
    "\n",
    "grafico_servidores_por_orgao_mes_ano(df, orgaos_escolhidos)"
   ]
  },
  {
   "cell_type": "markdown",
   "id": "2566bc9f-9107-42d3-9d51-f99c9f394554",
   "metadata": {},
   "source": [
    "# Contagem de estagiários da RFB ao longo dos meses e anos"
   ]
  },
  {
   "cell_type": "code",
   "execution_count": null,
   "id": "3e742824-e9d7-483e-874b-12c11bcb78bc",
   "metadata": {},
   "outputs": [],
   "source": [
    "def grafico_servidores_por_orgao_mes_ano (df_orgaos, orgaos_escolhidos):\n",
    "\n",
    "    df_filtrado = df_orgaos[\n",
    "                        df_orgaos[\"REGIME_JURIDICO\"].str.contains(\"estag\", na=False, case=False) &\n",
    "                        df_orgaos[\"ORG_EXERCICIO\"].str.contains('|'.join(orgaos_escolhidos), na=False, case=False)\n",
    "                    ]\n",
    "    # Supondo que df seja o seu DataFrame    \n",
    "    tamanho = df_filtrado['REGIME_JURIDICO'].count()\n",
    "    \n",
    "    if tamanho == 0:\n",
    "        \n",
    "        display(f'O dataframe não tem registros')\n",
    "\n",
    "    else:\n",
    "        df_grupo_contagem = df_filtrado.groupby(['ORG_EXERCICIO','ano_mes'])['Contagem'].sum().reset_index()\n",
    "\n",
    "        # Criar gráfico interativo de linha usando o Plotly Express\n",
    "        fig = px.line(df_grupo_contagem, x='ano_mes', y='Contagem', color='ORG_EXERCICIO', labels={'ano_mes': 'Mês e ano', 'Contagem': 'Quantidade total'},\n",
    "                      markers=True, line_shape='linear',\n",
    "                      title='Contagem de estagiários da RFB ao longo dos meses e anos')\n",
    "    \n",
    "        # Ajustar configuração do eixo X para mostrar todos os anos\n",
    "        fig.update_layout(xaxis=dict(tickmode='linear', dtick=1))\n",
    "    \n",
    "        # Configurar a legenda do eixo X na vertical\n",
    "        fig.update_xaxes(tickangle=90, tickmode='array', tickvals=df['ano_mes'].tolist(), ticktext=df['ano_mes'].tolist())\n",
    "\n",
    "        # Exibir gráfico\n",
    "        fig.show()\n",
    "\n",
    "orgaos_escolhidos = [\n",
    "    'ministerio da fazenda',\n",
    "    'ministério da economia']\n",
    "\n",
    "grafico_servidores_por_orgao_mes_ano(df, orgaos_escolhidos)"
   ]
  }
 ],
 "metadata": {
  "kernelspec": {
   "display_name": "Python 3 (ipykernel)",
   "language": "python",
   "name": "python3"
  },
  "language_info": {
   "codemirror_mode": {
    "name": "ipython",
    "version": 3
   },
   "file_extension": ".py",
   "mimetype": "text/x-python",
   "name": "python",
   "nbconvert_exporter": "python",
   "pygments_lexer": "ipython3",
   "version": "3.10.12"
  }
 },
 "nbformat": 4,
 "nbformat_minor": 5
}

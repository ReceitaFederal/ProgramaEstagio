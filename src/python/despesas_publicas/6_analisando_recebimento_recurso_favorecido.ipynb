{
 "cells": [
  {
   "cell_type": "code",
   "execution_count": null,
   "id": "5d7f255d-2245-42f3-8103-f98f9dd155a9",
   "metadata": {},
   "outputs": [],
   "source": [
    "import pandas as pd\n",
    "from IPython.display import Markdown, display"
   ]
  },
  {
   "cell_type": "code",
   "execution_count": null,
   "id": "eeccf4df-f050-4953-9497-c9185af46360",
   "metadata": {},
   "outputs": [],
   "source": [
    "pd.set_option('display.max_columns', None)\n",
    "pd.set_option('display.max_rows', 5)"
   ]
  },
  {
   "cell_type": "markdown",
   "id": "2e07d105-d8d8-47f1-8432-d301e29be04e",
   "metadata": {},
   "source": [
    "# Análise do Tema Despesas no Portal da Transparência\n",
    "\n",
    "**Fonte de Dados:**\n",
    "\n",
    "https://portaldatransparencia.gov.br/download-de-dados\n",
    "\n",
    "Link: https://portaldatransparencia.gov.br/download-de-dados/despesas\n",
    "\n",
    "\n",
    "\n",
    "*Outras fontes possíveis:\n",
    "Outras fontes para um segundo momento.\n",
    "Link: https://portaldatransparencia.gov.br/download-de-dados/despesas-execucao*"
   ]
  },
  {
   "cell_type": "code",
   "execution_count": null,
   "id": "7be55fe3-6e33-4a05-95a1-a183889a4ce7",
   "metadata": {},
   "outputs": [],
   "source": [
    "# Especifique o caminho para o seu arquivo CSV\n",
    "caminho_pasta = '../../../informações/despesas_publicas/'"
   ]
  },
  {
   "cell_type": "code",
   "execution_count": null,
   "id": "90c669c0-7672-4cf4-be34-d432f60c301b",
   "metadata": {},
   "outputs": [],
   "source": [
    "csv_recebimentos_recursos_favorecido = caminho_pasta + 'recursos_por_favorecido/202401_recursos_favorecidos/202401_RecebimentosRecursosPorFavorecido.csv'\n",
    "\n",
    "df_recebimentos_recursos_favorecido = pd.read_csv(csv_recebimentos_recursos_favorecido, delimiter=';', encoding='latin1')"
   ]
  },
  {
   "cell_type": "code",
   "execution_count": null,
   "id": "9bcd99f6-b8ae-425a-b11b-6bed6936734b",
   "metadata": {},
   "outputs": [],
   "source": [
    "display(Markdown(\"## Mostrando o DF de 'Recebimentos dos recursos por favorecido'\"))\n",
    "display(df_recebimentos_recursos_favorecido.info())\n",
    "display(df_recebimentos_recursos_favorecido.sample(3))"
   ]
  },
  {
   "cell_type": "code",
   "execution_count": null,
   "id": "f352be68-17f6-4621-92de-78c8cc14693f",
   "metadata": {},
   "outputs": [],
   "source": [
    "display(Markdown(\"## Pesquisa por unidade RFB\"))\n",
    "df_recebimentos_recursos_favorecido_rfb = df_recebimentos_recursos_favorecido[df_recebimentos_recursos_favorecido['Nome Unidade Gestora'].str.contains('rfb', case=False, na=False)]\n",
    "display(df_recebimentos_recursos_favorecido_rfb.info())\n",
    "display(df_recebimentos_recursos_favorecido_rfb)"
   ]
  }
 ],
 "metadata": {
  "kernelspec": {
   "display_name": "Ambiente Virtual",
   "language": "python",
   "name": "ambiente_virtual"
  },
  "language_info": {
   "codemirror_mode": {
    "name": "ipython",
    "version": 3
   },
   "file_extension": ".py",
   "mimetype": "text/x-python",
   "name": "python",
   "nbconvert_exporter": "python",
   "pygments_lexer": "ipython3",
   "version": "3.12.3"
  }
 },
 "nbformat": 4,
 "nbformat_minor": 5
}

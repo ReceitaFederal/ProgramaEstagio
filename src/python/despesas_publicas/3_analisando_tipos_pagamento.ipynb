{
 "cells": [
  {
   "cell_type": "code",
   "execution_count": null,
   "id": "5d7f255d-2245-42f3-8103-f98f9dd155a9",
   "metadata": {},
   "outputs": [],
   "source": [
    "import pandas as pd\n",
    "from IPython.display import Markdown, display"
   ]
  },
  {
   "cell_type": "code",
   "execution_count": null,
   "id": "eeccf4df-f050-4953-9497-c9185af46360",
   "metadata": {},
   "outputs": [],
   "source": [
    "pd.set_option('display.max_columns', None)\n",
    "pd.set_option('display.max_rows', 5)"
   ]
  },
  {
   "cell_type": "markdown",
   "id": "2e07d105-d8d8-47f1-8432-d301e29be04e",
   "metadata": {},
   "source": [
    "# Análise do Tema Despesas no Portal da Transparência\n",
    "\n",
    "**Fonte de Dados:**\n",
    "\n",
    "https://portaldatransparencia.gov.br/download-de-dados\n",
    "\n",
    "Link: https://portaldatransparencia.gov.br/download-de-dados/despesas\n",
    "\n",
    "\n",
    "\n",
    "*Outras fontes possíveis:\n",
    "Outras fontes para um segundo momento.\n",
    "Link: https://portaldatransparencia.gov.br/download-de-dados/despesas-execucao*"
   ]
  },
  {
   "cell_type": "code",
   "execution_count": null,
   "id": "7be55fe3-6e33-4a05-95a1-a183889a4ce7",
   "metadata": {},
   "outputs": [],
   "source": [
    "# Especifique o caminho para o seu arquivo CSV\n",
    "caminho_pasta = '../../../informações/despesas_publicas/'"
   ]
  },
  {
   "cell_type": "markdown",
   "id": "dd4a0a4b-e38c-4585-aa43-9bd80ae4771b",
   "metadata": {},
   "source": [
    "# Datasets\n",
    "\n",
    "São três datasets principais:\n",
    "\n",
    "* Empenho\n",
    "* Pagamento\n",
    "* Liquidação\n",
    "\n",
    "\n",
    "# Diferença entre Empenho, Liquidação e Pagamento na Contabilidade Pública Federal\n",
    "\n",
    "Na contabilidade pública federal brasileira, os termos **empenho**, **liquidação** e **pagamento** se referem às fases do processo de execução da despesa pública. Essas fases são obrigatórias e seguem uma ordem para assegurar o controle do uso dos recursos públicos. Aqui está a diferença entre eles:\n",
    "\n",
    "## 1. Empenho\n",
    "O empenho é a **primeira fase** da execução da despesa. Consiste na reserva de parte do orçamento público para a realização de uma determinada despesa. Ele é formalizado por meio de um documento chamado Nota de Empenho, que garante que há disponibilidade orçamentária para cobrir a despesa. O empenho pode ser:\n",
    "   - **Ordinário**: Para despesas cujo valor total é conhecido no momento do empenho.\n",
    "   - **Estimativo**: Para despesas contínuas e variáveis, como serviços públicos (água, energia).\n",
    "   - **Global**: Para despesas contratuais com execução ao longo do exercício financeiro.\n",
    "\n",
    "O empenho **não representa o pagamento imediato**, mas apenas uma garantia de que o valor está reservado no orçamento.\n",
    "\n",
    "## 2. Liquidação\n",
    "A liquidação é a **segunda fase** do processo de execução da despesa. Ela ocorre quando o serviço ou bem contratado foi entregue ou prestado, e é necessário verificar se o que foi solicitado está de acordo com o contrato ou a ordem de serviço. A liquidação consiste na **verificação da origem da dívida**, ou seja, se o bem ou serviço foi efetivamente entregue ou realizado conforme o contratado.\n",
    "\n",
    "Nesta fase, a Administração Pública comprova:\n",
    "   - A existência do direito adquirido pelo credor;\n",
    "   - O cumprimento das condições para o pagamento;\n",
    "   - O valor a ser pago.\n",
    "\n",
    "Ou seja, é o reconhecimento de que a despesa foi realizada e está apta para ser paga.\n",
    "\n",
    "## 3. Pagamento\n",
    "O pagamento é a **última fase** do processo de execução da despesa pública. Ele ocorre após a liquidação, quando a Administração Pública efetivamente transfere os recursos financeiros para o credor (fornecedor, prestador de serviços, etc.). É o momento em que a despesa se concretiza, ou seja, quando o dinheiro sai dos cofres públicos para cumprir a obrigação financeira gerada pelo empenho e verificada pela liquidação.\n",
    "\n",
    "## Resumo do processo:\n",
    "1. **Empenho**: Reserva do orçamento (garantia de que a despesa será paga no futuro).\n",
    "2. **Liquidação**: Verificação e comprovação de que o serviço ou bem foi entregue e está de acordo com o contrato.\n",
    "3. **Pagamento**: Transferência dos recursos financeiros ao credor.\n",
    "\n",
    "Essas etapas são fundamentais para garantir a legalidade, a transparência e o controle da execução da despesa pública, assegurando que os recursos sejam utilizados corretamente.\n"
   ]
  },
  {
   "cell_type": "code",
   "execution_count": null,
   "id": "90c669c0-7672-4cf4-be34-d432f60c301b",
   "metadata": {},
   "outputs": [],
   "source": [
    "csv_pagamento = caminho_pasta + '20240102_Despesas/20240102_Despesas_Pagamento.csv'\n",
    "csv_pagamento_empenhos_impactados = caminho_pasta + '20240102_Despesas/20240102_Despesas_Pagamento_EmpenhosImpactados.csv'\n",
    "csv_pagamento_favorecidos_finais = caminho_pasta + '20240102_Despesas/20240102_Despesas_Pagamento_FavorecidosFinais.csv'\n",
    "csv_pagamento_lista_bancos = caminho_pasta + '20240102_Despesas/20240102_Despesas_Pagamento_ListaBancos.csv'\n",
    "csv_pagamento_lista_faturas = caminho_pasta + '20240102_Despesas/20240102_Despesas_Pagamento_ListaFaturas.csv'\n",
    "csv_pagamento_lista_precatorios = caminho_pasta + '20240102_Despesas/20240102_Despesas_Pagamento_ListaPrecatorios.csv'\n",
    "\n",
    "df_pagamento = pd.read_csv(csv_pagamento, delimiter=';', encoding='latin1')\n",
    "df_pagamento_empenhos_impactados = pd.read_csv(csv_pagamento_empenhos_impactados, delimiter=';', encoding='latin1')\n",
    "df_pagamento_favorecidos_finais = pd.read_csv(csv_pagamento_favorecidos_finais, delimiter=';', encoding='latin1')\n",
    "df_pagamento_lista_bancos = pd.read_csv(csv_pagamento_lista_bancos, delimiter=';', encoding='latin1')\n",
    "df_pagamento_lista_faturas = pd.read_csv(csv_pagamento_lista_faturas, delimiter=';', encoding='latin1')\n",
    "df_pagamento_lista_precatorios = pd.read_csv(csv_pagamento_lista_precatorios, delimiter=';', encoding='latin1')"
   ]
  },
  {
   "cell_type": "code",
   "execution_count": null,
   "id": "9bcd99f6-b8ae-425a-b11b-6bed6936734b",
   "metadata": {},
   "outputs": [],
   "source": [
    "display(Markdown(\"## Mostrando o DF de 'Pagamento'\"))\n",
    "display(df_pagamento.info())\n",
    "display(df_pagamento.sample(3))"
   ]
  },
  {
   "cell_type": "code",
   "execution_count": null,
   "id": "f352be68-17f6-4621-92de-78c8cc14693f",
   "metadata": {},
   "outputs": [],
   "source": [
    "display(Markdown(\"## Pesquisa por código de pagamento\"))\n",
    "df_pagamento_pesquisa_codigo = df_pagamento[df_pagamento['Código Pagamento'].str.contains('710300522332024OB000003', case=False, na=False)]\n",
    "display(df_pagamento_pesquisa_codigo)"
   ]
  },
  {
   "cell_type": "code",
   "execution_count": null,
   "id": "7b7a06b0-4ee9-4945-beb7-82b71fcc026a",
   "metadata": {},
   "outputs": [],
   "source": [
    "display(Markdown(\"## Mostrando o DF de 'Pagamento - Empenhos impactados'\"))\n",
    "display(df_pagamento_empenhos_impactados.info())\n",
    "display(df_pagamento_empenhos_impactados.sample(3))"
   ]
  },
  {
   "cell_type": "code",
   "execution_count": null,
   "id": "ec5da76b-58a6-4c0d-ad39-fe64c9d41ae4",
   "metadata": {},
   "outputs": [],
   "source": [
    "#df_resultado = df[df['Código Pagamento'].value_unique('710300522332024OB000003', case=False, na=False)]\n",
    "display(df_pagamento_empenhos_impactados.value_counts('Código Empenho'))"
   ]
  },
  {
   "cell_type": "code",
   "execution_count": null,
   "id": "dec88830-145d-45bd-9406-a117efb12132",
   "metadata": {},
   "outputs": [],
   "source": [
    "display(Markdown(\"## Mostrando o DF de 'Pagamento - Favorecidos finais'\"))\n",
    "display(df_pagamento_favorecidos_finais.info())\n",
    "display(df_pagamento_favorecidos_finais.sample(3))"
   ]
  },
  {
   "cell_type": "code",
   "execution_count": null,
   "id": "bbe2ec65-eb86-4795-8a0c-0661bfd2f158",
   "metadata": {},
   "outputs": [],
   "source": [
    "display(Markdown(\"## Mostrando o DF de 'Pagamento - Lista bancos'\"))\n",
    "display(df_pagamento_lista_bancos.info())\n",
    "display(df_pagamento_lista_bancos.sample(3))"
   ]
  },
  {
   "cell_type": "code",
   "execution_count": null,
   "id": "ad7e9e9f-7eb6-46d1-b0da-66049a691900",
   "metadata": {},
   "outputs": [],
   "source": [
    "display(Markdown(\"## Mostrando o DF de 'Pagamento - Lista faturas'\"))\n",
    "display(df_pagamento_lista_faturas.info())\n",
    "display(df_pagamento_lista_faturas.sample(3))"
   ]
  },
  {
   "cell_type": "code",
   "execution_count": null,
   "id": "8551b066-ac46-4995-96c6-5e7805636906",
   "metadata": {},
   "outputs": [],
   "source": [
    "display(Markdown(\"## Mostrando o DF de 'Pagamento - Lista precatorios'\"))\n",
    "display(df_pagamento_lista_precatorios.info())\n",
    "#display(df_pagamento_lista_precatorios.sample(3))"
   ]
  },
  {
   "cell_type": "markdown",
   "id": "47d5dfa0-8a16-4f06-ac2a-d1680c1af4e8",
   "metadata": {},
   "source": [
    "# Análise das colunas dos Datasets\n",
    "\n",
    "Podemos perceber que existem diversas colunas em comum.\n",
    "\n",
    "Para facilitar nossa análise vamos mostrar as colunas em comum e depois apenas as colunas específicas de cada dataset."
   ]
  },
  {
   "cell_type": "code",
   "execution_count": null,
   "id": "60a4e3c5-9ed7-4b75-88cb-79a5bac235f3",
   "metadata": {},
   "outputs": [],
   "source": [
    "def listar_colunas_comuns(lista_dataframes):\n",
    "    # Obter as colunas do primeiro DataFrame\n",
    "    colunas_comuns = set(lista_dataframes[0].columns)\n",
    "    \n",
    "    # Iterar sobre os demais DataFrames e fazer interseção de colunas\n",
    "    for df in lista_dataframes[1:]:\n",
    "        colunas_comuns &= set(df.columns)\n",
    "    \n",
    "    return (list(colunas_comuns))\n",
    "\n",
    "colunas_comuns = listar_colunas_comuns([df_pagamento, df_pagamento_empenhos_impactados, df_pagamento_favorecidos_finais, df_pagamento_lista_bancos, df_pagamento_lista_faturas, df_pagamento_lista_precatorios])"
   ]
  },
  {
   "cell_type": "code",
   "execution_count": null,
   "id": "21bfac1b-af17-4214-80a7-61f8fe9d56dd",
   "metadata": {},
   "outputs": [],
   "source": [
    "display(Markdown(\"## Colunas em comum entre Pagamento, empenhos impactados, favorecidos finais, lista bancos, lista faturas e lista precatórios\"))\n",
    "display(colunas_comuns)"
   ]
  },
  {
   "cell_type": "code",
   "execution_count": null,
   "id": "78c98cc9-5db4-4ba3-ac25-392c470ec61d",
   "metadata": {},
   "outputs": [],
   "source": []
  }
 ],
 "metadata": {
  "kernelspec": {
   "display_name": "Ambiente Virtual",
   "language": "python",
   "name": "ambiente_virtual"
  },
  "language_info": {
   "codemirror_mode": {
    "name": "ipython",
    "version": 3
   },
   "file_extension": ".py",
   "mimetype": "text/x-python",
   "name": "python",
   "nbconvert_exporter": "python",
   "pygments_lexer": "ipython3",
   "version": "3.12.3"
  }
 },
 "nbformat": 4,
 "nbformat_minor": 5
}

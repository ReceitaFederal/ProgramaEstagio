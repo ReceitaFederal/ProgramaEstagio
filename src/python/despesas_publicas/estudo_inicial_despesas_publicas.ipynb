{
 "cells": [
  {
   "cell_type": "code",
   "execution_count": 1,
   "id": "5d7f255d-2245-42f3-8103-f98f9dd155a9",
   "metadata": {},
   "outputs": [],
   "source": [
    "import pandas as pd"
   ]
  },
  {
   "cell_type": "code",
   "execution_count": 2,
   "id": "eeccf4df-f050-4953-9497-c9185af46360",
   "metadata": {},
   "outputs": [],
   "source": [
    "pd.set_option('display.max_columns', None)\n",
    "pd.set_option('display.max_rows', 5)"
   ]
  },
  {
   "cell_type": "code",
   "execution_count": 40,
   "id": "7be55fe3-6e33-4a05-95a1-a183889a4ce7",
   "metadata": {},
   "outputs": [],
   "source": [
    "# Especifique o caminho para o seu arquivo CSV\n",
    "caminho_pasta = '../../../ProgramaEstagio/informações/despesas_publicas/'\n",
    "#nome_arquivo = ''\n",
    "#caminho_arquivo = caminho_pasta + nome_arquivo"
   ]
  },
  {
   "cell_type": "code",
   "execution_count": 7,
   "id": "c917a7d5-70a3-4016-9546-9993ff85f22a",
   "metadata": {},
   "outputs": [],
   "source": [
    "# Selecionar colunas específicas\n",
    "colunas_desejadas = ['Ano e mês do lançamento', 'Nome Órgão Superior', 'Nome Unidade Gestora',\n",
    "                     'Plano Orçamentário', 'Nome Categoria Econômica', 'Nome Grupo de Despesa', 'Nome Elemento de Despesa',\n",
    "                     'Modalidade da Despesa', 'Valor Empenhado (R$)', 'Valor Liquidado (R$)', 'Valor Pago (R$)',\n",
    "                     'Valor Restos a Pagar Inscritos (R$)', 'Valor Restos a Pagar Cancelado (R$)', \n",
    "                     'Valor Restos a Pagar Pagos (R$)']\n",
    "# df_selecionado = df_rfb[colunas_desejadas]\n",
    "\n",
    "# Exibir as colunas selecionadas\n",
    "# display(df_selecionado)"
   ]
  },
  {
   "cell_type": "code",
   "execution_count": 41,
   "id": "ad97aff4-eda2-4505-9a43-87d1116fdef8",
   "metadata": {},
   "outputs": [
    {
     "ename": "FileNotFoundError",
     "evalue": "[Errno 2] No such file or directory: '../../../ProgramaEstagio/informações/despesas_publicas/202401_Despesas.csv'",
     "output_type": "error",
     "traceback": [
      "\u001b[0;31m---------------------------------------------------------------------------\u001b[0m",
      "\u001b[0;31mFileNotFoundError\u001b[0m                         Traceback (most recent call last)",
      "Cell \u001b[0;32mIn[41], line 4\u001b[0m\n\u001b[1;32m      1\u001b[0m nome_arquivo \u001b[38;5;241m=\u001b[39m \u001b[38;5;124m'\u001b[39m\u001b[38;5;124m202401_Despesas.csv\u001b[39m\u001b[38;5;124m'\u001b[39m\n\u001b[1;32m      2\u001b[0m caminho_arquivo \u001b[38;5;241m=\u001b[39m caminho_pasta \u001b[38;5;241m+\u001b[39m nome_arquivo\n\u001b[0;32m----> 4\u001b[0m df_despesas \u001b[38;5;241m=\u001b[39m \u001b[43mpd\u001b[49m\u001b[38;5;241;43m.\u001b[39;49m\u001b[43mread_csv\u001b[49m\u001b[43m(\u001b[49m\u001b[43mcaminho_arquivo\u001b[49m\u001b[43m,\u001b[49m\u001b[43m \u001b[49m\u001b[43mdelimiter\u001b[49m\u001b[38;5;241;43m=\u001b[39;49m\u001b[38;5;124;43m'\u001b[39;49m\u001b[38;5;124;43m;\u001b[39;49m\u001b[38;5;124;43m'\u001b[39;49m\u001b[43m,\u001b[49m\u001b[43m \u001b[49m\u001b[43mencoding\u001b[49m\u001b[38;5;241;43m=\u001b[39;49m\u001b[38;5;124;43m'\u001b[39;49m\u001b[38;5;124;43mlatin1\u001b[39;49m\u001b[38;5;124;43m'\u001b[39;49m\u001b[43m)\u001b[49m\n\u001b[1;32m      5\u001b[0m df_despesas_rfb \u001b[38;5;241m=\u001b[39m df_despesas[df_despesas[\u001b[38;5;124m'\u001b[39m\u001b[38;5;124mNome Unidade Gestora\u001b[39m\u001b[38;5;124m'\u001b[39m]\u001b[38;5;241m.\u001b[39mstr\u001b[38;5;241m.\u001b[39mcontains(\u001b[38;5;124m'\u001b[39m\u001b[38;5;124mrfb\u001b[39m\u001b[38;5;124m'\u001b[39m, case\u001b[38;5;241m=\u001b[39m\u001b[38;5;28;01mFalse\u001b[39;00m, na\u001b[38;5;241m=\u001b[39m\u001b[38;5;28;01mFalse\u001b[39;00m)]\n\u001b[1;32m      7\u001b[0m df_despesas_rfb_colunas \u001b[38;5;241m=\u001b[39m df_despesas_rfb[colunas_desejadas]\n",
      "File \u001b[0;32m~/git/meu_ambiente/lib/python3.12/site-packages/pandas/io/parsers/readers.py:1026\u001b[0m, in \u001b[0;36mread_csv\u001b[0;34m(filepath_or_buffer, sep, delimiter, header, names, index_col, usecols, dtype, engine, converters, true_values, false_values, skipinitialspace, skiprows, skipfooter, nrows, na_values, keep_default_na, na_filter, verbose, skip_blank_lines, parse_dates, infer_datetime_format, keep_date_col, date_parser, date_format, dayfirst, cache_dates, iterator, chunksize, compression, thousands, decimal, lineterminator, quotechar, quoting, doublequote, escapechar, comment, encoding, encoding_errors, dialect, on_bad_lines, delim_whitespace, low_memory, memory_map, float_precision, storage_options, dtype_backend)\u001b[0m\n\u001b[1;32m   1013\u001b[0m kwds_defaults \u001b[38;5;241m=\u001b[39m _refine_defaults_read(\n\u001b[1;32m   1014\u001b[0m     dialect,\n\u001b[1;32m   1015\u001b[0m     delimiter,\n\u001b[0;32m   (...)\u001b[0m\n\u001b[1;32m   1022\u001b[0m     dtype_backend\u001b[38;5;241m=\u001b[39mdtype_backend,\n\u001b[1;32m   1023\u001b[0m )\n\u001b[1;32m   1024\u001b[0m kwds\u001b[38;5;241m.\u001b[39mupdate(kwds_defaults)\n\u001b[0;32m-> 1026\u001b[0m \u001b[38;5;28;01mreturn\u001b[39;00m \u001b[43m_read\u001b[49m\u001b[43m(\u001b[49m\u001b[43mfilepath_or_buffer\u001b[49m\u001b[43m,\u001b[49m\u001b[43m \u001b[49m\u001b[43mkwds\u001b[49m\u001b[43m)\u001b[49m\n",
      "File \u001b[0;32m~/git/meu_ambiente/lib/python3.12/site-packages/pandas/io/parsers/readers.py:620\u001b[0m, in \u001b[0;36m_read\u001b[0;34m(filepath_or_buffer, kwds)\u001b[0m\n\u001b[1;32m    617\u001b[0m _validate_names(kwds\u001b[38;5;241m.\u001b[39mget(\u001b[38;5;124m\"\u001b[39m\u001b[38;5;124mnames\u001b[39m\u001b[38;5;124m\"\u001b[39m, \u001b[38;5;28;01mNone\u001b[39;00m))\n\u001b[1;32m    619\u001b[0m \u001b[38;5;66;03m# Create the parser.\u001b[39;00m\n\u001b[0;32m--> 620\u001b[0m parser \u001b[38;5;241m=\u001b[39m \u001b[43mTextFileReader\u001b[49m\u001b[43m(\u001b[49m\u001b[43mfilepath_or_buffer\u001b[49m\u001b[43m,\u001b[49m\u001b[43m \u001b[49m\u001b[38;5;241;43m*\u001b[39;49m\u001b[38;5;241;43m*\u001b[39;49m\u001b[43mkwds\u001b[49m\u001b[43m)\u001b[49m\n\u001b[1;32m    622\u001b[0m \u001b[38;5;28;01mif\u001b[39;00m chunksize \u001b[38;5;129;01mor\u001b[39;00m iterator:\n\u001b[1;32m    623\u001b[0m     \u001b[38;5;28;01mreturn\u001b[39;00m parser\n",
      "File \u001b[0;32m~/git/meu_ambiente/lib/python3.12/site-packages/pandas/io/parsers/readers.py:1620\u001b[0m, in \u001b[0;36mTextFileReader.__init__\u001b[0;34m(self, f, engine, **kwds)\u001b[0m\n\u001b[1;32m   1617\u001b[0m     \u001b[38;5;28mself\u001b[39m\u001b[38;5;241m.\u001b[39moptions[\u001b[38;5;124m\"\u001b[39m\u001b[38;5;124mhas_index_names\u001b[39m\u001b[38;5;124m\"\u001b[39m] \u001b[38;5;241m=\u001b[39m kwds[\u001b[38;5;124m\"\u001b[39m\u001b[38;5;124mhas_index_names\u001b[39m\u001b[38;5;124m\"\u001b[39m]\n\u001b[1;32m   1619\u001b[0m \u001b[38;5;28mself\u001b[39m\u001b[38;5;241m.\u001b[39mhandles: IOHandles \u001b[38;5;241m|\u001b[39m \u001b[38;5;28;01mNone\u001b[39;00m \u001b[38;5;241m=\u001b[39m \u001b[38;5;28;01mNone\u001b[39;00m\n\u001b[0;32m-> 1620\u001b[0m \u001b[38;5;28mself\u001b[39m\u001b[38;5;241m.\u001b[39m_engine \u001b[38;5;241m=\u001b[39m \u001b[38;5;28;43mself\u001b[39;49m\u001b[38;5;241;43m.\u001b[39;49m\u001b[43m_make_engine\u001b[49m\u001b[43m(\u001b[49m\u001b[43mf\u001b[49m\u001b[43m,\u001b[49m\u001b[43m \u001b[49m\u001b[38;5;28;43mself\u001b[39;49m\u001b[38;5;241;43m.\u001b[39;49m\u001b[43mengine\u001b[49m\u001b[43m)\u001b[49m\n",
      "File \u001b[0;32m~/git/meu_ambiente/lib/python3.12/site-packages/pandas/io/parsers/readers.py:1880\u001b[0m, in \u001b[0;36mTextFileReader._make_engine\u001b[0;34m(self, f, engine)\u001b[0m\n\u001b[1;32m   1878\u001b[0m     \u001b[38;5;28;01mif\u001b[39;00m \u001b[38;5;124m\"\u001b[39m\u001b[38;5;124mb\u001b[39m\u001b[38;5;124m\"\u001b[39m \u001b[38;5;129;01mnot\u001b[39;00m \u001b[38;5;129;01min\u001b[39;00m mode:\n\u001b[1;32m   1879\u001b[0m         mode \u001b[38;5;241m+\u001b[39m\u001b[38;5;241m=\u001b[39m \u001b[38;5;124m\"\u001b[39m\u001b[38;5;124mb\u001b[39m\u001b[38;5;124m\"\u001b[39m\n\u001b[0;32m-> 1880\u001b[0m \u001b[38;5;28mself\u001b[39m\u001b[38;5;241m.\u001b[39mhandles \u001b[38;5;241m=\u001b[39m \u001b[43mget_handle\u001b[49m\u001b[43m(\u001b[49m\n\u001b[1;32m   1881\u001b[0m \u001b[43m    \u001b[49m\u001b[43mf\u001b[49m\u001b[43m,\u001b[49m\n\u001b[1;32m   1882\u001b[0m \u001b[43m    \u001b[49m\u001b[43mmode\u001b[49m\u001b[43m,\u001b[49m\n\u001b[1;32m   1883\u001b[0m \u001b[43m    \u001b[49m\u001b[43mencoding\u001b[49m\u001b[38;5;241;43m=\u001b[39;49m\u001b[38;5;28;43mself\u001b[39;49m\u001b[38;5;241;43m.\u001b[39;49m\u001b[43moptions\u001b[49m\u001b[38;5;241;43m.\u001b[39;49m\u001b[43mget\u001b[49m\u001b[43m(\u001b[49m\u001b[38;5;124;43m\"\u001b[39;49m\u001b[38;5;124;43mencoding\u001b[39;49m\u001b[38;5;124;43m\"\u001b[39;49m\u001b[43m,\u001b[49m\u001b[43m \u001b[49m\u001b[38;5;28;43;01mNone\u001b[39;49;00m\u001b[43m)\u001b[49m\u001b[43m,\u001b[49m\n\u001b[1;32m   1884\u001b[0m \u001b[43m    \u001b[49m\u001b[43mcompression\u001b[49m\u001b[38;5;241;43m=\u001b[39;49m\u001b[38;5;28;43mself\u001b[39;49m\u001b[38;5;241;43m.\u001b[39;49m\u001b[43moptions\u001b[49m\u001b[38;5;241;43m.\u001b[39;49m\u001b[43mget\u001b[49m\u001b[43m(\u001b[49m\u001b[38;5;124;43m\"\u001b[39;49m\u001b[38;5;124;43mcompression\u001b[39;49m\u001b[38;5;124;43m\"\u001b[39;49m\u001b[43m,\u001b[49m\u001b[43m \u001b[49m\u001b[38;5;28;43;01mNone\u001b[39;49;00m\u001b[43m)\u001b[49m\u001b[43m,\u001b[49m\n\u001b[1;32m   1885\u001b[0m \u001b[43m    \u001b[49m\u001b[43mmemory_map\u001b[49m\u001b[38;5;241;43m=\u001b[39;49m\u001b[38;5;28;43mself\u001b[39;49m\u001b[38;5;241;43m.\u001b[39;49m\u001b[43moptions\u001b[49m\u001b[38;5;241;43m.\u001b[39;49m\u001b[43mget\u001b[49m\u001b[43m(\u001b[49m\u001b[38;5;124;43m\"\u001b[39;49m\u001b[38;5;124;43mmemory_map\u001b[39;49m\u001b[38;5;124;43m\"\u001b[39;49m\u001b[43m,\u001b[49m\u001b[43m \u001b[49m\u001b[38;5;28;43;01mFalse\u001b[39;49;00m\u001b[43m)\u001b[49m\u001b[43m,\u001b[49m\n\u001b[1;32m   1886\u001b[0m \u001b[43m    \u001b[49m\u001b[43mis_text\u001b[49m\u001b[38;5;241;43m=\u001b[39;49m\u001b[43mis_text\u001b[49m\u001b[43m,\u001b[49m\n\u001b[1;32m   1887\u001b[0m \u001b[43m    \u001b[49m\u001b[43merrors\u001b[49m\u001b[38;5;241;43m=\u001b[39;49m\u001b[38;5;28;43mself\u001b[39;49m\u001b[38;5;241;43m.\u001b[39;49m\u001b[43moptions\u001b[49m\u001b[38;5;241;43m.\u001b[39;49m\u001b[43mget\u001b[49m\u001b[43m(\u001b[49m\u001b[38;5;124;43m\"\u001b[39;49m\u001b[38;5;124;43mencoding_errors\u001b[39;49m\u001b[38;5;124;43m\"\u001b[39;49m\u001b[43m,\u001b[49m\u001b[43m \u001b[49m\u001b[38;5;124;43m\"\u001b[39;49m\u001b[38;5;124;43mstrict\u001b[39;49m\u001b[38;5;124;43m\"\u001b[39;49m\u001b[43m)\u001b[49m\u001b[43m,\u001b[49m\n\u001b[1;32m   1888\u001b[0m \u001b[43m    \u001b[49m\u001b[43mstorage_options\u001b[49m\u001b[38;5;241;43m=\u001b[39;49m\u001b[38;5;28;43mself\u001b[39;49m\u001b[38;5;241;43m.\u001b[39;49m\u001b[43moptions\u001b[49m\u001b[38;5;241;43m.\u001b[39;49m\u001b[43mget\u001b[49m\u001b[43m(\u001b[49m\u001b[38;5;124;43m\"\u001b[39;49m\u001b[38;5;124;43mstorage_options\u001b[39;49m\u001b[38;5;124;43m\"\u001b[39;49m\u001b[43m,\u001b[49m\u001b[43m \u001b[49m\u001b[38;5;28;43;01mNone\u001b[39;49;00m\u001b[43m)\u001b[49m\u001b[43m,\u001b[49m\n\u001b[1;32m   1889\u001b[0m \u001b[43m\u001b[49m\u001b[43m)\u001b[49m\n\u001b[1;32m   1890\u001b[0m \u001b[38;5;28;01massert\u001b[39;00m \u001b[38;5;28mself\u001b[39m\u001b[38;5;241m.\u001b[39mhandles \u001b[38;5;129;01mis\u001b[39;00m \u001b[38;5;129;01mnot\u001b[39;00m \u001b[38;5;28;01mNone\u001b[39;00m\n\u001b[1;32m   1891\u001b[0m f \u001b[38;5;241m=\u001b[39m \u001b[38;5;28mself\u001b[39m\u001b[38;5;241m.\u001b[39mhandles\u001b[38;5;241m.\u001b[39mhandle\n",
      "File \u001b[0;32m~/git/meu_ambiente/lib/python3.12/site-packages/pandas/io/common.py:873\u001b[0m, in \u001b[0;36mget_handle\u001b[0;34m(path_or_buf, mode, encoding, compression, memory_map, is_text, errors, storage_options)\u001b[0m\n\u001b[1;32m    868\u001b[0m \u001b[38;5;28;01melif\u001b[39;00m \u001b[38;5;28misinstance\u001b[39m(handle, \u001b[38;5;28mstr\u001b[39m):\n\u001b[1;32m    869\u001b[0m     \u001b[38;5;66;03m# Check whether the filename is to be opened in binary mode.\u001b[39;00m\n\u001b[1;32m    870\u001b[0m     \u001b[38;5;66;03m# Binary mode does not support 'encoding' and 'newline'.\u001b[39;00m\n\u001b[1;32m    871\u001b[0m     \u001b[38;5;28;01mif\u001b[39;00m ioargs\u001b[38;5;241m.\u001b[39mencoding \u001b[38;5;129;01mand\u001b[39;00m \u001b[38;5;124m\"\u001b[39m\u001b[38;5;124mb\u001b[39m\u001b[38;5;124m\"\u001b[39m \u001b[38;5;129;01mnot\u001b[39;00m \u001b[38;5;129;01min\u001b[39;00m ioargs\u001b[38;5;241m.\u001b[39mmode:\n\u001b[1;32m    872\u001b[0m         \u001b[38;5;66;03m# Encoding\u001b[39;00m\n\u001b[0;32m--> 873\u001b[0m         handle \u001b[38;5;241m=\u001b[39m \u001b[38;5;28;43mopen\u001b[39;49m\u001b[43m(\u001b[49m\n\u001b[1;32m    874\u001b[0m \u001b[43m            \u001b[49m\u001b[43mhandle\u001b[49m\u001b[43m,\u001b[49m\n\u001b[1;32m    875\u001b[0m \u001b[43m            \u001b[49m\u001b[43mioargs\u001b[49m\u001b[38;5;241;43m.\u001b[39;49m\u001b[43mmode\u001b[49m\u001b[43m,\u001b[49m\n\u001b[1;32m    876\u001b[0m \u001b[43m            \u001b[49m\u001b[43mencoding\u001b[49m\u001b[38;5;241;43m=\u001b[39;49m\u001b[43mioargs\u001b[49m\u001b[38;5;241;43m.\u001b[39;49m\u001b[43mencoding\u001b[49m\u001b[43m,\u001b[49m\n\u001b[1;32m    877\u001b[0m \u001b[43m            \u001b[49m\u001b[43merrors\u001b[49m\u001b[38;5;241;43m=\u001b[39;49m\u001b[43merrors\u001b[49m\u001b[43m,\u001b[49m\n\u001b[1;32m    878\u001b[0m \u001b[43m            \u001b[49m\u001b[43mnewline\u001b[49m\u001b[38;5;241;43m=\u001b[39;49m\u001b[38;5;124;43m\"\u001b[39;49m\u001b[38;5;124;43m\"\u001b[39;49m\u001b[43m,\u001b[49m\n\u001b[1;32m    879\u001b[0m \u001b[43m        \u001b[49m\u001b[43m)\u001b[49m\n\u001b[1;32m    880\u001b[0m     \u001b[38;5;28;01melse\u001b[39;00m:\n\u001b[1;32m    881\u001b[0m         \u001b[38;5;66;03m# Binary mode\u001b[39;00m\n\u001b[1;32m    882\u001b[0m         handle \u001b[38;5;241m=\u001b[39m \u001b[38;5;28mopen\u001b[39m(handle, ioargs\u001b[38;5;241m.\u001b[39mmode)\n",
      "\u001b[0;31mFileNotFoundError\u001b[0m: [Errno 2] No such file or directory: '../../../ProgramaEstagio/informações/despesas_publicas/202401_Despesas.csv'"
     ]
    }
   ],
   "source": [
    "nome_arquivo = '202401_Despesas.csv'\n",
    "caminho_arquivo = caminho_pasta + nome_arquivo\n",
    "\n",
    "df_despesas = pd.read_csv(caminho_arquivo, delimiter=';', encoding='latin1')\n",
    "df_despesas_rfb = df_despesas[df_despesas['Nome Unidade Gestora'].str.contains('rfb', case=False, na=False)]\n",
    "\n",
    "df_despesas_rfb_colunas = df_despesas_rfb[colunas_desejadas]\n",
    "\n",
    "display(df_despesas_rfb_colunas)"
   ]
  },
  {
   "cell_type": "code",
   "execution_count": null,
   "id": "c151d7e7-14cd-4a69-8521-da54f515e0d5",
   "metadata": {},
   "outputs": [],
   "source": [
    "df_despesas.sample(10)"
   ]
  },
  {
   "cell_type": "code",
   "execution_count": null,
   "id": "ffe7ac71-460e-4cf3-a569-591f5e1f053f",
   "metadata": {},
   "outputs": [],
   "source": [
    "nome_arquivo = '20240101_Despesas/20240101_Despesas_Empenho.csv'\n",
    "caminho_arquivo = caminho_pasta + nome_arquivo\n",
    "\n",
    "df_empenho = pd.read_csv(caminho_arquivo, delimiter=';', encoding='latin1')\n",
    "\n",
    "df_empenho_rfb = df_empenho[df_empenho['Unidade Gestora'].str.contains('rfb', case=False, na=False)]\n",
    "\n",
    "#df_empenho_rfb_colunas = df_empenho_rfb[colunas_desejadas]\n",
    "\n",
    "# Listar unidades únicas na coluna\n",
    "elemento_despesa = df_empenho_rfb['Elemento de Despesa'].value_counts().reset_index()\n",
    "\n",
    "# Exibir todas as linhas temporariamente\n",
    "with pd.option_context('display.max_rows', None):\n",
    "    display(elemento_despesa)\n",
    "\n",
    "# Listar unidades únicas na coluna\n",
    "valor_reais = df_empenho_rfb['Valor do Empenho Convertido pra R$'].value_counts().reset_index()\n",
    "\n",
    "# Exibir todas as linhas temporariamente\n",
    "with pd.option_context('display.max_rows', None):\n",
    "    display(valor_reais)\n",
    "\n",
    "display(df_empenho_rfb)"
   ]
  },
  {
   "cell_type": "code",
   "execution_count": null,
   "id": "8c8e20ca-928e-4c51-aec7-747227789ee9",
   "metadata": {},
   "outputs": [],
   "source": [
    "df_empenho['Unidade Gestora'].value_counts()"
   ]
  },
  {
   "cell_type": "code",
   "execution_count": null,
   "id": "88cc0e3f-d3b9-4bb8-b0a0-a26a86b08329",
   "metadata": {},
   "outputs": [],
   "source": [
    "nome_arquivo = '20240101_Despesas/20240101_Despesas_Pagamento.csv'\n",
    "caminho_arquivo = caminho_pasta + nome_arquivo\n",
    "\n",
    "df_pagamento = pd.read_csv(caminho_arquivo, delimiter=';', encoding='latin1')\n",
    "\n",
    "#df_pagamento_rfb = df_pagamento[df_pagamento['Unidade Gestora'].str.contains('rfb', case=False, na=False)]\n",
    "\n",
    "#df_pagamento_rfb_colunas = df_pagamento_rfb[colunas_desejadas]\n",
    "\n",
    "display(df_pagamento)"
   ]
  },
  {
   "cell_type": "code",
   "execution_count": null,
   "id": "746daff1-cde6-4103-abac-97fa79f095f1",
   "metadata": {},
   "outputs": [],
   "source": [
    "nome_arquivo = '20240102_Despesas/20240102_Despesas_Pagamento.csv'\n",
    "caminho_arquivo = caminho_pasta + nome_arquivo\n",
    "\n",
    "df_pagamento = pd.read_csv(caminho_arquivo, delimiter=';', encoding='latin1')\n",
    "\n",
    "df_pagamento_rfb = df_pagamento[df_pagamento['Unidade Gestora'].str.contains('rfb', case=False, na=False)]\n",
    "\n",
    "#df_pagamento_rfb_colunas = df_pagamento_rfb[colunas_desejadas]\n",
    "\n",
    "# Listar unidades únicas na coluna\n",
    "elemento_despesa = df_pagamento_rfb['Elemento de Despesa'].value_counts().reset_index()\n",
    "\n",
    "# Exibir todas as linhas temporariamente\n",
    "with pd.option_context('display.max_rows', None):\n",
    "    display(elemento_despesa)\n",
    "\n",
    "# Listar unidades únicas na coluna\n",
    "valor_reais = df_pagamento_rfb['Valor do Pagamento Convertido pra R$'].value_counts().reset_index()\n",
    "\n",
    "# Exibir todas as linhas temporariamente\n",
    "with pd.option_context('display.max_rows', None):\n",
    "    display(valor_reais)\n",
    "\n",
    "\n",
    "display(df_pagamento_rfb)"
   ]
  },
  {
   "cell_type": "code",
   "execution_count": null,
   "id": "d6786118-3a02-4da3-854b-68feca6d446e",
   "metadata": {},
   "outputs": [],
   "source": [
    "nome_arquivo = '20240101_Despesas/20240101_Despesas_Liquidacao.csv'\n",
    "caminho_arquivo = caminho_pasta + nome_arquivo\n",
    "\n",
    "df_liquidacao = pd.read_csv(caminho_arquivo, delimiter=';', encoding='latin1')\n",
    "\n",
    "df_liquidacao_rfb = df_liquidacao[df_liquidacao['Unidade Gestora'].str.contains('rfb', case=False, na=False)]\n",
    "\n",
    "#df_liquidacao_rfb_colunas = df_liquidacao_rfb[colunas_desejadas]\n",
    "\n",
    "# Listar unidades únicas na coluna\n",
    "elemento_despesa = df_pagamento_rfb['Elemento de Despesa'].value_counts().reset_index()\n",
    "\n",
    "# Exibir todas as linhas temporariamente\n",
    "with pd.option_context('display.max_rows', None):\n",
    "    display(elemento_despesa)\n",
    "\n",
    "display(df_liquidacao_rfb)"
   ]
  },
  {
   "cell_type": "code",
   "execution_count": null,
   "id": "0d867cd8-265d-4aef-985e-d9adbb3438cb",
   "metadata": {},
   "outputs": [],
   "source": []
  }
 ],
 "metadata": {
  "kernelspec": {
   "display_name": "Ambiente Virtual",
   "language": "python",
   "name": "ambiente_virtual"
  },
  "language_info": {
   "codemirror_mode": {
    "name": "ipython",
    "version": 3
   },
   "file_extension": ".py",
   "mimetype": "text/x-python",
   "name": "python",
   "nbconvert_exporter": "python",
   "pygments_lexer": "ipython3",
   "version": "3.12.3"
  }
 },
 "nbformat": 4,
 "nbformat_minor": 5
}

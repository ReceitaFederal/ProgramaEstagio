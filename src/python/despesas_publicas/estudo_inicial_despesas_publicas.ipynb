{
 "cells": [
  {
   "cell_type": "code",
   "execution_count": null,
   "id": "5d7f255d-2245-42f3-8103-f98f9dd155a9",
   "metadata": {},
   "outputs": [],
   "source": [
    "import pandas as pd"
   ]
  },
  {
   "cell_type": "code",
   "execution_count": null,
   "id": "eeccf4df-f050-4953-9497-c9185af46360",
   "metadata": {},
   "outputs": [],
   "source": [
    "pd.set_option('display.max_columns', None)\n",
    "pd.set_option('display.max_rows', 5)"
   ]
  },
  {
   "cell_type": "code",
   "execution_count": null,
   "id": "7be55fe3-6e33-4a05-95a1-a183889a4ce7",
   "metadata": {},
   "outputs": [],
   "source": [
    "# Especifique o caminho para o seu arquivo CSV\n",
    "caminho_pasta = '../../../ProgramaEstagio/informações/despesas_publicas/'\n",
    "#nome_arquivo = ''\n",
    "#caminho_arquivo = caminho_pasta + nome_arquivo"
   ]
  },
  {
   "cell_type": "code",
   "execution_count": null,
   "id": "c917a7d5-70a3-4016-9546-9993ff85f22a",
   "metadata": {},
   "outputs": [],
   "source": [
    "# Selecionar colunas específicas\n",
    "colunas_desejadas = ['Ano e mês do lançamento', 'Nome Órgão Superior', 'Nome Unidade Gestora',\n",
    "                     'Plano Orçamentário', 'Nome Categoria Econômica', 'Nome Grupo de Despesa', 'Nome Elemento de Despesa',\n",
    "                     'Modalidade da Despesa', 'Valor Empenhado (R$)', 'Valor Liquidado (R$)', 'Valor Pago (R$)',\n",
    "                     'Valor Restos a Pagar Inscritos (R$)', 'Valor Restos a Pagar Cancelado (R$)', \n",
    "                     'Valor Restos a Pagar Pagos (R$)']\n",
    "# df_selecionado = df_rfb[colunas_desejadas]\n",
    "\n",
    "# Exibir as colunas selecionadas\n",
    "# display(df_selecionado)"
   ]
  },
  {
   "cell_type": "code",
   "execution_count": null,
   "id": "ad97aff4-eda2-4505-9a43-87d1116fdef8",
   "metadata": {},
   "outputs": [],
   "source": [
    "nome_arquivo = '202401_Despesas.csv'\n",
    "caminho_arquivo = caminho_pasta + nome_arquivo\n",
    "\n",
    "df_despesas = pd.read_csv(caminho_arquivo, delimiter=';', encoding='latin1')\n",
    "df_despesas_rfb = df_despesas[df_despesas['Nome Unidade Gestora'].str.contains('rfb', case=False, na=False)]\n",
    "\n",
    "df_despesas_rfb_colunas = df_despesas_rfb[colunas_desejadas]\n",
    "\n",
    "display(df_despesas_rfb_colunas)"
   ]
  },
  {
   "cell_type": "code",
   "execution_count": null,
   "id": "c151d7e7-14cd-4a69-8521-da54f515e0d5",
   "metadata": {},
   "outputs": [],
   "source": [
    "df_despesas.sample(10)"
   ]
  },
  {
   "cell_type": "code",
   "execution_count": null,
   "id": "ffe7ac71-460e-4cf3-a569-591f5e1f053f",
   "metadata": {},
   "outputs": [],
   "source": [
    "nome_arquivo = '20240101_Despesas/20240101_Despesas_Empenho.csv'\n",
    "caminho_arquivo = caminho_pasta + nome_arquivo\n",
    "\n",
    "df_empenho = pd.read_csv(caminho_arquivo, delimiter=';', encoding='latin1')\n",
    "\n",
    "df_empenho_rfb = df_empenho[df_empenho['Unidade Gestora'].str.contains('rfb', case=False, na=False)]\n",
    "\n",
    "#df_empenho_rfb_colunas = df_empenho_rfb[colunas_desejadas]\n",
    "\n",
    "# Listar unidades únicas na coluna\n",
    "elemento_despesa = df_empenho_rfb['Elemento de Despesa'].value_counts().reset_index()\n",
    "\n",
    "# Exibir todas as linhas temporariamente\n",
    "with pd.option_context('display.max_rows', None):\n",
    "    display(elemento_despesa)\n",
    "\n",
    "# Listar unidades únicas na coluna\n",
    "valor_reais = df_empenho_rfb['Valor do Empenho Convertido pra R$'].value_counts().reset_index()\n",
    "\n",
    "# Exibir todas as linhas temporariamente\n",
    "with pd.option_context('display.max_rows', None):\n",
    "    display(valor_reais)\n",
    "\n",
    "display(df_empenho_rfb)"
   ]
  },
  {
   "cell_type": "code",
   "execution_count": null,
   "id": "8c8e20ca-928e-4c51-aec7-747227789ee9",
   "metadata": {},
   "outputs": [],
   "source": [
    "df_empenho['Unidade Gestora'].value_counts()"
   ]
  },
  {
   "cell_type": "code",
   "execution_count": null,
   "id": "88cc0e3f-d3b9-4bb8-b0a0-a26a86b08329",
   "metadata": {},
   "outputs": [],
   "source": [
    "nome_arquivo = '20240101_Despesas/20240101_Despesas_Pagamento.csv'\n",
    "caminho_arquivo = caminho_pasta + nome_arquivo\n",
    "\n",
    "df_pagamento = pd.read_csv(caminho_arquivo, delimiter=';', encoding='latin1')\n",
    "\n",
    "#df_pagamento_rfb = df_pagamento[df_pagamento['Unidade Gestora'].str.contains('rfb', case=False, na=False)]\n",
    "\n",
    "#df_pagamento_rfb_colunas = df_pagamento_rfb[colunas_desejadas]\n",
    "\n",
    "display(df_pagamento)"
   ]
  },
  {
   "cell_type": "code",
   "execution_count": null,
   "id": "746daff1-cde6-4103-abac-97fa79f095f1",
   "metadata": {},
   "outputs": [],
   "source": [
    "nome_arquivo = '20240102_Despesas/20240102_Despesas_Pagamento.csv'\n",
    "caminho_arquivo = caminho_pasta + nome_arquivo\n",
    "\n",
    "df_pagamento = pd.read_csv(caminho_arquivo, delimiter=';', encoding='latin1')\n",
    "\n",
    "df_pagamento_rfb = df_pagamento[df_pagamento['Unidade Gestora'].str.contains('rfb', case=False, na=False)]\n",
    "\n",
    "#df_pagamento_rfb_colunas = df_pagamento_rfb[colunas_desejadas]\n",
    "\n",
    "# Listar unidades únicas na coluna\n",
    "elemento_despesa = df_pagamento_rfb['Elemento de Despesa'].value_counts().reset_index()\n",
    "\n",
    "# Exibir todas as linhas temporariamente\n",
    "with pd.option_context('display.max_rows', None):\n",
    "    display(elemento_despesa)\n",
    "\n",
    "# Listar unidades únicas na coluna\n",
    "valor_reais = df_pagamento_rfb['Valor do Pagamento Convertido pra R$'].value_counts().reset_index()\n",
    "\n",
    "# Exibir todas as linhas temporariamente\n",
    "with pd.option_context('display.max_rows', None):\n",
    "    display(valor_reais)\n",
    "\n",
    "\n",
    "display(df_pagamento_rfb)"
   ]
  },
  {
   "cell_type": "code",
   "execution_count": null,
   "id": "d6786118-3a02-4da3-854b-68feca6d446e",
   "metadata": {},
   "outputs": [],
   "source": [
    "nome_arquivo = '20240101_Despesas/20240101_Despesas_Liquidacao.csv'\n",
    "caminho_arquivo = caminho_pasta + nome_arquivo\n",
    "\n",
    "df_liquidacao = pd.read_csv(caminho_arquivo, delimiter=';', encoding='latin1')\n",
    "\n",
    "df_liquidacao_rfb = df_liquidacao[df_liquidacao['Unidade Gestora'].str.contains('rfb', case=False, na=False)]\n",
    "\n",
    "#df_liquidacao_rfb_colunas = df_liquidacao_rfb[colunas_desejadas]\n",
    "\n",
    "# Listar unidades únicas na coluna\n",
    "elemento_despesa = df_pagamento_rfb['Elemento de Despesa'].value_counts().reset_index()\n",
    "\n",
    "# Exibir todas as linhas temporariamente\n",
    "with pd.option_context('display.max_rows', None):\n",
    "    display(elemento_despesa)\n",
    "\n",
    "display(df_liquidacao_rfb)"
   ]
  },
  {
   "cell_type": "code",
   "execution_count": null,
   "id": "0d867cd8-265d-4aef-985e-d9adbb3438cb",
   "metadata": {},
   "outputs": [],
   "source": []
  }
 ],
 "metadata": {
  "kernelspec": {
   "display_name": "Ambiente Virtual",
   "language": "python",
   "name": "ambiente_virtual"
  },
  "language_info": {
   "codemirror_mode": {
    "name": "ipython",
    "version": 3
   },
   "file_extension": ".py",
   "mimetype": "text/x-python",
   "name": "python",
   "nbconvert_exporter": "python",
   "pygments_lexer": "ipython3",
   "version": "3.12.3"
  }
 },
 "nbformat": 4,
 "nbformat_minor": 5
}

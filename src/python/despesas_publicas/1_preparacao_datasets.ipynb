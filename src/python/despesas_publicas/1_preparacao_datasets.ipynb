{
 "cells": [
  {
   "cell_type": "code",
   "execution_count": null,
   "id": "5d7f255d-2245-42f3-8103-f98f9dd155a9",
   "metadata": {},
   "outputs": [],
   "source": [
    "import pandas as pd\n",
    "from IPython.display import Markdown, display"
   ]
  },
  {
   "cell_type": "code",
   "execution_count": null,
   "id": "eeccf4df-f050-4953-9497-c9185af46360",
   "metadata": {},
   "outputs": [],
   "source": [
    "pd.set_option('display.max_columns', None)\n",
    "pd.set_option('display.max_rows', 5)"
   ]
  },
  {
   "cell_type": "markdown",
   "id": "2e07d105-d8d8-47f1-8432-d301e29be04e",
   "metadata": {},
   "source": [
    "# Análise do Tema Despesas no Portal da Transparência\n",
    "\n",
    "**Fonte de Dados:**\n",
    "\n",
    "https://portaldatransparencia.gov.br/download-de-dados\n",
    "\n",
    "Link: https://portaldatransparencia.gov.br/download-de-dados/despesas\n",
    "\n",
    "\n",
    "\n",
    "*Outras fontes possíveis:\n",
    "Outras fontes para um segundo momento.\n",
    "Link: https://portaldatransparencia.gov.br/download-de-dados/despesas-execucao*"
   ]
  },
  {
   "cell_type": "code",
   "execution_count": null,
   "id": "7be55fe3-6e33-4a05-95a1-a183889a4ce7",
   "metadata": {},
   "outputs": [],
   "source": [
    "# Especifique o caminho para o seu arquivo CSV\n",
    "caminho_pasta = '../../../informações/despesas_publicas/'"
   ]
  },
  {
   "cell_type": "markdown",
   "id": "dd4a0a4b-e38c-4585-aa43-9bd80ae4771b",
   "metadata": {},
   "source": [
    "# Datasets\n",
    "\n",
    "São três datasets principais:\n",
    "\n",
    "* Empenho\n",
    "* Pagamento\n",
    "* Liquidação\n",
    "\n",
    "\n",
    "# Diferença entre Empenho, Liquidação e Pagamento na Contabilidade Pública Federal\n",
    "\n",
    "Na contabilidade pública federal brasileira, os termos **empenho**, **liquidação** e **pagamento** se referem às fases do processo de execução da despesa pública. Essas fases são obrigatórias e seguem uma ordem para assegurar o controle do uso dos recursos públicos. Aqui está a diferença entre eles:\n",
    "\n",
    "## 1. Empenho\n",
    "O empenho é a **primeira fase** da execução da despesa. Consiste na reserva de parte do orçamento público para a realização de uma determinada despesa. Ele é formalizado por meio de um documento chamado Nota de Empenho, que garante que há disponibilidade orçamentária para cobrir a despesa. O empenho pode ser:\n",
    "   - **Ordinário**: Para despesas cujo valor total é conhecido no momento do empenho.\n",
    "   - **Estimativo**: Para despesas contínuas e variáveis, como serviços públicos (água, energia).\n",
    "   - **Global**: Para despesas contratuais com execução ao longo do exercício financeiro.\n",
    "\n",
    "O empenho **não representa o pagamento imediato**, mas apenas uma garantia de que o valor está reservado no orçamento.\n",
    "\n",
    "## 2. Liquidação\n",
    "A liquidação é a **segunda fase** do processo de execução da despesa. Ela ocorre quando o serviço ou bem contratado foi entregue ou prestado, e é necessário verificar se o que foi solicitado está de acordo com o contrato ou a ordem de serviço. A liquidação consiste na **verificação da origem da dívida**, ou seja, se o bem ou serviço foi efetivamente entregue ou realizado conforme o contratado.\n",
    "\n",
    "Nesta fase, a Administração Pública comprova:\n",
    "   - A existência do direito adquirido pelo credor;\n",
    "   - O cumprimento das condições para o pagamento;\n",
    "   - O valor a ser pago.\n",
    "\n",
    "Ou seja, é o reconhecimento de que a despesa foi realizada e está apta para ser paga.\n",
    "\n",
    "## 3. Pagamento\n",
    "O pagamento é a **última fase** do processo de execução da despesa pública. Ele ocorre após a liquidação, quando a Administração Pública efetivamente transfere os recursos financeiros para o credor (fornecedor, prestador de serviços, etc.). É o momento em que a despesa se concretiza, ou seja, quando o dinheiro sai dos cofres públicos para cumprir a obrigação financeira gerada pelo empenho e verificada pela liquidação.\n",
    "\n",
    "## Resumo do processo:\n",
    "1. **Empenho**: Reserva do orçamento (garantia de que a despesa será paga no futuro).\n",
    "2. **Liquidação**: Verificação e comprovação de que o serviço ou bem foi entregue e está de acordo com o contrato.\n",
    "3. **Pagamento**: Transferência dos recursos financeiros ao credor.\n",
    "\n",
    "Essas etapas são fundamentais para garantir a legalidade, a transparência e o controle da execução da despesa pública, assegurando que os recursos sejam utilizados corretamente.\n"
   ]
  },
  {
   "cell_type": "code",
   "execution_count": null,
   "id": "3271fbcc-3ead-4547-b9ce-cb2b5e76275f",
   "metadata": {},
   "outputs": [],
   "source": [
    "\n",
    "\n",
    "csv_empenho = caminho_pasta + '20240101_Despesas/20240101_Despesas_Empenho.csv'\n",
    "csv_pagamento = caminho_pasta + '20240101_Despesas/20240101_Despesas_Pagamento.csv'\n",
    "csv_liquidacao = caminho_pasta + '20240101_Despesas/20240101_Despesas_Liquidacao.csv'\n",
    "\n",
    "df_empenho = pd.read_csv(csv_empenho, delimiter=';', encoding='latin1')\n",
    "\n",
    "df_pagamento = pd.read_csv(csv_pagamento, delimiter=';', encoding='latin1')\n",
    "\n",
    "df_liquidacao = pd.read_csv(csv_liquidacao, delimiter=';', encoding='latin1')"
   ]
  },
  {
   "cell_type": "code",
   "execution_count": null,
   "id": "a0a63d0f-8a8a-4e0b-a34e-73d6beccb2b5",
   "metadata": {},
   "outputs": [],
   "source": [
    "display(Markdown(\"# Datasets de Despesas\"))\n",
    "\n",
    "display(Markdown(\"## Empenho\"))\n",
    "display (df_empenho.info())\n",
    "display (df_empenho.sample(3))\n",
    "\n",
    "display(Markdown(\"## Pagamento\"))\n",
    "display (df_empenho.info())\n",
    "display (df_empenho.sample(3))\n",
    "\n",
    "display(Markdown(\"## Liquidação\"))\n",
    "display (df_empenho.info())\n",
    "display (df_empenho.sample(3))\n"
   ]
  },
  {
   "cell_type": "markdown",
   "id": "b240bd6e-fb7d-4b43-ad9a-1ae894ea4e68",
   "metadata": {},
   "source": [
    "# Análise das colunas dos Datasets\n",
    "\n",
    "Podemos perceber que existem diversas colunas em comum.\n",
    "\n",
    "Para facilitar nossa análise vamos mostrar as colunas em comum e depois apenas as colunas específicas de cada dataset."
   ]
  },
  {
   "cell_type": "code",
   "execution_count": null,
   "id": "ec3f2e18-14c8-45a2-81e8-569fc3a0f2b2",
   "metadata": {},
   "outputs": [],
   "source": [
    "def listar_colunas_comuns(lista_dataframes):\n",
    "    # Obter as colunas do primeiro DataFrame\n",
    "    colunas_comuns = set(lista_dataframes[0].columns)\n",
    "    \n",
    "    # Iterar sobre os demais DataFrames e fazer interseção de colunas\n",
    "    for df in lista_dataframes[1:]:\n",
    "        colunas_comuns &= set(df.columns)\n",
    "    \n",
    "    return (list(colunas_comuns))\n",
    "\n",
    "colunas_comuns = listar_colunas_comuns([df_empenho, df_pagamento, df_liquidacao])"
   ]
  },
  {
   "cell_type": "code",
   "execution_count": null,
   "id": "98a0b6d3-8069-4be2-93b0-ae63861a0aab",
   "metadata": {},
   "outputs": [],
   "source": [
    "display(Markdown(\"## Colunas em comum entre Empenho, Pagamento e Liquidação\"))\n",
    "display(colunas_comuns)"
   ]
  },
  {
   "cell_type": "markdown",
   "id": "ab41ced5-fff6-445f-b420-9d16472efc9c",
   "metadata": {},
   "source": [
    "# EXPLICITAR ANÁLISE --------------\n",
    "Encontramos três(???) classes de colunas:\n",
    "\n",
    "* Quanto a onde a despesa foi gerada:\n",
    "    * 'Código Órgão Superior', 'Código Plano Orçamentário'\n",
    " 'Código Favorecido\r\n",
    " 'Gestã\n",
    "* Sobre detalhes da despesa:\n",
    "*  'Código Elemento de Despesa',  'Elemento de Despesa'\n",
    " 'Categoria de Despesa 'Observação', ',ão',"
   ]
  },
  {
   "cell_type": "code",
   "execution_count": null,
   "id": "e2e76399-142c-431d-8671-865f97b4bd74",
   "metadata": {},
   "outputs": [],
   "source": [
    "def listar_colunas_nao_comuns(lista_dataframes, lista_colunas):\n",
    "    # Inicializar um conjunto vazio para as colunas não comuns\n",
    "    colunas_nao_comuns = set()\n",
    "    \n",
    "    # Iterar sobre os DataFrames\n",
    "    for df in lista_dataframes:\n",
    "        # Verificar colunas que estão no DataFrame, mas não na lista de colunas\n",
    "        colunas_nao_comuns.update(set(df.columns) - set(lista_colunas))\n",
    "    \n",
    "    return list(colunas_nao_comuns)\n",
    "\n",
    "\n"
   ]
  },
  {
   "cell_type": "code",
   "execution_count": null,
   "id": "c7a2eed5-8629-4473-b62d-fb5ce6fb5b25",
   "metadata": {},
   "outputs": [],
   "source": [
    "\n",
    "\n",
    "display(Markdown(\"## Colunas específicas do dataset Empenho\"))\n",
    "display(listar_colunas_nao_comuns ([df_empenho], colunas_comuns))\n",
    "\n",
    "display(Markdown(\"## Colunas específicas do dataset Liquidação\"))\n",
    "display(listar_colunas_nao_comuns ([df_liquidacao], colunas_comuns))\n",
    "\n",
    "display(Markdown(\"## Colunas específicas do dataset Pagamento\"))\n",
    "display(listar_colunas_nao_comuns ([df_pagamento], colunas_comuns))\n"
   ]
  },
  {
   "cell_type": "code",
   "execution_count": null,
   "id": "eb66626b-cfa3-44ff-a4f3-a4ecee518ebb",
   "metadata": {},
   "outputs": [],
   "source": [
    "def gerar_totais_coluna(df, nome_coluna):\n",
    "\n",
    "    valores_distintos = df.value_counts(nome_coluna)\n",
    "    \n",
    "    display(Markdown(f\"## Valores para coluna: {nome_coluna}\"))\n",
    "    display(Markdown(f'Número de valores distintos: **{valores_distintos.nunique()}**'))\n",
    "    display(valores_distintos)\n",
    "\n",
    "\n",
    "def descrever_dados_df (df, nome_df, colunas):\n",
    "\n",
    "    display(Markdown(f\"# Análise de valores para a tabela: {nome_df}\"))\n",
    "    \n",
    "    for coluna in colunas:\n",
    "        gerar_totais_coluna (df, coluna)\n",
    "        "
   ]
  },
  {
   "cell_type": "code",
   "execution_count": null,
   "id": "f8eacb18-f749-4aba-acaf-93d5cc7bf237",
   "metadata": {},
   "outputs": [],
   "source": [
    "\n",
    "# Colocar makdown: colunas comuns\n",
    "\n",
    "descrever_dados_df(df_empenho, \"Empenho\", colunas_comuns)\n",
    "\n",
    "descrever_dados_df(df_pagamento, \"Pagamentos\", colunas_comuns)\n",
    "\n",
    "descrever_dados_df(df_liquidacao, \"Liquidação\", colunas_comuns)"
   ]
  },
  {
   "cell_type": "code",
   "execution_count": null,
   "id": "1fc90760-1e22-4113-95bf-f1405a1bf920",
   "metadata": {},
   "outputs": [],
   "source": [
    "descrever_dados_df(df_empenho, \"Empenho\", listar_colunas_nao_comuns ([df_empenho], colunas_comuns))"
   ]
  },
  {
   "cell_type": "code",
   "execution_count": null,
   "id": "ffe7ac71-460e-4cf3-a569-591f5e1f053f",
   "metadata": {},
   "outputs": [],
   "source": [
    "nome_arquivo = '20240101_Despesas/20240101_Despesas_Empenho.csv'\n",
    "caminho_arquivo = caminho_pasta + nome_arquivo\n",
    "\n",
    "df_empenho = pd.read_csv(caminho_arquivo, delimiter=';', encoding='latin1')\n",
    "\n",
    "df_empenho_rfb = df_empenho[df_empenho['Unidade Gestora'].str.contains('rfb', case=False, na=False)]\n",
    "\n",
    "#df_empenho_rfb_colunas = df_empenho_rfb[colunas_desejadas]\n",
    "\n",
    "# Listar unidades únicas na coluna\n",
    "elemento_despesa = df_empenho_rfb['Elemento de Despesa'].value_counts().reset_index()\n",
    "\n",
    "# Exibir todas as linhas temporariamente\n",
    "with pd.option_context('display.max_rows', None):\n",
    "    display(elemento_despesa)\n",
    "\n",
    "# Listar unidades únicas na coluna\n",
    "valor_reais = df_empenho_rfb['Valor do Empenho Convertido pra R$'].value_counts().reset_index()\n",
    "\n",
    "# Exibir todas as linhas temporariamente\n",
    "with pd.option_context('display.max_rows', None):\n",
    "    display(valor_reais)\n",
    "\n",
    "display(df_empenho_rfb)"
   ]
  },
  {
   "cell_type": "code",
   "execution_count": null,
   "id": "8c8e20ca-928e-4c51-aec7-747227789ee9",
   "metadata": {},
   "outputs": [],
   "source": [
    "df_empenho['Unidade Gestora'].value_counts()"
   ]
  },
  {
   "cell_type": "code",
   "execution_count": null,
   "id": "88cc0e3f-d3b9-4bb8-b0a0-a26a86b08329",
   "metadata": {},
   "outputs": [],
   "source": [
    "nome_arquivo = '20240101_Despesas/20240101_Despesas_Pagamento.csv'\n",
    "caminho_arquivo = caminho_pasta + nome_arquivo\n",
    "\n",
    "df_pagamento = pd.read_csv(caminho_arquivo, delimiter=';', encoding='latin1')\n",
    "\n",
    "#df_pagamento_rfb = df_pagamento[df_pagamento['Unidade Gestora'].str.contains('rfb', case=False, na=False)]\n",
    "\n",
    "#df_pagamento_rfb_colunas = df_pagamento_rfb[colunas_desejadas]\n",
    "\n",
    "display(df_pagamento)"
   ]
  },
  {
   "cell_type": "code",
   "execution_count": null,
   "id": "746daff1-cde6-4103-abac-97fa79f095f1",
   "metadata": {},
   "outputs": [],
   "source": [
    "nome_arquivo = '20240102_Despesas/20240102_Despesas_Pagamento.csv'\n",
    "caminho_arquivo = caminho_pasta + nome_arquivo\n",
    "\n",
    "df_pagamento = pd.read_csv(caminho_arquivo, delimiter=';', encoding='latin1')\n",
    "\n",
    "df_pagamento_rfb = df_pagamento[df_pagamento['Unidade Gestora'].str.contains('rfb', case=False, na=False)]\n",
    "\n",
    "#df_pagamento_rfb_colunas = df_pagamento_rfb[colunas_desejadas]\n",
    "\n",
    "# Listar unidades únicas na coluna\n",
    "elemento_despesa = df_pagamento_rfb['Elemento de Despesa'].value_counts().reset_index()\n",
    "\n",
    "# Exibir todas as linhas temporariamente\n",
    "with pd.option_context('display.max_rows', None):\n",
    "    display(elemento_despesa)\n",
    "\n",
    "# Listar unidades únicas na coluna\n",
    "valor_reais = df_pagamento_rfb['Valor do Pagamento Convertido pra R$'].value_counts().reset_index()\n",
    "\n",
    "# Exibir todas as linhas temporariamente\n",
    "with pd.option_context('display.max_rows', None):\n",
    "    display(valor_reais)\n",
    "\n",
    "\n",
    "display(df_pagamento_rfb)"
   ]
  },
  {
   "cell_type": "code",
   "execution_count": null,
   "id": "d6786118-3a02-4da3-854b-68feca6d446e",
   "metadata": {},
   "outputs": [],
   "source": [
    "nome_arquivo = '20240101_Despesas/20240101_Despesas_Liquidacao.csv'\n",
    "caminho_arquivo = caminho_pasta + nome_arquivo\n",
    "\n",
    "df_liquidacao = pd.read_csv(caminho_arquivo, delimiter=';', encoding='latin1')\n",
    "\n",
    "df_liquidacao_rfb = df_liquidacao[df_liquidacao['Unidade Gestora'].str.contains('rfb', case=False, na=False)]\n",
    "\n",
    "#df_liquidacao_rfb_colunas = df_liquidacao_rfb[colunas_desejadas]\n",
    "\n",
    "# Listar unidades únicas na coluna\n",
    "elemento_despesa = df_pagamento_rfb['Elemento de Despesa'].value_counts().reset_index()\n",
    "\n",
    "# Exibir todas as linhas temporariamente\n",
    "with pd.option_context('display.max_rows', None):\n",
    "    display(elemento_despesa)\n",
    "\n",
    "display(df_liquidacao_rfb)"
   ]
  },
  {
   "cell_type": "code",
   "execution_count": null,
   "id": "86cac847-855d-4cf4-b9ab-0de1d7219970",
   "metadata": {},
   "outputs": [],
   "source": []
  }
 ],
 "metadata": {
  "kernelspec": {
   "display_name": "Python 3 (ipykernel)",
   "language": "python",
   "name": "python3"
  },
  "language_info": {
   "codemirror_mode": {
    "name": "ipython",
    "version": 3
   },
   "file_extension": ".py",
   "mimetype": "text/x-python",
   "name": "python",
   "nbconvert_exporter": "python",
   "pygments_lexer": "ipython3",
   "version": "3.11.7"
  }
 },
 "nbformat": 4,
 "nbformat_minor": 5
}

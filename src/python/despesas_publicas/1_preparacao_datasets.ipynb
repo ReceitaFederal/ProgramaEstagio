{
 "cells": [
  {
   "cell_type": "code",
   "execution_count": 1,
   "id": "5d7f255d-2245-42f3-8103-f98f9dd155a9",
   "metadata": {},
   "outputs": [],
   "source": [
    "import pandas as pd\n",
    "from IPython.display import Markdown, display"
   ]
  },
  {
   "cell_type": "code",
   "execution_count": 2,
   "id": "eeccf4df-f050-4953-9497-c9185af46360",
   "metadata": {},
   "outputs": [],
   "source": [
    "pd.set_option('display.max_columns', None)\n",
    "pd.set_option('display.max_rows', 5)"
   ]
  },
  {
   "cell_type": "markdown",
   "id": "2e07d105-d8d8-47f1-8432-d301e29be04e",
   "metadata": {},
   "source": [
    "# Análise do Tema Despesas no Portal da Transparência\n",
    "\n",
    "**Fonte de Dados:**\n",
    "\n",
    "https://portaldatransparencia.gov.br/download-de-dados\n",
    "\n",
    "Link: https://portaldatransparencia.gov.br/download-de-dados/despesas\n",
    "\n",
    "\n",
    "\n",
    "*Outras fontes possíveis:\n",
    "Outras fontes para um segundo momento.\n",
    "Link: https://portaldatransparencia.gov.br/download-de-dados/despesas-execucao*"
   ]
  },
  {
   "cell_type": "code",
   "execution_count": 3,
   "id": "7be55fe3-6e33-4a05-95a1-a183889a4ce7",
   "metadata": {},
   "outputs": [],
   "source": [
    "# Especifique o caminho para o seu arquivo CSV\n",
    "caminho_pasta = '../../../informações/despesas_publicas/'"
   ]
  },
  {
   "cell_type": "markdown",
   "id": "dd4a0a4b-e38c-4585-aa43-9bd80ae4771b",
   "metadata": {},
   "source": [
    "# Datasets\n",
    "\n",
    "São três datasets principais:\n",
    "\n",
    "* Empenho\n",
    "* Pagamento\n",
    "* Liquidação\n",
    "\n",
    "\n",
    "# Diferença entre Empenho, Liquidação e Pagamento na Contabilidade Pública Federal\n",
    "\n",
    "Na contabilidade pública federal brasileira, os termos **empenho**, **liquidação** e **pagamento** se referem às fases do processo de execução da despesa pública. Essas fases são obrigatórias e seguem uma ordem para assegurar o controle do uso dos recursos públicos. Aqui está a diferença entre eles:\n",
    "\n",
    "## 1. Empenho\n",
    "O empenho é a **primeira fase** da execução da despesa. Consiste na reserva de parte do orçamento público para a realização de uma determinada despesa. Ele é formalizado por meio de um documento chamado Nota de Empenho, que garante que há disponibilidade orçamentária para cobrir a despesa. O empenho pode ser:\n",
    "   - **Ordinário**: Para despesas cujo valor total é conhecido no momento do empenho.\n",
    "   - **Estimativo**: Para despesas contínuas e variáveis, como serviços públicos (água, energia).\n",
    "   - **Global**: Para despesas contratuais com execução ao longo do exercício financeiro.\n",
    "\n",
    "O empenho **não representa o pagamento imediato**, mas apenas uma garantia de que o valor está reservado no orçamento.\n",
    "\n",
    "## 2. Liquidação\n",
    "A liquidação é a **segunda fase** do processo de execução da despesa. Ela ocorre quando o serviço ou bem contratado foi entregue ou prestado, e é necessário verificar se o que foi solicitado está de acordo com o contrato ou a ordem de serviço. A liquidação consiste na **verificação da origem da dívida**, ou seja, se o bem ou serviço foi efetivamente entregue ou realizado conforme o contratado.\n",
    "\n",
    "Nesta fase, a Administração Pública comprova:\n",
    "   - A existência do direito adquirido pelo credor;\n",
    "   - O cumprimento das condições para o pagamento;\n",
    "   - O valor a ser pago.\n",
    "\n",
    "Ou seja, é o reconhecimento de que a despesa foi realizada e está apta para ser paga.\n",
    "\n",
    "## 3. Pagamento\n",
    "O pagamento é a **última fase** do processo de execução da despesa pública. Ele ocorre após a liquidação, quando a Administração Pública efetivamente transfere os recursos financeiros para o credor (fornecedor, prestador de serviços, etc.). É o momento em que a despesa se concretiza, ou seja, quando o dinheiro sai dos cofres públicos para cumprir a obrigação financeira gerada pelo empenho e verificada pela liquidação.\n",
    "\n",
    "## Resumo do processo:\n",
    "1. **Empenho**: Reserva do orçamento (garantia de que a despesa será paga no futuro).\n",
    "2. **Liquidação**: Verificação e comprovação de que o serviço ou bem foi entregue e está de acordo com o contrato.\n",
    "3. **Pagamento**: Transferência dos recursos financeiros ao credor.\n",
    "\n",
    "Essas etapas são fundamentais para garantir a legalidade, a transparência e o controle da execução da despesa pública, assegurando que os recursos sejam utilizados corretamente.\n"
   ]
  },
  {
   "cell_type": "code",
   "execution_count": 4,
   "id": "3271fbcc-3ead-4547-b9ce-cb2b5e76275f",
   "metadata": {},
   "outputs": [],
   "source": [
    "\n",
    "\n",
    "csv_empenho = caminho_pasta + '20240101_Despesas/20240101_Despesas_Empenho.csv'\n",
    "csv_pagamento = caminho_pasta + '20240101_Despesas/20240101_Despesas_Pagamento.csv'\n",
    "csv_liquidacao = caminho_pasta + '20240101_Despesas/20240101_Despesas_Liquidacao.csv'\n",
    "\n",
    "df_empenho = pd.read_csv(csv_empenho, delimiter=';', encoding='latin1')\n",
    "\n",
    "df_pagamento = pd.read_csv(csv_pagamento, delimiter=';', encoding='latin1')\n",
    "\n",
    "df_liquidacao = pd.read_csv(csv_liquidacao, delimiter=';', encoding='latin1')"
   ]
  },
  {
   "cell_type": "code",
   "execution_count": 5,
   "id": "a0a63d0f-8a8a-4e0b-a34e-73d6beccb2b5",
   "metadata": {},
   "outputs": [
    {
     "data": {
      "text/markdown": [
       "# Datasets de Despesas"
      ],
      "text/plain": [
       "<IPython.core.display.Markdown object>"
      ]
     },
     "metadata": {},
     "output_type": "display_data"
    },
    {
     "data": {
      "text/markdown": [
       "## Empenho"
      ],
      "text/plain": [
       "<IPython.core.display.Markdown object>"
      ]
     },
     "metadata": {},
     "output_type": "display_data"
    },
    {
     "name": "stdout",
     "output_type": "stream",
     "text": [
      "<class 'pandas.core.frame.DataFrame'>\n",
      "RangeIndex: 30 entries, 0 to 29\n",
      "Data columns (total 63 columns):\n",
      " #   Column                                            Non-Null Count  Dtype \n",
      "---  ------                                            --------------  ----- \n",
      " 0   Id Empenho                                        30 non-null     int64 \n",
      " 1   Código Empenho                                    30 non-null     object\n",
      " 2   Código Empenho Resumido                           30 non-null     object\n",
      " 3   Data Emissão                                      30 non-null     object\n",
      " 4   Código Tipo Documento                             30 non-null     object\n",
      " 5   Tipo Documento                                    30 non-null     object\n",
      " 6   Tipo Empenho                                      30 non-null     object\n",
      " 7   Espécie Empenho                                   30 non-null     object\n",
      " 8   Código Órgão Superior                             30 non-null     int64 \n",
      " 9   Órgão Superior                                    30 non-null     object\n",
      " 10  Código Órgão                                      30 non-null     int64 \n",
      " 11  Órgão                                             30 non-null     object\n",
      " 12  Código Unidade Gestora                            30 non-null     int64 \n",
      " 13  Unidade Gestora                                   30 non-null     object\n",
      " 14  Código Gestão                                     30 non-null     int64 \n",
      " 15  Gestão                                            30 non-null     object\n",
      " 16  Código Favorecido                                 30 non-null     object\n",
      " 17  Favorecido                                        30 non-null     object\n",
      " 18  Observação                                        30 non-null     object\n",
      " 19  Código Esfera Orçamentária                        30 non-null     int64 \n",
      " 20  Esfera Orçamentária                               30 non-null     object\n",
      " 21  Código Tipo Crédito                               30 non-null     object\n",
      " 22  Tipo Crédito                                      30 non-null     object\n",
      " 23  Código Grupo Fonte Recurso                        30 non-null     int64 \n",
      " 24  Grupo Fonte Recurso                               30 non-null     object\n",
      " 25  Código Fonte Recurso                              30 non-null     int64 \n",
      " 26  Fonte Recurso                                     30 non-null     object\n",
      " 27  Código Unidade Orçamentária                       30 non-null     int64 \n",
      " 28  Unidade Orçamentária                              30 non-null     object\n",
      " 29  Código Função                                     30 non-null     int64 \n",
      " 30  Função                                            30 non-null     object\n",
      " 31  Código SubFunção                                  30 non-null     int64 \n",
      " 32  SubFunção                                         30 non-null     object\n",
      " 33  Código Programa                                   30 non-null     int64 \n",
      " 34  Programa                                          30 non-null     object\n",
      " 35  Código Ação                                       30 non-null     object\n",
      " 36  Ação                                              30 non-null     object\n",
      " 37  Linguagem Cidadã                                  12 non-null     object\n",
      " 38  Código Subtítulo (Localizador)                    30 non-null     object\n",
      " 39  Subtítulo (Localizador)                           30 non-null     object\n",
      " 40  Código Plano Orçamentário                         30 non-null     int64 \n",
      " 41  Plano Orçamentário                                30 non-null     object\n",
      " 42  Código Programa Governo                           30 non-null     int64 \n",
      " 43  Nome Programa Governo                             30 non-null     object\n",
      " 44  Autor Emenda                                      30 non-null     object\n",
      " 45  Código Categoria de Despesa                       30 non-null     int64 \n",
      " 46  Categoria de Despesa                              30 non-null     object\n",
      " 47  Código Grupo de Despesa                           30 non-null     int64 \n",
      " 48  Grupo de Despesa                                  30 non-null     object\n",
      " 49  Código Modalidade de Aplicação                    30 non-null     int64 \n",
      " 50  Modalidade de Aplicação                           30 non-null     object\n",
      " 51  Código Elemento de Despesa                        30 non-null     int64 \n",
      " 52  Elemento de Despesa                               30 non-null     object\n",
      " 53  Processo                                          30 non-null     object\n",
      " 54  Modalidade de Licitação                           30 non-null     object\n",
      " 55  Inciso                                            30 non-null     object\n",
      " 56  Amparo                                            30 non-null     object\n",
      " 57  Referência de Dispensa ou Inexigibilidade         30 non-null     int64 \n",
      " 58  Código Convênio                                   30 non-null     int64 \n",
      " 59  Contrato de Repasse / Termo de Parceria / Outros  30 non-null     object\n",
      " 60  Valor Original do Empenho                         30 non-null     object\n",
      " 61  Valor do Empenho Convertido pra R$                30 non-null     object\n",
      " 62  Valor Utilizado na Conversão                      30 non-null     object\n",
      "dtypes: int64(20), object(43)\n",
      "memory usage: 14.9+ KB\n"
     ]
    },
    {
     "data": {
      "text/plain": [
       "None"
      ]
     },
     "metadata": {},
     "output_type": "display_data"
    },
    {
     "data": {
      "text/html": [
       "<div>\n",
       "<style scoped>\n",
       "    .dataframe tbody tr th:only-of-type {\n",
       "        vertical-align: middle;\n",
       "    }\n",
       "\n",
       "    .dataframe tbody tr th {\n",
       "        vertical-align: top;\n",
       "    }\n",
       "\n",
       "    .dataframe thead th {\n",
       "        text-align: right;\n",
       "    }\n",
       "</style>\n",
       "<table border=\"1\" class=\"dataframe\">\n",
       "  <thead>\n",
       "    <tr style=\"text-align: right;\">\n",
       "      <th></th>\n",
       "      <th>Id Empenho</th>\n",
       "      <th>Código Empenho</th>\n",
       "      <th>Código Empenho Resumido</th>\n",
       "      <th>Data Emissão</th>\n",
       "      <th>Código Tipo Documento</th>\n",
       "      <th>Tipo Documento</th>\n",
       "      <th>Tipo Empenho</th>\n",
       "      <th>Espécie Empenho</th>\n",
       "      <th>Código Órgão Superior</th>\n",
       "      <th>Órgão Superior</th>\n",
       "      <th>Código Órgão</th>\n",
       "      <th>Órgão</th>\n",
       "      <th>Código Unidade Gestora</th>\n",
       "      <th>Unidade Gestora</th>\n",
       "      <th>Código Gestão</th>\n",
       "      <th>Gestão</th>\n",
       "      <th>Código Favorecido</th>\n",
       "      <th>Favorecido</th>\n",
       "      <th>Observação</th>\n",
       "      <th>Código Esfera Orçamentária</th>\n",
       "      <th>Esfera Orçamentária</th>\n",
       "      <th>Código Tipo Crédito</th>\n",
       "      <th>Tipo Crédito</th>\n",
       "      <th>Código Grupo Fonte Recurso</th>\n",
       "      <th>Grupo Fonte Recurso</th>\n",
       "      <th>Código Fonte Recurso</th>\n",
       "      <th>Fonte Recurso</th>\n",
       "      <th>Código Unidade Orçamentária</th>\n",
       "      <th>Unidade Orçamentária</th>\n",
       "      <th>Código Função</th>\n",
       "      <th>Função</th>\n",
       "      <th>Código SubFunção</th>\n",
       "      <th>SubFunção</th>\n",
       "      <th>Código Programa</th>\n",
       "      <th>Programa</th>\n",
       "      <th>Código Ação</th>\n",
       "      <th>Ação</th>\n",
       "      <th>Linguagem Cidadã</th>\n",
       "      <th>Código Subtítulo (Localizador)</th>\n",
       "      <th>Subtítulo (Localizador)</th>\n",
       "      <th>Código Plano Orçamentário</th>\n",
       "      <th>Plano Orçamentário</th>\n",
       "      <th>Código Programa Governo</th>\n",
       "      <th>Nome Programa Governo</th>\n",
       "      <th>Autor Emenda</th>\n",
       "      <th>Código Categoria de Despesa</th>\n",
       "      <th>Categoria de Despesa</th>\n",
       "      <th>Código Grupo de Despesa</th>\n",
       "      <th>Grupo de Despesa</th>\n",
       "      <th>Código Modalidade de Aplicação</th>\n",
       "      <th>Modalidade de Aplicação</th>\n",
       "      <th>Código Elemento de Despesa</th>\n",
       "      <th>Elemento de Despesa</th>\n",
       "      <th>Processo</th>\n",
       "      <th>Modalidade de Licitação</th>\n",
       "      <th>Inciso</th>\n",
       "      <th>Amparo</th>\n",
       "      <th>Referência de Dispensa ou Inexigibilidade</th>\n",
       "      <th>Código Convênio</th>\n",
       "      <th>Contrato de Repasse / Termo de Parceria / Outros</th>\n",
       "      <th>Valor Original do Empenho</th>\n",
       "      <th>Valor do Empenho Convertido pra R$</th>\n",
       "      <th>Valor Utilizado na Conversão</th>\n",
       "    </tr>\n",
       "  </thead>\n",
       "  <tbody>\n",
       "    <tr>\n",
       "      <th>27</th>\n",
       "      <td>562217244</td>\n",
       "      <td>114702114012024NE400013</td>\n",
       "      <td>2024NE400013</td>\n",
       "      <td>01/01/2024</td>\n",
       "      <td>NE</td>\n",
       "      <td>Nota de Empenho</td>\n",
       "      <td>Global</td>\n",
       "      <td>Não se aplica</td>\n",
       "      <td>46000</td>\n",
       "      <td>Ministério da Gestão e da Inovação em Ser</td>\n",
       "      <td>20202</td>\n",
       "      <td>Fundação Escola Nacional de Administração</td>\n",
       "      <td>114702</td>\n",
       "      <td>FUNDACAO ESCOLA NACIONAL DE ADM. PUBLICA</td>\n",
       "      <td>11401</td>\n",
       "      <td>FUNDACAO ESCOLA NACIONAL DE ADM. PUBLICA</td>\n",
       "      <td>***.882.141-**</td>\n",
       "      <td>CAMILA MENDES MAIA</td>\n",
       "      <td>SERVICO PARA FACILITACAO DE OFICINAS, FACILITA...</td>\n",
       "      <td>1</td>\n",
       "      <td>Orçamento Fiscal</td>\n",
       "      <td>A</td>\n",
       "      <td>INICIAL (LOA)</td>\n",
       "      <td>1</td>\n",
       "      <td>Recursos Do Tesouro - Exercicio Corrente</td>\n",
       "      <td>0</td>\n",
       "      <td>RECURSOS ORDINARIOS</td>\n",
       "      <td>46201</td>\n",
       "      <td>FUNDACAO ESCOLA NACIONAL DE ADM.PUBLICA-ENAP</td>\n",
       "      <td>4</td>\n",
       "      <td>Administração</td>\n",
       "      <td>573</td>\n",
       "      <td>Difusão do conhecimento científico e tecnológico</td>\n",
       "      <td>32</td>\n",
       "      <td>PROGRAMA DE GESTAO E MANUTENCAO DO PODER EXECU...</td>\n",
       "      <td>20U9</td>\n",
       "      <td>DESENVOLVIMENTO DE COMPETENCIAS DE AGENTES PUB...</td>\n",
       "      <td>NaN</td>\n",
       "      <td>20U90001</td>\n",
       "      <td>DESENVOLVIMENTO DE COMPETENCIAS DE AG - NACIONAL</td>\n",
       "      <td>4</td>\n",
       "      <td>CODIGO INEXISTENTE NO SIAFI</td>\n",
       "      <td>0</td>\n",
       "      <td>Sem informação</td>\n",
       "      <td>SEM EMENDA</td>\n",
       "      <td>3</td>\n",
       "      <td>DESPESAS CORRENTES</td>\n",
       "      <td>3</td>\n",
       "      <td>Outras Despesas Correntes</td>\n",
       "      <td>90</td>\n",
       "      <td>Aplicações Diretas</td>\n",
       "      <td>36</td>\n",
       "      <td>Outros Serviços de Terceiros - Pessoa Físic</td>\n",
       "      <td>04600.004056/2023-20</td>\n",
       "      <td>Inexigível</td>\n",
       "      <td>III</td>\n",
       "      <td>LEI 14.133/2021</td>\n",
       "      <td>-2</td>\n",
       "      <td>-1</td>\n",
       "      <td>NAO SE APLICA</td>\n",
       "      <td>76720,80</td>\n",
       "      <td>76720,80</td>\n",
       "      <td>1,0000</td>\n",
       "    </tr>\n",
       "    <tr>\n",
       "      <th>11</th>\n",
       "      <td>562473104</td>\n",
       "      <td>495650292082024NE000404</td>\n",
       "      <td>2024NE000404</td>\n",
       "      <td>01/01/2024</td>\n",
       "      <td>NE</td>\n",
       "      <td>Nota de Empenho</td>\n",
       "      <td>Estimativo</td>\n",
       "      <td>Não se aplica</td>\n",
       "      <td>32000</td>\n",
       "      <td>Ministério de Minas e Energia</td>\n",
       "      <td>29208</td>\n",
       "      <td>Companhia de Pesquisa de Recursos Minerais</td>\n",
       "      <td>495650</td>\n",
       "      <td>COMPANHIA DE PESQUISA DE RECURSOS MINERAIS</td>\n",
       "      <td>29208</td>\n",
       "      <td>COMPANHIA DE PESQUISA DE RECURSOS MINERAIS</td>\n",
       "      <td>03506307000157</td>\n",
       "      <td>TICKET SOLUCOES HDFGT S/A</td>\n",
       "      <td>EMPENHO PARA PAGAMENTO DE DESPESA REFERENTE A ...</td>\n",
       "      <td>1</td>\n",
       "      <td>Orçamento Fiscal</td>\n",
       "      <td>A</td>\n",
       "      <td>INICIAL (LOA)</td>\n",
       "      <td>1</td>\n",
       "      <td>Recursos Do Tesouro - Exercicio Corrente</td>\n",
       "      <td>4</td>\n",
       "      <td>RETORNO DO FUNDO SOCIAL</td>\n",
       "      <td>32202</td>\n",
       "      <td>COMPANHIA DE PESQUISA DE RECURSOS MINERAIS</td>\n",
       "      <td>22</td>\n",
       "      <td>Indústria</td>\n",
       "      <td>663</td>\n",
       "      <td>Mineração</td>\n",
       "      <td>3102</td>\n",
       "      <td>MINERACAO SEGURA E SUSTENTAVEL</td>\n",
       "      <td>2399</td>\n",
       "      <td>AVALIACAO DOS RECURSOS MINERAIS DO BRASIL</td>\n",
       "      <td>NaN</td>\n",
       "      <td>23990001</td>\n",
       "      <td>AVALIACAO DOS RECURSOS MINERAIS DO BR - NACIONAL</td>\n",
       "      <td>0</td>\n",
       "      <td>CODIGO INEXISTENTE NO SIAFI</td>\n",
       "      <td>0</td>\n",
       "      <td>Sem informação</td>\n",
       "      <td>SEM EMENDA</td>\n",
       "      <td>3</td>\n",
       "      <td>DESPESAS CORRENTES</td>\n",
       "      <td>3</td>\n",
       "      <td>Outras Despesas Correntes</td>\n",
       "      <td>90</td>\n",
       "      <td>Aplicações Diretas</td>\n",
       "      <td>30</td>\n",
       "      <td>Material de Consumo</td>\n",
       "      <td>48086.000107/2024-67</td>\n",
       "      <td>Pregão</td>\n",
       "      <td>SI</td>\n",
       "      <td>LEI 10.520 / 2002</td>\n",
       "      <td>-2</td>\n",
       "      <td>-1</td>\n",
       "      <td>NAO SE APLICA</td>\n",
       "      <td>2274,04</td>\n",
       "      <td>2274,04</td>\n",
       "      <td>1,0000</td>\n",
       "    </tr>\n",
       "    <tr>\n",
       "      <th>6</th>\n",
       "      <td>562159438</td>\n",
       "      <td>152005000012024NE000009</td>\n",
       "      <td>2024NE000009</td>\n",
       "      <td>01/01/2024</td>\n",
       "      <td>NE</td>\n",
       "      <td>Nota de Empenho</td>\n",
       "      <td>Estimativo</td>\n",
       "      <td>Não se aplica</td>\n",
       "      <td>26000</td>\n",
       "      <td>Ministério da Educação</td>\n",
       "      <td>26000</td>\n",
       "      <td>Ministério da Educação - Unidades com vín</td>\n",
       "      <td>152005</td>\n",
       "      <td>INSTITUTO NACIONAL DE EDUCACAO DE SURDOS-RJ</td>\n",
       "      <td>1</td>\n",
       "      <td>TESOURO NACIONAL</td>\n",
       "      <td>152005</td>\n",
       "      <td>INSTITUTO NACIONAL DE EDUCACAO DE SURDOS-RJ</td>\n",
       "      <td>ATENDER DESPESA COM AUXILIO ALIMENTACAO DE CON...</td>\n",
       "      <td>1</td>\n",
       "      <td>Orçamento Fiscal</td>\n",
       "      <td>A</td>\n",
       "      <td>INICIAL (LOA)</td>\n",
       "      <td>1</td>\n",
       "      <td>Recursos Do Tesouro - Exercicio Corrente</td>\n",
       "      <td>0</td>\n",
       "      <td>RECURSOS ORDINARIOS</td>\n",
       "      <td>26104</td>\n",
       "      <td>INSTITUTO NACIONAL DE EDUCACAO DE SURDOS</td>\n",
       "      <td>12</td>\n",
       "      <td>Educação</td>\n",
       "      <td>331</td>\n",
       "      <td>Proteção e benefícios ao trabalhador</td>\n",
       "      <td>32</td>\n",
       "      <td>PROGRAMA DE GESTAO E MANUTENCAO DO PODER EXECU...</td>\n",
       "      <td>212B</td>\n",
       "      <td>BENEFICIOS OBRIGATORIOS AOS SERVIDORES CIVIS, ...</td>\n",
       "      <td>NaN</td>\n",
       "      <td>212B0033</td>\n",
       "      <td>BENEFICIOS OBRIGATORIOS AOS SERVIDORE - NO EST...</td>\n",
       "      <td>5</td>\n",
       "      <td>AUXILIO-ALIMENTACAO DE CIVIS ATIVOS</td>\n",
       "      <td>0</td>\n",
       "      <td>Sem informação</td>\n",
       "      <td>SEM EMENDA</td>\n",
       "      <td>3</td>\n",
       "      <td>DESPESAS CORRENTES</td>\n",
       "      <td>3</td>\n",
       "      <td>Outras Despesas Correntes</td>\n",
       "      <td>90</td>\n",
       "      <td>Aplicações Diretas</td>\n",
       "      <td>4</td>\n",
       "      <td>Contratação por Tempo Determinado</td>\n",
       "      <td>23121.001375/2023-11</td>\n",
       "      <td>Não se Aplica</td>\n",
       "      <td>SI</td>\n",
       "      <td>SEM INFORMACAO</td>\n",
       "      <td>-2</td>\n",
       "      <td>-1</td>\n",
       "      <td>NAO SE APLICA</td>\n",
       "      <td>264000,00</td>\n",
       "      <td>264000,00</td>\n",
       "      <td>1,0000</td>\n",
       "    </tr>\n",
       "  </tbody>\n",
       "</table>\n",
       "</div>"
      ],
      "text/plain": [
       "    Id Empenho           Código Empenho Código Empenho Resumido Data Emissão  \\\n",
       "27   562217244  114702114012024NE400013            2024NE400013   01/01/2024   \n",
       "11   562473104  495650292082024NE000404            2024NE000404   01/01/2024   \n",
       "6    562159438  152005000012024NE000009            2024NE000009   01/01/2024   \n",
       "\n",
       "   Código Tipo Documento   Tipo Documento Tipo Empenho Espécie Empenho  \\\n",
       "27                    NE  Nota de Empenho       Global   Não se aplica   \n",
       "11                    NE  Nota de Empenho   Estimativo   Não se aplica   \n",
       "6                     NE  Nota de Empenho   Estimativo   Não se aplica   \n",
       "\n",
       "    Código Órgão Superior                             Órgão Superior  \\\n",
       "27                  46000  Ministério da Gestão e da Inovação em Ser   \n",
       "11                  32000              Ministério de Minas e Energia   \n",
       "6                   26000                     Ministério da Educação   \n",
       "\n",
       "    Código Órgão                                       Órgão  \\\n",
       "27         20202   Fundação Escola Nacional de Administração   \n",
       "11         29208  Companhia de Pesquisa de Recursos Minerais   \n",
       "6          26000   Ministério da Educação - Unidades com vín   \n",
       "\n",
       "    Código Unidade Gestora                              Unidade Gestora  \\\n",
       "27                  114702     FUNDACAO ESCOLA NACIONAL DE ADM. PUBLICA   \n",
       "11                  495650   COMPANHIA DE PESQUISA DE RECURSOS MINERAIS   \n",
       "6                   152005  INSTITUTO NACIONAL DE EDUCACAO DE SURDOS-RJ   \n",
       "\n",
       "    Código Gestão                                      Gestão  \\\n",
       "27          11401    FUNDACAO ESCOLA NACIONAL DE ADM. PUBLICA   \n",
       "11          29208  COMPANHIA DE PESQUISA DE RECURSOS MINERAIS   \n",
       "6               1                            TESOURO NACIONAL   \n",
       "\n",
       "   Código Favorecido                                   Favorecido  \\\n",
       "27    ***.882.141-**                           CAMILA MENDES MAIA   \n",
       "11    03506307000157                    TICKET SOLUCOES HDFGT S/A   \n",
       "6             152005  INSTITUTO NACIONAL DE EDUCACAO DE SURDOS-RJ   \n",
       "\n",
       "                                           Observação  \\\n",
       "27  SERVICO PARA FACILITACAO DE OFICINAS, FACILITA...   \n",
       "11  EMPENHO PARA PAGAMENTO DE DESPESA REFERENTE A ...   \n",
       "6   ATENDER DESPESA COM AUXILIO ALIMENTACAO DE CON...   \n",
       "\n",
       "    Código Esfera Orçamentária Esfera Orçamentária Código Tipo Crédito  \\\n",
       "27                           1    Orçamento Fiscal                   A   \n",
       "11                           1    Orçamento Fiscal                   A   \n",
       "6                            1    Orçamento Fiscal                   A   \n",
       "\n",
       "     Tipo Crédito  Código Grupo Fonte Recurso  \\\n",
       "27  INICIAL (LOA)                           1   \n",
       "11  INICIAL (LOA)                           1   \n",
       "6   INICIAL (LOA)                           1   \n",
       "\n",
       "                         Grupo Fonte Recurso  Código Fonte Recurso  \\\n",
       "27  Recursos Do Tesouro - Exercicio Corrente                     0   \n",
       "11  Recursos Do Tesouro - Exercicio Corrente                     4   \n",
       "6   Recursos Do Tesouro - Exercicio Corrente                     0   \n",
       "\n",
       "              Fonte Recurso  Código Unidade Orçamentária  \\\n",
       "27      RECURSOS ORDINARIOS                        46201   \n",
       "11  RETORNO DO FUNDO SOCIAL                        32202   \n",
       "6       RECURSOS ORDINARIOS                        26104   \n",
       "\n",
       "                            Unidade Orçamentária  Código Função  \\\n",
       "27  FUNDACAO ESCOLA NACIONAL DE ADM.PUBLICA-ENAP              4   \n",
       "11    COMPANHIA DE PESQUISA DE RECURSOS MINERAIS             22   \n",
       "6       INSTITUTO NACIONAL DE EDUCACAO DE SURDOS             12   \n",
       "\n",
       "           Função  Código SubFunção  \\\n",
       "27  Administração               573   \n",
       "11      Indústria               663   \n",
       "6        Educação               331   \n",
       "\n",
       "                                           SubFunção  Código Programa  \\\n",
       "27  Difusão do conhecimento científico e tecnológico               32   \n",
       "11                                         Mineração             3102   \n",
       "6               Proteção e benefícios ao trabalhador               32   \n",
       "\n",
       "                                             Programa Código Ação  \\\n",
       "27  PROGRAMA DE GESTAO E MANUTENCAO DO PODER EXECU...        20U9   \n",
       "11                     MINERACAO SEGURA E SUSTENTAVEL        2399   \n",
       "6   PROGRAMA DE GESTAO E MANUTENCAO DO PODER EXECU...        212B   \n",
       "\n",
       "                                                 Ação Linguagem Cidadã  \\\n",
       "27  DESENVOLVIMENTO DE COMPETENCIAS DE AGENTES PUB...              NaN   \n",
       "11          AVALIACAO DOS RECURSOS MINERAIS DO BRASIL              NaN   \n",
       "6   BENEFICIOS OBRIGATORIOS AOS SERVIDORES CIVIS, ...              NaN   \n",
       "\n",
       "   Código Subtítulo (Localizador)  \\\n",
       "27                       20U90001   \n",
       "11                       23990001   \n",
       "6                        212B0033   \n",
       "\n",
       "                              Subtítulo (Localizador)  \\\n",
       "27   DESENVOLVIMENTO DE COMPETENCIAS DE AG - NACIONAL   \n",
       "11   AVALIACAO DOS RECURSOS MINERAIS DO BR - NACIONAL   \n",
       "6   BENEFICIOS OBRIGATORIOS AOS SERVIDORE - NO EST...   \n",
       "\n",
       "    Código Plano Orçamentário                   Plano Orçamentário  \\\n",
       "27                          4          CODIGO INEXISTENTE NO SIAFI   \n",
       "11                          0          CODIGO INEXISTENTE NO SIAFI   \n",
       "6                           5  AUXILIO-ALIMENTACAO DE CIVIS ATIVOS   \n",
       "\n",
       "    Código Programa Governo Nome Programa Governo Autor Emenda  \\\n",
       "27                        0        Sem informação   SEM EMENDA   \n",
       "11                        0        Sem informação   SEM EMENDA   \n",
       "6                         0        Sem informação   SEM EMENDA   \n",
       "\n",
       "    Código Categoria de Despesa Categoria de Despesa  Código Grupo de Despesa  \\\n",
       "27                            3   DESPESAS CORRENTES                        3   \n",
       "11                            3   DESPESAS CORRENTES                        3   \n",
       "6                             3   DESPESAS CORRENTES                        3   \n",
       "\n",
       "             Grupo de Despesa  Código Modalidade de Aplicação  \\\n",
       "27  Outras Despesas Correntes                              90   \n",
       "11  Outras Despesas Correntes                              90   \n",
       "6   Outras Despesas Correntes                              90   \n",
       "\n",
       "   Modalidade de Aplicação  Código Elemento de Despesa  \\\n",
       "27      Aplicações Diretas                          36   \n",
       "11      Aplicações Diretas                          30   \n",
       "6       Aplicações Diretas                           4   \n",
       "\n",
       "                            Elemento de Despesa              Processo  \\\n",
       "27  Outros Serviços de Terceiros - Pessoa Físic  04600.004056/2023-20   \n",
       "11                          Material de Consumo  48086.000107/2024-67   \n",
       "6             Contratação por Tempo Determinado  23121.001375/2023-11   \n",
       "\n",
       "   Modalidade de Licitação Inciso             Amparo  \\\n",
       "27              Inexigível    III    LEI 14.133/2021   \n",
       "11                  Pregão     SI  LEI 10.520 / 2002   \n",
       "6            Não se Aplica     SI     SEM INFORMACAO   \n",
       "\n",
       "    Referência de Dispensa ou Inexigibilidade  Código Convênio  \\\n",
       "27                                         -2               -1   \n",
       "11                                         -2               -1   \n",
       "6                                          -2               -1   \n",
       "\n",
       "   Contrato de Repasse / Termo de Parceria / Outros Valor Original do Empenho  \\\n",
       "27                                    NAO SE APLICA                  76720,80   \n",
       "11                                    NAO SE APLICA                   2274,04   \n",
       "6                                     NAO SE APLICA                 264000,00   \n",
       "\n",
       "   Valor do Empenho Convertido pra R$ Valor Utilizado na Conversão  \n",
       "27                           76720,80                       1,0000  \n",
       "11                            2274,04                       1,0000  \n",
       "6                           264000,00                       1,0000  "
      ]
     },
     "metadata": {},
     "output_type": "display_data"
    },
    {
     "data": {
      "text/markdown": [
       "## Pagamento"
      ],
      "text/plain": [
       "<IPython.core.display.Markdown object>"
      ]
     },
     "metadata": {},
     "output_type": "display_data"
    },
    {
     "name": "stdout",
     "output_type": "stream",
     "text": [
      "<class 'pandas.core.frame.DataFrame'>\n",
      "RangeIndex: 30 entries, 0 to 29\n",
      "Data columns (total 63 columns):\n",
      " #   Column                                            Non-Null Count  Dtype \n",
      "---  ------                                            --------------  ----- \n",
      " 0   Id Empenho                                        30 non-null     int64 \n",
      " 1   Código Empenho                                    30 non-null     object\n",
      " 2   Código Empenho Resumido                           30 non-null     object\n",
      " 3   Data Emissão                                      30 non-null     object\n",
      " 4   Código Tipo Documento                             30 non-null     object\n",
      " 5   Tipo Documento                                    30 non-null     object\n",
      " 6   Tipo Empenho                                      30 non-null     object\n",
      " 7   Espécie Empenho                                   30 non-null     object\n",
      " 8   Código Órgão Superior                             30 non-null     int64 \n",
      " 9   Órgão Superior                                    30 non-null     object\n",
      " 10  Código Órgão                                      30 non-null     int64 \n",
      " 11  Órgão                                             30 non-null     object\n",
      " 12  Código Unidade Gestora                            30 non-null     int64 \n",
      " 13  Unidade Gestora                                   30 non-null     object\n",
      " 14  Código Gestão                                     30 non-null     int64 \n",
      " 15  Gestão                                            30 non-null     object\n",
      " 16  Código Favorecido                                 30 non-null     object\n",
      " 17  Favorecido                                        30 non-null     object\n",
      " 18  Observação                                        30 non-null     object\n",
      " 19  Código Esfera Orçamentária                        30 non-null     int64 \n",
      " 20  Esfera Orçamentária                               30 non-null     object\n",
      " 21  Código Tipo Crédito                               30 non-null     object\n",
      " 22  Tipo Crédito                                      30 non-null     object\n",
      " 23  Código Grupo Fonte Recurso                        30 non-null     int64 \n",
      " 24  Grupo Fonte Recurso                               30 non-null     object\n",
      " 25  Código Fonte Recurso                              30 non-null     int64 \n",
      " 26  Fonte Recurso                                     30 non-null     object\n",
      " 27  Código Unidade Orçamentária                       30 non-null     int64 \n",
      " 28  Unidade Orçamentária                              30 non-null     object\n",
      " 29  Código Função                                     30 non-null     int64 \n",
      " 30  Função                                            30 non-null     object\n",
      " 31  Código SubFunção                                  30 non-null     int64 \n",
      " 32  SubFunção                                         30 non-null     object\n",
      " 33  Código Programa                                   30 non-null     int64 \n",
      " 34  Programa                                          30 non-null     object\n",
      " 35  Código Ação                                       30 non-null     object\n",
      " 36  Ação                                              30 non-null     object\n",
      " 37  Linguagem Cidadã                                  12 non-null     object\n",
      " 38  Código Subtítulo (Localizador)                    30 non-null     object\n",
      " 39  Subtítulo (Localizador)                           30 non-null     object\n",
      " 40  Código Plano Orçamentário                         30 non-null     int64 \n",
      " 41  Plano Orçamentário                                30 non-null     object\n",
      " 42  Código Programa Governo                           30 non-null     int64 \n",
      " 43  Nome Programa Governo                             30 non-null     object\n",
      " 44  Autor Emenda                                      30 non-null     object\n",
      " 45  Código Categoria de Despesa                       30 non-null     int64 \n",
      " 46  Categoria de Despesa                              30 non-null     object\n",
      " 47  Código Grupo de Despesa                           30 non-null     int64 \n",
      " 48  Grupo de Despesa                                  30 non-null     object\n",
      " 49  Código Modalidade de Aplicação                    30 non-null     int64 \n",
      " 50  Modalidade de Aplicação                           30 non-null     object\n",
      " 51  Código Elemento de Despesa                        30 non-null     int64 \n",
      " 52  Elemento de Despesa                               30 non-null     object\n",
      " 53  Processo                                          30 non-null     object\n",
      " 54  Modalidade de Licitação                           30 non-null     object\n",
      " 55  Inciso                                            30 non-null     object\n",
      " 56  Amparo                                            30 non-null     object\n",
      " 57  Referência de Dispensa ou Inexigibilidade         30 non-null     int64 \n",
      " 58  Código Convênio                                   30 non-null     int64 \n",
      " 59  Contrato de Repasse / Termo de Parceria / Outros  30 non-null     object\n",
      " 60  Valor Original do Empenho                         30 non-null     object\n",
      " 61  Valor do Empenho Convertido pra R$                30 non-null     object\n",
      " 62  Valor Utilizado na Conversão                      30 non-null     object\n",
      "dtypes: int64(20), object(43)\n",
      "memory usage: 14.9+ KB\n"
     ]
    },
    {
     "data": {
      "text/plain": [
       "None"
      ]
     },
     "metadata": {},
     "output_type": "display_data"
    },
    {
     "data": {
      "text/html": [
       "<div>\n",
       "<style scoped>\n",
       "    .dataframe tbody tr th:only-of-type {\n",
       "        vertical-align: middle;\n",
       "    }\n",
       "\n",
       "    .dataframe tbody tr th {\n",
       "        vertical-align: top;\n",
       "    }\n",
       "\n",
       "    .dataframe thead th {\n",
       "        text-align: right;\n",
       "    }\n",
       "</style>\n",
       "<table border=\"1\" class=\"dataframe\">\n",
       "  <thead>\n",
       "    <tr style=\"text-align: right;\">\n",
       "      <th></th>\n",
       "      <th>Id Empenho</th>\n",
       "      <th>Código Empenho</th>\n",
       "      <th>Código Empenho Resumido</th>\n",
       "      <th>Data Emissão</th>\n",
       "      <th>Código Tipo Documento</th>\n",
       "      <th>Tipo Documento</th>\n",
       "      <th>Tipo Empenho</th>\n",
       "      <th>Espécie Empenho</th>\n",
       "      <th>Código Órgão Superior</th>\n",
       "      <th>Órgão Superior</th>\n",
       "      <th>Código Órgão</th>\n",
       "      <th>Órgão</th>\n",
       "      <th>Código Unidade Gestora</th>\n",
       "      <th>Unidade Gestora</th>\n",
       "      <th>Código Gestão</th>\n",
       "      <th>Gestão</th>\n",
       "      <th>Código Favorecido</th>\n",
       "      <th>Favorecido</th>\n",
       "      <th>Observação</th>\n",
       "      <th>Código Esfera Orçamentária</th>\n",
       "      <th>Esfera Orçamentária</th>\n",
       "      <th>Código Tipo Crédito</th>\n",
       "      <th>Tipo Crédito</th>\n",
       "      <th>Código Grupo Fonte Recurso</th>\n",
       "      <th>Grupo Fonte Recurso</th>\n",
       "      <th>Código Fonte Recurso</th>\n",
       "      <th>Fonte Recurso</th>\n",
       "      <th>Código Unidade Orçamentária</th>\n",
       "      <th>Unidade Orçamentária</th>\n",
       "      <th>Código Função</th>\n",
       "      <th>Função</th>\n",
       "      <th>Código SubFunção</th>\n",
       "      <th>SubFunção</th>\n",
       "      <th>Código Programa</th>\n",
       "      <th>Programa</th>\n",
       "      <th>Código Ação</th>\n",
       "      <th>Ação</th>\n",
       "      <th>Linguagem Cidadã</th>\n",
       "      <th>Código Subtítulo (Localizador)</th>\n",
       "      <th>Subtítulo (Localizador)</th>\n",
       "      <th>Código Plano Orçamentário</th>\n",
       "      <th>Plano Orçamentário</th>\n",
       "      <th>Código Programa Governo</th>\n",
       "      <th>Nome Programa Governo</th>\n",
       "      <th>Autor Emenda</th>\n",
       "      <th>Código Categoria de Despesa</th>\n",
       "      <th>Categoria de Despesa</th>\n",
       "      <th>Código Grupo de Despesa</th>\n",
       "      <th>Grupo de Despesa</th>\n",
       "      <th>Código Modalidade de Aplicação</th>\n",
       "      <th>Modalidade de Aplicação</th>\n",
       "      <th>Código Elemento de Despesa</th>\n",
       "      <th>Elemento de Despesa</th>\n",
       "      <th>Processo</th>\n",
       "      <th>Modalidade de Licitação</th>\n",
       "      <th>Inciso</th>\n",
       "      <th>Amparo</th>\n",
       "      <th>Referência de Dispensa ou Inexigibilidade</th>\n",
       "      <th>Código Convênio</th>\n",
       "      <th>Contrato de Repasse / Termo de Parceria / Outros</th>\n",
       "      <th>Valor Original do Empenho</th>\n",
       "      <th>Valor do Empenho Convertido pra R$</th>\n",
       "      <th>Valor Utilizado na Conversão</th>\n",
       "    </tr>\n",
       "  </thead>\n",
       "  <tbody>\n",
       "    <tr>\n",
       "      <th>0</th>\n",
       "      <td>562398898</td>\n",
       "      <td>170177000012024NE000160</td>\n",
       "      <td>2024NE000160</td>\n",
       "      <td>01/01/2024</td>\n",
       "      <td>NE</td>\n",
       "      <td>Nota de Empenho</td>\n",
       "      <td>Estimativo</td>\n",
       "      <td>Não se aplica</td>\n",
       "      <td>25000</td>\n",
       "      <td>Ministério da Fazenda</td>\n",
       "      <td>25000</td>\n",
       "      <td>Ministério da Fazenda - Unidades com víncul</td>\n",
       "      <td>170177</td>\n",
       "      <td>SUPERINTENDENCIA REGIONAL DA RFB NA 10A RF</td>\n",
       "      <td>1</td>\n",
       "      <td>TESOURO NACIONAL</td>\n",
       "      <td>90180605000102</td>\n",
       "      <td>GENTE SEGURADORA SA</td>\n",
       "      <td>PAGAMENTO DE DESPESAS COM CONTRATACAO SE SEGUR...</td>\n",
       "      <td>1</td>\n",
       "      <td>Orçamento Fiscal</td>\n",
       "      <td>A</td>\n",
       "      <td>INICIAL (LOA)</td>\n",
       "      <td>1</td>\n",
       "      <td>Recursos Do Tesouro - Exercicio Corrente</td>\n",
       "      <td>3</td>\n",
       "      <td>TRANSF.DO IMP.DE RENDA AOS MUNIC.-REF.TRIBUT.</td>\n",
       "      <td>25103</td>\n",
       "      <td>SEC ESPECIAL DA RECEITA FEDERAL DO BRASIL</td>\n",
       "      <td>4</td>\n",
       "      <td>Administração</td>\n",
       "      <td>122</td>\n",
       "      <td>Administração geral</td>\n",
       "      <td>32</td>\n",
       "      <td>PROGRAMA DE GESTAO E MANUTENCAO DO PODER EXECU...</td>\n",
       "      <td>2000</td>\n",
       "      <td>ADMINISTRACAO DA UNIDADE</td>\n",
       "      <td>Administração de unidade</td>\n",
       "      <td>20000001</td>\n",
       "      <td>ADMINISTRACAO DA UNIDADE       - NACIONAL</td>\n",
       "      <td>2</td>\n",
       "      <td>ADMINISTRACAO DA UNIDADE - RFB</td>\n",
       "      <td>0</td>\n",
       "      <td>Sem informação</td>\n",
       "      <td>SEM EMENDA</td>\n",
       "      <td>3</td>\n",
       "      <td>DESPESAS CORRENTES</td>\n",
       "      <td>3</td>\n",
       "      <td>Outras Despesas Correntes</td>\n",
       "      <td>90</td>\n",
       "      <td>Aplicações Diretas</td>\n",
       "      <td>39</td>\n",
       "      <td>Outros Serviços de Terceiros - Pessoa Juríd</td>\n",
       "      <td>11000.756909/2023-37</td>\n",
       "      <td>Pregão</td>\n",
       "      <td>SI</td>\n",
       "      <td>LEI 10.520 / 2002</td>\n",
       "      <td>-2</td>\n",
       "      <td>-1</td>\n",
       "      <td>NAO SE APLICA</td>\n",
       "      <td>10,00</td>\n",
       "      <td>10,00</td>\n",
       "      <td>1,0000</td>\n",
       "    </tr>\n",
       "    <tr>\n",
       "      <th>2</th>\n",
       "      <td>562389008</td>\n",
       "      <td>170177000012024NE000157</td>\n",
       "      <td>2024NE000157</td>\n",
       "      <td>01/01/2024</td>\n",
       "      <td>NE</td>\n",
       "      <td>Nota de Empenho</td>\n",
       "      <td>Global</td>\n",
       "      <td>Não se aplica</td>\n",
       "      <td>25000</td>\n",
       "      <td>Ministério da Fazenda</td>\n",
       "      <td>25000</td>\n",
       "      <td>Ministério da Fazenda - Unidades com víncul</td>\n",
       "      <td>170177</td>\n",
       "      <td>SUPERINTENDENCIA REGIONAL DA RFB NA 10A RF</td>\n",
       "      <td>1</td>\n",
       "      <td>TESOURO NACIONAL</td>\n",
       "      <td>01819869000125</td>\n",
       "      <td>ENTERPRISE COMERCIO DE MATERIAIS PARA EQUIPAME...</td>\n",
       "      <td>EMPENHO PARA MANUTENCAO DE CENTRAL TELEFONICA ...</td>\n",
       "      <td>1</td>\n",
       "      <td>Orçamento Fiscal</td>\n",
       "      <td>A</td>\n",
       "      <td>INICIAL (LOA)</td>\n",
       "      <td>1</td>\n",
       "      <td>Recursos Do Tesouro - Exercicio Corrente</td>\n",
       "      <td>3</td>\n",
       "      <td>TRANSF.DO IMP.DE RENDA AOS MUNIC.-REF.TRIBUT.</td>\n",
       "      <td>25103</td>\n",
       "      <td>SEC ESPECIAL DA RECEITA FEDERAL DO BRASIL</td>\n",
       "      <td>4</td>\n",
       "      <td>Administração</td>\n",
       "      <td>122</td>\n",
       "      <td>Administração geral</td>\n",
       "      <td>32</td>\n",
       "      <td>PROGRAMA DE GESTAO E MANUTENCAO DO PODER EXECU...</td>\n",
       "      <td>2000</td>\n",
       "      <td>ADMINISTRACAO DA UNIDADE</td>\n",
       "      <td>Administração de unidade</td>\n",
       "      <td>20000001</td>\n",
       "      <td>ADMINISTRACAO DA UNIDADE       - NACIONAL</td>\n",
       "      <td>2</td>\n",
       "      <td>ADMINISTRACAO DA UNIDADE - RFB</td>\n",
       "      <td>0</td>\n",
       "      <td>Sem informação</td>\n",
       "      <td>SEM EMENDA</td>\n",
       "      <td>3</td>\n",
       "      <td>DESPESAS CORRENTES</td>\n",
       "      <td>3</td>\n",
       "      <td>Outras Despesas Correntes</td>\n",
       "      <td>90</td>\n",
       "      <td>Aplicações Diretas</td>\n",
       "      <td>39</td>\n",
       "      <td>Outros Serviços de Terceiros - Pessoa Juríd</td>\n",
       "      <td>11050.721089/2018-18</td>\n",
       "      <td>Pregão</td>\n",
       "      <td>SI</td>\n",
       "      <td>LEI 10.520 / 2002</td>\n",
       "      <td>-2</td>\n",
       "      <td>-1</td>\n",
       "      <td>NAO SE APLICA</td>\n",
       "      <td>872,43</td>\n",
       "      <td>872,43</td>\n",
       "      <td>1,0000</td>\n",
       "    </tr>\n",
       "    <tr>\n",
       "      <th>6</th>\n",
       "      <td>562159438</td>\n",
       "      <td>152005000012024NE000009</td>\n",
       "      <td>2024NE000009</td>\n",
       "      <td>01/01/2024</td>\n",
       "      <td>NE</td>\n",
       "      <td>Nota de Empenho</td>\n",
       "      <td>Estimativo</td>\n",
       "      <td>Não se aplica</td>\n",
       "      <td>26000</td>\n",
       "      <td>Ministério da Educação</td>\n",
       "      <td>26000</td>\n",
       "      <td>Ministério da Educação - Unidades com vín</td>\n",
       "      <td>152005</td>\n",
       "      <td>INSTITUTO NACIONAL DE EDUCACAO DE SURDOS-RJ</td>\n",
       "      <td>1</td>\n",
       "      <td>TESOURO NACIONAL</td>\n",
       "      <td>152005</td>\n",
       "      <td>INSTITUTO NACIONAL DE EDUCACAO DE SURDOS-RJ</td>\n",
       "      <td>ATENDER DESPESA COM AUXILIO ALIMENTACAO DE CON...</td>\n",
       "      <td>1</td>\n",
       "      <td>Orçamento Fiscal</td>\n",
       "      <td>A</td>\n",
       "      <td>INICIAL (LOA)</td>\n",
       "      <td>1</td>\n",
       "      <td>Recursos Do Tesouro - Exercicio Corrente</td>\n",
       "      <td>0</td>\n",
       "      <td>RECURSOS ORDINARIOS</td>\n",
       "      <td>26104</td>\n",
       "      <td>INSTITUTO NACIONAL DE EDUCACAO DE SURDOS</td>\n",
       "      <td>12</td>\n",
       "      <td>Educação</td>\n",
       "      <td>331</td>\n",
       "      <td>Proteção e benefícios ao trabalhador</td>\n",
       "      <td>32</td>\n",
       "      <td>PROGRAMA DE GESTAO E MANUTENCAO DO PODER EXECU...</td>\n",
       "      <td>212B</td>\n",
       "      <td>BENEFICIOS OBRIGATORIOS AOS SERVIDORES CIVIS, ...</td>\n",
       "      <td>NaN</td>\n",
       "      <td>212B0033</td>\n",
       "      <td>BENEFICIOS OBRIGATORIOS AOS SERVIDORE - NO EST...</td>\n",
       "      <td>5</td>\n",
       "      <td>AUXILIO-ALIMENTACAO DE CIVIS ATIVOS</td>\n",
       "      <td>0</td>\n",
       "      <td>Sem informação</td>\n",
       "      <td>SEM EMENDA</td>\n",
       "      <td>3</td>\n",
       "      <td>DESPESAS CORRENTES</td>\n",
       "      <td>3</td>\n",
       "      <td>Outras Despesas Correntes</td>\n",
       "      <td>90</td>\n",
       "      <td>Aplicações Diretas</td>\n",
       "      <td>4</td>\n",
       "      <td>Contratação por Tempo Determinado</td>\n",
       "      <td>23121.001375/2023-11</td>\n",
       "      <td>Não se Aplica</td>\n",
       "      <td>SI</td>\n",
       "      <td>SEM INFORMACAO</td>\n",
       "      <td>-2</td>\n",
       "      <td>-1</td>\n",
       "      <td>NAO SE APLICA</td>\n",
       "      <td>264000,00</td>\n",
       "      <td>264000,00</td>\n",
       "      <td>1,0000</td>\n",
       "    </tr>\n",
       "  </tbody>\n",
       "</table>\n",
       "</div>"
      ],
      "text/plain": [
       "   Id Empenho           Código Empenho Código Empenho Resumido Data Emissão  \\\n",
       "0   562398898  170177000012024NE000160            2024NE000160   01/01/2024   \n",
       "2   562389008  170177000012024NE000157            2024NE000157   01/01/2024   \n",
       "6   562159438  152005000012024NE000009            2024NE000009   01/01/2024   \n",
       "\n",
       "  Código Tipo Documento   Tipo Documento Tipo Empenho Espécie Empenho  \\\n",
       "0                    NE  Nota de Empenho   Estimativo   Não se aplica   \n",
       "2                    NE  Nota de Empenho       Global   Não se aplica   \n",
       "6                    NE  Nota de Empenho   Estimativo   Não se aplica   \n",
       "\n",
       "   Código Órgão Superior          Órgão Superior  Código Órgão  \\\n",
       "0                  25000   Ministério da Fazenda         25000   \n",
       "2                  25000   Ministério da Fazenda         25000   \n",
       "6                  26000  Ministério da Educação         26000   \n",
       "\n",
       "                                         Órgão  Código Unidade Gestora  \\\n",
       "0  Ministério da Fazenda - Unidades com víncul                  170177   \n",
       "2  Ministério da Fazenda - Unidades com víncul                  170177   \n",
       "6    Ministério da Educação - Unidades com vín                  152005   \n",
       "\n",
       "                               Unidade Gestora  Código Gestão  \\\n",
       "0   SUPERINTENDENCIA REGIONAL DA RFB NA 10A RF              1   \n",
       "2   SUPERINTENDENCIA REGIONAL DA RFB NA 10A RF              1   \n",
       "6  INSTITUTO NACIONAL DE EDUCACAO DE SURDOS-RJ              1   \n",
       "\n",
       "             Gestão Código Favorecido  \\\n",
       "0  TESOURO NACIONAL    90180605000102   \n",
       "2  TESOURO NACIONAL    01819869000125   \n",
       "6  TESOURO NACIONAL            152005   \n",
       "\n",
       "                                          Favorecido  \\\n",
       "0                                GENTE SEGURADORA SA   \n",
       "2  ENTERPRISE COMERCIO DE MATERIAIS PARA EQUIPAME...   \n",
       "6        INSTITUTO NACIONAL DE EDUCACAO DE SURDOS-RJ   \n",
       "\n",
       "                                          Observação  \\\n",
       "0  PAGAMENTO DE DESPESAS COM CONTRATACAO SE SEGUR...   \n",
       "2  EMPENHO PARA MANUTENCAO DE CENTRAL TELEFONICA ...   \n",
       "6  ATENDER DESPESA COM AUXILIO ALIMENTACAO DE CON...   \n",
       "\n",
       "   Código Esfera Orçamentária Esfera Orçamentária Código Tipo Crédito  \\\n",
       "0                           1    Orçamento Fiscal                   A   \n",
       "2                           1    Orçamento Fiscal                   A   \n",
       "6                           1    Orçamento Fiscal                   A   \n",
       "\n",
       "    Tipo Crédito  Código Grupo Fonte Recurso  \\\n",
       "0  INICIAL (LOA)                           1   \n",
       "2  INICIAL (LOA)                           1   \n",
       "6  INICIAL (LOA)                           1   \n",
       "\n",
       "                        Grupo Fonte Recurso  Código Fonte Recurso  \\\n",
       "0  Recursos Do Tesouro - Exercicio Corrente                     3   \n",
       "2  Recursos Do Tesouro - Exercicio Corrente                     3   \n",
       "6  Recursos Do Tesouro - Exercicio Corrente                     0   \n",
       "\n",
       "                                   Fonte Recurso  Código Unidade Orçamentária  \\\n",
       "0  TRANSF.DO IMP.DE RENDA AOS MUNIC.-REF.TRIBUT.                        25103   \n",
       "2  TRANSF.DO IMP.DE RENDA AOS MUNIC.-REF.TRIBUT.                        25103   \n",
       "6                            RECURSOS ORDINARIOS                        26104   \n",
       "\n",
       "                        Unidade Orçamentária  Código Função         Função  \\\n",
       "0  SEC ESPECIAL DA RECEITA FEDERAL DO BRASIL              4  Administração   \n",
       "2  SEC ESPECIAL DA RECEITA FEDERAL DO BRASIL              4  Administração   \n",
       "6   INSTITUTO NACIONAL DE EDUCACAO DE SURDOS             12       Educação   \n",
       "\n",
       "   Código SubFunção                             SubFunção  Código Programa  \\\n",
       "0               122                   Administração geral               32   \n",
       "2               122                   Administração geral               32   \n",
       "6               331  Proteção e benefícios ao trabalhador               32   \n",
       "\n",
       "                                            Programa Código Ação  \\\n",
       "0  PROGRAMA DE GESTAO E MANUTENCAO DO PODER EXECU...        2000   \n",
       "2  PROGRAMA DE GESTAO E MANUTENCAO DO PODER EXECU...        2000   \n",
       "6  PROGRAMA DE GESTAO E MANUTENCAO DO PODER EXECU...        212B   \n",
       "\n",
       "                                                Ação  \\\n",
       "0                           ADMINISTRACAO DA UNIDADE   \n",
       "2                           ADMINISTRACAO DA UNIDADE   \n",
       "6  BENEFICIOS OBRIGATORIOS AOS SERVIDORES CIVIS, ...   \n",
       "\n",
       "           Linguagem Cidadã Código Subtítulo (Localizador)  \\\n",
       "0  Administração de unidade                       20000001   \n",
       "2  Administração de unidade                       20000001   \n",
       "6                       NaN                       212B0033   \n",
       "\n",
       "                             Subtítulo (Localizador)  \\\n",
       "0          ADMINISTRACAO DA UNIDADE       - NACIONAL   \n",
       "2          ADMINISTRACAO DA UNIDADE       - NACIONAL   \n",
       "6  BENEFICIOS OBRIGATORIOS AOS SERVIDORE - NO EST...   \n",
       "\n",
       "   Código Plano Orçamentário                   Plano Orçamentário  \\\n",
       "0                          2       ADMINISTRACAO DA UNIDADE - RFB   \n",
       "2                          2       ADMINISTRACAO DA UNIDADE - RFB   \n",
       "6                          5  AUXILIO-ALIMENTACAO DE CIVIS ATIVOS   \n",
       "\n",
       "   Código Programa Governo Nome Programa Governo Autor Emenda  \\\n",
       "0                        0        Sem informação   SEM EMENDA   \n",
       "2                        0        Sem informação   SEM EMENDA   \n",
       "6                        0        Sem informação   SEM EMENDA   \n",
       "\n",
       "   Código Categoria de Despesa Categoria de Despesa  Código Grupo de Despesa  \\\n",
       "0                            3   DESPESAS CORRENTES                        3   \n",
       "2                            3   DESPESAS CORRENTES                        3   \n",
       "6                            3   DESPESAS CORRENTES                        3   \n",
       "\n",
       "            Grupo de Despesa  Código Modalidade de Aplicação  \\\n",
       "0  Outras Despesas Correntes                              90   \n",
       "2  Outras Despesas Correntes                              90   \n",
       "6  Outras Despesas Correntes                              90   \n",
       "\n",
       "  Modalidade de Aplicação  Código Elemento de Despesa  \\\n",
       "0      Aplicações Diretas                          39   \n",
       "2      Aplicações Diretas                          39   \n",
       "6      Aplicações Diretas                           4   \n",
       "\n",
       "                           Elemento de Despesa              Processo  \\\n",
       "0  Outros Serviços de Terceiros - Pessoa Juríd  11000.756909/2023-37   \n",
       "2  Outros Serviços de Terceiros - Pessoa Juríd  11050.721089/2018-18   \n",
       "6            Contratação por Tempo Determinado  23121.001375/2023-11   \n",
       "\n",
       "  Modalidade de Licitação Inciso             Amparo  \\\n",
       "0                  Pregão     SI  LEI 10.520 / 2002   \n",
       "2                  Pregão     SI  LEI 10.520 / 2002   \n",
       "6           Não se Aplica     SI     SEM INFORMACAO   \n",
       "\n",
       "   Referência de Dispensa ou Inexigibilidade  Código Convênio  \\\n",
       "0                                         -2               -1   \n",
       "2                                         -2               -1   \n",
       "6                                         -2               -1   \n",
       "\n",
       "  Contrato de Repasse / Termo de Parceria / Outros Valor Original do Empenho  \\\n",
       "0                                    NAO SE APLICA                     10,00   \n",
       "2                                    NAO SE APLICA                    872,43   \n",
       "6                                    NAO SE APLICA                 264000,00   \n",
       "\n",
       "  Valor do Empenho Convertido pra R$ Valor Utilizado na Conversão  \n",
       "0                              10,00                       1,0000  \n",
       "2                             872,43                       1,0000  \n",
       "6                          264000,00                       1,0000  "
      ]
     },
     "metadata": {},
     "output_type": "display_data"
    },
    {
     "data": {
      "text/markdown": [
       "## Liquidação"
      ],
      "text/plain": [
       "<IPython.core.display.Markdown object>"
      ]
     },
     "metadata": {},
     "output_type": "display_data"
    },
    {
     "name": "stdout",
     "output_type": "stream",
     "text": [
      "<class 'pandas.core.frame.DataFrame'>\n",
      "RangeIndex: 30 entries, 0 to 29\n",
      "Data columns (total 63 columns):\n",
      " #   Column                                            Non-Null Count  Dtype \n",
      "---  ------                                            --------------  ----- \n",
      " 0   Id Empenho                                        30 non-null     int64 \n",
      " 1   Código Empenho                                    30 non-null     object\n",
      " 2   Código Empenho Resumido                           30 non-null     object\n",
      " 3   Data Emissão                                      30 non-null     object\n",
      " 4   Código Tipo Documento                             30 non-null     object\n",
      " 5   Tipo Documento                                    30 non-null     object\n",
      " 6   Tipo Empenho                                      30 non-null     object\n",
      " 7   Espécie Empenho                                   30 non-null     object\n",
      " 8   Código Órgão Superior                             30 non-null     int64 \n",
      " 9   Órgão Superior                                    30 non-null     object\n",
      " 10  Código Órgão                                      30 non-null     int64 \n",
      " 11  Órgão                                             30 non-null     object\n",
      " 12  Código Unidade Gestora                            30 non-null     int64 \n",
      " 13  Unidade Gestora                                   30 non-null     object\n",
      " 14  Código Gestão                                     30 non-null     int64 \n",
      " 15  Gestão                                            30 non-null     object\n",
      " 16  Código Favorecido                                 30 non-null     object\n",
      " 17  Favorecido                                        30 non-null     object\n",
      " 18  Observação                                        30 non-null     object\n",
      " 19  Código Esfera Orçamentária                        30 non-null     int64 \n",
      " 20  Esfera Orçamentária                               30 non-null     object\n",
      " 21  Código Tipo Crédito                               30 non-null     object\n",
      " 22  Tipo Crédito                                      30 non-null     object\n",
      " 23  Código Grupo Fonte Recurso                        30 non-null     int64 \n",
      " 24  Grupo Fonte Recurso                               30 non-null     object\n",
      " 25  Código Fonte Recurso                              30 non-null     int64 \n",
      " 26  Fonte Recurso                                     30 non-null     object\n",
      " 27  Código Unidade Orçamentária                       30 non-null     int64 \n",
      " 28  Unidade Orçamentária                              30 non-null     object\n",
      " 29  Código Função                                     30 non-null     int64 \n",
      " 30  Função                                            30 non-null     object\n",
      " 31  Código SubFunção                                  30 non-null     int64 \n",
      " 32  SubFunção                                         30 non-null     object\n",
      " 33  Código Programa                                   30 non-null     int64 \n",
      " 34  Programa                                          30 non-null     object\n",
      " 35  Código Ação                                       30 non-null     object\n",
      " 36  Ação                                              30 non-null     object\n",
      " 37  Linguagem Cidadã                                  12 non-null     object\n",
      " 38  Código Subtítulo (Localizador)                    30 non-null     object\n",
      " 39  Subtítulo (Localizador)                           30 non-null     object\n",
      " 40  Código Plano Orçamentário                         30 non-null     int64 \n",
      " 41  Plano Orçamentário                                30 non-null     object\n",
      " 42  Código Programa Governo                           30 non-null     int64 \n",
      " 43  Nome Programa Governo                             30 non-null     object\n",
      " 44  Autor Emenda                                      30 non-null     object\n",
      " 45  Código Categoria de Despesa                       30 non-null     int64 \n",
      " 46  Categoria de Despesa                              30 non-null     object\n",
      " 47  Código Grupo de Despesa                           30 non-null     int64 \n",
      " 48  Grupo de Despesa                                  30 non-null     object\n",
      " 49  Código Modalidade de Aplicação                    30 non-null     int64 \n",
      " 50  Modalidade de Aplicação                           30 non-null     object\n",
      " 51  Código Elemento de Despesa                        30 non-null     int64 \n",
      " 52  Elemento de Despesa                               30 non-null     object\n",
      " 53  Processo                                          30 non-null     object\n",
      " 54  Modalidade de Licitação                           30 non-null     object\n",
      " 55  Inciso                                            30 non-null     object\n",
      " 56  Amparo                                            30 non-null     object\n",
      " 57  Referência de Dispensa ou Inexigibilidade         30 non-null     int64 \n",
      " 58  Código Convênio                                   30 non-null     int64 \n",
      " 59  Contrato de Repasse / Termo de Parceria / Outros  30 non-null     object\n",
      " 60  Valor Original do Empenho                         30 non-null     object\n",
      " 61  Valor do Empenho Convertido pra R$                30 non-null     object\n",
      " 62  Valor Utilizado na Conversão                      30 non-null     object\n",
      "dtypes: int64(20), object(43)\n",
      "memory usage: 14.9+ KB\n"
     ]
    },
    {
     "data": {
      "text/plain": [
       "None"
      ]
     },
     "metadata": {},
     "output_type": "display_data"
    },
    {
     "data": {
      "text/html": [
       "<div>\n",
       "<style scoped>\n",
       "    .dataframe tbody tr th:only-of-type {\n",
       "        vertical-align: middle;\n",
       "    }\n",
       "\n",
       "    .dataframe tbody tr th {\n",
       "        vertical-align: top;\n",
       "    }\n",
       "\n",
       "    .dataframe thead th {\n",
       "        text-align: right;\n",
       "    }\n",
       "</style>\n",
       "<table border=\"1\" class=\"dataframe\">\n",
       "  <thead>\n",
       "    <tr style=\"text-align: right;\">\n",
       "      <th></th>\n",
       "      <th>Id Empenho</th>\n",
       "      <th>Código Empenho</th>\n",
       "      <th>Código Empenho Resumido</th>\n",
       "      <th>Data Emissão</th>\n",
       "      <th>Código Tipo Documento</th>\n",
       "      <th>Tipo Documento</th>\n",
       "      <th>Tipo Empenho</th>\n",
       "      <th>Espécie Empenho</th>\n",
       "      <th>Código Órgão Superior</th>\n",
       "      <th>Órgão Superior</th>\n",
       "      <th>Código Órgão</th>\n",
       "      <th>Órgão</th>\n",
       "      <th>Código Unidade Gestora</th>\n",
       "      <th>Unidade Gestora</th>\n",
       "      <th>Código Gestão</th>\n",
       "      <th>Gestão</th>\n",
       "      <th>Código Favorecido</th>\n",
       "      <th>Favorecido</th>\n",
       "      <th>Observação</th>\n",
       "      <th>Código Esfera Orçamentária</th>\n",
       "      <th>Esfera Orçamentária</th>\n",
       "      <th>Código Tipo Crédito</th>\n",
       "      <th>Tipo Crédito</th>\n",
       "      <th>Código Grupo Fonte Recurso</th>\n",
       "      <th>Grupo Fonte Recurso</th>\n",
       "      <th>Código Fonte Recurso</th>\n",
       "      <th>Fonte Recurso</th>\n",
       "      <th>Código Unidade Orçamentária</th>\n",
       "      <th>Unidade Orçamentária</th>\n",
       "      <th>Código Função</th>\n",
       "      <th>Função</th>\n",
       "      <th>Código SubFunção</th>\n",
       "      <th>SubFunção</th>\n",
       "      <th>Código Programa</th>\n",
       "      <th>Programa</th>\n",
       "      <th>Código Ação</th>\n",
       "      <th>Ação</th>\n",
       "      <th>Linguagem Cidadã</th>\n",
       "      <th>Código Subtítulo (Localizador)</th>\n",
       "      <th>Subtítulo (Localizador)</th>\n",
       "      <th>Código Plano Orçamentário</th>\n",
       "      <th>Plano Orçamentário</th>\n",
       "      <th>Código Programa Governo</th>\n",
       "      <th>Nome Programa Governo</th>\n",
       "      <th>Autor Emenda</th>\n",
       "      <th>Código Categoria de Despesa</th>\n",
       "      <th>Categoria de Despesa</th>\n",
       "      <th>Código Grupo de Despesa</th>\n",
       "      <th>Grupo de Despesa</th>\n",
       "      <th>Código Modalidade de Aplicação</th>\n",
       "      <th>Modalidade de Aplicação</th>\n",
       "      <th>Código Elemento de Despesa</th>\n",
       "      <th>Elemento de Despesa</th>\n",
       "      <th>Processo</th>\n",
       "      <th>Modalidade de Licitação</th>\n",
       "      <th>Inciso</th>\n",
       "      <th>Amparo</th>\n",
       "      <th>Referência de Dispensa ou Inexigibilidade</th>\n",
       "      <th>Código Convênio</th>\n",
       "      <th>Contrato de Repasse / Termo de Parceria / Outros</th>\n",
       "      <th>Valor Original do Empenho</th>\n",
       "      <th>Valor do Empenho Convertido pra R$</th>\n",
       "      <th>Valor Utilizado na Conversão</th>\n",
       "    </tr>\n",
       "  </thead>\n",
       "  <tbody>\n",
       "    <tr>\n",
       "      <th>7</th>\n",
       "      <td>562167195</td>\n",
       "      <td>152005000012024NE000010</td>\n",
       "      <td>2024NE000010</td>\n",
       "      <td>01/01/2024</td>\n",
       "      <td>NE</td>\n",
       "      <td>Nota de Empenho</td>\n",
       "      <td>Estimativo</td>\n",
       "      <td>Não se aplica</td>\n",
       "      <td>26000</td>\n",
       "      <td>Ministério da Educação</td>\n",
       "      <td>26000</td>\n",
       "      <td>Ministério da Educação - Unidades com vín</td>\n",
       "      <td>152005</td>\n",
       "      <td>INSTITUTO NACIONAL DE EDUCACAO DE SURDOS-RJ</td>\n",
       "      <td>1</td>\n",
       "      <td>TESOURO NACIONAL</td>\n",
       "      <td>152005</td>\n",
       "      <td>INSTITUTO NACIONAL DE EDUCACAO DE SURDOS-RJ</td>\n",
       "      <td>ATENDER DESPESA COM AUXILIO ALIMENTAC]AO DE SE...</td>\n",
       "      <td>1</td>\n",
       "      <td>Orçamento Fiscal</td>\n",
       "      <td>A</td>\n",
       "      <td>INICIAL (LOA)</td>\n",
       "      <td>1</td>\n",
       "      <td>Recursos Do Tesouro - Exercicio Corrente</td>\n",
       "      <td>0</td>\n",
       "      <td>RECURSOS ORDINARIOS</td>\n",
       "      <td>26104</td>\n",
       "      <td>INSTITUTO NACIONAL DE EDUCACAO DE SURDOS</td>\n",
       "      <td>12</td>\n",
       "      <td>Educação</td>\n",
       "      <td>331</td>\n",
       "      <td>Proteção e benefícios ao trabalhador</td>\n",
       "      <td>32</td>\n",
       "      <td>PROGRAMA DE GESTAO E MANUTENCAO DO PODER EXECU...</td>\n",
       "      <td>212B</td>\n",
       "      <td>BENEFICIOS OBRIGATORIOS AOS SERVIDORES CIVIS, ...</td>\n",
       "      <td>NaN</td>\n",
       "      <td>212B0033</td>\n",
       "      <td>BENEFICIOS OBRIGATORIOS AOS SERVIDORE - NO EST...</td>\n",
       "      <td>5</td>\n",
       "      <td>AUXILIO-ALIMENTACAO DE CIVIS ATIVOS</td>\n",
       "      <td>0</td>\n",
       "      <td>Sem informação</td>\n",
       "      <td>SEM EMENDA</td>\n",
       "      <td>3</td>\n",
       "      <td>DESPESAS CORRENTES</td>\n",
       "      <td>3</td>\n",
       "      <td>Outras Despesas Correntes</td>\n",
       "      <td>90</td>\n",
       "      <td>Aplicações Diretas</td>\n",
       "      <td>46</td>\n",
       "      <td>Auxílio-Alimentação</td>\n",
       "      <td>23121.001375/2023-11</td>\n",
       "      <td>Não se Aplica</td>\n",
       "      <td>SI</td>\n",
       "      <td>SEM INFORMACAO</td>\n",
       "      <td>-2</td>\n",
       "      <td>-1</td>\n",
       "      <td>NAO SE APLICA</td>\n",
       "      <td>2940000,00</td>\n",
       "      <td>2940000,00</td>\n",
       "      <td>1,0000</td>\n",
       "    </tr>\n",
       "    <tr>\n",
       "      <th>1</th>\n",
       "      <td>562175365</td>\n",
       "      <td>170177000012024NE000086</td>\n",
       "      <td>2024NE000086</td>\n",
       "      <td>01/01/2024</td>\n",
       "      <td>NE</td>\n",
       "      <td>Nota de Empenho</td>\n",
       "      <td>Estimativo</td>\n",
       "      <td>Não se aplica</td>\n",
       "      <td>25000</td>\n",
       "      <td>Ministério da Fazenda</td>\n",
       "      <td>25000</td>\n",
       "      <td>Ministério da Fazenda - Unidades com víncul</td>\n",
       "      <td>170177</td>\n",
       "      <td>SUPERINTENDENCIA REGIONAL DA RFB NA 10A RF</td>\n",
       "      <td>1</td>\n",
       "      <td>TESOURO NACIONAL</td>\n",
       "      <td>28896128000102</td>\n",
       "      <td>GTC COMERCIO DE ARMAS LTDA.</td>\n",
       "      <td>LOCACAO EVENTUAL E TEMPORARIA DE ESTANDE DE TI...</td>\n",
       "      <td>1</td>\n",
       "      <td>Orçamento Fiscal</td>\n",
       "      <td>A</td>\n",
       "      <td>INICIAL (LOA)</td>\n",
       "      <td>1</td>\n",
       "      <td>Recursos Do Tesouro - Exercicio Corrente</td>\n",
       "      <td>3</td>\n",
       "      <td>TRANSF.DO IMP.DE RENDA AOS MUNIC.-REF.TRIBUT.</td>\n",
       "      <td>25103</td>\n",
       "      <td>SEC ESPECIAL DA RECEITA FEDERAL DO BRASIL</td>\n",
       "      <td>4</td>\n",
       "      <td>Administração</td>\n",
       "      <td>122</td>\n",
       "      <td>Administração geral</td>\n",
       "      <td>32</td>\n",
       "      <td>PROGRAMA DE GESTAO E MANUTENCAO DO PODER EXECU...</td>\n",
       "      <td>2000</td>\n",
       "      <td>ADMINISTRACAO DA UNIDADE</td>\n",
       "      <td>Administração de unidade</td>\n",
       "      <td>20000001</td>\n",
       "      <td>ADMINISTRACAO DA UNIDADE       - NACIONAL</td>\n",
       "      <td>2</td>\n",
       "      <td>ADMINISTRACAO DA UNIDADE - RFB</td>\n",
       "      <td>0</td>\n",
       "      <td>Sem informação</td>\n",
       "      <td>SEM EMENDA</td>\n",
       "      <td>3</td>\n",
       "      <td>DESPESAS CORRENTES</td>\n",
       "      <td>3</td>\n",
       "      <td>Outras Despesas Correntes</td>\n",
       "      <td>90</td>\n",
       "      <td>Aplicações Diretas</td>\n",
       "      <td>39</td>\n",
       "      <td>Outros Serviços de Terceiros - Pessoa Juríd</td>\n",
       "      <td>11000.746748/2023-73</td>\n",
       "      <td>Dispensa de Licitação</td>\n",
       "      <td>II</td>\n",
       "      <td>LEI 14.133 / 2021</td>\n",
       "      <td>-2</td>\n",
       "      <td>-1</td>\n",
       "      <td>NAO SE APLICA</td>\n",
       "      <td>10,00</td>\n",
       "      <td>10,00</td>\n",
       "      <td>1,0000</td>\n",
       "    </tr>\n",
       "    <tr>\n",
       "      <th>27</th>\n",
       "      <td>562217244</td>\n",
       "      <td>114702114012024NE400013</td>\n",
       "      <td>2024NE400013</td>\n",
       "      <td>01/01/2024</td>\n",
       "      <td>NE</td>\n",
       "      <td>Nota de Empenho</td>\n",
       "      <td>Global</td>\n",
       "      <td>Não se aplica</td>\n",
       "      <td>46000</td>\n",
       "      <td>Ministério da Gestão e da Inovação em Ser</td>\n",
       "      <td>20202</td>\n",
       "      <td>Fundação Escola Nacional de Administração</td>\n",
       "      <td>114702</td>\n",
       "      <td>FUNDACAO ESCOLA NACIONAL DE ADM. PUBLICA</td>\n",
       "      <td>11401</td>\n",
       "      <td>FUNDACAO ESCOLA NACIONAL DE ADM. PUBLICA</td>\n",
       "      <td>***.882.141-**</td>\n",
       "      <td>CAMILA MENDES MAIA</td>\n",
       "      <td>SERVICO PARA FACILITACAO DE OFICINAS, FACILITA...</td>\n",
       "      <td>1</td>\n",
       "      <td>Orçamento Fiscal</td>\n",
       "      <td>A</td>\n",
       "      <td>INICIAL (LOA)</td>\n",
       "      <td>1</td>\n",
       "      <td>Recursos Do Tesouro - Exercicio Corrente</td>\n",
       "      <td>0</td>\n",
       "      <td>RECURSOS ORDINARIOS</td>\n",
       "      <td>46201</td>\n",
       "      <td>FUNDACAO ESCOLA NACIONAL DE ADM.PUBLICA-ENAP</td>\n",
       "      <td>4</td>\n",
       "      <td>Administração</td>\n",
       "      <td>573</td>\n",
       "      <td>Difusão do conhecimento científico e tecnológico</td>\n",
       "      <td>32</td>\n",
       "      <td>PROGRAMA DE GESTAO E MANUTENCAO DO PODER EXECU...</td>\n",
       "      <td>20U9</td>\n",
       "      <td>DESENVOLVIMENTO DE COMPETENCIAS DE AGENTES PUB...</td>\n",
       "      <td>NaN</td>\n",
       "      <td>20U90001</td>\n",
       "      <td>DESENVOLVIMENTO DE COMPETENCIAS DE AG - NACIONAL</td>\n",
       "      <td>4</td>\n",
       "      <td>CODIGO INEXISTENTE NO SIAFI</td>\n",
       "      <td>0</td>\n",
       "      <td>Sem informação</td>\n",
       "      <td>SEM EMENDA</td>\n",
       "      <td>3</td>\n",
       "      <td>DESPESAS CORRENTES</td>\n",
       "      <td>3</td>\n",
       "      <td>Outras Despesas Correntes</td>\n",
       "      <td>90</td>\n",
       "      <td>Aplicações Diretas</td>\n",
       "      <td>36</td>\n",
       "      <td>Outros Serviços de Terceiros - Pessoa Físic</td>\n",
       "      <td>04600.004056/2023-20</td>\n",
       "      <td>Inexigível</td>\n",
       "      <td>III</td>\n",
       "      <td>LEI 14.133/2021</td>\n",
       "      <td>-2</td>\n",
       "      <td>-1</td>\n",
       "      <td>NAO SE APLICA</td>\n",
       "      <td>76720,80</td>\n",
       "      <td>76720,80</td>\n",
       "      <td>1,0000</td>\n",
       "    </tr>\n",
       "  </tbody>\n",
       "</table>\n",
       "</div>"
      ],
      "text/plain": [
       "    Id Empenho           Código Empenho Código Empenho Resumido Data Emissão  \\\n",
       "7    562167195  152005000012024NE000010            2024NE000010   01/01/2024   \n",
       "1    562175365  170177000012024NE000086            2024NE000086   01/01/2024   \n",
       "27   562217244  114702114012024NE400013            2024NE400013   01/01/2024   \n",
       "\n",
       "   Código Tipo Documento   Tipo Documento Tipo Empenho Espécie Empenho  \\\n",
       "7                     NE  Nota de Empenho   Estimativo   Não se aplica   \n",
       "1                     NE  Nota de Empenho   Estimativo   Não se aplica   \n",
       "27                    NE  Nota de Empenho       Global   Não se aplica   \n",
       "\n",
       "    Código Órgão Superior                             Órgão Superior  \\\n",
       "7                   26000                     Ministério da Educação   \n",
       "1                   25000                      Ministério da Fazenda   \n",
       "27                  46000  Ministério da Gestão e da Inovação em Ser   \n",
       "\n",
       "    Código Órgão                                        Órgão  \\\n",
       "7          26000    Ministério da Educação - Unidades com vín   \n",
       "1          25000  Ministério da Fazenda - Unidades com víncul   \n",
       "27         20202    Fundação Escola Nacional de Administração   \n",
       "\n",
       "    Código Unidade Gestora                              Unidade Gestora  \\\n",
       "7                   152005  INSTITUTO NACIONAL DE EDUCACAO DE SURDOS-RJ   \n",
       "1                   170177   SUPERINTENDENCIA REGIONAL DA RFB NA 10A RF   \n",
       "27                  114702     FUNDACAO ESCOLA NACIONAL DE ADM. PUBLICA   \n",
       "\n",
       "    Código Gestão                                    Gestão Código Favorecido  \\\n",
       "7               1                          TESOURO NACIONAL            152005   \n",
       "1               1                          TESOURO NACIONAL    28896128000102   \n",
       "27          11401  FUNDACAO ESCOLA NACIONAL DE ADM. PUBLICA    ***.882.141-**   \n",
       "\n",
       "                                     Favorecido  \\\n",
       "7   INSTITUTO NACIONAL DE EDUCACAO DE SURDOS-RJ   \n",
       "1                   GTC COMERCIO DE ARMAS LTDA.   \n",
       "27                           CAMILA MENDES MAIA   \n",
       "\n",
       "                                           Observação  \\\n",
       "7   ATENDER DESPESA COM AUXILIO ALIMENTAC]AO DE SE...   \n",
       "1   LOCACAO EVENTUAL E TEMPORARIA DE ESTANDE DE TI...   \n",
       "27  SERVICO PARA FACILITACAO DE OFICINAS, FACILITA...   \n",
       "\n",
       "    Código Esfera Orçamentária Esfera Orçamentária Código Tipo Crédito  \\\n",
       "7                            1    Orçamento Fiscal                   A   \n",
       "1                            1    Orçamento Fiscal                   A   \n",
       "27                           1    Orçamento Fiscal                   A   \n",
       "\n",
       "     Tipo Crédito  Código Grupo Fonte Recurso  \\\n",
       "7   INICIAL (LOA)                           1   \n",
       "1   INICIAL (LOA)                           1   \n",
       "27  INICIAL (LOA)                           1   \n",
       "\n",
       "                         Grupo Fonte Recurso  Código Fonte Recurso  \\\n",
       "7   Recursos Do Tesouro - Exercicio Corrente                     0   \n",
       "1   Recursos Do Tesouro - Exercicio Corrente                     3   \n",
       "27  Recursos Do Tesouro - Exercicio Corrente                     0   \n",
       "\n",
       "                                    Fonte Recurso  \\\n",
       "7                             RECURSOS ORDINARIOS   \n",
       "1   TRANSF.DO IMP.DE RENDA AOS MUNIC.-REF.TRIBUT.   \n",
       "27                            RECURSOS ORDINARIOS   \n",
       "\n",
       "    Código Unidade Orçamentária                          Unidade Orçamentária  \\\n",
       "7                         26104      INSTITUTO NACIONAL DE EDUCACAO DE SURDOS   \n",
       "1                         25103     SEC ESPECIAL DA RECEITA FEDERAL DO BRASIL   \n",
       "27                        46201  FUNDACAO ESCOLA NACIONAL DE ADM.PUBLICA-ENAP   \n",
       "\n",
       "    Código Função         Função  Código SubFunção  \\\n",
       "7              12       Educação               331   \n",
       "1               4  Administração               122   \n",
       "27              4  Administração               573   \n",
       "\n",
       "                                           SubFunção  Código Programa  \\\n",
       "7               Proteção e benefícios ao trabalhador               32   \n",
       "1                                Administração geral               32   \n",
       "27  Difusão do conhecimento científico e tecnológico               32   \n",
       "\n",
       "                                             Programa Código Ação  \\\n",
       "7   PROGRAMA DE GESTAO E MANUTENCAO DO PODER EXECU...        212B   \n",
       "1   PROGRAMA DE GESTAO E MANUTENCAO DO PODER EXECU...        2000   \n",
       "27  PROGRAMA DE GESTAO E MANUTENCAO DO PODER EXECU...        20U9   \n",
       "\n",
       "                                                 Ação  \\\n",
       "7   BENEFICIOS OBRIGATORIOS AOS SERVIDORES CIVIS, ...   \n",
       "1                            ADMINISTRACAO DA UNIDADE   \n",
       "27  DESENVOLVIMENTO DE COMPETENCIAS DE AGENTES PUB...   \n",
       "\n",
       "            Linguagem Cidadã Código Subtítulo (Localizador)  \\\n",
       "7                        NaN                       212B0033   \n",
       "1   Administração de unidade                       20000001   \n",
       "27                       NaN                       20U90001   \n",
       "\n",
       "                              Subtítulo (Localizador)  \\\n",
       "7   BENEFICIOS OBRIGATORIOS AOS SERVIDORE - NO EST...   \n",
       "1           ADMINISTRACAO DA UNIDADE       - NACIONAL   \n",
       "27   DESENVOLVIMENTO DE COMPETENCIAS DE AG - NACIONAL   \n",
       "\n",
       "    Código Plano Orçamentário                   Plano Orçamentário  \\\n",
       "7                           5  AUXILIO-ALIMENTACAO DE CIVIS ATIVOS   \n",
       "1                           2       ADMINISTRACAO DA UNIDADE - RFB   \n",
       "27                          4          CODIGO INEXISTENTE NO SIAFI   \n",
       "\n",
       "    Código Programa Governo Nome Programa Governo Autor Emenda  \\\n",
       "7                         0        Sem informação   SEM EMENDA   \n",
       "1                         0        Sem informação   SEM EMENDA   \n",
       "27                        0        Sem informação   SEM EMENDA   \n",
       "\n",
       "    Código Categoria de Despesa Categoria de Despesa  Código Grupo de Despesa  \\\n",
       "7                             3   DESPESAS CORRENTES                        3   \n",
       "1                             3   DESPESAS CORRENTES                        3   \n",
       "27                            3   DESPESAS CORRENTES                        3   \n",
       "\n",
       "             Grupo de Despesa  Código Modalidade de Aplicação  \\\n",
       "7   Outras Despesas Correntes                              90   \n",
       "1   Outras Despesas Correntes                              90   \n",
       "27  Outras Despesas Correntes                              90   \n",
       "\n",
       "   Modalidade de Aplicação  Código Elemento de Despesa  \\\n",
       "7       Aplicações Diretas                          46   \n",
       "1       Aplicações Diretas                          39   \n",
       "27      Aplicações Diretas                          36   \n",
       "\n",
       "                            Elemento de Despesa              Processo  \\\n",
       "7                           Auxílio-Alimentação  23121.001375/2023-11   \n",
       "1   Outros Serviços de Terceiros - Pessoa Juríd  11000.746748/2023-73   \n",
       "27  Outros Serviços de Terceiros - Pessoa Físic  04600.004056/2023-20   \n",
       "\n",
       "   Modalidade de Licitação Inciso             Amparo  \\\n",
       "7            Não se Aplica     SI     SEM INFORMACAO   \n",
       "1    Dispensa de Licitação     II  LEI 14.133 / 2021   \n",
       "27              Inexigível    III    LEI 14.133/2021   \n",
       "\n",
       "    Referência de Dispensa ou Inexigibilidade  Código Convênio  \\\n",
       "7                                          -2               -1   \n",
       "1                                          -2               -1   \n",
       "27                                         -2               -1   \n",
       "\n",
       "   Contrato de Repasse / Termo de Parceria / Outros Valor Original do Empenho  \\\n",
       "7                                     NAO SE APLICA                2940000,00   \n",
       "1                                     NAO SE APLICA                     10,00   \n",
       "27                                    NAO SE APLICA                  76720,80   \n",
       "\n",
       "   Valor do Empenho Convertido pra R$ Valor Utilizado na Conversão  \n",
       "7                          2940000,00                       1,0000  \n",
       "1                               10,00                       1,0000  \n",
       "27                           76720,80                       1,0000  "
      ]
     },
     "metadata": {},
     "output_type": "display_data"
    }
   ],
   "source": [
    "display(Markdown(\"# Datasets de Despesas\"))\n",
    "\n",
    "display(Markdown(\"## Empenho\"))\n",
    "display (df_empenho.info())\n",
    "display (df_empenho.sample(3))\n",
    "\n",
    "display(Markdown(\"## Pagamento\"))\n",
    "display (df_pagamento.info())\n",
    "display (df_pagamento.sample(3))\n",
    "\n",
    "display(Markdown(\"## Liquidação\"))\n",
    "display (df_liquidacao.info())\n",
    "display (df_liquidacao.sample(3))\n"
   ]
  },
  {
   "cell_type": "markdown",
   "id": "b240bd6e-fb7d-4b43-ad9a-1ae894ea4e68",
   "metadata": {},
   "source": [
    "# Análise das colunas dos Datasets\n",
    "\n",
    "Podemos perceber que existem diversas colunas em comum.\n",
    "\n",
    "Para facilitar nossa análise vamos mostrar as colunas em comum e depois apenas as colunas específicas de cada dataset."
   ]
  },
  {
   "cell_type": "code",
   "execution_count": 6,
   "id": "ec3f2e18-14c8-45a2-81e8-569fc3a0f2b2",
   "metadata": {},
   "outputs": [],
   "source": [
    "def listar_colunas_comuns(lista_dataframes):\n",
    "    # Obter as colunas do primeiro DataFrame\n",
    "    colunas_comuns = set(lista_dataframes[0].columns)\n",
    "    \n",
    "    # Iterar sobre os demais DataFrames e fazer interseção de colunas\n",
    "    for df in lista_dataframes[1:]:\n",
    "        colunas_comuns &= set(df.columns)\n",
    "    \n",
    "    return (list(colunas_comuns))\n",
    "\n",
    "colunas_comuns = listar_colunas_comuns([df_empenho, df_pagamento, df_liquidacao])"
   ]
  },
  {
   "cell_type": "code",
   "execution_count": 7,
   "id": "98a0b6d3-8069-4be2-93b0-ae63861a0aab",
   "metadata": {},
   "outputs": [
    {
     "data": {
      "text/markdown": [
       "## Colunas em comum entre Empenho, Pagamento e Liquidação"
      ],
      "text/plain": [
       "<IPython.core.display.Markdown object>"
      ]
     },
     "metadata": {},
     "output_type": "display_data"
    },
    {
     "data": {
      "text/plain": [
       "['Código Gestão',\n",
       " 'Tipo Documento',\n",
       " 'Favorecido',\n",
       " 'Nome Programa Governo',\n",
       " 'Órgão',\n",
       " 'Gestão',\n",
       " 'Data Emissão',\n",
       " 'Código Categoria de Despesa',\n",
       " 'Modalidade de Aplicação',\n",
       " 'Órgão Superior',\n",
       " 'Código Modalidade de Aplicação',\n",
       " 'Código Órgão',\n",
       " 'Unidade Gestora',\n",
       " 'Categoria de Despesa',\n",
       " 'Código Elemento de Despesa',\n",
       " 'Código Tipo Documento',\n",
       " 'Código Unidade Gestora',\n",
       " 'Código Plano Orçamentário',\n",
       " 'Grupo de Despesa',\n",
       " 'Código Órgão Superior',\n",
       " 'Código Grupo de Despesa',\n",
       " 'Código Favorecido',\n",
       " 'Elemento de Despesa',\n",
       " 'Código Programa Governo',\n",
       " 'Plano Orçamentário',\n",
       " 'Observação']"
      ]
     },
     "metadata": {},
     "output_type": "display_data"
    }
   ],
   "source": [
    "display(Markdown(\"## Colunas em comum entre Empenho, Pagamento e Liquidação\"))\n",
    "display(colunas_comuns)"
   ]
  },
  {
   "cell_type": "markdown",
   "id": "ab41ced5-fff6-445f-b420-9d16472efc9c",
   "metadata": {},
   "source": [
    "# EXPLICITAR ANÁLISE --------------\n",
    "Encontramos três(???) classes de colunas:\n",
    "\n",
    "* Quanto a onde a despesa foi gerada:\n",
    "    * 'Código Órgão Superior', 'Código Plano Orçamentário'\n",
    " 'Código Favorecido\r\n",
    " 'Gestã\n",
    "* Sobre detalhes da despesa:\n",
    "*  'Código Elemento de Despesa',  'Elemento de Despesa'\n",
    " 'Categoria de Despesa 'Observação', ',ão',"
   ]
  },
  {
   "cell_type": "code",
   "execution_count": 8,
   "id": "e2e76399-142c-431d-8671-865f97b4bd74",
   "metadata": {},
   "outputs": [],
   "source": [
    "def listar_colunas_nao_comuns(lista_dataframes, lista_colunas):\n",
    "    # Inicializar um conjunto vazio para as colunas não comuns\n",
    "    colunas_nao_comuns = set()\n",
    "    \n",
    "    # Iterar sobre os DataFrames\n",
    "    for df in lista_dataframes:\n",
    "        # Verificar colunas que estão no DataFrame, mas não na lista de colunas\n",
    "        colunas_nao_comuns.update(set(df.columns) - set(lista_colunas))\n",
    "    \n",
    "    return list(colunas_nao_comuns)\n",
    "\n",
    "\n"
   ]
  },
  {
   "cell_type": "code",
   "execution_count": 9,
   "id": "c7a2eed5-8629-4473-b62d-fb5ce6fb5b25",
   "metadata": {},
   "outputs": [
    {
     "data": {
      "text/markdown": [
       "## Colunas específicas do dataset Empenho"
      ],
      "text/plain": [
       "<IPython.core.display.Markdown object>"
      ]
     },
     "metadata": {},
     "output_type": "display_data"
    },
    {
     "data": {
      "text/plain": [
       "['Fonte Recurso',\n",
       " 'Programa',\n",
       " 'Código Fonte Recurso',\n",
       " 'Linguagem Cidadã',\n",
       " 'Código Convênio',\n",
       " 'Código SubFunção',\n",
       " 'Valor Original do Empenho',\n",
       " 'Código Unidade Orçamentária',\n",
       " 'Código Ação',\n",
       " 'Modalidade de Licitação',\n",
       " 'Espécie Empenho',\n",
       " 'Unidade Orçamentária',\n",
       " 'Código Grupo Fonte Recurso',\n",
       " 'Valor Utilizado na Conversão',\n",
       " 'Tipo Empenho',\n",
       " 'Autor Emenda',\n",
       " 'Função',\n",
       " 'Subtítulo (Localizador)',\n",
       " 'Código Esfera Orçamentária',\n",
       " 'SubFunção',\n",
       " 'Id Empenho',\n",
       " 'Processo',\n",
       " 'Esfera Orçamentária',\n",
       " 'Grupo Fonte Recurso',\n",
       " 'Valor do Empenho Convertido pra R$',\n",
       " 'Código Tipo Crédito',\n",
       " 'Código Programa',\n",
       " 'Código Função',\n",
       " 'Ação',\n",
       " 'Inciso',\n",
       " 'Código Subtítulo (Localizador)',\n",
       " 'Código Empenho Resumido',\n",
       " 'Referência de Dispensa ou Inexigibilidade',\n",
       " 'Amparo',\n",
       " 'Contrato de Repasse / Termo de Parceria / Outros',\n",
       " 'Tipo Crédito',\n",
       " 'Código Empenho']"
      ]
     },
     "metadata": {},
     "output_type": "display_data"
    },
    {
     "data": {
      "text/markdown": [
       "## Colunas específicas do dataset Liquidação"
      ],
      "text/plain": [
       "<IPython.core.display.Markdown object>"
      ]
     },
     "metadata": {},
     "output_type": "display_data"
    },
    {
     "data": {
      "text/plain": [
       "['Código Liquidação', 'Código Liquidação Resumido']"
      ]
     },
     "metadata": {},
     "output_type": "display_data"
    },
    {
     "data": {
      "text/markdown": [
       "## Colunas específicas do dataset Pagamento"
      ],
      "text/plain": [
       "<IPython.core.display.Markdown object>"
      ]
     },
     "metadata": {},
     "output_type": "display_data"
    },
    {
     "data": {
      "text/plain": [
       "['Extraorçamentário',\n",
       " 'Código Pagamento Resumido',\n",
       " 'Processo',\n",
       " 'Tipo OB',\n",
       " 'Valor Utilizado na Conversão',\n",
       " 'Valor Original do Pagamento',\n",
       " 'Código Pagamento',\n",
       " 'Valor do Pagamento Convertido pra R$']"
      ]
     },
     "metadata": {},
     "output_type": "display_data"
    }
   ],
   "source": [
    "\n",
    "\n",
    "display(Markdown(\"## Colunas específicas do dataset Empenho\"))\n",
    "display(listar_colunas_nao_comuns ([df_empenho], colunas_comuns))\n",
    "\n",
    "display(Markdown(\"## Colunas específicas do dataset Liquidação\"))\n",
    "display(listar_colunas_nao_comuns ([df_liquidacao], colunas_comuns))\n",
    "\n",
    "display(Markdown(\"## Colunas específicas do dataset Pagamento\"))\n",
    "display(listar_colunas_nao_comuns ([df_pagamento], colunas_comuns))\n"
   ]
  },
  {
   "cell_type": "code",
   "execution_count": 10,
   "id": "eb66626b-cfa3-44ff-a4f3-a4ecee518ebb",
   "metadata": {},
   "outputs": [],
   "source": [
    "def gerar_totais_coluna(df, nome_coluna):\n",
    "\n",
    "    valores_distintos = df.value_counts(nome_coluna)\n",
    "    \n",
    "    display(Markdown(f\"## Valores para coluna: {nome_coluna}\"))\n",
    "    display(Markdown(f'Número de valores distintos: **{valores_distintos.nunique()}**'))\n",
    "    display(valores_distintos)\n",
    "\n",
    "\n",
    "def descrever_dados_df (df, nome_df, colunas):\n",
    "\n",
    "    display(Markdown(f\"# Análise de valores para a tabela: {nome_df}\"))\n",
    "    \n",
    "    for coluna in colunas:\n",
    "        gerar_totais_coluna (df, coluna)\n",
    "        "
   ]
  },
  {
   "cell_type": "code",
   "execution_count": 11,
   "id": "f8eacb18-f749-4aba-acaf-93d5cc7bf237",
   "metadata": {},
   "outputs": [
    {
     "data": {
      "text/markdown": [
       "# Análise de valores para a tabela: Empenho"
      ],
      "text/plain": [
       "<IPython.core.display.Markdown object>"
      ]
     },
     "metadata": {},
     "output_type": "display_data"
    },
    {
     "data": {
      "text/markdown": [
       "## Valores para coluna: Código Gestão"
      ],
      "text/plain": [
       "<IPython.core.display.Markdown object>"
      ]
     },
     "metadata": {},
     "output_type": "display_data"
    },
    {
     "data": {
      "text/markdown": [
       "Número de valores distintos: **4**"
      ],
      "text/plain": [
       "<IPython.core.display.Markdown object>"
      ]
     },
     "metadata": {},
     "output_type": "display_data"
    },
    {
     "data": {
      "text/plain": [
       "Código Gestão\n",
       "1        19\n",
       "26434     5\n",
       "         ..\n",
       "26413     1\n",
       "29208     1\n",
       "Name: count, Length: 7, dtype: int64"
      ]
     },
     "metadata": {},
     "output_type": "display_data"
    },
    {
     "data": {
      "text/markdown": [
       "## Valores para coluna: Tipo Documento"
      ],
      "text/plain": [
       "<IPython.core.display.Markdown object>"
      ]
     },
     "metadata": {},
     "output_type": "display_data"
    },
    {
     "data": {
      "text/markdown": [
       "Número de valores distintos: **1**"
      ],
      "text/plain": [
       "<IPython.core.display.Markdown object>"
      ]
     },
     "metadata": {},
     "output_type": "display_data"
    },
    {
     "data": {
      "text/plain": [
       "Tipo Documento\n",
       "Nota de Empenho    30\n",
       "Name: count, dtype: int64"
      ]
     },
     "metadata": {},
     "output_type": "display_data"
    },
    {
     "data": {
      "text/markdown": [
       "## Valores para coluna: Favorecido"
      ],
      "text/plain": [
       "<IPython.core.display.Markdown object>"
      ]
     },
     "metadata": {},
     "output_type": "display_data"
    },
    {
     "data": {
      "text/markdown": [
       "Número de valores distintos: **2**"
      ],
      "text/plain": [
       "<IPython.core.display.Markdown object>"
      ]
     },
     "metadata": {},
     "output_type": "display_data"
    },
    {
     "data": {
      "text/plain": [
       "Favorecido\n",
       "INSTITUTO NACIONAL DE EDUCACAO DE SURDOS-RJ    7\n",
       "33.944.296 PRISCILA DA SILVA FERREIRA          1\n",
       "                                              ..\n",
       "T & S LOCACAO DE MAO DE OBRA EM GERAL LTDA     1\n",
       "TICKET SOLUCOES HDFGT S/A                      1\n",
       "Name: count, Length: 24, dtype: int64"
      ]
     },
     "metadata": {},
     "output_type": "display_data"
    },
    {
     "data": {
      "text/markdown": [
       "## Valores para coluna: Nome Programa Governo"
      ],
      "text/plain": [
       "<IPython.core.display.Markdown object>"
      ]
     },
     "metadata": {},
     "output_type": "display_data"
    },
    {
     "data": {
      "text/markdown": [
       "Número de valores distintos: **1**"
      ],
      "text/plain": [
       "<IPython.core.display.Markdown object>"
      ]
     },
     "metadata": {},
     "output_type": "display_data"
    },
    {
     "data": {
      "text/plain": [
       "Nome Programa Governo\n",
       "Sem informação    30\n",
       "Name: count, dtype: int64"
      ]
     },
     "metadata": {},
     "output_type": "display_data"
    },
    {
     "data": {
      "text/markdown": [
       "## Valores para coluna: Órgão"
      ],
      "text/plain": [
       "<IPython.core.display.Markdown object>"
      ]
     },
     "metadata": {},
     "output_type": "display_data"
    },
    {
     "data": {
      "text/markdown": [
       "Número de valores distintos: **5**"
      ],
      "text/plain": [
       "<IPython.core.display.Markdown object>"
      ]
     },
     "metadata": {},
     "output_type": "display_data"
    },
    {
     "data": {
      "text/plain": [
       "Órgão\n",
       "Ministério da Educação - Unidades com vín    14\n",
       "Instituto Federal Fluminense                  5\n",
       "                                             ..\n",
       "Instituto Federal do Triângulo Mineiro        1\n",
       "Polícia Federal                               1\n",
       "Name: count, Length: 9, dtype: int64"
      ]
     },
     "metadata": {},
     "output_type": "display_data"
    },
    {
     "data": {
      "text/markdown": [
       "## Valores para coluna: Gestão"
      ],
      "text/plain": [
       "<IPython.core.display.Markdown object>"
      ]
     },
     "metadata": {},
     "output_type": "display_data"
    },
    {
     "data": {
      "text/markdown": [
       "Número de valores distintos: **4**"
      ],
      "text/plain": [
       "<IPython.core.display.Markdown object>"
      ]
     },
     "metadata": {},
     "output_type": "display_data"
    },
    {
     "data": {
      "text/plain": [
       "Gestão\n",
       "TESOURO NACIONAL                                 19\n",
       "INST.FED.DE EDUC.,CIENC.E TEC.FLUMINENSE          5\n",
       "                                                 ..\n",
       "INST.FED.DE EDUC.,CIENC.E TEC.DO TRIA.MINEIRO     1\n",
       "INST.FED.DE EDUC.,CIENC.E TEC.DO AMAZONAS         1\n",
       "Name: count, Length: 7, dtype: int64"
      ]
     },
     "metadata": {},
     "output_type": "display_data"
    },
    {
     "data": {
      "text/markdown": [
       "## Valores para coluna: Data Emissão"
      ],
      "text/plain": [
       "<IPython.core.display.Markdown object>"
      ]
     },
     "metadata": {},
     "output_type": "display_data"
    },
    {
     "data": {
      "text/markdown": [
       "Número de valores distintos: **1**"
      ],
      "text/plain": [
       "<IPython.core.display.Markdown object>"
      ]
     },
     "metadata": {},
     "output_type": "display_data"
    },
    {
     "data": {
      "text/plain": [
       "Data Emissão\n",
       "01/01/2024    30\n",
       "Name: count, dtype: int64"
      ]
     },
     "metadata": {},
     "output_type": "display_data"
    },
    {
     "data": {
      "text/markdown": [
       "## Valores para coluna: Código Categoria de Despesa"
      ],
      "text/plain": [
       "<IPython.core.display.Markdown object>"
      ]
     },
     "metadata": {},
     "output_type": "display_data"
    },
    {
     "data": {
      "text/markdown": [
       "Número de valores distintos: **1**"
      ],
      "text/plain": [
       "<IPython.core.display.Markdown object>"
      ]
     },
     "metadata": {},
     "output_type": "display_data"
    },
    {
     "data": {
      "text/plain": [
       "Código Categoria de Despesa\n",
       "3    30\n",
       "Name: count, dtype: int64"
      ]
     },
     "metadata": {},
     "output_type": "display_data"
    },
    {
     "data": {
      "text/markdown": [
       "## Valores para coluna: Modalidade de Aplicação"
      ],
      "text/plain": [
       "<IPython.core.display.Markdown object>"
      ]
     },
     "metadata": {},
     "output_type": "display_data"
    },
    {
     "data": {
      "text/markdown": [
       "Número de valores distintos: **2**"
      ],
      "text/plain": [
       "<IPython.core.display.Markdown object>"
      ]
     },
     "metadata": {},
     "output_type": "display_data"
    },
    {
     "data": {
      "text/plain": [
       "Modalidade de Aplicação\n",
       "Aplicações Diretas                                27\n",
       "Aplicação Direta Decorrente de Operação entre      3\n",
       "Name: count, dtype: int64"
      ]
     },
     "metadata": {},
     "output_type": "display_data"
    },
    {
     "data": {
      "text/markdown": [
       "## Valores para coluna: Órgão Superior"
      ],
      "text/plain": [
       "<IPython.core.display.Markdown object>"
      ]
     },
     "metadata": {},
     "output_type": "display_data"
    },
    {
     "data": {
      "text/markdown": [
       "Número de valores distintos: **4**"
      ],
      "text/plain": [
       "<IPython.core.display.Markdown object>"
      ]
     },
     "metadata": {},
     "output_type": "display_data"
    },
    {
     "data": {
      "text/plain": [
       "Órgão Superior\n",
       "Ministério da Educação                       22\n",
       "Ministério da Fazenda                         4\n",
       "Ministério da Gestão e da Inovação em Ser     2\n",
       "Ministério da Justiça e Segurança Pública     1\n",
       "Ministério de Minas e Energia                 1\n",
       "Name: count, dtype: int64"
      ]
     },
     "metadata": {},
     "output_type": "display_data"
    },
    {
     "data": {
      "text/markdown": [
       "## Valores para coluna: Código Modalidade de Aplicação"
      ],
      "text/plain": [
       "<IPython.core.display.Markdown object>"
      ]
     },
     "metadata": {},
     "output_type": "display_data"
    },
    {
     "data": {
      "text/markdown": [
       "Número de valores distintos: **2**"
      ],
      "text/plain": [
       "<IPython.core.display.Markdown object>"
      ]
     },
     "metadata": {},
     "output_type": "display_data"
    },
    {
     "data": {
      "text/plain": [
       "Código Modalidade de Aplicação\n",
       "90    27\n",
       "91     3\n",
       "Name: count, dtype: int64"
      ]
     },
     "metadata": {},
     "output_type": "display_data"
    },
    {
     "data": {
      "text/markdown": [
       "## Valores para coluna: Código Órgão"
      ],
      "text/plain": [
       "<IPython.core.display.Markdown object>"
      ]
     },
     "metadata": {},
     "output_type": "display_data"
    },
    {
     "data": {
      "text/markdown": [
       "Número de valores distintos: **5**"
      ],
      "text/plain": [
       "<IPython.core.display.Markdown object>"
      ]
     },
     "metadata": {},
     "output_type": "display_data"
    },
    {
     "data": {
      "text/plain": [
       "Código Órgão\n",
       "26000    14\n",
       "26434     5\n",
       "         ..\n",
       "29208     1\n",
       "30108     1\n",
       "Name: count, Length: 9, dtype: int64"
      ]
     },
     "metadata": {},
     "output_type": "display_data"
    },
    {
     "data": {
      "text/markdown": [
       "## Valores para coluna: Unidade Gestora"
      ],
      "text/plain": [
       "<IPython.core.display.Markdown object>"
      ]
     },
     "metadata": {},
     "output_type": "display_data"
    },
    {
     "data": {
      "text/markdown": [
       "Número de valores distintos: **5**"
      ],
      "text/plain": [
       "<IPython.core.display.Markdown object>"
      ]
     },
     "metadata": {},
     "output_type": "display_data"
    },
    {
     "data": {
      "text/plain": [
       "Unidade Gestora\n",
       "INSTITUTO NACIONAL DE EDUCACAO DE SURDOS-RJ    14\n",
       "INST.FED.DE EDUC.,CIENC.E TEC.FLUMINENSE        5\n",
       "                                               ..\n",
       "INST.FED.TRIANGULO MINEIRO/CAMPUS UBERABA       1\n",
       "SUPERINTENDENCIA REGIONAL NO ESTADO DE TO       1\n",
       "Name: count, Length: 9, dtype: int64"
      ]
     },
     "metadata": {},
     "output_type": "display_data"
    },
    {
     "data": {
      "text/markdown": [
       "## Valores para coluna: Categoria de Despesa"
      ],
      "text/plain": [
       "<IPython.core.display.Markdown object>"
      ]
     },
     "metadata": {},
     "output_type": "display_data"
    },
    {
     "data": {
      "text/markdown": [
       "Número de valores distintos: **1**"
      ],
      "text/plain": [
       "<IPython.core.display.Markdown object>"
      ]
     },
     "metadata": {},
     "output_type": "display_data"
    },
    {
     "data": {
      "text/plain": [
       "Categoria de Despesa\n",
       "DESPESAS CORRENTES    30\n",
       "Name: count, dtype: int64"
      ]
     },
     "metadata": {},
     "output_type": "display_data"
    },
    {
     "data": {
      "text/markdown": [
       "## Valores para coluna: Código Elemento de Despesa"
      ],
      "text/plain": [
       "<IPython.core.display.Markdown object>"
      ]
     },
     "metadata": {},
     "output_type": "display_data"
    },
    {
     "data": {
      "text/markdown": [
       "Número de valores distintos: **4**"
      ],
      "text/plain": [
       "<IPython.core.display.Markdown object>"
      ]
     },
     "metadata": {},
     "output_type": "display_data"
    },
    {
     "data": {
      "text/plain": [
       "Código Elemento de Despesa\n",
       "39    8\n",
       "92    3\n",
       "     ..\n",
       "49    1\n",
       "93    1\n",
       "Name: count, Length: 15, dtype: int64"
      ]
     },
     "metadata": {},
     "output_type": "display_data"
    },
    {
     "data": {
      "text/markdown": [
       "## Valores para coluna: Código Tipo Documento"
      ],
      "text/plain": [
       "<IPython.core.display.Markdown object>"
      ]
     },
     "metadata": {},
     "output_type": "display_data"
    },
    {
     "data": {
      "text/markdown": [
       "Número de valores distintos: **1**"
      ],
      "text/plain": [
       "<IPython.core.display.Markdown object>"
      ]
     },
     "metadata": {},
     "output_type": "display_data"
    },
    {
     "data": {
      "text/plain": [
       "Código Tipo Documento\n",
       "NE    30\n",
       "Name: count, dtype: int64"
      ]
     },
     "metadata": {},
     "output_type": "display_data"
    },
    {
     "data": {
      "text/markdown": [
       "## Valores para coluna: Código Unidade Gestora"
      ],
      "text/plain": [
       "<IPython.core.display.Markdown object>"
      ]
     },
     "metadata": {},
     "output_type": "display_data"
    },
    {
     "data": {
      "text/markdown": [
       "Número de valores distintos: **5**"
      ],
      "text/plain": [
       "<IPython.core.display.Markdown object>"
      ]
     },
     "metadata": {},
     "output_type": "display_data"
    },
    {
     "data": {
      "text/plain": [
       "Código Unidade Gestora\n",
       "152005    14\n",
       "158139     5\n",
       "          ..\n",
       "200404     1\n",
       "495650     1\n",
       "Name: count, Length: 9, dtype: int64"
      ]
     },
     "metadata": {},
     "output_type": "display_data"
    },
    {
     "data": {
      "text/markdown": [
       "## Valores para coluna: Código Plano Orçamentário"
      ],
      "text/plain": [
       "<IPython.core.display.Markdown object>"
      ]
     },
     "metadata": {},
     "output_type": "display_data"
    },
    {
     "data": {
      "text/markdown": [
       "Número de valores distintos: **3**"
      ],
      "text/plain": [
       "<IPython.core.display.Markdown object>"
      ]
     },
     "metadata": {},
     "output_type": "display_data"
    },
    {
     "data": {
      "text/plain": [
       "Código Plano Orçamentário\n",
       "0    18\n",
       "2     4\n",
       "     ..\n",
       "4     2\n",
       "5     2\n",
       "Name: count, Length: 6, dtype: int64"
      ]
     },
     "metadata": {},
     "output_type": "display_data"
    },
    {
     "data": {
      "text/markdown": [
       "## Valores para coluna: Grupo de Despesa"
      ],
      "text/plain": [
       "<IPython.core.display.Markdown object>"
      ]
     },
     "metadata": {},
     "output_type": "display_data"
    },
    {
     "data": {
      "text/markdown": [
       "Número de valores distintos: **2**"
      ],
      "text/plain": [
       "<IPython.core.display.Markdown object>"
      ]
     },
     "metadata": {},
     "output_type": "display_data"
    },
    {
     "data": {
      "text/plain": [
       "Grupo de Despesa\n",
       "Outras Despesas Correntes     27\n",
       "Pessoal e Encargos Sociais     3\n",
       "Name: count, dtype: int64"
      ]
     },
     "metadata": {},
     "output_type": "display_data"
    },
    {
     "data": {
      "text/markdown": [
       "## Valores para coluna: Código Órgão Superior"
      ],
      "text/plain": [
       "<IPython.core.display.Markdown object>"
      ]
     },
     "metadata": {},
     "output_type": "display_data"
    },
    {
     "data": {
      "text/markdown": [
       "Número de valores distintos: **4**"
      ],
      "text/plain": [
       "<IPython.core.display.Markdown object>"
      ]
     },
     "metadata": {},
     "output_type": "display_data"
    },
    {
     "data": {
      "text/plain": [
       "Código Órgão Superior\n",
       "26000    22\n",
       "25000     4\n",
       "46000     2\n",
       "30000     1\n",
       "32000     1\n",
       "Name: count, dtype: int64"
      ]
     },
     "metadata": {},
     "output_type": "display_data"
    },
    {
     "data": {
      "text/markdown": [
       "## Valores para coluna: Código Grupo de Despesa"
      ],
      "text/plain": [
       "<IPython.core.display.Markdown object>"
      ]
     },
     "metadata": {},
     "output_type": "display_data"
    },
    {
     "data": {
      "text/markdown": [
       "Número de valores distintos: **2**"
      ],
      "text/plain": [
       "<IPython.core.display.Markdown object>"
      ]
     },
     "metadata": {},
     "output_type": "display_data"
    },
    {
     "data": {
      "text/plain": [
       "Código Grupo de Despesa\n",
       "3    27\n",
       "1     3\n",
       "Name: count, dtype: int64"
      ]
     },
     "metadata": {},
     "output_type": "display_data"
    },
    {
     "data": {
      "text/markdown": [
       "## Valores para coluna: Código Favorecido"
      ],
      "text/plain": [
       "<IPython.core.display.Markdown object>"
      ]
     },
     "metadata": {},
     "output_type": "display_data"
    },
    {
     "data": {
      "text/markdown": [
       "Número de valores distintos: **2**"
      ],
      "text/plain": [
       "<IPython.core.display.Markdown object>"
      ]
     },
     "metadata": {},
     "output_type": "display_data"
    },
    {
     "data": {
      "text/plain": [
       "Código Favorecido\n",
       "152005            7\n",
       "***.593.408-**    1\n",
       "                 ..\n",
       "60444437000146    1\n",
       "90180605000102    1\n",
       "Name: count, Length: 24, dtype: int64"
      ]
     },
     "metadata": {},
     "output_type": "display_data"
    },
    {
     "data": {
      "text/markdown": [
       "## Valores para coluna: Elemento de Despesa"
      ],
      "text/plain": [
       "<IPython.core.display.Markdown object>"
      ]
     },
     "metadata": {},
     "output_type": "display_data"
    },
    {
     "data": {
      "text/markdown": [
       "Número de valores distintos: **4**"
      ],
      "text/plain": [
       "<IPython.core.display.Markdown object>"
      ]
     },
     "metadata": {},
     "output_type": "display_data"
    },
    {
     "data": {
      "text/plain": [
       "Elemento de Despesa\n",
       "Outros Serviços de Terceiros - Pessoa Juríd     8\n",
       "Outros Serviços de Terceiros - Pessoa Físic     3\n",
       "                                               ..\n",
       "Obrigações Tributárias e Contributivas          1\n",
       "Outros Benefícios Assistenciais do servidor     1\n",
       "Name: count, Length: 15, dtype: int64"
      ]
     },
     "metadata": {},
     "output_type": "display_data"
    },
    {
     "data": {
      "text/markdown": [
       "## Valores para coluna: Código Programa Governo"
      ],
      "text/plain": [
       "<IPython.core.display.Markdown object>"
      ]
     },
     "metadata": {},
     "output_type": "display_data"
    },
    {
     "data": {
      "text/markdown": [
       "Número de valores distintos: **1**"
      ],
      "text/plain": [
       "<IPython.core.display.Markdown object>"
      ]
     },
     "metadata": {},
     "output_type": "display_data"
    },
    {
     "data": {
      "text/plain": [
       "Código Programa Governo\n",
       "0    30\n",
       "Name: count, dtype: int64"
      ]
     },
     "metadata": {},
     "output_type": "display_data"
    },
    {
     "data": {
      "text/markdown": [
       "## Valores para coluna: Plano Orçamentário"
      ],
      "text/plain": [
       "<IPython.core.display.Markdown object>"
      ]
     },
     "metadata": {},
     "output_type": "display_data"
    },
    {
     "data": {
      "text/markdown": [
       "Número de valores distintos: **4**"
      ],
      "text/plain": [
       "<IPython.core.display.Markdown object>"
      ]
     },
     "metadata": {},
     "output_type": "display_data"
    },
    {
     "data": {
      "text/plain": [
       "Plano Orçamentário\n",
       "CODIGO INEXISTENTE NO SIAFI                                                                                                       17\n",
       "ADMINISTRACAO DA UNIDADE - RFB                                                                                                     4\n",
       "                                                                                                                                  ..\n",
       "CONTRIBUICAO DA UNIAO, DE SUAS AUTARQUIAS E FUNDACOES PARA O CUSTEIO DO REGIME DE PREVIDENCIA DOS SERVIDORES PUBLICOS FEDERAIS     1\n",
       "OUTRAS DESPESAS ADMINISTRATIVAS                                                                                                    1\n",
       "Name: count, Length: 8, dtype: int64"
      ]
     },
     "metadata": {},
     "output_type": "display_data"
    },
    {
     "data": {
      "text/markdown": [
       "## Valores para coluna: Observação"
      ],
      "text/plain": [
       "<IPython.core.display.Markdown object>"
      ]
     },
     "metadata": {},
     "output_type": "display_data"
    },
    {
     "data": {
      "text/markdown": [
       "Número de valores distintos: **2**"
      ],
      "text/plain": [
       "<IPython.core.display.Markdown object>"
      ]
     },
     "metadata": {},
     "output_type": "display_data"
    },
    {
     "data": {
      "text/plain": [
       "Observação\n",
       "SERVICO PARA FACILITACAO DE OFICINAS, FACILITACAO GRAFICA E DESENHO INSTRUCIONAL EM PROJETO DE TRANSFORMACAO GOVERNAMENTAL, NO CONTEXTO DE PARCERIA ESTABELECIDA ENTRE A FUNDACAO ESCOLA NACIONAL DE ADMINISTRACAO PUBLICA - ENAP E O MINISTERIO DO DESENVOLVIMENTO E ASSISTENCIA SOCIAL, FAMILIA E COMBATE A FOME - MDS, PARA CONSTRUCAO COLABORATIVA DA ELABORACAO DA POLITICA E DO PLANO NACIONAL DE CUIDADOS, PERIODO 01/01 A 30/05/2024.    2\n",
       "ATENDER DESPESA COM AUXILIO ALIMENTAC]AO DE SERVIDORES CIVIS ATIVO                                                                                                                                                                                                                                                                                                                                                                               1\n",
       "                                                                                                                                                                                                                                                                                                                                                                                                                                                ..\n",
       "VALOR QUE SE EMPENHA PARA ATENDER DESPESAS COM PRESTACAO DE SERVICOS DE APOIO ADMINISTRATIVO DO CAMPUS AVANCADO SAO JOAO DA BARRA PARA O EXERCICIO 2024. CONTRATO 18/2018. PROCESSO 23317.000488.2024-92.                                                                                                                                                                                                                                        1\n",
       "VALOR QUE SE EMPENHA PARA ATENDER DESPESAS COM SERVICOS DE MANUTENACAO E SUPORTE DO SISTEMA Q-ACADEMICO PARA OS CAMPI DO IFFLUMINESE, EXERCICIO ANTERIOR REFERENTE AO ANO DE 2023. CONTRATO 07/2022. PROCESSO 23317.001047.2023-27.                                                                                                                                                                                                              1\n",
       "Name: count, Length: 29, dtype: int64"
      ]
     },
     "metadata": {},
     "output_type": "display_data"
    },
    {
     "data": {
      "text/markdown": [
       "# Análise de valores para a tabela: Pagamentos"
      ],
      "text/plain": [
       "<IPython.core.display.Markdown object>"
      ]
     },
     "metadata": {},
     "output_type": "display_data"
    },
    {
     "data": {
      "text/markdown": [
       "## Valores para coluna: Código Gestão"
      ],
      "text/plain": [
       "<IPython.core.display.Markdown object>"
      ]
     },
     "metadata": {},
     "output_type": "display_data"
    },
    {
     "data": {
      "text/markdown": [
       "Número de valores distintos: **0**"
      ],
      "text/plain": [
       "<IPython.core.display.Markdown object>"
      ]
     },
     "metadata": {},
     "output_type": "display_data"
    },
    {
     "data": {
      "text/plain": [
       "Series([], Name: count, dtype: int64)"
      ]
     },
     "metadata": {},
     "output_type": "display_data"
    },
    {
     "data": {
      "text/markdown": [
       "## Valores para coluna: Tipo Documento"
      ],
      "text/plain": [
       "<IPython.core.display.Markdown object>"
      ]
     },
     "metadata": {},
     "output_type": "display_data"
    },
    {
     "data": {
      "text/markdown": [
       "Número de valores distintos: **0**"
      ],
      "text/plain": [
       "<IPython.core.display.Markdown object>"
      ]
     },
     "metadata": {},
     "output_type": "display_data"
    },
    {
     "data": {
      "text/plain": [
       "Series([], Name: count, dtype: int64)"
      ]
     },
     "metadata": {},
     "output_type": "display_data"
    },
    {
     "data": {
      "text/markdown": [
       "## Valores para coluna: Favorecido"
      ],
      "text/plain": [
       "<IPython.core.display.Markdown object>"
      ]
     },
     "metadata": {},
     "output_type": "display_data"
    },
    {
     "data": {
      "text/markdown": [
       "Número de valores distintos: **0**"
      ],
      "text/plain": [
       "<IPython.core.display.Markdown object>"
      ]
     },
     "metadata": {},
     "output_type": "display_data"
    },
    {
     "data": {
      "text/plain": [
       "Series([], Name: count, dtype: int64)"
      ]
     },
     "metadata": {},
     "output_type": "display_data"
    },
    {
     "data": {
      "text/markdown": [
       "## Valores para coluna: Nome Programa Governo"
      ],
      "text/plain": [
       "<IPython.core.display.Markdown object>"
      ]
     },
     "metadata": {},
     "output_type": "display_data"
    },
    {
     "data": {
      "text/markdown": [
       "Número de valores distintos: **0**"
      ],
      "text/plain": [
       "<IPython.core.display.Markdown object>"
      ]
     },
     "metadata": {},
     "output_type": "display_data"
    },
    {
     "data": {
      "text/plain": [
       "Series([], Name: count, dtype: int64)"
      ]
     },
     "metadata": {},
     "output_type": "display_data"
    },
    {
     "data": {
      "text/markdown": [
       "## Valores para coluna: Órgão"
      ],
      "text/plain": [
       "<IPython.core.display.Markdown object>"
      ]
     },
     "metadata": {},
     "output_type": "display_data"
    },
    {
     "data": {
      "text/markdown": [
       "Número de valores distintos: **0**"
      ],
      "text/plain": [
       "<IPython.core.display.Markdown object>"
      ]
     },
     "metadata": {},
     "output_type": "display_data"
    },
    {
     "data": {
      "text/plain": [
       "Series([], Name: count, dtype: int64)"
      ]
     },
     "metadata": {},
     "output_type": "display_data"
    },
    {
     "data": {
      "text/markdown": [
       "## Valores para coluna: Gestão"
      ],
      "text/plain": [
       "<IPython.core.display.Markdown object>"
      ]
     },
     "metadata": {},
     "output_type": "display_data"
    },
    {
     "data": {
      "text/markdown": [
       "Número de valores distintos: **0**"
      ],
      "text/plain": [
       "<IPython.core.display.Markdown object>"
      ]
     },
     "metadata": {},
     "output_type": "display_data"
    },
    {
     "data": {
      "text/plain": [
       "Series([], Name: count, dtype: int64)"
      ]
     },
     "metadata": {},
     "output_type": "display_data"
    },
    {
     "data": {
      "text/markdown": [
       "## Valores para coluna: Data Emissão"
      ],
      "text/plain": [
       "<IPython.core.display.Markdown object>"
      ]
     },
     "metadata": {},
     "output_type": "display_data"
    },
    {
     "data": {
      "text/markdown": [
       "Número de valores distintos: **0**"
      ],
      "text/plain": [
       "<IPython.core.display.Markdown object>"
      ]
     },
     "metadata": {},
     "output_type": "display_data"
    },
    {
     "data": {
      "text/plain": [
       "Series([], Name: count, dtype: int64)"
      ]
     },
     "metadata": {},
     "output_type": "display_data"
    },
    {
     "data": {
      "text/markdown": [
       "## Valores para coluna: Código Categoria de Despesa"
      ],
      "text/plain": [
       "<IPython.core.display.Markdown object>"
      ]
     },
     "metadata": {},
     "output_type": "display_data"
    },
    {
     "data": {
      "text/markdown": [
       "Número de valores distintos: **0**"
      ],
      "text/plain": [
       "<IPython.core.display.Markdown object>"
      ]
     },
     "metadata": {},
     "output_type": "display_data"
    },
    {
     "data": {
      "text/plain": [
       "Series([], Name: count, dtype: int64)"
      ]
     },
     "metadata": {},
     "output_type": "display_data"
    },
    {
     "data": {
      "text/markdown": [
       "## Valores para coluna: Modalidade de Aplicação"
      ],
      "text/plain": [
       "<IPython.core.display.Markdown object>"
      ]
     },
     "metadata": {},
     "output_type": "display_data"
    },
    {
     "data": {
      "text/markdown": [
       "Número de valores distintos: **0**"
      ],
      "text/plain": [
       "<IPython.core.display.Markdown object>"
      ]
     },
     "metadata": {},
     "output_type": "display_data"
    },
    {
     "data": {
      "text/plain": [
       "Series([], Name: count, dtype: int64)"
      ]
     },
     "metadata": {},
     "output_type": "display_data"
    },
    {
     "data": {
      "text/markdown": [
       "## Valores para coluna: Órgão Superior"
      ],
      "text/plain": [
       "<IPython.core.display.Markdown object>"
      ]
     },
     "metadata": {},
     "output_type": "display_data"
    },
    {
     "data": {
      "text/markdown": [
       "Número de valores distintos: **0**"
      ],
      "text/plain": [
       "<IPython.core.display.Markdown object>"
      ]
     },
     "metadata": {},
     "output_type": "display_data"
    },
    {
     "data": {
      "text/plain": [
       "Series([], Name: count, dtype: int64)"
      ]
     },
     "metadata": {},
     "output_type": "display_data"
    },
    {
     "data": {
      "text/markdown": [
       "## Valores para coluna: Código Modalidade de Aplicação"
      ],
      "text/plain": [
       "<IPython.core.display.Markdown object>"
      ]
     },
     "metadata": {},
     "output_type": "display_data"
    },
    {
     "data": {
      "text/markdown": [
       "Número de valores distintos: **0**"
      ],
      "text/plain": [
       "<IPython.core.display.Markdown object>"
      ]
     },
     "metadata": {},
     "output_type": "display_data"
    },
    {
     "data": {
      "text/plain": [
       "Series([], Name: count, dtype: int64)"
      ]
     },
     "metadata": {},
     "output_type": "display_data"
    },
    {
     "data": {
      "text/markdown": [
       "## Valores para coluna: Código Órgão"
      ],
      "text/plain": [
       "<IPython.core.display.Markdown object>"
      ]
     },
     "metadata": {},
     "output_type": "display_data"
    },
    {
     "data": {
      "text/markdown": [
       "Número de valores distintos: **0**"
      ],
      "text/plain": [
       "<IPython.core.display.Markdown object>"
      ]
     },
     "metadata": {},
     "output_type": "display_data"
    },
    {
     "data": {
      "text/plain": [
       "Series([], Name: count, dtype: int64)"
      ]
     },
     "metadata": {},
     "output_type": "display_data"
    },
    {
     "data": {
      "text/markdown": [
       "## Valores para coluna: Unidade Gestora"
      ],
      "text/plain": [
       "<IPython.core.display.Markdown object>"
      ]
     },
     "metadata": {},
     "output_type": "display_data"
    },
    {
     "data": {
      "text/markdown": [
       "Número de valores distintos: **0**"
      ],
      "text/plain": [
       "<IPython.core.display.Markdown object>"
      ]
     },
     "metadata": {},
     "output_type": "display_data"
    },
    {
     "data": {
      "text/plain": [
       "Series([], Name: count, dtype: int64)"
      ]
     },
     "metadata": {},
     "output_type": "display_data"
    },
    {
     "data": {
      "text/markdown": [
       "## Valores para coluna: Categoria de Despesa"
      ],
      "text/plain": [
       "<IPython.core.display.Markdown object>"
      ]
     },
     "metadata": {},
     "output_type": "display_data"
    },
    {
     "data": {
      "text/markdown": [
       "Número de valores distintos: **0**"
      ],
      "text/plain": [
       "<IPython.core.display.Markdown object>"
      ]
     },
     "metadata": {},
     "output_type": "display_data"
    },
    {
     "data": {
      "text/plain": [
       "Series([], Name: count, dtype: int64)"
      ]
     },
     "metadata": {},
     "output_type": "display_data"
    },
    {
     "data": {
      "text/markdown": [
       "## Valores para coluna: Código Elemento de Despesa"
      ],
      "text/plain": [
       "<IPython.core.display.Markdown object>"
      ]
     },
     "metadata": {},
     "output_type": "display_data"
    },
    {
     "data": {
      "text/markdown": [
       "Número de valores distintos: **0**"
      ],
      "text/plain": [
       "<IPython.core.display.Markdown object>"
      ]
     },
     "metadata": {},
     "output_type": "display_data"
    },
    {
     "data": {
      "text/plain": [
       "Series([], Name: count, dtype: int64)"
      ]
     },
     "metadata": {},
     "output_type": "display_data"
    },
    {
     "data": {
      "text/markdown": [
       "## Valores para coluna: Código Tipo Documento"
      ],
      "text/plain": [
       "<IPython.core.display.Markdown object>"
      ]
     },
     "metadata": {},
     "output_type": "display_data"
    },
    {
     "data": {
      "text/markdown": [
       "Número de valores distintos: **0**"
      ],
      "text/plain": [
       "<IPython.core.display.Markdown object>"
      ]
     },
     "metadata": {},
     "output_type": "display_data"
    },
    {
     "data": {
      "text/plain": [
       "Series([], Name: count, dtype: int64)"
      ]
     },
     "metadata": {},
     "output_type": "display_data"
    },
    {
     "data": {
      "text/markdown": [
       "## Valores para coluna: Código Unidade Gestora"
      ],
      "text/plain": [
       "<IPython.core.display.Markdown object>"
      ]
     },
     "metadata": {},
     "output_type": "display_data"
    },
    {
     "data": {
      "text/markdown": [
       "Número de valores distintos: **0**"
      ],
      "text/plain": [
       "<IPython.core.display.Markdown object>"
      ]
     },
     "metadata": {},
     "output_type": "display_data"
    },
    {
     "data": {
      "text/plain": [
       "Series([], Name: count, dtype: int64)"
      ]
     },
     "metadata": {},
     "output_type": "display_data"
    },
    {
     "data": {
      "text/markdown": [
       "## Valores para coluna: Código Plano Orçamentário"
      ],
      "text/plain": [
       "<IPython.core.display.Markdown object>"
      ]
     },
     "metadata": {},
     "output_type": "display_data"
    },
    {
     "data": {
      "text/markdown": [
       "Número de valores distintos: **0**"
      ],
      "text/plain": [
       "<IPython.core.display.Markdown object>"
      ]
     },
     "metadata": {},
     "output_type": "display_data"
    },
    {
     "data": {
      "text/plain": [
       "Series([], Name: count, dtype: int64)"
      ]
     },
     "metadata": {},
     "output_type": "display_data"
    },
    {
     "data": {
      "text/markdown": [
       "## Valores para coluna: Grupo de Despesa"
      ],
      "text/plain": [
       "<IPython.core.display.Markdown object>"
      ]
     },
     "metadata": {},
     "output_type": "display_data"
    },
    {
     "data": {
      "text/markdown": [
       "Número de valores distintos: **0**"
      ],
      "text/plain": [
       "<IPython.core.display.Markdown object>"
      ]
     },
     "metadata": {},
     "output_type": "display_data"
    },
    {
     "data": {
      "text/plain": [
       "Series([], Name: count, dtype: int64)"
      ]
     },
     "metadata": {},
     "output_type": "display_data"
    },
    {
     "data": {
      "text/markdown": [
       "## Valores para coluna: Código Órgão Superior"
      ],
      "text/plain": [
       "<IPython.core.display.Markdown object>"
      ]
     },
     "metadata": {},
     "output_type": "display_data"
    },
    {
     "data": {
      "text/markdown": [
       "Número de valores distintos: **0**"
      ],
      "text/plain": [
       "<IPython.core.display.Markdown object>"
      ]
     },
     "metadata": {},
     "output_type": "display_data"
    },
    {
     "data": {
      "text/plain": [
       "Series([], Name: count, dtype: int64)"
      ]
     },
     "metadata": {},
     "output_type": "display_data"
    },
    {
     "data": {
      "text/markdown": [
       "## Valores para coluna: Código Grupo de Despesa"
      ],
      "text/plain": [
       "<IPython.core.display.Markdown object>"
      ]
     },
     "metadata": {},
     "output_type": "display_data"
    },
    {
     "data": {
      "text/markdown": [
       "Número de valores distintos: **0**"
      ],
      "text/plain": [
       "<IPython.core.display.Markdown object>"
      ]
     },
     "metadata": {},
     "output_type": "display_data"
    },
    {
     "data": {
      "text/plain": [
       "Series([], Name: count, dtype: int64)"
      ]
     },
     "metadata": {},
     "output_type": "display_data"
    },
    {
     "data": {
      "text/markdown": [
       "## Valores para coluna: Código Favorecido"
      ],
      "text/plain": [
       "<IPython.core.display.Markdown object>"
      ]
     },
     "metadata": {},
     "output_type": "display_data"
    },
    {
     "data": {
      "text/markdown": [
       "Número de valores distintos: **0**"
      ],
      "text/plain": [
       "<IPython.core.display.Markdown object>"
      ]
     },
     "metadata": {},
     "output_type": "display_data"
    },
    {
     "data": {
      "text/plain": [
       "Series([], Name: count, dtype: int64)"
      ]
     },
     "metadata": {},
     "output_type": "display_data"
    },
    {
     "data": {
      "text/markdown": [
       "## Valores para coluna: Elemento de Despesa"
      ],
      "text/plain": [
       "<IPython.core.display.Markdown object>"
      ]
     },
     "metadata": {},
     "output_type": "display_data"
    },
    {
     "data": {
      "text/markdown": [
       "Número de valores distintos: **0**"
      ],
      "text/plain": [
       "<IPython.core.display.Markdown object>"
      ]
     },
     "metadata": {},
     "output_type": "display_data"
    },
    {
     "data": {
      "text/plain": [
       "Series([], Name: count, dtype: int64)"
      ]
     },
     "metadata": {},
     "output_type": "display_data"
    },
    {
     "data": {
      "text/markdown": [
       "## Valores para coluna: Código Programa Governo"
      ],
      "text/plain": [
       "<IPython.core.display.Markdown object>"
      ]
     },
     "metadata": {},
     "output_type": "display_data"
    },
    {
     "data": {
      "text/markdown": [
       "Número de valores distintos: **0**"
      ],
      "text/plain": [
       "<IPython.core.display.Markdown object>"
      ]
     },
     "metadata": {},
     "output_type": "display_data"
    },
    {
     "data": {
      "text/plain": [
       "Series([], Name: count, dtype: int64)"
      ]
     },
     "metadata": {},
     "output_type": "display_data"
    },
    {
     "data": {
      "text/markdown": [
       "## Valores para coluna: Plano Orçamentário"
      ],
      "text/plain": [
       "<IPython.core.display.Markdown object>"
      ]
     },
     "metadata": {},
     "output_type": "display_data"
    },
    {
     "data": {
      "text/markdown": [
       "Número de valores distintos: **0**"
      ],
      "text/plain": [
       "<IPython.core.display.Markdown object>"
      ]
     },
     "metadata": {},
     "output_type": "display_data"
    },
    {
     "data": {
      "text/plain": [
       "Series([], Name: count, dtype: int64)"
      ]
     },
     "metadata": {},
     "output_type": "display_data"
    },
    {
     "data": {
      "text/markdown": [
       "## Valores para coluna: Observação"
      ],
      "text/plain": [
       "<IPython.core.display.Markdown object>"
      ]
     },
     "metadata": {},
     "output_type": "display_data"
    },
    {
     "data": {
      "text/markdown": [
       "Número de valores distintos: **0**"
      ],
      "text/plain": [
       "<IPython.core.display.Markdown object>"
      ]
     },
     "metadata": {},
     "output_type": "display_data"
    },
    {
     "data": {
      "text/plain": [
       "Series([], Name: count, dtype: int64)"
      ]
     },
     "metadata": {},
     "output_type": "display_data"
    },
    {
     "data": {
      "text/markdown": [
       "# Análise de valores para a tabela: Liquidação"
      ],
      "text/plain": [
       "<IPython.core.display.Markdown object>"
      ]
     },
     "metadata": {},
     "output_type": "display_data"
    },
    {
     "data": {
      "text/markdown": [
       "## Valores para coluna: Código Gestão"
      ],
      "text/plain": [
       "<IPython.core.display.Markdown object>"
      ]
     },
     "metadata": {},
     "output_type": "display_data"
    },
    {
     "data": {
      "text/markdown": [
       "Número de valores distintos: **8**"
      ],
      "text/plain": [
       "<IPython.core.display.Markdown object>"
      ]
     },
     "metadata": {},
     "output_type": "display_data"
    },
    {
     "data": {
      "text/plain": [
       "Código Gestão\n",
       "1        39\n",
       "15260     9\n",
       "         ..\n",
       "26433     1\n",
       "27208     1\n",
       "Name: count, Length: 24, dtype: int64"
      ]
     },
     "metadata": {},
     "output_type": "display_data"
    },
    {
     "data": {
      "text/markdown": [
       "## Valores para coluna: Tipo Documento"
      ],
      "text/plain": [
       "<IPython.core.display.Markdown object>"
      ]
     },
     "metadata": {},
     "output_type": "display_data"
    },
    {
     "data": {
      "text/markdown": [
       "Número de valores distintos: **1**"
      ],
      "text/plain": [
       "<IPython.core.display.Markdown object>"
      ]
     },
     "metadata": {},
     "output_type": "display_data"
    },
    {
     "data": {
      "text/plain": [
       "Tipo Documento\n",
       "Nota de Lançamento de Sistema    99\n",
       "Name: count, dtype: int64"
      ]
     },
     "metadata": {},
     "output_type": "display_data"
    },
    {
     "data": {
      "text/markdown": [
       "## Valores para coluna: Favorecido"
      ],
      "text/plain": [
       "<IPython.core.display.Markdown object>"
      ]
     },
     "metadata": {},
     "output_type": "display_data"
    },
    {
     "data": {
      "text/markdown": [
       "Número de valores distintos: **6**"
      ],
      "text/plain": [
       "<IPython.core.display.Markdown object>"
      ]
     },
     "metadata": {},
     "output_type": "display_data"
    },
    {
     "data": {
      "text/plain": [
       "Favorecido\n",
       "HEALTH DISTRIBUIDORA DE MEDICAMENTOS LTDA                 7\n",
       "PRIME CONSULTORIA E ASSESSORIA EMPRESARIAL LTDA           5\n",
       "                                                         ..\n",
       "Y G A COMERCIO VAREJISTA DE PRODUTOS ALIMENTICIOS LTDA    1\n",
       "ZEPIM SEGURANCA E VIGILANCIA LTDA                         1\n",
       "Name: count, Length: 71, dtype: int64"
      ]
     },
     "metadata": {},
     "output_type": "display_data"
    },
    {
     "data": {
      "text/markdown": [
       "## Valores para coluna: Nome Programa Governo"
      ],
      "text/plain": [
       "<IPython.core.display.Markdown object>"
      ]
     },
     "metadata": {},
     "output_type": "display_data"
    },
    {
     "data": {
      "text/markdown": [
       "Número de valores distintos: **1**"
      ],
      "text/plain": [
       "<IPython.core.display.Markdown object>"
      ]
     },
     "metadata": {},
     "output_type": "display_data"
    },
    {
     "data": {
      "text/plain": [
       "Nome Programa Governo\n",
       "Sem informação    99\n",
       "Name: count, dtype: int64"
      ]
     },
     "metadata": {},
     "output_type": "display_data"
    },
    {
     "data": {
      "text/markdown": [
       "## Valores para coluna: Órgão"
      ],
      "text/plain": [
       "<IPython.core.display.Markdown object>"
      ]
     },
     "metadata": {},
     "output_type": "display_data"
    },
    {
     "data": {
      "text/markdown": [
       "Número de valores distintos: **8**"
      ],
      "text/plain": [
       "<IPython.core.display.Markdown object>"
      ]
     },
     "metadata": {},
     "output_type": "display_data"
    },
    {
     "data": {
      "text/plain": [
       "Órgão\n",
       "Ministério da Saúde - Unidades com vínculo     13\n",
       "Ministério da Defesa - Unidades com vínculo     9\n",
       "                                               ..\n",
       "Superintendência da Zona Franca de Manaus       1\n",
       "Universidade Federal de Santa Maria             1\n",
       "Name: count, Length: 33, dtype: int64"
      ]
     },
     "metadata": {},
     "output_type": "display_data"
    },
    {
     "data": {
      "text/markdown": [
       "## Valores para coluna: Gestão"
      ],
      "text/plain": [
       "<IPython.core.display.Markdown object>"
      ]
     },
     "metadata": {},
     "output_type": "display_data"
    },
    {
     "data": {
      "text/markdown": [
       "Número de valores distintos: **8**"
      ],
      "text/plain": [
       "<IPython.core.display.Markdown object>"
      ]
     },
     "metadata": {},
     "output_type": "display_data"
    },
    {
     "data": {
      "text/plain": [
       "Gestão\n",
       "TESOURO NACIONAL                               39\n",
       "FUNDACAO UNIVERSIDADE FEDERAL DE UBERLANDIA     9\n",
       "                                               ..\n",
       "SUPERINTENDENCIA DA ZONA FRANCA DE MANAUS       1\n",
       "UNIVERSIDADE FEDERAL DE SANTA MARIA - RS        1\n",
       "Name: count, Length: 24, dtype: int64"
      ]
     },
     "metadata": {},
     "output_type": "display_data"
    },
    {
     "data": {
      "text/markdown": [
       "## Valores para coluna: Data Emissão"
      ],
      "text/plain": [
       "<IPython.core.display.Markdown object>"
      ]
     },
     "metadata": {},
     "output_type": "display_data"
    },
    {
     "data": {
      "text/markdown": [
       "Número de valores distintos: **1**"
      ],
      "text/plain": [
       "<IPython.core.display.Markdown object>"
      ]
     },
     "metadata": {},
     "output_type": "display_data"
    },
    {
     "data": {
      "text/plain": [
       "Data Emissão\n",
       "01/01/2024    99\n",
       "Name: count, dtype: int64"
      ]
     },
     "metadata": {},
     "output_type": "display_data"
    },
    {
     "data": {
      "text/markdown": [
       "## Valores para coluna: Código Categoria de Despesa"
      ],
      "text/plain": [
       "<IPython.core.display.Markdown object>"
      ]
     },
     "metadata": {},
     "output_type": "display_data"
    },
    {
     "data": {
      "text/markdown": [
       "Número de valores distintos: **3**"
      ],
      "text/plain": [
       "<IPython.core.display.Markdown object>"
      ]
     },
     "metadata": {},
     "output_type": "display_data"
    },
    {
     "data": {
      "text/plain": [
       "Código Categoria de Despesa\n",
       "3     93\n",
       "4      4\n",
       "MU     2\n",
       "Name: count, dtype: int64"
      ]
     },
     "metadata": {},
     "output_type": "display_data"
    },
    {
     "data": {
      "text/markdown": [
       "## Valores para coluna: Modalidade de Aplicação"
      ],
      "text/plain": [
       "<IPython.core.display.Markdown object>"
      ]
     },
     "metadata": {},
     "output_type": "display_data"
    },
    {
     "data": {
      "text/markdown": [
       "Número de valores distintos: **3**"
      ],
      "text/plain": [
       "<IPython.core.display.Markdown object>"
      ]
     },
     "metadata": {},
     "output_type": "display_data"
    },
    {
     "data": {
      "text/plain": [
       "Modalidade de Aplicação\n",
       "Aplicações Diretas                                                                                                                   94\n",
       "Aplicação Direta Decorrente de Operação entre Órgãos, Fundos e Entidades Integrantes dos Orçamentos Fiscal e da Seguridade Social     3\n",
       "Múltiplo                                                                                                                              2\n",
       "Name: count, dtype: int64"
      ]
     },
     "metadata": {},
     "output_type": "display_data"
    },
    {
     "data": {
      "text/markdown": [
       "## Valores para coluna: Órgão Superior"
      ],
      "text/plain": [
       "<IPython.core.display.Markdown object>"
      ]
     },
     "metadata": {},
     "output_type": "display_data"
    },
    {
     "data": {
      "text/markdown": [
       "Número de valores distintos: **7**"
      ],
      "text/plain": [
       "<IPython.core.display.Markdown object>"
      ]
     },
     "metadata": {},
     "output_type": "display_data"
    },
    {
     "data": {
      "text/plain": [
       "Órgão Superior\n",
       "Ministério da Educação                         39\n",
       "Ministério da Defesa                           13\n",
       "                                               ..\n",
       "Ministério das Relações Exteriores              1\n",
       "Ministério do Desenvolvimento, Indústria, C     1\n",
       "Name: count, Length: 15, dtype: int64"
      ]
     },
     "metadata": {},
     "output_type": "display_data"
    },
    {
     "data": {
      "text/markdown": [
       "## Valores para coluna: Código Modalidade de Aplicação"
      ],
      "text/plain": [
       "<IPython.core.display.Markdown object>"
      ]
     },
     "metadata": {},
     "output_type": "display_data"
    },
    {
     "data": {
      "text/markdown": [
       "Número de valores distintos: **3**"
      ],
      "text/plain": [
       "<IPython.core.display.Markdown object>"
      ]
     },
     "metadata": {},
     "output_type": "display_data"
    },
    {
     "data": {
      "text/plain": [
       "Código Modalidade de Aplicação\n",
       "90    94\n",
       "91     3\n",
       "MU     2\n",
       "Name: count, dtype: int64"
      ]
     },
     "metadata": {},
     "output_type": "display_data"
    },
    {
     "data": {
      "text/markdown": [
       "## Valores para coluna: Código Órgão"
      ],
      "text/plain": [
       "<IPython.core.display.Markdown object>"
      ]
     },
     "metadata": {},
     "output_type": "display_data"
    },
    {
     "data": {
      "text/markdown": [
       "Número de valores distintos: **8**"
      ],
      "text/plain": [
       "<IPython.core.display.Markdown object>"
      ]
     },
     "metadata": {},
     "output_type": "display_data"
    },
    {
     "data": {
      "text/plain": [
       "Código Órgão\n",
       "36000    13\n",
       "52000     9\n",
       "         ..\n",
       "35000     1\n",
       "52131     1\n",
       "Name: count, Length: 33, dtype: int64"
      ]
     },
     "metadata": {},
     "output_type": "display_data"
    },
    {
     "data": {
      "text/markdown": [
       "## Valores para coluna: Unidade Gestora"
      ],
      "text/plain": [
       "<IPython.core.display.Markdown object>"
      ]
     },
     "metadata": {},
     "output_type": "display_data"
    },
    {
     "data": {
      "text/markdown": [
       "Número de valores distintos: **8**"
      ],
      "text/plain": [
       "<IPython.core.display.Markdown object>"
      ]
     },
     "metadata": {},
     "output_type": "display_data"
    },
    {
     "data": {
      "text/plain": [
       "Unidade Gestora\n",
       "SECRETARIA EXECUTIVA/OPERACAO ACOLHIDA         9\n",
       "FUNDACAO UNIVERSIDADE FEDERAL DE UBERLANDIA    9\n",
       "                                              ..\n",
       "SUPERINTENDENCIA REGIONAL NO ESTADO DO PA      1\n",
       "UNIVERSIDADE FEDERAL DE SANTA MARIA            1\n",
       "Name: count, Length: 40, dtype: int64"
      ]
     },
     "metadata": {},
     "output_type": "display_data"
    },
    {
     "data": {
      "text/markdown": [
       "## Valores para coluna: Categoria de Despesa"
      ],
      "text/plain": [
       "<IPython.core.display.Markdown object>"
      ]
     },
     "metadata": {},
     "output_type": "display_data"
    },
    {
     "data": {
      "text/markdown": [
       "Número de valores distintos: **3**"
      ],
      "text/plain": [
       "<IPython.core.display.Markdown object>"
      ]
     },
     "metadata": {},
     "output_type": "display_data"
    },
    {
     "data": {
      "text/plain": [
       "Categoria de Despesa\n",
       "DESPESAS CORRENTES     93\n",
       "DESPESAS DE CAPITAL     4\n",
       "Múltiplo                2\n",
       "Name: count, dtype: int64"
      ]
     },
     "metadata": {},
     "output_type": "display_data"
    },
    {
     "data": {
      "text/markdown": [
       "## Valores para coluna: Código Elemento de Despesa"
      ],
      "text/plain": [
       "<IPython.core.display.Markdown object>"
      ]
     },
     "metadata": {},
     "output_type": "display_data"
    },
    {
     "data": {
      "text/markdown": [
       "Número de valores distintos: **6**"
      ],
      "text/plain": [
       "<IPython.core.display.Markdown object>"
      ]
     },
     "metadata": {},
     "output_type": "display_data"
    },
    {
     "data": {
      "text/plain": [
       "Código Elemento de Despesa\n",
       "30    50\n",
       "39    18\n",
       "      ..\n",
       "11     1\n",
       "51     1\n",
       "Name: count, Length: 14, dtype: int64"
      ]
     },
     "metadata": {},
     "output_type": "display_data"
    },
    {
     "data": {
      "text/markdown": [
       "## Valores para coluna: Código Tipo Documento"
      ],
      "text/plain": [
       "<IPython.core.display.Markdown object>"
      ]
     },
     "metadata": {},
     "output_type": "display_data"
    },
    {
     "data": {
      "text/markdown": [
       "Número de valores distintos: **1**"
      ],
      "text/plain": [
       "<IPython.core.display.Markdown object>"
      ]
     },
     "metadata": {},
     "output_type": "display_data"
    },
    {
     "data": {
      "text/plain": [
       "Código Tipo Documento\n",
       "NS    99\n",
       "Name: count, dtype: int64"
      ]
     },
     "metadata": {},
     "output_type": "display_data"
    },
    {
     "data": {
      "text/markdown": [
       "## Valores para coluna: Código Unidade Gestora"
      ],
      "text/plain": [
       "<IPython.core.display.Markdown object>"
      ]
     },
     "metadata": {},
     "output_type": "display_data"
    },
    {
     "data": {
      "text/markdown": [
       "Número de valores distintos: **8**"
      ],
      "text/plain": [
       "<IPython.core.display.Markdown object>"
      ]
     },
     "metadata": {},
     "output_type": "display_data"
    },
    {
     "data": {
      "text/plain": [
       "Código Unidade Gestora\n",
       "110794    9\n",
       "154043    9\n",
       "         ..\n",
       "275060    1\n",
       "712000    1\n",
       "Name: count, Length: 40, dtype: int64"
      ]
     },
     "metadata": {},
     "output_type": "display_data"
    },
    {
     "data": {
      "text/markdown": [
       "## Valores para coluna: Código Plano Orçamentário"
      ],
      "text/plain": [
       "<IPython.core.display.Markdown object>"
      ]
     },
     "metadata": {},
     "output_type": "display_data"
    },
    {
     "data": {
      "text/markdown": [
       "Número de valores distintos: **8**"
      ],
      "text/plain": [
       "<IPython.core.display.Markdown object>"
      ]
     },
     "metadata": {},
     "output_type": "display_data"
    },
    {
     "data": {
      "text/plain": [
       "Código Plano Orçamentário\n",
       "0000    53\n",
       "0001    14\n",
       "        ..\n",
       "000S     1\n",
       "EBRO     1\n",
       "Name: count, Length: 11, dtype: int64"
      ]
     },
     "metadata": {},
     "output_type": "display_data"
    },
    {
     "data": {
      "text/markdown": [
       "## Valores para coluna: Grupo de Despesa"
      ],
      "text/plain": [
       "<IPython.core.display.Markdown object>"
      ]
     },
     "metadata": {},
     "output_type": "display_data"
    },
    {
     "data": {
      "text/markdown": [
       "Número de valores distintos: **4**"
      ],
      "text/plain": [
       "<IPython.core.display.Markdown object>"
      ]
     },
     "metadata": {},
     "output_type": "display_data"
    },
    {
     "data": {
      "text/plain": [
       "Grupo de Despesa\n",
       "Outras Despesas Correntes     87\n",
       "Pessoal e Encargos Sociais     6\n",
       "Investimentos                  4\n",
       "Múltiplo                       2\n",
       "Name: count, dtype: int64"
      ]
     },
     "metadata": {},
     "output_type": "display_data"
    },
    {
     "data": {
      "text/markdown": [
       "## Valores para coluna: Código Órgão Superior"
      ],
      "text/plain": [
       "<IPython.core.display.Markdown object>"
      ]
     },
     "metadata": {},
     "output_type": "display_data"
    },
    {
     "data": {
      "text/markdown": [
       "Número de valores distintos: **7**"
      ],
      "text/plain": [
       "<IPython.core.display.Markdown object>"
      ]
     },
     "metadata": {},
     "output_type": "display_data"
    },
    {
     "data": {
      "text/plain": [
       "Código Órgão Superior\n",
       "26000    39\n",
       "52000    13\n",
       "         ..\n",
       "53000     1\n",
       "56000     1\n",
       "Name: count, Length: 15, dtype: int64"
      ]
     },
     "metadata": {},
     "output_type": "display_data"
    },
    {
     "data": {
      "text/markdown": [
       "## Valores para coluna: Código Grupo de Despesa"
      ],
      "text/plain": [
       "<IPython.core.display.Markdown object>"
      ]
     },
     "metadata": {},
     "output_type": "display_data"
    },
    {
     "data": {
      "text/markdown": [
       "Número de valores distintos: **4**"
      ],
      "text/plain": [
       "<IPython.core.display.Markdown object>"
      ]
     },
     "metadata": {},
     "output_type": "display_data"
    },
    {
     "data": {
      "text/plain": [
       "Código Grupo de Despesa\n",
       "3     87\n",
       "1      6\n",
       "4      4\n",
       "MU     2\n",
       "Name: count, dtype: int64"
      ]
     },
     "metadata": {},
     "output_type": "display_data"
    },
    {
     "data": {
      "text/markdown": [
       "## Valores para coluna: Código Favorecido"
      ],
      "text/plain": [
       "<IPython.core.display.Markdown object>"
      ]
     },
     "metadata": {},
     "output_type": "display_data"
    },
    {
     "data": {
      "text/markdown": [
       "Número de valores distintos: **6**"
      ],
      "text/plain": [
       "<IPython.core.display.Markdown object>"
      ]
     },
     "metadata": {},
     "output_type": "display_data"
    },
    {
     "data": {
      "text/plain": [
       "Código Favorecido\n",
       "35472743000149    7\n",
       "05340639000130    5\n",
       "                 ..\n",
       "94389400000184    1\n",
       "EXCBRCBA1         1\n",
       "Name: count, Length: 71, dtype: int64"
      ]
     },
     "metadata": {},
     "output_type": "display_data"
    },
    {
     "data": {
      "text/markdown": [
       "## Valores para coluna: Elemento de Despesa"
      ],
      "text/plain": [
       "<IPython.core.display.Markdown object>"
      ]
     },
     "metadata": {},
     "output_type": "display_data"
    },
    {
     "data": {
      "text/markdown": [
       "Número de valores distintos: **6**"
      ],
      "text/plain": [
       "<IPython.core.display.Markdown object>"
      ]
     },
     "metadata": {},
     "output_type": "display_data"
    },
    {
     "data": {
      "text/plain": [
       "Elemento de Despesa\n",
       "Material de Consumo                              50\n",
       "Outros Serviços de Terceiros - Pessoa Juríd      18\n",
       "                                                 ..\n",
       "Passagens e Despesas com Locomoção                1\n",
       "Vencimentos e Vantagens Fixas - Pessoal Civil     1\n",
       "Name: count, Length: 14, dtype: int64"
      ]
     },
     "metadata": {},
     "output_type": "display_data"
    },
    {
     "data": {
      "text/markdown": [
       "## Valores para coluna: Código Programa Governo"
      ],
      "text/plain": [
       "<IPython.core.display.Markdown object>"
      ]
     },
     "metadata": {},
     "output_type": "display_data"
    },
    {
     "data": {
      "text/markdown": [
       "Número de valores distintos: **2**"
      ],
      "text/plain": [
       "<IPython.core.display.Markdown object>"
      ]
     },
     "metadata": {},
     "output_type": "display_data"
    },
    {
     "data": {
      "text/plain": [
       "Código Programa Governo\n",
       " 0    91\n",
       "-1     8\n",
       "Name: count, dtype: int64"
      ]
     },
     "metadata": {},
     "output_type": "display_data"
    },
    {
     "data": {
      "text/markdown": [
       "## Valores para coluna: Plano Orçamentário"
      ],
      "text/plain": [
       "<IPython.core.display.Markdown object>"
      ]
     },
     "metadata": {},
     "output_type": "display_data"
    },
    {
     "data": {
      "text/markdown": [
       "Número de valores distintos: **8**"
      ],
      "text/plain": [
       "<IPython.core.display.Markdown object>"
      ]
     },
     "metadata": {},
     "output_type": "display_data"
    },
    {
     "data": {
      "text/plain": [
       "Plano Orçamentário\n",
       "FUNCIONAMENTO DAS INSTITUICOES DA REDE FEDERAL DE EDUCACAO PROFISSIONAL, CIENTIFICA E TECNOLOGICA         18\n",
       "ACAO HUMANITARIA PARA PESSOAL EM SITUACAO DE VULNERABILIDADE ADVINDAS DA VENEZUELA (OPERACAO ACOLHIDA)     9\n",
       "                                                                                                          ..\n",
       "SERVICOS E MANUTENCAO DO POSTO (SMP)                                                                       1\n",
       "TECNOLOGIA DA INFORMACAO E MODERNIZACAO DA GESTAO ORGANIZACIONAL                                           1\n",
       "Name: count, Length: 34, dtype: int64"
      ]
     },
     "metadata": {},
     "output_type": "display_data"
    },
    {
     "data": {
      "text/markdown": [
       "## Valores para coluna: Observação"
      ],
      "text/plain": [
       "<IPython.core.display.Markdown object>"
      ]
     },
     "metadata": {},
     "output_type": "display_data"
    },
    {
     "data": {
      "text/markdown": [
       "Número de valores distintos: **2**"
      ],
      "text/plain": [
       "<IPython.core.display.Markdown object>"
      ]
     },
     "metadata": {},
     "output_type": "display_data"
    },
    {
     "data": {
      "text/plain": [
       "Observação\n",
       "APROPRIACAO DA FOLHA DE PAGAMENTO DO MINISTERIO DA FAZENDA- MF - FOPAG DEZ/2023 - PROCESSO SEI 10199.118665/2023-57.                      2\n",
       "PAGAMENTO NFS-E 1113 - COMPETENCIA DEZEMBRO/2023 - CONTRATO 08/2022 - VIGENCIA 10/12/2022 A 10/12/2023 - PROCESSO 23378.000009/2024-13    2\n",
       "                                                                                                                                         ..\n",
       "VLR REF CP PATRONAL EMPREGADOS AVULSOS E CP PATRONAL GILRAT ESOCIAL DEZ/2023                                                              1\n",
       "|| APL: BAFL - NF 377 DE 21/12/2023 UG. 120073 BAFL PROCESSO 67272000913202211                                                            1\n",
       "Name: count, Length: 96, dtype: int64"
      ]
     },
     "metadata": {},
     "output_type": "display_data"
    }
   ],
   "source": [
    "\n",
    "# Colocar makdown: colunas comuns\n",
    "\n",
    "descrever_dados_df(df_empenho, \"Empenho\", colunas_comuns)\n",
    "\n",
    "descrever_dados_df(df_pagamento, \"Pagamentos\", colunas_comuns)\n",
    "\n",
    "descrever_dados_df(df_liquidacao, \"Liquidação\", colunas_comuns)"
   ]
  },
  {
   "cell_type": "code",
   "execution_count": 12,
   "id": "1fc90760-1e22-4113-95bf-f1405a1bf920",
   "metadata": {},
   "outputs": [
    {
     "data": {
      "text/markdown": [
       "# Análise de valores para a tabela: Empenho"
      ],
      "text/plain": [
       "<IPython.core.display.Markdown object>"
      ]
     },
     "metadata": {},
     "output_type": "display_data"
    },
    {
     "data": {
      "text/markdown": [
       "## Valores para coluna: Fonte Recurso"
      ],
      "text/plain": [
       "<IPython.core.display.Markdown object>"
      ]
     },
     "metadata": {},
     "output_type": "display_data"
    },
    {
     "data": {
      "text/markdown": [
       "Número de valores distintos: **3**"
      ],
      "text/plain": [
       "<IPython.core.display.Markdown object>"
      ]
     },
     "metadata": {},
     "output_type": "display_data"
    },
    {
     "data": {
      "text/plain": [
       "Fonte Recurso\n",
       "RECURSOS ORDINARIOS                              25\n",
       "TRANSF.DO IMP.DE RENDA AOS MUNIC.-REF.TRIBUT.     4\n",
       "RETORNO DO FUNDO SOCIAL                           1\n",
       "Name: count, dtype: int64"
      ]
     },
     "metadata": {},
     "output_type": "display_data"
    },
    {
     "data": {
      "text/markdown": [
       "## Valores para coluna: Programa"
      ],
      "text/plain": [
       "<IPython.core.display.Markdown object>"
      ]
     },
     "metadata": {},
     "output_type": "display_data"
    },
    {
     "data": {
      "text/markdown": [
       "Número de valores distintos: **4**"
      ],
      "text/plain": [
       "<IPython.core.display.Markdown object>"
      ]
     },
     "metadata": {},
     "output_type": "display_data"
    },
    {
     "data": {
      "text/plain": [
       "Programa\n",
       "PROGRAMA DE GESTAO E MANUTENCAO DO PODER EXECUTIVO                       15\n",
       "EDUCACAO PROFISSIONAL E TECNOLOGICA QUE TRANSFORMA                        7\n",
       "EDUCACAO BASICA DEMOCRATICA, COM QUALIDADE E EQUIDADE                     6\n",
       "EDUCACAO SUPERIOR: QUALIDADE, DEMOCRACIA, EQUIDADE E SUSTENTABILIDADE     1\n",
       "MINERACAO SEGURA E SUSTENTAVEL                                            1\n",
       "Name: count, dtype: int64"
      ]
     },
     "metadata": {},
     "output_type": "display_data"
    },
    {
     "data": {
      "text/markdown": [
       "## Valores para coluna: Código Fonte Recurso"
      ],
      "text/plain": [
       "<IPython.core.display.Markdown object>"
      ]
     },
     "metadata": {},
     "output_type": "display_data"
    },
    {
     "data": {
      "text/markdown": [
       "Número de valores distintos: **3**"
      ],
      "text/plain": [
       "<IPython.core.display.Markdown object>"
      ]
     },
     "metadata": {},
     "output_type": "display_data"
    },
    {
     "data": {
      "text/plain": [
       "Código Fonte Recurso\n",
       "0    25\n",
       "3     4\n",
       "4     1\n",
       "Name: count, dtype: int64"
      ]
     },
     "metadata": {},
     "output_type": "display_data"
    },
    {
     "data": {
      "text/markdown": [
       "## Valores para coluna: Linguagem Cidadã"
      ],
      "text/plain": [
       "<IPython.core.display.Markdown object>"
      ]
     },
     "metadata": {},
     "output_type": "display_data"
    },
    {
     "data": {
      "text/markdown": [
       "Número de valores distintos: **2**"
      ],
      "text/plain": [
       "<IPython.core.display.Markdown object>"
      ]
     },
     "metadata": {},
     "output_type": "display_data"
    },
    {
     "data": {
      "text/plain": [
       "Linguagem Cidadã\n",
       "PRONATEC                    7\n",
       "Administração de unidade    5\n",
       "Name: count, dtype: int64"
      ]
     },
     "metadata": {},
     "output_type": "display_data"
    },
    {
     "data": {
      "text/markdown": [
       "## Valores para coluna: Código Convênio"
      ],
      "text/plain": [
       "<IPython.core.display.Markdown object>"
      ]
     },
     "metadata": {},
     "output_type": "display_data"
    },
    {
     "data": {
      "text/markdown": [
       "Número de valores distintos: **1**"
      ],
      "text/plain": [
       "<IPython.core.display.Markdown object>"
      ]
     },
     "metadata": {},
     "output_type": "display_data"
    },
    {
     "data": {
      "text/plain": [
       "Código Convênio\n",
       "-1    30\n",
       "Name: count, dtype: int64"
      ]
     },
     "metadata": {},
     "output_type": "display_data"
    },
    {
     "data": {
      "text/markdown": [
       "## Valores para coluna: Código SubFunção"
      ],
      "text/plain": [
       "<IPython.core.display.Markdown object>"
      ]
     },
     "metadata": {},
     "output_type": "display_data"
    },
    {
     "data": {
      "text/markdown": [
       "Número de valores distintos: **5**"
      ],
      "text/plain": [
       "<IPython.core.display.Markdown object>"
      ]
     },
     "metadata": {},
     "output_type": "display_data"
    },
    {
     "data": {
      "text/plain": [
       "Código SubFunção\n",
       "363    7\n",
       "367    6\n",
       "      ..\n",
       "663    1\n",
       "846    1\n",
       "Name: count, Length: 9, dtype: int64"
      ]
     },
     "metadata": {},
     "output_type": "display_data"
    },
    {
     "data": {
      "text/markdown": [
       "## Valores para coluna: Valor Original do Empenho"
      ],
      "text/plain": [
       "<IPython.core.display.Markdown object>"
      ]
     },
     "metadata": {},
     "output_type": "display_data"
    },
    {
     "data": {
      "text/markdown": [
       "Número de valores distintos: **2**"
      ],
      "text/plain": [
       "<IPython.core.display.Markdown object>"
      ]
     },
     "metadata": {},
     "output_type": "display_data"
    },
    {
     "data": {
      "text/plain": [
       "Valor Original do Empenho\n",
       "10,00        3\n",
       "1000,00      1\n",
       "            ..\n",
       "882000,00    1\n",
       "96000,00     1\n",
       "Name: count, Length: 28, dtype: int64"
      ]
     },
     "metadata": {},
     "output_type": "display_data"
    },
    {
     "data": {
      "text/markdown": [
       "## Valores para coluna: Código Unidade Orçamentária"
      ],
      "text/plain": [
       "<IPython.core.display.Markdown object>"
      ]
     },
     "metadata": {},
     "output_type": "display_data"
    },
    {
     "data": {
      "text/markdown": [
       "Número de valores distintos: **5**"
      ],
      "text/plain": [
       "<IPython.core.display.Markdown object>"
      ]
     },
     "metadata": {},
     "output_type": "display_data"
    },
    {
     "data": {
      "text/plain": [
       "Código Unidade Orçamentária\n",
       "26104    14\n",
       "26434     5\n",
       "         ..\n",
       "30108     1\n",
       "32202     1\n",
       "Name: count, Length: 9, dtype: int64"
      ]
     },
     "metadata": {},
     "output_type": "display_data"
    },
    {
     "data": {
      "text/markdown": [
       "## Valores para coluna: Código Ação"
      ],
      "text/plain": [
       "<IPython.core.display.Markdown object>"
      ]
     },
     "metadata": {},
     "output_type": "display_data"
    },
    {
     "data": {
      "text/markdown": [
       "Número de valores distintos: **5**"
      ],
      "text/plain": [
       "<IPython.core.display.Markdown object>"
      ]
     },
     "metadata": {},
     "output_type": "display_data"
    },
    {
     "data": {
      "text/plain": [
       "Código Ação\n",
       "20RL    7\n",
       "21CO    6\n",
       "       ..\n",
       "20RK    1\n",
       "2399    1\n",
       "Name: count, Length: 9, dtype: int64"
      ]
     },
     "metadata": {},
     "output_type": "display_data"
    },
    {
     "data": {
      "text/markdown": [
       "## Valores para coluna: Modalidade de Licitação"
      ],
      "text/plain": [
       "<IPython.core.display.Markdown object>"
      ]
     },
     "metadata": {},
     "output_type": "display_data"
    },
    {
     "data": {
      "text/markdown": [
       "Número de valores distintos: **4**"
      ],
      "text/plain": [
       "<IPython.core.display.Markdown object>"
      ]
     },
     "metadata": {},
     "output_type": "display_data"
    },
    {
     "data": {
      "text/plain": [
       "Modalidade de Licitação\n",
       "Não se Aplica            13\n",
       "Pregão                   11\n",
       "Inexigível                4\n",
       "Dispensa de Licitação     2\n",
       "Name: count, dtype: int64"
      ]
     },
     "metadata": {},
     "output_type": "display_data"
    },
    {
     "data": {
      "text/markdown": [
       "## Valores para coluna: Espécie Empenho"
      ],
      "text/plain": [
       "<IPython.core.display.Markdown object>"
      ]
     },
     "metadata": {},
     "output_type": "display_data"
    },
    {
     "data": {
      "text/markdown": [
       "Número de valores distintos: **1**"
      ],
      "text/plain": [
       "<IPython.core.display.Markdown object>"
      ]
     },
     "metadata": {},
     "output_type": "display_data"
    },
    {
     "data": {
      "text/plain": [
       "Espécie Empenho\n",
       "Não se aplica    30\n",
       "Name: count, dtype: int64"
      ]
     },
     "metadata": {},
     "output_type": "display_data"
    },
    {
     "data": {
      "text/markdown": [
       "## Valores para coluna: Unidade Orçamentária"
      ],
      "text/plain": [
       "<IPython.core.display.Markdown object>"
      ]
     },
     "metadata": {},
     "output_type": "display_data"
    },
    {
     "data": {
      "text/markdown": [
       "Número de valores distintos: **5**"
      ],
      "text/plain": [
       "<IPython.core.display.Markdown object>"
      ]
     },
     "metadata": {},
     "output_type": "display_data"
    },
    {
     "data": {
      "text/plain": [
       "Unidade Orçamentária\n",
       "INSTITUTO NACIONAL DE EDUCACAO DE SURDOS         14\n",
       "INST.FED.DE EDUC.,CIENC.E TEC.FLUMINENSE          5\n",
       "                                                 ..\n",
       "DEPARTAMENTO DE POLICIA FEDERAL                   1\n",
       "INST.FED.DE EDUC.,CIENC.E TEC.DO TRIA.MINEIRO     1\n",
       "Name: count, Length: 9, dtype: int64"
      ]
     },
     "metadata": {},
     "output_type": "display_data"
    },
    {
     "data": {
      "text/markdown": [
       "## Valores para coluna: Código Grupo Fonte Recurso"
      ],
      "text/plain": [
       "<IPython.core.display.Markdown object>"
      ]
     },
     "metadata": {},
     "output_type": "display_data"
    },
    {
     "data": {
      "text/markdown": [
       "Número de valores distintos: **2**"
      ],
      "text/plain": [
       "<IPython.core.display.Markdown object>"
      ]
     },
     "metadata": {},
     "output_type": "display_data"
    },
    {
     "data": {
      "text/plain": [
       "Código Grupo Fonte Recurso\n",
       "1    27\n",
       "0     3\n",
       "Name: count, dtype: int64"
      ]
     },
     "metadata": {},
     "output_type": "display_data"
    },
    {
     "data": {
      "text/markdown": [
       "## Valores para coluna: Valor Utilizado na Conversão"
      ],
      "text/plain": [
       "<IPython.core.display.Markdown object>"
      ]
     },
     "metadata": {},
     "output_type": "display_data"
    },
    {
     "data": {
      "text/markdown": [
       "Número de valores distintos: **1**"
      ],
      "text/plain": [
       "<IPython.core.display.Markdown object>"
      ]
     },
     "metadata": {},
     "output_type": "display_data"
    },
    {
     "data": {
      "text/plain": [
       "Valor Utilizado na Conversão\n",
       "1,0000    30\n",
       "Name: count, dtype: int64"
      ]
     },
     "metadata": {},
     "output_type": "display_data"
    },
    {
     "data": {
      "text/markdown": [
       "## Valores para coluna: Tipo Empenho"
      ],
      "text/plain": [
       "<IPython.core.display.Markdown object>"
      ]
     },
     "metadata": {},
     "output_type": "display_data"
    },
    {
     "data": {
      "text/markdown": [
       "Número de valores distintos: **3**"
      ],
      "text/plain": [
       "<IPython.core.display.Markdown object>"
      ]
     },
     "metadata": {},
     "output_type": "display_data"
    },
    {
     "data": {
      "text/plain": [
       "Tipo Empenho\n",
       "Estimativo    19\n",
       "Global         9\n",
       "Ordinário      2\n",
       "Name: count, dtype: int64"
      ]
     },
     "metadata": {},
     "output_type": "display_data"
    },
    {
     "data": {
      "text/markdown": [
       "## Valores para coluna: Autor Emenda"
      ],
      "text/plain": [
       "<IPython.core.display.Markdown object>"
      ]
     },
     "metadata": {},
     "output_type": "display_data"
    },
    {
     "data": {
      "text/markdown": [
       "Número de valores distintos: **1**"
      ],
      "text/plain": [
       "<IPython.core.display.Markdown object>"
      ]
     },
     "metadata": {},
     "output_type": "display_data"
    },
    {
     "data": {
      "text/plain": [
       "Autor Emenda\n",
       "SEM EMENDA    30\n",
       "Name: count, dtype: int64"
      ]
     },
     "metadata": {},
     "output_type": "display_data"
    },
    {
     "data": {
      "text/markdown": [
       "## Valores para coluna: Função"
      ],
      "text/plain": [
       "<IPython.core.display.Markdown object>"
      ]
     },
     "metadata": {},
     "output_type": "display_data"
    },
    {
     "data": {
      "text/markdown": [
       "Número de valores distintos: **3**"
      ],
      "text/plain": [
       "<IPython.core.display.Markdown object>"
      ]
     },
     "metadata": {},
     "output_type": "display_data"
    },
    {
     "data": {
      "text/plain": [
       "Função\n",
       "Educação             22\n",
       "Administração         6\n",
       "Indústria             1\n",
       "Segurança pública     1\n",
       "Name: count, dtype: int64"
      ]
     },
     "metadata": {},
     "output_type": "display_data"
    },
    {
     "data": {
      "text/markdown": [
       "## Valores para coluna: Subtítulo (Localizador)"
      ],
      "text/plain": [
       "<IPython.core.display.Markdown object>"
      ]
     },
     "metadata": {},
     "output_type": "display_data"
    },
    {
     "data": {
      "text/markdown": [
       "Número de valores distintos: **4**"
      ],
      "text/plain": [
       "<IPython.core.display.Markdown object>"
      ]
     },
     "metadata": {},
     "output_type": "display_data"
    },
    {
     "data": {
      "text/plain": [
       "Subtítulo (Localizador)\n",
       "FUNCIONAMENTO DAS INSTITUICOES FEDERA - NO ESTADO DO RIO DE     6\n",
       "BENEFICIOS OBRIGATORIOS AOS SERVIDORE - NO ESTADO DO RIO DE     5\n",
       "                                                               ..\n",
       "FUNCIONAMENTO DAS INSTITUICOES DA RED - NO ESTADO DO AMAZONA    1\n",
       "FUNCIONAMENTO DE INSTITUICOES FEDERAI - NO ESTADO DE MATO GR    1\n",
       "Name: count, Length: 11, dtype: int64"
      ]
     },
     "metadata": {},
     "output_type": "display_data"
    },
    {
     "data": {
      "text/markdown": [
       "## Valores para coluna: Código Esfera Orçamentária"
      ],
      "text/plain": [
       "<IPython.core.display.Markdown object>"
      ]
     },
     "metadata": {},
     "output_type": "display_data"
    },
    {
     "data": {
      "text/markdown": [
       "Número de valores distintos: **1**"
      ],
      "text/plain": [
       "<IPython.core.display.Markdown object>"
      ]
     },
     "metadata": {},
     "output_type": "display_data"
    },
    {
     "data": {
      "text/plain": [
       "Código Esfera Orçamentária\n",
       "1    30\n",
       "Name: count, dtype: int64"
      ]
     },
     "metadata": {},
     "output_type": "display_data"
    },
    {
     "data": {
      "text/markdown": [
       "## Valores para coluna: SubFunção"
      ],
      "text/plain": [
       "<IPython.core.display.Markdown object>"
      ]
     },
     "metadata": {},
     "output_type": "display_data"
    },
    {
     "data": {
      "text/markdown": [
       "Número de valores distintos: **5**"
      ],
      "text/plain": [
       "<IPython.core.display.Markdown object>"
      ]
     },
     "metadata": {},
     "output_type": "display_data"
    },
    {
     "data": {
      "text/plain": [
       "SubFunção\n",
       "Ensino profissional          7\n",
       "Educação especial            6\n",
       "                            ..\n",
       "Mineração                    1\n",
       "Outros encargos especiais    1\n",
       "Name: count, Length: 9, dtype: int64"
      ]
     },
     "metadata": {},
     "output_type": "display_data"
    },
    {
     "data": {
      "text/markdown": [
       "## Valores para coluna: Id Empenho"
      ],
      "text/plain": [
       "<IPython.core.display.Markdown object>"
      ]
     },
     "metadata": {},
     "output_type": "display_data"
    },
    {
     "data": {
      "text/markdown": [
       "Número de valores distintos: **1**"
      ],
      "text/plain": [
       "<IPython.core.display.Markdown object>"
      ]
     },
     "metadata": {},
     "output_type": "display_data"
    },
    {
     "data": {
      "text/plain": [
       "Id Empenho\n",
       "562145816    1\n",
       "562148870    1\n",
       "            ..\n",
       "562442227    1\n",
       "562473104    1\n",
       "Name: count, Length: 30, dtype: int64"
      ]
     },
     "metadata": {},
     "output_type": "display_data"
    },
    {
     "data": {
      "text/markdown": [
       "## Valores para coluna: Processo"
      ],
      "text/plain": [
       "<IPython.core.display.Markdown object>"
      ]
     },
     "metadata": {},
     "output_type": "display_data"
    },
    {
     "data": {
      "text/markdown": [
       "Número de valores distintos: **3**"
      ],
      "text/plain": [
       "<IPython.core.display.Markdown object>"
      ]
     },
     "metadata": {},
     "output_type": "display_data"
    },
    {
     "data": {
      "text/plain": [
       "Processo\n",
       "23121.001375/2023-11    3\n",
       "23121.0001375/2023-1    2\n",
       "                       ..\n",
       "48086.000107/2024-67    1\n",
       "D0003B0100S             1\n",
       "Name: count, Length: 25, dtype: int64"
      ]
     },
     "metadata": {},
     "output_type": "display_data"
    },
    {
     "data": {
      "text/markdown": [
       "## Valores para coluna: Esfera Orçamentária"
      ],
      "text/plain": [
       "<IPython.core.display.Markdown object>"
      ]
     },
     "metadata": {},
     "output_type": "display_data"
    },
    {
     "data": {
      "text/markdown": [
       "Número de valores distintos: **1**"
      ],
      "text/plain": [
       "<IPython.core.display.Markdown object>"
      ]
     },
     "metadata": {},
     "output_type": "display_data"
    },
    {
     "data": {
      "text/plain": [
       "Esfera Orçamentária\n",
       "Orçamento Fiscal    30\n",
       "Name: count, dtype: int64"
      ]
     },
     "metadata": {},
     "output_type": "display_data"
    },
    {
     "data": {
      "text/markdown": [
       "## Valores para coluna: Grupo Fonte Recurso"
      ],
      "text/plain": [
       "<IPython.core.display.Markdown object>"
      ]
     },
     "metadata": {},
     "output_type": "display_data"
    },
    {
     "data": {
      "text/markdown": [
       "Número de valores distintos: **2**"
      ],
      "text/plain": [
       "<IPython.core.display.Markdown object>"
      ]
     },
     "metadata": {},
     "output_type": "display_data"
    },
    {
     "data": {
      "text/plain": [
       "Grupo Fonte Recurso\n",
       "Recursos Do Tesouro - Exercicio Corrente    27\n",
       "Codigo Inexistente No Siafi                  3\n",
       "Name: count, dtype: int64"
      ]
     },
     "metadata": {},
     "output_type": "display_data"
    },
    {
     "data": {
      "text/markdown": [
       "## Valores para coluna: Valor do Empenho Convertido pra R$"
      ],
      "text/plain": [
       "<IPython.core.display.Markdown object>"
      ]
     },
     "metadata": {},
     "output_type": "display_data"
    },
    {
     "data": {
      "text/markdown": [
       "Número de valores distintos: **2**"
      ],
      "text/plain": [
       "<IPython.core.display.Markdown object>"
      ]
     },
     "metadata": {},
     "output_type": "display_data"
    },
    {
     "data": {
      "text/plain": [
       "Valor do Empenho Convertido pra R$\n",
       "10,00        3\n",
       "1000,00      1\n",
       "            ..\n",
       "882000,00    1\n",
       "96000,00     1\n",
       "Name: count, Length: 28, dtype: int64"
      ]
     },
     "metadata": {},
     "output_type": "display_data"
    },
    {
     "data": {
      "text/markdown": [
       "## Valores para coluna: Código Tipo Crédito"
      ],
      "text/plain": [
       "<IPython.core.display.Markdown object>"
      ]
     },
     "metadata": {},
     "output_type": "display_data"
    },
    {
     "data": {
      "text/markdown": [
       "Número de valores distintos: **1**"
      ],
      "text/plain": [
       "<IPython.core.display.Markdown object>"
      ]
     },
     "metadata": {},
     "output_type": "display_data"
    },
    {
     "data": {
      "text/plain": [
       "Código Tipo Crédito\n",
       "A    30\n",
       "Name: count, dtype: int64"
      ]
     },
     "metadata": {},
     "output_type": "display_data"
    },
    {
     "data": {
      "text/markdown": [
       "## Valores para coluna: Código Programa"
      ],
      "text/plain": [
       "<IPython.core.display.Markdown object>"
      ]
     },
     "metadata": {},
     "output_type": "display_data"
    },
    {
     "data": {
      "text/markdown": [
       "Número de valores distintos: **4**"
      ],
      "text/plain": [
       "<IPython.core.display.Markdown object>"
      ]
     },
     "metadata": {},
     "output_type": "display_data"
    },
    {
     "data": {
      "text/plain": [
       "Código Programa\n",
       "32      15\n",
       "5112     7\n",
       "5111     6\n",
       "3102     1\n",
       "5113     1\n",
       "Name: count, dtype: int64"
      ]
     },
     "metadata": {},
     "output_type": "display_data"
    },
    {
     "data": {
      "text/markdown": [
       "## Valores para coluna: Código Função"
      ],
      "text/plain": [
       "<IPython.core.display.Markdown object>"
      ]
     },
     "metadata": {},
     "output_type": "display_data"
    },
    {
     "data": {
      "text/markdown": [
       "Número de valores distintos: **3**"
      ],
      "text/plain": [
       "<IPython.core.display.Markdown object>"
      ]
     },
     "metadata": {},
     "output_type": "display_data"
    },
    {
     "data": {
      "text/plain": [
       "Código Função\n",
       "12    22\n",
       "4      6\n",
       "6      1\n",
       "22     1\n",
       "Name: count, dtype: int64"
      ]
     },
     "metadata": {},
     "output_type": "display_data"
    },
    {
     "data": {
      "text/markdown": [
       "## Valores para coluna: Ação"
      ],
      "text/plain": [
       "<IPython.core.display.Markdown object>"
      ]
     },
     "metadata": {},
     "output_type": "display_data"
    },
    {
     "data": {
      "text/markdown": [
       "Número de valores distintos: **5**"
      ],
      "text/plain": [
       "<IPython.core.display.Markdown object>"
      ]
     },
     "metadata": {},
     "output_type": "display_data"
    },
    {
     "data": {
      "text/plain": [
       "Ação\n",
       "FUNCIONAMENTO DAS INSTITUICOES DA REDE FEDERAL DE EDUCACAO PROFISSIONAL, CIENTIFICA E TECNOLOGICA                                 7\n",
       "FUNCIONAMENTO DAS INSTITUICOES FEDERAIS DE EDUCACAO ESPECIAL                                                                      6\n",
       "                                                                                                                                 ..\n",
       "CONTRIBUICAO DA UNIAO, DE SUAS AUTARQUIAS E FUNDACOES PARA O CUSTEIO DO REGIME DE PREVIDENCIA DOS SERVIDORES PUBLICOS FEDERAIS    1\n",
       "FUNCIONAMENTO DE INSTITUICOES FEDERAIS DE ENSINO SUPERIOR                                                                         1\n",
       "Name: count, Length: 9, dtype: int64"
      ]
     },
     "metadata": {},
     "output_type": "display_data"
    },
    {
     "data": {
      "text/markdown": [
       "## Valores para coluna: Inciso"
      ],
      "text/plain": [
       "<IPython.core.display.Markdown object>"
      ]
     },
     "metadata": {},
     "output_type": "display_data"
    },
    {
     "data": {
      "text/markdown": [
       "Número de valores distintos: **3**"
      ],
      "text/plain": [
       "<IPython.core.display.Markdown object>"
      ]
     },
     "metadata": {},
     "output_type": "display_data"
    },
    {
     "data": {
      "text/plain": [
       "Inciso\n",
       "SI     25\n",
       "II      2\n",
       "III     2\n",
       "I       1\n",
       "Name: count, dtype: int64"
      ]
     },
     "metadata": {},
     "output_type": "display_data"
    },
    {
     "data": {
      "text/markdown": [
       "## Valores para coluna: Código Subtítulo (Localizador)"
      ],
      "text/plain": [
       "<IPython.core.display.Markdown object>"
      ]
     },
     "metadata": {},
     "output_type": "display_data"
    },
    {
     "data": {
      "text/markdown": [
       "Número de valores distintos: **4**"
      ],
      "text/plain": [
       "<IPython.core.display.Markdown object>"
      ]
     },
     "metadata": {},
     "output_type": "display_data"
    },
    {
     "data": {
      "text/plain": [
       "Código Subtítulo (Localizador)\n",
       "21CO0033    6\n",
       "20RL0033    5\n",
       "           ..\n",
       "20RL0013    1\n",
       "23990001    1\n",
       "Name: count, Length: 11, dtype: int64"
      ]
     },
     "metadata": {},
     "output_type": "display_data"
    },
    {
     "data": {
      "text/markdown": [
       "## Valores para coluna: Código Empenho Resumido"
      ],
      "text/plain": [
       "<IPython.core.display.Markdown object>"
      ]
     },
     "metadata": {},
     "output_type": "display_data"
    },
    {
     "data": {
      "text/markdown": [
       "Número de valores distintos: **2**"
      ],
      "text/plain": [
       "<IPython.core.display.Markdown object>"
      ]
     },
     "metadata": {},
     "output_type": "display_data"
    },
    {
     "data": {
      "text/plain": [
       "Código Empenho Resumido\n",
       "2024NE000017    2\n",
       "2024NE000097    2\n",
       "               ..\n",
       "2024NE400013    1\n",
       "2024NE400014    1\n",
       "Name: count, Length: 28, dtype: int64"
      ]
     },
     "metadata": {},
     "output_type": "display_data"
    },
    {
     "data": {
      "text/markdown": [
       "## Valores para coluna: Referência de Dispensa ou Inexigibilidade"
      ],
      "text/plain": [
       "<IPython.core.display.Markdown object>"
      ]
     },
     "metadata": {},
     "output_type": "display_data"
    },
    {
     "data": {
      "text/markdown": [
       "Número de valores distintos: **1**"
      ],
      "text/plain": [
       "<IPython.core.display.Markdown object>"
      ]
     },
     "metadata": {},
     "output_type": "display_data"
    },
    {
     "data": {
      "text/plain": [
       "Referência de Dispensa ou Inexigibilidade\n",
       "-2    30\n",
       "Name: count, dtype: int64"
      ]
     },
     "metadata": {},
     "output_type": "display_data"
    },
    {
     "data": {
      "text/markdown": [
       "## Valores para coluna: Amparo"
      ],
      "text/plain": [
       "<IPython.core.display.Markdown object>"
      ]
     },
     "metadata": {},
     "output_type": "display_data"
    },
    {
     "data": {
      "text/markdown": [
       "Número de valores distintos: **3**"
      ],
      "text/plain": [
       "<IPython.core.display.Markdown object>"
      ]
     },
     "metadata": {},
     "output_type": "display_data"
    },
    {
     "data": {
      "text/plain": [
       "Amparo\n",
       "SEM INFORMACAO       13\n",
       "LEI 10.520 / 2002    11\n",
       "LEI 14.133 / 2021     2\n",
       "LEI 14.133/2021       2\n",
       "LEI 8.666 / 1993      2\n",
       "Name: count, dtype: int64"
      ]
     },
     "metadata": {},
     "output_type": "display_data"
    },
    {
     "data": {
      "text/markdown": [
       "## Valores para coluna: Contrato de Repasse / Termo de Parceria / Outros"
      ],
      "text/plain": [
       "<IPython.core.display.Markdown object>"
      ]
     },
     "metadata": {},
     "output_type": "display_data"
    },
    {
     "data": {
      "text/markdown": [
       "Número de valores distintos: **1**"
      ],
      "text/plain": [
       "<IPython.core.display.Markdown object>"
      ]
     },
     "metadata": {},
     "output_type": "display_data"
    },
    {
     "data": {
      "text/plain": [
       "Contrato de Repasse / Termo de Parceria / Outros\n",
       "NAO SE APLICA    30\n",
       "Name: count, dtype: int64"
      ]
     },
     "metadata": {},
     "output_type": "display_data"
    },
    {
     "data": {
      "text/markdown": [
       "## Valores para coluna: Tipo Crédito"
      ],
      "text/plain": [
       "<IPython.core.display.Markdown object>"
      ]
     },
     "metadata": {},
     "output_type": "display_data"
    },
    {
     "data": {
      "text/markdown": [
       "Número de valores distintos: **1**"
      ],
      "text/plain": [
       "<IPython.core.display.Markdown object>"
      ]
     },
     "metadata": {},
     "output_type": "display_data"
    },
    {
     "data": {
      "text/plain": [
       "Tipo Crédito\n",
       "INICIAL (LOA)    30\n",
       "Name: count, dtype: int64"
      ]
     },
     "metadata": {},
     "output_type": "display_data"
    },
    {
     "data": {
      "text/markdown": [
       "## Valores para coluna: Código Empenho"
      ],
      "text/plain": [
       "<IPython.core.display.Markdown object>"
      ]
     },
     "metadata": {},
     "output_type": "display_data"
    },
    {
     "data": {
      "text/markdown": [
       "Número de valores distintos: **1**"
      ],
      "text/plain": [
       "<IPython.core.display.Markdown object>"
      ]
     },
     "metadata": {},
     "output_type": "display_data"
    },
    {
     "data": {
      "text/plain": [
       "Código Empenho\n",
       "114702114012024NE400013    1\n",
       "114702114012024NE400014    1\n",
       "                          ..\n",
       "200404000012024NE000071    1\n",
       "495650292082024NE000404    1\n",
       "Name: count, Length: 30, dtype: int64"
      ]
     },
     "metadata": {},
     "output_type": "display_data"
    }
   ],
   "source": [
    "descrever_dados_df(df_empenho, \"Empenho\", listar_colunas_nao_comuns ([df_empenho], colunas_comuns))"
   ]
  },
  {
   "cell_type": "code",
   "execution_count": 13,
   "id": "ffe7ac71-460e-4cf3-a569-591f5e1f053f",
   "metadata": {},
   "outputs": [
    {
     "data": {
      "text/html": [
       "<div>\n",
       "<style scoped>\n",
       "    .dataframe tbody tr th:only-of-type {\n",
       "        vertical-align: middle;\n",
       "    }\n",
       "\n",
       "    .dataframe tbody tr th {\n",
       "        vertical-align: top;\n",
       "    }\n",
       "\n",
       "    .dataframe thead th {\n",
       "        text-align: right;\n",
       "    }\n",
       "</style>\n",
       "<table border=\"1\" class=\"dataframe\">\n",
       "  <thead>\n",
       "    <tr style=\"text-align: right;\">\n",
       "      <th></th>\n",
       "      <th>Elemento de Despesa</th>\n",
       "      <th>count</th>\n",
       "    </tr>\n",
       "  </thead>\n",
       "  <tbody>\n",
       "    <tr>\n",
       "      <th>0</th>\n",
       "      <td>Outros Serviços de Terceiros - Pessoa Juríd</td>\n",
       "      <td>4</td>\n",
       "    </tr>\n",
       "  </tbody>\n",
       "</table>\n",
       "</div>"
      ],
      "text/plain": [
       "                           Elemento de Despesa  count\n",
       "0  Outros Serviços de Terceiros - Pessoa Juríd      4"
      ]
     },
     "metadata": {},
     "output_type": "display_data"
    },
    {
     "data": {
      "text/html": [
       "<div>\n",
       "<style scoped>\n",
       "    .dataframe tbody tr th:only-of-type {\n",
       "        vertical-align: middle;\n",
       "    }\n",
       "\n",
       "    .dataframe tbody tr th {\n",
       "        vertical-align: top;\n",
       "    }\n",
       "\n",
       "    .dataframe thead th {\n",
       "        text-align: right;\n",
       "    }\n",
       "</style>\n",
       "<table border=\"1\" class=\"dataframe\">\n",
       "  <thead>\n",
       "    <tr style=\"text-align: right;\">\n",
       "      <th></th>\n",
       "      <th>Valor do Empenho Convertido pra R$</th>\n",
       "      <th>count</th>\n",
       "    </tr>\n",
       "  </thead>\n",
       "  <tbody>\n",
       "    <tr>\n",
       "      <th>0</th>\n",
       "      <td>10,00</td>\n",
       "      <td>3</td>\n",
       "    </tr>\n",
       "    <tr>\n",
       "      <th>1</th>\n",
       "      <td>872,43</td>\n",
       "      <td>1</td>\n",
       "    </tr>\n",
       "  </tbody>\n",
       "</table>\n",
       "</div>"
      ],
      "text/plain": [
       "  Valor do Empenho Convertido pra R$  count\n",
       "0                              10,00      3\n",
       "1                             872,43      1"
      ]
     },
     "metadata": {},
     "output_type": "display_data"
    },
    {
     "data": {
      "text/html": [
       "<div>\n",
       "<style scoped>\n",
       "    .dataframe tbody tr th:only-of-type {\n",
       "        vertical-align: middle;\n",
       "    }\n",
       "\n",
       "    .dataframe tbody tr th {\n",
       "        vertical-align: top;\n",
       "    }\n",
       "\n",
       "    .dataframe thead th {\n",
       "        text-align: right;\n",
       "    }\n",
       "</style>\n",
       "<table border=\"1\" class=\"dataframe\">\n",
       "  <thead>\n",
       "    <tr style=\"text-align: right;\">\n",
       "      <th></th>\n",
       "      <th>Id Empenho</th>\n",
       "      <th>Código Empenho</th>\n",
       "      <th>Código Empenho Resumido</th>\n",
       "      <th>Data Emissão</th>\n",
       "      <th>Código Tipo Documento</th>\n",
       "      <th>Tipo Documento</th>\n",
       "      <th>Tipo Empenho</th>\n",
       "      <th>Espécie Empenho</th>\n",
       "      <th>Código Órgão Superior</th>\n",
       "      <th>Órgão Superior</th>\n",
       "      <th>Código Órgão</th>\n",
       "      <th>Órgão</th>\n",
       "      <th>Código Unidade Gestora</th>\n",
       "      <th>Unidade Gestora</th>\n",
       "      <th>Código Gestão</th>\n",
       "      <th>Gestão</th>\n",
       "      <th>Código Favorecido</th>\n",
       "      <th>Favorecido</th>\n",
       "      <th>Observação</th>\n",
       "      <th>Código Esfera Orçamentária</th>\n",
       "      <th>Esfera Orçamentária</th>\n",
       "      <th>Código Tipo Crédito</th>\n",
       "      <th>Tipo Crédito</th>\n",
       "      <th>Código Grupo Fonte Recurso</th>\n",
       "      <th>Grupo Fonte Recurso</th>\n",
       "      <th>Código Fonte Recurso</th>\n",
       "      <th>Fonte Recurso</th>\n",
       "      <th>Código Unidade Orçamentária</th>\n",
       "      <th>Unidade Orçamentária</th>\n",
       "      <th>Código Função</th>\n",
       "      <th>Função</th>\n",
       "      <th>Código SubFunção</th>\n",
       "      <th>SubFunção</th>\n",
       "      <th>Código Programa</th>\n",
       "      <th>Programa</th>\n",
       "      <th>Código Ação</th>\n",
       "      <th>Ação</th>\n",
       "      <th>Linguagem Cidadã</th>\n",
       "      <th>Código Subtítulo (Localizador)</th>\n",
       "      <th>Subtítulo (Localizador)</th>\n",
       "      <th>Código Plano Orçamentário</th>\n",
       "      <th>Plano Orçamentário</th>\n",
       "      <th>Código Programa Governo</th>\n",
       "      <th>Nome Programa Governo</th>\n",
       "      <th>Autor Emenda</th>\n",
       "      <th>Código Categoria de Despesa</th>\n",
       "      <th>Categoria de Despesa</th>\n",
       "      <th>Código Grupo de Despesa</th>\n",
       "      <th>Grupo de Despesa</th>\n",
       "      <th>Código Modalidade de Aplicação</th>\n",
       "      <th>Modalidade de Aplicação</th>\n",
       "      <th>Código Elemento de Despesa</th>\n",
       "      <th>Elemento de Despesa</th>\n",
       "      <th>Processo</th>\n",
       "      <th>Modalidade de Licitação</th>\n",
       "      <th>Inciso</th>\n",
       "      <th>Amparo</th>\n",
       "      <th>Referência de Dispensa ou Inexigibilidade</th>\n",
       "      <th>Código Convênio</th>\n",
       "      <th>Contrato de Repasse / Termo de Parceria / Outros</th>\n",
       "      <th>Valor Original do Empenho</th>\n",
       "      <th>Valor do Empenho Convertido pra R$</th>\n",
       "      <th>Valor Utilizado na Conversão</th>\n",
       "    </tr>\n",
       "  </thead>\n",
       "  <tbody>\n",
       "    <tr>\n",
       "      <th>0</th>\n",
       "      <td>562398898</td>\n",
       "      <td>170177000012024NE000160</td>\n",
       "      <td>2024NE000160</td>\n",
       "      <td>01/01/2024</td>\n",
       "      <td>NE</td>\n",
       "      <td>Nota de Empenho</td>\n",
       "      <td>Estimativo</td>\n",
       "      <td>Não se aplica</td>\n",
       "      <td>25000</td>\n",
       "      <td>Ministério da Fazenda</td>\n",
       "      <td>25000</td>\n",
       "      <td>Ministério da Fazenda - Unidades com víncul</td>\n",
       "      <td>170177</td>\n",
       "      <td>SUPERINTENDENCIA REGIONAL DA RFB NA 10A RF</td>\n",
       "      <td>1</td>\n",
       "      <td>TESOURO NACIONAL</td>\n",
       "      <td>90180605000102</td>\n",
       "      <td>GENTE SEGURADORA SA</td>\n",
       "      <td>PAGAMENTO DE DESPESAS COM CONTRATACAO SE SEGUR...</td>\n",
       "      <td>1</td>\n",
       "      <td>Orçamento Fiscal</td>\n",
       "      <td>A</td>\n",
       "      <td>INICIAL (LOA)</td>\n",
       "      <td>1</td>\n",
       "      <td>Recursos Do Tesouro - Exercicio Corrente</td>\n",
       "      <td>3</td>\n",
       "      <td>TRANSF.DO IMP.DE RENDA AOS MUNIC.-REF.TRIBUT.</td>\n",
       "      <td>25103</td>\n",
       "      <td>SEC ESPECIAL DA RECEITA FEDERAL DO BRASIL</td>\n",
       "      <td>4</td>\n",
       "      <td>Administração</td>\n",
       "      <td>122</td>\n",
       "      <td>Administração geral</td>\n",
       "      <td>32</td>\n",
       "      <td>PROGRAMA DE GESTAO E MANUTENCAO DO PODER EXECU...</td>\n",
       "      <td>2000</td>\n",
       "      <td>ADMINISTRACAO DA UNIDADE</td>\n",
       "      <td>Administração de unidade</td>\n",
       "      <td>20000001</td>\n",
       "      <td>ADMINISTRACAO DA UNIDADE       - NACIONAL</td>\n",
       "      <td>2</td>\n",
       "      <td>ADMINISTRACAO DA UNIDADE - RFB</td>\n",
       "      <td>0</td>\n",
       "      <td>Sem informação</td>\n",
       "      <td>SEM EMENDA</td>\n",
       "      <td>3</td>\n",
       "      <td>DESPESAS CORRENTES</td>\n",
       "      <td>3</td>\n",
       "      <td>Outras Despesas Correntes</td>\n",
       "      <td>90</td>\n",
       "      <td>Aplicações Diretas</td>\n",
       "      <td>39</td>\n",
       "      <td>Outros Serviços de Terceiros - Pessoa Juríd</td>\n",
       "      <td>11000.756909/2023-37</td>\n",
       "      <td>Pregão</td>\n",
       "      <td>SI</td>\n",
       "      <td>LEI 10.520 / 2002</td>\n",
       "      <td>-2</td>\n",
       "      <td>-1</td>\n",
       "      <td>NAO SE APLICA</td>\n",
       "      <td>10,00</td>\n",
       "      <td>10,00</td>\n",
       "      <td>1,0000</td>\n",
       "    </tr>\n",
       "    <tr>\n",
       "      <th>1</th>\n",
       "      <td>562175365</td>\n",
       "      <td>170177000012024NE000086</td>\n",
       "      <td>2024NE000086</td>\n",
       "      <td>01/01/2024</td>\n",
       "      <td>NE</td>\n",
       "      <td>Nota de Empenho</td>\n",
       "      <td>Estimativo</td>\n",
       "      <td>Não se aplica</td>\n",
       "      <td>25000</td>\n",
       "      <td>Ministério da Fazenda</td>\n",
       "      <td>25000</td>\n",
       "      <td>Ministério da Fazenda - Unidades com víncul</td>\n",
       "      <td>170177</td>\n",
       "      <td>SUPERINTENDENCIA REGIONAL DA RFB NA 10A RF</td>\n",
       "      <td>1</td>\n",
       "      <td>TESOURO NACIONAL</td>\n",
       "      <td>28896128000102</td>\n",
       "      <td>GTC COMERCIO DE ARMAS LTDA.</td>\n",
       "      <td>LOCACAO EVENTUAL E TEMPORARIA DE ESTANDE DE TI...</td>\n",
       "      <td>1</td>\n",
       "      <td>Orçamento Fiscal</td>\n",
       "      <td>A</td>\n",
       "      <td>INICIAL (LOA)</td>\n",
       "      <td>1</td>\n",
       "      <td>Recursos Do Tesouro - Exercicio Corrente</td>\n",
       "      <td>3</td>\n",
       "      <td>TRANSF.DO IMP.DE RENDA AOS MUNIC.-REF.TRIBUT.</td>\n",
       "      <td>25103</td>\n",
       "      <td>SEC ESPECIAL DA RECEITA FEDERAL DO BRASIL</td>\n",
       "      <td>4</td>\n",
       "      <td>Administração</td>\n",
       "      <td>122</td>\n",
       "      <td>Administração geral</td>\n",
       "      <td>32</td>\n",
       "      <td>PROGRAMA DE GESTAO E MANUTENCAO DO PODER EXECU...</td>\n",
       "      <td>2000</td>\n",
       "      <td>ADMINISTRACAO DA UNIDADE</td>\n",
       "      <td>Administração de unidade</td>\n",
       "      <td>20000001</td>\n",
       "      <td>ADMINISTRACAO DA UNIDADE       - NACIONAL</td>\n",
       "      <td>2</td>\n",
       "      <td>ADMINISTRACAO DA UNIDADE - RFB</td>\n",
       "      <td>0</td>\n",
       "      <td>Sem informação</td>\n",
       "      <td>SEM EMENDA</td>\n",
       "      <td>3</td>\n",
       "      <td>DESPESAS CORRENTES</td>\n",
       "      <td>3</td>\n",
       "      <td>Outras Despesas Correntes</td>\n",
       "      <td>90</td>\n",
       "      <td>Aplicações Diretas</td>\n",
       "      <td>39</td>\n",
       "      <td>Outros Serviços de Terceiros - Pessoa Juríd</td>\n",
       "      <td>11000.746748/2023-73</td>\n",
       "      <td>Dispensa de Licitação</td>\n",
       "      <td>II</td>\n",
       "      <td>LEI 14.133 / 2021</td>\n",
       "      <td>-2</td>\n",
       "      <td>-1</td>\n",
       "      <td>NAO SE APLICA</td>\n",
       "      <td>10,00</td>\n",
       "      <td>10,00</td>\n",
       "      <td>1,0000</td>\n",
       "    </tr>\n",
       "    <tr>\n",
       "      <th>2</th>\n",
       "      <td>562389008</td>\n",
       "      <td>170177000012024NE000157</td>\n",
       "      <td>2024NE000157</td>\n",
       "      <td>01/01/2024</td>\n",
       "      <td>NE</td>\n",
       "      <td>Nota de Empenho</td>\n",
       "      <td>Global</td>\n",
       "      <td>Não se aplica</td>\n",
       "      <td>25000</td>\n",
       "      <td>Ministério da Fazenda</td>\n",
       "      <td>25000</td>\n",
       "      <td>Ministério da Fazenda - Unidades com víncul</td>\n",
       "      <td>170177</td>\n",
       "      <td>SUPERINTENDENCIA REGIONAL DA RFB NA 10A RF</td>\n",
       "      <td>1</td>\n",
       "      <td>TESOURO NACIONAL</td>\n",
       "      <td>01819869000125</td>\n",
       "      <td>ENTERPRISE COMERCIO DE MATERIAIS PARA EQUIPAME...</td>\n",
       "      <td>EMPENHO PARA MANUTENCAO DE CENTRAL TELEFONICA ...</td>\n",
       "      <td>1</td>\n",
       "      <td>Orçamento Fiscal</td>\n",
       "      <td>A</td>\n",
       "      <td>INICIAL (LOA)</td>\n",
       "      <td>1</td>\n",
       "      <td>Recursos Do Tesouro - Exercicio Corrente</td>\n",
       "      <td>3</td>\n",
       "      <td>TRANSF.DO IMP.DE RENDA AOS MUNIC.-REF.TRIBUT.</td>\n",
       "      <td>25103</td>\n",
       "      <td>SEC ESPECIAL DA RECEITA FEDERAL DO BRASIL</td>\n",
       "      <td>4</td>\n",
       "      <td>Administração</td>\n",
       "      <td>122</td>\n",
       "      <td>Administração geral</td>\n",
       "      <td>32</td>\n",
       "      <td>PROGRAMA DE GESTAO E MANUTENCAO DO PODER EXECU...</td>\n",
       "      <td>2000</td>\n",
       "      <td>ADMINISTRACAO DA UNIDADE</td>\n",
       "      <td>Administração de unidade</td>\n",
       "      <td>20000001</td>\n",
       "      <td>ADMINISTRACAO DA UNIDADE       - NACIONAL</td>\n",
       "      <td>2</td>\n",
       "      <td>ADMINISTRACAO DA UNIDADE - RFB</td>\n",
       "      <td>0</td>\n",
       "      <td>Sem informação</td>\n",
       "      <td>SEM EMENDA</td>\n",
       "      <td>3</td>\n",
       "      <td>DESPESAS CORRENTES</td>\n",
       "      <td>3</td>\n",
       "      <td>Outras Despesas Correntes</td>\n",
       "      <td>90</td>\n",
       "      <td>Aplicações Diretas</td>\n",
       "      <td>39</td>\n",
       "      <td>Outros Serviços de Terceiros - Pessoa Juríd</td>\n",
       "      <td>11050.721089/2018-18</td>\n",
       "      <td>Pregão</td>\n",
       "      <td>SI</td>\n",
       "      <td>LEI 10.520 / 2002</td>\n",
       "      <td>-2</td>\n",
       "      <td>-1</td>\n",
       "      <td>NAO SE APLICA</td>\n",
       "      <td>872,43</td>\n",
       "      <td>872,43</td>\n",
       "      <td>1,0000</td>\n",
       "    </tr>\n",
       "    <tr>\n",
       "      <th>3</th>\n",
       "      <td>562162748</td>\n",
       "      <td>170177000012024NE000017</td>\n",
       "      <td>2024NE000017</td>\n",
       "      <td>01/01/2024</td>\n",
       "      <td>NE</td>\n",
       "      <td>Nota de Empenho</td>\n",
       "      <td>Estimativo</td>\n",
       "      <td>Não se aplica</td>\n",
       "      <td>25000</td>\n",
       "      <td>Ministério da Fazenda</td>\n",
       "      <td>25000</td>\n",
       "      <td>Ministério da Fazenda - Unidades com víncul</td>\n",
       "      <td>170177</td>\n",
       "      <td>SUPERINTENDENCIA REGIONAL DA RFB NA 10A RF</td>\n",
       "      <td>1</td>\n",
       "      <td>TESOURO NACIONAL</td>\n",
       "      <td>40432544000147</td>\n",
       "      <td>CLARO S.A.</td>\n",
       "      <td>EMPENHO PARA ATENDER DESPESA COM TELEFONIA MOD...</td>\n",
       "      <td>1</td>\n",
       "      <td>Orçamento Fiscal</td>\n",
       "      <td>A</td>\n",
       "      <td>INICIAL (LOA)</td>\n",
       "      <td>1</td>\n",
       "      <td>Recursos Do Tesouro - Exercicio Corrente</td>\n",
       "      <td>3</td>\n",
       "      <td>TRANSF.DO IMP.DE RENDA AOS MUNIC.-REF.TRIBUT.</td>\n",
       "      <td>25103</td>\n",
       "      <td>SEC ESPECIAL DA RECEITA FEDERAL DO BRASIL</td>\n",
       "      <td>4</td>\n",
       "      <td>Administração</td>\n",
       "      <td>122</td>\n",
       "      <td>Administração geral</td>\n",
       "      <td>32</td>\n",
       "      <td>PROGRAMA DE GESTAO E MANUTENCAO DO PODER EXECU...</td>\n",
       "      <td>2000</td>\n",
       "      <td>ADMINISTRACAO DA UNIDADE</td>\n",
       "      <td>Administração de unidade</td>\n",
       "      <td>20000001</td>\n",
       "      <td>ADMINISTRACAO DA UNIDADE       - NACIONAL</td>\n",
       "      <td>2</td>\n",
       "      <td>ADMINISTRACAO DA UNIDADE - RFB</td>\n",
       "      <td>0</td>\n",
       "      <td>Sem informação</td>\n",
       "      <td>SEM EMENDA</td>\n",
       "      <td>3</td>\n",
       "      <td>DESPESAS CORRENTES</td>\n",
       "      <td>3</td>\n",
       "      <td>Outras Despesas Correntes</td>\n",
       "      <td>90</td>\n",
       "      <td>Aplicações Diretas</td>\n",
       "      <td>39</td>\n",
       "      <td>Outros Serviços de Terceiros - Pessoa Juríd</td>\n",
       "      <td>13005.720055/2019-50</td>\n",
       "      <td>Pregão</td>\n",
       "      <td>SI</td>\n",
       "      <td>LEI 10.520 / 2002</td>\n",
       "      <td>-2</td>\n",
       "      <td>-1</td>\n",
       "      <td>NAO SE APLICA</td>\n",
       "      <td>10,00</td>\n",
       "      <td>10,00</td>\n",
       "      <td>1,0000</td>\n",
       "    </tr>\n",
       "  </tbody>\n",
       "</table>\n",
       "</div>"
      ],
      "text/plain": [
       "   Id Empenho           Código Empenho Código Empenho Resumido Data Emissão  \\\n",
       "0   562398898  170177000012024NE000160            2024NE000160   01/01/2024   \n",
       "1   562175365  170177000012024NE000086            2024NE000086   01/01/2024   \n",
       "2   562389008  170177000012024NE000157            2024NE000157   01/01/2024   \n",
       "3   562162748  170177000012024NE000017            2024NE000017   01/01/2024   \n",
       "\n",
       "  Código Tipo Documento   Tipo Documento Tipo Empenho Espécie Empenho  \\\n",
       "0                    NE  Nota de Empenho   Estimativo   Não se aplica   \n",
       "1                    NE  Nota de Empenho   Estimativo   Não se aplica   \n",
       "2                    NE  Nota de Empenho       Global   Não se aplica   \n",
       "3                    NE  Nota de Empenho   Estimativo   Não se aplica   \n",
       "\n",
       "   Código Órgão Superior         Órgão Superior  Código Órgão  \\\n",
       "0                  25000  Ministério da Fazenda         25000   \n",
       "1                  25000  Ministério da Fazenda         25000   \n",
       "2                  25000  Ministério da Fazenda         25000   \n",
       "3                  25000  Ministério da Fazenda         25000   \n",
       "\n",
       "                                         Órgão  Código Unidade Gestora  \\\n",
       "0  Ministério da Fazenda - Unidades com víncul                  170177   \n",
       "1  Ministério da Fazenda - Unidades com víncul                  170177   \n",
       "2  Ministério da Fazenda - Unidades com víncul                  170177   \n",
       "3  Ministério da Fazenda - Unidades com víncul                  170177   \n",
       "\n",
       "                              Unidade Gestora  Código Gestão  \\\n",
       "0  SUPERINTENDENCIA REGIONAL DA RFB NA 10A RF              1   \n",
       "1  SUPERINTENDENCIA REGIONAL DA RFB NA 10A RF              1   \n",
       "2  SUPERINTENDENCIA REGIONAL DA RFB NA 10A RF              1   \n",
       "3  SUPERINTENDENCIA REGIONAL DA RFB NA 10A RF              1   \n",
       "\n",
       "             Gestão Código Favorecido  \\\n",
       "0  TESOURO NACIONAL    90180605000102   \n",
       "1  TESOURO NACIONAL    28896128000102   \n",
       "2  TESOURO NACIONAL    01819869000125   \n",
       "3  TESOURO NACIONAL    40432544000147   \n",
       "\n",
       "                                          Favorecido  \\\n",
       "0                                GENTE SEGURADORA SA   \n",
       "1                        GTC COMERCIO DE ARMAS LTDA.   \n",
       "2  ENTERPRISE COMERCIO DE MATERIAIS PARA EQUIPAME...   \n",
       "3                                         CLARO S.A.   \n",
       "\n",
       "                                          Observação  \\\n",
       "0  PAGAMENTO DE DESPESAS COM CONTRATACAO SE SEGUR...   \n",
       "1  LOCACAO EVENTUAL E TEMPORARIA DE ESTANDE DE TI...   \n",
       "2  EMPENHO PARA MANUTENCAO DE CENTRAL TELEFONICA ...   \n",
       "3  EMPENHO PARA ATENDER DESPESA COM TELEFONIA MOD...   \n",
       "\n",
       "   Código Esfera Orçamentária Esfera Orçamentária Código Tipo Crédito  \\\n",
       "0                           1    Orçamento Fiscal                   A   \n",
       "1                           1    Orçamento Fiscal                   A   \n",
       "2                           1    Orçamento Fiscal                   A   \n",
       "3                           1    Orçamento Fiscal                   A   \n",
       "\n",
       "    Tipo Crédito  Código Grupo Fonte Recurso  \\\n",
       "0  INICIAL (LOA)                           1   \n",
       "1  INICIAL (LOA)                           1   \n",
       "2  INICIAL (LOA)                           1   \n",
       "3  INICIAL (LOA)                           1   \n",
       "\n",
       "                        Grupo Fonte Recurso  Código Fonte Recurso  \\\n",
       "0  Recursos Do Tesouro - Exercicio Corrente                     3   \n",
       "1  Recursos Do Tesouro - Exercicio Corrente                     3   \n",
       "2  Recursos Do Tesouro - Exercicio Corrente                     3   \n",
       "3  Recursos Do Tesouro - Exercicio Corrente                     3   \n",
       "\n",
       "                                   Fonte Recurso  Código Unidade Orçamentária  \\\n",
       "0  TRANSF.DO IMP.DE RENDA AOS MUNIC.-REF.TRIBUT.                        25103   \n",
       "1  TRANSF.DO IMP.DE RENDA AOS MUNIC.-REF.TRIBUT.                        25103   \n",
       "2  TRANSF.DO IMP.DE RENDA AOS MUNIC.-REF.TRIBUT.                        25103   \n",
       "3  TRANSF.DO IMP.DE RENDA AOS MUNIC.-REF.TRIBUT.                        25103   \n",
       "\n",
       "                        Unidade Orçamentária  Código Função         Função  \\\n",
       "0  SEC ESPECIAL DA RECEITA FEDERAL DO BRASIL              4  Administração   \n",
       "1  SEC ESPECIAL DA RECEITA FEDERAL DO BRASIL              4  Administração   \n",
       "2  SEC ESPECIAL DA RECEITA FEDERAL DO BRASIL              4  Administração   \n",
       "3  SEC ESPECIAL DA RECEITA FEDERAL DO BRASIL              4  Administração   \n",
       "\n",
       "   Código SubFunção            SubFunção  Código Programa  \\\n",
       "0               122  Administração geral               32   \n",
       "1               122  Administração geral               32   \n",
       "2               122  Administração geral               32   \n",
       "3               122  Administração geral               32   \n",
       "\n",
       "                                            Programa Código Ação  \\\n",
       "0  PROGRAMA DE GESTAO E MANUTENCAO DO PODER EXECU...        2000   \n",
       "1  PROGRAMA DE GESTAO E MANUTENCAO DO PODER EXECU...        2000   \n",
       "2  PROGRAMA DE GESTAO E MANUTENCAO DO PODER EXECU...        2000   \n",
       "3  PROGRAMA DE GESTAO E MANUTENCAO DO PODER EXECU...        2000   \n",
       "\n",
       "                       Ação          Linguagem Cidadã  \\\n",
       "0  ADMINISTRACAO DA UNIDADE  Administração de unidade   \n",
       "1  ADMINISTRACAO DA UNIDADE  Administração de unidade   \n",
       "2  ADMINISTRACAO DA UNIDADE  Administração de unidade   \n",
       "3  ADMINISTRACAO DA UNIDADE  Administração de unidade   \n",
       "\n",
       "  Código Subtítulo (Localizador)                    Subtítulo (Localizador)  \\\n",
       "0                       20000001  ADMINISTRACAO DA UNIDADE       - NACIONAL   \n",
       "1                       20000001  ADMINISTRACAO DA UNIDADE       - NACIONAL   \n",
       "2                       20000001  ADMINISTRACAO DA UNIDADE       - NACIONAL   \n",
       "3                       20000001  ADMINISTRACAO DA UNIDADE       - NACIONAL   \n",
       "\n",
       "   Código Plano Orçamentário              Plano Orçamentário  \\\n",
       "0                          2  ADMINISTRACAO DA UNIDADE - RFB   \n",
       "1                          2  ADMINISTRACAO DA UNIDADE - RFB   \n",
       "2                          2  ADMINISTRACAO DA UNIDADE - RFB   \n",
       "3                          2  ADMINISTRACAO DA UNIDADE - RFB   \n",
       "\n",
       "   Código Programa Governo Nome Programa Governo Autor Emenda  \\\n",
       "0                        0        Sem informação   SEM EMENDA   \n",
       "1                        0        Sem informação   SEM EMENDA   \n",
       "2                        0        Sem informação   SEM EMENDA   \n",
       "3                        0        Sem informação   SEM EMENDA   \n",
       "\n",
       "   Código Categoria de Despesa Categoria de Despesa  Código Grupo de Despesa  \\\n",
       "0                            3   DESPESAS CORRENTES                        3   \n",
       "1                            3   DESPESAS CORRENTES                        3   \n",
       "2                            3   DESPESAS CORRENTES                        3   \n",
       "3                            3   DESPESAS CORRENTES                        3   \n",
       "\n",
       "            Grupo de Despesa  Código Modalidade de Aplicação  \\\n",
       "0  Outras Despesas Correntes                              90   \n",
       "1  Outras Despesas Correntes                              90   \n",
       "2  Outras Despesas Correntes                              90   \n",
       "3  Outras Despesas Correntes                              90   \n",
       "\n",
       "  Modalidade de Aplicação  Código Elemento de Despesa  \\\n",
       "0      Aplicações Diretas                          39   \n",
       "1      Aplicações Diretas                          39   \n",
       "2      Aplicações Diretas                          39   \n",
       "3      Aplicações Diretas                          39   \n",
       "\n",
       "                           Elemento de Despesa              Processo  \\\n",
       "0  Outros Serviços de Terceiros - Pessoa Juríd  11000.756909/2023-37   \n",
       "1  Outros Serviços de Terceiros - Pessoa Juríd  11000.746748/2023-73   \n",
       "2  Outros Serviços de Terceiros - Pessoa Juríd  11050.721089/2018-18   \n",
       "3  Outros Serviços de Terceiros - Pessoa Juríd  13005.720055/2019-50   \n",
       "\n",
       "  Modalidade de Licitação Inciso             Amparo  \\\n",
       "0                  Pregão     SI  LEI 10.520 / 2002   \n",
       "1   Dispensa de Licitação     II  LEI 14.133 / 2021   \n",
       "2                  Pregão     SI  LEI 10.520 / 2002   \n",
       "3                  Pregão     SI  LEI 10.520 / 2002   \n",
       "\n",
       "   Referência de Dispensa ou Inexigibilidade  Código Convênio  \\\n",
       "0                                         -2               -1   \n",
       "1                                         -2               -1   \n",
       "2                                         -2               -1   \n",
       "3                                         -2               -1   \n",
       "\n",
       "  Contrato de Repasse / Termo de Parceria / Outros Valor Original do Empenho  \\\n",
       "0                                    NAO SE APLICA                     10,00   \n",
       "1                                    NAO SE APLICA                     10,00   \n",
       "2                                    NAO SE APLICA                    872,43   \n",
       "3                                    NAO SE APLICA                     10,00   \n",
       "\n",
       "  Valor do Empenho Convertido pra R$ Valor Utilizado na Conversão  \n",
       "0                              10,00                       1,0000  \n",
       "1                              10,00                       1,0000  \n",
       "2                             872,43                       1,0000  \n",
       "3                              10,00                       1,0000  "
      ]
     },
     "metadata": {},
     "output_type": "display_data"
    }
   ],
   "source": [
    "nome_arquivo = '20240101_Despesas/20240101_Despesas_Empenho.csv'\n",
    "caminho_arquivo = caminho_pasta + nome_arquivo\n",
    "\n",
    "df_empenho = pd.read_csv(caminho_arquivo, delimiter=';', encoding='latin1')\n",
    "\n",
    "df_empenho_rfb = df_empenho[df_empenho['Unidade Gestora'].str.contains('rfb', case=False, na=False)]\n",
    "\n",
    "#df_empenho_rfb_colunas = df_empenho_rfb[colunas_desejadas]\n",
    "\n",
    "# Listar unidades únicas na coluna\n",
    "elemento_despesa = df_empenho_rfb['Elemento de Despesa'].value_counts().reset_index()\n",
    "\n",
    "# Exibir todas as linhas temporariamente\n",
    "with pd.option_context('display.max_rows', None):\n",
    "    display(elemento_despesa)\n",
    "\n",
    "# Listar unidades únicas na coluna\n",
    "valor_reais = df_empenho_rfb['Valor do Empenho Convertido pra R$'].value_counts().reset_index()\n",
    "\n",
    "# Exibir todas as linhas temporariamente\n",
    "with pd.option_context('display.max_rows', None):\n",
    "    display(valor_reais)\n",
    "\n",
    "display(df_empenho_rfb)"
   ]
  },
  {
   "cell_type": "code",
   "execution_count": 14,
   "id": "8c8e20ca-928e-4c51-aec7-747227789ee9",
   "metadata": {},
   "outputs": [
    {
     "data": {
      "text/plain": [
       "Unidade Gestora\n",
       "INSTITUTO NACIONAL DE EDUCACAO DE SURDOS-RJ    14\n",
       "INST.FED.DE EDUC.,CIENC.E TEC.FLUMINENSE        5\n",
       "                                               ..\n",
       "COMPANHIA DE PESQUISA DE RECURSOS MINERAIS      1\n",
       "INST.FED.TRIANGULO MINEIRO/CAMPUS UBERABA       1\n",
       "Name: count, Length: 9, dtype: int64"
      ]
     },
     "execution_count": 14,
     "metadata": {},
     "output_type": "execute_result"
    }
   ],
   "source": [
    "df_empenho['Unidade Gestora'].value_counts()"
   ]
  },
  {
   "cell_type": "code",
   "execution_count": 15,
   "id": "88cc0e3f-d3b9-4bb8-b0a0-a26a86b08329",
   "metadata": {},
   "outputs": [
    {
     "data": {
      "text/html": [
       "<div>\n",
       "<style scoped>\n",
       "    .dataframe tbody tr th:only-of-type {\n",
       "        vertical-align: middle;\n",
       "    }\n",
       "\n",
       "    .dataframe tbody tr th {\n",
       "        vertical-align: top;\n",
       "    }\n",
       "\n",
       "    .dataframe thead th {\n",
       "        text-align: right;\n",
       "    }\n",
       "</style>\n",
       "<table border=\"1\" class=\"dataframe\">\n",
       "  <thead>\n",
       "    <tr style=\"text-align: right;\">\n",
       "      <th></th>\n",
       "      <th>Código Pagamento</th>\n",
       "      <th>Código Pagamento Resumido</th>\n",
       "      <th>Data Emissão</th>\n",
       "      <th>Código Tipo Documento</th>\n",
       "      <th>Tipo Documento</th>\n",
       "      <th>Tipo OB</th>\n",
       "      <th>Extraorçamentário</th>\n",
       "      <th>Código Órgão Superior</th>\n",
       "      <th>Órgão Superior</th>\n",
       "      <th>Código Órgão</th>\n",
       "      <th>Órgão</th>\n",
       "      <th>Código Unidade Gestora</th>\n",
       "      <th>Unidade Gestora</th>\n",
       "      <th>Código Gestão</th>\n",
       "      <th>Gestão</th>\n",
       "      <th>Código Favorecido</th>\n",
       "      <th>Favorecido</th>\n",
       "      <th>Observação</th>\n",
       "      <th>Processo</th>\n",
       "      <th>Código Categoria de Despesa</th>\n",
       "      <th>Categoria de Despesa</th>\n",
       "      <th>Código Grupo de Despesa</th>\n",
       "      <th>Grupo de Despesa</th>\n",
       "      <th>Código Modalidade de Aplicação</th>\n",
       "      <th>Modalidade de Aplicação</th>\n",
       "      <th>Código Elemento de Despesa</th>\n",
       "      <th>Elemento de Despesa</th>\n",
       "      <th>Código Plano Orçamentário</th>\n",
       "      <th>Plano Orçamentário</th>\n",
       "      <th>Código Programa Governo</th>\n",
       "      <th>Nome Programa Governo</th>\n",
       "      <th>Valor Original do Pagamento</th>\n",
       "      <th>Valor do Pagamento Convertido pra R$</th>\n",
       "      <th>Valor Utilizado na Conversão</th>\n",
       "    </tr>\n",
       "  </thead>\n",
       "  <tbody>\n",
       "  </tbody>\n",
       "</table>\n",
       "</div>"
      ],
      "text/plain": [
       "Empty DataFrame\n",
       "Columns: [Código Pagamento, Código Pagamento Resumido, Data Emissão, Código Tipo Documento, Tipo Documento, Tipo OB, Extraorçamentário, Código Órgão Superior, Órgão Superior, Código Órgão, Órgão, Código Unidade Gestora, Unidade Gestora, Código Gestão, Gestão, Código Favorecido, Favorecido, Observação, Processo, Código Categoria de Despesa, Categoria de Despesa, Código Grupo de Despesa, Grupo de Despesa, Código Modalidade de Aplicação, Modalidade de Aplicação, Código Elemento de Despesa, Elemento de Despesa, Código Plano Orçamentário, Plano Orçamentário, Código Programa Governo, Nome Programa Governo, Valor Original do Pagamento, Valor do Pagamento Convertido pra R$, Valor Utilizado na Conversão]\n",
       "Index: []"
      ]
     },
     "metadata": {},
     "output_type": "display_data"
    }
   ],
   "source": [
    "nome_arquivo = '20240101_Despesas/20240101_Despesas_Pagamento.csv'\n",
    "caminho_arquivo = caminho_pasta + nome_arquivo\n",
    "\n",
    "df_pagamento = pd.read_csv(caminho_arquivo, delimiter=';', encoding='latin1')\n",
    "\n",
    "#df_pagamento_rfb = df_pagamento[df_pagamento['Unidade Gestora'].str.contains('rfb', case=False, na=False)]\n",
    "\n",
    "#df_pagamento_rfb_colunas = df_pagamento_rfb[colunas_desejadas]\n",
    "\n",
    "display(df_pagamento)"
   ]
  },
  {
   "cell_type": "code",
   "execution_count": 16,
   "id": "746daff1-cde6-4103-abac-97fa79f095f1",
   "metadata": {},
   "outputs": [
    {
     "data": {
      "text/html": [
       "<div>\n",
       "<style scoped>\n",
       "    .dataframe tbody tr th:only-of-type {\n",
       "        vertical-align: middle;\n",
       "    }\n",
       "\n",
       "    .dataframe tbody tr th {\n",
       "        vertical-align: top;\n",
       "    }\n",
       "\n",
       "    .dataframe thead th {\n",
       "        text-align: right;\n",
       "    }\n",
       "</style>\n",
       "<table border=\"1\" class=\"dataframe\">\n",
       "  <thead>\n",
       "    <tr style=\"text-align: right;\">\n",
       "      <th></th>\n",
       "      <th>Elemento de Despesa</th>\n",
       "      <th>count</th>\n",
       "    </tr>\n",
       "  </thead>\n",
       "  <tbody>\n",
       "    <tr>\n",
       "      <th>0</th>\n",
       "      <td>Outros Serviços de Terceiros - Pessoa Juríd</td>\n",
       "      <td>11</td>\n",
       "    </tr>\n",
       "    <tr>\n",
       "      <th>1</th>\n",
       "      <td>Locação de Mão-de-Obra</td>\n",
       "      <td>6</td>\n",
       "    </tr>\n",
       "    <tr>\n",
       "      <th>2</th>\n",
       "      <td>Indenizações e Restituições</td>\n",
       "      <td>3</td>\n",
       "    </tr>\n",
       "    <tr>\n",
       "      <th>3</th>\n",
       "      <td>Múltiplo</td>\n",
       "      <td>2</td>\n",
       "    </tr>\n",
       "    <tr>\n",
       "      <th>4</th>\n",
       "      <td>Sem informação</td>\n",
       "      <td>2</td>\n",
       "    </tr>\n",
       "    <tr>\n",
       "      <th>5</th>\n",
       "      <td>Serviços de Tecnologia da Informação e Com</td>\n",
       "      <td>1</td>\n",
       "    </tr>\n",
       "  </tbody>\n",
       "</table>\n",
       "</div>"
      ],
      "text/plain": [
       "                           Elemento de Despesa  count\n",
       "0  Outros Serviços de Terceiros - Pessoa Juríd     11\n",
       "1                       Locação de Mão-de-Obra      6\n",
       "2                  Indenizações e Restituições      3\n",
       "3                                     Múltiplo      2\n",
       "4                               Sem informação      2\n",
       "5   Serviços de Tecnologia da Informação e Com      1"
      ]
     },
     "metadata": {},
     "output_type": "display_data"
    },
    {
     "data": {
      "text/html": [
       "<div>\n",
       "<style scoped>\n",
       "    .dataframe tbody tr th:only-of-type {\n",
       "        vertical-align: middle;\n",
       "    }\n",
       "\n",
       "    .dataframe tbody tr th {\n",
       "        vertical-align: top;\n",
       "    }\n",
       "\n",
       "    .dataframe thead th {\n",
       "        text-align: right;\n",
       "    }\n",
       "</style>\n",
       "<table border=\"1\" class=\"dataframe\">\n",
       "  <thead>\n",
       "    <tr style=\"text-align: right;\">\n",
       "      <th></th>\n",
       "      <th>Valor do Pagamento Convertido pra R$</th>\n",
       "      <th>count</th>\n",
       "    </tr>\n",
       "  </thead>\n",
       "  <tbody>\n",
       "    <tr>\n",
       "      <th>0</th>\n",
       "      <td>11607,35</td>\n",
       "      <td>2</td>\n",
       "    </tr>\n",
       "    <tr>\n",
       "      <th>1</th>\n",
       "      <td>199,00</td>\n",
       "      <td>1</td>\n",
       "    </tr>\n",
       "    <tr>\n",
       "      <th>2</th>\n",
       "      <td>2303,21</td>\n",
       "      <td>1</td>\n",
       "    </tr>\n",
       "    <tr>\n",
       "      <th>3</th>\n",
       "      <td>4059,07</td>\n",
       "      <td>1</td>\n",
       "    </tr>\n",
       "    <tr>\n",
       "      <th>4</th>\n",
       "      <td>1894,01</td>\n",
       "      <td>1</td>\n",
       "    </tr>\n",
       "    <tr>\n",
       "      <th>5</th>\n",
       "      <td>1118,79</td>\n",
       "      <td>1</td>\n",
       "    </tr>\n",
       "    <tr>\n",
       "      <th>6</th>\n",
       "      <td>1190,97</td>\n",
       "      <td>1</td>\n",
       "    </tr>\n",
       "    <tr>\n",
       "      <th>7</th>\n",
       "      <td>3453,21</td>\n",
       "      <td>1</td>\n",
       "    </tr>\n",
       "    <tr>\n",
       "      <th>8</th>\n",
       "      <td>1154,88</td>\n",
       "      <td>1</td>\n",
       "    </tr>\n",
       "    <tr>\n",
       "      <th>9</th>\n",
       "      <td>1263,15</td>\n",
       "      <td>1</td>\n",
       "    </tr>\n",
       "    <tr>\n",
       "      <th>10</th>\n",
       "      <td>62875,42</td>\n",
       "      <td>1</td>\n",
       "    </tr>\n",
       "    <tr>\n",
       "      <th>11</th>\n",
       "      <td>8655,47</td>\n",
       "      <td>1</td>\n",
       "    </tr>\n",
       "    <tr>\n",
       "      <th>12</th>\n",
       "      <td>2606,42</td>\n",
       "      <td>1</td>\n",
       "    </tr>\n",
       "    <tr>\n",
       "      <th>13</th>\n",
       "      <td>3551,76</td>\n",
       "      <td>1</td>\n",
       "    </tr>\n",
       "    <tr>\n",
       "      <th>14</th>\n",
       "      <td>12057,83</td>\n",
       "      <td>1</td>\n",
       "    </tr>\n",
       "    <tr>\n",
       "      <th>15</th>\n",
       "      <td>228,44</td>\n",
       "      <td>1</td>\n",
       "    </tr>\n",
       "    <tr>\n",
       "      <th>16</th>\n",
       "      <td>915,95</td>\n",
       "      <td>1</td>\n",
       "    </tr>\n",
       "    <tr>\n",
       "      <th>17</th>\n",
       "      <td>364,22</td>\n",
       "      <td>1</td>\n",
       "    </tr>\n",
       "    <tr>\n",
       "      <th>18</th>\n",
       "      <td>159,69</td>\n",
       "      <td>1</td>\n",
       "    </tr>\n",
       "    <tr>\n",
       "      <th>19</th>\n",
       "      <td>296,54</td>\n",
       "      <td>1</td>\n",
       "    </tr>\n",
       "    <tr>\n",
       "      <th>20</th>\n",
       "      <td>117,06</td>\n",
       "      <td>1</td>\n",
       "    </tr>\n",
       "    <tr>\n",
       "      <th>21</th>\n",
       "      <td>194266,91</td>\n",
       "      <td>1</td>\n",
       "    </tr>\n",
       "    <tr>\n",
       "      <th>22</th>\n",
       "      <td>-279388,81</td>\n",
       "      <td>1</td>\n",
       "    </tr>\n",
       "    <tr>\n",
       "      <th>23</th>\n",
       "      <td>-49195,31</td>\n",
       "      <td>1</td>\n",
       "    </tr>\n",
       "  </tbody>\n",
       "</table>\n",
       "</div>"
      ],
      "text/plain": [
       "   Valor do Pagamento Convertido pra R$  count\n",
       "0                              11607,35      2\n",
       "1                                199,00      1\n",
       "2                               2303,21      1\n",
       "3                               4059,07      1\n",
       "4                               1894,01      1\n",
       "5                               1118,79      1\n",
       "6                               1190,97      1\n",
       "7                               3453,21      1\n",
       "8                               1154,88      1\n",
       "9                               1263,15      1\n",
       "10                             62875,42      1\n",
       "11                              8655,47      1\n",
       "12                              2606,42      1\n",
       "13                              3551,76      1\n",
       "14                             12057,83      1\n",
       "15                               228,44      1\n",
       "16                               915,95      1\n",
       "17                               364,22      1\n",
       "18                               159,69      1\n",
       "19                               296,54      1\n",
       "20                               117,06      1\n",
       "21                            194266,91      1\n",
       "22                           -279388,81      1\n",
       "23                            -49195,31      1"
      ]
     },
     "metadata": {},
     "output_type": "display_data"
    },
    {
     "data": {
      "text/html": [
       "<div>\n",
       "<style scoped>\n",
       "    .dataframe tbody tr th:only-of-type {\n",
       "        vertical-align: middle;\n",
       "    }\n",
       "\n",
       "    .dataframe tbody tr th {\n",
       "        vertical-align: top;\n",
       "    }\n",
       "\n",
       "    .dataframe thead th {\n",
       "        text-align: right;\n",
       "    }\n",
       "</style>\n",
       "<table border=\"1\" class=\"dataframe\">\n",
       "  <thead>\n",
       "    <tr style=\"text-align: right;\">\n",
       "      <th></th>\n",
       "      <th>Código Pagamento</th>\n",
       "      <th>Código Pagamento Resumido</th>\n",
       "      <th>Data Emissão</th>\n",
       "      <th>Código Tipo Documento</th>\n",
       "      <th>Tipo Documento</th>\n",
       "      <th>Tipo OB</th>\n",
       "      <th>Extraorçamentário</th>\n",
       "      <th>Código Órgão Superior</th>\n",
       "      <th>Órgão Superior</th>\n",
       "      <th>Código Órgão</th>\n",
       "      <th>Órgão</th>\n",
       "      <th>Código Unidade Gestora</th>\n",
       "      <th>Unidade Gestora</th>\n",
       "      <th>Código Gestão</th>\n",
       "      <th>Gestão</th>\n",
       "      <th>Código Favorecido</th>\n",
       "      <th>Favorecido</th>\n",
       "      <th>Observação</th>\n",
       "      <th>Processo</th>\n",
       "      <th>Código Categoria de Despesa</th>\n",
       "      <th>Categoria de Despesa</th>\n",
       "      <th>Código Grupo de Despesa</th>\n",
       "      <th>Grupo de Despesa</th>\n",
       "      <th>Código Modalidade de Aplicação</th>\n",
       "      <th>Modalidade de Aplicação</th>\n",
       "      <th>Código Elemento de Despesa</th>\n",
       "      <th>Elemento de Despesa</th>\n",
       "      <th>Código Plano Orçamentário</th>\n",
       "      <th>Plano Orçamentário</th>\n",
       "      <th>Código Programa Governo</th>\n",
       "      <th>Nome Programa Governo</th>\n",
       "      <th>Valor Original do Pagamento</th>\n",
       "      <th>Valor do Pagamento Convertido pra R$</th>\n",
       "      <th>Valor Utilizado na Conversão</th>\n",
       "    </tr>\n",
       "  </thead>\n",
       "  <tbody>\n",
       "    <tr>\n",
       "      <th>679</th>\n",
       "      <td>170018000012024OB000002</td>\n",
       "      <td>2024OB000002</td>\n",
       "      <td>02/01/2024</td>\n",
       "      <td>OB</td>\n",
       "      <td>Ordem Bancária</td>\n",
       "      <td>OBC PARA TERCEIROS NO MESMO BANCO</td>\n",
       "      <td>NÃO</td>\n",
       "      <td>25000</td>\n",
       "      <td>Ministério da Fazenda</td>\n",
       "      <td>25000</td>\n",
       "      <td>Ministério da Fazenda - Unidades com víncul</td>\n",
       "      <td>170018</td>\n",
       "      <td>SUPERINTENDENCIA REGIONAL DA RFB NA 1A RF</td>\n",
       "      <td>1</td>\n",
       "      <td>TESOURO NACIONAL</td>\n",
       "      <td>***.930.337-**</td>\n",
       "      <td>RAPHAEL EUGENIO DE SOUZA</td>\n",
       "      <td>RESSARCIMENTO POR VALORES PAGOS PELO SERVIDOR,...</td>\n",
       "      <td>10265.014355/2023-23</td>\n",
       "      <td>3</td>\n",
       "      <td>DESPESAS CORRENTES</td>\n",
       "      <td>3</td>\n",
       "      <td>Outras Despesas Correntes</td>\n",
       "      <td>90</td>\n",
       "      <td>Aplicações Diretas</td>\n",
       "      <td>93</td>\n",
       "      <td>Indenizações e Restituições</td>\n",
       "      <td>0002</td>\n",
       "      <td>ADMINISTRACAO DA UNIDADE - RFB</td>\n",
       "      <td>00</td>\n",
       "      <td>Sem informação</td>\n",
       "      <td>199,00</td>\n",
       "      <td>199,00</td>\n",
       "      <td>1,0000</td>\n",
       "    </tr>\n",
       "    <tr>\n",
       "      <th>682</th>\n",
       "      <td>170156000012024DR800003</td>\n",
       "      <td>2024DR800003</td>\n",
       "      <td>02/01/2024</td>\n",
       "      <td>DR</td>\n",
       "      <td>Documento de Arrecadação Municipal</td>\n",
       "      <td>Não se aplica</td>\n",
       "      <td>NÃO</td>\n",
       "      <td>25000</td>\n",
       "      <td>Ministério da Fazenda</td>\n",
       "      <td>25000</td>\n",
       "      <td>Ministério da Fazenda - Unidades com víncul</td>\n",
       "      <td>170156</td>\n",
       "      <td>SUPERINTENDENCIA REGIONAL DA RFB NA 9A RF</td>\n",
       "      <td>1</td>\n",
       "      <td>TESOURO NACIONAL</td>\n",
       "      <td>09039434000170</td>\n",
       "      <td>EQUIP SEG INTELIGENCIA EM SEGURANCA LTDA</td>\n",
       "      <td>RETENCAO DE ISS - NF 23946 SERIE 0, DE PRESTAC...</td>\n",
       "      <td>NaN</td>\n",
       "      <td>3</td>\n",
       "      <td>DESPESAS CORRENTES</td>\n",
       "      <td>3</td>\n",
       "      <td>Outras Despesas Correntes</td>\n",
       "      <td>90</td>\n",
       "      <td>Aplicações Diretas</td>\n",
       "      <td>37</td>\n",
       "      <td>Locação de Mão-de-Obra</td>\n",
       "      <td>0002</td>\n",
       "      <td>ADMINISTRACAO DA UNIDADE - RFB</td>\n",
       "      <td>00</td>\n",
       "      <td>Sem informação</td>\n",
       "      <td>4059,07</td>\n",
       "      <td>4059,07</td>\n",
       "      <td>1,0000</td>\n",
       "    </tr>\n",
       "    <tr>\n",
       "      <th>...</th>\n",
       "      <td>...</td>\n",
       "      <td>...</td>\n",
       "      <td>...</td>\n",
       "      <td>...</td>\n",
       "      <td>...</td>\n",
       "      <td>...</td>\n",
       "      <td>...</td>\n",
       "      <td>...</td>\n",
       "      <td>...</td>\n",
       "      <td>...</td>\n",
       "      <td>...</td>\n",
       "      <td>...</td>\n",
       "      <td>...</td>\n",
       "      <td>...</td>\n",
       "      <td>...</td>\n",
       "      <td>...</td>\n",
       "      <td>...</td>\n",
       "      <td>...</td>\n",
       "      <td>...</td>\n",
       "      <td>...</td>\n",
       "      <td>...</td>\n",
       "      <td>...</td>\n",
       "      <td>...</td>\n",
       "      <td>...</td>\n",
       "      <td>...</td>\n",
       "      <td>...</td>\n",
       "      <td>...</td>\n",
       "      <td>...</td>\n",
       "      <td>...</td>\n",
       "      <td>...</td>\n",
       "      <td>...</td>\n",
       "      <td>...</td>\n",
       "      <td>...</td>\n",
       "      <td>...</td>\n",
       "    </tr>\n",
       "    <tr>\n",
       "      <th>10377</th>\n",
       "      <td>170040000012024OB000001</td>\n",
       "      <td>2024OB000001</td>\n",
       "      <td>02/01/2024</td>\n",
       "      <td>OB</td>\n",
       "      <td>Ordem Bancária</td>\n",
       "      <td>OBS DE CANCELAMENTO (APOS REMESSA)</td>\n",
       "      <td>NÃO</td>\n",
       "      <td>25000</td>\n",
       "      <td>Ministério da Fazenda</td>\n",
       "      <td>25000</td>\n",
       "      <td>Ministério da Fazenda - Unidades com víncul</td>\n",
       "      <td>170040</td>\n",
       "      <td>SUPERINTENDENCIA REGIONAL DA RFB NA 3A RF</td>\n",
       "      <td>1</td>\n",
       "      <td>TESOURO NACIONAL</td>\n",
       "      <td>27059565000109</td>\n",
       "      <td>FRAPORT BRASIL S.A AEROPORTO DE FORTALEZA</td>\n",
       "      <td>12 - CANCELAMENTO DA 2023OB802295 - POR DOMICI...</td>\n",
       "      <td>-8</td>\n",
       "      <td>-1</td>\n",
       "      <td>Sem informação</td>\n",
       "      <td>-1</td>\n",
       "      <td>Sem informação</td>\n",
       "      <td>-1</td>\n",
       "      <td>Sem informação</td>\n",
       "      <td>-1</td>\n",
       "      <td>Sem informação</td>\n",
       "      <td>-1</td>\n",
       "      <td>Sem informação</td>\n",
       "      <td>-1</td>\n",
       "      <td>Sem informação</td>\n",
       "      <td>-279388,81</td>\n",
       "      <td>-279388,81</td>\n",
       "      <td>1,0000</td>\n",
       "    </tr>\n",
       "    <tr>\n",
       "      <th>14965</th>\n",
       "      <td>170040000012024OB000002</td>\n",
       "      <td>2024OB000002</td>\n",
       "      <td>02/01/2024</td>\n",
       "      <td>OB</td>\n",
       "      <td>Ordem Bancária</td>\n",
       "      <td>OBS DE CANCELAMENTO (APOS REMESSA)</td>\n",
       "      <td>NÃO</td>\n",
       "      <td>25000</td>\n",
       "      <td>Ministério da Fazenda</td>\n",
       "      <td>25000</td>\n",
       "      <td>Ministério da Fazenda - Unidades com víncul</td>\n",
       "      <td>170040</td>\n",
       "      <td>SUPERINTENDENCIA REGIONAL DA RFB NA 3A RF</td>\n",
       "      <td>1</td>\n",
       "      <td>TESOURO NACIONAL</td>\n",
       "      <td>27059565000109</td>\n",
       "      <td>FRAPORT BRASIL S.A AEROPORTO DE FORTALEZA</td>\n",
       "      <td>12 - CANCELAMENTO DA 2023OB802297 - POR DOMICI...</td>\n",
       "      <td>-8</td>\n",
       "      <td>-1</td>\n",
       "      <td>Sem informação</td>\n",
       "      <td>-1</td>\n",
       "      <td>Sem informação</td>\n",
       "      <td>-1</td>\n",
       "      <td>Sem informação</td>\n",
       "      <td>-1</td>\n",
       "      <td>Sem informação</td>\n",
       "      <td>-1</td>\n",
       "      <td>Sem informação</td>\n",
       "      <td>-1</td>\n",
       "      <td>Sem informação</td>\n",
       "      <td>-49195,31</td>\n",
       "      <td>-49195,31</td>\n",
       "      <td>1,0000</td>\n",
       "    </tr>\n",
       "  </tbody>\n",
       "</table>\n",
       "<p>25 rows × 34 columns</p>\n",
       "</div>"
      ],
      "text/plain": [
       "              Código Pagamento Código Pagamento Resumido Data Emissão  \\\n",
       "679    170018000012024OB000002              2024OB000002   02/01/2024   \n",
       "682    170156000012024DR800003              2024DR800003   02/01/2024   \n",
       "...                        ...                       ...          ...   \n",
       "10377  170040000012024OB000001              2024OB000001   02/01/2024   \n",
       "14965  170040000012024OB000002              2024OB000002   02/01/2024   \n",
       "\n",
       "      Código Tipo Documento                      Tipo Documento  \\\n",
       "679                      OB                      Ordem Bancária   \n",
       "682                      DR  Documento de Arrecadação Municipal   \n",
       "...                     ...                                 ...   \n",
       "10377                    OB                      Ordem Bancária   \n",
       "14965                    OB                      Ordem Bancária   \n",
       "\n",
       "                                  Tipo OB Extraorçamentário  \\\n",
       "679     OBC PARA TERCEIROS NO MESMO BANCO               NÃO   \n",
       "682                         Não se aplica               NÃO   \n",
       "...                                   ...               ...   \n",
       "10377  OBS DE CANCELAMENTO (APOS REMESSA)               NÃO   \n",
       "14965  OBS DE CANCELAMENTO (APOS REMESSA)               NÃO   \n",
       "\n",
       "       Código Órgão Superior         Órgão Superior  Código Órgão  \\\n",
       "679                    25000  Ministério da Fazenda         25000   \n",
       "682                    25000  Ministério da Fazenda         25000   \n",
       "...                      ...                    ...           ...   \n",
       "10377                  25000  Ministério da Fazenda         25000   \n",
       "14965                  25000  Ministério da Fazenda         25000   \n",
       "\n",
       "                                             Órgão  Código Unidade Gestora  \\\n",
       "679    Ministério da Fazenda - Unidades com víncul                  170018   \n",
       "682    Ministério da Fazenda - Unidades com víncul                  170156   \n",
       "...                                            ...                     ...   \n",
       "10377  Ministério da Fazenda - Unidades com víncul                  170040   \n",
       "14965  Ministério da Fazenda - Unidades com víncul                  170040   \n",
       "\n",
       "                                 Unidade Gestora  Código Gestão  \\\n",
       "679    SUPERINTENDENCIA REGIONAL DA RFB NA 1A RF              1   \n",
       "682    SUPERINTENDENCIA REGIONAL DA RFB NA 9A RF              1   \n",
       "...                                          ...            ...   \n",
       "10377  SUPERINTENDENCIA REGIONAL DA RFB NA 3A RF              1   \n",
       "14965  SUPERINTENDENCIA REGIONAL DA RFB NA 3A RF              1   \n",
       "\n",
       "                 Gestão Código Favorecido  \\\n",
       "679    TESOURO NACIONAL    ***.930.337-**   \n",
       "682    TESOURO NACIONAL    09039434000170   \n",
       "...                 ...               ...   \n",
       "10377  TESOURO NACIONAL    27059565000109   \n",
       "14965  TESOURO NACIONAL    27059565000109   \n",
       "\n",
       "                                      Favorecido  \\\n",
       "679                     RAPHAEL EUGENIO DE SOUZA   \n",
       "682     EQUIP SEG INTELIGENCIA EM SEGURANCA LTDA   \n",
       "...                                          ...   \n",
       "10377  FRAPORT BRASIL S.A AEROPORTO DE FORTALEZA   \n",
       "14965  FRAPORT BRASIL S.A AEROPORTO DE FORTALEZA   \n",
       "\n",
       "                                              Observação  \\\n",
       "679    RESSARCIMENTO POR VALORES PAGOS PELO SERVIDOR,...   \n",
       "682    RETENCAO DE ISS - NF 23946 SERIE 0, DE PRESTAC...   \n",
       "...                                                  ...   \n",
       "10377  12 - CANCELAMENTO DA 2023OB802295 - POR DOMICI...   \n",
       "14965  12 - CANCELAMENTO DA 2023OB802297 - POR DOMICI...   \n",
       "\n",
       "                   Processo Código Categoria de Despesa Categoria de Despesa  \\\n",
       "679    10265.014355/2023-23                           3   DESPESAS CORRENTES   \n",
       "682                     NaN                           3   DESPESAS CORRENTES   \n",
       "...                     ...                         ...                  ...   \n",
       "10377                    -8                          -1       Sem informação   \n",
       "14965                    -8                          -1       Sem informação   \n",
       "\n",
       "      Código Grupo de Despesa           Grupo de Despesa  \\\n",
       "679                         3  Outras Despesas Correntes   \n",
       "682                         3  Outras Despesas Correntes   \n",
       "...                       ...                        ...   \n",
       "10377                      -1             Sem informação   \n",
       "14965                      -1             Sem informação   \n",
       "\n",
       "      Código Modalidade de Aplicação Modalidade de Aplicação  \\\n",
       "679                               90      Aplicações Diretas   \n",
       "682                               90      Aplicações Diretas   \n",
       "...                              ...                     ...   \n",
       "10377                             -1          Sem informação   \n",
       "14965                             -1          Sem informação   \n",
       "\n",
       "      Código Elemento de Despesa          Elemento de Despesa  \\\n",
       "679                           93  Indenizações e Restituições   \n",
       "682                           37       Locação de Mão-de-Obra   \n",
       "...                          ...                          ...   \n",
       "10377                         -1               Sem informação   \n",
       "14965                         -1               Sem informação   \n",
       "\n",
       "      Código Plano Orçamentário              Plano Orçamentário  \\\n",
       "679                        0002  ADMINISTRACAO DA UNIDADE - RFB   \n",
       "682                        0002  ADMINISTRACAO DA UNIDADE - RFB   \n",
       "...                         ...                             ...   \n",
       "10377                        -1                  Sem informação   \n",
       "14965                        -1                  Sem informação   \n",
       "\n",
       "      Código Programa Governo Nome Programa Governo  \\\n",
       "679                        00        Sem informação   \n",
       "682                        00        Sem informação   \n",
       "...                       ...                   ...   \n",
       "10377                      -1        Sem informação   \n",
       "14965                      -1        Sem informação   \n",
       "\n",
       "      Valor Original do Pagamento Valor do Pagamento Convertido pra R$  \\\n",
       "679                        199,00                               199,00   \n",
       "682                       4059,07                              4059,07   \n",
       "...                           ...                                  ...   \n",
       "10377                  -279388,81                           -279388,81   \n",
       "14965                   -49195,31                            -49195,31   \n",
       "\n",
       "      Valor Utilizado na Conversão  \n",
       "679                         1,0000  \n",
       "682                         1,0000  \n",
       "...                            ...  \n",
       "10377                       1,0000  \n",
       "14965                       1,0000  \n",
       "\n",
       "[25 rows x 34 columns]"
      ]
     },
     "metadata": {},
     "output_type": "display_data"
    }
   ],
   "source": [
    "nome_arquivo = '20240102_Despesas/20240102_Despesas_Pagamento.csv'\n",
    "caminho_arquivo = caminho_pasta + nome_arquivo\n",
    "\n",
    "df_pagamento = pd.read_csv(caminho_arquivo, delimiter=';', encoding='latin1')\n",
    "\n",
    "df_pagamento_rfb = df_pagamento[df_pagamento['Unidade Gestora'].str.contains('rfb', case=False, na=False)]\n",
    "\n",
    "#df_pagamento_rfb_colunas = df_pagamento_rfb[colunas_desejadas]\n",
    "\n",
    "# Listar unidades únicas na coluna\n",
    "elemento_despesa = df_pagamento_rfb['Elemento de Despesa'].value_counts().reset_index()\n",
    "\n",
    "# Exibir todas as linhas temporariamente\n",
    "with pd.option_context('display.max_rows', None):\n",
    "    display(elemento_despesa)\n",
    "\n",
    "# Listar unidades únicas na coluna\n",
    "valor_reais = df_pagamento_rfb['Valor do Pagamento Convertido pra R$'].value_counts().reset_index()\n",
    "\n",
    "# Exibir todas as linhas temporariamente\n",
    "with pd.option_context('display.max_rows', None):\n",
    "    display(valor_reais)\n",
    "\n",
    "\n",
    "display(df_pagamento_rfb)"
   ]
  },
  {
   "cell_type": "code",
   "execution_count": 17,
   "id": "d6786118-3a02-4da3-854b-68feca6d446e",
   "metadata": {},
   "outputs": [
    {
     "data": {
      "text/html": [
       "<div>\n",
       "<style scoped>\n",
       "    .dataframe tbody tr th:only-of-type {\n",
       "        vertical-align: middle;\n",
       "    }\n",
       "\n",
       "    .dataframe tbody tr th {\n",
       "        vertical-align: top;\n",
       "    }\n",
       "\n",
       "    .dataframe thead th {\n",
       "        text-align: right;\n",
       "    }\n",
       "</style>\n",
       "<table border=\"1\" class=\"dataframe\">\n",
       "  <thead>\n",
       "    <tr style=\"text-align: right;\">\n",
       "      <th></th>\n",
       "      <th>Elemento de Despesa</th>\n",
       "      <th>count</th>\n",
       "    </tr>\n",
       "  </thead>\n",
       "  <tbody>\n",
       "    <tr>\n",
       "      <th>0</th>\n",
       "      <td>Outros Serviços de Terceiros - Pessoa Juríd</td>\n",
       "      <td>11</td>\n",
       "    </tr>\n",
       "    <tr>\n",
       "      <th>1</th>\n",
       "      <td>Locação de Mão-de-Obra</td>\n",
       "      <td>6</td>\n",
       "    </tr>\n",
       "    <tr>\n",
       "      <th>2</th>\n",
       "      <td>Indenizações e Restituições</td>\n",
       "      <td>3</td>\n",
       "    </tr>\n",
       "    <tr>\n",
       "      <th>3</th>\n",
       "      <td>Múltiplo</td>\n",
       "      <td>2</td>\n",
       "    </tr>\n",
       "    <tr>\n",
       "      <th>4</th>\n",
       "      <td>Sem informação</td>\n",
       "      <td>2</td>\n",
       "    </tr>\n",
       "    <tr>\n",
       "      <th>5</th>\n",
       "      <td>Serviços de Tecnologia da Informação e Com</td>\n",
       "      <td>1</td>\n",
       "    </tr>\n",
       "  </tbody>\n",
       "</table>\n",
       "</div>"
      ],
      "text/plain": [
       "                           Elemento de Despesa  count\n",
       "0  Outros Serviços de Terceiros - Pessoa Juríd     11\n",
       "1                       Locação de Mão-de-Obra      6\n",
       "2                  Indenizações e Restituições      3\n",
       "3                                     Múltiplo      2\n",
       "4                               Sem informação      2\n",
       "5   Serviços de Tecnologia da Informação e Com      1"
      ]
     },
     "metadata": {},
     "output_type": "display_data"
    },
    {
     "data": {
      "text/html": [
       "<div>\n",
       "<style scoped>\n",
       "    .dataframe tbody tr th:only-of-type {\n",
       "        vertical-align: middle;\n",
       "    }\n",
       "\n",
       "    .dataframe tbody tr th {\n",
       "        vertical-align: top;\n",
       "    }\n",
       "\n",
       "    .dataframe thead th {\n",
       "        text-align: right;\n",
       "    }\n",
       "</style>\n",
       "<table border=\"1\" class=\"dataframe\">\n",
       "  <thead>\n",
       "    <tr style=\"text-align: right;\">\n",
       "      <th></th>\n",
       "      <th>Código Liquidação</th>\n",
       "      <th>Código Liquidação Resumido</th>\n",
       "      <th>Data Emissão</th>\n",
       "      <th>Código Tipo Documento</th>\n",
       "      <th>Tipo Documento</th>\n",
       "      <th>Código Órgão Superior</th>\n",
       "      <th>Órgão Superior</th>\n",
       "      <th>Código Órgão</th>\n",
       "      <th>Órgão</th>\n",
       "      <th>Código Unidade Gestora</th>\n",
       "      <th>Unidade Gestora</th>\n",
       "      <th>Código Gestão</th>\n",
       "      <th>Gestão</th>\n",
       "      <th>Código Favorecido</th>\n",
       "      <th>Favorecido</th>\n",
       "      <th>Observação</th>\n",
       "      <th>Código Categoria de Despesa</th>\n",
       "      <th>Categoria de Despesa</th>\n",
       "      <th>Código Grupo de Despesa</th>\n",
       "      <th>Grupo de Despesa</th>\n",
       "      <th>Código Modalidade de Aplicação</th>\n",
       "      <th>Modalidade de Aplicação</th>\n",
       "      <th>Código Elemento de Despesa</th>\n",
       "      <th>Elemento de Despesa</th>\n",
       "      <th>Código Plano Orçamentário</th>\n",
       "      <th>Plano Orçamentário</th>\n",
       "      <th>Código Programa Governo</th>\n",
       "      <th>Nome Programa Governo</th>\n",
       "    </tr>\n",
       "  </thead>\n",
       "  <tbody>\n",
       "    <tr>\n",
       "      <th>15</th>\n",
       "      <td>170028000012024NS000029</td>\n",
       "      <td>2024NS000029</td>\n",
       "      <td>01/01/2024</td>\n",
       "      <td>NS</td>\n",
       "      <td>Nota de Lançamento de Sistema</td>\n",
       "      <td>25000</td>\n",
       "      <td>Ministério da Fazenda</td>\n",
       "      <td>25000</td>\n",
       "      <td>Ministério da Fazenda - Unidades com víncul</td>\n",
       "      <td>170028</td>\n",
       "      <td>DELEGACIA DA RFB EM SAO LUIS</td>\n",
       "      <td>1</td>\n",
       "      <td>TESOURO NACIONAL</td>\n",
       "      <td>38657319000167</td>\n",
       "      <td>E P L SERVICOS E COMERCIO LTDA</td>\n",
       "      <td>NOTA DE LANCAMENTO GERADA PELO SIADS ATRAVES D...</td>\n",
       "      <td>3</td>\n",
       "      <td>DESPESAS CORRENTES</td>\n",
       "      <td>3</td>\n",
       "      <td>Outras Despesas Correntes</td>\n",
       "      <td>90</td>\n",
       "      <td>Aplicações Diretas</td>\n",
       "      <td>30</td>\n",
       "      <td>Material de Consumo</td>\n",
       "      <td>0002</td>\n",
       "      <td>ADMINISTRACAO DA UNIDADE - RFB</td>\n",
       "      <td>0</td>\n",
       "      <td>Sem informação</td>\n",
       "    </tr>\n",
       "    <tr>\n",
       "      <th>16</th>\n",
       "      <td>170028000012024NS000028</td>\n",
       "      <td>2024NS000028</td>\n",
       "      <td>01/01/2024</td>\n",
       "      <td>NS</td>\n",
       "      <td>Nota de Lançamento de Sistema</td>\n",
       "      <td>25000</td>\n",
       "      <td>Ministério da Fazenda</td>\n",
       "      <td>25000</td>\n",
       "      <td>Ministério da Fazenda - Unidades com víncul</td>\n",
       "      <td>170028</td>\n",
       "      <td>DELEGACIA DA RFB EM SAO LUIS</td>\n",
       "      <td>1</td>\n",
       "      <td>TESOURO NACIONAL</td>\n",
       "      <td>38657319000167</td>\n",
       "      <td>E P L SERVICOS E COMERCIO LTDA</td>\n",
       "      <td>NOTA DE LANCAMENTO GERADA PELO SIADS ATRAVES D...</td>\n",
       "      <td>3</td>\n",
       "      <td>DESPESAS CORRENTES</td>\n",
       "      <td>3</td>\n",
       "      <td>Outras Despesas Correntes</td>\n",
       "      <td>90</td>\n",
       "      <td>Aplicações Diretas</td>\n",
       "      <td>30</td>\n",
       "      <td>Material de Consumo</td>\n",
       "      <td>0002</td>\n",
       "      <td>ADMINISTRACAO DA UNIDADE - RFB</td>\n",
       "      <td>0</td>\n",
       "      <td>Sem informação</td>\n",
       "    </tr>\n",
       "    <tr>\n",
       "      <th>17</th>\n",
       "      <td>170028000012024NS000001</td>\n",
       "      <td>2024NS000001</td>\n",
       "      <td>01/01/2024</td>\n",
       "      <td>NS</td>\n",
       "      <td>Nota de Lançamento de Sistema</td>\n",
       "      <td>25000</td>\n",
       "      <td>Ministério da Fazenda</td>\n",
       "      <td>25000</td>\n",
       "      <td>Ministério da Fazenda - Unidades com víncul</td>\n",
       "      <td>170028</td>\n",
       "      <td>DELEGACIA DA RFB EM SAO LUIS</td>\n",
       "      <td>1</td>\n",
       "      <td>TESOURO NACIONAL</td>\n",
       "      <td>22962045000180</td>\n",
       "      <td>Y G A COMERCIO VAREJISTA DE PRODUTOS ALIMENTIC...</td>\n",
       "      <td>NOTA DE LANCAMENTO GERADA PELO SIADS ATRAVES D...</td>\n",
       "      <td>3</td>\n",
       "      <td>DESPESAS CORRENTES</td>\n",
       "      <td>3</td>\n",
       "      <td>Outras Despesas Correntes</td>\n",
       "      <td>90</td>\n",
       "      <td>Aplicações Diretas</td>\n",
       "      <td>30</td>\n",
       "      <td>Material de Consumo</td>\n",
       "      <td>0002</td>\n",
       "      <td>ADMINISTRACAO DA UNIDADE - RFB</td>\n",
       "      <td>0</td>\n",
       "      <td>Sem informação</td>\n",
       "    </tr>\n",
       "    <tr>\n",
       "      <th>18</th>\n",
       "      <td>170028000012024NS000027</td>\n",
       "      <td>2024NS000027</td>\n",
       "      <td>01/01/2024</td>\n",
       "      <td>NS</td>\n",
       "      <td>Nota de Lançamento de Sistema</td>\n",
       "      <td>25000</td>\n",
       "      <td>Ministério da Fazenda</td>\n",
       "      <td>25000</td>\n",
       "      <td>Ministério da Fazenda - Unidades com víncul</td>\n",
       "      <td>170028</td>\n",
       "      <td>DELEGACIA DA RFB EM SAO LUIS</td>\n",
       "      <td>1</td>\n",
       "      <td>TESOURO NACIONAL</td>\n",
       "      <td>43185142000183</td>\n",
       "      <td>AMR SERVICOS E DISTRIBUIDORA LTDA</td>\n",
       "      <td>NOTA DE LANCAMENTO GERADA PELO SIADS ATRAVES D...</td>\n",
       "      <td>3</td>\n",
       "      <td>DESPESAS CORRENTES</td>\n",
       "      <td>3</td>\n",
       "      <td>Outras Despesas Correntes</td>\n",
       "      <td>90</td>\n",
       "      <td>Aplicações Diretas</td>\n",
       "      <td>30</td>\n",
       "      <td>Material de Consumo</td>\n",
       "      <td>0002</td>\n",
       "      <td>ADMINISTRACAO DA UNIDADE - RFB</td>\n",
       "      <td>0</td>\n",
       "      <td>Sem informação</td>\n",
       "    </tr>\n",
       "  </tbody>\n",
       "</table>\n",
       "</div>"
      ],
      "text/plain": [
       "          Código Liquidação Código Liquidação Resumido Data Emissão  \\\n",
       "15  170028000012024NS000029               2024NS000029   01/01/2024   \n",
       "16  170028000012024NS000028               2024NS000028   01/01/2024   \n",
       "17  170028000012024NS000001               2024NS000001   01/01/2024   \n",
       "18  170028000012024NS000027               2024NS000027   01/01/2024   \n",
       "\n",
       "   Código Tipo Documento                 Tipo Documento  \\\n",
       "15                    NS  Nota de Lançamento de Sistema   \n",
       "16                    NS  Nota de Lançamento de Sistema   \n",
       "17                    NS  Nota de Lançamento de Sistema   \n",
       "18                    NS  Nota de Lançamento de Sistema   \n",
       "\n",
       "    Código Órgão Superior         Órgão Superior  Código Órgão  \\\n",
       "15                  25000  Ministério da Fazenda         25000   \n",
       "16                  25000  Ministério da Fazenda         25000   \n",
       "17                  25000  Ministério da Fazenda         25000   \n",
       "18                  25000  Ministério da Fazenda         25000   \n",
       "\n",
       "                                          Órgão  Código Unidade Gestora  \\\n",
       "15  Ministério da Fazenda - Unidades com víncul                  170028   \n",
       "16  Ministério da Fazenda - Unidades com víncul                  170028   \n",
       "17  Ministério da Fazenda - Unidades com víncul                  170028   \n",
       "18  Ministério da Fazenda - Unidades com víncul                  170028   \n",
       "\n",
       "                 Unidade Gestora  Código Gestão            Gestão  \\\n",
       "15  DELEGACIA DA RFB EM SAO LUIS              1  TESOURO NACIONAL   \n",
       "16  DELEGACIA DA RFB EM SAO LUIS              1  TESOURO NACIONAL   \n",
       "17  DELEGACIA DA RFB EM SAO LUIS              1  TESOURO NACIONAL   \n",
       "18  DELEGACIA DA RFB EM SAO LUIS              1  TESOURO NACIONAL   \n",
       "\n",
       "   Código Favorecido                                         Favorecido  \\\n",
       "15    38657319000167                     E P L SERVICOS E COMERCIO LTDA   \n",
       "16    38657319000167                     E P L SERVICOS E COMERCIO LTDA   \n",
       "17    22962045000180  Y G A COMERCIO VAREJISTA DE PRODUTOS ALIMENTIC...   \n",
       "18    43185142000183                  AMR SERVICOS E DISTRIBUIDORA LTDA   \n",
       "\n",
       "                                           Observação  \\\n",
       "15  NOTA DE LANCAMENTO GERADA PELO SIADS ATRAVES D...   \n",
       "16  NOTA DE LANCAMENTO GERADA PELO SIADS ATRAVES D...   \n",
       "17  NOTA DE LANCAMENTO GERADA PELO SIADS ATRAVES D...   \n",
       "18  NOTA DE LANCAMENTO GERADA PELO SIADS ATRAVES D...   \n",
       "\n",
       "   Código Categoria de Despesa Categoria de Despesa Código Grupo de Despesa  \\\n",
       "15                           3   DESPESAS CORRENTES                       3   \n",
       "16                           3   DESPESAS CORRENTES                       3   \n",
       "17                           3   DESPESAS CORRENTES                       3   \n",
       "18                           3   DESPESAS CORRENTES                       3   \n",
       "\n",
       "             Grupo de Despesa Código Modalidade de Aplicação  \\\n",
       "15  Outras Despesas Correntes                             90   \n",
       "16  Outras Despesas Correntes                             90   \n",
       "17  Outras Despesas Correntes                             90   \n",
       "18  Outras Despesas Correntes                             90   \n",
       "\n",
       "   Modalidade de Aplicação Código Elemento de Despesa  Elemento de Despesa  \\\n",
       "15      Aplicações Diretas                         30  Material de Consumo   \n",
       "16      Aplicações Diretas                         30  Material de Consumo   \n",
       "17      Aplicações Diretas                         30  Material de Consumo   \n",
       "18      Aplicações Diretas                         30  Material de Consumo   \n",
       "\n",
       "   Código Plano Orçamentário              Plano Orçamentário  \\\n",
       "15                      0002  ADMINISTRACAO DA UNIDADE - RFB   \n",
       "16                      0002  ADMINISTRACAO DA UNIDADE - RFB   \n",
       "17                      0002  ADMINISTRACAO DA UNIDADE - RFB   \n",
       "18                      0002  ADMINISTRACAO DA UNIDADE - RFB   \n",
       "\n",
       "    Código Programa Governo Nome Programa Governo  \n",
       "15                        0        Sem informação  \n",
       "16                        0        Sem informação  \n",
       "17                        0        Sem informação  \n",
       "18                        0        Sem informação  "
      ]
     },
     "metadata": {},
     "output_type": "display_data"
    }
   ],
   "source": [
    "nome_arquivo = '20240101_Despesas/20240101_Despesas_Liquidacao.csv'\n",
    "caminho_arquivo = caminho_pasta + nome_arquivo\n",
    "\n",
    "df_liquidacao = pd.read_csv(caminho_arquivo, delimiter=';', encoding='latin1')\n",
    "\n",
    "df_liquidacao_rfb = df_liquidacao[df_liquidacao['Unidade Gestora'].str.contains('rfb', case=False, na=False)]\n",
    "\n",
    "#df_liquidacao_rfb_colunas = df_liquidacao_rfb[colunas_desejadas]\n",
    "\n",
    "# Listar unidades únicas na coluna\n",
    "elemento_despesa = df_pagamento_rfb['Elemento de Despesa'].value_counts().reset_index()\n",
    "\n",
    "# Exibir todas as linhas temporariamente\n",
    "with pd.option_context('display.max_rows', None):\n",
    "    display(elemento_despesa)\n",
    "\n",
    "display(df_liquidacao_rfb)"
   ]
  },
  {
   "cell_type": "code",
   "execution_count": 18,
   "id": "86cac847-855d-4cf4-b9ab-0de1d7219970",
   "metadata": {},
   "outputs": [
    {
     "name": "stderr",
     "output_type": "stream",
     "text": [
      "/tmp/ipykernel_4660/1178630720.py:16: DtypeWarning: Columns (7,10,12,14,19,21,23,25,27,31,32,33) have mixed types. Specify dtype option on import or set low_memory=False.\n",
      "  df_transferencia_despesas = pd.read_csv(csv_transferencia_despesas, delimiter=';', encoding='latin1')\n"
     ]
    }
   ],
   "source": [
    "\n",
    "csv_empenho = caminho_pasta + '20240101_Despesas/20240101_Despesas_Empenho.csv'\n",
    "csv_pagamento = caminho_pasta + '20240101_Despesas/20240101_Despesas_Pagamento.csv'\n",
    "csv_liquidacao = caminho_pasta + '20240101_Despesas/20240101_Despesas_Liquidacao.csv'\n",
    "csv_execucao_despesas = caminho_pasta + 'execuçao_despesas/202401_ExecucaoDespesas/202401_Despesas.csv'\n",
    "csv_transferencia_despesas = caminho_pasta + 'transferencias_despesas/202401_Transferencias.csv'\n",
    "csv_recursos_favorecidos = caminho_pasta + 'recursos_por_favorecido/202401_recursos_favorecidos/202401_RecebimentosRecursosPorFavorecido.csv'\n",
    "\n",
    "df_empenho = pd.read_csv(csv_empenho, delimiter=';', encoding='latin1')\n",
    "\n",
    "df_pagamento = pd.read_csv(csv_pagamento, delimiter=';', encoding='latin1')\n",
    "\n",
    "df_liquidacao = pd.read_csv(csv_liquidacao, delimiter=';', encoding='latin1')\n",
    "\n",
    "df_execucao_despesas = pd.read_csv(csv_execucao_despesas, delimiter=';', encoding='latin1')\n",
    "\n",
    "df_transferencia_despesas = pd.read_csv(csv_transferencia_despesas, delimiter=';', encoding='latin1')\n",
    "\n",
    "df_recursos_favorecidos = pd.read_csv(csv_recursos_favorecidos, delimiter=';', encoding='latin1')"
   ]
  },
  {
   "cell_type": "code",
   "execution_count": 23,
   "id": "698e1f4d-8a39-4660-b7d8-7578e7a42037",
   "metadata": {},
   "outputs": [
    {
     "data": {
      "text/markdown": [
       "# Datasets de Despesas"
      ],
      "text/plain": [
       "<IPython.core.display.Markdown object>"
      ]
     },
     "metadata": {},
     "output_type": "display_data"
    },
    {
     "data": {
      "text/markdown": [
       "## Empenho"
      ],
      "text/plain": [
       "<IPython.core.display.Markdown object>"
      ]
     },
     "metadata": {},
     "output_type": "display_data"
    },
    {
     "name": "stdout",
     "output_type": "stream",
     "text": [
      "<class 'pandas.core.frame.DataFrame'>\n",
      "RangeIndex: 30 entries, 0 to 29\n",
      "Data columns (total 63 columns):\n",
      " #   Column                                            Non-Null Count  Dtype \n",
      "---  ------                                            --------------  ----- \n",
      " 0   Id Empenho                                        30 non-null     int64 \n",
      " 1   Código Empenho                                    30 non-null     object\n",
      " 2   Código Empenho Resumido                           30 non-null     object\n",
      " 3   Data Emissão                                      30 non-null     object\n",
      " 4   Código Tipo Documento                             30 non-null     object\n",
      " 5   Tipo Documento                                    30 non-null     object\n",
      " 6   Tipo Empenho                                      30 non-null     object\n",
      " 7   Espécie Empenho                                   30 non-null     object\n",
      " 8   Código Órgão Superior                             30 non-null     int64 \n",
      " 9   Órgão Superior                                    30 non-null     object\n",
      " 10  Código Órgão                                      30 non-null     int64 \n",
      " 11  Órgão                                             30 non-null     object\n",
      " 12  Código Unidade Gestora                            30 non-null     int64 \n",
      " 13  Unidade Gestora                                   30 non-null     object\n",
      " 14  Código Gestão                                     30 non-null     int64 \n",
      " 15  Gestão                                            30 non-null     object\n",
      " 16  Código Favorecido                                 30 non-null     object\n",
      " 17  Favorecido                                        30 non-null     object\n",
      " 18  Observação                                        30 non-null     object\n",
      " 19  Código Esfera Orçamentária                        30 non-null     int64 \n",
      " 20  Esfera Orçamentária                               30 non-null     object\n",
      " 21  Código Tipo Crédito                               30 non-null     object\n",
      " 22  Tipo Crédito                                      30 non-null     object\n",
      " 23  Código Grupo Fonte Recurso                        30 non-null     int64 \n",
      " 24  Grupo Fonte Recurso                               30 non-null     object\n",
      " 25  Código Fonte Recurso                              30 non-null     int64 \n",
      " 26  Fonte Recurso                                     30 non-null     object\n",
      " 27  Código Unidade Orçamentária                       30 non-null     int64 \n",
      " 28  Unidade Orçamentária                              30 non-null     object\n",
      " 29  Código Função                                     30 non-null     int64 \n",
      " 30  Função                                            30 non-null     object\n",
      " 31  Código SubFunção                                  30 non-null     int64 \n",
      " 32  SubFunção                                         30 non-null     object\n",
      " 33  Código Programa                                   30 non-null     int64 \n",
      " 34  Programa                                          30 non-null     object\n",
      " 35  Código Ação                                       30 non-null     object\n",
      " 36  Ação                                              30 non-null     object\n",
      " 37  Linguagem Cidadã                                  12 non-null     object\n",
      " 38  Código Subtítulo (Localizador)                    30 non-null     object\n",
      " 39  Subtítulo (Localizador)                           30 non-null     object\n",
      " 40  Código Plano Orçamentário                         30 non-null     int64 \n",
      " 41  Plano Orçamentário                                30 non-null     object\n",
      " 42  Código Programa Governo                           30 non-null     int64 \n",
      " 43  Nome Programa Governo                             30 non-null     object\n",
      " 44  Autor Emenda                                      30 non-null     object\n",
      " 45  Código Categoria de Despesa                       30 non-null     int64 \n",
      " 46  Categoria de Despesa                              30 non-null     object\n",
      " 47  Código Grupo de Despesa                           30 non-null     int64 \n",
      " 48  Grupo de Despesa                                  30 non-null     object\n",
      " 49  Código Modalidade de Aplicação                    30 non-null     int64 \n",
      " 50  Modalidade de Aplicação                           30 non-null     object\n",
      " 51  Código Elemento de Despesa                        30 non-null     int64 \n",
      " 52  Elemento de Despesa                               30 non-null     object\n",
      " 53  Processo                                          30 non-null     object\n",
      " 54  Modalidade de Licitação                           30 non-null     object\n",
      " 55  Inciso                                            30 non-null     object\n",
      " 56  Amparo                                            30 non-null     object\n",
      " 57  Referência de Dispensa ou Inexigibilidade         30 non-null     int64 \n",
      " 58  Código Convênio                                   30 non-null     int64 \n",
      " 59  Contrato de Repasse / Termo de Parceria / Outros  30 non-null     object\n",
      " 60  Valor Original do Empenho                         30 non-null     object\n",
      " 61  Valor do Empenho Convertido pra R$                30 non-null     object\n",
      " 62  Valor Utilizado na Conversão                      30 non-null     object\n",
      "dtypes: int64(20), object(43)\n",
      "memory usage: 14.9+ KB\n"
     ]
    },
    {
     "data": {
      "text/plain": [
       "None"
      ]
     },
     "metadata": {},
     "output_type": "display_data"
    },
    {
     "data": {
      "text/html": [
       "<div>\n",
       "<style scoped>\n",
       "    .dataframe tbody tr th:only-of-type {\n",
       "        vertical-align: middle;\n",
       "    }\n",
       "\n",
       "    .dataframe tbody tr th {\n",
       "        vertical-align: top;\n",
       "    }\n",
       "\n",
       "    .dataframe thead th {\n",
       "        text-align: right;\n",
       "    }\n",
       "</style>\n",
       "<table border=\"1\" class=\"dataframe\">\n",
       "  <thead>\n",
       "    <tr style=\"text-align: right;\">\n",
       "      <th></th>\n",
       "      <th>Id Empenho</th>\n",
       "      <th>Código Empenho</th>\n",
       "      <th>Código Empenho Resumido</th>\n",
       "      <th>Data Emissão</th>\n",
       "      <th>Código Tipo Documento</th>\n",
       "      <th>Tipo Documento</th>\n",
       "      <th>Tipo Empenho</th>\n",
       "      <th>Espécie Empenho</th>\n",
       "      <th>Código Órgão Superior</th>\n",
       "      <th>Órgão Superior</th>\n",
       "      <th>Código Órgão</th>\n",
       "      <th>Órgão</th>\n",
       "      <th>Código Unidade Gestora</th>\n",
       "      <th>Unidade Gestora</th>\n",
       "      <th>Código Gestão</th>\n",
       "      <th>Gestão</th>\n",
       "      <th>Código Favorecido</th>\n",
       "      <th>Favorecido</th>\n",
       "      <th>Observação</th>\n",
       "      <th>Código Esfera Orçamentária</th>\n",
       "      <th>Esfera Orçamentária</th>\n",
       "      <th>Código Tipo Crédito</th>\n",
       "      <th>Tipo Crédito</th>\n",
       "      <th>Código Grupo Fonte Recurso</th>\n",
       "      <th>Grupo Fonte Recurso</th>\n",
       "      <th>Código Fonte Recurso</th>\n",
       "      <th>Fonte Recurso</th>\n",
       "      <th>Código Unidade Orçamentária</th>\n",
       "      <th>Unidade Orçamentária</th>\n",
       "      <th>Código Função</th>\n",
       "      <th>Função</th>\n",
       "      <th>Código SubFunção</th>\n",
       "      <th>SubFunção</th>\n",
       "      <th>Código Programa</th>\n",
       "      <th>Programa</th>\n",
       "      <th>Código Ação</th>\n",
       "      <th>Ação</th>\n",
       "      <th>Linguagem Cidadã</th>\n",
       "      <th>Código Subtítulo (Localizador)</th>\n",
       "      <th>Subtítulo (Localizador)</th>\n",
       "      <th>Código Plano Orçamentário</th>\n",
       "      <th>Plano Orçamentário</th>\n",
       "      <th>Código Programa Governo</th>\n",
       "      <th>Nome Programa Governo</th>\n",
       "      <th>Autor Emenda</th>\n",
       "      <th>Código Categoria de Despesa</th>\n",
       "      <th>Categoria de Despesa</th>\n",
       "      <th>Código Grupo de Despesa</th>\n",
       "      <th>Grupo de Despesa</th>\n",
       "      <th>Código Modalidade de Aplicação</th>\n",
       "      <th>Modalidade de Aplicação</th>\n",
       "      <th>Código Elemento de Despesa</th>\n",
       "      <th>Elemento de Despesa</th>\n",
       "      <th>Processo</th>\n",
       "      <th>Modalidade de Licitação</th>\n",
       "      <th>Inciso</th>\n",
       "      <th>Amparo</th>\n",
       "      <th>Referência de Dispensa ou Inexigibilidade</th>\n",
       "      <th>Código Convênio</th>\n",
       "      <th>Contrato de Repasse / Termo de Parceria / Outros</th>\n",
       "      <th>Valor Original do Empenho</th>\n",
       "      <th>Valor do Empenho Convertido pra R$</th>\n",
       "      <th>Valor Utilizado na Conversão</th>\n",
       "    </tr>\n",
       "  </thead>\n",
       "  <tbody>\n",
       "    <tr>\n",
       "      <th>3</th>\n",
       "      <td>562162748</td>\n",
       "      <td>170177000012024NE000017</td>\n",
       "      <td>2024NE000017</td>\n",
       "      <td>01/01/2024</td>\n",
       "      <td>NE</td>\n",
       "      <td>Nota de Empenho</td>\n",
       "      <td>Estimativo</td>\n",
       "      <td>Não se aplica</td>\n",
       "      <td>25000</td>\n",
       "      <td>Ministério da Fazenda</td>\n",
       "      <td>25000</td>\n",
       "      <td>Ministério da Fazenda - Unidades com víncul</td>\n",
       "      <td>170177</td>\n",
       "      <td>SUPERINTENDENCIA REGIONAL DA RFB NA 10A RF</td>\n",
       "      <td>1</td>\n",
       "      <td>TESOURO NACIONAL</td>\n",
       "      <td>40432544000147</td>\n",
       "      <td>CLARO S.A.</td>\n",
       "      <td>EMPENHO PARA ATENDER DESPESA COM TELEFONIA MOD...</td>\n",
       "      <td>1</td>\n",
       "      <td>Orçamento Fiscal</td>\n",
       "      <td>A</td>\n",
       "      <td>INICIAL (LOA)</td>\n",
       "      <td>1</td>\n",
       "      <td>Recursos Do Tesouro - Exercicio Corrente</td>\n",
       "      <td>3</td>\n",
       "      <td>TRANSF.DO IMP.DE RENDA AOS MUNIC.-REF.TRIBUT.</td>\n",
       "      <td>25103</td>\n",
       "      <td>SEC ESPECIAL DA RECEITA FEDERAL DO BRASIL</td>\n",
       "      <td>4</td>\n",
       "      <td>Administração</td>\n",
       "      <td>122</td>\n",
       "      <td>Administração geral</td>\n",
       "      <td>32</td>\n",
       "      <td>PROGRAMA DE GESTAO E MANUTENCAO DO PODER EXECU...</td>\n",
       "      <td>2000</td>\n",
       "      <td>ADMINISTRACAO DA UNIDADE</td>\n",
       "      <td>Administração de unidade</td>\n",
       "      <td>20000001</td>\n",
       "      <td>ADMINISTRACAO DA UNIDADE       - NACIONAL</td>\n",
       "      <td>2</td>\n",
       "      <td>ADMINISTRACAO DA UNIDADE - RFB</td>\n",
       "      <td>0</td>\n",
       "      <td>Sem informação</td>\n",
       "      <td>SEM EMENDA</td>\n",
       "      <td>3</td>\n",
       "      <td>DESPESAS CORRENTES</td>\n",
       "      <td>3</td>\n",
       "      <td>Outras Despesas Correntes</td>\n",
       "      <td>90</td>\n",
       "      <td>Aplicações Diretas</td>\n",
       "      <td>39</td>\n",
       "      <td>Outros Serviços de Terceiros - Pessoa Juríd</td>\n",
       "      <td>13005.720055/2019-50</td>\n",
       "      <td>Pregão</td>\n",
       "      <td>SI</td>\n",
       "      <td>LEI 10.520 / 2002</td>\n",
       "      <td>-2</td>\n",
       "      <td>-1</td>\n",
       "      <td>NAO SE APLICA</td>\n",
       "      <td>10,00</td>\n",
       "      <td>10,00</td>\n",
       "      <td>1,0000</td>\n",
       "    </tr>\n",
       "    <tr>\n",
       "      <th>28</th>\n",
       "      <td>562292642</td>\n",
       "      <td>158139264342024NE000122</td>\n",
       "      <td>2024NE000122</td>\n",
       "      <td>01/01/2024</td>\n",
       "      <td>NE</td>\n",
       "      <td>Nota de Empenho</td>\n",
       "      <td>Estimativo</td>\n",
       "      <td>Não se aplica</td>\n",
       "      <td>26000</td>\n",
       "      <td>Ministério da Educação</td>\n",
       "      <td>26434</td>\n",
       "      <td>Instituto Federal Fluminense</td>\n",
       "      <td>158139</td>\n",
       "      <td>INST.FED.DE EDUC.,CIENC.E TEC.FLUMINENSE</td>\n",
       "      <td>26434</td>\n",
       "      <td>INST.FED.DE EDUC.,CIENC.E TEC.FLUMINENSE</td>\n",
       "      <td>07432517000107</td>\n",
       "      <td>SIMPRESS COMERCIO LOCACAO E SERVICOS LTDA</td>\n",
       "      <td>VALOR QUE SE EMPENHA PARA ATENDER DESPESAS COM...</td>\n",
       "      <td>1</td>\n",
       "      <td>Orçamento Fiscal</td>\n",
       "      <td>A</td>\n",
       "      <td>INICIAL (LOA)</td>\n",
       "      <td>1</td>\n",
       "      <td>Recursos Do Tesouro - Exercicio Corrente</td>\n",
       "      <td>0</td>\n",
       "      <td>RECURSOS ORDINARIOS</td>\n",
       "      <td>26434</td>\n",
       "      <td>INST.FED.DE EDUC.,CIENC.E TEC.FLUMINENSE</td>\n",
       "      <td>12</td>\n",
       "      <td>Educação</td>\n",
       "      <td>363</td>\n",
       "      <td>Ensino profissional</td>\n",
       "      <td>5112</td>\n",
       "      <td>EDUCACAO PROFISSIONAL E TECNOLOGICA QUE TRANSF...</td>\n",
       "      <td>20RL</td>\n",
       "      <td>FUNCIONAMENTO DAS INSTITUICOES DA REDE FEDERAL...</td>\n",
       "      <td>PRONATEC</td>\n",
       "      <td>20RL0033</td>\n",
       "      <td>FUNCIONAMENTO DAS INSTITUICOES DA RED - NO EST...</td>\n",
       "      <td>0</td>\n",
       "      <td>CODIGO INEXISTENTE NO SIAFI</td>\n",
       "      <td>0</td>\n",
       "      <td>Sem informação</td>\n",
       "      <td>SEM EMENDA</td>\n",
       "      <td>3</td>\n",
       "      <td>DESPESAS CORRENTES</td>\n",
       "      <td>3</td>\n",
       "      <td>Outras Despesas Correntes</td>\n",
       "      <td>90</td>\n",
       "      <td>Aplicações Diretas</td>\n",
       "      <td>40</td>\n",
       "      <td>Serviços de Tecnologia da Informação e Com</td>\n",
       "      <td>23317.000384.2024-88</td>\n",
       "      <td>Pregão</td>\n",
       "      <td>SI</td>\n",
       "      <td>LEI 10.520 / 2002</td>\n",
       "      <td>-2</td>\n",
       "      <td>-1</td>\n",
       "      <td>NAO SE APLICA</td>\n",
       "      <td>500,00</td>\n",
       "      <td>500,00</td>\n",
       "      <td>1,0000</td>\n",
       "    </tr>\n",
       "    <tr>\n",
       "      <th>21</th>\n",
       "      <td>562151144</td>\n",
       "      <td>152005000012024NE000004</td>\n",
       "      <td>2024NE000004</td>\n",
       "      <td>01/01/2024</td>\n",
       "      <td>NE</td>\n",
       "      <td>Nota de Empenho</td>\n",
       "      <td>Estimativo</td>\n",
       "      <td>Não se aplica</td>\n",
       "      <td>26000</td>\n",
       "      <td>Ministério da Educação</td>\n",
       "      <td>26000</td>\n",
       "      <td>Ministério da Educação - Unidades com vín</td>\n",
       "      <td>152005</td>\n",
       "      <td>INSTITUTO NACIONAL DE EDUCACAO DE SURDOS-RJ</td>\n",
       "      <td>1</td>\n",
       "      <td>TESOURO NACIONAL</td>\n",
       "      <td>48307555000107</td>\n",
       "      <td>PLANO EXECUTIVO FEDERAL</td>\n",
       "      <td>ATENDER DESPESA COM CONTRIBUICOES PATRONAIS DA...</td>\n",
       "      <td>1</td>\n",
       "      <td>Orçamento Fiscal</td>\n",
       "      <td>A</td>\n",
       "      <td>INICIAL (LOA)</td>\n",
       "      <td>1</td>\n",
       "      <td>Recursos Do Tesouro - Exercicio Corrente</td>\n",
       "      <td>0</td>\n",
       "      <td>RECURSOS ORDINARIOS</td>\n",
       "      <td>26104</td>\n",
       "      <td>INSTITUTO NACIONAL DE EDUCACAO DE SURDOS</td>\n",
       "      <td>12</td>\n",
       "      <td>Educação</td>\n",
       "      <td>368</td>\n",
       "      <td>Educação básica</td>\n",
       "      <td>32</td>\n",
       "      <td>PROGRAMA DE GESTAO E MANUTENCAO DO PODER EXECU...</td>\n",
       "      <td>20TP</td>\n",
       "      <td>ATIVOS CIVIS DA UNIAO</td>\n",
       "      <td>NaN</td>\n",
       "      <td>20TP0033</td>\n",
       "      <td>ATIVOS CIVIS DA UNIAO         - NO ESTADO DO R...</td>\n",
       "      <td>0</td>\n",
       "      <td>ATIVOS CIVIS DA UNIAO</td>\n",
       "      <td>0</td>\n",
       "      <td>Sem informação</td>\n",
       "      <td>SEM EMENDA</td>\n",
       "      <td>3</td>\n",
       "      <td>DESPESAS CORRENTES</td>\n",
       "      <td>1</td>\n",
       "      <td>Pessoal e Encargos Sociais</td>\n",
       "      <td>90</td>\n",
       "      <td>Aplicações Diretas</td>\n",
       "      <td>7</td>\n",
       "      <td>Contribuição a Entidades Fechadas de Previd</td>\n",
       "      <td>23121.001370/2023-98</td>\n",
       "      <td>Não se Aplica</td>\n",
       "      <td>SI</td>\n",
       "      <td>SEM INFORMACAO</td>\n",
       "      <td>-2</td>\n",
       "      <td>-1</td>\n",
       "      <td>NAO SE APLICA</td>\n",
       "      <td>273000,00</td>\n",
       "      <td>273000,00</td>\n",
       "      <td>1,0000</td>\n",
       "    </tr>\n",
       "  </tbody>\n",
       "</table>\n",
       "</div>"
      ],
      "text/plain": [
       "    Id Empenho           Código Empenho Código Empenho Resumido Data Emissão  \\\n",
       "3    562162748  170177000012024NE000017            2024NE000017   01/01/2024   \n",
       "28   562292642  158139264342024NE000122            2024NE000122   01/01/2024   \n",
       "21   562151144  152005000012024NE000004            2024NE000004   01/01/2024   \n",
       "\n",
       "   Código Tipo Documento   Tipo Documento Tipo Empenho Espécie Empenho  \\\n",
       "3                     NE  Nota de Empenho   Estimativo   Não se aplica   \n",
       "28                    NE  Nota de Empenho   Estimativo   Não se aplica   \n",
       "21                    NE  Nota de Empenho   Estimativo   Não se aplica   \n",
       "\n",
       "    Código Órgão Superior          Órgão Superior  Código Órgão  \\\n",
       "3                   25000   Ministério da Fazenda         25000   \n",
       "28                  26000  Ministério da Educação         26434   \n",
       "21                  26000  Ministério da Educação         26000   \n",
       "\n",
       "                                          Órgão  Código Unidade Gestora  \\\n",
       "3   Ministério da Fazenda - Unidades com víncul                  170177   \n",
       "28                 Instituto Federal Fluminense                  158139   \n",
       "21    Ministério da Educação - Unidades com vín                  152005   \n",
       "\n",
       "                                Unidade Gestora  Código Gestão  \\\n",
       "3    SUPERINTENDENCIA REGIONAL DA RFB NA 10A RF              1   \n",
       "28     INST.FED.DE EDUC.,CIENC.E TEC.FLUMINENSE          26434   \n",
       "21  INSTITUTO NACIONAL DE EDUCACAO DE SURDOS-RJ              1   \n",
       "\n",
       "                                      Gestão Código Favorecido  \\\n",
       "3                           TESOURO NACIONAL    40432544000147   \n",
       "28  INST.FED.DE EDUC.,CIENC.E TEC.FLUMINENSE    07432517000107   \n",
       "21                          TESOURO NACIONAL    48307555000107   \n",
       "\n",
       "                                   Favorecido  \\\n",
       "3                                  CLARO S.A.   \n",
       "28  SIMPRESS COMERCIO LOCACAO E SERVICOS LTDA   \n",
       "21                    PLANO EXECUTIVO FEDERAL   \n",
       "\n",
       "                                           Observação  \\\n",
       "3   EMPENHO PARA ATENDER DESPESA COM TELEFONIA MOD...   \n",
       "28  VALOR QUE SE EMPENHA PARA ATENDER DESPESAS COM...   \n",
       "21  ATENDER DESPESA COM CONTRIBUICOES PATRONAIS DA...   \n",
       "\n",
       "    Código Esfera Orçamentária Esfera Orçamentária Código Tipo Crédito  \\\n",
       "3                            1    Orçamento Fiscal                   A   \n",
       "28                           1    Orçamento Fiscal                   A   \n",
       "21                           1    Orçamento Fiscal                   A   \n",
       "\n",
       "     Tipo Crédito  Código Grupo Fonte Recurso  \\\n",
       "3   INICIAL (LOA)                           1   \n",
       "28  INICIAL (LOA)                           1   \n",
       "21  INICIAL (LOA)                           1   \n",
       "\n",
       "                         Grupo Fonte Recurso  Código Fonte Recurso  \\\n",
       "3   Recursos Do Tesouro - Exercicio Corrente                     3   \n",
       "28  Recursos Do Tesouro - Exercicio Corrente                     0   \n",
       "21  Recursos Do Tesouro - Exercicio Corrente                     0   \n",
       "\n",
       "                                    Fonte Recurso  \\\n",
       "3   TRANSF.DO IMP.DE RENDA AOS MUNIC.-REF.TRIBUT.   \n",
       "28                            RECURSOS ORDINARIOS   \n",
       "21                            RECURSOS ORDINARIOS   \n",
       "\n",
       "    Código Unidade Orçamentária                       Unidade Orçamentária  \\\n",
       "3                         25103  SEC ESPECIAL DA RECEITA FEDERAL DO BRASIL   \n",
       "28                        26434   INST.FED.DE EDUC.,CIENC.E TEC.FLUMINENSE   \n",
       "21                        26104   INSTITUTO NACIONAL DE EDUCACAO DE SURDOS   \n",
       "\n",
       "    Código Função         Função  Código SubFunção            SubFunção  \\\n",
       "3               4  Administração               122  Administração geral   \n",
       "28             12       Educação               363  Ensino profissional   \n",
       "21             12       Educação               368      Educação básica   \n",
       "\n",
       "    Código Programa                                           Programa  \\\n",
       "3                32  PROGRAMA DE GESTAO E MANUTENCAO DO PODER EXECU...   \n",
       "28             5112  EDUCACAO PROFISSIONAL E TECNOLOGICA QUE TRANSF...   \n",
       "21               32  PROGRAMA DE GESTAO E MANUTENCAO DO PODER EXECU...   \n",
       "\n",
       "   Código Ação                                               Ação  \\\n",
       "3         2000                           ADMINISTRACAO DA UNIDADE   \n",
       "28        20RL  FUNCIONAMENTO DAS INSTITUICOES DA REDE FEDERAL...   \n",
       "21        20TP                              ATIVOS CIVIS DA UNIAO   \n",
       "\n",
       "            Linguagem Cidadã Código Subtítulo (Localizador)  \\\n",
       "3   Administração de unidade                       20000001   \n",
       "28                  PRONATEC                       20RL0033   \n",
       "21                       NaN                       20TP0033   \n",
       "\n",
       "                              Subtítulo (Localizador)  \\\n",
       "3           ADMINISTRACAO DA UNIDADE       - NACIONAL   \n",
       "28  FUNCIONAMENTO DAS INSTITUICOES DA RED - NO EST...   \n",
       "21  ATIVOS CIVIS DA UNIAO         - NO ESTADO DO R...   \n",
       "\n",
       "    Código Plano Orçamentário              Plano Orçamentário  \\\n",
       "3                           2  ADMINISTRACAO DA UNIDADE - RFB   \n",
       "28                          0     CODIGO INEXISTENTE NO SIAFI   \n",
       "21                          0           ATIVOS CIVIS DA UNIAO   \n",
       "\n",
       "    Código Programa Governo Nome Programa Governo Autor Emenda  \\\n",
       "3                         0        Sem informação   SEM EMENDA   \n",
       "28                        0        Sem informação   SEM EMENDA   \n",
       "21                        0        Sem informação   SEM EMENDA   \n",
       "\n",
       "    Código Categoria de Despesa Categoria de Despesa  Código Grupo de Despesa  \\\n",
       "3                             3   DESPESAS CORRENTES                        3   \n",
       "28                            3   DESPESAS CORRENTES                        3   \n",
       "21                            3   DESPESAS CORRENTES                        1   \n",
       "\n",
       "              Grupo de Despesa  Código Modalidade de Aplicação  \\\n",
       "3    Outras Despesas Correntes                              90   \n",
       "28   Outras Despesas Correntes                              90   \n",
       "21  Pessoal e Encargos Sociais                              90   \n",
       "\n",
       "   Modalidade de Aplicação  Código Elemento de Despesa  \\\n",
       "3       Aplicações Diretas                          39   \n",
       "28      Aplicações Diretas                          40   \n",
       "21      Aplicações Diretas                           7   \n",
       "\n",
       "                            Elemento de Despesa              Processo  \\\n",
       "3   Outros Serviços de Terceiros - Pessoa Juríd  13005.720055/2019-50   \n",
       "28   Serviços de Tecnologia da Informação e Com  23317.000384.2024-88   \n",
       "21  Contribuição a Entidades Fechadas de Previd  23121.001370/2023-98   \n",
       "\n",
       "   Modalidade de Licitação Inciso             Amparo  \\\n",
       "3                   Pregão     SI  LEI 10.520 / 2002   \n",
       "28                  Pregão     SI  LEI 10.520 / 2002   \n",
       "21           Não se Aplica     SI     SEM INFORMACAO   \n",
       "\n",
       "    Referência de Dispensa ou Inexigibilidade  Código Convênio  \\\n",
       "3                                          -2               -1   \n",
       "28                                         -2               -1   \n",
       "21                                         -2               -1   \n",
       "\n",
       "   Contrato de Repasse / Termo de Parceria / Outros Valor Original do Empenho  \\\n",
       "3                                     NAO SE APLICA                     10,00   \n",
       "28                                    NAO SE APLICA                    500,00   \n",
       "21                                    NAO SE APLICA                 273000,00   \n",
       "\n",
       "   Valor do Empenho Convertido pra R$ Valor Utilizado na Conversão  \n",
       "3                               10,00                       1,0000  \n",
       "28                             500,00                       1,0000  \n",
       "21                          273000,00                       1,0000  "
      ]
     },
     "metadata": {},
     "output_type": "display_data"
    },
    {
     "data": {
      "text/markdown": [
       "## Pagamento"
      ],
      "text/plain": [
       "<IPython.core.display.Markdown object>"
      ]
     },
     "metadata": {},
     "output_type": "display_data"
    },
    {
     "name": "stdout",
     "output_type": "stream",
     "text": [
      "<class 'pandas.core.frame.DataFrame'>\n",
      "RangeIndex: 0 entries\n",
      "Data columns (total 34 columns):\n",
      " #   Column                                Non-Null Count  Dtype \n",
      "---  ------                                --------------  ----- \n",
      " 0   Código Pagamento                      0 non-null      object\n",
      " 1   Código Pagamento Resumido             0 non-null      object\n",
      " 2   Data Emissão                          0 non-null      object\n",
      " 3   Código Tipo Documento                 0 non-null      object\n",
      " 4   Tipo Documento                        0 non-null      object\n",
      " 5   Tipo OB                               0 non-null      object\n",
      " 6   Extraorçamentário                     0 non-null      object\n",
      " 7   Código Órgão Superior                 0 non-null      object\n",
      " 8   Órgão Superior                        0 non-null      object\n",
      " 9   Código Órgão                          0 non-null      object\n",
      " 10  Órgão                                 0 non-null      object\n",
      " 11  Código Unidade Gestora                0 non-null      object\n",
      " 12  Unidade Gestora                       0 non-null      object\n",
      " 13  Código Gestão                         0 non-null      object\n",
      " 14  Gestão                                0 non-null      object\n",
      " 15  Código Favorecido                     0 non-null      object\n",
      " 16  Favorecido                            0 non-null      object\n",
      " 17  Observação                            0 non-null      object\n",
      " 18  Processo                              0 non-null      object\n",
      " 19  Código Categoria de Despesa           0 non-null      object\n",
      " 20  Categoria de Despesa                  0 non-null      object\n",
      " 21  Código Grupo de Despesa               0 non-null      object\n",
      " 22  Grupo de Despesa                      0 non-null      object\n",
      " 23  Código Modalidade de Aplicação        0 non-null      object\n",
      " 24  Modalidade de Aplicação               0 non-null      object\n",
      " 25  Código Elemento de Despesa            0 non-null      object\n",
      " 26  Elemento de Despesa                   0 non-null      object\n",
      " 27  Código Plano Orçamentário             0 non-null      object\n",
      " 28  Plano Orçamentário                    0 non-null      object\n",
      " 29  Código Programa Governo               0 non-null      object\n",
      " 30  Nome Programa Governo                 0 non-null      object\n",
      " 31  Valor Original do Pagamento           0 non-null      object\n",
      " 32  Valor do Pagamento Convertido pra R$  0 non-null      object\n",
      " 33  Valor Utilizado na Conversão          0 non-null      object\n",
      "dtypes: object(34)\n",
      "memory usage: 132.0+ bytes\n"
     ]
    },
    {
     "data": {
      "text/plain": [
       "None"
      ]
     },
     "metadata": {},
     "output_type": "display_data"
    },
    {
     "data": {
      "text/plain": [
       "'df_pagamentos tem 0 entradas, estava quebrando o código'"
      ]
     },
     "metadata": {},
     "output_type": "display_data"
    },
    {
     "data": {
      "text/markdown": [
       "## Liquidação"
      ],
      "text/plain": [
       "<IPython.core.display.Markdown object>"
      ]
     },
     "metadata": {},
     "output_type": "display_data"
    },
    {
     "name": "stdout",
     "output_type": "stream",
     "text": [
      "<class 'pandas.core.frame.DataFrame'>\n",
      "RangeIndex: 99 entries, 0 to 98\n",
      "Data columns (total 28 columns):\n",
      " #   Column                          Non-Null Count  Dtype \n",
      "---  ------                          --------------  ----- \n",
      " 0   Código Liquidação               99 non-null     object\n",
      " 1   Código Liquidação Resumido      99 non-null     object\n",
      " 2   Data Emissão                    99 non-null     object\n",
      " 3   Código Tipo Documento           99 non-null     object\n",
      " 4   Tipo Documento                  99 non-null     object\n",
      " 5   Código Órgão Superior           99 non-null     int64 \n",
      " 6   Órgão Superior                  99 non-null     object\n",
      " 7   Código Órgão                    99 non-null     int64 \n",
      " 8   Órgão                           99 non-null     object\n",
      " 9   Código Unidade Gestora          99 non-null     int64 \n",
      " 10  Unidade Gestora                 99 non-null     object\n",
      " 11  Código Gestão                   99 non-null     int64 \n",
      " 12  Gestão                          99 non-null     object\n",
      " 13  Código Favorecido               99 non-null     object\n",
      " 14  Favorecido                      99 non-null     object\n",
      " 15  Observação                      99 non-null     object\n",
      " 16  Código Categoria de Despesa     99 non-null     object\n",
      " 17  Categoria de Despesa            99 non-null     object\n",
      " 18  Código Grupo de Despesa         99 non-null     object\n",
      " 19  Grupo de Despesa                99 non-null     object\n",
      " 20  Código Modalidade de Aplicação  99 non-null     object\n",
      " 21  Modalidade de Aplicação         99 non-null     object\n",
      " 22  Código Elemento de Despesa      99 non-null     object\n",
      " 23  Elemento de Despesa             99 non-null     object\n",
      " 24  Código Plano Orçamentário       99 non-null     object\n",
      " 25  Plano Orçamentário              99 non-null     object\n",
      " 26  Código Programa Governo         99 non-null     int64 \n",
      " 27  Nome Programa Governo           99 non-null     object\n",
      "dtypes: int64(5), object(23)\n",
      "memory usage: 21.8+ KB\n"
     ]
    },
    {
     "data": {
      "text/plain": [
       "None"
      ]
     },
     "metadata": {},
     "output_type": "display_data"
    },
    {
     "data": {
      "text/html": [
       "<div>\n",
       "<style scoped>\n",
       "    .dataframe tbody tr th:only-of-type {\n",
       "        vertical-align: middle;\n",
       "    }\n",
       "\n",
       "    .dataframe tbody tr th {\n",
       "        vertical-align: top;\n",
       "    }\n",
       "\n",
       "    .dataframe thead th {\n",
       "        text-align: right;\n",
       "    }\n",
       "</style>\n",
       "<table border=\"1\" class=\"dataframe\">\n",
       "  <thead>\n",
       "    <tr style=\"text-align: right;\">\n",
       "      <th></th>\n",
       "      <th>Código Liquidação</th>\n",
       "      <th>Código Liquidação Resumido</th>\n",
       "      <th>Data Emissão</th>\n",
       "      <th>Código Tipo Documento</th>\n",
       "      <th>Tipo Documento</th>\n",
       "      <th>Código Órgão Superior</th>\n",
       "      <th>Órgão Superior</th>\n",
       "      <th>Código Órgão</th>\n",
       "      <th>Órgão</th>\n",
       "      <th>Código Unidade Gestora</th>\n",
       "      <th>Unidade Gestora</th>\n",
       "      <th>Código Gestão</th>\n",
       "      <th>Gestão</th>\n",
       "      <th>Código Favorecido</th>\n",
       "      <th>Favorecido</th>\n",
       "      <th>Observação</th>\n",
       "      <th>Código Categoria de Despesa</th>\n",
       "      <th>Categoria de Despesa</th>\n",
       "      <th>Código Grupo de Despesa</th>\n",
       "      <th>Grupo de Despesa</th>\n",
       "      <th>Código Modalidade de Aplicação</th>\n",
       "      <th>Modalidade de Aplicação</th>\n",
       "      <th>Código Elemento de Despesa</th>\n",
       "      <th>Elemento de Despesa</th>\n",
       "      <th>Código Plano Orçamentário</th>\n",
       "      <th>Plano Orçamentário</th>\n",
       "      <th>Código Programa Governo</th>\n",
       "      <th>Nome Programa Governo</th>\n",
       "    </tr>\n",
       "  </thead>\n",
       "  <tbody>\n",
       "    <tr>\n",
       "      <th>1</th>\n",
       "      <td>275075272112024NS000258</td>\n",
       "      <td>2024NS000258</td>\n",
       "      <td>01/01/2024</td>\n",
       "      <td>NS</td>\n",
       "      <td>Nota de Lançamento de Sistema</td>\n",
       "      <td>39000</td>\n",
       "      <td>Ministério dos Transportes</td>\n",
       "      <td>29209</td>\n",
       "      <td>VALEC Engenharia, Construções e Ferrovias S</td>\n",
       "      <td>275075</td>\n",
       "      <td>VALEC ENGENHARIA, CONSTRUCOES E FERROVIAS S.A</td>\n",
       "      <td>27211</td>\n",
       "      <td>VALEC-ENGENHARIA,CONSTRUCOES E FERROVIAS S/A</td>\n",
       "      <td>01993899000153</td>\n",
       "      <td>PERICIAL SUL-PERICIAS MEDICAS SAUDE E SEGURANC...</td>\n",
       "      <td>DLC 81/2024/SUGEP, SEI 7954143 - PAGAMENTO REF...</td>\n",
       "      <td>3</td>\n",
       "      <td>DESPESAS CORRENTES</td>\n",
       "      <td>3</td>\n",
       "      <td>Outras Despesas Correntes</td>\n",
       "      <td>90</td>\n",
       "      <td>Aplicações Diretas</td>\n",
       "      <td>39</td>\n",
       "      <td>Outros Serviços de Terceiros - Pessoa Juríd</td>\n",
       "      <td>0002</td>\n",
       "      <td>EXAMES PERIODICOS - CIVIS</td>\n",
       "      <td>0</td>\n",
       "      <td>Sem informação</td>\n",
       "    </tr>\n",
       "    <tr>\n",
       "      <th>35</th>\n",
       "      <td>158523264292024NS000076</td>\n",
       "      <td>2024NS000076</td>\n",
       "      <td>01/01/2024</td>\n",
       "      <td>NS</td>\n",
       "      <td>Nota de Lançamento de Sistema</td>\n",
       "      <td>26000</td>\n",
       "      <td>Ministério da Educação</td>\n",
       "      <td>26429</td>\n",
       "      <td>Instituto Federal de Educação, Ciência e T</td>\n",
       "      <td>158523</td>\n",
       "      <td>INST.FED.DE GOIAS/CAMPUS FORMOSA</td>\n",
       "      <td>26429</td>\n",
       "      <td>INST.FED.DE EDUC.,CIENC.E TEC.DE GOIAS</td>\n",
       "      <td>26665245000121</td>\n",
       "      <td>TYL SERVICOS DE LIMPEZA E ADMINISTRATIVO LTDA</td>\n",
       "      <td>PAGAMENTO NFS-E 0157 - COMPETENCIA DEZEMBRO/20...</td>\n",
       "      <td>3</td>\n",
       "      <td>DESPESAS CORRENTES</td>\n",
       "      <td>3</td>\n",
       "      <td>Outras Despesas Correntes</td>\n",
       "      <td>90</td>\n",
       "      <td>Aplicações Diretas</td>\n",
       "      <td>37</td>\n",
       "      <td>Locação de Mão-de-Obra</td>\n",
       "      <td>0000</td>\n",
       "      <td>FUNCIONAMENTO DAS INSTITUICOES DA REDE FEDERAL...</td>\n",
       "      <td>0</td>\n",
       "      <td>Sem informação</td>\n",
       "    </tr>\n",
       "    <tr>\n",
       "      <th>25</th>\n",
       "      <td>200006000012024NS000005</td>\n",
       "      <td>2024NS000005</td>\n",
       "      <td>01/01/2024</td>\n",
       "      <td>NS</td>\n",
       "      <td>Nota de Lançamento de Sistema</td>\n",
       "      <td>30000</td>\n",
       "      <td>Ministério da Justiça e Segurança Pública</td>\n",
       "      <td>30000</td>\n",
       "      <td>Ministério da Justiça e Segurança Pública</td>\n",
       "      <td>200006</td>\n",
       "      <td>COORDENACAO-GERAL DE GESTAO DE PESSOAS-CGGP</td>\n",
       "      <td>1</td>\n",
       "      <td>TESOURO NACIONAL</td>\n",
       "      <td>200006</td>\n",
       "      <td>COORDENACAO-GERAL DE GESTAO DE PESSOAS-CGGP</td>\n",
       "      <td>ENCARGOS INSS FOLHA DE PAGAMENTO PESSOAL ATIVO...</td>\n",
       "      <td>3</td>\n",
       "      <td>DESPESAS CORRENTES</td>\n",
       "      <td>1</td>\n",
       "      <td>Pessoal e Encargos Sociais</td>\n",
       "      <td>91</td>\n",
       "      <td>Aplicação Direta Decorrente de Operação entre ...</td>\n",
       "      <td>13</td>\n",
       "      <td>Obrigações Patronais</td>\n",
       "      <td>0000</td>\n",
       "      <td>ATIVOS CIVIS DA UNIAO</td>\n",
       "      <td>0</td>\n",
       "      <td>Sem informação</td>\n",
       "    </tr>\n",
       "  </tbody>\n",
       "</table>\n",
       "</div>"
      ],
      "text/plain": [
       "          Código Liquidação Código Liquidação Resumido Data Emissão  \\\n",
       "1   275075272112024NS000258               2024NS000258   01/01/2024   \n",
       "35  158523264292024NS000076               2024NS000076   01/01/2024   \n",
       "25  200006000012024NS000005               2024NS000005   01/01/2024   \n",
       "\n",
       "   Código Tipo Documento                 Tipo Documento  \\\n",
       "1                     NS  Nota de Lançamento de Sistema   \n",
       "35                    NS  Nota de Lançamento de Sistema   \n",
       "25                    NS  Nota de Lançamento de Sistema   \n",
       "\n",
       "    Código Órgão Superior                             Órgão Superior  \\\n",
       "1                   39000                 Ministério dos Transportes   \n",
       "35                  26000                     Ministério da Educação   \n",
       "25                  30000  Ministério da Justiça e Segurança Pública   \n",
       "\n",
       "    Código Órgão                                        Órgão  \\\n",
       "1          29209  VALEC Engenharia, Construções e Ferrovias S   \n",
       "35         26429   Instituto Federal de Educação, Ciência e T   \n",
       "25         30000    Ministério da Justiça e Segurança Pública   \n",
       "\n",
       "    Código Unidade Gestora                                Unidade Gestora  \\\n",
       "1                   275075  VALEC ENGENHARIA, CONSTRUCOES E FERROVIAS S.A   \n",
       "35                  158523               INST.FED.DE GOIAS/CAMPUS FORMOSA   \n",
       "25                  200006    COORDENACAO-GERAL DE GESTAO DE PESSOAS-CGGP   \n",
       "\n",
       "    Código Gestão                                        Gestão  \\\n",
       "1           27211  VALEC-ENGENHARIA,CONSTRUCOES E FERROVIAS S/A   \n",
       "35          26429        INST.FED.DE EDUC.,CIENC.E TEC.DE GOIAS   \n",
       "25              1                              TESOURO NACIONAL   \n",
       "\n",
       "   Código Favorecido                                         Favorecido  \\\n",
       "1     01993899000153  PERICIAL SUL-PERICIAS MEDICAS SAUDE E SEGURANC...   \n",
       "35    26665245000121      TYL SERVICOS DE LIMPEZA E ADMINISTRATIVO LTDA   \n",
       "25            200006        COORDENACAO-GERAL DE GESTAO DE PESSOAS-CGGP   \n",
       "\n",
       "                                           Observação  \\\n",
       "1   DLC 81/2024/SUGEP, SEI 7954143 - PAGAMENTO REF...   \n",
       "35  PAGAMENTO NFS-E 0157 - COMPETENCIA DEZEMBRO/20...   \n",
       "25  ENCARGOS INSS FOLHA DE PAGAMENTO PESSOAL ATIVO...   \n",
       "\n",
       "   Código Categoria de Despesa Categoria de Despesa Código Grupo de Despesa  \\\n",
       "1                            3   DESPESAS CORRENTES                       3   \n",
       "35                           3   DESPESAS CORRENTES                       3   \n",
       "25                           3   DESPESAS CORRENTES                       1   \n",
       "\n",
       "              Grupo de Despesa Código Modalidade de Aplicação  \\\n",
       "1    Outras Despesas Correntes                             90   \n",
       "35   Outras Despesas Correntes                             90   \n",
       "25  Pessoal e Encargos Sociais                             91   \n",
       "\n",
       "                              Modalidade de Aplicação  \\\n",
       "1                                  Aplicações Diretas   \n",
       "35                                 Aplicações Diretas   \n",
       "25  Aplicação Direta Decorrente de Operação entre ...   \n",
       "\n",
       "   Código Elemento de Despesa                          Elemento de Despesa  \\\n",
       "1                          39  Outros Serviços de Terceiros - Pessoa Juríd   \n",
       "35                         37                       Locação de Mão-de-Obra   \n",
       "25                         13                         Obrigações Patronais   \n",
       "\n",
       "   Código Plano Orçamentário  \\\n",
       "1                       0002   \n",
       "35                      0000   \n",
       "25                      0000   \n",
       "\n",
       "                                   Plano Orçamentário  \\\n",
       "1                           EXAMES PERIODICOS - CIVIS   \n",
       "35  FUNCIONAMENTO DAS INSTITUICOES DA REDE FEDERAL...   \n",
       "25                              ATIVOS CIVIS DA UNIAO   \n",
       "\n",
       "    Código Programa Governo Nome Programa Governo  \n",
       "1                         0        Sem informação  \n",
       "35                        0        Sem informação  \n",
       "25                        0        Sem informação  "
      ]
     },
     "metadata": {},
     "output_type": "display_data"
    },
    {
     "data": {
      "text/markdown": [
       "## Execução das despesas"
      ],
      "text/plain": [
       "<IPython.core.display.Markdown object>"
      ]
     },
     "metadata": {},
     "output_type": "display_data"
    },
    {
     "name": "stdout",
     "output_type": "stream",
     "text": [
      "<class 'pandas.core.frame.DataFrame'>\n",
      "RangeIndex: 48017 entries, 0 to 48016\n",
      "Data columns (total 47 columns):\n",
      " #   Column                               Non-Null Count  Dtype  \n",
      "---  ------                               --------------  -----  \n",
      " 0   Ano e mês do lançamento              48017 non-null  object \n",
      " 1   Código Órgão Superior                48017 non-null  int64  \n",
      " 2   Nome Órgão Superior                  48017 non-null  object \n",
      " 3   Código Órgão Subordinado             48017 non-null  int64  \n",
      " 4   Nome Órgão Subordinado               47437 non-null  object \n",
      " 5   Código Unidade Gestora               48017 non-null  int64  \n",
      " 6   Nome Unidade Gestora                 48017 non-null  object \n",
      " 7   Código Gestão                        47671 non-null  float64\n",
      " 8   Nome Gestão                          47671 non-null  object \n",
      " 9   Código Unidade Orçamentária          48017 non-null  int64  \n",
      " 10  Nome Unidade Orçamentária            48017 non-null  object \n",
      " 11  Código Função                        48017 non-null  int64  \n",
      " 12  Nome Função                          48017 non-null  object \n",
      " 13  Código Subfução                      48017 non-null  int64  \n",
      " 14  Nome Subfunção                       48017 non-null  object \n",
      " 15  Código Programa Orçamentário         48017 non-null  int64  \n",
      " 16  Nome Programa Orçamentário           48017 non-null  object \n",
      " 17  Código Ação                          48017 non-null  object \n",
      " 18  Nome Ação                            48017 non-null  object \n",
      " 19  Código Plano Orçamentário            48017 non-null  object \n",
      " 20  Plano Orçamentário                   48017 non-null  object \n",
      " 21  Código Programa Governo              48017 non-null  object \n",
      " 22  Nome Programa Governo                48017 non-null  object \n",
      " 23  UF                                   17298 non-null  object \n",
      " 24  Município                            268 non-null    object \n",
      " 25  Código Subtítulo                     48017 non-null  object \n",
      " 26  Nome Subtítulo                       48017 non-null  object \n",
      " 27  Código Localizador                   48017 non-null  int64  \n",
      " 28  Nome Localizador                     48017 non-null  object \n",
      " 29  Sigla Localizador                    48017 non-null  int64  \n",
      " 30  Descrição Complementar Localizador   48017 non-null  object \n",
      " 31  Código Autor Emenda                  894 non-null    float64\n",
      " 32  Nome Autor Emenda                    48017 non-null  object \n",
      " 33  Código Categoria Econômica           48017 non-null  int64  \n",
      " 34  Nome Categoria Econômica             48017 non-null  object \n",
      " 35  Código Grupo de Despesa              48017 non-null  int64  \n",
      " 36  Nome Grupo de Despesa                48017 non-null  object \n",
      " 37  Código Elemento de Despesa           48017 non-null  int64  \n",
      " 38  Nome Elemento de Despesa             48017 non-null  object \n",
      " 39  Código Modalidade da Despesa         48017 non-null  int64  \n",
      " 40  Modalidade da Despesa                48017 non-null  object \n",
      " 41  Valor Empenhado (R$)                 48017 non-null  object \n",
      " 42  Valor Liquidado (R$)                 48017 non-null  object \n",
      " 43  Valor Pago (R$)                      48017 non-null  object \n",
      " 44  Valor Restos a Pagar Inscritos (R$)  48017 non-null  object \n",
      " 45  Valor Restos a Pagar Cancelado (R$)  48017 non-null  object \n",
      " 46  Valor Restos a Pagar Pagos (R$)      48017 non-null  object \n",
      "dtypes: float64(2), int64(13), object(32)\n",
      "memory usage: 17.2+ MB\n"
     ]
    },
    {
     "data": {
      "text/plain": [
       "None"
      ]
     },
     "metadata": {},
     "output_type": "display_data"
    },
    {
     "data": {
      "text/html": [
       "<div>\n",
       "<style scoped>\n",
       "    .dataframe tbody tr th:only-of-type {\n",
       "        vertical-align: middle;\n",
       "    }\n",
       "\n",
       "    .dataframe tbody tr th {\n",
       "        vertical-align: top;\n",
       "    }\n",
       "\n",
       "    .dataframe thead th {\n",
       "        text-align: right;\n",
       "    }\n",
       "</style>\n",
       "<table border=\"1\" class=\"dataframe\">\n",
       "  <thead>\n",
       "    <tr style=\"text-align: right;\">\n",
       "      <th></th>\n",
       "      <th>Ano e mês do lançamento</th>\n",
       "      <th>Código Órgão Superior</th>\n",
       "      <th>Nome Órgão Superior</th>\n",
       "      <th>Código Órgão Subordinado</th>\n",
       "      <th>Nome Órgão Subordinado</th>\n",
       "      <th>Código Unidade Gestora</th>\n",
       "      <th>Nome Unidade Gestora</th>\n",
       "      <th>Código Gestão</th>\n",
       "      <th>Nome Gestão</th>\n",
       "      <th>Código Unidade Orçamentária</th>\n",
       "      <th>Nome Unidade Orçamentária</th>\n",
       "      <th>Código Função</th>\n",
       "      <th>Nome Função</th>\n",
       "      <th>Código Subfução</th>\n",
       "      <th>Nome Subfunção</th>\n",
       "      <th>Código Programa Orçamentário</th>\n",
       "      <th>Nome Programa Orçamentário</th>\n",
       "      <th>Código Ação</th>\n",
       "      <th>Nome Ação</th>\n",
       "      <th>Código Plano Orçamentário</th>\n",
       "      <th>Plano Orçamentário</th>\n",
       "      <th>Código Programa Governo</th>\n",
       "      <th>Nome Programa Governo</th>\n",
       "      <th>UF</th>\n",
       "      <th>Município</th>\n",
       "      <th>Código Subtítulo</th>\n",
       "      <th>Nome Subtítulo</th>\n",
       "      <th>Código Localizador</th>\n",
       "      <th>Nome Localizador</th>\n",
       "      <th>Sigla Localizador</th>\n",
       "      <th>Descrição Complementar Localizador</th>\n",
       "      <th>Código Autor Emenda</th>\n",
       "      <th>Nome Autor Emenda</th>\n",
       "      <th>Código Categoria Econômica</th>\n",
       "      <th>Nome Categoria Econômica</th>\n",
       "      <th>Código Grupo de Despesa</th>\n",
       "      <th>Nome Grupo de Despesa</th>\n",
       "      <th>Código Elemento de Despesa</th>\n",
       "      <th>Nome Elemento de Despesa</th>\n",
       "      <th>Código Modalidade da Despesa</th>\n",
       "      <th>Modalidade da Despesa</th>\n",
       "      <th>Valor Empenhado (R$)</th>\n",
       "      <th>Valor Liquidado (R$)</th>\n",
       "      <th>Valor Pago (R$)</th>\n",
       "      <th>Valor Restos a Pagar Inscritos (R$)</th>\n",
       "      <th>Valor Restos a Pagar Cancelado (R$)</th>\n",
       "      <th>Valor Restos a Pagar Pagos (R$)</th>\n",
       "    </tr>\n",
       "  </thead>\n",
       "  <tbody>\n",
       "    <tr>\n",
       "      <th>43390</th>\n",
       "      <td>2024/01</td>\n",
       "      <td>52000</td>\n",
       "      <td>Ministério da Defesa</td>\n",
       "      <td>52121</td>\n",
       "      <td>Comando do Exército</td>\n",
       "      <td>160044</td>\n",
       "      <td>23º BATALHAO DE CACADORES</td>\n",
       "      <td>1.0</td>\n",
       "      <td>TESOURO NACIONAL</td>\n",
       "      <td>52121</td>\n",
       "      <td>COMANDO DO EXERCITO</td>\n",
       "      <td>5</td>\n",
       "      <td>Defesa nacional</td>\n",
       "      <td>128</td>\n",
       "      <td>Formação de recursos humanos</td>\n",
       "      <td>6012</td>\n",
       "      <td>DEFESA NACIONAL</td>\n",
       "      <td>8965</td>\n",
       "      <td>CAPACITACAO PROFISSIONAL MILITAR DO EXERCITO B...</td>\n",
       "      <td>0000</td>\n",
       "      <td>CAPACITACAO PROFISSIONAL MILITAR DO EXERCITO B...</td>\n",
       "      <td>00</td>\n",
       "      <td>Sem informação</td>\n",
       "      <td>NaN</td>\n",
       "      <td>NaN</td>\n",
       "      <td>89650001</td>\n",
       "      <td>CAPACITACAO PROFISSIONAL MILITAR DO E - NACIONAL</td>\n",
       "      <td>1</td>\n",
       "      <td>CAPACITACAO PROFISSIONAL MILITAR DO E - NACIO</td>\n",
       "      <td>-1</td>\n",
       "      <td>Sem informação</td>\n",
       "      <td>NaN</td>\n",
       "      <td>SEM EMENDA</td>\n",
       "      <td>3</td>\n",
       "      <td>DESPESAS CORRENTES</td>\n",
       "      <td>3</td>\n",
       "      <td>Outras Despesas Correntes</td>\n",
       "      <td>33</td>\n",
       "      <td>Passagens e Despesas com Locomoção</td>\n",
       "      <td>90</td>\n",
       "      <td>Aplicações Diretas</td>\n",
       "      <td>0,00</td>\n",
       "      <td>0,00</td>\n",
       "      <td>0,00</td>\n",
       "      <td>0,00</td>\n",
       "      <td>0,00</td>\n",
       "      <td>562,06</td>\n",
       "    </tr>\n",
       "    <tr>\n",
       "      <th>13957</th>\n",
       "      <td>2024/01</td>\n",
       "      <td>46000</td>\n",
       "      <td>Ministério da Gestão e da Inovação em Ser</td>\n",
       "      <td>46000</td>\n",
       "      <td>Ministério da Gestão e da Inovação em Serviços...</td>\n",
       "      <td>170345</td>\n",
       "      <td>SUPERINTENDENCIA REG. ADM. DO MGI - AMAPA</td>\n",
       "      <td>1.0</td>\n",
       "      <td>TESOURO NACIONAL</td>\n",
       "      <td>37101</td>\n",
       "      <td>CONTROLADORIA GERAL DA UNIAO</td>\n",
       "      <td>4</td>\n",
       "      <td>Administração</td>\n",
       "      <td>124</td>\n",
       "      <td>Controle interno</td>\n",
       "      <td>4104</td>\n",
       "      <td>TRANSPARENCIA, INTEGRIDADE E ENFRENTAMENTO DA ...</td>\n",
       "      <td>2D58</td>\n",
       "      <td>AUDITORIA GOVERNAMENTAL, TRANSPARENCIA, INTEGR...</td>\n",
       "      <td>2000</td>\n",
       "      <td>CODIGO INEXISTENTE NO SIAFI</td>\n",
       "      <td>00</td>\n",
       "      <td>Sem informação</td>\n",
       "      <td>NaN</td>\n",
       "      <td>NaN</td>\n",
       "      <td>2D580001</td>\n",
       "      <td>AUDITORIA GOVERNAMENTAL, TRANSPARENCI - NACIONAL</td>\n",
       "      <td>1</td>\n",
       "      <td>AUDITORIA GOVERNAMENTAL, TRANSPARENCI - NACIO</td>\n",
       "      <td>-1</td>\n",
       "      <td>Sem informação</td>\n",
       "      <td>NaN</td>\n",
       "      <td>SEM EMENDA</td>\n",
       "      <td>3</td>\n",
       "      <td>DESPESAS CORRENTES</td>\n",
       "      <td>3</td>\n",
       "      <td>Outras Despesas Correntes</td>\n",
       "      <td>37</td>\n",
       "      <td>Locação de Mão-de-Obra</td>\n",
       "      <td>90</td>\n",
       "      <td>Aplicações Diretas</td>\n",
       "      <td>7305,13</td>\n",
       "      <td>0,00</td>\n",
       "      <td>0,00</td>\n",
       "      <td>0,00</td>\n",
       "      <td>0,00</td>\n",
       "      <td>0,00</td>\n",
       "    </tr>\n",
       "    <tr>\n",
       "      <th>36034</th>\n",
       "      <td>2024/01</td>\n",
       "      <td>44000</td>\n",
       "      <td>Ministério do Meio Ambiente e Mudança do Cl</td>\n",
       "      <td>20701</td>\n",
       "      <td>Instituto Brasileiro do Meio Ambiente e dos Re...</td>\n",
       "      <td>193125</td>\n",
       "      <td>IBAMA - SUPERINTENDENCIA DE SANTA CATARINA/SC</td>\n",
       "      <td>19211.0</td>\n",
       "      <td>INST.BRAS.DO MEIO-AMBIENTE E DOS REC.NAT.REN.</td>\n",
       "      <td>44201</td>\n",
       "      <td>INST.BRAS.DO MEIO AMB.E REC.NAT.RENOVAVEIS</td>\n",
       "      <td>18</td>\n",
       "      <td>Gestão ambiental</td>\n",
       "      <td>122</td>\n",
       "      <td>Administração geral</td>\n",
       "      <td>32</td>\n",
       "      <td>PROGRAMA DE GESTAO E MANUTENCAO DO PODER EXECU...</td>\n",
       "      <td>2000</td>\n",
       "      <td>ADMINISTRACAO DA UNIDADE</td>\n",
       "      <td>0007</td>\n",
       "      <td>MANUTENCAO E MODERNIZACAO DA INFRAESTRUTURA FI...</td>\n",
       "      <td>00</td>\n",
       "      <td>Sem informação</td>\n",
       "      <td>NaN</td>\n",
       "      <td>NaN</td>\n",
       "      <td>20000001</td>\n",
       "      <td>ADMINISTRACAO DA UNIDADE       - NACIONAL</td>\n",
       "      <td>1</td>\n",
       "      <td>ADMINISTRACAO DA UNIDADE       - NACIONAL</td>\n",
       "      <td>-1</td>\n",
       "      <td>Sem informação</td>\n",
       "      <td>NaN</td>\n",
       "      <td>SEM EMENDA</td>\n",
       "      <td>3</td>\n",
       "      <td>DESPESAS CORRENTES</td>\n",
       "      <td>3</td>\n",
       "      <td>Outras Despesas Correntes</td>\n",
       "      <td>33</td>\n",
       "      <td>Passagens e Despesas com Locomoção</td>\n",
       "      <td>90</td>\n",
       "      <td>Aplicações Diretas</td>\n",
       "      <td>10000,00</td>\n",
       "      <td>0,00</td>\n",
       "      <td>0,00</td>\n",
       "      <td>0,00</td>\n",
       "      <td>0,00</td>\n",
       "      <td>0,00</td>\n",
       "    </tr>\n",
       "  </tbody>\n",
       "</table>\n",
       "</div>"
      ],
      "text/plain": [
       "      Ano e mês do lançamento  Código Órgão Superior  \\\n",
       "43390                 2024/01                  52000   \n",
       "13957                 2024/01                  46000   \n",
       "36034                 2024/01                  44000   \n",
       "\n",
       "                               Nome Órgão Superior  Código Órgão Subordinado  \\\n",
       "43390                         Ministério da Defesa                     52121   \n",
       "13957    Ministério da Gestão e da Inovação em Ser                     46000   \n",
       "36034  Ministério do Meio Ambiente e Mudança do Cl                     20701   \n",
       "\n",
       "                                  Nome Órgão Subordinado  \\\n",
       "43390                                Comando do Exército   \n",
       "13957  Ministério da Gestão e da Inovação em Serviços...   \n",
       "36034  Instituto Brasileiro do Meio Ambiente e dos Re...   \n",
       "\n",
       "       Código Unidade Gestora                           Nome Unidade Gestora  \\\n",
       "43390                  160044                      23º BATALHAO DE CACADORES   \n",
       "13957                  170345      SUPERINTENDENCIA REG. ADM. DO MGI - AMAPA   \n",
       "36034                  193125  IBAMA - SUPERINTENDENCIA DE SANTA CATARINA/SC   \n",
       "\n",
       "       Código Gestão                                    Nome Gestão  \\\n",
       "43390            1.0                               TESOURO NACIONAL   \n",
       "13957            1.0                               TESOURO NACIONAL   \n",
       "36034        19211.0  INST.BRAS.DO MEIO-AMBIENTE E DOS REC.NAT.REN.   \n",
       "\n",
       "       Código Unidade Orçamentária  \\\n",
       "43390                        52121   \n",
       "13957                        37101   \n",
       "36034                        44201   \n",
       "\n",
       "                        Nome Unidade Orçamentária  Código Função  \\\n",
       "43390                         COMANDO DO EXERCITO              5   \n",
       "13957                CONTROLADORIA GERAL DA UNIAO              4   \n",
       "36034  INST.BRAS.DO MEIO AMB.E REC.NAT.RENOVAVEIS             18   \n",
       "\n",
       "            Nome Função  Código Subfução                Nome Subfunção  \\\n",
       "43390   Defesa nacional              128  Formação de recursos humanos   \n",
       "13957     Administração              124              Controle interno   \n",
       "36034  Gestão ambiental              122           Administração geral   \n",
       "\n",
       "       Código Programa Orçamentário  \\\n",
       "43390                          6012   \n",
       "13957                          4104   \n",
       "36034                            32   \n",
       "\n",
       "                              Nome Programa Orçamentário Código Ação  \\\n",
       "43390                                    DEFESA NACIONAL        8965   \n",
       "13957  TRANSPARENCIA, INTEGRIDADE E ENFRENTAMENTO DA ...        2D58   \n",
       "36034  PROGRAMA DE GESTAO E MANUTENCAO DO PODER EXECU...        2000   \n",
       "\n",
       "                                               Nome Ação  \\\n",
       "43390  CAPACITACAO PROFISSIONAL MILITAR DO EXERCITO B...   \n",
       "13957  AUDITORIA GOVERNAMENTAL, TRANSPARENCIA, INTEGR...   \n",
       "36034                           ADMINISTRACAO DA UNIDADE   \n",
       "\n",
       "      Código Plano Orçamentário  \\\n",
       "43390                      0000   \n",
       "13957                      2000   \n",
       "36034                      0007   \n",
       "\n",
       "                                      Plano Orçamentário  \\\n",
       "43390  CAPACITACAO PROFISSIONAL MILITAR DO EXERCITO B...   \n",
       "13957                        CODIGO INEXISTENTE NO SIAFI   \n",
       "36034  MANUTENCAO E MODERNIZACAO DA INFRAESTRUTURA FI...   \n",
       "\n",
       "      Código Programa Governo Nome Programa Governo   UF Município  \\\n",
       "43390                      00        Sem informação  NaN       NaN   \n",
       "13957                      00        Sem informação  NaN       NaN   \n",
       "36034                      00        Sem informação  NaN       NaN   \n",
       "\n",
       "      Código Subtítulo                                    Nome Subtítulo  \\\n",
       "43390         89650001  CAPACITACAO PROFISSIONAL MILITAR DO E - NACIONAL   \n",
       "13957         2D580001  AUDITORIA GOVERNAMENTAL, TRANSPARENCI - NACIONAL   \n",
       "36034         20000001         ADMINISTRACAO DA UNIDADE       - NACIONAL   \n",
       "\n",
       "       Código Localizador                               Nome Localizador  \\\n",
       "43390                   1  CAPACITACAO PROFISSIONAL MILITAR DO E - NACIO   \n",
       "13957                   1  AUDITORIA GOVERNAMENTAL, TRANSPARENCI - NACIO   \n",
       "36034                   1      ADMINISTRACAO DA UNIDADE       - NACIONAL   \n",
       "\n",
       "       Sigla Localizador Descrição Complementar Localizador  \\\n",
       "43390                 -1                     Sem informação   \n",
       "13957                 -1                     Sem informação   \n",
       "36034                 -1                     Sem informação   \n",
       "\n",
       "       Código Autor Emenda Nome Autor Emenda  Código Categoria Econômica  \\\n",
       "43390                  NaN        SEM EMENDA                           3   \n",
       "13957                  NaN        SEM EMENDA                           3   \n",
       "36034                  NaN        SEM EMENDA                           3   \n",
       "\n",
       "      Nome Categoria Econômica  Código Grupo de Despesa  \\\n",
       "43390       DESPESAS CORRENTES                        3   \n",
       "13957       DESPESAS CORRENTES                        3   \n",
       "36034       DESPESAS CORRENTES                        3   \n",
       "\n",
       "           Nome Grupo de Despesa  Código Elemento de Despesa  \\\n",
       "43390  Outras Despesas Correntes                          33   \n",
       "13957  Outras Despesas Correntes                          37   \n",
       "36034  Outras Despesas Correntes                          33   \n",
       "\n",
       "                 Nome Elemento de Despesa  Código Modalidade da Despesa  \\\n",
       "43390  Passagens e Despesas com Locomoção                            90   \n",
       "13957              Locação de Mão-de-Obra                            90   \n",
       "36034  Passagens e Despesas com Locomoção                            90   \n",
       "\n",
       "      Modalidade da Despesa Valor Empenhado (R$) Valor Liquidado (R$)  \\\n",
       "43390    Aplicações Diretas                 0,00                 0,00   \n",
       "13957    Aplicações Diretas              7305,13                 0,00   \n",
       "36034    Aplicações Diretas             10000,00                 0,00   \n",
       "\n",
       "      Valor Pago (R$) Valor Restos a Pagar Inscritos (R$)  \\\n",
       "43390            0,00                                0,00   \n",
       "13957            0,00                                0,00   \n",
       "36034            0,00                                0,00   \n",
       "\n",
       "      Valor Restos a Pagar Cancelado (R$) Valor Restos a Pagar Pagos (R$)  \n",
       "43390                                0,00                          562,06  \n",
       "13957                                0,00                            0,00  \n",
       "36034                                0,00                            0,00  "
      ]
     },
     "metadata": {},
     "output_type": "display_data"
    },
    {
     "data": {
      "text/markdown": [
       "## Transferência das despesas"
      ],
      "text/plain": [
       "<IPython.core.display.Markdown object>"
      ]
     },
     "metadata": {},
     "output_type": "display_data"
    },
    {
     "name": "stdout",
     "output_type": "stream",
     "text": [
      "<class 'pandas.core.frame.DataFrame'>\n",
      "RangeIndex: 107741 entries, 0 to 107740\n",
      "Data columns (total 36 columns):\n",
      " #   Column                               Non-Null Count   Dtype  \n",
      "---  ------                               --------------   -----  \n",
      " 0   ANO / MÊS                            107741 non-null  int64  \n",
      " 1   TIPO TRANSFERÊNCIA                   107741 non-null  object \n",
      " 2   TIPO FAVORECIDO                      107741 non-null  object \n",
      " 3   UF                                   107731 non-null  object \n",
      " 4   CÓDIGO MUNICÍPIO SIAFI               106968 non-null  float64\n",
      " 5   NOME MUNICÍPIO                       106968 non-null  object \n",
      " 6   CÓDIGO ÓRGÃO SIAFI                   34495 non-null   float64\n",
      " 7   NOME ÓRGÃO                           34495 non-null   object \n",
      " 8   CÓDIGO UNIDADE GESTORA               107741 non-null  int64  \n",
      " 9   NOME UNIDADE GESTORA                 107741 non-null  object \n",
      " 10  CÓDIGO FUNÇÃO                        107741 non-null  object \n",
      " 11  NOME FUNÇÃO                          107741 non-null  object \n",
      " 12  CÓDIGO SUBFUNÇÃO                     107741 non-null  object \n",
      " 13  NOME SUBFUNÇÃO                       107741 non-null  object \n",
      " 14  CÓDIGO PROGRAMA                      107741 non-null  object \n",
      " 15  NOME PROGRAMA                        107741 non-null  object \n",
      " 16  AÇÃO                                 107741 non-null  object \n",
      " 17  NOME AÇÃO                            107741 non-null  object \n",
      " 18  LINGUAGEM CIDADÃ                     107741 non-null  object \n",
      " 19  CÓDIGO GRUPO DESPESA                 107741 non-null  object \n",
      " 20  NOME GRUPO DESPESA                   107741 non-null  object \n",
      " 21  CÓDIGO MODALIDADE APLICAÇÃO DESPESA  107741 non-null  object \n",
      " 22  NOME MODALIDADE APLICAÇÃO DESPESA    107741 non-null  object \n",
      " 23  CÓDIGO ELEMENTO DESPESA              107741 non-null  object \n",
      " 24  NOME ELEMENTO DESPESA                107741 non-null  object \n",
      " 25  CÓDIGO PLANO ORÇAMENTÁRIO            107741 non-null  object \n",
      " 26  NOME PLANO ORÇAMENTÁRIO              107741 non-null  object \n",
      " 27  CÓDIGO SUBTÍTULO                     107741 non-null  object \n",
      " 28  NOME SUBTÍTULO                       107741 non-null  object \n",
      " 29  CÓDIGO LOCALIZADOR                   107741 non-null  int64  \n",
      " 30  NOME LOCALIZADOR                     107741 non-null  object \n",
      " 31  SIGLA LOCALIZADOR                    73269 non-null   object \n",
      " 32  DESCRIÇÃO COMPLEMENTAR LOCALIZADOR   73268 non-null   object \n",
      " 33  CÓDIGO FAVORECIDO                    107741 non-null  object \n",
      " 34  NOME FAVORECIDO                      107741 non-null  object \n",
      " 35  VALOR TRANSFERIDO                    107741 non-null  object \n",
      "dtypes: float64(2), int64(3), object(31)\n",
      "memory usage: 29.6+ MB\n"
     ]
    },
    {
     "data": {
      "text/plain": [
       "None"
      ]
     },
     "metadata": {},
     "output_type": "display_data"
    },
    {
     "data": {
      "text/html": [
       "<div>\n",
       "<style scoped>\n",
       "    .dataframe tbody tr th:only-of-type {\n",
       "        vertical-align: middle;\n",
       "    }\n",
       "\n",
       "    .dataframe tbody tr th {\n",
       "        vertical-align: top;\n",
       "    }\n",
       "\n",
       "    .dataframe thead th {\n",
       "        text-align: right;\n",
       "    }\n",
       "</style>\n",
       "<table border=\"1\" class=\"dataframe\">\n",
       "  <thead>\n",
       "    <tr style=\"text-align: right;\">\n",
       "      <th></th>\n",
       "      <th>ANO / MÊS</th>\n",
       "      <th>TIPO TRANSFERÊNCIA</th>\n",
       "      <th>TIPO FAVORECIDO</th>\n",
       "      <th>UF</th>\n",
       "      <th>CÓDIGO MUNICÍPIO SIAFI</th>\n",
       "      <th>NOME MUNICÍPIO</th>\n",
       "      <th>CÓDIGO ÓRGÃO SIAFI</th>\n",
       "      <th>NOME ÓRGÃO</th>\n",
       "      <th>CÓDIGO UNIDADE GESTORA</th>\n",
       "      <th>NOME UNIDADE GESTORA</th>\n",
       "      <th>CÓDIGO FUNÇÃO</th>\n",
       "      <th>NOME FUNÇÃO</th>\n",
       "      <th>CÓDIGO SUBFUNÇÃO</th>\n",
       "      <th>NOME SUBFUNÇÃO</th>\n",
       "      <th>CÓDIGO PROGRAMA</th>\n",
       "      <th>NOME PROGRAMA</th>\n",
       "      <th>AÇÃO</th>\n",
       "      <th>NOME AÇÃO</th>\n",
       "      <th>LINGUAGEM CIDADÃ</th>\n",
       "      <th>CÓDIGO GRUPO DESPESA</th>\n",
       "      <th>NOME GRUPO DESPESA</th>\n",
       "      <th>CÓDIGO MODALIDADE APLICAÇÃO DESPESA</th>\n",
       "      <th>NOME MODALIDADE APLICAÇÃO DESPESA</th>\n",
       "      <th>CÓDIGO ELEMENTO DESPESA</th>\n",
       "      <th>NOME ELEMENTO DESPESA</th>\n",
       "      <th>CÓDIGO PLANO ORÇAMENTÁRIO</th>\n",
       "      <th>NOME PLANO ORÇAMENTÁRIO</th>\n",
       "      <th>CÓDIGO SUBTÍTULO</th>\n",
       "      <th>NOME SUBTÍTULO</th>\n",
       "      <th>CÓDIGO LOCALIZADOR</th>\n",
       "      <th>NOME LOCALIZADOR</th>\n",
       "      <th>SIGLA LOCALIZADOR</th>\n",
       "      <th>DESCRIÇÃO COMPLEMENTAR LOCALIZADOR</th>\n",
       "      <th>CÓDIGO FAVORECIDO</th>\n",
       "      <th>NOME FAVORECIDO</th>\n",
       "      <th>VALOR TRANSFERIDO</th>\n",
       "    </tr>\n",
       "  </thead>\n",
       "  <tbody>\n",
       "    <tr>\n",
       "      <th>88046</th>\n",
       "      <td>202401</td>\n",
       "      <td>Legais, Voluntárias e Específicas</td>\n",
       "      <td>Fundo Público</td>\n",
       "      <td>RO</td>\n",
       "      <td>6.0</td>\n",
       "      <td>CHUPINGUAIA</td>\n",
       "      <td>NaN</td>\n",
       "      <td>NaN</td>\n",
       "      <td>257001</td>\n",
       "      <td>DIRETORIA EXECUTIVA DO FUNDO NAC. DE SAUDE</td>\n",
       "      <td>10</td>\n",
       "      <td>Saúde</td>\n",
       "      <td>303</td>\n",
       "      <td>Suporte profilático e terapêutico</td>\n",
       "      <td>5117</td>\n",
       "      <td>QUALIFICACAO DA ASSISTENCIA FARMACEUTICA NO SI...</td>\n",
       "      <td>20AE</td>\n",
       "      <td>PROMOCAO DA ASSISTENCIA FARMACEUTICA E INSUMOS...</td>\n",
       "      <td>FARMÁCIA BÁSICA</td>\n",
       "      <td>3</td>\n",
       "      <td>Outras Despesas Correntes</td>\n",
       "      <td>41</td>\n",
       "      <td>Transferências a Municípios - Fundo a Fundo</td>\n",
       "      <td>41</td>\n",
       "      <td>Contribuições</td>\n",
       "      <td>0002</td>\n",
       "      <td>CODIGO INEXISTENTE NO SIAFI</td>\n",
       "      <td>20AE0011</td>\n",
       "      <td>PROMOCAO DA ASSISTENCIA FARMACEUTICA - NO ESTA...</td>\n",
       "      <td>11</td>\n",
       "      <td>PROMOCAO DA ASSISTENCIA FARMACEUTICA - NO EST</td>\n",
       "      <td>-1</td>\n",
       "      <td>Sem informação</td>\n",
       "      <td>8673415000138</td>\n",
       "      <td>FUNDO MUNICIPAL DE SAUDE</td>\n",
       "      <td>5544,41</td>\n",
       "    </tr>\n",
       "    <tr>\n",
       "      <th>31853</th>\n",
       "      <td>202401</td>\n",
       "      <td>Constitucionais e Royalties</td>\n",
       "      <td>Administração Pública Municipal</td>\n",
       "      <td>SP</td>\n",
       "      <td>6751.0</td>\n",
       "      <td>NEVES PAULISTA</td>\n",
       "      <td>-1.0</td>\n",
       "      <td>Sem informação</td>\n",
       "      <td>-1</td>\n",
       "      <td>Sem informação</td>\n",
       "      <td>28</td>\n",
       "      <td>Encargos especiais</td>\n",
       "      <td>845</td>\n",
       "      <td>Outras transferências</td>\n",
       "      <td>903</td>\n",
       "      <td>OPERACOES ESPECIAIS: TRANSFERENCIAS CONSTITUCI...</td>\n",
       "      <td>0999</td>\n",
       "      <td>TRANSFERENCIA DE REPARTICAO DA CONTRIBUICAO DE...</td>\n",
       "      <td>CIDE - Combustíveis</td>\n",
       "      <td>-1</td>\n",
       "      <td>Sem informação</td>\n",
       "      <td>-1</td>\n",
       "      <td>Sem informação</td>\n",
       "      <td>-1</td>\n",
       "      <td>Sem informação</td>\n",
       "      <td>-1</td>\n",
       "      <td>Sem informação</td>\n",
       "      <td>-1</td>\n",
       "      <td>Sem informaç</td>\n",
       "      <td>-1</td>\n",
       "      <td>Sem informaç</td>\n",
       "      <td>NaN</td>\n",
       "      <td>NaN</td>\n",
       "      <td>45145414000147</td>\n",
       "      <td>MUNICIPIO DE NEVES PAULISTA</td>\n",
       "      <td>3514,38</td>\n",
       "    </tr>\n",
       "    <tr>\n",
       "      <th>44687</th>\n",
       "      <td>202401</td>\n",
       "      <td>Legais, Voluntárias e Específicas</td>\n",
       "      <td>Fundo Público</td>\n",
       "      <td>BA</td>\n",
       "      <td>3383.0</td>\n",
       "      <td>BOTUPORA</td>\n",
       "      <td>NaN</td>\n",
       "      <td>NaN</td>\n",
       "      <td>257001</td>\n",
       "      <td>DIRETORIA EXECUTIVA DO FUNDO NAC. DE SAUDE</td>\n",
       "      <td>10</td>\n",
       "      <td>Saúde</td>\n",
       "      <td>301</td>\n",
       "      <td>Atenção básica</td>\n",
       "      <td>5119</td>\n",
       "      <td>ATENCAO PRIMARIA A SAUDE</td>\n",
       "      <td>219A</td>\n",
       "      <td>PISO DE ATENCAO PRIMARIA A SAUDE</td>\n",
       "      <td>Sem informação</td>\n",
       "      <td>3</td>\n",
       "      <td>Outras Despesas Correntes</td>\n",
       "      <td>41</td>\n",
       "      <td>Transferências a Municípios - Fundo a Fundo</td>\n",
       "      <td>41</td>\n",
       "      <td>Contribuições</td>\n",
       "      <td>0008</td>\n",
       "      <td>CODIGO INEXISTENTE NO SIAFI</td>\n",
       "      <td>219A0029</td>\n",
       "      <td>PISO DE ATENCAO PRIMARIA A SAUDE   - NO ESTADO...</td>\n",
       "      <td>29</td>\n",
       "      <td>PISO DE ATENCAO PRIMARIA A SAUDE   - NO ESTAD</td>\n",
       "      <td>-1</td>\n",
       "      <td>Sem informação</td>\n",
       "      <td>11352889000192</td>\n",
       "      <td>FUNDO MUNICIPAL DE SAUDE DO MUNICIPIO DE BOTUPORA</td>\n",
       "      <td>89941,71</td>\n",
       "    </tr>\n",
       "  </tbody>\n",
       "</table>\n",
       "</div>"
      ],
      "text/plain": [
       "       ANO / MÊS                 TIPO TRANSFERÊNCIA  \\\n",
       "88046     202401  Legais, Voluntárias e Específicas   \n",
       "31853     202401        Constitucionais e Royalties   \n",
       "44687     202401  Legais, Voluntárias e Específicas   \n",
       "\n",
       "                       TIPO FAVORECIDO  UF  CÓDIGO MUNICÍPIO SIAFI  \\\n",
       "88046                    Fundo Público  RO                     6.0   \n",
       "31853  Administração Pública Municipal  SP                  6751.0   \n",
       "44687                    Fundo Público  BA                  3383.0   \n",
       "\n",
       "       NOME MUNICÍPIO  CÓDIGO ÓRGÃO SIAFI      NOME ÓRGÃO  \\\n",
       "88046     CHUPINGUAIA                 NaN             NaN   \n",
       "31853  NEVES PAULISTA                -1.0  Sem informação   \n",
       "44687        BOTUPORA                 NaN             NaN   \n",
       "\n",
       "       CÓDIGO UNIDADE GESTORA                        NOME UNIDADE GESTORA  \\\n",
       "88046                  257001  DIRETORIA EXECUTIVA DO FUNDO NAC. DE SAUDE   \n",
       "31853                      -1                              Sem informação   \n",
       "44687                  257001  DIRETORIA EXECUTIVA DO FUNDO NAC. DE SAUDE   \n",
       "\n",
       "      CÓDIGO FUNÇÃO         NOME FUNÇÃO CÓDIGO SUBFUNÇÃO  \\\n",
       "88046            10               Saúde              303   \n",
       "31853            28  Encargos especiais              845   \n",
       "44687            10               Saúde              301   \n",
       "\n",
       "                          NOME SUBFUNÇÃO CÓDIGO PROGRAMA  \\\n",
       "88046  Suporte profilático e terapêutico            5117   \n",
       "31853              Outras transferências             903   \n",
       "44687                     Atenção básica            5119   \n",
       "\n",
       "                                           NOME PROGRAMA  AÇÃO  \\\n",
       "88046  QUALIFICACAO DA ASSISTENCIA FARMACEUTICA NO SI...  20AE   \n",
       "31853  OPERACOES ESPECIAIS: TRANSFERENCIAS CONSTITUCI...  0999   \n",
       "44687                           ATENCAO PRIMARIA A SAUDE  219A   \n",
       "\n",
       "                                               NOME AÇÃO     LINGUAGEM CIDADÃ  \\\n",
       "88046  PROMOCAO DA ASSISTENCIA FARMACEUTICA E INSUMOS...      FARMÁCIA BÁSICA   \n",
       "31853  TRANSFERENCIA DE REPARTICAO DA CONTRIBUICAO DE...  CIDE - Combustíveis   \n",
       "44687                   PISO DE ATENCAO PRIMARIA A SAUDE       Sem informação   \n",
       "\n",
       "      CÓDIGO GRUPO DESPESA         NOME GRUPO DESPESA  \\\n",
       "88046                    3  Outras Despesas Correntes   \n",
       "31853                   -1             Sem informação   \n",
       "44687                    3  Outras Despesas Correntes   \n",
       "\n",
       "      CÓDIGO MODALIDADE APLICAÇÃO DESPESA  \\\n",
       "88046                                  41   \n",
       "31853                                  -1   \n",
       "44687                                  41   \n",
       "\n",
       "                 NOME MODALIDADE APLICAÇÃO DESPESA CÓDIGO ELEMENTO DESPESA  \\\n",
       "88046  Transferências a Municípios - Fundo a Fundo                      41   \n",
       "31853                               Sem informação                      -1   \n",
       "44687  Transferências a Municípios - Fundo a Fundo                      41   \n",
       "\n",
       "      NOME ELEMENTO DESPESA CÓDIGO PLANO ORÇAMENTÁRIO  \\\n",
       "88046         Contribuições                      0002   \n",
       "31853        Sem informação                        -1   \n",
       "44687         Contribuições                      0008   \n",
       "\n",
       "           NOME PLANO ORÇAMENTÁRIO CÓDIGO SUBTÍTULO  \\\n",
       "88046  CODIGO INEXISTENTE NO SIAFI         20AE0011   \n",
       "31853               Sem informação               -1   \n",
       "44687  CODIGO INEXISTENTE NO SIAFI         219A0029   \n",
       "\n",
       "                                          NOME SUBTÍTULO  CÓDIGO LOCALIZADOR  \\\n",
       "88046  PROMOCAO DA ASSISTENCIA FARMACEUTICA - NO ESTA...                  11   \n",
       "31853                                       Sem informaç                  -1   \n",
       "44687  PISO DE ATENCAO PRIMARIA A SAUDE   - NO ESTADO...                  29   \n",
       "\n",
       "                                    NOME LOCALIZADOR SIGLA LOCALIZADOR  \\\n",
       "88046  PROMOCAO DA ASSISTENCIA FARMACEUTICA - NO EST                -1   \n",
       "31853                                   Sem informaç               NaN   \n",
       "44687  PISO DE ATENCAO PRIMARIA A SAUDE   - NO ESTAD                -1   \n",
       "\n",
       "      DESCRIÇÃO COMPLEMENTAR LOCALIZADOR CÓDIGO FAVORECIDO  \\\n",
       "88046                     Sem informação     8673415000138   \n",
       "31853                                NaN    45145414000147   \n",
       "44687                     Sem informação    11352889000192   \n",
       "\n",
       "                                         NOME FAVORECIDO VALOR TRANSFERIDO  \n",
       "88046                           FUNDO MUNICIPAL DE SAUDE           5544,41  \n",
       "31853                        MUNICIPIO DE NEVES PAULISTA           3514,38  \n",
       "44687  FUNDO MUNICIPAL DE SAUDE DO MUNICIPIO DE BOTUPORA          89941,71  "
      ]
     },
     "metadata": {},
     "output_type": "display_data"
    },
    {
     "data": {
      "text/markdown": [
       "## Recursos por favorecidos"
      ],
      "text/plain": [
       "<IPython.core.display.Markdown object>"
      ]
     },
     "metadata": {},
     "output_type": "display_data"
    },
    {
     "name": "stdout",
     "output_type": "stream",
     "text": [
      "<class 'pandas.core.frame.DataFrame'>\n",
      "RangeIndex: 340261 entries, 0 to 340260\n",
      "Data columns (total 12 columns):\n",
      " #   Column                   Non-Null Count   Dtype \n",
      "---  ------                   --------------   ----- \n",
      " 0   Código Favorecido        340261 non-null  object\n",
      " 1   Nome Favorecido          340261 non-null  object\n",
      " 2   Sigla UF                 340261 non-null  object\n",
      " 3   Nome Município           340261 non-null  object\n",
      " 4   Código Órgão Superior    340261 non-null  int64 \n",
      " 5   Nome Órgão Superior      340261 non-null  object\n",
      " 6   Código Órgão             340261 non-null  int64 \n",
      " 7   Nome Órgão               340002 non-null  object\n",
      " 8   Código Unidade Gestora   340261 non-null  int64 \n",
      " 9   Nome Unidade Gestora     340261 non-null  object\n",
      " 10  Ano e mês do lançamento  340261 non-null  object\n",
      " 11  Valor Recebido           340261 non-null  object\n",
      "dtypes: int64(3), object(9)\n",
      "memory usage: 31.2+ MB\n"
     ]
    },
    {
     "data": {
      "text/plain": [
       "None"
      ]
     },
     "metadata": {},
     "output_type": "display_data"
    },
    {
     "data": {
      "text/html": [
       "<div>\n",
       "<style scoped>\n",
       "    .dataframe tbody tr th:only-of-type {\n",
       "        vertical-align: middle;\n",
       "    }\n",
       "\n",
       "    .dataframe tbody tr th {\n",
       "        vertical-align: top;\n",
       "    }\n",
       "\n",
       "    .dataframe thead th {\n",
       "        text-align: right;\n",
       "    }\n",
       "</style>\n",
       "<table border=\"1\" class=\"dataframe\">\n",
       "  <thead>\n",
       "    <tr style=\"text-align: right;\">\n",
       "      <th></th>\n",
       "      <th>Código Favorecido</th>\n",
       "      <th>Nome Favorecido</th>\n",
       "      <th>Sigla UF</th>\n",
       "      <th>Nome Município</th>\n",
       "      <th>Código Órgão Superior</th>\n",
       "      <th>Nome Órgão Superior</th>\n",
       "      <th>Código Órgão</th>\n",
       "      <th>Nome Órgão</th>\n",
       "      <th>Código Unidade Gestora</th>\n",
       "      <th>Nome Unidade Gestora</th>\n",
       "      <th>Ano e mês do lançamento</th>\n",
       "      <th>Valor Recebido</th>\n",
       "    </tr>\n",
       "  </thead>\n",
       "  <tbody>\n",
       "    <tr>\n",
       "      <th>87494</th>\n",
       "      <td>22048219000101</td>\n",
       "      <td>DROGANELK LTDA</td>\n",
       "      <td>MG</td>\n",
       "      <td>CARMO DE MINAS</td>\n",
       "      <td>36000</td>\n",
       "      <td>Ministério da Saúde</td>\n",
       "      <td>36000</td>\n",
       "      <td>Ministério da Saúde - Unidades com vínculo direto</td>\n",
       "      <td>257001</td>\n",
       "      <td>DIRETORIA EXECUTIVA DO FUNDO NAC. DE SAUDE</td>\n",
       "      <td>01/2024</td>\n",
       "      <td>501,6000</td>\n",
       "    </tr>\n",
       "    <tr>\n",
       "      <th>291002</th>\n",
       "      <td>08866319000106</td>\n",
       "      <td>ROCHA E SANTOS DROGARIA LTDA</td>\n",
       "      <td>SP</td>\n",
       "      <td>PIACATU</td>\n",
       "      <td>36000</td>\n",
       "      <td>Ministério da Saúde</td>\n",
       "      <td>36000</td>\n",
       "      <td>Ministério da Saúde - Unidades com vínculo direto</td>\n",
       "      <td>257001</td>\n",
       "      <td>DIRETORIA EXECUTIVA DO FUNDO NAC. DE SAUDE</td>\n",
       "      <td>01/2024</td>\n",
       "      <td>6284,0200</td>\n",
       "    </tr>\n",
       "    <tr>\n",
       "      <th>235326</th>\n",
       "      <td>***.177.247-**</td>\n",
       "      <td>MARISTELA PINTO OLIVEIRA</td>\n",
       "      <td>RJ</td>\n",
       "      <td>BARRA MANSA</td>\n",
       "      <td>26000</td>\n",
       "      <td>Ministério da Educação</td>\n",
       "      <td>26433</td>\n",
       "      <td>Instituto Federal do Rio de Janeiro</td>\n",
       "      <td>158157</td>\n",
       "      <td>INST.FED.DE EDUC.,CIENC.E TEC.DO R.DE JANEIRO</td>\n",
       "      <td>01/2024</td>\n",
       "      <td>550</td>\n",
       "    </tr>\n",
       "  </tbody>\n",
       "</table>\n",
       "</div>"
      ],
      "text/plain": [
       "       Código Favorecido               Nome Favorecido Sigla UF  \\\n",
       "87494     22048219000101                DROGANELK LTDA       MG   \n",
       "291002    08866319000106  ROCHA E SANTOS DROGARIA LTDA       SP   \n",
       "235326    ***.177.247-**      MARISTELA PINTO OLIVEIRA       RJ   \n",
       "\n",
       "        Nome Município  Código Órgão Superior     Nome Órgão Superior  \\\n",
       "87494   CARMO DE MINAS                  36000     Ministério da Saúde   \n",
       "291002         PIACATU                  36000     Ministério da Saúde   \n",
       "235326     BARRA MANSA                  26000  Ministério da Educação   \n",
       "\n",
       "        Código Órgão                                         Nome Órgão  \\\n",
       "87494          36000  Ministério da Saúde - Unidades com vínculo direto   \n",
       "291002         36000  Ministério da Saúde - Unidades com vínculo direto   \n",
       "235326         26433                Instituto Federal do Rio de Janeiro   \n",
       "\n",
       "        Código Unidade Gestora                           Nome Unidade Gestora  \\\n",
       "87494                   257001     DIRETORIA EXECUTIVA DO FUNDO NAC. DE SAUDE   \n",
       "291002                  257001     DIRETORIA EXECUTIVA DO FUNDO NAC. DE SAUDE   \n",
       "235326                  158157  INST.FED.DE EDUC.,CIENC.E TEC.DO R.DE JANEIRO   \n",
       "\n",
       "       Ano e mês do lançamento Valor Recebido  \n",
       "87494                  01/2024       501,6000  \n",
       "291002                 01/2024      6284,0200  \n",
       "235326                 01/2024            550  "
      ]
     },
     "metadata": {},
     "output_type": "display_data"
    }
   ],
   "source": [
    "display(Markdown(\"# Datasets de Despesas\"))\n",
    "\n",
    "display(Markdown(\"## Empenho\"))\n",
    "display (df_empenho.info())\n",
    "display (df_empenho.sample(3))\n",
    "\n",
    "display(Markdown(\"## Pagamento\"))\n",
    "display (df_pagamento.info())\n",
    "#display (df_pagamento.sample(3))\n",
    "display (\"df_pagamentos tem 0 entradas, estava quebrando o código\")\n",
    "\n",
    "display(Markdown(\"## Liquidação\"))\n",
    "display (df_liquidacao.info())\n",
    "display (df_liquidacao.sample(3))\n",
    "\n",
    "display(Markdown(\"## Execução das despesas\"))\n",
    "display (df_execucao_despesas.info())\n",
    "display (df_execucao_despesas.sample(3))\n",
    "\n",
    "display(Markdown(\"## Transferência das despesas\"))\n",
    "display (df_transferencia_despesas.info())\n",
    "display (df_transferencia_despesas.sample(3))\n",
    "\n",
    "display(Markdown(\"## Recursos por favorecidos\"))\n",
    "display (df_recursos_favorecidos.info())\n",
    "display (df_recursos_favorecidos.sample(3))"
   ]
  },
  {
   "cell_type": "code",
   "execution_count": 24,
   "id": "4deee9d0-01c1-4d37-8cf7-4da4c2fd76c9",
   "metadata": {},
   "outputs": [],
   "source": [
    "def listar_colunas_comuns(lista_dataframes):\n",
    "    # Obter as colunas do primeiro DataFrame\n",
    "    colunas_comuns = set(lista_dataframes[0].columns)\n",
    "    \n",
    "    # Iterar sobre os demais DataFrames e fazer interseção de colunas\n",
    "    for df in lista_dataframes[1:]:\n",
    "        colunas_comuns &= set(df.columns)\n",
    "    \n",
    "    return (list(colunas_comuns))\n",
    "\n",
    "colunas_comuns = listar_colunas_comuns([df_empenho, df_pagamento, df_liquidacao, df_execucao_despesas, df_transferencia_despesas, df_recursos_favorecidos])"
   ]
  },
  {
   "cell_type": "code",
   "execution_count": 26,
   "id": "62b2f1e4-b455-4461-9b59-7f001cfaa7b1",
   "metadata": {},
   "outputs": [
    {
     "data": {
      "text/markdown": [
       "## Colunas em comum entre Empenho, Pagamento, Liquidação, Execução de despesas, Transferência de despesas e Recursos por favorecido"
      ],
      "text/plain": [
       "<IPython.core.display.Markdown object>"
      ]
     },
     "metadata": {},
     "output_type": "display_data"
    },
    {
     "data": {
      "text/plain": [
       "[]"
      ]
     },
     "metadata": {},
     "output_type": "display_data"
    }
   ],
   "source": [
    "display(Markdown(\"## Colunas em comum entre Empenho, Pagamento, Liquidação, Execução de despesas, Transferência de despesas e Recursos por favorecido\"))\n",
    "display(colunas_comuns)"
   ]
  },
  {
   "cell_type": "code",
   "execution_count": 24,
   "id": "636393af-8290-430f-adeb-c0377d7355fb",
   "metadata": {},
   "outputs": [],
   "source": [
    "def listar_colunas_comuns(lista_dataframes):\n",
    "    # Obter as colunas do primeiro DataFrame\n",
    "    colunas_comuns = set(lista_dataframes[0].columns)\n",
    "    \n",
    "    # Iterar sobre os demais DataFrames e fazer interseção de colunas\n",
    "    for df in lista_dataframes[1:]:\n",
    "        colunas_comuns &= set(df.columns)\n",
    "    \n",
    "    return (list(colunas_comuns))\n",
    "\n",
    "colunas_comuns = listar_colunas_comuns([df_execucao_despesas, df_transferencia_despesas, df_recursos_favorecidos])"
   ]
  },
  {
   "cell_type": "code",
   "execution_count": null,
   "id": "9170f442-0605-48ae-811c-5a80d241e81c",
   "metadata": {},
   "outputs": [],
   "source": [
    "display(Markdown(\"## Colunas em comum entre Empenho, Pagamento, Liquidação, Execução de despesas, Transferência de despesas e Recursos por favorecido\"))\n",
    "display(colunas_comuns)"
   ]
  },
  {
   "cell_type": "code",
   "execution_count": 29,
   "id": "3e62a1b7-6b02-4da4-9bbc-a87a5c9eb1d8",
   "metadata": {},
   "outputs": [],
   "source": [
    "def listar_colunas_nao_comuns(lista_dataframes, lista_colunas):\n",
    "    # Inicializar um conjunto vazio para as colunas não comuns\n",
    "    colunas_nao_comuns = set()\n",
    "    \n",
    "    # Iterar sobre os DataFrames\n",
    "    for df in lista_dataframes:\n",
    "        # Verificar colunas que estão no DataFrame, mas não na lista de colunas\n",
    "        colunas_nao_comuns.update(set(df.columns) - set(lista_colunas))\n",
    "    \n",
    "    return list(colunas_nao_comuns)"
   ]
  },
  {
   "cell_type": "code",
   "execution_count": 30,
   "id": "e26c7f7b-d339-48df-8a32-6cda73210243",
   "metadata": {},
   "outputs": [
    {
     "data": {
      "text/markdown": [
       "## Colunas específicas do dataset Empenho"
      ],
      "text/plain": [
       "<IPython.core.display.Markdown object>"
      ]
     },
     "metadata": {},
     "output_type": "display_data"
    },
    {
     "data": {
      "text/plain": [
       "['Código Gestão',\n",
       " 'Fonte Recurso',\n",
       " 'Programa',\n",
       " 'Código Fonte Recurso',\n",
       " 'Linguagem Cidadã',\n",
       " 'Tipo Documento',\n",
       " 'Código Convênio',\n",
       " 'Favorecido',\n",
       " 'Código SubFunção',\n",
       " 'Nome Programa Governo',\n",
       " 'Órgão',\n",
       " 'Código Unidade Orçamentária',\n",
       " 'Valor Original do Empenho',\n",
       " 'Código Ação',\n",
       " 'Modalidade de Licitação',\n",
       " 'Espécie Empenho',\n",
       " 'Gestão',\n",
       " 'Data Emissão',\n",
       " 'Código Categoria de Despesa',\n",
       " 'Modalidade de Aplicação',\n",
       " 'Órgão Superior',\n",
       " 'Unidade Orçamentária',\n",
       " 'Código Grupo Fonte Recurso',\n",
       " 'Valor Utilizado na Conversão',\n",
       " 'Tipo Empenho',\n",
       " 'Autor Emenda',\n",
       " 'Função',\n",
       " 'Subtítulo (Localizador)',\n",
       " 'Unidade Gestora',\n",
       " 'Código Órgão',\n",
       " 'Código Esfera Orçamentária',\n",
       " 'Código Modalidade de Aplicação',\n",
       " 'Categoria de Despesa',\n",
       " 'Código Elemento de Despesa',\n",
       " 'Código Tipo Documento',\n",
       " 'SubFunção',\n",
       " 'Código Unidade Gestora',\n",
       " 'Id Empenho',\n",
       " 'Código Plano Orçamentário',\n",
       " 'Grupo de Despesa',\n",
       " 'Processo',\n",
       " 'Código Órgão Superior',\n",
       " 'Esfera Orçamentária',\n",
       " 'Grupo Fonte Recurso',\n",
       " 'Valor do Empenho Convertido pra R$',\n",
       " 'Código Tipo Crédito',\n",
       " 'Código Programa',\n",
       " 'Código Função',\n",
       " 'Ação',\n",
       " 'Inciso',\n",
       " 'Código Subtítulo (Localizador)',\n",
       " 'Código Grupo de Despesa',\n",
       " 'Código Empenho Resumido',\n",
       " 'Referência de Dispensa ou Inexigibilidade',\n",
       " 'Amparo',\n",
       " 'Contrato de Repasse / Termo de Parceria / Outros',\n",
       " 'Código Favorecido',\n",
       " 'Elemento de Despesa',\n",
       " 'Tipo Crédito',\n",
       " 'Código Empenho',\n",
       " 'Plano Orçamentário',\n",
       " 'Código Programa Governo',\n",
       " 'Observação']"
      ]
     },
     "metadata": {},
     "output_type": "display_data"
    },
    {
     "data": {
      "text/markdown": [
       "## Colunas específicas do dataset Liquidação"
      ],
      "text/plain": [
       "<IPython.core.display.Markdown object>"
      ]
     },
     "metadata": {},
     "output_type": "display_data"
    },
    {
     "data": {
      "text/plain": [
       "['Código Gestão',\n",
       " 'Código Tipo Documento',\n",
       " 'Código Unidade Gestora',\n",
       " 'Código Plano Orçamentário',\n",
       " 'Tipo Documento',\n",
       " 'Grupo de Despesa',\n",
       " 'Favorecido',\n",
       " 'Nome Programa Governo',\n",
       " 'Código Órgão Superior',\n",
       " 'Órgão',\n",
       " 'Código Liquidação',\n",
       " 'Código Liquidação Resumido',\n",
       " 'Observação',\n",
       " 'Gestão',\n",
       " 'Data Emissão',\n",
       " 'Código Categoria de Despesa',\n",
       " 'Código Grupo de Despesa',\n",
       " 'Modalidade de Aplicação',\n",
       " 'Órgão Superior',\n",
       " 'Código Órgão',\n",
       " 'Código Favorecido',\n",
       " 'Elemento de Despesa',\n",
       " 'Código Programa Governo',\n",
       " 'Código Modalidade de Aplicação',\n",
       " 'Plano Orçamentário',\n",
       " 'Unidade Gestora',\n",
       " 'Categoria de Despesa',\n",
       " 'Código Elemento de Despesa']"
      ]
     },
     "metadata": {},
     "output_type": "display_data"
    },
    {
     "data": {
      "text/markdown": [
       "## Colunas específicas do dataset Pagamento"
      ],
      "text/plain": [
       "<IPython.core.display.Markdown object>"
      ]
     },
     "metadata": {},
     "output_type": "display_data"
    },
    {
     "data": {
      "text/plain": [
       "['Código Gestão',\n",
       " 'Código Pagamento Resumido',\n",
       " 'Tipo Documento',\n",
       " 'Favorecido',\n",
       " 'Tipo OB',\n",
       " 'Nome Programa Governo',\n",
       " 'Órgão',\n",
       " 'Gestão',\n",
       " 'Data Emissão',\n",
       " 'Código Categoria de Despesa',\n",
       " 'Modalidade de Aplicação',\n",
       " 'Extraorçamentário',\n",
       " 'Órgão Superior',\n",
       " 'Valor Utilizado na Conversão',\n",
       " 'Código Modalidade de Aplicação',\n",
       " 'Código Órgão',\n",
       " 'Unidade Gestora',\n",
       " 'Código Pagamento',\n",
       " 'Categoria de Despesa',\n",
       " 'Valor do Pagamento Convertido pra R$',\n",
       " 'Código Elemento de Despesa',\n",
       " 'Código Tipo Documento',\n",
       " 'Código Unidade Gestora',\n",
       " 'Código Plano Orçamentário',\n",
       " 'Grupo de Despesa',\n",
       " 'Processo',\n",
       " 'Código Órgão Superior',\n",
       " 'Código Grupo de Despesa',\n",
       " 'Código Favorecido',\n",
       " 'Elemento de Despesa',\n",
       " 'Valor Original do Pagamento',\n",
       " 'Código Programa Governo',\n",
       " 'Plano Orçamentário',\n",
       " 'Observação']"
      ]
     },
     "metadata": {},
     "output_type": "display_data"
    },
    {
     "data": {
      "text/markdown": [
       "## Colunas específicas do dataset Execução de despesas"
      ],
      "text/plain": [
       "<IPython.core.display.Markdown object>"
      ]
     },
     "metadata": {},
     "output_type": "display_data"
    },
    {
     "data": {
      "text/plain": [
       "['Código Gestão',\n",
       " 'Código Categoria Econômica',\n",
       " 'Código Localizador',\n",
       " 'Nome Órgão Superior',\n",
       " 'Nome Localizador',\n",
       " 'Valor Restos a Pagar Pagos (R$)',\n",
       " 'Nome Órgão Subordinado',\n",
       " 'Nome Subtítulo',\n",
       " 'Nome Programa Governo',\n",
       " 'Código Unidade Orçamentária',\n",
       " 'Código Modalidade da Despesa',\n",
       " 'Código Ação',\n",
       " 'Valor Liquidado (R$)',\n",
       " 'Nome Grupo de Despesa',\n",
       " 'Código Subtítulo',\n",
       " 'UF',\n",
       " 'Nome Unidade Gestora',\n",
       " 'Descrição Complementar Localizador',\n",
       " 'Ano e mês do lançamento',\n",
       " 'Valor Restos a Pagar Inscritos (R$)',\n",
       " 'Município',\n",
       " 'Nome Gestão',\n",
       " 'Nome Unidade Orçamentária',\n",
       " 'Modalidade da Despesa',\n",
       " 'Sigla Localizador',\n",
       " 'Nome Função',\n",
       " 'Valor Pago (R$)',\n",
       " 'Código Elemento de Despesa',\n",
       " 'Código Programa Orçamentário',\n",
       " 'Nome Elemento de Despesa',\n",
       " 'Valor Empenhado (R$)',\n",
       " 'Código Unidade Gestora',\n",
       " 'Código Plano Orçamentário',\n",
       " 'Código Autor Emenda',\n",
       " 'Código Órgão Superior',\n",
       " 'Código Subfução',\n",
       " 'Nome Programa Orçamentário',\n",
       " 'Nome Ação',\n",
       " 'Código Órgão Subordinado',\n",
       " 'Código Função',\n",
       " 'Valor Restos a Pagar Cancelado (R$)',\n",
       " 'Código Grupo de Despesa',\n",
       " 'Nome Categoria Econômica',\n",
       " 'Código Programa Governo',\n",
       " 'Plano Orçamentário',\n",
       " 'Nome Subfunção',\n",
       " 'Nome Autor Emenda']"
      ]
     },
     "metadata": {},
     "output_type": "display_data"
    },
    {
     "data": {
      "text/markdown": [
       "## Colunas específicas do dataset Transferência de despesas"
      ],
      "text/plain": [
       "<IPython.core.display.Markdown object>"
      ]
     },
     "metadata": {},
     "output_type": "display_data"
    },
    {
     "data": {
      "text/plain": [
       "['CÓDIGO SUBFUNÇÃO',\n",
       " 'CÓDIGO FUNÇÃO',\n",
       " 'NOME LOCALIZADOR',\n",
       " 'NOME MODALIDADE APLICAÇÃO DESPESA',\n",
       " 'CÓDIGO MUNICÍPIO SIAFI',\n",
       " 'NOME PLANO ORÇAMENTÁRIO',\n",
       " 'UF',\n",
       " 'NOME PROGRAMA',\n",
       " 'CÓDIGO ELEMENTO DESPESA',\n",
       " 'NOME UNIDADE GESTORA',\n",
       " 'VALOR TRANSFERIDO',\n",
       " 'TIPO TRANSFERÊNCIA',\n",
       " 'NOME FUNÇÃO',\n",
       " 'AÇÃO',\n",
       " 'NOME ELEMENTO DESPESA',\n",
       " 'NOME SUBTÍTULO',\n",
       " 'DESCRIÇÃO COMPLEMENTAR LOCALIZADOR',\n",
       " 'NOME SUBFUNÇÃO',\n",
       " 'NOME AÇÃO',\n",
       " 'LINGUAGEM CIDADÃ',\n",
       " 'CÓDIGO PROGRAMA',\n",
       " 'CÓDIGO FAVORECIDO',\n",
       " 'NOME GRUPO DESPESA',\n",
       " 'CÓDIGO MODALIDADE APLICAÇÃO DESPESA',\n",
       " 'NOME ÓRGÃO',\n",
       " 'NOME FAVORECIDO',\n",
       " 'TIPO FAVORECIDO',\n",
       " 'ANO / MÊS',\n",
       " 'CÓDIGO UNIDADE GESTORA',\n",
       " 'NOME MUNICÍPIO',\n",
       " 'SIGLA LOCALIZADOR',\n",
       " 'CÓDIGO GRUPO DESPESA',\n",
       " 'CÓDIGO LOCALIZADOR',\n",
       " 'CÓDIGO SUBTÍTULO',\n",
       " 'CÓDIGO ÓRGÃO SIAFI',\n",
       " 'CÓDIGO PLANO ORÇAMENTÁRIO']"
      ]
     },
     "metadata": {},
     "output_type": "display_data"
    },
    {
     "data": {
      "text/markdown": [
       "## Colunas específicas do dataset Recursos por favorecido"
      ],
      "text/plain": [
       "<IPython.core.display.Markdown object>"
      ]
     },
     "metadata": {},
     "output_type": "display_data"
    },
    {
     "data": {
      "text/plain": [
       "['Ano e mês do lançamento',\n",
       " 'Valor Recebido',\n",
       " 'Nome Órgão Superior',\n",
       " 'Código Unidade Gestora',\n",
       " 'Nome Favorecido',\n",
       " 'Código Órgão Superior',\n",
       " 'Código Favorecido',\n",
       " 'Nome Órgão',\n",
       " 'Código Órgão',\n",
       " 'Sigla UF',\n",
       " 'Nome Município',\n",
       " 'Nome Unidade Gestora']"
      ]
     },
     "metadata": {},
     "output_type": "display_data"
    }
   ],
   "source": [
    "\n",
    "display(Markdown(\"## Colunas específicas do dataset Empenho\"))\n",
    "display(listar_colunas_nao_comuns ([df_empenho], colunas_comuns))\n",
    "\n",
    "display(Markdown(\"## Colunas específicas do dataset Liquidação\"))\n",
    "display(listar_colunas_nao_comuns ([df_liquidacao], colunas_comuns))\n",
    "\n",
    "display(Markdown(\"## Colunas específicas do dataset Pagamento\"))\n",
    "display(listar_colunas_nao_comuns ([df_pagamento], colunas_comuns))\n",
    "\n",
    "display(Markdown(\"## Colunas específicas do dataset Execução de despesas\"))\n",
    "display(listar_colunas_nao_comuns ([df_execucao_despesas], colunas_comuns))\n",
    "\n",
    "display(Markdown(\"## Colunas específicas do dataset Transferência de despesas\"))\n",
    "display(listar_colunas_nao_comuns ([df_transferencia_despesas], colunas_comuns))\n",
    "\n",
    "display(Markdown(\"## Colunas específicas do dataset Recursos por favorecido\"))\n",
    "display(listar_colunas_nao_comuns ([df_recursos_favorecidos], colunas_comuns))"
   ]
  },
  {
   "cell_type": "code",
   "execution_count": 31,
   "id": "4151abfb-7efa-4017-8e65-8601a660cd11",
   "metadata": {},
   "outputs": [],
   "source": [
    "def gerar_totais_coluna(df, nome_coluna):\n",
    "\n",
    "    valores_distintos = df.value_counts(nome_coluna)\n",
    "    \n",
    "    display(Markdown(f\"## Valores para coluna: {nome_coluna}\"))\n",
    "    display(Markdown(f'Número de valores distintos: **{valores_distintos.nunique()}**'))\n",
    "    display(valores_distintos)\n",
    "\n",
    "\n",
    "def descrever_dados_df (df, nome_df, colunas):\n",
    "\n",
    "    display(Markdown(f\"# Análise de valores para a tabela: {nome_df}\"))\n",
    "    \n",
    "    for coluna in colunas:\n",
    "        gerar_totais_coluna (df, coluna)"
   ]
  },
  {
   "cell_type": "code",
   "execution_count": 32,
   "id": "fc065882-21f0-4c3b-8ae8-4f2d3616496f",
   "metadata": {},
   "outputs": [
    {
     "data": {
      "text/markdown": [
       "# Análise de valores para a tabela: Empenho"
      ],
      "text/plain": [
       "<IPython.core.display.Markdown object>"
      ]
     },
     "metadata": {},
     "output_type": "display_data"
    },
    {
     "data": {
      "text/markdown": [
       "# Análise de valores para a tabela: Pagamentos"
      ],
      "text/plain": [
       "<IPython.core.display.Markdown object>"
      ]
     },
     "metadata": {},
     "output_type": "display_data"
    },
    {
     "data": {
      "text/markdown": [
       "# Análise de valores para a tabela: Liquidação"
      ],
      "text/plain": [
       "<IPython.core.display.Markdown object>"
      ]
     },
     "metadata": {},
     "output_type": "display_data"
    },
    {
     "data": {
      "text/markdown": [
       "# Análise de valores para a tabela: Execução de despesas"
      ],
      "text/plain": [
       "<IPython.core.display.Markdown object>"
      ]
     },
     "metadata": {},
     "output_type": "display_data"
    },
    {
     "data": {
      "text/markdown": [
       "# Análise de valores para a tabela: Transferência de despesas"
      ],
      "text/plain": [
       "<IPython.core.display.Markdown object>"
      ]
     },
     "metadata": {},
     "output_type": "display_data"
    },
    {
     "data": {
      "text/markdown": [
       "# Análise de valores para a tabela: Recursos por favorecido"
      ],
      "text/plain": [
       "<IPython.core.display.Markdown object>"
      ]
     },
     "metadata": {},
     "output_type": "display_data"
    }
   ],
   "source": [
    "\n",
    "# Colocar makdown: colunas comuns\n",
    "\n",
    "descrever_dados_df(df_empenho, \"Empenho\", colunas_comuns)\n",
    "\n",
    "descrever_dados_df(df_pagamento, \"Pagamentos\", colunas_comuns)\n",
    "\n",
    "descrever_dados_df(df_liquidacao, \"Liquidação\", colunas_comuns)\n",
    "\n",
    "descrever_dados_df(df_execucao_despesas, \"Execução de despesas\", colunas_comuns)\n",
    "\n",
    "descrever_dados_df(df_transferencia_despesas, \"Transferência de despesas\", colunas_comuns)\n",
    "\n",
    "descrever_dados_df(df_recursos_favorecidos, \"Recursos por favorecido\", colunas_comuns)"
   ]
  },
  {
   "cell_type": "code",
   "execution_count": null,
   "id": "6f68622c-aa82-498d-bd1d-f84322f81b69",
   "metadata": {},
   "outputs": [],
   "source": []
  }
 ],
 "metadata": {
  "kernelspec": {
   "display_name": "Ambiente Virtual",
   "language": "python",
   "name": "ambiente_virtual"
  },
  "language_info": {
   "codemirror_mode": {
    "name": "ipython",
    "version": 3
   },
   "file_extension": ".py",
   "mimetype": "text/x-python",
   "name": "python",
   "nbconvert_exporter": "python",
   "pygments_lexer": "ipython3",
   "version": "3.12.3"
  }
 },
 "nbformat": 4,
 "nbformat_minor": 5
}

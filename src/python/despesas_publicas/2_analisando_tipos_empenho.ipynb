{
 "cells": [
  {
   "cell_type": "code",
   "execution_count": null,
   "id": "5d7f255d-2245-42f3-8103-f98f9dd155a9",
   "metadata": {},
   "outputs": [],
   "source": [
    "import pandas as pd\n",
    "from IPython.display import Markdown, display"
   ]
  },
  {
   "cell_type": "code",
   "execution_count": null,
   "id": "eeccf4df-f050-4953-9497-c9185af46360",
   "metadata": {},
   "outputs": [],
   "source": [
    "pd.set_option('display.max_columns', None)\n",
    "pd.set_option('display.max_rows', 5)"
   ]
  },
  {
   "cell_type": "markdown",
   "id": "2e07d105-d8d8-47f1-8432-d301e29be04e",
   "metadata": {},
   "source": [
    "# Análise do Tema Despesas no Portal da Transparência\n",
    "\n",
    "**Fonte de Dados:**\n",
    "\n",
    "https://portaldatransparencia.gov.br/download-de-dados\n",
    "\n",
    "Link: https://portaldatransparencia.gov.br/download-de-dados/despesas\n",
    "\n",
    "\n",
    "\n",
    "*Outras fontes possíveis:\n",
    "Outras fontes para um segundo momento.\n",
    "Link: https://portaldatransparencia.gov.br/download-de-dados/despesas-execucao*"
   ]
  },
  {
   "cell_type": "code",
   "execution_count": null,
   "id": "7be55fe3-6e33-4a05-95a1-a183889a4ce7",
   "metadata": {},
   "outputs": [],
   "source": [
    "# Especifique o caminho para o seu arquivo CSV\n",
    "caminho_pasta = '../../../informações/despesas_publicas/'"
   ]
  },
  {
   "cell_type": "markdown",
   "id": "dd4a0a4b-e38c-4585-aa43-9bd80ae4771b",
   "metadata": {},
   "source": [
    "# Datasets\n",
    "\n",
    "São três datasets principais:\n",
    "\n",
    "* Empenho\n",
    "* Pagamento\n",
    "* Liquidação\n",
    "\n",
    "\n",
    "# Diferença entre Empenho, Liquidação e Pagamento na Contabilidade Pública Federal\n",
    "\n",
    "Na contabilidade pública federal brasileira, os termos **empenho**, **liquidação** e **pagamento** se referem às fases do processo de execução da despesa pública. Essas fases são obrigatórias e seguem uma ordem para assegurar o controle do uso dos recursos públicos. Aqui está a diferença entre eles:\n",
    "\n",
    "## 1. Empenho\n",
    "O empenho é a **primeira fase** da execução da despesa. Consiste na reserva de parte do orçamento público para a realização de uma determinada despesa. Ele é formalizado por meio de um documento chamado Nota de Empenho, que garante que há disponibilidade orçamentária para cobrir a despesa. O empenho pode ser:\n",
    "   - **Ordinário**: Para despesas cujo valor total é conhecido no momento do empenho.\n",
    "   - **Estimativo**: Para despesas contínuas e variáveis, como serviços públicos (água, energia).\n",
    "   - **Global**: Para despesas contratuais com execução ao longo do exercício financeiro.\n",
    "\n",
    "O empenho **não representa o pagamento imediato**, mas apenas uma garantia de que o valor está reservado no orçamento.\n",
    "\n",
    "## 2. Liquidação\n",
    "A liquidação é a **segunda fase** do processo de execução da despesa. Ela ocorre quando o serviço ou bem contratado foi entregue ou prestado, e é necessário verificar se o que foi solicitado está de acordo com o contrato ou a ordem de serviço. A liquidação consiste na **verificação da origem da dívida**, ou seja, se o bem ou serviço foi efetivamente entregue ou realizado conforme o contratado.\n",
    "\n",
    "Nesta fase, a Administração Pública comprova:\n",
    "   - A existência do direito adquirido pelo credor;\n",
    "   - O cumprimento das condições para o pagamento;\n",
    "   - O valor a ser pago.\n",
    "\n",
    "Ou seja, é o reconhecimento de que a despesa foi realizada e está apta para ser paga.\n",
    "\n",
    "## 3. Pagamento\n",
    "O pagamento é a **última fase** do processo de execução da despesa pública. Ele ocorre após a liquidação, quando a Administração Pública efetivamente transfere os recursos financeiros para o credor (fornecedor, prestador de serviços, etc.). É o momento em que a despesa se concretiza, ou seja, quando o dinheiro sai dos cofres públicos para cumprir a obrigação financeira gerada pelo empenho e verificada pela liquidação.\n",
    "\n",
    "## Resumo do processo:\n",
    "1. **Empenho**: Reserva do orçamento (garantia de que a despesa será paga no futuro).\n",
    "2. **Liquidação**: Verificação e comprovação de que o serviço ou bem foi entregue e está de acordo com o contrato.\n",
    "3. **Pagamento**: Transferência dos recursos financeiros ao credor.\n",
    "\n",
    "Essas etapas são fundamentais para garantir a legalidade, a transparência e o controle da execução da despesa pública, assegurando que os recursos sejam utilizados corretamente.\n"
   ]
  },
  {
   "cell_type": "code",
   "execution_count": null,
   "id": "3271fbcc-3ead-4547-b9ce-cb2b5e76275f",
   "metadata": {},
   "outputs": [],
   "source": [
    "csv_empenho = caminho_pasta + '20240101_Despesas/20240101_Despesas_Empenho.csv'\n",
    "csv_item_empenho = caminho_pasta + '20240101_Despesas/20240101_Despesas_ItemEmpenho.csv'\n",
    "csv_item_empenho_historico = caminho_pasta + '20240101_Despesas/20240101_Despesas_ItemEmpenhoHistorico.csv'\n",
    "\n",
    "df_empenho = pd.read_csv(csv_empenho, delimiter=';', encoding='latin1')\n",
    "df_item_empenho = pd.read_csv(csv_item_empenho, delimiter=';', encoding='latin1')\n",
    "df_item_empenho_historico = pd.read_csv(csv_item_empenho_historico, delimiter=';', encoding='latin1')"
   ]
  },
  {
   "cell_type": "code",
   "execution_count": null,
   "id": "d7ad1692-03a4-4105-8203-e1ffdc0e78fb",
   "metadata": {},
   "outputs": [],
   "source": [
    "display(Markdown(\"## Mostrando apenas as linhas com RFB na coluna 'Unidade Gestora' do DF 'Empenho'\"))\n",
    "\n",
    "df_empenho_rfb = df_empenho[df_empenho['Unidade Gestora'].str.contains('rfb', case=False, na=False)]\n",
    "\n",
    "# Selecionar colunas específicas\n",
    "colunas_desejadas_empenho = ['Id Empenho', 'Código Empenho', 'Data Emissão', 'Órgão Superior', \n",
    "                             'Código Unidade Gestora', 'Unidade Gestora', 'Código Favorecido',\n",
    "                             'Favorecido', 'Observação', 'Fonte Recurso', 'Unidade Orçamentária',\n",
    "                             'Ação', 'Código Elemento de Despesa', 'Elemento de Despesa', 'Processo',\n",
    "                            'Valor Original do Empenho', 'Valor do Empenho Convertido pra R$', 'Valor Utilizado na Conversão']\n",
    "df_selecionado = df_empenho_rfb[colunas_desejadas_empenho]\n",
    "\n",
    "# Exibir as colunas selecionadas\n",
    "display(df_selecionado)"
   ]
  },
  {
   "cell_type": "code",
   "execution_count": null,
   "id": "071497f2-889b-42bb-8889-351566800e09",
   "metadata": {},
   "outputs": [],
   "source": [
    "display(Markdown(\"## Mostrando o DF de 'Item de Empenho'\"))\n",
    "display(df_item_empenho)"
   ]
  },
  {
   "cell_type": "code",
   "execution_count": null,
   "id": "a651b467-00dc-4efc-9c79-3e69855b796d",
   "metadata": {},
   "outputs": [],
   "source": [
    "def listar_colunas_comuns(lista_dataframes):\n",
    "    # Obter as colunas do primeiro DataFrame\n",
    "    colunas_comuns = set(lista_dataframes[0].columns)\n",
    "    \n",
    "    # Iterar sobre os demais DataFrames e fazer interseção de colunas\n",
    "    for df in lista_dataframes[1:]:\n",
    "        colunas_comuns &= set(df.columns)\n",
    "    \n",
    "    return (list(colunas_comuns))\n",
    "\n",
    "colunas_comuns_item_empenho = listar_colunas_comuns([df_empenho, df_item_empenho])"
   ]
  },
  {
   "cell_type": "code",
   "execution_count": null,
   "id": "fa5e5b83-7432-4a62-bfa0-d1ff1cb4ae14",
   "metadata": {},
   "outputs": [],
   "source": [
    "display(Markdown(\"## Colunas em comum entre Empenho e Item de empenho\"))\n",
    "display(colunas_comuns_item_empenho)"
   ]
  },
  {
   "cell_type": "code",
   "execution_count": null,
   "id": "9327987f-0abb-411b-b51a-2b16779fdfc7",
   "metadata": {},
   "outputs": [],
   "source": [
    "display(Markdown(\"## Mostrando apenas as colunas em comum de Item de empenho em relação ao DF de 'Empenho'\"))\n",
    "# Selecionar colunas específicas\n",
    "colunas_desejadas_item_empenho = colunas_comuns_item_empenho\n",
    "df_selecionado = df_item_empenho[colunas_desejadas_item_empenho]\n",
    "\n",
    "# Exibir as colunas selecionadas\n",
    "display(df_selecionado)"
   ]
  },
  {
   "cell_type": "code",
   "execution_count": null,
   "id": "77751f75-7e0c-450d-b21b-a81ac2a8045f",
   "metadata": {},
   "outputs": [],
   "source": [
    "display(Markdown(\"## Mostrando o DF de 'Item de empenho histórico'\"))\n",
    "display(df_item_empenho_historico)"
   ]
  }
 ],
 "metadata": {
  "kernelspec": {
   "display_name": "Ambiente Virtual",
   "language": "python",
   "name": "ambiente_virtual"
  },
  "language_info": {
   "codemirror_mode": {
    "name": "ipython",
    "version": 3
   },
   "file_extension": ".py",
   "mimetype": "text/x-python",
   "name": "python",
   "nbconvert_exporter": "python",
   "pygments_lexer": "ipython3",
   "version": "3.12.3"
  }
 },
 "nbformat": 4,
 "nbformat_minor": 5
}

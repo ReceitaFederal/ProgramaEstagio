{
 "cells": [
  {
   "cell_type": "code",
   "execution_count": null,
   "id": "5d7f255d-2245-42f3-8103-f98f9dd155a9",
   "metadata": {},
   "outputs": [],
   "source": [
    "import pandas as pd\n",
    "from IPython.display import Markdown, display"
   ]
  },
  {
   "cell_type": "code",
   "execution_count": null,
   "id": "eeccf4df-f050-4953-9497-c9185af46360",
   "metadata": {},
   "outputs": [],
   "source": [
    "pd.set_option('display.max_columns', None)\n",
    "#pd.set_option('display.max_rows', 5)"
   ]
  },
  {
   "cell_type": "markdown",
   "id": "2e07d105-d8d8-47f1-8432-d301e29be04e",
   "metadata": {},
   "source": [
    "# Análise do Tema Despesas no Portal da Transparência\n",
    "\n",
    "**Fonte de Dados:**\n",
    "\n",
    "https://portaldatransparencia.gov.br/download-de-dados\n",
    "\n",
    "Link: https://portaldatransparencia.gov.br/download-de-dados/despesas\n",
    "\n",
    "\n",
    "\n",
    "*Outras fontes possíveis:\n",
    "Outras fontes para um segundo momento.\n",
    "Link: https://portaldatransparencia.gov.br/download-de-dados/despesas-execucao*"
   ]
  },
  {
   "cell_type": "code",
   "execution_count": null,
   "id": "7be55fe3-6e33-4a05-95a1-a183889a4ce7",
   "metadata": {},
   "outputs": [],
   "source": [
    "# Especifique o caminho para o seu arquivo CSV\n",
    "caminho_pasta = '../../../informações/despesas_publicas/'"
   ]
  },
  {
   "cell_type": "code",
   "execution_count": null,
   "id": "90c669c0-7672-4cf4-be34-d432f60c301b",
   "metadata": {},
   "outputs": [],
   "source": [
    "csv_transferencias_despesas = caminho_pasta + 'transferencias_despesas/202401_Transferencias.csv'\n",
    "\n",
    "df_transferencias_despesas = pd.read_csv(csv_transferencias_despesas, delimiter=';', encoding='latin1')"
   ]
  },
  {
   "cell_type": "code",
   "execution_count": null,
   "id": "9bcd99f6-b8ae-425a-b11b-6bed6936734b",
   "metadata": {},
   "outputs": [],
   "source": [
    "display(Markdown(\"## Mostrando o DF de 'Transferências de despesas'\"))\n",
    "display(df_transferencias_despesas.info())\n",
    "display(df_transferencias_despesas.sample(3))"
   ]
  },
  {
   "cell_type": "code",
   "execution_count": null,
   "id": "f352be68-17f6-4621-92de-78c8cc14693f",
   "metadata": {},
   "outputs": [],
   "source": [
    "display(Markdown(\"## Pesquisa por unidade RFB\"))\n",
    "df_transferencias_despesas_rfb = df_transferencias_despesas[df_transferencias_despesas['NOME UNIDADE GESTORA'].str.contains('rfb', case=False, na=False)]\n",
    "display(df_transferencias_despesas_rfb.info())\n",
    "display(df_transferencias_despesas_rfb)"
   ]
  },
  {
   "cell_type": "code",
   "execution_count": null,
   "id": "9ec38019-27fb-451d-9715-4be4234427f7",
   "metadata": {},
   "outputs": [],
   "source": [
    "pd.set_option('display.max_columns', None)\n",
    "pd.set_option('display.max_rows', None)\n",
    "\n",
    "valor_unicos_tipo_favorecido = df_transferencias_despesas['TIPO FAVORECIDO'].value_counts().reset_index()\n",
    "valor_unicos_nome_orgao = df_transferencias_despesas['NOME ÓRGÃO'].value_counts().reset_index()\n",
    "valor_unicos_nome_unidade_gestora = df_transferencias_despesas['NOME UNIDADE GESTORA'].value_counts().reset_index()\n",
    "valor_unicos_nome_elemento_despesa = df_transferencias_despesas['NOME ELEMENTO DESPESA'].value_counts().reset_index()\n",
    "valor_unicos_nome_favorecido = df_transferencias_despesas['NOME FAVORECIDO'].value_counts().reset_index()\n",
    "\n",
    "display(valor_unicos_tipo_favorecido)\n",
    "display(valor_unicos_nome_orgao)\n",
    "display(valor_unicos_nome_unidade_gestora)\n",
    "display(valor_unicos_nome_elemento_despesa)\n",
    "display(valor_unicos_nome_favorecido)"
   ]
  },
  {
   "cell_type": "code",
   "execution_count": null,
   "id": "7dc29e15-72c3-4fc0-bf04-54caa037bf13",
   "metadata": {},
   "outputs": [],
   "source": [
    "df_transferencias_despesas_pesquisa = df_transferencias_despesas[df_transferencias_despesas['NOME FAVORECIDO'].str.contains('MUNICIPIO DE AMERICANA', case=False, na=False)]\n",
    "display(df_transferencias_despesas_pesquisa)"
   ]
  },
  {
   "cell_type": "code",
   "execution_count": null,
   "id": "f0d1fc34-7ecd-462d-a8db-ff6c1d48168e",
   "metadata": {},
   "outputs": [],
   "source": []
  }
 ],
 "metadata": {
  "kernelspec": {
   "display_name": "Ambiente Virtual",
   "language": "python",
   "name": "ambiente_virtual"
  },
  "language_info": {
   "codemirror_mode": {
    "name": "ipython",
    "version": 3
   },
   "file_extension": ".py",
   "mimetype": "text/x-python",
   "name": "python",
   "nbconvert_exporter": "python",
   "pygments_lexer": "ipython3",
   "version": "3.12.3"
  }
 },
 "nbformat": 4,
 "nbformat_minor": 5
}

{
 "cells": [
  {
   "cell_type": "code",
   "execution_count": null,
   "id": "43b4bf7b-d0d6-4e41-ae77-e7d12401658c",
   "metadata": {},
   "outputs": [],
   "source": [
    "import pandas as pd"
   ]
  },
  {
   "cell_type": "code",
   "execution_count": null,
   "id": "8ad75924-55f5-41ee-a137-6ef1fd5f2469",
   "metadata": {},
   "outputs": [],
   "source": [
    "caminho_arquivo = \"../../dados/dados_siape_consolidado/receita_federal/cadastro_siape_receita_federal_mes_ano-2021-2023.csv\"\n",
    "\n",
    "df_rfb = pd.read_csv(caminho_arquivo)"
   ]
  },
  {
   "cell_type": "code",
   "execution_count": null,
   "id": "64a6411f-a7f8-45e8-93c9-99bf59b2ec28",
   "metadata": {},
   "outputs": [],
   "source": [
    "pd.set_option('display.max_columns', None)\n",
    "pd.set_option('display.max_rows', 10)"
   ]
  },
  {
   "cell_type": "code",
   "execution_count": null,
   "id": "a7a33de3-e481-4b20-a92c-bf1d28910edf",
   "metadata": {},
   "outputs": [],
   "source": [
    "df_rfb['ano_mes'] = df_rfb['ano'].astype(str) + '-' + df_rfb['mes'].astype(str).str.zfill(2)"
   ]
  },
  {
   "cell_type": "code",
   "execution_count": null,
   "id": "0d2eddc0-63bc-4b21-a1eb-e49e1e5cfd29",
   "metadata": {},
   "outputs": [],
   "source": [
    "df_rfb[\"REGIME_JURIDICO\"].value_counts()"
   ]
  },
  {
   "cell_type": "code",
   "execution_count": null,
   "id": "f19d88ce-ab28-4a92-9cdd-97392049e27b",
   "metadata": {},
   "outputs": [],
   "source": [
    "df_rfb[(df_rfb[\"REGIME_JURIDICO\"] == \"REGIME JURIDICO UNICO\") & (df_rfb[\"DESCRICAO_CARGO\"] == \"Inválido\")]"
   ]
  },
  {
   "cell_type": "code",
   "execution_count": null,
   "id": "85d69421-569c-4a3c-81ae-744e6c61bfa8",
   "metadata": {},
   "outputs": [],
   "source": [
    "df_rfb[df_rfb[\"DESCRICAO_CARGO\"] == \"Inválido\"].value_counts(\"REGIME_JURIDICO\")"
   ]
  },
  {
   "cell_type": "code",
   "execution_count": null,
   "id": "51e5997e-8899-49f2-a247-88731cbfa7e9",
   "metadata": {},
   "outputs": [],
   "source": [
    "def dicionario_servidores_e_estagio_uorg_lotacao_ano_mes (df_rfb):\n",
    "\n",
    "    dicionario_rfb = {}\n",
    "    \n",
    "    meses = df_rfb['ano_mes'].unique()\n",
    "\n",
    "    uorgs_lotacao = df_rfb[\"UORG_LOTACAO\"].unique()\n",
    "\n",
    "    contador = 0\n",
    "\n",
    "    quantidade_uorg_lotacao = len(uorgs_lotacao)\n",
    "    \n",
    "    for uorg_lotacao in uorgs_lotacao:\n",
    "\n",
    "        contador += 1\n",
    "                \n",
    "        for mes in meses: \n",
    "\n",
    "            display(f\"Processando o uorg_lotacao: {uorg_lotacao} ({contador} de {quantidade_uorg_lotacao}), mês: {mes}.\")\n",
    "            \n",
    "            qtd_regime_unico = df_rfb[\n",
    "                        df_rfb[\"REGIME_JURIDICO\"].str.contains(\"regime juridico unico\", na=False, case=False) &\n",
    "                        (df_rfb[\"UORG_LOTACAO\"] == uorg_lotacao) &\n",
    "                        (df_rfb['ano_mes'] == mes)][\"Id_SERVIDOR_PORTAL\"].count()\n",
    "            \n",
    "            qtd_estagiario =  df_rfb[\n",
    "                        df_rfb[\"REGIME_JURIDICO\"].str.contains(\"estag\", na=False, case=False) &\n",
    "                        (df_rfb[\"UORG_LOTACAO\"] == uorg_lotacao) &\n",
    "                        (df_rfb['ano_mes'] == mes)][\"Id_SERVIDOR_PORTAL\"].count()\n",
    "        \n",
    "            if not uorg_lotacao in dicionario_rfb:\n",
    "                dicionario_rfb[uorg_lotacao] = {}\n",
    "\n",
    "            dicionario_rfb[uorg_lotacao][mes] = {'regime_unico': qtd_regime_unico,'estagiarios': qtd_estagiario,'indice_estagio': qtd_estagiario/qtd_regime_unico}\n",
    "    \n",
    "    # Convertendo o dicionário em DataFrame\n",
    "    df_resultado = pd.DataFrame.from_dict({(i, j): dicionario_rfb[i][j] \n",
    "                                           for i in dicionario_rfb.keys() \n",
    "                                           for j in dicionario_rfb[i].keys()},\n",
    "                                          orient='index')\n",
    "\n",
    "    df_resultado = df_resultado.reset_index().rename(columns={'level_0': 'uorg_lotacao', 'level_1': 'ano_mes'})\n",
    "    \n",
    "    return df_resultado"
   ]
  },
  {
   "cell_type": "code",
   "execution_count": null,
   "id": "76afc434-9fcf-4088-a4a9-353bc98f9a06",
   "metadata": {},
   "outputs": [],
   "source": [
    "df_totais = dicionario_servidores_e_estagio_uorg_lotacao_ano_mes(df_rfb)"
   ]
  },
  {
   "cell_type": "code",
   "execution_count": null,
   "id": "47968854-840c-4e9a-9322-a4dde5372b84",
   "metadata": {},
   "outputs": [],
   "source": [
    "def gerar_grafico_indice_estagio (df, titulo):\n",
    "\n",
    "    display (Markdown(f'# {titulo}'))\n",
    "    \n",
    "    # Criar gráfico de linha\n",
    "    plt.figure(figsize=(10, 6))\n",
    "    \n",
    "    for org in df['uorg_lotacao'].unique():\n",
    "        df_org = df[df['uorg_lotacao'] == org]\n",
    "        x = df_org['ano_mes'].to_numpy()\n",
    "        y = df_org['indice_estagio'].to_numpy()\n",
    "        plt.plot(x, y, label=org)\n",
    "    \n",
    "    plt.title('Índice de Estágio ao longo do Tempo')\n",
    "    plt.xlabel('Ano Mês')\n",
    "    plt.ylabel('Índice de Estágio')\n",
    "    plt.legend()\n",
    "    plt.show()"
   ]
  },
  {
   "cell_type": "code",
   "execution_count": null,
   "id": "f69e9fe1-fda7-4105-aaeb-6c4ecb000811",
   "metadata": {},
   "outputs": [],
   "source": [
    "gerar_grafico_indice_estagio (df_totais, \"Índice estagiários/servidores nas unidades da RFB\")"
   ]
  }
 ],
 "metadata": {
  "kernelspec": {
   "display_name": "Python 3 (ipykernel)",
   "language": "python",
   "name": "python3"
  },
  "language_info": {
   "codemirror_mode": {
    "name": "ipython",
    "version": 3
   },
   "file_extension": ".py",
   "mimetype": "text/x-python",
   "name": "python",
   "nbconvert_exporter": "python",
   "pygments_lexer": "ipython3",
   "version": "3.10.12"
  }
 },
 "nbformat": 4,
 "nbformat_minor": 5
}

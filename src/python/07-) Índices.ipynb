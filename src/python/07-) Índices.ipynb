{
 "cells": [
  {
   "cell_type": "code",
   "execution_count": null,
   "id": "2fb6c11a-48d6-4ceb-8c20-510ad74c8c67",
   "metadata": {},
   "outputs": [],
   "source": [
    "'''!pip install plotly\n",
    "!pip install matplotlib\n",
    "!pip install seaborn'''"
   ]
  },
  {
   "cell_type": "code",
   "execution_count": null,
   "id": "47e0061c-9599-4420-b68d-f25eec0ae644",
   "metadata": {},
   "outputs": [],
   "source": [
    "import pandas as pd\n",
    "import plotly.express as px\n",
    "import plotly.graph_objects as go\n",
    "import matplotlib.pyplot as plt\n",
    "from IPython.display import display, Markdown\n",
    "import seaborn as sns"
   ]
  },
  {
   "cell_type": "code",
   "execution_count": null,
   "id": "17a86b6e-9611-436f-a622-82d90c9f2620",
   "metadata": {},
   "outputs": [],
   "source": [
    "pd.set_option('display.max_columns', None)\n",
    "pd.set_option('display.max_rows', 100)"
   ]
  },
  {
   "cell_type": "code",
   "execution_count": null,
   "id": "ae898168-cecc-4e9c-a567-75c369f1526a",
   "metadata": {},
   "outputs": [],
   "source": [
    "# Especifique o caminho para o seu arquivo CSV\n",
    "caminho_arquivo = '../../dados/dados_siape_consolidado/org_exercicio/cadastro_siape_consolidado_org_exercicio_mes_ano_completo-2021-2023.csv'\n",
    "\n",
    "df_orgaos = pd.read_csv(caminho_arquivo)"
   ]
  },
  {
   "cell_type": "code",
   "execution_count": null,
   "id": "bfb2929d-dc7f-4a4f-81d6-07e876131838",
   "metadata": {},
   "outputs": [],
   "source": [
    "df_orgaos['ano'].unique()"
   ]
  },
  {
   "cell_type": "code",
   "execution_count": null,
   "id": "736d2e4c-169f-4347-b970-fd30871a4b86",
   "metadata": {},
   "outputs": [],
   "source": [
    "df_orgaos['ano_mes'] = df_orgaos['ano'].astype(str) + '-' + df_orgaos['mes'].astype(str).str.zfill(2)"
   ]
  },
  {
   "cell_type": "code",
   "execution_count": null,
   "id": "ce40df98-9c7f-4cdc-9e24-b8f1f872bf24",
   "metadata": {},
   "outputs": [],
   "source": [
    "df_orgaos['ano_mes']"
   ]
  },
  {
   "cell_type": "code",
   "execution_count": null,
   "id": "6b03a0f6-8329-4f17-ba7f-f8613ee34fb2",
   "metadata": {},
   "outputs": [],
   "source": [
    "df_orgaos.info()"
   ]
  },
  {
   "cell_type": "code",
   "execution_count": null,
   "id": "94c04ce2-d960-40d0-b2b2-8e16254d7c69",
   "metadata": {},
   "outputs": [],
   "source": [
    "def dicionario_servidores_e_estagio_orgao_ano_mes (df_orgaos, orgaos_escolhidos):\n",
    "\n",
    "    dicionario_orgaos = {}\n",
    "    \n",
    "    meses = df_orgaos['ano_mes'].unique()\n",
    "\n",
    "    for orgao in orgaos_escolhidos:\n",
    "\n",
    "        display (orgao)\n",
    "        \n",
    "        for mes in meses:                \n",
    "            \n",
    "            qtd_regime_unico = df_orgaos[\n",
    "                        df_orgaos[\"REGIME_JURIDICO\"].str.contains(\"regime juridico unico\", na=False, case=False) &\n",
    "                        df_orgaos[\"ORG_EXERCICIO\"].str.contains(orgao, na=False, case=False) &\n",
    "                        (df_orgaos['ano_mes'] == mes)][\"Contagem\"].sum()\n",
    "            \n",
    "            qtd_estagiario =  df_orgaos[\n",
    "                        df_orgaos[\"REGIME_JURIDICO\"].str.contains(\"estag\", na=False, case=False) &\n",
    "                        df_orgaos[\"ORG_EXERCICIO\"].str.contains(orgao, na=False, case=False) &\n",
    "                        (df_orgaos['ano_mes'] == mes)][\"Contagem\"].sum()\n",
    "\n",
    "            if not orgao in dicionario_orgaos:\n",
    "                dicionario_orgaos[orgao] = {}\n",
    "\n",
    "                        \n",
    "            dicionario_orgaos[orgao][mes] = {'regime_unico': qtd_regime_unico,'estagiarios': qtd_estagiario,'indice_estagio': qtd_estagiario/qtd_regime_unico}\n",
    "\n",
    "    # Convertendo o dicionário em DataFrame\n",
    "    df_resultado = pd.DataFrame.from_dict({(i, j): dicionario_orgaos[i][j] \n",
    "                                           for i in dicionario_orgaos.keys() \n",
    "                                           for j in dicionario_orgaos[i].keys()},\n",
    "                                          orient='index')\n",
    "\n",
    "    df_resultado = df_resultado.reset_index().rename(columns={'level_0': 'org_exercicio', 'level_1': 'ano_mes'})\n",
    "    \n",
    "    return df_resultado\n",
    "    \n",
    "\n",
    "\n",
    "\n"
   ]
  },
  {
   "cell_type": "code",
   "execution_count": null,
   "id": "7c15a732-0445-47f4-8870-36690535ad3c",
   "metadata": {},
   "outputs": [],
   "source": [
    "\n",
    "def gerar_grafico_indice_estagio (df, titulo):\n",
    "\n",
    "    display (Markdown(f'# {titulo}'))\n",
    "    \n",
    "    # Criar gráfico de linha\n",
    "    plt.figure(figsize=(10, 6))\n",
    "    \n",
    "    for org in df['org_exercicio'].unique():\n",
    "        df_org = df[df['org_exercicio'] == org]\n",
    "        x = df_org['ano_mes'].to_numpy()\n",
    "        y = df_org['indice_estagio'].to_numpy()\n",
    "        plt.plot(x, y, label=org)\n",
    "    \n",
    "    plt.title('Índice de Estágio ao longo do Tempo')\n",
    "    plt.xlabel('Ano Mês')\n",
    "    plt.ylabel('Índice de Estágio')\n",
    "    plt.legend()\n",
    "    plt.show()"
   ]
  },
  {
   "cell_type": "code",
   "execution_count": null,
   "id": "27c80b2a-753e-4d8c-9804-a46d1644f136",
   "metadata": {},
   "outputs": [],
   "source": [
    "orgaos_escolhidos = [\n",
    "    'ministério da economia', \n",
    "    'ministerio da fazenda'\n",
    "    ]\n",
    "\n",
    "df_resultado_fazenda_e_economia = dicionario_servidores_e_estagio_orgao_ano_mes(df_orgaos, orgaos_escolhidos)\n",
    "\n",
    "gerar_grafico_indice_estagio (df_resultado_fazenda_e_economia, \"Índice estagiários/servidores no Ministério da Fazenda e Ministério da Economia\")"
   ]
  },
  {
   "cell_type": "code",
   "execution_count": null,
   "id": "94612503-316f-446c-9b31-64ab4fff93af",
   "metadata": {},
   "outputs": [],
   "source": [
    "df_resultado"
   ]
  },
  {
   "cell_type": "code",
   "execution_count": null,
   "id": "0f1c99e5-e925-4e3d-8a86-bd80d7c35ac9",
   "metadata": {},
   "outputs": [],
   "source": [
    "orgaos_escolhidos = [\n",
    "    'Instituto Nacional do Seguro Social',\n",
    "    'ministério da economia', \n",
    "    'ministerio da fazenda',\n",
    "    'Advocacia-Geral da União' ,     \n",
    "    'Ministério da Ciência, Tecnologia, Inovações e Comunicações', \n",
    "    'Ministério da Saúde'\n",
    "]\n",
    "\n",
    "df_todos_orgaos_escolhidos = dicionario_servidores_e_estagio_orgao_ano_mes(df_orgaos, orgaos_escolhidos)"
   ]
  },
  {
   "cell_type": "code",
   "execution_count": null,
   "id": "26f400cb-97ce-4303-bab5-d1a2c2c38941",
   "metadata": {},
   "outputs": [],
   "source": [
    "\n",
    "\n",
    "gerar_grafico_indice_estagio (df_todos_orgaos_escolhidos, \"Índice estagiários/servidores nos Órgãos escolhidos\")"
   ]
  }
 ],
 "metadata": {
  "kernelspec": {
   "display_name": "Python 3 (ipykernel)",
   "language": "python",
   "name": "python3"
  },
  "language_info": {
   "codemirror_mode": {
    "name": "ipython",
    "version": 3
   },
   "file_extension": ".py",
   "mimetype": "text/x-python",
   "name": "python",
   "nbconvert_exporter": "python",
   "pygments_lexer": "ipython3",
   "version": "3.10.12"
  }
 },
 "nbformat": 4,
 "nbformat_minor": 5
}
